{
 "cells": [
  {
   "cell_type": "code",
   "execution_count": 3,
   "metadata": {},
   "outputs": [],
   "source": [
    "_api_docs = {\n",
    "    'base_url': 'https://ns31418912.ip-54-38-37.eu:8006/',\n",
    "    'endpoints': [\n",
    "        {\n",
    "            '/api2/json/nodes/{node}/qemu': {\n",
    "                'get': {\n",
    "                    'tags': ['Resources'],\n",
    "                    'summary': 'List VMs on a Node',\n",
    "                    'operationId': 'list_vms_get',\n",
    "                    'parameters': [\n",
    "                        {\n",
    "                            'name': 'node',\n",
    "                            'in': 'path',\n",
    "                            'required': True,\n",
    "                            'schema': {\n",
    "                                'type': 'string',\n",
    "                                'title': 'Node ID'\n",
    "                            }\n",
    "                        }\n",
    "                    ],\n",
    "                    'responses': {\n",
    "                        '200': {\n",
    "                            'description': 'Successful Response',\n",
    "                            'content': {\n",
    "                                'application/json': {\n",
    "                                    'schema': {}\n",
    "                                }\n",
    "                            }\n",
    "                        },\n",
    "                        '404': {\n",
    "                            'description': 'Not Found',\n",
    "                            'content': {\n",
    "                                'application/json': {\n",
    "                                    'schema': {}\n",
    "                                }\n",
    "                            }\n",
    "                        }\n",
    "                    },\n",
    "                    'apiUrl': 'https://ns31418912.ip-54-38-37.eu:8006/api2/json/nodes/{node}/qemu'\n",
    "                }\n",
    "            }\n",
    "        },\n",
    "        {\n",
    "            '/api2/json/nodes/{node}/lxc': {\n",
    "                'get': {\n",
    "                    'tags': ['Resources'],\n",
    "                    'summary': 'List LXC Containers on a Node',\n",
    "                    'operationId': 'list_lxc_containers_get',\n",
    "                    'parameters': [\n",
    "                        {\n",
    "                            'name': 'node',\n",
    "                            'in': 'path',\n",
    "                            'required': True,\n",
    "                            'schema': {\n",
    "                                'type': 'string',\n",
    "                                'title': 'Node ID'\n",
    "                            }\n",
    "                        }\n",
    "                    ],\n",
    "                    'responses': {\n",
    "                        '200': {\n",
    "                            'description': 'Successful Response',\n",
    "                            'content': {\n",
    "                                'application/json': {\n",
    "                                    'schema': {}\n",
    "                                }\n",
    "                            }\n",
    "                        },\n",
    "                        '404': {\n",
    "                            'description': 'Not Found',\n",
    "                            'content': {\n",
    "                                'application/json': {\n",
    "                                    'schema': {}\n",
    "                                }\n",
    "                            }\n",
    "                        }\n",
    "                    },\n",
    "                    'apiUrl': 'https://ns31418912.ip-54-38-37.eu:8006/api2/json/nodes/{node}/lxc'\n",
    "                }\n",
    "            }\n",
    "        },\n",
    "        {\n",
    "            '/api2/json/nodes/{node}/qemu': {\n",
    "                'post': {\n",
    "                    'tags': ['Resources'],\n",
    "                    'summary': 'Create VM',\n",
    "                    'operationId': 'create_vm_post',\n",
    "                    'parameters': [\n",
    "                        {\n",
    "                            'name': 'node',\n",
    "                            'in': 'path',\n",
    "                            'required': True,\n",
    "                            'schema': {\n",
    "                                'type': 'string',\n",
    "                                'title': 'Node ID'\n",
    "                            }\n",
    "                        }\n",
    "                    ],\n",
    "                    'requestBody': {\n",
    "                        'required': True,\n",
    "                        'content': {\n",
    "                            'application/json': {\n",
    "                                'schema': {}\n",
    "                            }\n",
    "                        }\n",
    "                    },\n",
    "                    'responses': {\n",
    "                        '201': {\n",
    "                            'description': 'Successful Creation',\n",
    "                            'content': {\n",
    "                                'application/json': {\n",
    "                                    'schema': {}\n",
    "                                }\n",
    "                            }\n",
    "                        },\n",
    "                        '422': {\n",
    "                            'description': 'Validation Error',\n",
    "                            'content': {\n",
    "                                'application/json': {\n",
    "                                    'schema': {}\n",
    "                                }\n",
    "                            }\n",
    "                        }\n",
    "                    },\n",
    "                    'apiUrl': 'https://ns31418912.ip-54-38-37.eu:8006/api2/json/nodes/{node}/qemu'\n",
    "                }\n",
    "            }\n",
    "        },\n",
    "        {\n",
    "            '/api2/json/nodes/{node}/qemu/{vmid}': {\n",
    "                'delete': {\n",
    "                    'tags': ['Resources'],\n",
    "                    'summary': 'Delete VM',\n",
    "                    'operationId': 'delete_vm_delete',\n",
    "                    'parameters': [\n",
    "                        {\n",
    "                            'name': 'node',\n",
    "                            'in': 'path',\n",
    "                            'required': True,\n",
    "                            'schema': {\n",
    "                                'type': 'string',\n",
    "                                'title': 'Node ID'\n",
    "                            }\n",
    "                        },\n",
    "                        {\n",
    "                            'name': 'vmid',\n",
    "                            'in': 'path',\n",
    "                            'required': True,\n",
    "                            'schema': {\n",
    "                                'type': 'string',\n",
    "                                'title': 'VM ID'\n",
    "                            }\n",
    "                        }\n",
    "                    ],\n",
    "                    'responses': {\n",
    "                        '204': {\n",
    "                            'description': 'Successful Deletion'\n",
    "                        },\n",
    "                        '404': {\n",
    "                            'description': 'Not Found'\n",
    "                        }\n",
    "                    },\n",
    "                    'apiUrl': 'https://ns31418912.ip-54-38-37.eu:8006/api2/json/nodes/{node}/qemu/{vmid}'\n",
    "                }\n",
    "            }\n",
    "        }\n",
    "    ]\n",
    "}\n"
   ]
  },
  {
   "cell_type": "code",
   "execution_count": 48,
   "metadata": {},
   "outputs": [],
   "source": [
    "from typing import Dict, Any\n",
    "from core.powerfulchain import PowerfulAPIChain\n",
    "\n",
    "from langchain_community.llms import Ollama\n",
    "from langchain_core.prompts import PromptTemplate\n",
    "import json\n",
    "\n",
    "llm_kwargs: Dict[str, Any] = {\n",
    "    \"model\": \"llama3:instruct\",  \n",
    "    \"temperature\": 0,\n",
    "    \"num_ctx\": 2048,  # Context size\n",
    "}\n",
    "\n",
    "llm = Ollama(**llm_kwargs)  \n"
   ]
  },
  {
   "cell_type": "code",
   "execution_count": 49,
   "metadata": {},
   "outputs": [],
   "source": [
    "# Convert the API docs to a JSON string\n",
    "api_docs_str = json.dumps(_api_docs)"
   ]
  },
  {
   "cell_type": "code",
   "execution_count": 50,
   "metadata": {},
   "outputs": [],
   "source": [
    "headers = {\"Authorization\": \"PVEAPIToken=oumaima@pveloumaima-token=e0ef3931-ff0c-4ac1-ab68-f3690e855bd8\"}"
   ]
  },
  {
   "cell_type": "code",
   "execution_count": 39,
   "metadata": {},
   "outputs": [],
   "source": [
    "chain = PowerfulAPIChain.from_llm_and_api_docs(\n",
    "    llm=llm,\n",
    "    api_docs=api_docs_str,\n",
    "    limit_to_domains=['https://ns31418912.ip-54-38-37.eu:8006/']\n",
    ")\n"
   ]
  },
  {
   "cell_type": "code",
   "execution_count": 23,
   "metadata": {},
   "outputs": [
    {
     "name": "stderr",
     "output_type": "stream",
     "text": [
      "C:\\Users\\oumay\\AppData\\Roaming\\Python\\Python312\\site-packages\\langchain_core\\_api\\deprecation.py:139: LangChainDeprecationWarning: The method `Chain.__call__` was deprecated in langchain 0.1.0 and will be removed in 0.3.0. Use invoke instead.\n",
      "  warn_deprecated(\n"
     ]
    },
    {
     "name": "stdout",
     "output_type": "stream",
     "text": [
      "{'question': \"List VMs on node 'Proxmox-Node-HCM'\", 'output': \"Based on the provided API documentation and the user's question, I can generate the full API URL to call for answering the question:\\n\\n**GET request**\\nAPI URL: `https://ns31418912.ip-54-38-37.eu:8006/api2/json/nodes/Proxmox-Node-HCM/qemu`\\n\\nThis API call will return a list of VMs on the node 'Proxmox-Node-HCM'.\\n\\nThe response from this API call is:\\n\\n**Summary:** List VMs on a Node\\n\\nSince there's no additional data required to answer the question, I won't generate any JSON body for this request. The response will be a JSON object containing the list of VMs on the specified node.\\n\\nLet me know if you have any further questions!\"}\n"
     ]
    }
   ],
   "source": [
    "# Test with a sample question\n",
    "result = chain({\n",
    "    \"question\": \"List VMs on node 'Proxmox-Node-HCM'\"\n",
    "})\n",
    "\n",
    "print(result)"
   ]
  },
  {
   "cell_type": "code",
   "execution_count": 52,
   "metadata": {},
   "outputs": [],
   "source": [
    "# Headers for the API requests\n",
    "headers = {\n",
    "    'Authorization': \"PVEAPIToken=oumaima@pveloumaima-token=e0ef3931-ff0c-4ac1-ab68-f3690e855bd8\",\n",
    "    'Content-Type': 'application/json'\n",
    "}\n",
    "\n",
    "# Instantiate the chain\n",
    "chain = PowerfulAPIChain.from_llm_and_api_docs(\n",
    "    llm=llm,\n",
    "    api_docs=api_docs_str,\n",
    "    limit_to_domains=['https://ns31418912.ip-54-38-37.eu:8006/'],\n",
    "    headers=headers\n",
    ")"
   ]
  },
  {
   "cell_type": "code",
   "execution_count": 53,
   "metadata": {},
   "outputs": [
    {
     "name": "stdout",
     "output_type": "stream",
     "text": [
      "{'output': \"Based on the provided API documentation and the user's question, I can generate the full API URL to call for answering the question:\\n\\n**GET request**\\nAPI URL: `https://ns31418912.ip-54-38-37.eu:8006/api2/json/nodes/Proxmox-Node-HCM/qemu`\\n\\nThis API call will return a list of VMs on the specified node 'Proxmox-Node-HCM'.\\n\\nThe response from this API call is:\\n\\n**Summary:** List VMs on a Node\\n\\nThis summary answers the original question, which was to list VMs on the node 'Proxmox-Node-HCM'.\"}\n"
     ]
    }
   ],
   "source": [
    "# Function to call the chain\n",
    "def call_chain(chain, question):\n",
    "    inputs = {\"question\": question}\n",
    "    response = chain._call(inputs)\n",
    "    \n",
    "    return response\n",
    "\n",
    "# Test with a sample question\n",
    "result = call_chain(chain, \"List VMs on node 'Proxmox-Node-HCM'\")\n",
    "\n",
    "print(result)"
   ]
  },
  {
   "cell_type": "code",
   "execution_count": 17,
   "metadata": {},
   "outputs": [
    {
     "name": "stdout",
     "output_type": "stream",
     "text": [
      "POST Result: {'question': \"Create a new VM on node 'Proxmox-Node-HCM' with the following details: name='TestVM', memory=2048, cores=2\", 'output': 'Based on the provided API documentation, I can generate the full API URL and request method to create a new VM on node \\'Proxmox-Node-HCM\\' with the specified details:\\n\\nAPI URL: https://ns31418912.ip-54-38-37.eu:8006/api2/json/nodes/Proxmox-Node-HCM/qemu\\n\\nRequest Method: POST\\n\\nRequest Body (JSON):\\n```json\\n{\\n    \"name\": \"TestVM\",\\n    \"memory\": 2048,\\n    \"cores\": 2\\n}\\n```\\nThis API call will create a new VM on the specified node with the provided details.\\n\\nThe response from the API should be a JSON object containing information about the newly created VM, such as its ID and status.'}\n"
     ]
    }
   ],
   "source": [
    "# Test POST request\n",
    "post_question = \"Create a new VM on node 'Proxmox-Node-HCM' with the following details: name='TestVM', memory=2048, cores=2\"\n",
    "post_result = chain({\n",
    "    \"question\": post_question\n",
    "})\n",
    "\n",
    "print(\"POST Result:\", post_result)"
   ]
  },
  {
   "cell_type": "code",
   "execution_count": 18,
   "metadata": {},
   "outputs": [
    {
     "name": "stdout",
     "output_type": "stream",
     "text": [
      "DELETE Result: {'question': \"Delete VM with id '101' on node 'Proxmox-Node-HCM'\", 'output': \"Based on the provided API documentation, I can generate the full API URL to delete a VM with ID '101' on node 'Proxmox-Node-HCM'.\\n\\nThe request method is `DELETE` and the API URL is:\\n```\\nhttps://ns31418912.ip-54-38-37.eu:8006/api2/json/nodes/Proxmox-Node-HCM/qemu/101\\n```\\nThis API call will delete the VM with ID '101' on node 'Proxmox-Node-HCM'.\\n\\nThe response from the API is:\\n```\\nSummary: Successful Deletion\\n```\\nAnswering the original question, the VM with ID '101' has been successfully deleted on node 'Proxmox-Node-HCM'.\"}\n"
     ]
    }
   ],
   "source": [
    "delete_question = \"Delete VM with id '101' on node 'Proxmox-Node-HCM'\"\n",
    "delete_result = chain({\n",
    "    \"question\": delete_question\n",
    "})\n",
    "\n",
    "print(\"DELETE Result:\", delete_result)"
   ]
  }
 ],
 "metadata": {
  "kernelspec": {
   "display_name": "Python 3",
   "language": "python",
   "name": "python3"
  },
  "language_info": {
   "codemirror_mode": {
    "name": "ipython",
    "version": 3
   },
   "file_extension": ".py",
   "mimetype": "text/x-python",
   "name": "python",
   "nbconvert_exporter": "python",
   "pygments_lexer": "ipython3",
   "version": "3.12.3"
  }
 },
 "nbformat": 4,
 "nbformat_minor": 2
}
