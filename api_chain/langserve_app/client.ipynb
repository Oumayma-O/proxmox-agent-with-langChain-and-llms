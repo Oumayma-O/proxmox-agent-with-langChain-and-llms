{
 "cells": [
  {
   "cell_type": "code",
   "execution_count": 17,
   "metadata": {},
   "outputs": [
    {
     "name": "stdout",
     "output_type": "stream",
     "text": [
      "Success: {'output': \"Here is the list of Virtual Machines (VMs) on the node 'Proxmox-Node-HCM':\\n\\n1. my-vm (vmid: 9999) - stopped\\n2. primary-test (vmid: 110) - running\\n3. MLFlow (vmid: 112) - running\\n4. PgSQL-IMX (vmid: 104) - running\\n5. PgSQL-IMX-Replicaset (vmid: 108) - running\\n6. Mongo-IMX (vmid: 100) - running\\n7. test-vm (vmid: 1001) - running\\n8. Ansible-controller (vmid: 106) - running\\n9. SurrealDB-IMX (vmid: 102) - running\\n10. NewRelic-GitLab (vmid: 2000) - running\\n11. PgSQL-Primary (vmid: 109) - running\\n12. test-vault01 (vmid: 101) - running\\n13. VM 10001 (vmid: 10001) - stopped\\n14. VM 10002 (vmid: 10002) - stopped\\n15. VM 10004 (vmid: 10004) - stopped\\n16. test-slave (vmid: 111) - running\\n17. test-vm (vmid: 10000) - stopped\\n18. test-mfa (vmid: 107) - running\", 'metadata': {'run_id': 'b873ab73-4d28-4449-8dae-c732aedbf268', 'feedback_tokens': []}}\n"
     ]
    }
   ],
   "source": [
    "import requests\n",
    "import json\n",
    "\n",
    "inputs = {\"input\": \"list Vms on node 'Proxmox-Node-HCM'\"}\n",
    "response = requests.post(\"http://localhost:6001/invoke\", json=inputs)\n",
    "\n",
    "# Check if the response was successful\n",
    "if response.status_code == 200:\n",
    "    print(\"Success:\", response.json())\n",
    "else:\n",
    "    print(f\"Error {response.status_code}: {response.text}\")"
   ]
  },
  {
   "cell_type": "code",
   "execution_count": null,
   "metadata": {},
   "outputs": [],
   "source": []
  }
 ],
 "metadata": {
  "kernelspec": {
   "display_name": "venv",
   "language": "python",
   "name": "python3"
  },
  "language_info": {
   "codemirror_mode": {
    "name": "ipython",
    "version": 3
   },
   "file_extension": ".py",
   "mimetype": "text/x-python",
   "name": "python",
   "nbconvert_exporter": "python",
   "pygments_lexer": "ipython3",
   "version": "3.12.3"
  }
 },
 "nbformat": 4,
 "nbformat_minor": 2
}
