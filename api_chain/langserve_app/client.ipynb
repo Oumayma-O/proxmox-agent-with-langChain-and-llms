{
 "cells": [
  {
   "cell_type": "code",
   "execution_count": 4,
   "metadata": {},
   "outputs": [
    {
     "name": "stdout",
     "output_type": "stream",
     "text": [
      "Success: {'output': \"Here is the list of Virtual Machines (VMs) on the node 'Proxmox-Node-HCM':\\n\\n1. PgSQL-IMX\\n2. PgSQL-IMX-Replicaset\\n3. MLFlow\\n4. primary-test\\n5. my-vm\\n6. Ansible-controller\\n7. SurrealDB-IMX\\n8. Mongo-IMX\\n9. test-vm\\n10. VM 10002\\n11. VM 10004\\n12. test-vault01\\n13. VM 10001\\n14. NewRelic-GitLab\\n15. PgSQL-Primary\\n16. test-slave\\n17. test-vm\\n18. test-mfa\", 'metadata': {'run_id': 'c2946ca0-eda2-4256-bbc9-5e00510df1c4', 'feedback_tokens': []}}\n"
     ]
    }
   ],
   "source": [
    "import requests\n",
    "import json\n",
    "\n",
    "inputs = {\"input\": \"list Vms on node 'Proxmox-Node-HCM'\"}\n",
    "response = requests.post(\"http://localhost:6001/invoke\", json=inputs)\n",
    "\n",
    "if response.status_code == 200:\n",
    "    print(\"Success:\", response.json())\n",
    "else:\n",
    "    print(f\"Error {response.status_code}: {response.text}\")"
   ]
  },
  {
   "cell_type": "code",
   "execution_count": null,
   "metadata": {},
   "outputs": [],
   "source": []
  }
 ],
 "metadata": {
  "kernelspec": {
   "display_name": "venv",
   "language": "python",
   "name": "python3"
  },
  "language_info": {
   "codemirror_mode": {
    "name": "ipython",
    "version": 3
   },
   "file_extension": ".py",
   "mimetype": "text/x-python",
   "name": "python",
   "nbconvert_exporter": "python",
   "pygments_lexer": "ipython3",
   "version": "3.12.3"
  }
 },
 "nbformat": 4,
 "nbformat_minor": 2
}
