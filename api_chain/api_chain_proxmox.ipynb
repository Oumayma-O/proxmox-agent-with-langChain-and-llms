{
 "cells": [
  {
   "cell_type": "code",
   "execution_count": 1,
   "metadata": {},
   "outputs": [],
   "source": [
    "from proxmox.docs import _proxmox_api_docs\n",
    "from langchain.text_splitter import RecursiveJsonSplitter\n",
    "from langchain_community.embeddings.sentence_transformer import SentenceTransformerEmbeddings\n",
    "from typing import Dict, Any\n",
    "from langchain_community.llms import Ollama\n",
    "from proxmox.base import ProxmoxAPIChain\n",
    "from langchain.retrievers import ContextualCompressionRetriever\n",
    "from langchain_community.cross_encoders import HuggingFaceCrossEncoder\n",
    "from langchain.retrievers.document_compressors import CrossEncoderReranker\n",
    "from langchain_community.vectorstores.surrealdb import SurrealDBStore\n",
    "from tqdm import tqdm, trange  \n",
    "import os\n",
    "import hvac\n",
    "import nest_asyncio"
   ]
  },
  {
   "cell_type": "code",
   "execution_count": 2,
   "metadata": {},
   "outputs": [],
   "source": [
    "from langfuse.callback import CallbackHandler\n",
    "langfuse_handler = CallbackHandler(\n",
    "    public_key=os.getenv('LANGFUSE_PUBLIC_KEY'),\n",
    "    secret_key=os.getenv('LANGFUSE_SECRET_KEY'),\n",
    "    host=os.getenv('LANGFUSE_HOST'),\n",
    ")"
   ]
  },
  {
   "cell_type": "code",
   "execution_count": 3,
   "metadata": {},
   "outputs": [],
   "source": [
    "splitter = RecursiveJsonSplitter(max_chunk_size=4000)\n",
    "docs = splitter.create_documents(_proxmox_api_docs)"
   ]
  },
  {
   "cell_type": "code",
   "execution_count": 4,
   "metadata": {},
   "outputs": [],
   "source": [
    "llm_kwargs: Dict[str, Any] = {\n",
    "    \"model\": \"llama3.1\",\n",
    "    \"temperature\": 0,\n",
    "    \"num_ctx\": 4096, \n",
    "}\n",
    "\n",
    "llm = Ollama(**llm_kwargs)"
   ]
  },
  {
   "cell_type": "code",
   "execution_count": 5,
   "metadata": {},
   "outputs": [],
   "source": [
    "from langchain_google_genai import ChatGoogleGenerativeAI\n",
    "\n",
    "# Initialize the llm with the new model\n",
    "llm = ChatGoogleGenerativeAI(model=\"gemini-1.5-flash-latest\", temperature=0)"
   ]
  },
  {
   "cell_type": "code",
   "execution_count": 33,
   "metadata": {},
   "outputs": [
    {
     "name": "stderr",
     "output_type": "stream",
     "text": [
      "C:\\Users\\oumay\\AppData\\Local\\Temp\\ipykernel_4444\\3959080105.py:12: DeprecationWarning: The raise_on_deleted_version parameter will change its default value to False in hvac v3.0.0. The current default of True will presere previous behavior. To use the old behavior with no warning, explicitly set this value to True. See https://github.com/hvac/hvac/pull/907\n",
      "  response = client.secrets.kv.v2.read_secret_version(path=secret_path, mount_point=\"kv\")\n"
     ]
    },
    {
     "name": "stdout",
     "output_type": "stream",
     "text": [
      "Request to Vault failed: 2 errors occurred:\n",
      "\t* permission denied\n",
      "\t* invalid token\n",
      "\n",
      ", on get http://46.105.247.55:8200/v1/kv/data/users/accounts/api-tokens/proxmox/oumaima\n",
      "Failed to retrieve Proxmox API token.\n",
      "Request to Vault failed: 2 errors occurred:\n",
      "\t* permission denied\n",
      "\t* invalid token\n",
      "\n",
      ", on get http://46.105.247.55:8200/v1/kv/data/users/accounts/surrealdb\n",
      "Failed to retrieve SurrealDB URL.\n",
      "Request to Vault failed: 2 errors occurred:\n",
      "\t* permission denied\n",
      "\t* invalid token\n",
      "\n",
      ", on get http://46.105.247.55:8200/v1/kv/data/users/accounts/surrealdb/oumaima\n",
      "Failed to retrieve SurrealDB credentials.\n"
     ]
    }
   ],
   "source": [
    "def get_vault_token():\n",
    "    token = os.getenv('VAULT_TOKEN')\n",
    "    if not token:\n",
    "        token = input(\"Vault token: \").strip()\n",
    "        os.environ['VAULT_TOKEN'] = token\n",
    "    return token\n",
    "\n",
    "# Function to access the secret from Vault\n",
    "def access_vault_secret(vault_token, url, secret_path):\n",
    "    try:\n",
    "        client = hvac.Client(url=url, token=vault_token)\n",
    "        response = client.secrets.kv.v2.read_secret_version(path=secret_path, mount_point=\"kv\")\n",
    "        if response:\n",
    "            secret_data = response['data']['data']\n",
    "            print(f\"Accessed Vault secret at {secret_path}.\")\n",
    "            return secret_data\n",
    "        else:\n",
    "            print(f\"Failed to access Vault secret at {secret_path}.\")\n",
    "            return None\n",
    "    except hvac.exceptions.VaultError as e:\n",
    "        print(f\"Request to Vault failed: {e}\")\n",
    "        return None\n",
    "\n",
    "# Get Vault token from environment or prompt\n",
    "vault_token = os.getenv('VAULT_TOKEN') or get_vault_token()\n",
    "\n",
    "# Save Vault token in environment variables if not already set\n",
    "os.environ['VAULT_TOKEN'] = vault_token\n",
    "\n",
    "# Retrieve Vault URL from environment variables\n",
    "vault_url = os.getenv('VAULT_URL')\n",
    "\n",
    "# Paths to secrets in Vault\n",
    "proxmox_secret_path = \"users/accounts/api-tokens/proxmox/oumaima\"\n",
    "surrealdb_url_path = \"users/accounts/surrealdb\"\n",
    "surrealdb_credentials_path = \"users/accounts/surrealdb/oumaima\"\n",
    "\n",
    "# Access Proxmox API token from Vault\n",
    "proxmox_api_token = access_vault_secret(vault_token, vault_url, proxmox_secret_path)\n",
    "if proxmox_api_token:\n",
    "    os.environ['PROXMOX_HCM_API_TOKEN'] = proxmox_api_token.get('proxmox-hcm-api-token')\n",
    "else:\n",
    "    print(\"Failed to retrieve Proxmox API token.\")\n",
    "\n",
    "# Access SurrealDB URL from Vault\n",
    "surrealdb_url_secret = access_vault_secret(vault_token, vault_url, surrealdb_url_path)\n",
    "if surrealdb_url_secret:\n",
    "    os.environ['SURREALDB_URL'] = surrealdb_url_secret.get('url')\n",
    "else:\n",
    "    print(\"Failed to retrieve SurrealDB URL.\")\n",
    "\n",
    "# Access SurrealDB credentials from Vault\n",
    "surrealdb_credentials_secret = access_vault_secret(vault_token, vault_url, surrealdb_credentials_path)\n",
    "if surrealdb_credentials_secret:\n",
    "    os.environ['SURREALDB_USER'] = surrealdb_credentials_secret.get('user')\n",
    "    os.environ['SURREALDB_PWD'] = surrealdb_credentials_secret.get('password')\n",
    "else:\n",
    "    print(\"Failed to retrieve SurrealDB credentials.\")\n"
   ]
  },
  {
   "cell_type": "code",
   "execution_count": 7,
   "metadata": {},
   "outputs": [],
   "source": [
    "proxmox_api_token = os.getenv('PROXMOX_HCM_API_TOKEN')\n",
    "surrealdb_url = os.getenv('SURREALDB_URL')\n",
    "surrealdb_user = os.getenv('SURREALDB_USER')\n",
    "surrealdb_password = os.getenv('SURREALDB_PWD')"
   ]
  },
  {
   "cell_type": "code",
   "execution_count": 8,
   "metadata": {},
   "outputs": [
    {
     "name": "stderr",
     "output_type": "stream",
     "text": [
      "c:\\Users\\oumay\\.vscode\\agent-scripts\\venv\\Lib\\site-packages\\langchain_core\\_api\\deprecation.py:139: LangChainDeprecationWarning: The class `HuggingFaceEmbeddings` was deprecated in LangChain 0.2.2 and will be removed in 0.3.0. An updated version of the class exists in the langchain-huggingface package and should be used instead. To use it run `pip install -U langchain-huggingface` and import as `from langchain_huggingface import HuggingFaceEmbeddings`.\n",
      "  warn_deprecated(\n",
      "c:\\Users\\oumay\\.vscode\\agent-scripts\\venv\\Lib\\site-packages\\xformers\\ops\\fmha\\flash.py:211: FutureWarning: `torch.library.impl_abstract` was renamed to `torch.library.register_fake`. Please use that instead; we will remove `torch.library.impl_abstract` in a future version of PyTorch.\n",
      "  @torch.library.impl_abstract(\"xformers_flash::flash_fwd\")\n",
      "c:\\Users\\oumay\\.vscode\\agent-scripts\\venv\\Lib\\site-packages\\xformers\\ops\\fmha\\flash.py:344: FutureWarning: `torch.library.impl_abstract` was renamed to `torch.library.register_fake`. Please use that instead; we will remove `torch.library.impl_abstract` in a future version of PyTorch.\n",
      "  @torch.library.impl_abstract(\"xformers_flash::flash_bwd\")\n",
      "Some weights of the model checkpoint at infgrad/stella_en_400M_v5 were not used when initializing NewModel: ['new.pooler.dense.bias', 'new.pooler.dense.weight']\n",
      "- This IS expected if you are initializing NewModel from the checkpoint of a model trained on another task or with another architecture (e.g. initializing a BertForSequenceClassification model from a BertForPreTraining model).\n",
      "- This IS NOT expected if you are initializing NewModel from the checkpoint of a model that you expect to be exactly identical (initializing a BertForSequenceClassification model from a BertForSequenceClassification model).\n"
     ]
    }
   ],
   "source": [
    "# Initialize the SentenceTransformerEmbeddings with trust_remote_code=True\n",
    "ef = SentenceTransformerEmbeddings(\n",
    "    model_name=\"infgrad/stella_en_400M_v5\",\n",
    "    model_kwargs={\n",
    "        \"trust_remote_code\": True,\n",
    "    }\n",
    ")"
   ]
  },
  {
   "cell_type": "code",
   "execution_count": 9,
   "metadata": {},
   "outputs": [],
   "source": [
    "nest_asyncio.apply()\n",
    "\n",
    "# SurrealDB connection parameters\n",
    "dburl = \"ws://localhost:8000/rpc\"\n",
    "ns = \"langchain\"\n",
    "db_name = \"proxmox_api_docs\"\n",
    "collection = \"proxmox_collection\"\n",
    "db_user = surrealdb_user\n",
    "db_pass = surrealdb_password"
   ]
  },
  {
   "cell_type": "code",
   "execution_count": 10,
   "metadata": {},
   "outputs": [],
   "source": [
    "# Initialize the SurrealDBStore with documents\n",
    "db = SurrealDBStore(\n",
    "    embedding_function=ef,\n",
    "    dburl=dburl,\n",
    "    ns=ns,\n",
    "    db=db_name,\n",
    "    collection=collection,\n",
    "    db_user=db_user,\n",
    "    db_pass=db_pass\n",
    ")"
   ]
  },
  {
   "cell_type": "code",
   "execution_count": 11,
   "metadata": {},
   "outputs": [],
   "source": [
    "# this is needed to initialize the underlying async library for SurrealDB\n",
    "await db.initialize()\n",
    "\n",
    "# delete collection from the vectorstore collection if it exists \n",
    "await db.adelete(collection = collection)\n",
    "\n",
    "# add documents to the vectorstore\n",
    "ids = await db.aadd_documents(docs)"
   ]
  },
  {
   "cell_type": "code",
   "execution_count": 12,
   "metadata": {},
   "outputs": [],
   "source": [
    "retriever = db.as_retriever(search_type=\"similarity\", search_kwargs={\"k\": 3})"
   ]
  },
  {
   "cell_type": "code",
   "execution_count": 13,
   "metadata": {},
   "outputs": [],
   "source": [
    "# Initialize the cross-encoder model\n",
    "#cross_encoder_model = HuggingFaceCrossEncoder(model_name=\"BAAI/bge-reranker-base\")\n",
    "cross_encoder_model = HuggingFaceCrossEncoder(model_name=\"cross-encoder/ms-marco-MiniLM-L-6-v2\")\n",
    "compressor = CrossEncoderReranker(model=cross_encoder_model, top_n=3)\n",
    "compression_retriever = ContextualCompressionRetriever(\n",
    "    base_compressor=compressor, base_retriever=retriever\n",
    ")"
   ]
  },
  {
   "cell_type": "code",
   "execution_count": 14,
   "metadata": {},
   "outputs": [],
   "source": [
    "chain = ProxmoxAPIChain.from_llm_and_api_docs(\n",
    "    llm,\n",
    "    retriever=compression_retriever,\n",
    "    headers={\"Authorization\": proxmox_api_token},\n",
    "    verbose=True,\n",
    "    limit_to_domains=['https://ns31418912.ip-54-38-37.eu:8006'],\n",
    "    base_url= \"https://ns31418912.ip-54-38-37.eu:8006\",\n",
    ")"
   ]
  },
  {
   "cell_type": "markdown",
   "metadata": {},
   "source": [
    "# Vms management: "
   ]
  },
  {
   "cell_type": "markdown",
   "metadata": {},
   "source": [
    "## LiST available Vms on a proxmoxs node :"
   ]
  },
  {
   "cell_type": "code",
   "execution_count": 15,
   "metadata": {},
   "outputs": [
    {
     "name": "stdout",
     "output_type": "stream",
     "text": [
      "\n",
      "\n",
      "\u001b[1m> Entering new ProxmoxAPIChain chain...\u001b[0m\n"
     ]
    },
    {
     "name": "stderr",
     "output_type": "stream",
     "text": [
      "c:\\Users\\oumay\\.vscode\\agent-scripts\\venv\\Lib\\site-packages\\transformers\\models\\bert\\modeling_bert.py:439: UserWarning: 1Torch was not compiled with flash attention. (Triggered internally at C:\\actions-runner\\_work\\pytorch\\pytorch\\builder\\windows\\pytorch\\aten\\src\\ATen\\native\\transformers\\cuda\\sdp_utils.cpp:555.)\n",
      "  attn_output = torch.nn.functional.scaled_dot_product_attention(\n"
     ]
    },
    {
     "name": "stdout",
     "output_type": "stream",
     "text": [
      "Retrieved Document 0: {\"endpoint\": \"/api2/json/nodes/{node}/qemu\", \"method\": \"get\", \"summary\": \"List Virtual machines (VMs) on a Node\", \"parameters\": [{\"name\": \"node\", \"in\": \"path\", \"required\": true, \"description\": \"Node ID where VMs are located\", \"schema\": {\"type\": \"string\"}}]}\n",
      "Retrieved Document 1: {\"endpoint\": \"/api2/json/nodes/{node}/qemu/{vmid}/config\", \"method\": \"get\", \"summary\": \"Get Virtual machine/Vm Configuration (config file)\", \"parameters\": [{\"name\": \"node\", \"in\": \"path\", \"required\": true, \"description\": \"Node ID where the VM is located\", \"schema\": {\"type\": \"string\"}}, {\"name\": \"vmid\", \"in\": \"path\", \"required\": true, \"description\": \"ID of the VM\", \"schema\": {\"type\": \"integer\"}}, {\"name\": \"current\", \"in\": \"query\", \"required\": false, \"description\": \"Get current values instead of pending values\", \"schema\": {\"type\": \"boolean\"}}]}\n",
      "Retrieved Document 2: {\"endpoint\": \"/api2/json/nodes/{node}/lxc\", \"methods\": \"get\", \"summary\": \"List LXC Containers on a Node\", \"description\": \"List all containers available on a node\", \"parameters\": [{\"name\": \"node\", \"in\": \"path\", \"required\": true, \"description\": \"Node ID where LXC containers are located\", \"schema\": {\"type\": \"string\"}}]}\n",
      "\n",
      "Request info: {\n",
      "    \"api_url\": \"https://ns31418912.ip-54-38-37.eu:8006/api2/json/nodes/Proxmox-Node-HCM/qemu\",\n",
      "    \"request_method\": \"get\",\n",
      "    \"request_body\": {}\n",
      "}\n",
      "API URL: https://ns31418912.ip-54-38-37.eu:8006/api2/json/nodes/Proxmox-Node-HCM/qemu\n",
      "Request method: GET\n",
      "Request body: {}\n",
      "\u001b[38;5;200m\u001b[1;3mStatus: 200 OK\n",
      "Response: {\"data\":[{\"status\":\"running\",\"mem\":1172098579,\"maxdisk\":107374182400,\"netin\":526731205,\"disk\":0,\"vmid\":102,\"cpu\":0.0180443829199558,\"cpus\":4,\"diskwrite\":0,\"netout\":193903675,\"name\":\"SurrealDB-IMX\",\"maxmem\":4294967296,\"diskread\":0,\"pid\":3099455,\"uptime\":4155230},{\"uptime\":3995010,\"pid\":3751193,\"diskread\":0,\"maxmem\":4294967296,\"netout\":170907910,\"name\":\"Ansible-controller\",\"diskwrite\":0,\"cpus\":2,\"cpu\":0.000862679661511833,\"vmid\":106,\"disk\":0,\"netin\":179407676,\"maxdisk\":34359738368,\"mem\":3325767062,\"status\":\"running\"},{\"disk\":0,\"vmid\":1001,\"maxmem\":536870912,\"netout\":151026536,\"name\":\"test-vm\",\"diskwrite\":0,\"cpu\":0.552690103141915,\"cpus\":1,\"uptime\":2165924,\"pid\":2790383,\"diskread\":0,\"status\":\"running\",\"mem\":20228479,\"maxdisk\":34359738368,\"netin\":470022986},{\"cpus\":2,\"cpu\":0.0076203370100212,\"diskwrite\":0,\"netout\":531450609,\"name\":\"Mongo-IMX\",\"maxmem\":8489271296,\"diskread\":0,\"tags\":\"critical;poc\",\"pid\":3634760,\"uptime\":6587290,\"disk\":0,\"vmid\":100,\"maxdisk\":137438953472,\"netin\":3413905230,\"status\":\"running\",\"mem\":4352885871},{\"netin\":888899720,\"maxdisk\":107374182400,\"mem\":2885964089,\"status\":\"running\",\"diskread\":0,\"pid\":1998484,\"uptime\":2355296,\"cpus\":4,\"cpu\":0.00546363785624161,\"diskwrite\":0,\"netout\":9817918,\"name\":\"PgSQL-IMX-Replicaset\",\"maxmem\":8589934592,\"vmid\":108,\"disk\":0},{\"maxdisk\":107374182400,\"netin\":201058912,\"status\":\"running\",\"mem\":7184124216,\"cpus\":4,\"cpu\":0.000862679661511833,\"diskwrite\":0,\"netout\":26635973,\"name\":\"PgSQL-IMX\",\"maxmem\":8589934592,\"diskread\":0,\"pid\":3748081,\"uptime\":3995698,\"disk\":0,\"vmid\":104},{\"status\":\"stopped\",\"mem\":0,\"maxdisk\":34359738368,\"netin\":0,\"disk\":0,\"vmid\":9999,\"diskwrite\":0,\"cpu\":0,\"cpus\":2,\"maxmem\":2147483648,\"name\":\"my-vm\",\"netout\":0,\"diskread\":0,\"uptime\":0},{\"diskread\":0,\"pid\":3793132,\"uptime\":1918856,\"cpu\":0.000790789689719181,\"cpus\":4,\"diskwrite\":0,\"name\":\"primary-test\",\"netout\":9373934,\"maxmem\":8589934592,\"vmid\":110,\"disk\":0,\"netin\":936505997,\"maxdisk\":34359738368,\"mem\":2307331068,\"status\":\"running\"},{\"maxdisk\":34359738368,\"netin\":1249251301,\"status\":\"running\",\"mem\":771857398,\"cpu\":0.00230047909736489,\"cpus\":1,\"diskwrite\":0,\"netout\":23831837,\"name\":\"test-mfa\",\"maxmem\":2147483648,\"diskread\":0,\"pid\":1822073,\"uptime\":2399592,\"disk\":0,\"vmid\":107},{\"mem\":0,\"status\":\"stopped\",\"netin\":0,\"maxdisk\":0,\"vmid\":10004,\"disk\":0,\"diskread\":0,\"uptime\":0,\"diskwrite\":0,\"cpus\":1,\"cpu\":0,\"maxmem\":536870912,\"name\":\"VM 10004\",\"netout\":0},{\"disk\":0,\"vmid\":10002,\"maxmem\":536870912,\"netout\":0,\"name\":\"VM 10002\",\"diskwrite\":0,\"cpu\":0,\"cpus\":1,\"uptime\":0,\"diskread\":0,\"status\":\"stopped\",\"mem\":0,\"maxdisk\":0,\"netin\":0},{\"maxdisk\":0,\"netin\":0,\"status\":\"stopped\",\"mem\":0,\"diskwrite\":0,\"cpus\":1,\"cpu\":0,\"maxmem\":536870912,\"name\":\"VM 10001\",\"netout\":0,\"diskread\":0,\"uptime\":0,\"disk\":0,\"vmid\":10001},{\"netin\":1742590333,\"maxdisk\":107374182400,\"mem\":3552693830,\"status\":\"running\",\"pid\":1787620,\"uptime\":6044463,\"diskread\":0,\"name\":\"test-vault01\",\"netout\":647767961,\"maxmem\":8589934592,\"cpu\":0.0133715347534334,\"cpus\":2,\"diskwrite\":0,\"vmid\":101,\"disk\":0},{\"status\":\"running\",\"mem\":869759163,\"maxdisk\":107374182400,\"netin\":204624305,\"disk\":0,\"vmid\":109,\"cpus\":4,\"cpu\":0.000647009746133875,\"diskwrite\":0,\"netout\":4529328,\"name\":\"PgSQL-Primary\",\"maxmem\":8589934592,\"diskread\":0,\"pid\":2483630,\"uptime\":2241189},{\"mem\":1326224281,\"status\":\"running\",\"netin\":8636675301,\"maxdisk\":34359738368,\"vmid\":2000,\"disk\":0,\"uptime\":4666233,\"pid\":1003406,\"diskread\":0,\"maxmem\":2147483648,\"name\":\"NewRelic-GitLab\",\"netout\":2303140391,\"diskwrite\":0,\"cpus\":2,\"cpu\":0.00172535932302367}]}\u001b[0m\n",
      "\n",
      "\u001b[1m> Finished chain.\u001b[0m\n",
      "The virtual machines running on the Proxmox-Node-HCM node are: SurrealDB-IMX, Ansible-controller, test-vm, Mongo-IMX, PgSQL-IMX-Replicaset, PgSQL-IMX, my-vm, primary-test, test-mfa, VM 10004, VM 10002, VM 10001, test-vault01, PgSQL-Primary, and NewRelic-GitLab. \n",
      "\n"
     ]
    }
   ],
   "source": [
    "user_input = (\n",
    "    f\"list Vms on node 'Proxmox-Node-HCM'\"\n",
    ")\n",
    "response = chain.invoke(user_input, config={\"callbacks\": [langfuse_handler]})\n",
    "\n",
    "print(response['output'])"
   ]
  },
  {
   "cell_type": "markdown",
   "metadata": {},
   "source": [
    "## Creating a new Vm : "
   ]
  },
  {
   "cell_type": "markdown",
   "metadata": {},
   "source": [
    "### Vm with initial config :"
   ]
  },
  {
   "cell_type": "code",
   "execution_count": 16,
   "metadata": {},
   "outputs": [
    {
     "name": "stdout",
     "output_type": "stream",
     "text": [
      "\n",
      "\n",
      "\u001b[1m> Entering new ProxmoxAPIChain chain...\u001b[0m\n",
      "Retrieved Document 0: {\"endpoint\": \"/api2/json/nodes/{node}/qemu\", \"method\": \"post\", \"summary\": \"Create a Virtual machine (VM) \", \"description\": \"Use this endpoint to create a new virtual machine on the specified node. This endpoint is used for initial creation and can be used for the allocation of resources such as memory, cores, and storage.\", \"parameters\": [{\"name\": \"node\", \"in\": \"path\", \"required\": true, \"description\": \"Node ID where the VM will be created\", \"schema\": {\"type\": \"string\"}}], \"requestBody\": {\"required\": true, \"content\": {\"application/json\": {\"schema\": {\"type\": \"object\", \"properties\": {\"vmid\": {\"type\": \"integer\", \"description\": \"VM ID\"}, \"name\": {\"type\": \"string\", \"description\": \"Name of the VM\"}, \"memory\": {\"type\": \"integer\", \"description\": \"Memory size in MB\"}, \"cores\": {\"type\": \"integer\", \"description\": \"Number of CPU cores\"}, \"ide0\": {\"type\": \"string\", \"description\": \"Disk size and format, e.g., \\\"local:32,format=qcow2\\\"\"}, \"net0\": {\"type\": \"string\", \"description\": \"Network configuration, e.g., \\\"virtio,bridge=vmbr0\\\"\"}, \"ostype\": {\"type\": \"string\", \"description\": \"OS type, e.g., \\\"l26\\\" for Linux\"}}, \"required\": [\"node\", \"vmid\"]}}}}}\n",
      "Retrieved Document 1: {\"endpoint\": \"/api2/json/nodes/{node}/qemu/{vmid}/config\", \"method\": \"post\", \"summary\": \"Set initial configuration options of a Virtual machine\", \"description\": \"Use this endpoint to set the initial configuration of a new virtual machine. This is useful when you need to define settings such as memory, cores, CPU type, and other parameters for a VM that is being created.\", \"parameters\": [{\"name\": \"node\", \"in\": \"path\", \"required\": true, \"description\": \"The cluster node name\", \"schema\": {\"type\": \"string\"}}, {\"name\": \"vmid\", \"in\": \"path\", \"required\": true, \"description\": \"The (unique) ID of the VM\", \"schema\": {\"type\": \"integer\", \"minimum\": 100, \"maximum\": 999999999}}], \"requestBody\": {\"required\": true, \"content\": {\"application/json\": {\"schema\": {\"type\": \"object\", \"properties\": {\"memory\": {\"type\": \"integer\", \"description\": \"Amount of RAM for the VM in MiB\", \"minimum\": 16}, \"cores\": {\"type\": \"integer\", \"description\": \"Number of cores per socket\", \"minimum\": 1}, \"cpu\": {\"type\": \"string\", \"description\": \"Emulated CPU type\"}, \"name\": {\"type\": \"string\", \"description\": \"Set a name for the VM\"}, \"net\": {\"type\": \"string\", \"description\": \"Specify network devices\"}, \"ostype\": {\"type\": \"string\", \"description\": \"Specify guest operating system\", \"enum\": [\"other\", \"wxp\", \"w2k\", \"w2k3\", \"w2k8\", \"wvista\", \"win7\", \"win8\", \"win10\", \"win11\", \"l24\", \"l26\", \"solaris\", \"opensolaris\", \"netbsd\", \"freebsd\", \"openbsd\"]}, \"disk\": {\"type\": \"string\", \"description\": \"Specify disk size and type, e.g., 'size=10G,ssd=1'\"}, \"boot\": {\"type\": \"string\", \"description\": \"Specify guest boot order, e.g., 'order=cdrom;ide0'\"}}}}}}}\n",
      "Retrieved Document 2: {\"endpoint\": \"/api2/json/nodes/{node}/qemu/{vmid}/config\", \"method\": \"put\", \"summary\": \"Update virtual machine configuration options\", \"description\": \"Use this endpoint to modify the configuration of an existing virtual machine. This is useful when you need to change settings such as memory, cores, network devices, and other VM parameters for an already running or stopped VM.\", \"parameters\": [{\"name\": \"node\", \"in\": \"path\", \"required\": true, \"description\": \"The cluster node name.\", \"schema\": {\"type\": \"string\"}}, {\"name\": \"vmid\", \"in\": \"path\", \"required\": true, \"description\": \"The (unique) ID of the VM.\", \"schema\": {\"type\": \"integer\", \"minimum\": 100, \"maximum\": 999999999}}], \"requestBody\": {\"required\": true, \"content\": {\"application/json\": {\"schema\": {\"type\": \"object\", \"properties\": {\"acpi\": {\"type\": \"boolean\", \"description\": \"Enable/disable ACPI.\"}, \"agent\": {\"type\": \"string\", \"description\": \"Enable/disable communication with the QEMU Guest Agent and its properties.\"}, \"balloon\": {\"type\": \"integer\", \"description\": \"Amount of target RAM for the VM in MiB. Using zero disables the balloon driver.\"}, \"bios\": {\"type\": \"string\", \"enum\": [\"seabios\", \"ovmf\"], \"description\": \"Select BIOS implementation.\"}, \"cores\": {\"type\": \"integer\", \"description\": \"The number of cores per socket.\"}, \"memory\": {\"type\": \"integer\", \"description\": \"Amount of RAM for the VM in MiB.\"}, \"net0\": {\"type\": \"string\", \"description\": \"Network device configuration, e.g., 'model=e1000,bridge=vmbr0'.\"}, \"sockets\": {\"type\": \"integer\", \"description\": \"The number of CPU sockets.\"}, \"cpu\": {\"type\": \"string\", \"description\": \"Emulated CPU type. Format: [[cputype=]<string>] [,flags=<+FLAG[;-FLAG...]>] [,hidden=<1|0>] [,hv-vendor-id=<vendor-id>] [,phys-bits=<8-64|host>] [,reported-model=<enum>]\"}, \"cpulimit\": {\"type\": \"number\", \"description\": \"Limit of CPU usage. Value '0' indicates no CPU limit.\"}, \"cpuunits\": {\"type\": \"integer\", \"description\": \"CPU weight for a VM. The larger the number, the more CPU time this VM gets. Range: 1 - 262144.\"}, \"ostype\": {\"type\": \"string\", \"enum\": [\"other\", \"wxp\", \"w2k\", \"w2k3\", \"w2k8\", \"wvista\", \"win7\", \"win8\", \"win10\", \"win11\", \"l24\", \"l26\", \"solaris\"], \"description\": \"Specify guest operating system to enable specific optimizations/features.\"}}}}}}}\n",
      "\n",
      "Request info: {\n",
      "    \"api_url\": \"https://ns31418912.ip-54-38-37.eu:8006/api2/json/nodes/Proxmox-Node-HCM/qemu\",\n",
      "    \"request_method\": \"post\",\n",
      "    \"request_body\": {\n",
      "        \"vmid\": 10000,\n",
      "        \"name\": \"test-vm-3\",\n",
      "        \"memory\": 512,\n",
      "        \"cores\": 1,\n",
      "        \"ide0\": \"local:32,format=qcow2\",\n",
      "        \"net0\": \"virtio,bridge=vmbr0\",\n",
      "        \"ostype\": \"l26\"\n",
      "    }\n",
      "}\n",
      "API URL: https://ns31418912.ip-54-38-37.eu:8006/api2/json/nodes/Proxmox-Node-HCM/qemu\n",
      "Request method: POST\n",
      "Request body: {'vmid': 10000, 'name': 'test-vm-3', 'memory': 512, 'cores': 1, 'ide0': 'local:32,format=qcow2', 'net0': 'virtio,bridge=vmbr0', 'ostype': 'l26'}\n",
      "\u001b[38;5;200m\u001b[1;3mStatus: 200 OK\n",
      "Response: {\"data\":\"UPID:Proxmox-Node-HCM:00132DBA:B7769CD7:66B23860:qmcreate:10000:oumaima@pve!oumaima-token:\"}\u001b[0m\n",
      "\n",
      "\u001b[1m> Finished chain.\u001b[0m\n",
      "The VM was successfully created on the node 'Proxmox-Node-HCM'. \n",
      "\n"
     ]
    }
   ],
   "source": [
    "user_input = (\n",
    "    f\"Create a VM on node 'Proxmox-Node-HCM' with the following configuration :\\n\"\n",
    "    f\"VM ID: 10000\\n\"\n",
    "    f\"Name: test-vm-3\\n\"\n",
    "    f\"Memory: 512 MB\\n\"\n",
    "    f\"Cores: 1\\n\"\n",
    "    f\"Sockets: 1\\n\"\n",
    "    f\"Storage: local\\n\"\n",
    "    f\"ide0: local:32,format=qcow2\\n\"\n",
    "    f\"net0: virtio,bridge=vmbr0\\n\"\n",
    "    f\"OS Type: l26\\n\"\n",
    "    f\"Description: My test VM\\n\"\n",
    "    f\"NUMA: 1\\n\"\n",
    "    f\"KVM: 1\\n\"\n",
    "    f\"Agent: 1\"\n",
    ")\n",
    "\n",
    "response = chain.invoke(user_input, config={\"callbacks\": [langfuse_handler]})\n",
    "\n",
    "print(response['output'])"
   ]
  },
  {
   "cell_type": "markdown",
   "metadata": {},
   "source": [
    "### Vm with just the required fields : "
   ]
  },
  {
   "cell_type": "code",
   "execution_count": 17,
   "metadata": {},
   "outputs": [
    {
     "name": "stdout",
     "output_type": "stream",
     "text": [
      "\n",
      "\n",
      "\u001b[1m> Entering new ProxmoxAPIChain chain...\u001b[0m\n",
      "Retrieved Document 0: {\"endpoint\": \"/api2/json/nodes/{node}/qemu\", \"method\": \"post\", \"summary\": \"Create a Virtual machine (VM) \", \"description\": \"Use this endpoint to create a new virtual machine on the specified node. This endpoint is used for initial creation and can be used for the allocation of resources such as memory, cores, and storage.\", \"parameters\": [{\"name\": \"node\", \"in\": \"path\", \"required\": true, \"description\": \"Node ID where the VM will be created\", \"schema\": {\"type\": \"string\"}}], \"requestBody\": {\"required\": true, \"content\": {\"application/json\": {\"schema\": {\"type\": \"object\", \"properties\": {\"vmid\": {\"type\": \"integer\", \"description\": \"VM ID\"}, \"name\": {\"type\": \"string\", \"description\": \"Name of the VM\"}, \"memory\": {\"type\": \"integer\", \"description\": \"Memory size in MB\"}, \"cores\": {\"type\": \"integer\", \"description\": \"Number of CPU cores\"}, \"ide0\": {\"type\": \"string\", \"description\": \"Disk size and format, e.g., \\\"local:32,format=qcow2\\\"\"}, \"net0\": {\"type\": \"string\", \"description\": \"Network configuration, e.g., \\\"virtio,bridge=vmbr0\\\"\"}, \"ostype\": {\"type\": \"string\", \"description\": \"OS type, e.g., \\\"l26\\\" for Linux\"}}, \"required\": [\"node\", \"vmid\"]}}}}}\n",
      "Retrieved Document 1: {\"endpoint\": \"/api2/json/nodes/{node}/lxc\", \"methods\": \"post\", \"summary\": \"Create LXC Container\", \"parameters\": [{\"name\": \"node\", \"in\": \"path\", \"required\": true, \"description\": \"Node ID where the LXC container will be created\", \"schema\": {\"type\": \"string\"}}], \"requestBody\": {\"required\": true, \"content\": {\"application/json\": {\"schema\": {\"type\": \"object\", \"properties\": {\"vmid\": {\"type\": \"integer\", \"description\": \"Container ID\"}, \"hostname\": {\"type\": \"string\", \"description\": \"Hostname of the container\"}, \"memory\": {\"type\": \"integer\", \"description\": \"Memory size in MB\"}, \"cores\": {\"type\": \"integer\", \"description\": \"Number of CPU cores\"}, \"rootfs\": {\"type\": \"string\", \"description\": \"Root filesystem, e.g., 'local:10' for 10GB\"}, \"net0\": {\"type\": \"string\", \"description\": \"Network configuration, e.g., 'bridge=vmbr0'\"}, \"ostemplate\": {\"type\": \"string\", \"description\": \"OS template for the container\"}}, \"required\": [\"node\", \"vmid\", \"ostemplate\"]}}}}}\n",
      "Retrieved Document 2: {\"endpoint\": \"/api2/json/nodes/{node}/qemu/{vmid}/config\", \"method\": \"post\", \"summary\": \"Set initial configuration options of a Virtual machine\", \"description\": \"Use this endpoint to set the initial configuration of a new virtual machine. This is useful when you need to define settings such as memory, cores, CPU type, and other parameters for a VM that is being created.\", \"parameters\": [{\"name\": \"node\", \"in\": \"path\", \"required\": true, \"description\": \"The cluster node name\", \"schema\": {\"type\": \"string\"}}, {\"name\": \"vmid\", \"in\": \"path\", \"required\": true, \"description\": \"The (unique) ID of the VM\", \"schema\": {\"type\": \"integer\", \"minimum\": 100, \"maximum\": 999999999}}], \"requestBody\": {\"required\": true, \"content\": {\"application/json\": {\"schema\": {\"type\": \"object\", \"properties\": {\"memory\": {\"type\": \"integer\", \"description\": \"Amount of RAM for the VM in MiB\", \"minimum\": 16}, \"cores\": {\"type\": \"integer\", \"description\": \"Number of cores per socket\", \"minimum\": 1}, \"cpu\": {\"type\": \"string\", \"description\": \"Emulated CPU type\"}, \"name\": {\"type\": \"string\", \"description\": \"Set a name for the VM\"}, \"net\": {\"type\": \"string\", \"description\": \"Specify network devices\"}, \"ostype\": {\"type\": \"string\", \"description\": \"Specify guest operating system\", \"enum\": [\"other\", \"wxp\", \"w2k\", \"w2k3\", \"w2k8\", \"wvista\", \"win7\", \"win8\", \"win10\", \"win11\", \"l24\", \"l26\", \"solaris\", \"opensolaris\", \"netbsd\", \"freebsd\", \"openbsd\"]}, \"disk\": {\"type\": \"string\", \"description\": \"Specify disk size and type, e.g., 'size=10G,ssd=1'\"}, \"boot\": {\"type\": \"string\", \"description\": \"Specify guest boot order, e.g., 'order=cdrom;ide0'\"}}}}}}}\n",
      "\n",
      "Request info: {\n",
      "    \"api_url\": \"https://ns31418912.ip-54-38-37.eu:8006/api2/json/nodes/Proxmox-Node-HCM/qemu\",\n",
      "    \"request_method\": \"post\",\n",
      "    \"request_body\": {\n",
      "        \"vmid\": 2020\n",
      "    }\n",
      "}\n",
      "API URL: https://ns31418912.ip-54-38-37.eu:8006/api2/json/nodes/Proxmox-Node-HCM/qemu\n",
      "Request method: POST\n",
      "Request body: {'vmid': 2020}\n",
      "\u001b[38;5;200m\u001b[1;3mStatus: 200 OK\n",
      "Response: {\"data\":\"UPID:Proxmox-Node-HCM:00132ED6:B7769EC3:66B23865:qmcreate:2020:oumaima@pve!oumaima-token:\"}\u001b[0m\n",
      "\n",
      "\u001b[1m> Finished chain.\u001b[0m\n",
      "The API successfully created a VM with ID 2020 on the node 'Proxmox-Node-HCM'. \n",
      "\n"
     ]
    }
   ],
   "source": [
    "user_input = (\n",
    "    f\"Create a Vm on node 'Proxmox-Node-HCM' where Vm ID : 2020\"\n",
    ")\n",
    "\n",
    "response = chain.invoke(user_input, config={\"callbacks\": [langfuse_handler]})\n",
    "\n",
    "print(response['output'])"
   ]
  },
  {
   "cell_type": "markdown",
   "metadata": {},
   "source": [
    "## Manage Vm Config : "
   ]
  },
  {
   "cell_type": "markdown",
   "metadata": {},
   "source": [
    "### Update Vm config :"
   ]
  },
  {
   "cell_type": "code",
   "execution_count": 18,
   "metadata": {},
   "outputs": [
    {
     "name": "stdout",
     "output_type": "stream",
     "text": [
      "\n",
      "\n",
      "\u001b[1m> Entering new ProxmoxAPIChain chain...\u001b[0m\n",
      "Retrieved Document 0: {\"endpoint\": \"/api2/json/nodes/{node}/qemu/{vmid}/config\", \"method\": \"put\", \"summary\": \"Update virtual machine configuration options\", \"description\": \"Use this endpoint to modify the configuration of an existing virtual machine. This is useful when you need to change settings such as memory, cores, network devices, and other VM parameters for an already running or stopped VM.\", \"parameters\": [{\"name\": \"node\", \"in\": \"path\", \"required\": true, \"description\": \"The cluster node name.\", \"schema\": {\"type\": \"string\"}}, {\"name\": \"vmid\", \"in\": \"path\", \"required\": true, \"description\": \"The (unique) ID of the VM.\", \"schema\": {\"type\": \"integer\", \"minimum\": 100, \"maximum\": 999999999}}], \"requestBody\": {\"required\": true, \"content\": {\"application/json\": {\"schema\": {\"type\": \"object\", \"properties\": {\"acpi\": {\"type\": \"boolean\", \"description\": \"Enable/disable ACPI.\"}, \"agent\": {\"type\": \"string\", \"description\": \"Enable/disable communication with the QEMU Guest Agent and its properties.\"}, \"balloon\": {\"type\": \"integer\", \"description\": \"Amount of target RAM for the VM in MiB. Using zero disables the balloon driver.\"}, \"bios\": {\"type\": \"string\", \"enum\": [\"seabios\", \"ovmf\"], \"description\": \"Select BIOS implementation.\"}, \"cores\": {\"type\": \"integer\", \"description\": \"The number of cores per socket.\"}, \"memory\": {\"type\": \"integer\", \"description\": \"Amount of RAM for the VM in MiB.\"}, \"net0\": {\"type\": \"string\", \"description\": \"Network device configuration, e.g., 'model=e1000,bridge=vmbr0'.\"}, \"sockets\": {\"type\": \"integer\", \"description\": \"The number of CPU sockets.\"}, \"cpu\": {\"type\": \"string\", \"description\": \"Emulated CPU type. Format: [[cputype=]<string>] [,flags=<+FLAG[;-FLAG...]>] [,hidden=<1|0>] [,hv-vendor-id=<vendor-id>] [,phys-bits=<8-64|host>] [,reported-model=<enum>]\"}, \"cpulimit\": {\"type\": \"number\", \"description\": \"Limit of CPU usage. Value '0' indicates no CPU limit.\"}, \"cpuunits\": {\"type\": \"integer\", \"description\": \"CPU weight for a VM. The larger the number, the more CPU time this VM gets. Range: 1 - 262144.\"}, \"ostype\": {\"type\": \"string\", \"enum\": [\"other\", \"wxp\", \"w2k\", \"w2k3\", \"w2k8\", \"wvista\", \"win7\", \"win8\", \"win10\", \"win11\", \"l24\", \"l26\", \"solaris\"], \"description\": \"Specify guest operating system to enable specific optimizations/features.\"}}}}}}}\n",
      "Retrieved Document 1: {\"endpoint\": \"/api2/json/nodes/{node}/qemu\", \"method\": \"post\", \"summary\": \"Create a Virtual machine (VM) \", \"description\": \"Use this endpoint to create a new virtual machine on the specified node. This endpoint is used for initial creation and can be used for the allocation of resources such as memory, cores, and storage.\", \"parameters\": [{\"name\": \"node\", \"in\": \"path\", \"required\": true, \"description\": \"Node ID where the VM will be created\", \"schema\": {\"type\": \"string\"}}], \"requestBody\": {\"required\": true, \"content\": {\"application/json\": {\"schema\": {\"type\": \"object\", \"properties\": {\"vmid\": {\"type\": \"integer\", \"description\": \"VM ID\"}, \"name\": {\"type\": \"string\", \"description\": \"Name of the VM\"}, \"memory\": {\"type\": \"integer\", \"description\": \"Memory size in MB\"}, \"cores\": {\"type\": \"integer\", \"description\": \"Number of CPU cores\"}, \"ide0\": {\"type\": \"string\", \"description\": \"Disk size and format, e.g., \\\"local:32,format=qcow2\\\"\"}, \"net0\": {\"type\": \"string\", \"description\": \"Network configuration, e.g., \\\"virtio,bridge=vmbr0\\\"\"}, \"ostype\": {\"type\": \"string\", \"description\": \"OS type, e.g., \\\"l26\\\" for Linux\"}}, \"required\": [\"node\", \"vmid\"]}}}}}\n",
      "Retrieved Document 2: {\"endpoint\": \"/api2/json/nodes/{node}/qemu/{vmid}/config\", \"method\": \"post\", \"summary\": \"Set initial configuration options of a Virtual machine\", \"description\": \"Use this endpoint to set the initial configuration of a new virtual machine. This is useful when you need to define settings such as memory, cores, CPU type, and other parameters for a VM that is being created.\", \"parameters\": [{\"name\": \"node\", \"in\": \"path\", \"required\": true, \"description\": \"The cluster node name\", \"schema\": {\"type\": \"string\"}}, {\"name\": \"vmid\", \"in\": \"path\", \"required\": true, \"description\": \"The (unique) ID of the VM\", \"schema\": {\"type\": \"integer\", \"minimum\": 100, \"maximum\": 999999999}}], \"requestBody\": {\"required\": true, \"content\": {\"application/json\": {\"schema\": {\"type\": \"object\", \"properties\": {\"memory\": {\"type\": \"integer\", \"description\": \"Amount of RAM for the VM in MiB\", \"minimum\": 16}, \"cores\": {\"type\": \"integer\", \"description\": \"Number of cores per socket\", \"minimum\": 1}, \"cpu\": {\"type\": \"string\", \"description\": \"Emulated CPU type\"}, \"name\": {\"type\": \"string\", \"description\": \"Set a name for the VM\"}, \"net\": {\"type\": \"string\", \"description\": \"Specify network devices\"}, \"ostype\": {\"type\": \"string\", \"description\": \"Specify guest operating system\", \"enum\": [\"other\", \"wxp\", \"w2k\", \"w2k3\", \"w2k8\", \"wvista\", \"win7\", \"win8\", \"win10\", \"win11\", \"l24\", \"l26\", \"solaris\", \"opensolaris\", \"netbsd\", \"freebsd\", \"openbsd\"]}, \"disk\": {\"type\": \"string\", \"description\": \"Specify disk size and type, e.g., 'size=10G,ssd=1'\"}, \"boot\": {\"type\": \"string\", \"description\": \"Specify guest boot order, e.g., 'order=cdrom;ide0'\"}}}}}}}\n",
      "\n",
      "Request info: {\n",
      "    \"api_url\": \"https://ns31418912.ip-54-38-37.eu:8006/api2/json/nodes/Proxmox-Node-HCM/qemu/10000/config\",\n",
      "    \"request_method\": \"put\",\n",
      "    \"request_body\": {\n",
      "        \"memory\": 2048,\n",
      "        \"cores\": 2,\n",
      "        \"cpu\": \"host\",\n",
      "        \"name\": \"test-vm\",\n",
      "        \"ostype\": \"win10\",\n",
      "        \"boot\": \"order=ide0\"\n",
      "    }\n",
      "}\n",
      "API URL: https://ns31418912.ip-54-38-37.eu:8006/api2/json/nodes/Proxmox-Node-HCM/qemu/10000/config\n",
      "Request method: PUT\n",
      "Request body: {'memory': 2048, 'cores': 2, 'cpu': 'host', 'name': 'test-vm', 'ostype': 'win10', 'boot': 'order=ide0'}\n",
      "\u001b[38;5;200m\u001b[1;3mStatus: 200 OK\n",
      "Response: {\"data\":null}\u001b[0m\n",
      "\n",
      "\u001b[1m> Finished chain.\u001b[0m\n",
      "The API call successfully adjusted the configuration of the VM. \n",
      "\n"
     ]
    }
   ],
   "source": [
    "user_input = (\n",
    "    f\"adjust the configuration of the VM with id 10000 on node 'Proxmox-Node-HCM' with memory 2048 MiB, 2 cores, CPU type 'host', name 'test-vm', operating system 'win10', and boot order 'order=ide0'\"\n",
    ")\n",
    "response = chain.invoke(user_input)\n",
    "\n",
    "print(response['output'])\n"
   ]
  },
  {
   "cell_type": "markdown",
   "metadata": {},
   "source": [
    "### Set initial config :"
   ]
  },
  {
   "cell_type": "code",
   "execution_count": 19,
   "metadata": {},
   "outputs": [
    {
     "name": "stdout",
     "output_type": "stream",
     "text": [
      "\n",
      "\n",
      "\u001b[1m> Entering new ProxmoxAPIChain chain...\u001b[0m\n",
      "Retrieved Document 0: {\"endpoint\": \"/api2/json/nodes/{node}/qemu/{vmid}/config\", \"method\": \"post\", \"summary\": \"Set initial configuration options of a Virtual machine\", \"description\": \"Use this endpoint to set the initial configuration of a new virtual machine. This is useful when you need to define settings such as memory, cores, CPU type, and other parameters for a VM that is being created.\", \"parameters\": [{\"name\": \"node\", \"in\": \"path\", \"required\": true, \"description\": \"The cluster node name\", \"schema\": {\"type\": \"string\"}}, {\"name\": \"vmid\", \"in\": \"path\", \"required\": true, \"description\": \"The (unique) ID of the VM\", \"schema\": {\"type\": \"integer\", \"minimum\": 100, \"maximum\": 999999999}}], \"requestBody\": {\"required\": true, \"content\": {\"application/json\": {\"schema\": {\"type\": \"object\", \"properties\": {\"memory\": {\"type\": \"integer\", \"description\": \"Amount of RAM for the VM in MiB\", \"minimum\": 16}, \"cores\": {\"type\": \"integer\", \"description\": \"Number of cores per socket\", \"minimum\": 1}, \"cpu\": {\"type\": \"string\", \"description\": \"Emulated CPU type\"}, \"name\": {\"type\": \"string\", \"description\": \"Set a name for the VM\"}, \"net\": {\"type\": \"string\", \"description\": \"Specify network devices\"}, \"ostype\": {\"type\": \"string\", \"description\": \"Specify guest operating system\", \"enum\": [\"other\", \"wxp\", \"w2k\", \"w2k3\", \"w2k8\", \"wvista\", \"win7\", \"win8\", \"win10\", \"win11\", \"l24\", \"l26\", \"solaris\", \"opensolaris\", \"netbsd\", \"freebsd\", \"openbsd\"]}, \"disk\": {\"type\": \"string\", \"description\": \"Specify disk size and type, e.g., 'size=10G,ssd=1'\"}, \"boot\": {\"type\": \"string\", \"description\": \"Specify guest boot order, e.g., 'order=cdrom;ide0'\"}}}}}}}\n",
      "Retrieved Document 1: {\"endpoint\": \"/api2/json/nodes/{node}/qemu\", \"method\": \"post\", \"summary\": \"Create a Virtual machine (VM) \", \"description\": \"Use this endpoint to create a new virtual machine on the specified node. This endpoint is used for initial creation and can be used for the allocation of resources such as memory, cores, and storage.\", \"parameters\": [{\"name\": \"node\", \"in\": \"path\", \"required\": true, \"description\": \"Node ID where the VM will be created\", \"schema\": {\"type\": \"string\"}}], \"requestBody\": {\"required\": true, \"content\": {\"application/json\": {\"schema\": {\"type\": \"object\", \"properties\": {\"vmid\": {\"type\": \"integer\", \"description\": \"VM ID\"}, \"name\": {\"type\": \"string\", \"description\": \"Name of the VM\"}, \"memory\": {\"type\": \"integer\", \"description\": \"Memory size in MB\"}, \"cores\": {\"type\": \"integer\", \"description\": \"Number of CPU cores\"}, \"ide0\": {\"type\": \"string\", \"description\": \"Disk size and format, e.g., \\\"local:32,format=qcow2\\\"\"}, \"net0\": {\"type\": \"string\", \"description\": \"Network configuration, e.g., \\\"virtio,bridge=vmbr0\\\"\"}, \"ostype\": {\"type\": \"string\", \"description\": \"OS type, e.g., \\\"l26\\\" for Linux\"}}, \"required\": [\"node\", \"vmid\"]}}}}}\n",
      "Retrieved Document 2: {\"endpoint\": \"/api2/json/nodes/{node}/qemu/{vmid}/config\", \"method\": \"put\", \"summary\": \"Update virtual machine configuration options\", \"description\": \"Use this endpoint to modify the configuration of an existing virtual machine. This is useful when you need to change settings such as memory, cores, network devices, and other VM parameters for an already running or stopped VM.\", \"parameters\": [{\"name\": \"node\", \"in\": \"path\", \"required\": true, \"description\": \"The cluster node name.\", \"schema\": {\"type\": \"string\"}}, {\"name\": \"vmid\", \"in\": \"path\", \"required\": true, \"description\": \"The (unique) ID of the VM.\", \"schema\": {\"type\": \"integer\", \"minimum\": 100, \"maximum\": 999999999}}], \"requestBody\": {\"required\": true, \"content\": {\"application/json\": {\"schema\": {\"type\": \"object\", \"properties\": {\"acpi\": {\"type\": \"boolean\", \"description\": \"Enable/disable ACPI.\"}, \"agent\": {\"type\": \"string\", \"description\": \"Enable/disable communication with the QEMU Guest Agent and its properties.\"}, \"balloon\": {\"type\": \"integer\", \"description\": \"Amount of target RAM for the VM in MiB. Using zero disables the balloon driver.\"}, \"bios\": {\"type\": \"string\", \"enum\": [\"seabios\", \"ovmf\"], \"description\": \"Select BIOS implementation.\"}, \"cores\": {\"type\": \"integer\", \"description\": \"The number of cores per socket.\"}, \"memory\": {\"type\": \"integer\", \"description\": \"Amount of RAM for the VM in MiB.\"}, \"net0\": {\"type\": \"string\", \"description\": \"Network device configuration, e.g., 'model=e1000,bridge=vmbr0'.\"}, \"sockets\": {\"type\": \"integer\", \"description\": \"The number of CPU sockets.\"}, \"cpu\": {\"type\": \"string\", \"description\": \"Emulated CPU type. Format: [[cputype=]<string>] [,flags=<+FLAG[;-FLAG...]>] [,hidden=<1|0>] [,hv-vendor-id=<vendor-id>] [,phys-bits=<8-64|host>] [,reported-model=<enum>]\"}, \"cpulimit\": {\"type\": \"number\", \"description\": \"Limit of CPU usage. Value '0' indicates no CPU limit.\"}, \"cpuunits\": {\"type\": \"integer\", \"description\": \"CPU weight for a VM. The larger the number, the more CPU time this VM gets. Range: 1 - 262144.\"}, \"ostype\": {\"type\": \"string\", \"enum\": [\"other\", \"wxp\", \"w2k\", \"w2k3\", \"w2k8\", \"wvista\", \"win7\", \"win8\", \"win10\", \"win11\", \"l24\", \"l26\", \"solaris\"], \"description\": \"Specify guest operating system to enable specific optimizations/features.\"}}}}}}}\n",
      "\n",
      "Request info: {\n",
      "    \"api_url\": \"https://ns31418912.ip-54-38-37.eu:8006/api2/json/nodes/Proxmox-Node-HCM/qemu/2020/config\",\n",
      "    \"request_method\": \"post\",\n",
      "    \"request_body\": {\n",
      "        \"memory\": 512,\n",
      "        \"cpu\": \"kvm64\",\n",
      "        \"name\": \"test-vm-2020\"\n",
      "    }\n",
      "}\n",
      "API URL: https://ns31418912.ip-54-38-37.eu:8006/api2/json/nodes/Proxmox-Node-HCM/qemu/2020/config\n",
      "Request method: POST\n",
      "Request body: {'memory': 512, 'cpu': 'kvm64', 'name': 'test-vm-2020'}\n",
      "\u001b[38;5;200m\u001b[1;3mStatus: 200 OK\n",
      "Response: {\"data\":\"UPID:Proxmox-Node-HCM:00133040:B776A30B:66B23870:qmconfig:2020:oumaima@pve!oumaima-token:\"}\u001b[0m\n",
      "\n",
      "\u001b[1m> Finished chain.\u001b[0m\n",
      "The API call successfully set the initial configuration of the VM with ID 2020 on the node 'Proxmox-Node-HCM'. \n",
      "\n"
     ]
    }
   ],
   "source": [
    "user_input = (\n",
    "    f\"set the initial configuration of the VM with id 2020 on node 'Proxmox-Node-HCM', memory: 512, cputype: kvm64, name: test-vm-2020\"\n",
    ")\n",
    "response = chain.invoke(user_input)\n",
    "\n",
    "print(response['output'])\n"
   ]
  },
  {
   "cell_type": "markdown",
   "metadata": {},
   "source": [
    "### Display Config :"
   ]
  },
  {
   "cell_type": "code",
   "execution_count": 20,
   "metadata": {},
   "outputs": [
    {
     "name": "stdout",
     "output_type": "stream",
     "text": [
      "\n",
      "\n",
      "\u001b[1m> Entering new ProxmoxAPIChain chain...\u001b[0m\n",
      "Retrieved Document 0: {\"endpoint\": \"/api2/json/nodes/{node}/qemu/{vmid}/config\", \"method\": \"get\", \"summary\": \"Get Virtual machine/Vm Configuration (config file)\", \"parameters\": [{\"name\": \"node\", \"in\": \"path\", \"required\": true, \"description\": \"Node ID where the VM is located\", \"schema\": {\"type\": \"string\"}}, {\"name\": \"vmid\", \"in\": \"path\", \"required\": true, \"description\": \"ID of the VM\", \"schema\": {\"type\": \"integer\"}}, {\"name\": \"current\", \"in\": \"query\", \"required\": false, \"description\": \"Get current values instead of pending values\", \"schema\": {\"type\": \"boolean\"}}]}\n",
      "Retrieved Document 1: {\"endpoint\": \"/api2/json/nodes/{node}/lxc/{vmid}/config\", \"method\": \"get\", \"summary\": \"Get Lxc container configuration/config \", \"parameters\": [{\"name\": \"node\", \"in\": \"path\", \"required\": true, \"description\": \"The cluster node name\", \"schema\": {\"type\": \"string\"}}, {\"name\": \"vmid\", \"in\": \"path\", \"required\": true, \"description\": \"The (unique) ID of the VM\", \"schema\": {\"type\": \"integer\"}}, {\"name\": \"current\", \"in\": \"query\", \"required\": false, \"description\": \"Get current values (instead of pending values)\", \"schema\": {\"type\": \"boolean\", \"default\": false}}, {\"name\": \"snapshot\", \"in\": \"query\", \"required\": false, \"description\": \"Fetch config values from given snapshot\", \"schema\": {\"type\": \"string\"}}]}\n",
      "Retrieved Document 2: {\"endpoint\": \"/api2/json/nodes/{node}/qemu\", \"method\": \"get\", \"summary\": \"List Virtual machines (VMs) on a Node\", \"parameters\": [{\"name\": \"node\", \"in\": \"path\", \"required\": true, \"description\": \"Node ID where VMs are located\", \"schema\": {\"type\": \"string\"}}]}\n",
      "\n",
      "Request info: {\n",
      "    \"api_url\": \"https://ns31418912.ip-54-38-37.eu:8006/api2/json/nodes/Proxmox-Node-HCM/qemu/10000/config\",\n",
      "    \"request_method\": \"get\",\n",
      "    \"request_body\": {}\n",
      "}\n",
      "API URL: https://ns31418912.ip-54-38-37.eu:8006/api2/json/nodes/Proxmox-Node-HCM/qemu/10000/config\n",
      "Request method: GET\n",
      "Request body: {}\n",
      "\u001b[38;5;200m\u001b[1;3mStatus: 200 OK\n",
      "Response: {\"data\":{\"ide0\":\"local:10000/vm-10000-disk-0.qcow2,size=32G\",\"vmgenid\":\"b8e04adb-0e3e-47c3-96aa-030664990f72\",\"ostype\":\"win10\",\"cpu\":\"host\",\"memory\":2048,\"cores\":2,\"smbios1\":\"uuid=8805acea-8b9c-4160-a5f2-f628bcfb2fa1\",\"digest\":\"59e20aab32db96dd55416a2f026de668cbb4e68c\",\"boot\":\"order=ide0\",\"name\":\"test-vm\",\"net0\":\"virtio=AE:5F:88:AD:53:22,bridge=vmbr0\",\"meta\":\"creation-qemu=7.2.0,ctime=1722955873\"}}\u001b[0m\n",
      "\n",
      "\u001b[1m> Finished chain.\u001b[0m\n",
      "The API URL you provided retrieves the configuration of the VM with ID 10000 on the node 'Proxmox-Node-HCM'. \n",
      "\n"
     ]
    }
   ],
   "source": [
    "user_input = (\n",
    "    f\"get the configuration of the Vm with id 10000 on node 'Proxmox-Node-HCM'\"\n",
    ")\n",
    "response = chain.invoke(user_input)\n",
    "\n",
    "print(response['output'])"
   ]
  },
  {
   "cell_type": "code",
   "execution_count": 21,
   "metadata": {},
   "outputs": [
    {
     "name": "stdout",
     "output_type": "stream",
     "text": [
      "\n",
      "\n",
      "\u001b[1m> Entering new ProxmoxAPIChain chain...\u001b[0m\n",
      "Retrieved Document 0: {\"endpoint\": \"/api2/json/nodes/{node}/qemu/{vmid}/config\", \"method\": \"get\", \"summary\": \"Get Virtual machine/Vm Configuration (config file)\", \"parameters\": [{\"name\": \"node\", \"in\": \"path\", \"required\": true, \"description\": \"Node ID where the VM is located\", \"schema\": {\"type\": \"string\"}}, {\"name\": \"vmid\", \"in\": \"path\", \"required\": true, \"description\": \"ID of the VM\", \"schema\": {\"type\": \"integer\"}}, {\"name\": \"current\", \"in\": \"query\", \"required\": false, \"description\": \"Get current values instead of pending values\", \"schema\": {\"type\": \"boolean\"}}]}\n",
      "Retrieved Document 1: {\"endpoint\": \"/api2/json/nodes/{node}/lxc/{vmid}/config\", \"method\": \"get\", \"summary\": \"Get Lxc container configuration/config \", \"parameters\": [{\"name\": \"node\", \"in\": \"path\", \"required\": true, \"description\": \"The cluster node name\", \"schema\": {\"type\": \"string\"}}, {\"name\": \"vmid\", \"in\": \"path\", \"required\": true, \"description\": \"The (unique) ID of the VM\", \"schema\": {\"type\": \"integer\"}}, {\"name\": \"current\", \"in\": \"query\", \"required\": false, \"description\": \"Get current values (instead of pending values)\", \"schema\": {\"type\": \"boolean\", \"default\": false}}, {\"name\": \"snapshot\", \"in\": \"query\", \"required\": false, \"description\": \"Fetch config values from given snapshot\", \"schema\": {\"type\": \"string\"}}]}\n",
      "Retrieved Document 2: {\"endpoint\": \"/api2/json/nodes/{node}/qemu\", \"method\": \"get\", \"summary\": \"List Virtual machines (VMs) on a Node\", \"parameters\": [{\"name\": \"node\", \"in\": \"path\", \"required\": true, \"description\": \"Node ID where VMs are located\", \"schema\": {\"type\": \"string\"}}]}\n",
      "\n",
      "Request info: {\n",
      "    \"api_url\": \"https://ns31418912.ip-54-38-37.eu:8006/api2/json/nodes/Proxmox-Node-HCM/qemu/2020/config\",\n",
      "    \"request_method\": \"get\",\n",
      "    \"request_body\": {}\n",
      "}\n",
      "API URL: https://ns31418912.ip-54-38-37.eu:8006/api2/json/nodes/Proxmox-Node-HCM/qemu/2020/config\n",
      "Request method: GET\n",
      "Request body: {}\n",
      "\u001b[38;5;200m\u001b[1;3mStatus: 200 OK\n",
      "Response: {\"data\":{\"meta\":\"creation-qemu=7.2.0,ctime=1722955877\",\"name\":\"test-vm-2020\",\"digest\":\"209518fc1f1f3a986f6a01f1305d26856dc6b0c3\",\"boot\":\" \",\"memory\":512,\"smbios1\":\"uuid=933cf77c-ea2f-4db1-9f29-f03f76c5f170\",\"cpu\":\"kvm64\",\"vmgenid\":\"bb719ffe-f164-49f4-ad9a-06f521ac9b76\"}}\u001b[0m\n",
      "\n",
      "\u001b[1m> Finished chain.\u001b[0m\n",
      "The API response provides the configuration of the VM with ID 2020 on the node 'Proxmox-Node-HCM'. \n",
      "\n"
     ]
    }
   ],
   "source": [
    "user_input = (\n",
    "    f\"get the configuration of the Vm with id 2020 on node 'Proxmox-Node-HCM'\"\n",
    ")\n",
    "response = chain.invoke(user_input)\n",
    "\n",
    "print(response['output'])"
   ]
  },
  {
   "cell_type": "markdown",
   "metadata": {},
   "source": [
    "## Delete Vm :"
   ]
  },
  {
   "cell_type": "code",
   "execution_count": 22,
   "metadata": {},
   "outputs": [
    {
     "name": "stdout",
     "output_type": "stream",
     "text": [
      "\n",
      "\n",
      "\u001b[1m> Entering new ProxmoxAPIChain chain...\u001b[0m\n",
      "Retrieved Document 0: {\"endpoint\": \"/api2/json/nodes/{node}/qemu/{vmid}\", \"method\": \"delete\", \"summary\": \"Delete Virtual machine (VM)\", \"description\": \"Deleting a Virtual machine from a node .\", \"parameters\": [{\"name\": \"node\", \"in\": \"path\", \"required\": true, \"description\": \"Node ID where the VM is located\", \"schema\": {\"type\": \"string\"}}, {\"name\": \"vmid\", \"in\": \"path\", \"required\": true, \"description\": \"ID of the VM to delete\", \"schema\": {\"type\": \"string\"}}]}\n",
      "Retrieved Document 1: {\"endpoint\": \"/api2/json/nodes/{node}/lxc/{vmid}\", \"methods\": \"delete\", \"summary\": \"Delete LXC Container\", \"description\": \"Deleting a container from a node .\", \"parameters\": [{\"name\": \"node\", \"in\": \"path\", \"required\": true, \"description\": \"Node ID where the LXC container is located\", \"schema\": {\"type\": \"string\"}}, {\"name\": \"vmid\", \"in\": \"path\", \"required\": true, \"description\": \"ID of the LXC container to delete\", \"schema\": {\"type\": \"string\"}}]}\n",
      "Retrieved Document 2: {\"endpoint\": \"/api2/json/nodes/{node}/qemu\", \"method\": \"get\", \"summary\": \"List Virtual machines (VMs) on a Node\", \"parameters\": [{\"name\": \"node\", \"in\": \"path\", \"required\": true, \"description\": \"Node ID where VMs are located\", \"schema\": {\"type\": \"string\"}}]}\n",
      "\n",
      "Request info: {\n",
      "    \"api_url\": \"https://ns31418912.ip-54-38-37.eu:8006/api2/json/nodes/Proxmox-Node-HCM/qemu/10000\",\n",
      "    \"request_method\": \"delete\",\n",
      "    \"request_body\": {}\n",
      "}\n",
      "API URL: https://ns31418912.ip-54-38-37.eu:8006/api2/json/nodes/Proxmox-Node-HCM/qemu/10000\n",
      "Request method: DELETE\n",
      "Request body: {}\n",
      "\u001b[38;5;200m\u001b[1;3mStatus: 200 OK\n",
      "Response: {\"data\":\"UPID:Proxmox-Node-HCM:00133201:B776A874:66B2387E:qmdestroy:10000:oumaima@pve!oumaima-token:\"}\u001b[0m\n",
      "\n",
      "\u001b[1m> Finished chain.\u001b[0m\n",
      "The API successfully deleted the VM with ID 10000 on the node 'Proxmox-Node-HCM'. \n",
      "\n"
     ]
    }
   ],
   "source": [
    "user_input = (\n",
    "    f\"delete Vm with id 10000 on node 'Proxmox-Node-HCM'\"\n",
    ")\n",
    "response = chain.invoke(user_input)\n",
    "\n",
    "print(response['output'])"
   ]
  },
  {
   "cell_type": "code",
   "execution_count": 23,
   "metadata": {},
   "outputs": [
    {
     "name": "stdout",
     "output_type": "stream",
     "text": [
      "\n",
      "\n",
      "\u001b[1m> Entering new ProxmoxAPIChain chain...\u001b[0m\n",
      "Retrieved Document 0: {\"endpoint\": \"/api2/json/nodes/{node}/qemu/{vmid}\", \"method\": \"delete\", \"summary\": \"Delete Virtual machine (VM)\", \"description\": \"Deleting a Virtual machine from a node .\", \"parameters\": [{\"name\": \"node\", \"in\": \"path\", \"required\": true, \"description\": \"Node ID where the VM is located\", \"schema\": {\"type\": \"string\"}}, {\"name\": \"vmid\", \"in\": \"path\", \"required\": true, \"description\": \"ID of the VM to delete\", \"schema\": {\"type\": \"string\"}}]}\n",
      "Retrieved Document 1: {\"endpoint\": \"/api2/json/nodes/{node}/lxc/{vmid}\", \"methods\": \"delete\", \"summary\": \"Delete LXC Container\", \"description\": \"Deleting a container from a node .\", \"parameters\": [{\"name\": \"node\", \"in\": \"path\", \"required\": true, \"description\": \"Node ID where the LXC container is located\", \"schema\": {\"type\": \"string\"}}, {\"name\": \"vmid\", \"in\": \"path\", \"required\": true, \"description\": \"ID of the LXC container to delete\", \"schema\": {\"type\": \"string\"}}]}\n",
      "Retrieved Document 2: {\"endpoint\": \"/api2/json/nodes/{node}/qemu\", \"method\": \"get\", \"summary\": \"List Virtual machines (VMs) on a Node\", \"parameters\": [{\"name\": \"node\", \"in\": \"path\", \"required\": true, \"description\": \"Node ID where VMs are located\", \"schema\": {\"type\": \"string\"}}]}\n",
      "\n",
      "Request info: {\n",
      "    \"api_url\": \"https://ns31418912.ip-54-38-37.eu:8006/api2/json/nodes/Proxmox-Node-HCM/qemu/2020\",\n",
      "    \"request_method\": \"delete\",\n",
      "    \"request_body\": {}\n",
      "}\n",
      "API URL: https://ns31418912.ip-54-38-37.eu:8006/api2/json/nodes/Proxmox-Node-HCM/qemu/2020\n",
      "Request method: DELETE\n",
      "Request body: {}\n",
      "\u001b[38;5;200m\u001b[1;3mStatus: 200 OK\n",
      "Response: {\"data\":\"UPID:Proxmox-Node-HCM:00133316:B776AA3B:66B23883:qmdestroy:2020:oumaima@pve!oumaima-token:\"}\u001b[0m\n",
      "\n",
      "\u001b[1m> Finished chain.\u001b[0m\n",
      "The API successfully deleted the VM with ID 2020 on the node 'Proxmox-Node-HCM'. \n",
      "\n"
     ]
    }
   ],
   "source": [
    "user_input = (\n",
    "    f\"delete Vm with id 2020 on node 'Proxmox-Node-HCM'\"\n",
    ")\n",
    "response = chain.invoke(user_input)\n",
    "\n",
    "print(response['output'])"
   ]
  },
  {
   "cell_type": "markdown",
   "metadata": {},
   "source": [
    "# Containers Management :"
   ]
  },
  {
   "cell_type": "markdown",
   "metadata": {},
   "source": [
    "## List all available containers :"
   ]
  },
  {
   "cell_type": "code",
   "execution_count": 24,
   "metadata": {},
   "outputs": [
    {
     "name": "stdout",
     "output_type": "stream",
     "text": [
      "\n",
      "\n",
      "\u001b[1m> Entering new ProxmoxAPIChain chain...\u001b[0m\n",
      "Retrieved Document 0: {\"endpoint\": \"/api2/json/nodes/{node}/lxc\", \"methods\": \"get\", \"summary\": \"List LXC Containers on a Node\", \"description\": \"List all containers available on a node\", \"parameters\": [{\"name\": \"node\", \"in\": \"path\", \"required\": true, \"description\": \"Node ID where LXC containers are located\", \"schema\": {\"type\": \"string\"}}]}\n",
      "Retrieved Document 1: {\"endpoint\": \"/api2/json/nodes/{node}/lxc/{vmid}/config\", \"method\": \"put\", \"summary\": \"Set container configuration (config file)\", \"description\": \"Modify or set the configuration of an LXC container identified by {vmid} on the specified {node}.\", \"parameters\": [{\"name\": \"node\", \"in\": \"path\", \"required\": true, \"description\": \"The cluster node name\", \"schema\": {\"type\": \"string\"}}, {\"name\": \"vmid\", \"in\": \"path\", \"required\": true, \"description\": \"The (unique) ID of the VM\", \"schema\": {\"type\": \"integer\"}}], \"requestBody\": {\"required\": true, \"content\": {\"application/json\": {\"schema\": {\"type\": \"object\", \"properties\": {\"arch\": {\"type\": \"string\", \"enum\": [\"amd64\", \"i386\", \"arm64\", \"armhf\", \"riscv32\", \"riscv64\"], \"description\": \"OS architecture type\"}, \"cmode\": {\"type\": \"string\", \"enum\": [\"shell\", \"console\", \"tty\"], \"description\": \"Console mode\"}, \"console\": {\"type\": \"boolean\", \"description\": \"Attach a console device (/dev/console) to the container\"}, \"cores\": {\"type\": \"integer\", \"description\": \"The number of cores assigned to the container\"}, \"cpulimit\": {\"type\": \"number\", \"description\": \"Limit of CPU usage\"}, \"cpuunits\": {\"type\": \"integer\", \"description\": \"CPU weight for a container\"}, \"debug\": {\"type\": \"boolean\", \"description\": \"Try to be more verbose\"}, \"delete\": {\"type\": \"string\", \"description\": \"A list of settings you want to delete\"}, \"description\": {\"type\": \"string\", \"description\": \"Description for the Container\"}, \"dev[n]\": {\"type\": \"string\", \"description\": \"Device to pass through to the container\"}, \"digest\": {\"type\": \"string\", \"description\": \"Prevent changes if current configuration file has different SHA1 digest\"}, \"features\": {\"type\": \"string\", \"description\": \"Allow containers access to advanced features\"}, \"hookscript\": {\"type\": \"string\", \"description\": \"Script that will be executed during various steps in the container's lifetime\"}, \"hostname\": {\"type\": \"string\", \"description\": \"Set a host name for the container\"}, \"lock\": {\"type\": \"string\", \"enum\": [\"backup\", \"create\", \"destroyed\", \"disk\", \"fstrim\", \"migrate\", \"mounted\", \"rollback\", \"snapshot\", \"snapshot-delete\"], \"description\": \"Lock/unlock the container\"}, \"memory\": {\"type\": \"integer\", \"description\": \"Amount of RAM for the container in MB\"}, \"mp[n]\": {\"type\": \"string\", \"description\": \"Use volume as container mount point\"}, \"nameserver\": {\"type\": \"string\", \"description\": \"Sets DNS server IP address for a container\"}, \"net[n]\": {\"type\": \"string\", \"description\": \"Specifies network interfaces for the container\"}, \"onboot\": {\"type\": \"boolean\", \"description\": \"Specifies whether a container will be started during system bootup\"}, \"ostype\": {\"type\": \"string\", \"enum\": [\"debian\", \"devuan\", \"ubuntu\", \"centos\", \"fedora\", \"opensuse\", \"archlinux\", \"alpine\", \"gentoo\", \"nixos\", \"unmanaged\"], \"description\": \"OS type\"}, \"protection\": {\"type\": \"boolean\", \"description\": \"Sets the protection flag of the container\"}, \"revert\": {\"type\": \"string\", \"description\": \"Revert a pending change\"}, \"rootfs\": {\"type\": \"string\", \"description\": \"Use volume as container root\"}, \"searchdomain\": {\"type\": \"string\", \"description\": \"Sets DNS search domains for a container\"}, \"startup\": {\"type\": \"string\", \"description\": \"Startup and shutdown behavior\"}, \"swap\": {\"type\": \"integer\", \"description\": \"Amount of SWAP for the container in MB\"}, \"tags\": {\"type\": \"string\", \"description\": \"Tags of the Container\"}, \"template\": {\"type\": \"boolean\", \"description\": \"Enable/disable Template\"}, \"timezone\": {\"type\": \"string\", \"description\": \"Time zone to use in the container\"}, \"tty\": {\"type\": \"integer\", \"description\": \"Specify the number of tty available to the container\"}, \"unprivileged\": {\"type\": \"boolean\", \"description\": \"Makes the container run as unprivileged user\"}, \"unused[n]\": {\"type\": \"string\", \"description\": \"Reference to unused volumes\"}}}}}}}\n",
      "Retrieved Document 2: {\"endpoint\": \"/api2/json/nodes/{node}/qemu\", \"method\": \"get\", \"summary\": \"List Virtual machines (VMs) on a Node\", \"parameters\": [{\"name\": \"node\", \"in\": \"path\", \"required\": true, \"description\": \"Node ID where VMs are located\", \"schema\": {\"type\": \"string\"}}]}\n",
      "\n",
      "Request info: {\n",
      "    \"api_url\": \"https://ns31418912.ip-54-38-37.eu:8006/api2/json/nodes/Proxmox-Node-HCM/lxc\",\n",
      "    \"request_method\": \"get\",\n",
      "    \"request_body\": {}\n",
      "}\n",
      "API URL: https://ns31418912.ip-54-38-37.eu:8006/api2/json/nodes/Proxmox-Node-HCM/lxc\n",
      "Request method: GET\n",
      "Request body: {}\n",
      "\u001b[38;5;200m\u001b[1;3mStatus: 200 OK\n",
      "Response: {\"data\":[{\"tags\":\"critical\",\"diskread\":354504704,\"uptime\":6129324,\"pid\":1412430,\"diskwrite\":634003456,\"cpu\":0,\"cpus\":1,\"maxmem\":536870912,\"netout\":2831451,\"name\":\"DHCP-SERVER\",\"vmid\":\"103\",\"disk\":793698304,\"swap\":0,\"netin\":234759359,\"type\":\"lxc\",\"maxdisk\":8350298112,\"mem\":122793984,\"maxswap\":536870912,\"status\":\"running\"},{\"maxmem\":4294967296,\"netout\":3243074149,\"name\":\"Gateway-Node\",\"diskwrite\":26946686976,\"cpu\":0,\"cpus\":2,\"uptime\":6588325,\"pid\":3629214,\"tags\":\"critical\",\"diskread\":1490743296,\"disk\":73427795968,\"swap\":589824,\"vmid\":\"1000\",\"maxdisk\":137266794496,\"type\":\"lxc\",\"netin\":5696007740,\"status\":\"running\",\"mem\":191193088,\"maxswap\":2145386496},{\"diskread\":20467499008,\"pid\":1717477,\"uptime\":6054811,\"cpu\":0,\"cpus\":32,\"diskwrite\":250300280832,\"netout\":383254435,\"name\":\"LocalAI\",\"maxmem\":33554432000,\"vmid\":\"105\",\"swap\":18313216,\"disk\":46941270016,\"netin\":16147776070,\"type\":\"lxc\",\"maxdisk\":67318312960,\"maxswap\":33554432000,\"mem\":3356897280,\"status\":\"running\"},{\"mem\":370397184,\"maxswap\":1073741824,\"status\":\"running\",\"netin\":2708797333,\"type\":\"lxc\",\"maxdisk\":8350298112,\"vmid\":\"3002\",\"disk\":2242805760,\"swap\":77824,\"tags\":\"poc\",\"diskread\":1319997440,\"uptime\":16864343,\"pid\":2182249,\"diskwrite\":11763813376,\"cpus\":1,\"cpu\":0,\"maxmem\":2145386496,\"name\":\"pdns-test\",\"netout\":127279173}]}\u001b[0m\n",
      "\n",
      "\u001b[1m> Finished chain.\u001b[0m\n",
      "The containers on node 'Proxmox-Node-HCM' are: DHCP-SERVER, Gateway-Node, LocalAI, pdns-test. \n",
      "\n"
     ]
    }
   ],
   "source": [
    "user_input = (\n",
    "    f\"list all containers on node 'Proxmox-Node-HCM'\"\n",
    ")\n",
    "response = chain.invoke(user_input)\n",
    "\n",
    "print(response['output'])"
   ]
  },
  {
   "cell_type": "markdown",
   "metadata": {},
   "source": [
    "## Create Container :"
   ]
  },
  {
   "cell_type": "markdown",
   "metadata": {},
   "source": [
    "### New container with initial config :"
   ]
  },
  {
   "cell_type": "code",
   "execution_count": 25,
   "metadata": {},
   "outputs": [
    {
     "name": "stdout",
     "output_type": "stream",
     "text": [
      "\n",
      "\n",
      "\u001b[1m> Entering new ProxmoxAPIChain chain...\u001b[0m\n",
      "Retrieved Document 0: {\"endpoint\": \"/api2/json/nodes/{node}/lxc\", \"methods\": \"post\", \"summary\": \"Create LXC Container\", \"parameters\": [{\"name\": \"node\", \"in\": \"path\", \"required\": true, \"description\": \"Node ID where the LXC container will be created\", \"schema\": {\"type\": \"string\"}}], \"requestBody\": {\"required\": true, \"content\": {\"application/json\": {\"schema\": {\"type\": \"object\", \"properties\": {\"vmid\": {\"type\": \"integer\", \"description\": \"Container ID\"}, \"hostname\": {\"type\": \"string\", \"description\": \"Hostname of the container\"}, \"memory\": {\"type\": \"integer\", \"description\": \"Memory size in MB\"}, \"cores\": {\"type\": \"integer\", \"description\": \"Number of CPU cores\"}, \"rootfs\": {\"type\": \"string\", \"description\": \"Root filesystem, e.g., 'local:10' for 10GB\"}, \"net0\": {\"type\": \"string\", \"description\": \"Network configuration, e.g., 'bridge=vmbr0'\"}, \"ostemplate\": {\"type\": \"string\", \"description\": \"OS template for the container\"}}, \"required\": [\"node\", \"vmid\", \"ostemplate\"]}}}}}\n",
      "Retrieved Document 1: {\"endpoint\": \"/api2/json/nodes/{node}/qemu\", \"method\": \"post\", \"summary\": \"Create a Virtual machine (VM) \", \"description\": \"Use this endpoint to create a new virtual machine on the specified node. This endpoint is used for initial creation and can be used for the allocation of resources such as memory, cores, and storage.\", \"parameters\": [{\"name\": \"node\", \"in\": \"path\", \"required\": true, \"description\": \"Node ID where the VM will be created\", \"schema\": {\"type\": \"string\"}}], \"requestBody\": {\"required\": true, \"content\": {\"application/json\": {\"schema\": {\"type\": \"object\", \"properties\": {\"vmid\": {\"type\": \"integer\", \"description\": \"VM ID\"}, \"name\": {\"type\": \"string\", \"description\": \"Name of the VM\"}, \"memory\": {\"type\": \"integer\", \"description\": \"Memory size in MB\"}, \"cores\": {\"type\": \"integer\", \"description\": \"Number of CPU cores\"}, \"ide0\": {\"type\": \"string\", \"description\": \"Disk size and format, e.g., \\\"local:32,format=qcow2\\\"\"}, \"net0\": {\"type\": \"string\", \"description\": \"Network configuration, e.g., \\\"virtio,bridge=vmbr0\\\"\"}, \"ostype\": {\"type\": \"string\", \"description\": \"OS type, e.g., \\\"l26\\\" for Linux\"}}, \"required\": [\"node\", \"vmid\"]}}}}}\n",
      "Retrieved Document 2: {\"endpoint\": \"/api2/json/nodes/{node}/lxc/{vmid}/config\", \"method\": \"put\", \"summary\": \"Set container configuration (config file)\", \"description\": \"Modify or set the configuration of an LXC container identified by {vmid} on the specified {node}.\", \"parameters\": [{\"name\": \"node\", \"in\": \"path\", \"required\": true, \"description\": \"The cluster node name\", \"schema\": {\"type\": \"string\"}}, {\"name\": \"vmid\", \"in\": \"path\", \"required\": true, \"description\": \"The (unique) ID of the VM\", \"schema\": {\"type\": \"integer\"}}], \"requestBody\": {\"required\": true, \"content\": {\"application/json\": {\"schema\": {\"type\": \"object\", \"properties\": {\"arch\": {\"type\": \"string\", \"enum\": [\"amd64\", \"i386\", \"arm64\", \"armhf\", \"riscv32\", \"riscv64\"], \"description\": \"OS architecture type\"}, \"cmode\": {\"type\": \"string\", \"enum\": [\"shell\", \"console\", \"tty\"], \"description\": \"Console mode\"}, \"console\": {\"type\": \"boolean\", \"description\": \"Attach a console device (/dev/console) to the container\"}, \"cores\": {\"type\": \"integer\", \"description\": \"The number of cores assigned to the container\"}, \"cpulimit\": {\"type\": \"number\", \"description\": \"Limit of CPU usage\"}, \"cpuunits\": {\"type\": \"integer\", \"description\": \"CPU weight for a container\"}, \"debug\": {\"type\": \"boolean\", \"description\": \"Try to be more verbose\"}, \"delete\": {\"type\": \"string\", \"description\": \"A list of settings you want to delete\"}, \"description\": {\"type\": \"string\", \"description\": \"Description for the Container\"}, \"dev[n]\": {\"type\": \"string\", \"description\": \"Device to pass through to the container\"}, \"digest\": {\"type\": \"string\", \"description\": \"Prevent changes if current configuration file has different SHA1 digest\"}, \"features\": {\"type\": \"string\", \"description\": \"Allow containers access to advanced features\"}, \"hookscript\": {\"type\": \"string\", \"description\": \"Script that will be executed during various steps in the container's lifetime\"}, \"hostname\": {\"type\": \"string\", \"description\": \"Set a host name for the container\"}, \"lock\": {\"type\": \"string\", \"enum\": [\"backup\", \"create\", \"destroyed\", \"disk\", \"fstrim\", \"migrate\", \"mounted\", \"rollback\", \"snapshot\", \"snapshot-delete\"], \"description\": \"Lock/unlock the container\"}, \"memory\": {\"type\": \"integer\", \"description\": \"Amount of RAM for the container in MB\"}, \"mp[n]\": {\"type\": \"string\", \"description\": \"Use volume as container mount point\"}, \"nameserver\": {\"type\": \"string\", \"description\": \"Sets DNS server IP address for a container\"}, \"net[n]\": {\"type\": \"string\", \"description\": \"Specifies network interfaces for the container\"}, \"onboot\": {\"type\": \"boolean\", \"description\": \"Specifies whether a container will be started during system bootup\"}, \"ostype\": {\"type\": \"string\", \"enum\": [\"debian\", \"devuan\", \"ubuntu\", \"centos\", \"fedora\", \"opensuse\", \"archlinux\", \"alpine\", \"gentoo\", \"nixos\", \"unmanaged\"], \"description\": \"OS type\"}, \"protection\": {\"type\": \"boolean\", \"description\": \"Sets the protection flag of the container\"}, \"revert\": {\"type\": \"string\", \"description\": \"Revert a pending change\"}, \"rootfs\": {\"type\": \"string\", \"description\": \"Use volume as container root\"}, \"searchdomain\": {\"type\": \"string\", \"description\": \"Sets DNS search domains for a container\"}, \"startup\": {\"type\": \"string\", \"description\": \"Startup and shutdown behavior\"}, \"swap\": {\"type\": \"integer\", \"description\": \"Amount of SWAP for the container in MB\"}, \"tags\": {\"type\": \"string\", \"description\": \"Tags of the Container\"}, \"template\": {\"type\": \"boolean\", \"description\": \"Enable/disable Template\"}, \"timezone\": {\"type\": \"string\", \"description\": \"Time zone to use in the container\"}, \"tty\": {\"type\": \"integer\", \"description\": \"Specify the number of tty available to the container\"}, \"unprivileged\": {\"type\": \"boolean\", \"description\": \"Makes the container run as unprivileged user\"}, \"unused[n]\": {\"type\": \"string\", \"description\": \"Reference to unused volumes\"}}}}}}}\n",
      "\n",
      "Request info: {\n",
      "    \"api_url\": \"https://ns31418912.ip-54-38-37.eu:8006/api2/json/nodes/Proxmox-Node-HCM/lxc\",\n",
      "    \"request_method\": \"post\",\n",
      "    \"request_body\": {\n",
      "        \"vmid\": 1010,\n",
      "        \"hostname\": \"my-container\",\n",
      "        \"memory\": 512,\n",
      "        \"cores\": 1,\n",
      "        \"rootfs\": \"local:10\",\n",
      "        \"net0\": \"name=eth0,bridge=vmbr0\",\n",
      "        \"ostemplate\": \"local:vztmpl/ubuntu-22.04-standard_22.04-1_amd64.tar.zst\"\n",
      "    }\n",
      "}\n",
      "API URL: https://ns31418912.ip-54-38-37.eu:8006/api2/json/nodes/Proxmox-Node-HCM/lxc\n",
      "Request method: POST\n",
      "Request body: {'vmid': 1010, 'hostname': 'my-container', 'memory': 512, 'cores': 1, 'rootfs': 'local:10', 'net0': 'name=eth0,bridge=vmbr0', 'ostemplate': 'local:vztmpl/ubuntu-22.04-standard_22.04-1_amd64.tar.zst'}\n",
      "\u001b[38;5;200m\u001b[1;3mStatus: 200 OK\n",
      "Response: {\"data\":\"UPID:Proxmox-Node-HCM:00133489:B776AE97:66B2388E:vzcreate:1010:oumaima@pve!oumaima-token:\"}\u001b[0m\n",
      "\n",
      "\u001b[1m> Finished chain.\u001b[0m\n",
      "The API successfully created a container with the specified parameters on the 'Proxmox-Node-HCM' node. \n",
      "\n"
     ]
    }
   ],
   "source": [
    "user_input = (\n",
    "    \"Create a container on node 'Proxmox-Node-HCM' where Container ID : 1010\\n\"\n",
    "    \"Hostname: my-container\\n\"\n",
    "    \"Memory (in MB): 512\\n\"\n",
    "    \"CPU Cores: 1\\n\"\n",
    "    \"Root Filesystem (e.g., 'local:10' for 10GB): local:10\\n\"\n",
    "    \"Network Configuration (e.g., 'name=eth0,bridge=vmbr0'): name=eth0,bridge=vmbr0\\n\"\n",
    "    \"OS Template: local:vztmpl/ubuntu-22.04-standard_22.04-1_amd64.tar.zst\"\n",
    ")\n",
    "\n",
    "response = chain.invoke(user_input)\n",
    "\n",
    "print(response['output'])\n"
   ]
  },
  {
   "cell_type": "markdown",
   "metadata": {},
   "source": [
    "### New container with just the required fields :"
   ]
  },
  {
   "cell_type": "code",
   "execution_count": 26,
   "metadata": {},
   "outputs": [
    {
     "name": "stdout",
     "output_type": "stream",
     "text": [
      "\n",
      "\n",
      "\u001b[1m> Entering new ProxmoxAPIChain chain...\u001b[0m\n",
      "Retrieved Document 0: {\"endpoint\": \"/api2/json/nodes/{node}/lxc\", \"methods\": \"post\", \"summary\": \"Create LXC Container\", \"parameters\": [{\"name\": \"node\", \"in\": \"path\", \"required\": true, \"description\": \"Node ID where the LXC container will be created\", \"schema\": {\"type\": \"string\"}}], \"requestBody\": {\"required\": true, \"content\": {\"application/json\": {\"schema\": {\"type\": \"object\", \"properties\": {\"vmid\": {\"type\": \"integer\", \"description\": \"Container ID\"}, \"hostname\": {\"type\": \"string\", \"description\": \"Hostname of the container\"}, \"memory\": {\"type\": \"integer\", \"description\": \"Memory size in MB\"}, \"cores\": {\"type\": \"integer\", \"description\": \"Number of CPU cores\"}, \"rootfs\": {\"type\": \"string\", \"description\": \"Root filesystem, e.g., 'local:10' for 10GB\"}, \"net0\": {\"type\": \"string\", \"description\": \"Network configuration, e.g., 'bridge=vmbr0'\"}, \"ostemplate\": {\"type\": \"string\", \"description\": \"OS template for the container\"}}, \"required\": [\"node\", \"vmid\", \"ostemplate\"]}}}}}\n",
      "Retrieved Document 1: {\"endpoint\": \"/api2/json/nodes/{node}/qemu\", \"method\": \"post\", \"summary\": \"Create a Virtual machine (VM) \", \"description\": \"Use this endpoint to create a new virtual machine on the specified node. This endpoint is used for initial creation and can be used for the allocation of resources such as memory, cores, and storage.\", \"parameters\": [{\"name\": \"node\", \"in\": \"path\", \"required\": true, \"description\": \"Node ID where the VM will be created\", \"schema\": {\"type\": \"string\"}}], \"requestBody\": {\"required\": true, \"content\": {\"application/json\": {\"schema\": {\"type\": \"object\", \"properties\": {\"vmid\": {\"type\": \"integer\", \"description\": \"VM ID\"}, \"name\": {\"type\": \"string\", \"description\": \"Name of the VM\"}, \"memory\": {\"type\": \"integer\", \"description\": \"Memory size in MB\"}, \"cores\": {\"type\": \"integer\", \"description\": \"Number of CPU cores\"}, \"ide0\": {\"type\": \"string\", \"description\": \"Disk size and format, e.g., \\\"local:32,format=qcow2\\\"\"}, \"net0\": {\"type\": \"string\", \"description\": \"Network configuration, e.g., \\\"virtio,bridge=vmbr0\\\"\"}, \"ostype\": {\"type\": \"string\", \"description\": \"OS type, e.g., \\\"l26\\\" for Linux\"}}, \"required\": [\"node\", \"vmid\"]}}}}}\n",
      "Retrieved Document 2: {\"endpoint\": \"/api2/json/nodes/{node}/lxc/{vmid}/config\", \"method\": \"put\", \"summary\": \"Set container configuration (config file)\", \"description\": \"Modify or set the configuration of an LXC container identified by {vmid} on the specified {node}.\", \"parameters\": [{\"name\": \"node\", \"in\": \"path\", \"required\": true, \"description\": \"The cluster node name\", \"schema\": {\"type\": \"string\"}}, {\"name\": \"vmid\", \"in\": \"path\", \"required\": true, \"description\": \"The (unique) ID of the VM\", \"schema\": {\"type\": \"integer\"}}], \"requestBody\": {\"required\": true, \"content\": {\"application/json\": {\"schema\": {\"type\": \"object\", \"properties\": {\"arch\": {\"type\": \"string\", \"enum\": [\"amd64\", \"i386\", \"arm64\", \"armhf\", \"riscv32\", \"riscv64\"], \"description\": \"OS architecture type\"}, \"cmode\": {\"type\": \"string\", \"enum\": [\"shell\", \"console\", \"tty\"], \"description\": \"Console mode\"}, \"console\": {\"type\": \"boolean\", \"description\": \"Attach a console device (/dev/console) to the container\"}, \"cores\": {\"type\": \"integer\", \"description\": \"The number of cores assigned to the container\"}, \"cpulimit\": {\"type\": \"number\", \"description\": \"Limit of CPU usage\"}, \"cpuunits\": {\"type\": \"integer\", \"description\": \"CPU weight for a container\"}, \"debug\": {\"type\": \"boolean\", \"description\": \"Try to be more verbose\"}, \"delete\": {\"type\": \"string\", \"description\": \"A list of settings you want to delete\"}, \"description\": {\"type\": \"string\", \"description\": \"Description for the Container\"}, \"dev[n]\": {\"type\": \"string\", \"description\": \"Device to pass through to the container\"}, \"digest\": {\"type\": \"string\", \"description\": \"Prevent changes if current configuration file has different SHA1 digest\"}, \"features\": {\"type\": \"string\", \"description\": \"Allow containers access to advanced features\"}, \"hookscript\": {\"type\": \"string\", \"description\": \"Script that will be executed during various steps in the container's lifetime\"}, \"hostname\": {\"type\": \"string\", \"description\": \"Set a host name for the container\"}, \"lock\": {\"type\": \"string\", \"enum\": [\"backup\", \"create\", \"destroyed\", \"disk\", \"fstrim\", \"migrate\", \"mounted\", \"rollback\", \"snapshot\", \"snapshot-delete\"], \"description\": \"Lock/unlock the container\"}, \"memory\": {\"type\": \"integer\", \"description\": \"Amount of RAM for the container in MB\"}, \"mp[n]\": {\"type\": \"string\", \"description\": \"Use volume as container mount point\"}, \"nameserver\": {\"type\": \"string\", \"description\": \"Sets DNS server IP address for a container\"}, \"net[n]\": {\"type\": \"string\", \"description\": \"Specifies network interfaces for the container\"}, \"onboot\": {\"type\": \"boolean\", \"description\": \"Specifies whether a container will be started during system bootup\"}, \"ostype\": {\"type\": \"string\", \"enum\": [\"debian\", \"devuan\", \"ubuntu\", \"centos\", \"fedora\", \"opensuse\", \"archlinux\", \"alpine\", \"gentoo\", \"nixos\", \"unmanaged\"], \"description\": \"OS type\"}, \"protection\": {\"type\": \"boolean\", \"description\": \"Sets the protection flag of the container\"}, \"revert\": {\"type\": \"string\", \"description\": \"Revert a pending change\"}, \"rootfs\": {\"type\": \"string\", \"description\": \"Use volume as container root\"}, \"searchdomain\": {\"type\": \"string\", \"description\": \"Sets DNS search domains for a container\"}, \"startup\": {\"type\": \"string\", \"description\": \"Startup and shutdown behavior\"}, \"swap\": {\"type\": \"integer\", \"description\": \"Amount of SWAP for the container in MB\"}, \"tags\": {\"type\": \"string\", \"description\": \"Tags of the Container\"}, \"template\": {\"type\": \"boolean\", \"description\": \"Enable/disable Template\"}, \"timezone\": {\"type\": \"string\", \"description\": \"Time zone to use in the container\"}, \"tty\": {\"type\": \"integer\", \"description\": \"Specify the number of tty available to the container\"}, \"unprivileged\": {\"type\": \"boolean\", \"description\": \"Makes the container run as unprivileged user\"}, \"unused[n]\": {\"type\": \"string\", \"description\": \"Reference to unused volumes\"}}}}}}}\n",
      "\n",
      "Request info: {\n",
      "    \"api_url\": \"https://ns31418912.ip-54-38-37.eu:8006/api2/json/nodes/Proxmox-Node-HCM/lxc\",\n",
      "    \"request_method\": \"post\",\n",
      "    \"request_body\": {\n",
      "        \"vmid\": 3030,\n",
      "        \"ostemplate\": \"local:vztmpl/ubuntu-22.04-standard_22.04-1_amd64.tar.zst\"\n",
      "    }\n",
      "}\n",
      "API URL: https://ns31418912.ip-54-38-37.eu:8006/api2/json/nodes/Proxmox-Node-HCM/lxc\n",
      "Request method: POST\n",
      "Request body: {'vmid': 3030, 'ostemplate': 'local:vztmpl/ubuntu-22.04-standard_22.04-1_amd64.tar.zst'}\n",
      "\u001b[38;5;200m\u001b[1;3mStatus: 200 OK\n",
      "Response: {\"data\":\"UPID:Proxmox-Node-HCM:00133600:B776B096:66B23893:vzcreate:3030:oumaima@pve!oumaima-token:\"}\u001b[0m\n",
      "\n",
      "\u001b[1m> Finished chain.\u001b[0m\n",
      "The API successfully created a container with ID 3030 on the node 'Proxmox-Node-HCM' using the provided OS template. \n",
      "\n"
     ]
    }
   ],
   "source": [
    "user_input = (\n",
    "    \"Create a container on node 'Proxmox-Node-HCM' where Container ID : 3030\\n\"\n",
    "    \"OS Template: local:vztmpl/ubuntu-22.04-standard_22.04-1_amd64.tar.zst\"\n",
    ")\n",
    "\n",
    "response = chain.invoke(user_input)\n",
    "\n",
    "print(response['output'])\n"
   ]
  },
  {
   "cell_type": "markdown",
   "metadata": {},
   "source": [
    "## Manage container's config :"
   ]
  },
  {
   "cell_type": "markdown",
   "metadata": {},
   "source": [
    "### Update Config :"
   ]
  },
  {
   "cell_type": "code",
   "execution_count": 27,
   "metadata": {},
   "outputs": [
    {
     "name": "stdout",
     "output_type": "stream",
     "text": [
      "\n",
      "\n",
      "\u001b[1m> Entering new ProxmoxAPIChain chain...\u001b[0m\n",
      "Retrieved Document 0: {\"endpoint\": \"/api2/json/nodes/{node}/lxc/{vmid}/config\", \"method\": \"put\", \"summary\": \"Set container configuration (config file)\", \"description\": \"Modify or set the configuration of an LXC container identified by {vmid} on the specified {node}.\", \"parameters\": [{\"name\": \"node\", \"in\": \"path\", \"required\": true, \"description\": \"The cluster node name\", \"schema\": {\"type\": \"string\"}}, {\"name\": \"vmid\", \"in\": \"path\", \"required\": true, \"description\": \"The (unique) ID of the VM\", \"schema\": {\"type\": \"integer\"}}], \"requestBody\": {\"required\": true, \"content\": {\"application/json\": {\"schema\": {\"type\": \"object\", \"properties\": {\"arch\": {\"type\": \"string\", \"enum\": [\"amd64\", \"i386\", \"arm64\", \"armhf\", \"riscv32\", \"riscv64\"], \"description\": \"OS architecture type\"}, \"cmode\": {\"type\": \"string\", \"enum\": [\"shell\", \"console\", \"tty\"], \"description\": \"Console mode\"}, \"console\": {\"type\": \"boolean\", \"description\": \"Attach a console device (/dev/console) to the container\"}, \"cores\": {\"type\": \"integer\", \"description\": \"The number of cores assigned to the container\"}, \"cpulimit\": {\"type\": \"number\", \"description\": \"Limit of CPU usage\"}, \"cpuunits\": {\"type\": \"integer\", \"description\": \"CPU weight for a container\"}, \"debug\": {\"type\": \"boolean\", \"description\": \"Try to be more verbose\"}, \"delete\": {\"type\": \"string\", \"description\": \"A list of settings you want to delete\"}, \"description\": {\"type\": \"string\", \"description\": \"Description for the Container\"}, \"dev[n]\": {\"type\": \"string\", \"description\": \"Device to pass through to the container\"}, \"digest\": {\"type\": \"string\", \"description\": \"Prevent changes if current configuration file has different SHA1 digest\"}, \"features\": {\"type\": \"string\", \"description\": \"Allow containers access to advanced features\"}, \"hookscript\": {\"type\": \"string\", \"description\": \"Script that will be executed during various steps in the container's lifetime\"}, \"hostname\": {\"type\": \"string\", \"description\": \"Set a host name for the container\"}, \"lock\": {\"type\": \"string\", \"enum\": [\"backup\", \"create\", \"destroyed\", \"disk\", \"fstrim\", \"migrate\", \"mounted\", \"rollback\", \"snapshot\", \"snapshot-delete\"], \"description\": \"Lock/unlock the container\"}, \"memory\": {\"type\": \"integer\", \"description\": \"Amount of RAM for the container in MB\"}, \"mp[n]\": {\"type\": \"string\", \"description\": \"Use volume as container mount point\"}, \"nameserver\": {\"type\": \"string\", \"description\": \"Sets DNS server IP address for a container\"}, \"net[n]\": {\"type\": \"string\", \"description\": \"Specifies network interfaces for the container\"}, \"onboot\": {\"type\": \"boolean\", \"description\": \"Specifies whether a container will be started during system bootup\"}, \"ostype\": {\"type\": \"string\", \"enum\": [\"debian\", \"devuan\", \"ubuntu\", \"centos\", \"fedora\", \"opensuse\", \"archlinux\", \"alpine\", \"gentoo\", \"nixos\", \"unmanaged\"], \"description\": \"OS type\"}, \"protection\": {\"type\": \"boolean\", \"description\": \"Sets the protection flag of the container\"}, \"revert\": {\"type\": \"string\", \"description\": \"Revert a pending change\"}, \"rootfs\": {\"type\": \"string\", \"description\": \"Use volume as container root\"}, \"searchdomain\": {\"type\": \"string\", \"description\": \"Sets DNS search domains for a container\"}, \"startup\": {\"type\": \"string\", \"description\": \"Startup and shutdown behavior\"}, \"swap\": {\"type\": \"integer\", \"description\": \"Amount of SWAP for the container in MB\"}, \"tags\": {\"type\": \"string\", \"description\": \"Tags of the Container\"}, \"template\": {\"type\": \"boolean\", \"description\": \"Enable/disable Template\"}, \"timezone\": {\"type\": \"string\", \"description\": \"Time zone to use in the container\"}, \"tty\": {\"type\": \"integer\", \"description\": \"Specify the number of tty available to the container\"}, \"unprivileged\": {\"type\": \"boolean\", \"description\": \"Makes the container run as unprivileged user\"}, \"unused[n]\": {\"type\": \"string\", \"description\": \"Reference to unused volumes\"}}}}}}}\n",
      "Retrieved Document 1: {\"endpoint\": \"/api2/json/nodes/{node}/qemu/{vmid}/config\", \"method\": \"put\", \"summary\": \"Update virtual machine configuration options\", \"description\": \"Use this endpoint to modify the configuration of an existing virtual machine. This is useful when you need to change settings such as memory, cores, network devices, and other VM parameters for an already running or stopped VM.\", \"parameters\": [{\"name\": \"node\", \"in\": \"path\", \"required\": true, \"description\": \"The cluster node name.\", \"schema\": {\"type\": \"string\"}}, {\"name\": \"vmid\", \"in\": \"path\", \"required\": true, \"description\": \"The (unique) ID of the VM.\", \"schema\": {\"type\": \"integer\", \"minimum\": 100, \"maximum\": 999999999}}], \"requestBody\": {\"required\": true, \"content\": {\"application/json\": {\"schema\": {\"type\": \"object\", \"properties\": {\"acpi\": {\"type\": \"boolean\", \"description\": \"Enable/disable ACPI.\"}, \"agent\": {\"type\": \"string\", \"description\": \"Enable/disable communication with the QEMU Guest Agent and its properties.\"}, \"balloon\": {\"type\": \"integer\", \"description\": \"Amount of target RAM for the VM in MiB. Using zero disables the balloon driver.\"}, \"bios\": {\"type\": \"string\", \"enum\": [\"seabios\", \"ovmf\"], \"description\": \"Select BIOS implementation.\"}, \"cores\": {\"type\": \"integer\", \"description\": \"The number of cores per socket.\"}, \"memory\": {\"type\": \"integer\", \"description\": \"Amount of RAM for the VM in MiB.\"}, \"net0\": {\"type\": \"string\", \"description\": \"Network device configuration, e.g., 'model=e1000,bridge=vmbr0'.\"}, \"sockets\": {\"type\": \"integer\", \"description\": \"The number of CPU sockets.\"}, \"cpu\": {\"type\": \"string\", \"description\": \"Emulated CPU type. Format: [[cputype=]<string>] [,flags=<+FLAG[;-FLAG...]>] [,hidden=<1|0>] [,hv-vendor-id=<vendor-id>] [,phys-bits=<8-64|host>] [,reported-model=<enum>]\"}, \"cpulimit\": {\"type\": \"number\", \"description\": \"Limit of CPU usage. Value '0' indicates no CPU limit.\"}, \"cpuunits\": {\"type\": \"integer\", \"description\": \"CPU weight for a VM. The larger the number, the more CPU time this VM gets. Range: 1 - 262144.\"}, \"ostype\": {\"type\": \"string\", \"enum\": [\"other\", \"wxp\", \"w2k\", \"w2k3\", \"w2k8\", \"wvista\", \"win7\", \"win8\", \"win10\", \"win11\", \"l24\", \"l26\", \"solaris\"], \"description\": \"Specify guest operating system to enable specific optimizations/features.\"}}}}}}}\n",
      "Retrieved Document 2: {\"endpoint\": \"/api2/json/nodes/{node}/lxc/{vmid}/config\", \"method\": \"get\", \"summary\": \"Get Lxc container configuration/config \", \"parameters\": [{\"name\": \"node\", \"in\": \"path\", \"required\": true, \"description\": \"The cluster node name\", \"schema\": {\"type\": \"string\"}}, {\"name\": \"vmid\", \"in\": \"path\", \"required\": true, \"description\": \"The (unique) ID of the VM\", \"schema\": {\"type\": \"integer\"}}, {\"name\": \"current\", \"in\": \"query\", \"required\": false, \"description\": \"Get current values (instead of pending values)\", \"schema\": {\"type\": \"boolean\", \"default\": false}}, {\"name\": \"snapshot\", \"in\": \"query\", \"required\": false, \"description\": \"Fetch config values from given snapshot\", \"schema\": {\"type\": \"string\"}}]}\n",
      "\n",
      "Request info: {\n",
      "    \"api_url\": \"https://ns31418912.ip-54-38-37.eu:8006/api2/json/nodes/Proxmox-Node-HCM/lxc/1010/config\",\n",
      "    \"request_method\": \"put\",\n",
      "    \"request_body\": {\n",
      "        \"hostname\": \"mycontainer-2\"\n",
      "    }\n",
      "}\n",
      "API URL: https://ns31418912.ip-54-38-37.eu:8006/api2/json/nodes/Proxmox-Node-HCM/lxc/1010/config\n",
      "Request method: PUT\n",
      "Request body: {'hostname': 'mycontainer-2'}\n",
      "\u001b[38;5;200m\u001b[1;3mStatus: 200 OK\n",
      "Response: {\"data\":null}\u001b[0m\n",
      "\n",
      "\u001b[1m> Finished chain.\u001b[0m\n",
      "The API call successfully modified the configuration of the container with ID 1010 on the node 'Proxmox-Node-HCM'. The hostname was set to 'mycontainer-2'. \n",
      "\n"
     ]
    }
   ],
   "source": [
    "user_input = (\n",
    "    f\"modify the configuration of the container with id 1010 on node 'Proxmox-Node-HCM', Hostname: mycontainer-2\"\n",
    ")\n",
    "response = chain.invoke(user_input)\n",
    "\n",
    "print(response['output'])"
   ]
  },
  {
   "cell_type": "markdown",
   "metadata": {},
   "source": [
    "### Get Config :"
   ]
  },
  {
   "cell_type": "code",
   "execution_count": 28,
   "metadata": {},
   "outputs": [
    {
     "name": "stdout",
     "output_type": "stream",
     "text": [
      "\n",
      "\n",
      "\u001b[1m> Entering new ProxmoxAPIChain chain...\u001b[0m\n",
      "Retrieved Document 0: {\"endpoint\": \"/api2/json/nodes/{node}/lxc/{vmid}/config\", \"method\": \"get\", \"summary\": \"Get Lxc container configuration/config \", \"parameters\": [{\"name\": \"node\", \"in\": \"path\", \"required\": true, \"description\": \"The cluster node name\", \"schema\": {\"type\": \"string\"}}, {\"name\": \"vmid\", \"in\": \"path\", \"required\": true, \"description\": \"The (unique) ID of the VM\", \"schema\": {\"type\": \"integer\"}}, {\"name\": \"current\", \"in\": \"query\", \"required\": false, \"description\": \"Get current values (instead of pending values)\", \"schema\": {\"type\": \"boolean\", \"default\": false}}, {\"name\": \"snapshot\", \"in\": \"query\", \"required\": false, \"description\": \"Fetch config values from given snapshot\", \"schema\": {\"type\": \"string\"}}]}\n",
      "Retrieved Document 1: {\"endpoint\": \"/api2/json/nodes/{node}/lxc/{vmid}/config\", \"method\": \"put\", \"summary\": \"Set container configuration (config file)\", \"description\": \"Modify or set the configuration of an LXC container identified by {vmid} on the specified {node}.\", \"parameters\": [{\"name\": \"node\", \"in\": \"path\", \"required\": true, \"description\": \"The cluster node name\", \"schema\": {\"type\": \"string\"}}, {\"name\": \"vmid\", \"in\": \"path\", \"required\": true, \"description\": \"The (unique) ID of the VM\", \"schema\": {\"type\": \"integer\"}}], \"requestBody\": {\"required\": true, \"content\": {\"application/json\": {\"schema\": {\"type\": \"object\", \"properties\": {\"arch\": {\"type\": \"string\", \"enum\": [\"amd64\", \"i386\", \"arm64\", \"armhf\", \"riscv32\", \"riscv64\"], \"description\": \"OS architecture type\"}, \"cmode\": {\"type\": \"string\", \"enum\": [\"shell\", \"console\", \"tty\"], \"description\": \"Console mode\"}, \"console\": {\"type\": \"boolean\", \"description\": \"Attach a console device (/dev/console) to the container\"}, \"cores\": {\"type\": \"integer\", \"description\": \"The number of cores assigned to the container\"}, \"cpulimit\": {\"type\": \"number\", \"description\": \"Limit of CPU usage\"}, \"cpuunits\": {\"type\": \"integer\", \"description\": \"CPU weight for a container\"}, \"debug\": {\"type\": \"boolean\", \"description\": \"Try to be more verbose\"}, \"delete\": {\"type\": \"string\", \"description\": \"A list of settings you want to delete\"}, \"description\": {\"type\": \"string\", \"description\": \"Description for the Container\"}, \"dev[n]\": {\"type\": \"string\", \"description\": \"Device to pass through to the container\"}, \"digest\": {\"type\": \"string\", \"description\": \"Prevent changes if current configuration file has different SHA1 digest\"}, \"features\": {\"type\": \"string\", \"description\": \"Allow containers access to advanced features\"}, \"hookscript\": {\"type\": \"string\", \"description\": \"Script that will be executed during various steps in the container's lifetime\"}, \"hostname\": {\"type\": \"string\", \"description\": \"Set a host name for the container\"}, \"lock\": {\"type\": \"string\", \"enum\": [\"backup\", \"create\", \"destroyed\", \"disk\", \"fstrim\", \"migrate\", \"mounted\", \"rollback\", \"snapshot\", \"snapshot-delete\"], \"description\": \"Lock/unlock the container\"}, \"memory\": {\"type\": \"integer\", \"description\": \"Amount of RAM for the container in MB\"}, \"mp[n]\": {\"type\": \"string\", \"description\": \"Use volume as container mount point\"}, \"nameserver\": {\"type\": \"string\", \"description\": \"Sets DNS server IP address for a container\"}, \"net[n]\": {\"type\": \"string\", \"description\": \"Specifies network interfaces for the container\"}, \"onboot\": {\"type\": \"boolean\", \"description\": \"Specifies whether a container will be started during system bootup\"}, \"ostype\": {\"type\": \"string\", \"enum\": [\"debian\", \"devuan\", \"ubuntu\", \"centos\", \"fedora\", \"opensuse\", \"archlinux\", \"alpine\", \"gentoo\", \"nixos\", \"unmanaged\"], \"description\": \"OS type\"}, \"protection\": {\"type\": \"boolean\", \"description\": \"Sets the protection flag of the container\"}, \"revert\": {\"type\": \"string\", \"description\": \"Revert a pending change\"}, \"rootfs\": {\"type\": \"string\", \"description\": \"Use volume as container root\"}, \"searchdomain\": {\"type\": \"string\", \"description\": \"Sets DNS search domains for a container\"}, \"startup\": {\"type\": \"string\", \"description\": \"Startup and shutdown behavior\"}, \"swap\": {\"type\": \"integer\", \"description\": \"Amount of SWAP for the container in MB\"}, \"tags\": {\"type\": \"string\", \"description\": \"Tags of the Container\"}, \"template\": {\"type\": \"boolean\", \"description\": \"Enable/disable Template\"}, \"timezone\": {\"type\": \"string\", \"description\": \"Time zone to use in the container\"}, \"tty\": {\"type\": \"integer\", \"description\": \"Specify the number of tty available to the container\"}, \"unprivileged\": {\"type\": \"boolean\", \"description\": \"Makes the container run as unprivileged user\"}, \"unused[n]\": {\"type\": \"string\", \"description\": \"Reference to unused volumes\"}}}}}}}\n",
      "Retrieved Document 2: {\"endpoint\": \"/api2/json/nodes/{node}/lxc\", \"methods\": \"get\", \"summary\": \"List LXC Containers on a Node\", \"description\": \"List all containers available on a node\", \"parameters\": [{\"name\": \"node\", \"in\": \"path\", \"required\": true, \"description\": \"Node ID where LXC containers are located\", \"schema\": {\"type\": \"string\"}}]}\n",
      "\n",
      "Request info: {\n",
      "    \"api_url\": \"https://ns31418912.ip-54-38-37.eu:8006/api2/json/nodes/Proxmox-Node-HCM/lxc/1010/config\",\n",
      "    \"request_method\": \"get\",\n",
      "    \"request_body\": {}\n",
      "}\n",
      "API URL: https://ns31418912.ip-54-38-37.eu:8006/api2/json/nodes/Proxmox-Node-HCM/lxc/1010/config\n",
      "Request method: GET\n",
      "Request body: {}\n",
      "\u001b[38;5;200m\u001b[1;3mStatus: 200 OK\n",
      "Response: {\"data\":{\"arch\":\"amd64\",\"digest\":\"ce8ed6989dcc32f6dba46891bed6ede94430a17a\",\"cores\":1,\"memory\":512,\"net0\":\"name=eth0,bridge=vmbr0,hwaddr=2A:75:DD:FB:00:F6,type=veth\",\"swap\":512,\"hostname\":\"mycontainer-2\",\"ostype\":\"ubuntu\",\"rootfs\":\"local:1010/vm-1010-disk-0.raw,size=10G\"}}\u001b[0m\n",
      "\n",
      "\u001b[1m> Finished chain.\u001b[0m\n",
      "The API response provides the configuration of the container with ID 1010 on node 'Proxmox-Node-HCM'. \n",
      "\n"
     ]
    }
   ],
   "source": [
    "user_input = (\n",
    "    f\"get the configuration of the container with id 1010 on node 'Proxmox-Node-HCM'\"\n",
    ")\n",
    "response = chain.invoke(user_input)\n",
    "\n",
    "print(response['output'])"
   ]
  },
  {
   "cell_type": "markdown",
   "metadata": {},
   "source": [
    "## Delete Container :"
   ]
  },
  {
   "cell_type": "code",
   "execution_count": 29,
   "metadata": {},
   "outputs": [
    {
     "name": "stdout",
     "output_type": "stream",
     "text": [
      "\n",
      "\n",
      "\u001b[1m> Entering new ProxmoxAPIChain chain...\u001b[0m\n",
      "Retrieved Document 0: {\"endpoint\": \"/api2/json/nodes/{node}/lxc/{vmid}\", \"methods\": \"delete\", \"summary\": \"Delete LXC Container\", \"description\": \"Deleting a container from a node .\", \"parameters\": [{\"name\": \"node\", \"in\": \"path\", \"required\": true, \"description\": \"Node ID where the LXC container is located\", \"schema\": {\"type\": \"string\"}}, {\"name\": \"vmid\", \"in\": \"path\", \"required\": true, \"description\": \"ID of the LXC container to delete\", \"schema\": {\"type\": \"string\"}}]}\n",
      "Retrieved Document 1: {\"endpoint\": \"/api2/json/nodes/{node}/qemu/{vmid}\", \"method\": \"delete\", \"summary\": \"Delete Virtual machine (VM)\", \"description\": \"Deleting a Virtual machine from a node .\", \"parameters\": [{\"name\": \"node\", \"in\": \"path\", \"required\": true, \"description\": \"Node ID where the VM is located\", \"schema\": {\"type\": \"string\"}}, {\"name\": \"vmid\", \"in\": \"path\", \"required\": true, \"description\": \"ID of the VM to delete\", \"schema\": {\"type\": \"string\"}}]}\n",
      "Retrieved Document 2: {\"endpoint\": \"/api2/json/nodes/{node}/lxc/{vmid}/config\", \"method\": \"put\", \"summary\": \"Set container configuration (config file)\", \"description\": \"Modify or set the configuration of an LXC container identified by {vmid} on the specified {node}.\", \"parameters\": [{\"name\": \"node\", \"in\": \"path\", \"required\": true, \"description\": \"The cluster node name\", \"schema\": {\"type\": \"string\"}}, {\"name\": \"vmid\", \"in\": \"path\", \"required\": true, \"description\": \"The (unique) ID of the VM\", \"schema\": {\"type\": \"integer\"}}], \"requestBody\": {\"required\": true, \"content\": {\"application/json\": {\"schema\": {\"type\": \"object\", \"properties\": {\"arch\": {\"type\": \"string\", \"enum\": [\"amd64\", \"i386\", \"arm64\", \"armhf\", \"riscv32\", \"riscv64\"], \"description\": \"OS architecture type\"}, \"cmode\": {\"type\": \"string\", \"enum\": [\"shell\", \"console\", \"tty\"], \"description\": \"Console mode\"}, \"console\": {\"type\": \"boolean\", \"description\": \"Attach a console device (/dev/console) to the container\"}, \"cores\": {\"type\": \"integer\", \"description\": \"The number of cores assigned to the container\"}, \"cpulimit\": {\"type\": \"number\", \"description\": \"Limit of CPU usage\"}, \"cpuunits\": {\"type\": \"integer\", \"description\": \"CPU weight for a container\"}, \"debug\": {\"type\": \"boolean\", \"description\": \"Try to be more verbose\"}, \"delete\": {\"type\": \"string\", \"description\": \"A list of settings you want to delete\"}, \"description\": {\"type\": \"string\", \"description\": \"Description for the Container\"}, \"dev[n]\": {\"type\": \"string\", \"description\": \"Device to pass through to the container\"}, \"digest\": {\"type\": \"string\", \"description\": \"Prevent changes if current configuration file has different SHA1 digest\"}, \"features\": {\"type\": \"string\", \"description\": \"Allow containers access to advanced features\"}, \"hookscript\": {\"type\": \"string\", \"description\": \"Script that will be executed during various steps in the container's lifetime\"}, \"hostname\": {\"type\": \"string\", \"description\": \"Set a host name for the container\"}, \"lock\": {\"type\": \"string\", \"enum\": [\"backup\", \"create\", \"destroyed\", \"disk\", \"fstrim\", \"migrate\", \"mounted\", \"rollback\", \"snapshot\", \"snapshot-delete\"], \"description\": \"Lock/unlock the container\"}, \"memory\": {\"type\": \"integer\", \"description\": \"Amount of RAM for the container in MB\"}, \"mp[n]\": {\"type\": \"string\", \"description\": \"Use volume as container mount point\"}, \"nameserver\": {\"type\": \"string\", \"description\": \"Sets DNS server IP address for a container\"}, \"net[n]\": {\"type\": \"string\", \"description\": \"Specifies network interfaces for the container\"}, \"onboot\": {\"type\": \"boolean\", \"description\": \"Specifies whether a container will be started during system bootup\"}, \"ostype\": {\"type\": \"string\", \"enum\": [\"debian\", \"devuan\", \"ubuntu\", \"centos\", \"fedora\", \"opensuse\", \"archlinux\", \"alpine\", \"gentoo\", \"nixos\", \"unmanaged\"], \"description\": \"OS type\"}, \"protection\": {\"type\": \"boolean\", \"description\": \"Sets the protection flag of the container\"}, \"revert\": {\"type\": \"string\", \"description\": \"Revert a pending change\"}, \"rootfs\": {\"type\": \"string\", \"description\": \"Use volume as container root\"}, \"searchdomain\": {\"type\": \"string\", \"description\": \"Sets DNS search domains for a container\"}, \"startup\": {\"type\": \"string\", \"description\": \"Startup and shutdown behavior\"}, \"swap\": {\"type\": \"integer\", \"description\": \"Amount of SWAP for the container in MB\"}, \"tags\": {\"type\": \"string\", \"description\": \"Tags of the Container\"}, \"template\": {\"type\": \"boolean\", \"description\": \"Enable/disable Template\"}, \"timezone\": {\"type\": \"string\", \"description\": \"Time zone to use in the container\"}, \"tty\": {\"type\": \"integer\", \"description\": \"Specify the number of tty available to the container\"}, \"unprivileged\": {\"type\": \"boolean\", \"description\": \"Makes the container run as unprivileged user\"}, \"unused[n]\": {\"type\": \"string\", \"description\": \"Reference to unused volumes\"}}}}}}}\n"
     ]
    },
    {
     "name": "stderr",
     "output_type": "stream",
     "text": [
      "Retrying langchain_google_genai.chat_models._chat_with_retry.<locals>._chat_with_retry in 2.0 seconds as it raised ResourceExhausted: 429 Resource has been exhausted (e.g. check quota)..\n",
      "Retrying langchain_google_genai.chat_models._chat_with_retry.<locals>._chat_with_retry in 4.0 seconds as it raised ResourceExhausted: 429 Resource has been exhausted (e.g. check quota)..\n",
      "Retrying langchain_google_genai.chat_models._chat_with_retry.<locals>._chat_with_retry in 8.0 seconds as it raised ResourceExhausted: 429 Resource has been exhausted (e.g. check quota)..\n",
      "Retrying langchain_google_genai.chat_models._chat_with_retry.<locals>._chat_with_retry in 16.0 seconds as it raised ResourceExhausted: 429 Resource has been exhausted (e.g. check quota)..\n"
     ]
    },
    {
     "name": "stdout",
     "output_type": "stream",
     "text": [
      "\n",
      "Request info: {\n",
      "    \"api_url\": \"https://ns31418912.ip-54-38-37.eu:8006/api2/json/nodes/Proxmox-Node-HCM/lxc/1010\",\n",
      "    \"request_method\": \"delete\",\n",
      "    \"request_body\": {}\n",
      "}\n",
      "API URL: https://ns31418912.ip-54-38-37.eu:8006/api2/json/nodes/Proxmox-Node-HCM/lxc/1010\n",
      "Request method: DELETE\n",
      "Request body: {}\n",
      "\u001b[38;5;200m\u001b[1;3mStatus: 200 OK\n",
      "Response: {\"data\":\"UPID:Proxmox-Node-HCM:00133CA4:B776C2A3:66B238C1:vzdestroy:1010:oumaima@pve!oumaima-token:\"}\u001b[0m\n",
      "\n",
      "\u001b[1m> Finished chain.\u001b[0m\n",
      "The API successfully deleted the container with ID 1010 on the node 'Proxmox-Node-HCM'. \n",
      "\n"
     ]
    }
   ],
   "source": [
    "user_input = (\n",
    "    f\"delete Container with id 1010 on node 'Proxmox-Node-HCM'\"\n",
    ")\n",
    "response = chain.invoke(user_input)\n",
    "\n",
    "print(response['output'])"
   ]
  },
  {
   "cell_type": "code",
   "execution_count": 30,
   "metadata": {},
   "outputs": [
    {
     "name": "stdout",
     "output_type": "stream",
     "text": [
      "\n",
      "\n",
      "\u001b[1m> Entering new ProxmoxAPIChain chain...\u001b[0m\n",
      "Retrieved Document 0: {\"endpoint\": \"/api2/json/nodes/{node}/lxc/{vmid}\", \"methods\": \"delete\", \"summary\": \"Delete LXC Container\", \"description\": \"Deleting a container from a node .\", \"parameters\": [{\"name\": \"node\", \"in\": \"path\", \"required\": true, \"description\": \"Node ID where the LXC container is located\", \"schema\": {\"type\": \"string\"}}, {\"name\": \"vmid\", \"in\": \"path\", \"required\": true, \"description\": \"ID of the LXC container to delete\", \"schema\": {\"type\": \"string\"}}]}\n",
      "Retrieved Document 1: {\"endpoint\": \"/api2/json/nodes/{node}/qemu/{vmid}\", \"method\": \"delete\", \"summary\": \"Delete Virtual machine (VM)\", \"description\": \"Deleting a Virtual machine from a node .\", \"parameters\": [{\"name\": \"node\", \"in\": \"path\", \"required\": true, \"description\": \"Node ID where the VM is located\", \"schema\": {\"type\": \"string\"}}, {\"name\": \"vmid\", \"in\": \"path\", \"required\": true, \"description\": \"ID of the VM to delete\", \"schema\": {\"type\": \"string\"}}]}\n",
      "Retrieved Document 2: {\"endpoint\": \"/api2/json/nodes/{node}/lxc/{vmid}/config\", \"method\": \"put\", \"summary\": \"Set container configuration (config file)\", \"description\": \"Modify or set the configuration of an LXC container identified by {vmid} on the specified {node}.\", \"parameters\": [{\"name\": \"node\", \"in\": \"path\", \"required\": true, \"description\": \"The cluster node name\", \"schema\": {\"type\": \"string\"}}, {\"name\": \"vmid\", \"in\": \"path\", \"required\": true, \"description\": \"The (unique) ID of the VM\", \"schema\": {\"type\": \"integer\"}}], \"requestBody\": {\"required\": true, \"content\": {\"application/json\": {\"schema\": {\"type\": \"object\", \"properties\": {\"arch\": {\"type\": \"string\", \"enum\": [\"amd64\", \"i386\", \"arm64\", \"armhf\", \"riscv32\", \"riscv64\"], \"description\": \"OS architecture type\"}, \"cmode\": {\"type\": \"string\", \"enum\": [\"shell\", \"console\", \"tty\"], \"description\": \"Console mode\"}, \"console\": {\"type\": \"boolean\", \"description\": \"Attach a console device (/dev/console) to the container\"}, \"cores\": {\"type\": \"integer\", \"description\": \"The number of cores assigned to the container\"}, \"cpulimit\": {\"type\": \"number\", \"description\": \"Limit of CPU usage\"}, \"cpuunits\": {\"type\": \"integer\", \"description\": \"CPU weight for a container\"}, \"debug\": {\"type\": \"boolean\", \"description\": \"Try to be more verbose\"}, \"delete\": {\"type\": \"string\", \"description\": \"A list of settings you want to delete\"}, \"description\": {\"type\": \"string\", \"description\": \"Description for the Container\"}, \"dev[n]\": {\"type\": \"string\", \"description\": \"Device to pass through to the container\"}, \"digest\": {\"type\": \"string\", \"description\": \"Prevent changes if current configuration file has different SHA1 digest\"}, \"features\": {\"type\": \"string\", \"description\": \"Allow containers access to advanced features\"}, \"hookscript\": {\"type\": \"string\", \"description\": \"Script that will be executed during various steps in the container's lifetime\"}, \"hostname\": {\"type\": \"string\", \"description\": \"Set a host name for the container\"}, \"lock\": {\"type\": \"string\", \"enum\": [\"backup\", \"create\", \"destroyed\", \"disk\", \"fstrim\", \"migrate\", \"mounted\", \"rollback\", \"snapshot\", \"snapshot-delete\"], \"description\": \"Lock/unlock the container\"}, \"memory\": {\"type\": \"integer\", \"description\": \"Amount of RAM for the container in MB\"}, \"mp[n]\": {\"type\": \"string\", \"description\": \"Use volume as container mount point\"}, \"nameserver\": {\"type\": \"string\", \"description\": \"Sets DNS server IP address for a container\"}, \"net[n]\": {\"type\": \"string\", \"description\": \"Specifies network interfaces for the container\"}, \"onboot\": {\"type\": \"boolean\", \"description\": \"Specifies whether a container will be started during system bootup\"}, \"ostype\": {\"type\": \"string\", \"enum\": [\"debian\", \"devuan\", \"ubuntu\", \"centos\", \"fedora\", \"opensuse\", \"archlinux\", \"alpine\", \"gentoo\", \"nixos\", \"unmanaged\"], \"description\": \"OS type\"}, \"protection\": {\"type\": \"boolean\", \"description\": \"Sets the protection flag of the container\"}, \"revert\": {\"type\": \"string\", \"description\": \"Revert a pending change\"}, \"rootfs\": {\"type\": \"string\", \"description\": \"Use volume as container root\"}, \"searchdomain\": {\"type\": \"string\", \"description\": \"Sets DNS search domains for a container\"}, \"startup\": {\"type\": \"string\", \"description\": \"Startup and shutdown behavior\"}, \"swap\": {\"type\": \"integer\", \"description\": \"Amount of SWAP for the container in MB\"}, \"tags\": {\"type\": \"string\", \"description\": \"Tags of the Container\"}, \"template\": {\"type\": \"boolean\", \"description\": \"Enable/disable Template\"}, \"timezone\": {\"type\": \"string\", \"description\": \"Time zone to use in the container\"}, \"tty\": {\"type\": \"integer\", \"description\": \"Specify the number of tty available to the container\"}, \"unprivileged\": {\"type\": \"boolean\", \"description\": \"Makes the container run as unprivileged user\"}, \"unused[n]\": {\"type\": \"string\", \"description\": \"Reference to unused volumes\"}}}}}}}\n",
      "\n",
      "Request info: {\n",
      "    \"api_url\": \"https://ns31418912.ip-54-38-37.eu:8006/api2/json/nodes/Proxmox-Node-HCM/lxc/3030\",\n",
      "    \"request_method\": \"delete\",\n",
      "    \"request_body\": {}\n",
      "}\n",
      "API URL: https://ns31418912.ip-54-38-37.eu:8006/api2/json/nodes/Proxmox-Node-HCM/lxc/3030\n",
      "Request method: DELETE\n",
      "Request body: {}\n",
      "\u001b[38;5;200m\u001b[1;3mStatus: 200 OK\n",
      "Response: {\"data\":\"UPID:Proxmox-Node-HCM:00133D6A:B776C513:66B238C7:vzdestroy:3030:oumaima@pve!oumaima-token:\"}\u001b[0m\n",
      "\n",
      "\u001b[1m> Finished chain.\u001b[0m\n",
      "The API successfully deleted the container with ID 3030 on the node 'Proxmox-Node-HCM'. \n",
      "\n"
     ]
    }
   ],
   "source": [
    "user_input = (\n",
    "    f\"delete Container with id 3030 on node 'Proxmox-Node-HCM'\"\n",
    ")\n",
    "response = chain.invoke(user_input)\n",
    "\n",
    "print(response['output'])"
   ]
  },
  {
   "cell_type": "markdown",
   "metadata": {},
   "source": [
    "# Get all users :"
   ]
  },
  {
   "cell_type": "code",
   "execution_count": 31,
   "metadata": {},
   "outputs": [
    {
     "name": "stdout",
     "output_type": "stream",
     "text": [
      "\n",
      "\n",
      "\u001b[1m> Entering new ProxmoxAPIChain chain...\u001b[0m\n",
      "Retrieved Document 0: {\"endpoint\": \"/api2/json/access/permissions\", \"method\": \"get\", \"summary\": \"Retrieve/get effective permissions of given user/token.\", \"parameters\": [{\"name\": \"path\", \"in\": \"query\", \"required\": false, \"description\": \"Only dump this specific path, not the whole tree.\", \"schema\": {\"type\": \"string\"}}, {\"name\": \"userid\", \"in\": \"query\", \"required\": false, \"description\": \"User ID or full API token ID\", \"schema\": {\"type\": \"string\"}}]}\n",
      "Retrieved Document 1: {\"endpoint\": \"/api2/json/access/users\", \"method\": \"get\", \"summary\": \"User index.\", \"parameters\": [{\"name\": \"enabled\", \"in\": \"query\", \"required\": false, \"description\": \"Optional filter for enable property.\", \"schema\": {\"type\": \"boolean\"}}, {\"name\": \"full\", \"in\": \"query\", \"required\": false, \"description\": \"Include group and token information.\", \"schema\": {\"type\": \"boolean\", \"default\": false}}]}\n",
      "Retrieved Document 2: {\"endpoint\": \"/api2/json/nodes/{node}/qemu\", \"method\": \"get\", \"summary\": \"List Virtual machines (VMs) on a Node\", \"parameters\": [{\"name\": \"node\", \"in\": \"path\", \"required\": true, \"description\": \"Node ID where VMs are located\", \"schema\": {\"type\": \"string\"}}]}\n",
      "\n",
      "Request info: {\n",
      "    \"api_url\": \"https://ns31418912.ip-54-38-37.eu:8006/api2/json/access/users\",\n",
      "    \"request_method\": \"get\",\n",
      "    \"request_body\": {}\n",
      "}\n",
      "API URL: https://ns31418912.ip-54-38-37.eu:8006/api2/json/access/users\n",
      "Request method: GET\n",
      "Request body: {}\n",
      "\u001b[38;5;200m\u001b[1;3mStatus: 200 OK\n",
      "Response: {\"data\":[{\"expire\":0,\"userid\":\"aala@pve\",\"email\":\"a.boukhriss@coral-io.fr\",\"realm-type\":\"pve\",\"firstname\":\"aala\",\"lastname\":\"aala\",\"enable\":1},{\"expire\":0,\"email\":\"\",\"comment\":\"//jawher-hcm\",\"userid\":\"jawher@pve\",\"realm-type\":\"pve\",\"enable\":1},{\"realm-type\":\"pve\",\"enable\":1,\"expire\":0,\"userid\":\"mohamed@pve\"},{\"realm-type\":\"pve\",\"enable\":1,\"expire\":0,\"userid\":\"nahrawess@pve\"},{\"enable\":1,\"realm-type\":\"pve\",\"userid\":\"oumaima@pve\",\"expire\":0},{\"expire\":0,\"userid\":\"raed@pve\",\"realm-type\":\"pve\",\"enable\":1},{\"enable\":1,\"realm-type\":\"pam\",\"userid\":\"root@pam\",\"expire\":0},{\"enable\":1,\"realm-type\":\"pve\",\"userid\":\"wathek@pve\",\"expire\":0},{\"expire\":0,\"userid\":\"yahia@pve\",\"realm-type\":\"pve\",\"enable\":1}]}\u001b[0m\n",
      "\n",
      "\u001b[1m> Finished chain.\u001b[0m\n",
      "The API URL you provided is for listing all users. \n",
      "\n"
     ]
    }
   ],
   "source": [
    "user_input = (\n",
    "    f\"get all users\"\n",
    ")\n",
    "response = chain.invoke(user_input)\n",
    "\n",
    "print(response['output'])"
   ]
  },
  {
   "cell_type": "markdown",
   "metadata": {},
   "source": [
    "# Get user permissions :"
   ]
  },
  {
   "cell_type": "code",
   "execution_count": 32,
   "metadata": {},
   "outputs": [
    {
     "name": "stdout",
     "output_type": "stream",
     "text": [
      "\n",
      "\n",
      "\u001b[1m> Entering new ProxmoxAPIChain chain...\u001b[0m\n",
      "Retrieved Document 0: {\"endpoint\": \"/api2/json/access/permissions\", \"method\": \"get\", \"summary\": \"Retrieve/get effective permissions of given user/token.\", \"parameters\": [{\"name\": \"path\", \"in\": \"query\", \"required\": false, \"description\": \"Only dump this specific path, not the whole tree.\", \"schema\": {\"type\": \"string\"}}, {\"name\": \"userid\", \"in\": \"query\", \"required\": false, \"description\": \"User ID or full API token ID\", \"schema\": {\"type\": \"string\"}}]}\n",
      "Retrieved Document 1: {\"endpoint\": \"/api2/json/access/users\", \"method\": \"get\", \"summary\": \"User index.\", \"parameters\": [{\"name\": \"enabled\", \"in\": \"query\", \"required\": false, \"description\": \"Optional filter for enable property.\", \"schema\": {\"type\": \"boolean\"}}, {\"name\": \"full\", \"in\": \"query\", \"required\": false, \"description\": \"Include group and token information.\", \"schema\": {\"type\": \"boolean\", \"default\": false}}]}\n",
      "Retrieved Document 2: {\"endpoint\": \"/api2/json/nodes/{node}/qemu/{vmid}/config\", \"method\": \"get\", \"summary\": \"Get Virtual machine/Vm Configuration (config file)\", \"parameters\": [{\"name\": \"node\", \"in\": \"path\", \"required\": true, \"description\": \"Node ID where the VM is located\", \"schema\": {\"type\": \"string\"}}, {\"name\": \"vmid\", \"in\": \"path\", \"required\": true, \"description\": \"ID of the VM\", \"schema\": {\"type\": \"integer\"}}, {\"name\": \"current\", \"in\": \"query\", \"required\": false, \"description\": \"Get current values instead of pending values\", \"schema\": {\"type\": \"boolean\"}}]}\n",
      "\n",
      "Request info: {\n",
      "    \"api_url\": \"https://ns31418912.ip-54-38-37.eu:8006/api2/json/access/permissions?userid=oumaima@pve\",\n",
      "    \"request_method\": \"get\",\n",
      "    \"request_body\": {}\n",
      "}\n",
      "API URL: https://ns31418912.ip-54-38-37.eu:8006/api2/json/access/permissions?userid=oumaima@pve\n",
      "Request method: GET\n",
      "Request body: {}\n",
      "\u001b[38;5;200m\u001b[1;3mStatus: 200 OK\n",
      "Response: {\"data\":{\"/nodes\":{\"Permissions.Modify\":1,\"VM.Snapshot\":1,\"Group.Allocate\":1,\"VM.Config.Memory\":1,\"VM.Clone\":1,\"Datastore.Audit\":1,\"SDN.Audit\":1,\"SDN.Use\":1,\"Datastore.AllocateSpace\":1,\"Sys.Modify\":1,\"Sys.Syslog\":1,\"VM.Allocate\":1,\"Sys.Console\":1,\"VM.Config.Options\":1,\"VM.Config.CDROM\":1,\"Pool.Allocate\":1,\"VM.Console\":1,\"VM.Config.Cloudinit\":1,\"Datastore.AllocateTemplate\":1,\"VM.Backup\":1,\"VM.Audit\":1,\"User.Modify\":1,\"Sys.Audit\":1,\"Pool.Audit\":1,\"Realm.AllocateUser\":1,\"SDN.Allocate\":1,\"VM.Migrate\":1,\"Sys.PowerMgmt\":1,\"VM.Config.CPU\":1,\"VM.PowerMgmt\":1,\"Sys.Incoming\":1,\"VM.Snapshot.Rollback\":1,\"Datastore.Allocate\":1,\"VM.Config.Network\":1,\"Realm.Allocate\":1,\"VM.Config.HWType\":1,\"VM.Monitor\":1,\"VM.Config.Disk\":1},\"/access/groups\":{\"Sys.Console\":1,\"VM.Config.Options\":1,\"VM.Config.CDROM\":1,\"Pool.Allocate\":1,\"VM.Console\":1,\"VM.Config.Cloudinit\":1,\"VM.Backup\":1,\"Datastore.AllocateTemplate\":1,\"VM.Audit\":1,\"Permissions.Modify\":1,\"VM.Snapshot\":1,\"Group.Allocate\":1,\"SDN.Use\":1,\"VM.Clone\":1,\"Datastore.Audit\":1,\"SDN.Audit\":1,\"VM.Config.Memory\":1,\"Sys.Syslog\":1,\"VM.Allocate\":1,\"Sys.Modify\":1,\"Datastore.AllocateSpace\":1,\"Sys.PowerMgmt\":1,\"VM.Config.CPU\":1,\"VM.Snapshot.Rollback\":1,\"VM.PowerMgmt\":1,\"Sys.Incoming\":1,\"Datastore.Allocate\":1,\"VM.Config.Network\":1,\"Realm.Allocate\":1,\"VM.Monitor\":1,\"VM.Config.Disk\":1,\"VM.Config.HWType\":1,\"User.Modify\":1,\"Sys.Audit\":1,\"Pool.Audit\":1,\"SDN.Allocate\":1,\"Realm.AllocateUser\":1,\"VM.Migrate\":1},\"/storage\":{\"Sys.PowerMgmt\":1,\"VM.Config.CPU\":1,\"VM.Snapshot.Rollback\":1,\"Sys.Incoming\":1,\"VM.PowerMgmt\":1,\"Datastore.Allocate\":1,\"VM.Config.Network\":1,\"Realm.Allocate\":1,\"VM.Monitor\":1,\"VM.Config.Disk\":1,\"VM.Config.HWType\":1,\"User.Modify\":1,\"Sys.Audit\":1,\"Pool.Audit\":1,\"Realm.AllocateUser\":1,\"SDN.Allocate\":1,\"VM.Migrate\":1,\"Sys.Console\":1,\"VM.Config.Options\":1,\"VM.Config.CDROM\":1,\"Pool.Allocate\":1,\"VM.Console\":1,\"VM.Config.Cloudinit\":1,\"VM.Backup\":1,\"Datastore.AllocateTemplate\":1,\"VM.Audit\":1,\"Permissions.Modify\":1,\"VM.Snapshot\":1,\"Group.Allocate\":1,\"SDN.Audit\":1,\"VM.Clone\":1,\"SDN.Use\":1,\"Datastore.Audit\":1,\"VM.Config.Memory\":1,\"VM.Allocate\":1,\"Sys.Syslog\":1,\"Datastore.AllocateSpace\":1,\"Sys.Modify\":1},\"/\":{\"Group.Allocate\":1,\"Datastore.Audit\":1,\"SDN.Audit\":1,\"VM.Clone\":1,\"SDN.Use\":1,\"VM.Config.Memory\":1,\"Permissions.Modify\":1,\"VM.Snapshot\":1,\"VM.Allocate\":1,\"Sys.Syslog\":1,\"Datastore.AllocateSpace\":1,\"Sys.Modify\":1,\"VM.Console\":1,\"Pool.Allocate\":1,\"Sys.Console\":1,\"VM.Config.Options\":1,\"VM.Config.CDROM\":1,\"VM.Backup\":1,\"Datastore.AllocateTemplate\":1,\"VM.Audit\":1,\"VM.Config.Cloudinit\":1,\"Pool.Audit\":1,\"User.Modify\":1,\"Sys.Audit\":1,\"VM.Migrate\":1,\"Realm.AllocateUser\":1,\"SDN.Allocate\":1,\"VM.Config.CPU\":1,\"VM.Snapshot.Rollback\":1,\"VM.PowerMgmt\":1,\"Sys.Incoming\":1,\"Sys.PowerMgmt\":1,\"Realm.Allocate\":1,\"VM.Monitor\":1,\"VM.Config.Disk\":1,\"VM.Config.HWType\":1,\"Datastore.Allocate\":1,\"VM.Config.Network\":1},\"/access\":{\"Realm.Allocate\":1,\"VM.Config.HWType\":1,\"VM.Config.Disk\":1,\"VM.Monitor\":1,\"Datastore.Allocate\":1,\"VM.Config.Network\":1,\"VM.Config.CPU\":1,\"VM.PowerMgmt\":1,\"Sys.Incoming\":1,\"VM.Snapshot.Rollback\":1,\"Sys.PowerMgmt\":1,\"VM.Migrate\":1,\"SDN.Allocate\":1,\"Realm.AllocateUser\":1,\"Pool.Audit\":1,\"User.Modify\":1,\"Sys.Audit\":1,\"Datastore.AllocateTemplate\":1,\"VM.Backup\":1,\"VM.Audit\":1,\"VM.Config.Cloudinit\":1,\"VM.Console\":1,\"Pool.Allocate\":1,\"Sys.Console\":1,\"VM.Config.CDROM\":1,\"VM.Config.Options\":1,\"Datastore.AllocateSpace\":1,\"Sys.Modify\":1,\"VM.Allocate\":1,\"Sys.Syslog\":1,\"Group.Allocate\":1,\"VM.Config.Memory\":1,\"SDN.Use\":1,\"VM.Clone\":1,\"Datastore.Audit\":1,\"SDN.Audit\":1,\"Permissions.Modify\":1,\"VM.Snapshot\":1},\"/pools\":{\"User.Modify\":1,\"Sys.Audit\":1,\"Pool.Audit\":1,\"Realm.AllocateUser\":1,\"SDN.Allocate\":1,\"VM.Migrate\":1,\"Sys.PowerMgmt\":1,\"VM.Config.CPU\":1,\"VM.PowerMgmt\":1,\"Sys.Incoming\":1,\"VM.Snapshot.Rollback\":1,\"Datastore.Allocate\":1,\"VM.Config.Network\":1,\"Realm.Allocate\":1,\"VM.Config.HWType\":1,\"VM.Config.Disk\":1,\"VM.Monitor\":1,\"Permissions.Modify\":1,\"VM.Snapshot\":1,\"Group.Allocate\":1,\"VM.Config.Memory\":1,\"SDN.Use\":1,\"SDN.Audit\":1,\"VM.Clone\":1,\"Datastore.Audit\":1,\"Sys.Modify\":1,\"Datastore.AllocateSpace\":1,\"VM.Allocate\":1,\"Sys.Syslog\":1,\"Sys.Console\":1,\"VM.Config.Options\":1,\"VM.Config.CDROM\":1,\"Pool.Allocate\":1,\"VM.Console\":1,\"VM.Config.Cloudinit\":1,\"Datastore.AllocateTemplate\":1,\"VM.Backup\":1,\"VM.Audit\":1},\"/vms\":{\"Pool.Audit\":1,\"User.Modify\":1,\"Sys.Audit\":1,\"VM.Migrate\":1,\"SDN.Allocate\":1,\"Realm.AllocateUser\":1,\"VM.Config.CPU\":1,\"VM.Snapshot.Rollback\":1,\"VM.PowerMgmt\":1,\"Sys.Incoming\":1,\"Sys.PowerMgmt\":1,\"Realm.Allocate\":1,\"VM.Config.Disk\":1,\"VM.Monitor\":1,\"VM.Config.HWType\":1,\"Datastore.Allocate\":1,\"VM.Config.Network\":1,\"Group.Allocate\":1,\"VM.Clone\":1,\"SDN.Audit\":1,\"SDN.Use\":1,\"Datastore.Audit\":1,\"VM.Config.Memory\":1,\"Permissions.Modify\":1,\"VM.Snapshot\":1,\"VM.Allocate\":1,\"Sys.Syslog\":1,\"Datastore.AllocateSpace\":1,\"Sys.Modify\":1,\"Pool.Allocate\":1,\"VM.Console\":1,\"Sys.Console\":1,\"VM.Config.CDROM\":1,\"VM.Config.Options\":1,\"VM.Backup\":1,\"Datastore.AllocateTemplate\":1,\"VM.Audit\":1,\"VM.Config.Cloudinit\":1},\"/sdn\":{\"VM.PowerMgmt\":1,\"Sys.Incoming\":1,\"VM.Snapshot.Rollback\":1,\"VM.Config.CPU\":1,\"Sys.PowerMgmt\":1,\"VM.Config.HWType\":1,\"VM.Monitor\":1,\"VM.Config.Disk\":1,\"Realm.Allocate\":1,\"VM.Config.Network\":1,\"Datastore.Allocate\":1,\"Pool.Audit\":1,\"Sys.Audit\":1,\"User.Modify\":1,\"VM.Migrate\":1,\"Realm.AllocateUser\":1,\"SDN.Allocate\":1,\"Pool.Allocate\":1,\"VM.Console\":1,\"VM.Config.CDROM\":1,\"VM.Config.Options\":1,\"Sys.Console\":1,\"VM.Audit\":1,\"Datastore.AllocateTemplate\":1,\"VM.Backup\":1,\"VM.Config.Cloudinit\":1,\"VM.Config.Memory\":1,\"VM.Clone\":1,\"SDN.Use\":1,\"SDN.Audit\":1,\"Datastore.Audit\":1,\"Group.Allocate\":1,\"VM.Snapshot\":1,\"Permissions.Modify\":1,\"Sys.Modify\":1,\"Datastore.AllocateSpace\":1,\"VM.Allocate\":1,\"Sys.Syslog\":1}}}\u001b[0m\n",
      "\n",
      "\u001b[1m> Finished chain.\u001b[0m\n",
      "The user oumaima@pve has permissions to modify, snapshot, and allocate VMs, manage groups, audit datastores and SDN, allocate space and templates, modify system settings, and more. \n",
      "\n"
     ]
    }
   ],
   "source": [
    "user_input = (\n",
    "    f\"get permissions of user with id oumaima@pve \"\n",
    ")\n",
    "response = chain.invoke(user_input)\n",
    "\n",
    "print(response['output'])"
   ]
  }
 ],
 "metadata": {
  "kernelspec": {
   "display_name": "Python 3",
   "language": "python",
   "name": "python3"
  },
  "language_info": {
   "codemirror_mode": {
    "name": "ipython",
    "version": 3
   },
   "file_extension": ".py",
   "mimetype": "text/x-python",
   "name": "python",
   "nbconvert_exporter": "python",
   "pygments_lexer": "ipython3",
   "version": "3.12.3"
  }
 },
 "nbformat": 4,
 "nbformat_minor": 2
}
