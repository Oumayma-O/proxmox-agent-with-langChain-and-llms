{
 "cells": [
  {
   "cell_type": "code",
   "execution_count": 1,
   "metadata": {},
   "outputs": [],
   "source": [
    "from langserve_app.proxmox.docs import _proxmox_api_docs\n",
    "from langchain.text_splitter import RecursiveJsonSplitter\n",
    "from langchain_community.embeddings.sentence_transformer import SentenceTransformerEmbeddings\n",
    "from typing import Dict, Any\n",
    "from langchain_community.llms import Ollama\n",
    "from langserve_app.proxmox.base import ProxmoxAPIChain\n",
    "from langchain.retrievers import ContextualCompressionRetriever\n",
    "from langchain_community.cross_encoders import HuggingFaceCrossEncoder\n",
    "from langchain.retrievers.document_compressors import CrossEncoderReranker\n",
    "from langchain_community.vectorstores.surrealdb import SurrealDBStore\n",
    "from tqdm import tqdm, trange \n",
    "import os\n",
    "import hvac\n",
    "import nest_asyncio"
   ]
  },
  {
   "cell_type": "code",
   "execution_count": 2,
   "metadata": {},
   "outputs": [],
   "source": [
    "from langfuse.callback import CallbackHandler\n",
    "langfuse_handler = CallbackHandler(\n",
    "    public_key=os.getenv('LANGFUSE_PUBLIC_KEY'),\n",
    "    secret_key=os.getenv('LANGFUSE_SECRET_KEY'),\n",
    "    host=os.getenv('LANGFUSE_HOST'),\n",
    ")"
   ]
  },
  {
   "cell_type": "code",
   "execution_count": 3,
   "metadata": {},
   "outputs": [],
   "source": [
    "splitter = RecursiveJsonSplitter(max_chunk_size=4000)\n",
    "docs = splitter.create_documents(_proxmox_api_docs)"
   ]
  },
  {
   "cell_type": "code",
   "execution_count": 4,
   "metadata": {},
   "outputs": [
    {
     "data": {
      "text/plain": [
       "'llm_kwargs: Dict[str, Any] = {\\n    \"model\": \"gemma2:9b-instruct-q4_K_M\",\\n    \"temperature\": 0,\\n    \"num_ctx\": 4096, \\n}\\n\\nllm = Ollama(**llm_kwargs)'"
      ]
     },
     "execution_count": 4,
     "metadata": {},
     "output_type": "execute_result"
    }
   ],
   "source": [
    "\"\"\"llm_kwargs: Dict[str, Any] = {\n",
    "    \"model\": \"gemma2:9b-instruct-q4_K_M\",\n",
    "    \"temperature\": 0,\n",
    "    \"num_ctx\": 4096, \n",
    "}\n",
    "\n",
    "llm = Ollama(**llm_kwargs)\"\"\""
   ]
  },
  {
   "cell_type": "code",
   "execution_count": 5,
   "metadata": {},
   "outputs": [],
   "source": [
    "llm_kwargs: Dict[str, Any] = {\n",
    "    \"model\": \"llama3.1\",\n",
    "    \"temperature\": 0,\n",
    "    \"num_ctx\": 4096, \n",
    "}\n",
    "\n",
    "llm = Ollama(**llm_kwargs)"
   ]
  },
  {
   "cell_type": "code",
   "execution_count": 21,
   "metadata": {},
   "outputs": [],
   "source": [
    "from langchain_google_genai import ChatGoogleGenerativeAI\n",
    "\n",
    "# Initialize the llm with the new model\n",
    "llm = ChatGoogleGenerativeAI(model=\"gemini-1.5-flash-latest\", temperature=0)"
   ]
  },
  {
   "cell_type": "code",
   "execution_count": 35,
   "metadata": {},
   "outputs": [],
   "source": [
    "from langchain_groq import ChatGroq\n",
    "\n",
    "llm = ChatGroq(\n",
    "    model=\"llama-3.1-70b-versatile\",\n",
    "    temperature=0,\n",
    "    max_tokens=None,\n",
    "    timeout=None,\n",
    "    max_retries=2,\n",
    "    # other params...\n",
    ")"
   ]
  },
  {
   "cell_type": "code",
   "execution_count": 8,
   "metadata": {},
   "outputs": [
    {
     "name": "stderr",
     "output_type": "stream",
     "text": [
      "C:\\Users\\oumay\\AppData\\Local\\Temp\\ipykernel_19912\\3959080105.py:12: DeprecationWarning: The raise_on_deleted_version parameter will change its default value to False in hvac v3.0.0. The current default of True will presere previous behavior. To use the old behavior with no warning, explicitly set this value to True. See https://github.com/hvac/hvac/pull/907\n",
      "  response = client.secrets.kv.v2.read_secret_version(path=secret_path, mount_point=\"kv\")\n"
     ]
    },
    {
     "name": "stdout",
     "output_type": "stream",
     "text": [
      "Request to Vault failed: 2 errors occurred:\n",
      "\t* permission denied\n",
      "\t* invalid token\n",
      "\n",
      ", on get http://46.105.247.55:8200/v1/kv/data/users/accounts/api-tokens/proxmox/oumaima\n",
      "Failed to retrieve Proxmox API token.\n",
      "Request to Vault failed: 2 errors occurred:\n",
      "\t* permission denied\n",
      "\t* invalid token\n",
      "\n",
      ", on get http://46.105.247.55:8200/v1/kv/data/users/accounts/surrealdb\n",
      "Failed to retrieve SurrealDB URL.\n",
      "Request to Vault failed: 2 errors occurred:\n",
      "\t* permission denied\n",
      "\t* invalid token\n",
      "\n",
      ", on get http://46.105.247.55:8200/v1/kv/data/users/accounts/surrealdb/oumaima\n",
      "Failed to retrieve SurrealDB credentials.\n"
     ]
    }
   ],
   "source": [
    "def get_vault_token():\n",
    "    token = os.getenv('VAULT_TOKEN')\n",
    "    if not token:\n",
    "        token = input(\"Vault token: \").strip()\n",
    "        os.environ['VAULT_TOKEN'] = token\n",
    "    return token\n",
    "\n",
    "# Function to access the secret from Vault\n",
    "def access_vault_secret(vault_token, url, secret_path):\n",
    "    try:\n",
    "        client = hvac.Client(url=url, token=vault_token)\n",
    "        response = client.secrets.kv.v2.read_secret_version(path=secret_path, mount_point=\"kv\")\n",
    "        if response:\n",
    "            secret_data = response['data']['data']\n",
    "            print(f\"Accessed Vault secret at {secret_path}.\")\n",
    "            return secret_data\n",
    "        else:\n",
    "            print(f\"Failed to access Vault secret at {secret_path}.\")\n",
    "            return None\n",
    "    except hvac.exceptions.VaultError as e:\n",
    "        print(f\"Request to Vault failed: {e}\")\n",
    "        return None\n",
    "\n",
    "# Get Vault token from environment or prompt\n",
    "vault_token = os.getenv('VAULT_TOKEN') or get_vault_token()\n",
    "\n",
    "# Save Vault token in environment variables if not already set\n",
    "os.environ['VAULT_TOKEN'] = vault_token\n",
    "\n",
    "# Retrieve Vault URL from environment variables\n",
    "vault_url = os.getenv('VAULT_URL')\n",
    "\n",
    "# Paths to secrets in Vault\n",
    "proxmox_secret_path = \"users/accounts/api-tokens/proxmox/oumaima\"\n",
    "surrealdb_url_path = \"users/accounts/surrealdb\"\n",
    "surrealdb_credentials_path = \"users/accounts/surrealdb/oumaima\"\n",
    "\n",
    "# Access Proxmox API token from Vault\n",
    "proxmox_api_token = access_vault_secret(vault_token, vault_url, proxmox_secret_path)\n",
    "if proxmox_api_token:\n",
    "    os.environ['PROXMOX_HCM_API_TOKEN'] = proxmox_api_token.get('proxmox-hcm-api-token')\n",
    "else:\n",
    "    print(\"Failed to retrieve Proxmox API token.\")\n",
    "\n",
    "# Access SurrealDB URL from Vault\n",
    "surrealdb_url_secret = access_vault_secret(vault_token, vault_url, surrealdb_url_path)\n",
    "if surrealdb_url_secret:\n",
    "    os.environ['SURREALDB_URL'] = surrealdb_url_secret.get('url')\n",
    "else:\n",
    "    print(\"Failed to retrieve SurrealDB URL.\")\n",
    "\n",
    "# Access SurrealDB credentials from Vault\n",
    "surrealdb_credentials_secret = access_vault_secret(vault_token, vault_url, surrealdb_credentials_path)\n",
    "if surrealdb_credentials_secret:\n",
    "    os.environ['SURREALDB_USER'] = surrealdb_credentials_secret.get('user')\n",
    "    os.environ['SURREALDB_PWD'] = surrealdb_credentials_secret.get('password')\n",
    "else:\n",
    "    print(\"Failed to retrieve SurrealDB credentials.\")\n"
   ]
  },
  {
   "cell_type": "code",
   "execution_count": 9,
   "metadata": {},
   "outputs": [],
   "source": [
    "import base64\n",
    "\n",
    "proxmox_api_token =base64.b64decode( os.getenv('PROXMOX_HCM_API_TOKEN')).decode('utf-8')\n",
    "surrealdb_url = os.getenv('SURREALDB_URL')\n",
    "surrealdb_user = os.getenv('SURREALDB_USER')\n",
    "surrealdb_password = os.getenv('SURREALDB_PWD')"
   ]
  },
  {
   "cell_type": "code",
   "execution_count": 10,
   "metadata": {},
   "outputs": [
    {
     "name": "stderr",
     "output_type": "stream",
     "text": [
      "c:\\Users\\oumay\\.vscode\\agent-scripts-\\venv\\Lib\\site-packages\\langchain_core\\_api\\deprecation.py:139: LangChainDeprecationWarning: The class `HuggingFaceEmbeddings` was deprecated in LangChain 0.2.2 and will be removed in 0.3.0. An updated version of the class exists in the langchain-huggingface package and should be used instead. To use it run `pip install -U langchain-huggingface` and import as `from langchain_huggingface import HuggingFaceEmbeddings`.\n",
      "  warn_deprecated(\n",
      "c:\\Users\\oumay\\.vscode\\agent-scripts-\\venv\\Lib\\site-packages\\xformers\\ops\\fmha\\flash.py:211: FutureWarning: `torch.library.impl_abstract` was renamed to `torch.library.register_fake`. Please use that instead; we will remove `torch.library.impl_abstract` in a future version of PyTorch.\n",
      "  @torch.library.impl_abstract(\"xformers_flash::flash_fwd\")\n",
      "c:\\Users\\oumay\\.vscode\\agent-scripts-\\venv\\Lib\\site-packages\\xformers\\ops\\fmha\\flash.py:344: FutureWarning: `torch.library.impl_abstract` was renamed to `torch.library.register_fake`. Please use that instead; we will remove `torch.library.impl_abstract` in a future version of PyTorch.\n",
      "  @torch.library.impl_abstract(\"xformers_flash::flash_bwd\")\n",
      "Some weights of the model checkpoint at infgrad/stella_en_400M_v5 were not used when initializing NewModel: ['new.pooler.dense.bias', 'new.pooler.dense.weight']\n",
      "- This IS expected if you are initializing NewModel from the checkpoint of a model trained on another task or with another architecture (e.g. initializing a BertForSequenceClassification model from a BertForPreTraining model).\n",
      "- This IS NOT expected if you are initializing NewModel from the checkpoint of a model that you expect to be exactly identical (initializing a BertForSequenceClassification model from a BertForSequenceClassification model).\n"
     ]
    }
   ],
   "source": [
    "# Initialize the SentenceTransformerEmbeddings with trust_remote_code=True\n",
    "ef = SentenceTransformerEmbeddings(\n",
    "    model_name=\"infgrad/stella_en_400M_v5\",\n",
    "    model_kwargs={\n",
    "        \"trust_remote_code\": True,\n",
    "    }\n",
    ")"
   ]
  },
  {
   "cell_type": "code",
   "execution_count": 11,
   "metadata": {},
   "outputs": [],
   "source": [
    "nest_asyncio.apply()\n",
    "\n",
    "# SurrealDB connection parameters\n",
    "dburl = \"ws://localhost:8000/rpc\"\n",
    "ns = \"langchain\"\n",
    "db_name = \"proxmox_api_docs\"\n",
    "collection = \"proxmox_collection\"\n",
    "db_user = surrealdb_user\n",
    "db_pass = surrealdb_password"
   ]
  },
  {
   "cell_type": "code",
   "execution_count": 12,
   "metadata": {},
   "outputs": [],
   "source": [
    "# Initialize the SurrealDBStore with documents\n",
    "db = SurrealDBStore(\n",
    "    embedding_function=ef,\n",
    "    dburl=dburl,\n",
    "    ns=ns,\n",
    "    db=db_name,\n",
    "    collection=collection,\n",
    "    db_user=db_user,\n",
    "    db_pass=db_pass\n",
    ")"
   ]
  },
  {
   "cell_type": "code",
   "execution_count": 13,
   "metadata": {},
   "outputs": [],
   "source": [
    "# this is needed to initialize the underlying async library for SurrealDB\n",
    "await db.initialize()\n",
    "\n",
    "# delete collection from the vectorstore collection if it exists \n",
    "await db.adelete(collection = collection)\n",
    "\n",
    "# add documents to the vectorstore\n",
    "ids = await db.aadd_documents(docs)"
   ]
  },
  {
   "cell_type": "code",
   "execution_count": 14,
   "metadata": {},
   "outputs": [],
   "source": [
    "retriever = db.as_retriever(search_type=\"similarity\", search_kwargs={\"k\": 3})"
   ]
  },
  {
   "cell_type": "code",
   "execution_count": 15,
   "metadata": {},
   "outputs": [],
   "source": [
    "# Initialize the cross-encoder model\n",
    "#cross_encoder_model = HuggingFaceCrossEncoder(model_name=\"BAAI/bge-reranker-base\")\n",
    "cross_encoder_model = HuggingFaceCrossEncoder(model_name=\"cross-encoder/ms-marco-MiniLM-L-6-v2\")\n",
    "compressor = CrossEncoderReranker(model=cross_encoder_model, top_n=1)\n",
    "compression_retriever = ContextualCompressionRetriever(\n",
    "    base_compressor=compressor, base_retriever=retriever\n",
    ")"
   ]
  },
  {
   "cell_type": "code",
   "execution_count": 36,
   "metadata": {},
   "outputs": [],
   "source": [
    "chain = ProxmoxAPIChain.from_llm_and_api_docs(\n",
    "    llm,\n",
    "    retriever=compression_retriever,\n",
    "    headers={\"Authorization\": proxmox_api_token},\n",
    "    verbose=True,\n",
    "    limit_to_domains=['https://ns31418912.ip-54-38-37.eu:8006'],\n",
    "    base_url= \"https://ns31418912.ip-54-38-37.eu:8006\",\n",
    ")"
   ]
  },
  {
   "cell_type": "markdown",
   "metadata": {},
   "source": [
    "# Vms management: "
   ]
  },
  {
   "cell_type": "markdown",
   "metadata": {},
   "source": [
    "## LiST available Vms on a proxmoxs node :"
   ]
  },
  {
   "cell_type": "code",
   "execution_count": 17,
   "metadata": {},
   "outputs": [
    {
     "data": {
      "text/plain": [
       "{'api_url': 'https://api.proxmox.com/api2/json/nodes/Proxmox-Node-HCM/qemu',\n",
       " 'request_method': 'GET',\n",
       " 'request_body': {}}"
      ]
     },
     "execution_count": 17,
     "metadata": {},
     "output_type": "execute_result"
    }
   ],
   "source": [
    "chain.api_request_chain.invoke(\n",
    "    \"list Vms on node 'Proxmox-Node-HCM'\"\n",
    ")"
   ]
  },
  {
   "cell_type": "code",
   "execution_count": 37,
   "metadata": {},
   "outputs": [
    {
     "name": "stdout",
     "output_type": "stream",
     "text": [
      "\n",
      "\n",
      "\u001b[1m> Entering new ProxmoxAPIChain chain...\u001b[0m\n",
      "Retrieved Document 0: {\"endpoint\": \"/api2/json/nodes/{node}/qemu\", \"method\": \"get\", \"summary\": \"List Virtual machines (VMs) on a Node\", \"parameters\": [{\"name\": \"node\", \"in\": \"path\", \"required\": true, \"description\": \"Node ID where VMs are located\", \"schema\": {\"type\": \"string\"}}]}\n",
      "\n",
      "Request info: {\n",
      "    \"api_url\": \"/api2/json/nodes/Proxmox-Node-HCM/qemu\",\n",
      "    \"request_method\": \"get\",\n",
      "    \"request_body\": {}\n",
      "}\n",
      "Full API URL: https://ns31418912.ip-54-38-37.eu:8006/api2/json/nodes/Proxmox-Node-HCM/qemu\n",
      "API URL: https://ns31418912.ip-54-38-37.eu:8006/api2/json/nodes/Proxmox-Node-HCM/qemu\n",
      "Request method: GET\n",
      "Request body: {}\n",
      "\u001b[38;5;200m\u001b[1;3mStatus: 200 OK\n",
      "Response: {\"data\":[{\"diskread\":0,\"uptime\":3722513,\"pid\":1998484,\"diskwrite\":0,\"cpus\":4,\"cpu\":0,\"maxmem\":8589934592,\"netout\":15539890,\"name\":\"PgSQL-IMX-Replicaset\",\"vmid\":108,\"disk\":0,\"netin\":1110622865,\"maxdisk\":107374182400,\"mem\":2901857585,\"status\":\"running\"},{\"mem\":7183534626,\"status\":\"running\",\"netin\":205948835,\"maxdisk\":107374182400,\"vmid\":104,\"disk\":0,\"diskread\":0,\"pid\":3748081,\"uptime\":5362914,\"cpus\":4,\"cpu\":0,\"diskwrite\":0,\"name\":\"PgSQL-IMX\",\"netout\":32228355,\"maxmem\":8589934592},{\"maxdisk\":107374182400,\"netin\":1366049812,\"status\":\"running\",\"mem\":1922187639,\"maxmem\":4294967296,\"netout\":104353736,\"name\":\"MLFlow\",\"diskwrite\":0,\"cpu\":0,\"cpus\":1,\"uptime\":178018,\"pid\":3442637,\"diskread\":0,\"disk\":0,\"vmid\":112},{\"maxmem\":2147483648,\"name\":\"my-vm\",\"netout\":0,\"diskwrite\":0,\"cpu\":0,\"cpus\":2,\"uptime\":0,\"diskread\":0,\"disk\":0,\"vmid\":9999,\"maxdisk\":34359738368,\"netin\":0,\"status\":\"stopped\",\"mem\":0},{\"disk\":0,\"vmid\":110,\"maxmem\":8589934592,\"netout\":16895076,\"name\":\"primary-test\",\"diskwrite\":0,\"cpus\":4,\"cpu\":0.00503498061540914,\"uptime\":3286073,\"pid\":3793132,\"diskread\":0,\"status\":\"running\",\"mem\":2238680162,\"maxdisk\":34359738368,\"netin\":1252760345},{\"netin\":795610445,\"maxdisk\":107374182400,\"mem\":1322166732,\"status\":\"running\",\"uptime\":5522446,\"pid\":3099455,\"diskread\":0,\"maxmem\":4294967296,\"name\":\"SurrealDB-IMX\",\"netout\":305127410,\"diskwrite\":0,\"cpu\":0,\"cpus\":4,\"vmid\":102,\"disk\":0},{\"disk\":0,\"vmid\":106,\"maxmem\":4294967296,\"netout\":287537441,\"name\":\"Ansible-controller\",\"diskwrite\":0,\"cpu\":0,\"cpus\":2,\"uptime\":5362227,\"pid\":3751193,\"diskread\":0,\"status\":\"running\",\"mem\":3326017519,\"maxdisk\":34359738368,\"netin\":189297121},{\"netin\":4067800848,\"maxdisk\":137438953472,\"mem\":5643110935,\"status\":\"running\",\"pid\":3634760,\"uptime\":7954507,\"diskread\":0,\"tags\":\"critical;poc\",\"name\":\"Mongo-IMX\",\"netout\":613496870,\"maxmem\":8489271296,\"cpu\":0,\"cpus\":2,\"diskwrite\":0,\"vmid\":100,\"disk\":0},{\"diskwrite\":0,\"cpu\":0,\"cpus\":1,\"maxmem\":536870912,\"netout\":246357581,\"name\":\"test-vm\",\"diskread\":0,\"uptime\":3533141,\"pid\":2790383,\"disk\":0,\"vmid\":1001,\"maxdisk\":34359738368,\"netin\":776188510,\"status\":\"running\",\"mem\":21181271},{\"maxdisk\":214748364800,\"netin\":848354445,\"status\":\"running\",\"mem\":2610116803,\"cpus\":2,\"cpu\":0,\"diskwrite\":0,\"name\":\"MLFlow-Artifact-SFTP\",\"netout\":17158128,\"maxmem\":4266655744,\"diskread\":0,\"pid\":3145680,\"uptime\":72860,\"disk\":0,\"vmid\":113},{\"vmid\":10004,\"disk\":0,\"uptime\":0,\"diskread\":0,\"maxmem\":536870912,\"name\":\"VM 10004\",\"netout\":0,\"diskwrite\":0,\"cpus\":1,\"cpu\":0,\"mem\":0,\"status\":\"stopped\",\"netin\":0,\"maxdisk\":0},{\"disk\":0,\"vmid\":10002,\"maxmem\":536870912,\"name\":\"VM 10002\",\"netout\":0,\"diskwrite\":0,\"cpu\":0,\"cpus\":1,\"uptime\":0,\"diskread\":0,\"status\":\"stopped\",\"mem\":0,\"maxdisk\":0,\"netin\":0},{\"mem\":0,\"status\":\"stopped\",\"netin\":0,\"maxdisk\":0,\"vmid\":10001,\"disk\":0,\"diskread\":0,\"uptime\":0,\"diskwrite\":0,\"cpus\":1,\"cpu\":0,\"maxmem\":536870912,\"name\":\"VM 10001\",\"netout\":0},{\"mem\":3554095026,\"status\":\"running\",\"netin\":1983581896,\"maxdisk\":107374182400,\"vmid\":101,\"disk\":0,\"diskread\":0,\"uptime\":7411679,\"pid\":1787620,\"diskwrite\":0,\"cpu\":0,\"cpus\":2,\"maxmem\":8589934592,\"netout\":743562240,\"name\":\"test-vault01\"},{\"maxdisk\":107374182400,\"netin\":451316063,\"status\":\"running\",\"mem\":883889375,\"diskwrite\":0,\"cpus\":4,\"cpu\":0,\"maxmem\":8589934592,\"netout\":7360137,\"name\":\"PgSQL-Primary\",\"diskread\":0,\"uptime\":3608405,\"pid\":2483630,\"disk\":0,\"vmid\":109},{\"vmid\":2000,\"disk\":0,\"diskread\":0,\"pid\":1003406,\"uptime\":6033450,\"cpus\":2,\"cpu\":0,\"diskwrite\":0,\"netout\":2934620178,\"name\":\"NewRelic-GitLab\",\"maxmem\":2147483648,\"mem\":1334191612,\"status\":\"running\",\"netin\":9981090251,\"maxdisk\":34359738368},{\"status\":\"stopped\",\"mem\":0,\"maxdisk\":34359738368,\"netin\":0,\"disk\":0,\"vmid\":10000,\"cpus\":2,\"cpu\":0,\"diskwrite\":0,\"netout\":0,\"name\":\"test-vm\",\"maxmem\":2147483648,\"diskread\":0,\"uptime\":0},{\"diskread\":0,\"pid\":1822073,\"uptime\":3766809,\"cpus\":1,\"cpu\":0,\"diskwrite\":0,\"netout\":38103186,\"name\":\"test-mfa\",\"maxmem\":2147483648,\"vmid\":107,\"disk\":0,\"netin\":2010226852,\"maxdisk\":34359738368,\"mem\":779842949,\"status\":\"running\"},{\"vmid\":111,\"disk\":0,\"uptime\":502619,\"pid\":3967817,\"diskread\":0,\"maxmem\":2147483648,\"name\":\"test-slave\",\"netout\":2920996,\"diskwrite\":0,\"cpus\":2,\"cpu\":0,\"mem\":908176401,\"status\":\"running\",\"netin\":138676419,\"maxdisk\":34359738368}]}\u001b[0m\n",
      "\n",
      "\u001b[1m> Finished chain.\u001b[0m\n",
      "The API response contains a list of virtual machines (VMs) on the node 'Proxmox-Node-HCM'. The list includes the following VMs:\n",
      "\n",
      "1. PgSQL-IMX-Replicaset (vmid: 108)\n",
      "2. PgSQL-IMX (vmid: 104)\n",
      "3. MLFlow (vmid: 112)\n",
      "4. my-vm (vmid: 9999)\n",
      "5. primary-test (vmid: 110)\n",
      "6. SurrealDB-IMX (vmid: 102)\n",
      "7. Ansible-controller (vmid: 106)\n",
      "8. Mongo-IMX (vmid: 100)\n",
      "9. test-vm (vmid: 1001)\n",
      "10. MLFlow-Artifact-SFTP (vmid: 113)\n",
      "11. VM 10004 (vmid: 10004)\n",
      "12. VM 10002 (vmid: 10002)\n",
      "13. VM 10001 (vmid: 10001)\n",
      "14. test-vault01 (vmid: 101)\n",
      "15. PgSQL-Primary (vmid: 109)\n",
      "16. NewRelic-GitLab (vmid: 2000)\n",
      "17. test-vm (vmid: 10000)\n",
      "18. test-mfa (vmid: 107)\n",
      "19. test-slave (vmid: 111)\n",
      "\n",
      "Each VM is described by its vmid, name, status, and other attributes such as memory, CPU, and network usage.\n"
     ]
    }
   ],
   "source": [
    "user_input = (\n",
    "    f\"list Vms on node 'Proxmox-Node-HCM'\"\n",
    ")\n",
    "response = chain.invoke(user_input, config={\"callbacks\": [langfuse_handler]})\n",
    "\n",
    "print(response['output'])"
   ]
  },
  {
   "cell_type": "code",
   "execution_count": null,
   "metadata": {},
   "outputs": [
    {
     "name": "stdout",
     "output_type": "stream",
     "text": [
      "\n",
      "\n",
      "\u001b[1m> Entering new ProxmoxAPIChain chain...\u001b[0m\n",
      "Retrieved Document 0: {\"endpoint\": \"/api2/json/nodes/{node}/qemu\", \"method\": \"get\", \"summary\": \"List Virtual machines (VMs) on a Node\", \"parameters\": [{\"name\": \"node\", \"in\": \"path\", \"required\": true, \"description\": \"Node ID where VMs are located\", \"schema\": {\"type\": \"string\"}}]}\n",
      "\n",
      "Request info: {\n",
      "    \"api_url\": \"/api2/json/nodes/Proxmox-Node-HCM/qemu\",\n",
      "    \"request_method\": \"get\",\n",
      "    \"request_body\": {}\n",
      "}\n",
      "Full API URL: https://ns31418912.ip-54-38-37.eu:8006/api2/json/nodes/Proxmox-Node-HCM/qemu\n",
      "API URL: https://ns31418912.ip-54-38-37.eu:8006/api2/json/nodes/Proxmox-Node-HCM/qemu\n",
      "Request method: GET\n",
      "Request body: {}\n",
      "\u001b[38;5;200m\u001b[1;3mStatus: 200 OK\n",
      "Response: {\"data\":[{\"status\":\"running\",\"mem\":780051995,\"maxdisk\":34359738368,\"netin\":1735992038,\"disk\":0,\"vmid\":107,\"diskwrite\":0,\"cpu\":0.0022013089417081,\"cpus\":1,\"maxmem\":2147483648,\"name\":\"test-mfa\",\"netout\":33306448,\"diskread\":0,\"uptime\":3248531,\"pid\":1822073},{\"mem\":0,\"status\":\"stopped\",\"netin\":0,\"maxdisk\":0,\"vmid\":10002,\"disk\":0,\"diskread\":0,\"uptime\":0,\"cpus\":1,\"cpu\":0,\"diskwrite\":0,\"name\":\"VM 10002\",\"netout\":0,\"maxmem\":536870912},{\"maxdisk\":0,\"netin\":0,\"status\":\"stopped\",\"mem\":0,\"name\":\"VM 10004\",\"netout\":0,\"maxmem\":536870912,\"cpus\":1,\"cpu\":0,\"diskwrite\":0,\"uptime\":0,\"diskread\":0,\"disk\":0,\"vmid\":10004},{\"uptime\":5515172,\"pid\":1003406,\"diskread\":0,\"maxmem\":2147483648,\"name\":\"NewRelic-GitLab\",\"netout\":2689430973,\"diskwrite\":0,\"cpus\":2,\"cpu\":0.00415802800100418,\"vmid\":2000,\"disk\":0,\"netin\":9172930278,\"maxdisk\":34359738368,\"mem\":1332042852,\"status\":\"running\"},{\"mem\":871264479,\"status\":\"running\",\"netin\":349270936,\"maxdisk\":107374182400,\"vmid\":109,\"disk\":0,\"pid\":2483630,\"uptime\":3090128,\"diskread\":0,\"netout\":6466709,\"name\":\"PgSQL-Primary\",\"maxmem\":8589934592,\"cpus\":4,\"cpu\":0.000672622176633029,\"diskwrite\":0},{\"disk\":0,\"vmid\":10001,\"maxmem\":536870912,\"netout\":0,\"name\":\"VM 10001\",\"diskwrite\":0,\"cpu\":0,\"cpus\":1,\"uptime\":0,\"diskread\":0,\"status\":\"stopped\",\"mem\":0,\"maxdisk\":0,\"netin\":0},{\"netin\":1908030661,\"maxdisk\":107374182400,\"mem\":3554389241,\"status\":\"running\",\"diskread\":0,\"uptime\":6893402,\"pid\":1787620,\"diskwrite\":0,\"cpus\":2,\"cpu\":0.0131379708267023,\"maxmem\":8589934592,\"netout\":699653269,\"name\":\"test-vault01\",\"vmid\":101,\"disk\":0},{\"disk\":0,\"vmid\":100,\"maxmem\":8489271296,\"netout\":580829718,\"name\":\"Mongo-IMX\",\"diskwrite\":0,\"cpu\":0.00766963988420519,\"cpus\":2,\"uptime\":7436229,\"pid\":3634760,\"tags\":\"critical;poc\",\"diskread\":0,\"status\":\"running\",\"mem\":5582964462,\"maxdisk\":137438953472,\"netin\":3952235172},{\"maxmem\":536870912,\"name\":\"test-vm\",\"netout\":210219540,\"diskwrite\":0,\"cpus\":1,\"cpu\":0.603053825792699,\"uptime\":3014863,\"pid\":2790383,\"diskread\":0,\"disk\":0,\"vmid\":1001,\"maxdisk\":34359738368,\"netin\":660551775,\"status\":\"running\",\"mem\":20276275},{\"status\":\"running\",\"mem\":3326017519,\"maxdisk\":34359738368,\"netin\":182325570,\"disk\":0,\"vmid\":106,\"cpus\":2,\"cpu\":0.00071629894134946,\"diskwrite\":0,\"netout\":186340193,\"name\":\"Ansible-controller\",\"maxmem\":4294967296,\"diskread\":0,\"pid\":3751193,\"uptime\":4843949},{\"vmid\":102,\"disk\":0,\"pid\":3099455,\"uptime\":5004169,\"diskread\":0,\"netout\":292316582,\"name\":\"SurrealDB-IMX\",\"maxmem\":4294967296,\"cpu\":0.0191828350634563,\"cpus\":4,\"diskwrite\":0,\"mem\":1268974469,\"status\":\"running\",\"netin\":726725510,\"maxdisk\":107374182400},{\"uptime\":4844637,\"pid\":3748081,\"diskread\":0,\"maxmem\":8589934592,\"netout\":29613759,\"name\":\"PgSQL-IMX\",\"diskwrite\":0,\"cpus\":4,\"cpu\":0.000794917117839034,\"vmid\":104,\"disk\":0,\"netin\":203306938,\"maxdisk\":107374182400,\"mem\":7183653907,\"status\":\"running\"},{\"netin\":1041841976,\"maxdisk\":107374182400,\"mem\":2900296461,\"status\":\"running\",\"uptime\":3204235,\"pid\":1998484,\"diskread\":0,\"maxmem\":8589934592,\"name\":\"PgSQL-IMX-Replicaset\",\"netout\":13756263,\"diskwrite\":0,\"cpu\":0.00540718347189409,\"cpus\":4,\"vmid\":108,\"disk\":0},{\"status\":\"stopped\",\"mem\":0,\"maxdisk\":34359738368,\"netin\":0,\"disk\":0,\"vmid\":9999,\"diskwrite\":0,\"cpus\":2,\"cpu\":0,\"maxmem\":2147483648,\"netout\":0,\"name\":\"my-vm\",\"diskread\":0,\"uptime\":0},{\"vmid\":110,\"disk\":0,\"diskread\":0,\"pid\":3793132,\"uptime\":2767795,\"cpu\":0.0010657130590809,\"cpus\":4,\"diskwrite\":0,\"name\":\"primary-test\",\"netout\":12900009,\"maxmem\":8589934592,\"mem\":2247191872,\"status\":\"running\",\"netin\":1096445161,\"maxdisk\":34359738368}]}\u001b[0m\n",
      "\n",
      "\u001b[1m> Finished chain.\u001b[0m\n",
      "Raw response: {'question': \"list Vms on node 'Proxmox-Node-HCM'\", 'output': 'Based on the provided API documentation and the user\\'s question, I will provide a clear and concise answer.\\n\\n**User\\'s Question:** \"list Vms on node \\'Proxmox-Node-HCM\\'\"\\n\\n**API Documentation:** The API endpoint for listing VMS on a node is `/api2/json/nodes/{node}/qemu`. The `node` parameter is required and should be a string.\\n\\n**API Response:** The API response will be a JSON object containing a list of VMS on the specified node.\\n\\n**Example API Response:**\\n```json\\n{\\n  \"data\": [\\n    {\\n      \"status\": \"running\",\\n      \"mem\": 780051995,\\n      \"maxdisk\": 34359738368,\\n      \"netin\": 1735992038,\\n      \"disk\": 0,\\n      \"vmid\": 107,\\n      \"diskwrite\": 0,\\n      \"cpu\": 0.0022013089417081,\\n      \"cpus\": 1,\\n      \"maxmem\": 2147483648,\\n      \"name\": \"test-mfa\",\\n      \"netout\": 33306448,\\n      \"diskread\": 0,\\n      \"uptime\": 3248531,\\n      \"pid\": 1822073\\n    },\\n    {\\n      \"status\": \"stopped\",\\n      \"mem\": 0,\\n      \"maxdisk\": 0,\\n      \"netin\": 0,\\n      \"disk\": 0,\\n      \"vmid\": 10002,\\n      \"diskwrite\": 0,\\n      \"cpu\": 0,\\n      \"cpus\": 1,\\n      \"maxmem\": 536870912,\\n      \"name\": \"VM 10002\",\\n      \"netout\": 0,\\n      \"diskread\": 0,\\n      \"uptime\": 0,\\n      \"pid\": 0\\n    }\\n  ]\\n}\\n```\\n**Answer:** The API endpoint for listing VMS on a node is `/api2/json/nodes/{node}/qemu`. The `node` parameter should be a string representing the name of the node. The API response will be a JSON object containing a list of VMS on the specified node.'}\n"
     ]
    }
   ],
   "source": [
    "response = chain.invoke(user_input, config={\"callbacks\": [langfuse_handler]})\n",
    "\n",
    "print(\"Raw response:\", response)"
   ]
  },
  {
   "cell_type": "markdown",
   "metadata": {},
   "source": [
    "## Creating a new Vm : "
   ]
  },
  {
   "cell_type": "markdown",
   "metadata": {},
   "source": [
    "### Vm with initial config :"
   ]
  },
  {
   "cell_type": "code",
   "execution_count": null,
   "metadata": {},
   "outputs": [
    {
     "name": "stdout",
     "output_type": "stream",
     "text": [
      "\n",
      "\n",
      "\u001b[1m> Entering new ProxmoxAPIChain chain...\u001b[0m\n",
      "Retrieved Document 0: {\"endpoint\": \"/api2/json/nodes/{node}/qemu\", \"method\": \"post\", \"summary\": \"Create a Virtual machine (VM) \", \"description\": \"Use this endpoint to create a new virtual machine on the specified node. This endpoint is used for initial creation and can be used for the allocation of resources such as memory, cores, and storage.\", \"parameters\": [{\"name\": \"node\", \"in\": \"path\", \"required\": true, \"description\": \"Node ID where the VM will be created\", \"schema\": {\"type\": \"string\"}}], \"requestBody\": {\"required\": true, \"content\": {\"application/json\": {\"schema\": {\"type\": \"object\", \"properties\": {\"vmid\": {\"type\": \"integer\", \"description\": \"VM ID\"}, \"name\": {\"type\": \"string\", \"description\": \"Name of the VM\"}, \"memory\": {\"type\": \"integer\", \"description\": \"Memory size in MB\"}, \"cores\": {\"type\": \"integer\", \"description\": \"Number of CPU cores\"}, \"ide0\": {\"type\": \"string\", \"description\": \"Disk size and format, e.g., \\\"local:32,format=qcow2\\\"\"}, \"net0\": {\"type\": \"string\", \"description\": \"Network configuration, e.g., \\\"virtio,bridge=vmbr0\\\"\"}, \"ostype\": {\"type\": \"string\", \"description\": \"OS type, e.g., \\\"l26\\\" for Linux\"}}, \"required\": [\"node\", \"vmid\"]}}}}}\n",
      "\n",
      "Request info: {\n",
      "    \"api_url\": \"/api2/json/nodes/Proxmox-Node-HCM/qemu\",\n",
      "    \"request_method\": \"post\",\n",
      "    \"request_body\": {\n",
      "        \"vmid\": 10000,\n",
      "        \"name\": \"test-vm-3\",\n",
      "        \"memory\": 512,\n",
      "        \"cores\": 1,\n",
      "        \"ide0\": \"local:32,format=qcow2\",\n",
      "        \"net0\": \"virtio,bridge=vmbr0\",\n",
      "        \"ostype\": \"l26\"\n",
      "    }\n",
      "}\n",
      "Full API URL: https://ns31418912.ip-54-38-37.eu:8006/api2/json/nodes/Proxmox-Node-HCM/qemu\n",
      "API URL: https://ns31418912.ip-54-38-37.eu:8006/api2/json/nodes/Proxmox-Node-HCM/qemu\n",
      "Request method: POST\n",
      "Request body: {'vmid': 10000, 'name': 'test-vm-3', 'memory': 512, 'cores': 1, 'ide0': 'local:32,format=qcow2', 'net0': 'virtio,bridge=vmbr0', 'ostype': 'l26'}\n",
      "\u001b[38;5;200m\u001b[1;3mStatus: 200 OK\n",
      "Response: {\"data\":\"UPID:Proxmox-Node-HCM:00339102:BC860047:66BF2C92:qmcreate:10000:oumaima@pve!oumaima-token:\"}\u001b[0m\n",
      "\n",
      "\u001b[1m> Finished chain.\u001b[0m\n",
      "Based on the provided API documentation and the user's question, the correct API endpoint to create a VM on node 'Proxmox-Node-HCM' with the specified configuration is:\n",
      "\n",
      "`/api2/json/nodes/{node}/qemu`\n",
      "\n",
      "The request method is `POST` and the request body should contain the following JSON data:\n",
      "\n",
      "```json\n",
      "{\n",
      "  \"vmid\": 10000,\n",
      "  \"name\": \"test-vm-3\",\n",
      "  \"memory\": 512,\n",
      "  \"cores\": 1,\n",
      "  \"ide0\": \"local:32,format=qcow2\",\n",
      "  \"net0\": \"virtio,bridge=vmbr0\",\n",
      "  \"ostype\": \"l26\"\n",
      "}\n",
      "```\n",
      "\n",
      "Note that the `node` parameter should be replaced with the actual node ID, which is 'Proxmox-Node-HCM' in this case.\n"
     ]
    }
   ],
   "source": [
    "user_input = (\n",
    "    f\"Create a VM on node 'Proxmox-Node-HCM' with the following configuration :\\n\"\n",
    "    f\"VM ID: 10000\\n\"\n",
    "    f\"Name: test-vm-3\\n\"\n",
    "    f\"Memory: 512 MB\\n\"\n",
    "    f\"Cores: 1\\n\"\n",
    "    f\"Sockets: 1\\n\"\n",
    "    f\"Storage: local\\n\"\n",
    "    f\"ide0: local:32,format=qcow2\\n\"\n",
    "    f\"net0: virtio,bridge=vmbr0\\n\"\n",
    "    f\"OS Type: l26\\n\"\n",
    "    f\"Description: My test VM\\n\"\n",
    "    f\"NUMA: 1\\n\"\n",
    "    f\"KVM: 1\\n\"\n",
    "    f\"Agent: 1\"\n",
    ")\n",
    "\n",
    "response = chain.invoke(user_input, config={\"callbacks\": [langfuse_handler]})\n",
    "\n",
    "print(response['output'])"
   ]
  },
  {
   "cell_type": "markdown",
   "metadata": {},
   "source": [
    "### Vm with just the required fields : "
   ]
  },
  {
   "cell_type": "code",
   "execution_count": null,
   "metadata": {},
   "outputs": [
    {
     "name": "stdout",
     "output_type": "stream",
     "text": [
      "\n",
      "\n",
      "\u001b[1m> Entering new ProxmoxAPIChain chain...\u001b[0m\n",
      "Retrieved Document 0: {\"endpoint\": \"/api2/json/nodes/{node}/qemu\", \"method\": \"post\", \"summary\": \"Create a Virtual machine (VM) \", \"description\": \"Use this endpoint to create a new virtual machine on the specified node. This endpoint is used for initial creation and can be used for the allocation of resources such as memory, cores, and storage.\", \"parameters\": [{\"name\": \"node\", \"in\": \"path\", \"required\": true, \"description\": \"Node ID where the VM will be created\", \"schema\": {\"type\": \"string\"}}], \"requestBody\": {\"required\": true, \"content\": {\"application/json\": {\"schema\": {\"type\": \"object\", \"properties\": {\"vmid\": {\"type\": \"integer\", \"description\": \"VM ID\"}, \"name\": {\"type\": \"string\", \"description\": \"Name of the VM\"}, \"memory\": {\"type\": \"integer\", \"description\": \"Memory size in MB\"}, \"cores\": {\"type\": \"integer\", \"description\": \"Number of CPU cores\"}, \"ide0\": {\"type\": \"string\", \"description\": \"Disk size and format, e.g., \\\"local:32,format=qcow2\\\"\"}, \"net0\": {\"type\": \"string\", \"description\": \"Network configuration, e.g., \\\"virtio,bridge=vmbr0\\\"\"}, \"ostype\": {\"type\": \"string\", \"description\": \"OS type, e.g., \\\"l26\\\" for Linux\"}}, \"required\": [\"node\", \"vmid\"]}}}}}\n",
      "\n",
      "Request info: {\n",
      "    \"api_url\": \"/api2/json/nodes/Proxmox-Node-HCM/qemu\",\n",
      "    \"request_method\": \"post\",\n",
      "    \"request_body\": {\n",
      "        \"vmid\": 2020,\n",
      "        \"name\": \"\",\n",
      "        \"memory\": 0,\n",
      "        \"cores\": 0,\n",
      "        \"ide0\": \"\",\n",
      "        \"net0\": \"\",\n",
      "        \"ostype\": \"\"\n",
      "    }\n",
      "}\n",
      "Full API URL: https://ns31418912.ip-54-38-37.eu:8006/api2/json/nodes/Proxmox-Node-HCM/qemu\n",
      "API URL: https://ns31418912.ip-54-38-37.eu:8006/api2/json/nodes/Proxmox-Node-HCM/qemu\n",
      "Request method: POST\n",
      "Request body: {'vmid': 2020, 'name': '', 'memory': 0, 'cores': 0, 'ide0': '', 'net0': '', 'ostype': ''}\n",
      "\u001b[38;5;200m\u001b[1;3mStatus: 400 Parameter verification failed.\n",
      "Response: {\"errors\":{\"name\":\"invalid format - value does not look like a valid DNS name\\n\",\"ostype\":\"value '' does not have a value in the enumeration 'other, wxp, w2k, w2k3, w2k8, wvista, win7, win8, win10, win11, l24, l26, solaris'\",\"memory\":\"value must have a minimum value of 16\",\"cores\":\"value must have a minimum value of 1\",\"ide0\":\"invalid format - format error\\nide0.file: property is missing and it is not optional\\n\",\"net0\":\"invalid format - format error\\nnet0.model: property is missing and it is not optional\\n\"},\"data\":null}\u001b[0m\n",
      "\n",
      "\u001b[1m> Finished chain.\u001b[0m\n",
      "I can't provide a response based on the provided information. Can you please provide more context or clarify what you are trying to achieve?\n"
     ]
    }
   ],
   "source": [
    "user_input = (\n",
    "    f\"Create a Vm on node 'Proxmox-Node-HCM' where Vm ID : 2020\"\n",
    ")\n",
    "\n",
    "response = chain.invoke(user_input, config={\"callbacks\": [langfuse_handler]})\n",
    "\n",
    "print(response['output'])"
   ]
  },
  {
   "cell_type": "markdown",
   "metadata": {},
   "source": [
    "## Manage Vm Config : "
   ]
  },
  {
   "cell_type": "markdown",
   "metadata": {},
   "source": [
    "### Update Vm config :"
   ]
  },
  {
   "cell_type": "code",
   "execution_count": null,
   "metadata": {},
   "outputs": [
    {
     "name": "stdout",
     "output_type": "stream",
     "text": [
      "\n",
      "\n",
      "\u001b[1m> Entering new ProxmoxAPIChain chain...\u001b[0m\n",
      "Retrieved Document 0: {\"endpoint\": \"/api2/json/nodes/{node}/qemu/{vmid}/config\", \"method\": \"put\", \"summary\": \"Update virtual machine configuration options\", \"description\": \"Use this endpoint to modify the configuration of an existing virtual machine. This is useful when you need to change settings such as memory, cores, network devices, and other VM parameters for an already running or stopped VM.\", \"parameters\": [{\"name\": \"node\", \"in\": \"path\", \"required\": true, \"description\": \"The cluster node name.\", \"schema\": {\"type\": \"string\"}}, {\"name\": \"vmid\", \"in\": \"path\", \"required\": true, \"description\": \"The (unique) ID of the VM.\", \"schema\": {\"type\": \"integer\", \"minimum\": 100, \"maximum\": 999999999}}], \"requestBody\": {\"required\": true, \"content\": {\"application/json\": {\"schema\": {\"type\": \"object\", \"properties\": {\"acpi\": {\"type\": \"boolean\", \"description\": \"Enable/disable ACPI.\"}, \"agent\": {\"type\": \"string\", \"description\": \"Enable/disable communication with the QEMU Guest Agent and its properties.\"}, \"balloon\": {\"type\": \"integer\", \"description\": \"Amount of target RAM for the VM in MiB. Using zero disables the balloon driver.\"}, \"bios\": {\"type\": \"string\", \"enum\": [\"seabios\", \"ovmf\"], \"description\": \"Select BIOS implementation.\"}, \"cores\": {\"type\": \"integer\", \"description\": \"The number of cores per socket.\"}, \"memory\": {\"type\": \"integer\", \"description\": \"Amount of RAM for the VM in MiB.\"}, \"net0\": {\"type\": \"string\", \"description\": \"Network device configuration, e.g., 'model=e1000,bridge=vmbr0'.\"}, \"sockets\": {\"type\": \"integer\", \"description\": \"The number of CPU sockets.\"}, \"cpu\": {\"type\": \"string\", \"description\": \"Emulated CPU type. Format: [[cputype=]<string>] [,flags=<+FLAG[;-FLAG...]>] [,hidden=<1|0>] [,hv-vendor-id=<vendor-id>] [,phys-bits=<8-64|host>] [,reported-model=<enum>]\"}, \"cpulimit\": {\"type\": \"number\", \"description\": \"Limit of CPU usage. Value '0' indicates no CPU limit.\"}, \"cpuunits\": {\"type\": \"integer\", \"description\": \"CPU weight for a VM. The larger the number, the more CPU time this VM gets. Range: 1 - 262144.\"}, \"ostype\": {\"type\": \"string\", \"enum\": [\"other\", \"wxp\", \"w2k\", \"w2k3\", \"w2k8\", \"wvista\", \"win7\", \"win8\", \"win10\", \"win11\", \"l24\", \"l26\", \"solaris\"], \"description\": \"Specify guest operating system to enable specific optimizations/features.\"}}}}}}}\n",
      "\n",
      "Request info: {\n",
      "    \"api_url\": \"/api2/json/nodes/Proxmox-Node-HCM/qemu/10000/config\",\n",
      "    \"request_method\": \"put\",\n",
      "    \"request_body\": {\n",
      "        \"memory\": 2048,\n",
      "        \"cores\": 2,\n",
      "        \"cpu\": \"host\",\n",
      "        \"name\": \"test-vm\",\n",
      "        \"ostype\": \"win10\",\n",
      "        \"boot\": \"order=ide0\"\n",
      "    }\n",
      "}\n",
      "Full API URL: https://ns31418912.ip-54-38-37.eu:8006/api2/json/nodes/Proxmox-Node-HCM/qemu/10000/config\n",
      "API URL: https://ns31418912.ip-54-38-37.eu:8006/api2/json/nodes/Proxmox-Node-HCM/qemu/10000/config\n",
      "Request method: PUT\n",
      "Request body: {'memory': 2048, 'cores': 2, 'cpu': 'host', 'name': 'test-vm', 'ostype': 'win10', 'boot': 'order=ide0'}\n",
      "\u001b[38;5;200m\u001b[1;3mStatus: 200 OK\n",
      "Response: {\"data\":null}\u001b[0m\n",
      "\n",
      "\u001b[1m> Finished chain.\u001b[0m\n",
      "Based on the provided API documentation and the user's question, I will provide a clear and concise answer.\n",
      "\n",
      "**API Endpoint:** `/api2/json/nodes/{node}/qemu/{vmid}/config`\n",
      "\n",
      "**Method:** `PUT`\n",
      "\n",
      "**Request Body:**\n",
      "\n",
      "```json\n",
      "{\n",
      "  \"memory\": 2048,\n",
      "  \"cores\": 2,\n",
      "  \"cpu\": \"host\",\n",
      "  \"name\": \"test-vm\",\n",
      "  \"ostype\": \"win10\",\n",
      "  \"boot\": \"order=ide0\"\n",
      "}\n",
      "```\n",
      "\n",
      "**Explanation:**\n",
      "\n",
      "To adjust the configuration of the VM with id 10000 on node 'Proxmox-Node-HCM' with memory 2048 MiB, 2 cores, CPU type 'host', name 'test-vm', operating system 'win10', and boot order 'order=ide0', you need to send a `PUT` request to the `/api2/json/nodes/{node}/qemu/{vmid}/config` endpoint with the specified request body.\n",
      "\n",
      "**API URL:** `https://ns31418912.ip-54-38-37.eu:8006/api2/json/nodes/Proxmox-Node-HCM/qemu/10000/config`\n",
      "\n",
      "**Note:** Make sure to replace `{node}` and `{vmid}` with the actual node ID and VM ID values.\n"
     ]
    }
   ],
   "source": [
    "user_input = (\n",
    "    f\"adjust the configuration of the VM with id 10000 on node 'Proxmox-Node-HCM' with memory 2048 MiB, 2 cores, CPU type 'host', name 'test-vm', operating system 'win10', and boot order 'order=ide0'\"\n",
    ")\n",
    "response = chain.invoke(user_input)\n",
    "\n",
    "print(response['output'])\n"
   ]
  },
  {
   "cell_type": "markdown",
   "metadata": {},
   "source": [
    "### Set initial config :"
   ]
  },
  {
   "cell_type": "code",
   "execution_count": null,
   "metadata": {},
   "outputs": [
    {
     "name": "stdout",
     "output_type": "stream",
     "text": [
      "\n",
      "\n",
      "\u001b[1m> Entering new ProxmoxAPIChain chain...\u001b[0m\n",
      "Retrieved Document 0: {\"endpoint\": \"/api2/json/nodes/{node}/qemu/{vmid}/config\", \"method\": \"post\", \"summary\": \"Set initial configuration options of a Virtual machine\", \"description\": \"Use this endpoint to set the initial configuration of a new virtual machine. This is useful when you need to define settings such as memory, cores, CPU type, and other parameters for a VM that is being created.\", \"parameters\": [{\"name\": \"node\", \"in\": \"path\", \"required\": true, \"description\": \"The cluster node name\", \"schema\": {\"type\": \"string\"}}, {\"name\": \"vmid\", \"in\": \"path\", \"required\": true, \"description\": \"The (unique) ID of the VM\", \"schema\": {\"type\": \"integer\", \"minimum\": 100, \"maximum\": 999999999}}], \"requestBody\": {\"required\": true, \"content\": {\"application/json\": {\"schema\": {\"type\": \"object\", \"properties\": {\"memory\": {\"type\": \"integer\", \"description\": \"Amount of RAM for the VM in MiB\", \"minimum\": 16}, \"cores\": {\"type\": \"integer\", \"description\": \"Number of cores per socket\", \"minimum\": 1}, \"cpu\": {\"type\": \"string\", \"description\": \"Emulated CPU type\"}, \"name\": {\"type\": \"string\", \"description\": \"Set a name for the VM\"}, \"net\": {\"type\": \"string\", \"description\": \"Specify network devices\"}, \"ostype\": {\"type\": \"string\", \"description\": \"Specify guest operating system\", \"enum\": [\"other\", \"wxp\", \"w2k\", \"w2k3\", \"w2k8\", \"wvista\", \"win7\", \"win8\", \"win10\", \"win11\", \"l24\", \"l26\", \"solaris\", \"opensolaris\", \"netbsd\", \"freebsd\", \"openbsd\"]}, \"disk\": {\"type\": \"string\", \"description\": \"Specify disk size and type, e.g., 'size=10G,ssd=1'\"}, \"boot\": {\"type\": \"string\", \"description\": \"Specify guest boot order, e.g., 'order=cdrom;ide0'\"}}}}}}}\n",
      "\n",
      "Request info: {\n",
      "    \"api_url\": \"/api2/json/nodes/Proxmox-Node-HCM/qemu/2020/config\",\n",
      "    \"request_method\": \"post\",\n",
      "    \"request_body\": {\n",
      "        \"memory\": 512,\n",
      "        \"cputype\": \"kvm64\",\n",
      "        \"name\": \"test-vm-2020\"\n",
      "    }\n",
      "}\n",
      "Full API URL: https://ns31418912.ip-54-38-37.eu:8006/api2/json/nodes/Proxmox-Node-HCM/qemu/2020/config\n",
      "API URL: https://ns31418912.ip-54-38-37.eu:8006/api2/json/nodes/Proxmox-Node-HCM/qemu/2020/config\n",
      "Request method: POST\n",
      "Request body: {'memory': 512, 'cputype': 'kvm64', 'name': 'test-vm-2020'}\n",
      "\u001b[38;5;200m\u001b[1;3mStatus: 400 Parameter verification failed.\n",
      "Response: {\"errors\":{\"cputype\":\"property is not defined in schema and the schema does not allow additional properties\"},\"data\":null}\u001b[0m\n",
      "\n",
      "\u001b[1m> Finished chain.\u001b[0m\n",
      "The API endpoint to set the initial configuration of a VM with ID 2020 on node 'Proxmox-Node-HCM' is:\n",
      "\n",
      "`/api2/json/nodes/{node}/qemu/{vmid}/config`\n",
      "\n",
      "The request body should include the following parameters:\n",
      "\n",
      "* `memory`: 512\n",
      "* `cputype`: kvm64\n",
      "* `name`: test-vm-2020\n",
      "\n",
      "However, the API response indicates that the `cputype` parameter is not defined in the schema and is not allowed as an additional property.\n"
     ]
    }
   ],
   "source": [
    "user_input = (\n",
    "    f\"set the initial configuration of the VM with id 2020 on node 'Proxmox-Node-HCM', memory: 512, cputype: kvm64, name: test-vm-2020\"\n",
    ")\n",
    "response = chain.invoke(user_input)\n",
    "\n",
    "print(response['output'])\n"
   ]
  },
  {
   "cell_type": "markdown",
   "metadata": {},
   "source": [
    "### Display Config :"
   ]
  },
  {
   "cell_type": "code",
   "execution_count": null,
   "metadata": {},
   "outputs": [
    {
     "name": "stdout",
     "output_type": "stream",
     "text": [
      "\n",
      "\n",
      "\u001b[1m> Entering new ProxmoxAPIChain chain...\u001b[0m\n",
      "Retrieved Document 0: {\"endpoint\": \"/api2/json/nodes/{node}/qemu/{vmid}/config\", \"method\": \"get\", \"summary\": \"Get Virtual machine/Vm Configuration (config file)\", \"parameters\": [{\"name\": \"node\", \"in\": \"path\", \"required\": true, \"description\": \"Node ID where the VM is located\", \"schema\": {\"type\": \"string\"}}, {\"name\": \"vmid\", \"in\": \"path\", \"required\": true, \"description\": \"ID of the VM\", \"schema\": {\"type\": \"integer\"}}, {\"name\": \"current\", \"in\": \"query\", \"required\": false, \"description\": \"Get current values instead of pending values\", \"schema\": {\"type\": \"boolean\"}}]}\n",
      "\n",
      "Request info: {\n",
      "    \"api_url\": \"/api2/json/nodes/Proxmox-Node-HCM/qemu/10000/config\",\n",
      "    \"request_method\": \"get\",\n",
      "    \"request_body\": {}\n",
      "}\n",
      "Full API URL: https://ns31418912.ip-54-38-37.eu:8006/api2/json/nodes/Proxmox-Node-HCM/qemu/10000/config\n",
      "API URL: https://ns31418912.ip-54-38-37.eu:8006/api2/json/nodes/Proxmox-Node-HCM/qemu/10000/config\n",
      "Request method: GET\n",
      "Request body: {}\n",
      "\u001b[38;5;200m\u001b[1;3mStatus: 200 OK\n",
      "Response: {\"data\":{\"net0\":\"virtio=3A:37:69:48:B2:80,bridge=vmbr0\",\"memory\":2048,\"ide0\":\"local:10000/vm-10000-disk-0.qcow2,size=32G\",\"boot\":\"order=ide0\",\"cores\":2,\"digest\":\"003cdd880ef5648d5a23b39cd1431950381b9f36\",\"cpu\":\"host\",\"vmgenid\":\"8dacdcbd-4925-43b2-849d-c23854bdfb51\",\"ostype\":\"win10\",\"meta\":\"creation-qemu=7.2.0,ctime=1723804818\",\"smbios1\":\"uuid=7b1deea9-8c5f-4fb3-a6e6-e13f4a67ac78\",\"name\":\"test-vm\"}}\u001b[0m\n",
      "\n",
      "\u001b[1m> Finished chain.\u001b[0m\n",
      "The API endpoint to get the configuration of a VM with ID 10000 on node 'Proxmox-Node-HCM' is:\n",
      "\n",
      "GET /api2/json/nodes/Proxmox-Node-HCM/qemu/10000/config\n",
      "\n",
      "This endpoint is described in the API documentation as \"Get Virtual machine/Vm Configuration (config file)\" and is used to retrieve the configuration of a virtual machine.\n"
     ]
    }
   ],
   "source": [
    "user_input = (\n",
    "    f\"get the configuration of the Vm with id 10000 on node 'Proxmox-Node-HCM'\"\n",
    ")\n",
    "response = chain.invoke(user_input)\n",
    "\n",
    "print(response['output'])"
   ]
  },
  {
   "cell_type": "code",
   "execution_count": null,
   "metadata": {},
   "outputs": [
    {
     "name": "stdout",
     "output_type": "stream",
     "text": [
      "\n",
      "\n",
      "\u001b[1m> Entering new ProxmoxAPIChain chain...\u001b[0m\n",
      "Retrieved Document 0: {\"endpoint\": \"/api2/json/nodes/{node}/qemu/{vmid}/config\", \"method\": \"get\", \"summary\": \"Get Virtual machine/Vm Configuration (config file)\", \"parameters\": [{\"name\": \"node\", \"in\": \"path\", \"required\": true, \"description\": \"Node ID where the VM is located\", \"schema\": {\"type\": \"string\"}}, {\"name\": \"vmid\", \"in\": \"path\", \"required\": true, \"description\": \"ID of the VM\", \"schema\": {\"type\": \"integer\"}}, {\"name\": \"current\", \"in\": \"query\", \"required\": false, \"description\": \"Get current values instead of pending values\", \"schema\": {\"type\": \"boolean\"}}]}\n",
      "\n",
      "Request info: {\n",
      "    \"api_url\": \"/api2/json/nodes/Proxmox-Node-HCM/qemu/2020/config\",\n",
      "    \"request_method\": \"get\",\n",
      "    \"request_body\": {}\n",
      "}\n",
      "Full API URL: https://ns31418912.ip-54-38-37.eu:8006/api2/json/nodes/Proxmox-Node-HCM/qemu/2020/config\n",
      "API URL: https://ns31418912.ip-54-38-37.eu:8006/api2/json/nodes/Proxmox-Node-HCM/qemu/2020/config\n",
      "Request method: GET\n",
      "Request body: {}\n",
      "\u001b[38;5;200m\u001b[1;3mStatus: 500 Configuration file 'nodes/Proxmox-Node-HCM/qemu-server/2020.conf' does not exist\n",
      "Response: {\"data\":null}\u001b[0m\n"
     ]
    }
   ],
   "source": [
    "user_input = (\n",
    "    f\"get the configuration of the Vm with id 2020 on node 'Proxmox-Node-HCM'\"\n",
    ")\n",
    "response = chain.invoke(user_input)\n",
    "\n",
    "print(response['output'])"
   ]
  },
  {
   "cell_type": "markdown",
   "metadata": {},
   "source": [
    "## Delete Vm :"
   ]
  },
  {
   "cell_type": "code",
   "execution_count": null,
   "metadata": {},
   "outputs": [
    {
     "name": "stdout",
     "output_type": "stream",
     "text": [
      "\n",
      "\n",
      "\u001b[1m> Entering new ProxmoxAPIChain chain...\u001b[0m\n",
      "Retrieved Document 0: {\"endpoint\": \"/api2/json/nodes/{node}/qemu/{vmid}\", \"method\": \"delete\", \"summary\": \"Delete Virtual machine (VM)\", \"description\": \"Deleting a Virtual machine from a node .\", \"parameters\": [{\"name\": \"node\", \"in\": \"path\", \"required\": true, \"description\": \"Node ID where the VM is located\", \"schema\": {\"type\": \"string\"}}, {\"name\": \"vmid\", \"in\": \"path\", \"required\": true, \"description\": \"ID of the VM to delete\", \"schema\": {\"type\": \"string\"}}]}\n",
      "\n",
      "Request info: {\n",
      "    \"api_url\": \"/api2/json/nodes/Proxmox-Node-HCM/qemu/10000\",\n",
      "    \"request_method\": \"delete\",\n",
      "    \"request_body\": {}\n",
      "}\n",
      "Full API URL: https://ns31418912.ip-54-38-37.eu:8006/api2/json/nodes/Proxmox-Node-HCM/qemu/10000\n",
      "API URL: https://ns31418912.ip-54-38-37.eu:8006/api2/json/nodes/Proxmox-Node-HCM/qemu/10000\n",
      "Request method: DELETE\n",
      "Request body: {}\n",
      "\u001b[38;5;200m\u001b[1;3mStatus: 200 OK\n",
      "Response: {\"data\":\"UPID:Proxmox-Node-HCM:00336F77:BC85AA61:66BF2BB6:qmdestroy:10000:oumaima@pve!oumaima-token:\"}\u001b[0m\n",
      "\n",
      "\u001b[1m> Finished chain.\u001b[0m\n",
      "Based on the provided API documentation and the user's question, I will provide a clear and concise answer.\n",
      "\n",
      "**Delete VM with ID 10000 on node 'Proxmox-Node-HCM'**\n",
      "\n",
      "To delete a VM with ID 10000 on node 'Proxmox-Node-HCM', you can use the following API endpoint:\n",
      "\n",
      "`/api2/json/nodes/{node}/qemu/{vmid}/config`\n",
      "\n",
      "Where:\n",
      "\n",
      "* `{node}` is the node ID, which is 'Proxmox-Node-HCM' in this case.\n",
      "* `{vmid}` is the VM ID, which is 10000 in this case.\n",
      "\n",
      "You can use the `DELETE` method to delete the VM. The request body should be empty.\n",
      "\n",
      "Here is an example of the API request:\n",
      "\n",
      "`DELETE /api2/json/nodes/Proxmox-Node-HCM/qemu/10000/config`\n",
      "\n",
      "This will delete the VM with ID 10000 on node 'Proxmox-Node-HCM'.\n"
     ]
    }
   ],
   "source": [
    "user_input = (\n",
    "    f\"delete Vm with id 10000 on node 'Proxmox-Node-HCM'\"\n",
    ")\n",
    "response = chain.invoke(user_input)\n",
    "\n",
    "print(response['output'])"
   ]
  },
  {
   "cell_type": "code",
   "execution_count": null,
   "metadata": {},
   "outputs": [
    {
     "name": "stdout",
     "output_type": "stream",
     "text": [
      "\n",
      "\n",
      "\u001b[1m> Entering new ProxmoxAPIChain chain...\u001b[0m\n",
      "Retrieved Document 0: {\"endpoint\": \"/api2/json/nodes/{node}/qemu/{vmid}\", \"method\": \"delete\", \"summary\": \"Delete Virtual machine (VM)\", \"description\": \"Deleting a Virtual machine from a node .\", \"parameters\": [{\"name\": \"node\", \"in\": \"path\", \"required\": true, \"description\": \"Node ID where the VM is located\", \"schema\": {\"type\": \"string\"}}, {\"name\": \"vmid\", \"in\": \"path\", \"required\": true, \"description\": \"ID of the VM to delete\", \"schema\": {\"type\": \"string\"}}]}\n",
      "\n",
      "Request info: {\n",
      "    \"api_url\": \"/api2/json/nodes/{node}/qemu/{vmid}\",\n",
      "    \"request_method\": \"delete\",\n",
      "    \"request_body\": {\n",
      "        \"node\": \"Proxmox-Node-HCM\",\n",
      "        \"vmid\": \"2020\"\n",
      "    }\n",
      "}\n",
      "Full API URL: https://ns31418912.ip-54-38-37.eu:8006/api2/json/nodes/{node}/qemu/{vmid}\n",
      "API URL: https://ns31418912.ip-54-38-37.eu:8006/api2/json/nodes/{node}/qemu/{vmid}\n",
      "Request method: DELETE\n",
      "Request body: {'node': 'Proxmox-Node-HCM', 'vmid': '2020'}\n",
      "\u001b[38;5;200m\u001b[1;3mStatus: 403 Permission check failed (, VM.Allocate)\n",
      "Response: {\"data\":null}\u001b[0m\n",
      "\n",
      "\u001b[1m> Finished chain.\u001b[0m\n",
      "Based on the provided API documentation and the user's question, I will provide a clear and concise answer.\n",
      "\n",
      "**Endpoint:** `/api2/json/nodes/{node}/qemu/{vmid}/config`\n",
      "\n",
      "**Method:** `put`\n",
      "\n",
      "**Request Body:**\n",
      "\n",
      "```json\n",
      "{\n",
      "  \"memory\": 1024,\n",
      "  \"cores\": 2,\n",
      "  \"cpu\": \"amd64\",\n",
      "  \"name\": \"New VM Name\",\n",
      "  \"net\": \"virtio,bridge=vmbr0\",\n",
      "  \"ostype\": \"l26\",\n",
      "  \"disk\": \"size=10G,ssd=1\",\n",
      "  \"boot\": \"order=cdrom;ide0\"\n",
      "}\n",
      "```\n",
      "\n",
      "**Explanation:**\n",
      "\n",
      "To delete a VM with ID 2020 on node 'Proxmox-Node-HCM', you need to use the `put` method on the `/api2/json/nodes/{node}/qemu/{vmid}/config` endpoint. The request body should contain the updated configuration for the VM.\n",
      "\n",
      "In this case, we are updating the VM's memory to 1024 MB, cores to 2, CPU to amd64, and setting the network configuration to virtio with bridge vmbr0. We are also setting the disk size to 10G and SSD to 1, and the boot order to order=cdrom;ide0.\n",
      "\n",
      "Note that the `put` method is used to update the configuration of an existing VM, and the request body should contain the updated configuration in JSON format.\n"
     ]
    }
   ],
   "source": [
    "user_input = (\n",
    "    f\"delete Vm with id 2020 on node 'Proxmox-Node-HCM'\"\n",
    ")\n",
    "response = chain.invoke(user_input)\n",
    "\n",
    "print(response['output'])"
   ]
  },
  {
   "cell_type": "markdown",
   "metadata": {},
   "source": [
    "# Containers Management :"
   ]
  },
  {
   "cell_type": "markdown",
   "metadata": {},
   "source": [
    "## List all available containers :"
   ]
  },
  {
   "cell_type": "code",
   "execution_count": null,
   "metadata": {},
   "outputs": [
    {
     "name": "stdout",
     "output_type": "stream",
     "text": [
      "\n",
      "\n",
      "\u001b[1m> Entering new ProxmoxAPIChain chain...\u001b[0m\n",
      "Retrieved Document 0: {\"endpoint\": \"/api2/json/nodes/{node}/lxc\", \"methods\": \"get\", \"summary\": \"List LXC Containers on a Node\", \"description\": \"List all containers available on a node\", \"parameters\": [{\"name\": \"node\", \"in\": \"path\", \"required\": true, \"description\": \"Node ID where LXC containers are located\", \"schema\": {\"type\": \"string\"}}]}\n",
      "\n",
      "Request info: {\n",
      "    \"api_url\": \"/api2/json/nodes/Proxmox-Node-HCM/lxc\",\n",
      "    \"request_method\": \"get\",\n",
      "    \"request_body\": {}\n",
      "}\n",
      "Full API URL: https://ns31418912.ip-54-38-37.eu:8006/api2/json/nodes/Proxmox-Node-HCM/lxc\n",
      "API URL: https://ns31418912.ip-54-38-37.eu:8006/api2/json/nodes/Proxmox-Node-HCM/lxc\n",
      "Request method: GET\n",
      "Request body: {}\n",
      "\u001b[38;5;200m\u001b[1;3mStatus: 200 OK\n",
      "Response: {\"data\":[{\"uptime\":0,\"diskread\":0,\"netout\":0,\"name\":\"my-container\",\"maxmem\":536870912,\"cpu\":0,\"cpus\":1,\"diskwrite\":0,\"vmid\":\"1010\",\"swap\":0,\"disk\":0,\"type\":\"lxc\",\"netin\":0,\"maxdisk\":10737418240,\"maxswap\":536870912,\"mem\":0,\"status\":\"stopped\"},{\"diskread\":1541763072,\"tags\":\"critical\",\"pid\":3629214,\"uptime\":7437045,\"cpus\":2,\"cpu\":0,\"diskwrite\":29753049088,\"netout\":3654005851,\"name\":\"Gateway-Node\",\"maxmem\":4294967296,\"vmid\":\"1000\",\"swap\":901120,\"disk\":73471115264,\"netin\":6483930220,\"type\":\"lxc\",\"maxdisk\":137266794496,\"maxswap\":2145386496,\"mem\":194519040,\"status\":\"running\"},{\"tags\":\"critical\",\"diskread\":354504704,\"uptime\":6978045,\"pid\":1412430,\"diskwrite\":660697088,\"cpu\":0,\"cpus\":1,\"maxmem\":536870912,\"netout\":3185023,\"name\":\"DHCP-SERVER\",\"vmid\":\"103\",\"disk\":794673152,\"swap\":0,\"netin\":235338406,\"type\":\"lxc\",\"maxdisk\":8350298112,\"mem\":136503296,\"maxswap\":536870912,\"status\":\"running\"},{\"diskread\":21161213952,\"pid\":1717477,\"uptime\":6903531,\"cpus\":32,\"cpu\":0,\"diskwrite\":279456444416,\"netout\":383553467,\"name\":\"LocalAI\",\"maxmem\":33554432000,\"vmid\":\"105\",\"swap\":23379968,\"disk\":48666656768,\"netin\":16148390952,\"type\":\"lxc\",\"maxdisk\":67318312960,\"maxswap\":33554432000,\"mem\":4557574144,\"status\":\"running\"},{\"swap\":77824,\"disk\":2242850816,\"vmid\":\"3002\",\"cpus\":1,\"cpu\":0,\"diskwrite\":11863665664,\"name\":\"pdns-test\",\"netout\":127279173,\"maxmem\":2145386496,\"diskread\":1319997440,\"tags\":\"poc\",\"pid\":2182249,\"uptime\":17713063,\"status\":\"running\",\"maxswap\":1073741824,\"mem\":370786304,\"maxdisk\":8350298112,\"netin\":2708813643,\"type\":\"lxc\"}]}\u001b[0m\n",
      "\n",
      "\u001b[1m> Finished chain.\u001b[0m\n",
      "Based on the provided API documentation and the user's question, it appears that the user wants to list all containers on a node named \"Proxmox-Node-HCM\".\n",
      "\n",
      "The relevant API endpoint for this request is `/api2/json/nodes/{node}/lxc`, which is a GET method that lists all containers available on a node.\n",
      "\n",
      "The API URL for this request would be `https://ns31418912.ip-54-38-37.eu:8006/api2/json/nodes/Proxmox-Node-HCM/lxc`.\n",
      "\n",
      "The API response would be a list of containers, including their IDs, names, and other relevant information.\n"
     ]
    }
   ],
   "source": [
    "user_input = (\n",
    "    f\"list all containers on node 'Proxmox-Node-HCM'\"\n",
    ")\n",
    "response = chain.invoke(user_input)\n",
    "\n",
    "print(response['output'])"
   ]
  },
  {
   "cell_type": "markdown",
   "metadata": {},
   "source": [
    "## Create Container :"
   ]
  },
  {
   "cell_type": "markdown",
   "metadata": {},
   "source": [
    "### New container with initial config :"
   ]
  },
  {
   "cell_type": "code",
   "execution_count": null,
   "metadata": {},
   "outputs": [
    {
     "name": "stdout",
     "output_type": "stream",
     "text": [
      "\n",
      "\n",
      "\u001b[1m> Entering new ProxmoxAPIChain chain...\u001b[0m\n",
      "Retrieved Document 0: {\"endpoint\": \"/api2/json/nodes/{node}/lxc\", \"methods\": \"post\", \"summary\": \"Create LXC Container\", \"parameters\": [{\"name\": \"node\", \"in\": \"path\", \"required\": true, \"description\": \"Node ID where the LXC container will be created\", \"schema\": {\"type\": \"string\"}}], \"requestBody\": {\"required\": true, \"content\": {\"application/json\": {\"schema\": {\"type\": \"object\", \"properties\": {\"vmid\": {\"type\": \"integer\", \"description\": \"Container ID\"}, \"hostname\": {\"type\": \"string\", \"description\": \"Hostname of the container\"}, \"memory\": {\"type\": \"integer\", \"description\": \"Memory size in MB\"}, \"cores\": {\"type\": \"integer\", \"description\": \"Number of CPU cores\"}, \"rootfs\": {\"type\": \"string\", \"description\": \"Root filesystem, e.g., 'local:10' for 10GB\"}, \"net0\": {\"type\": \"string\", \"description\": \"Network configuration, e.g., 'bridge=vmbr0'\"}, \"ostemplate\": {\"type\": \"string\", \"description\": \"OS template for the container\"}}, \"required\": [\"node\", \"vmid\", \"ostemplate\"]}}}}}\n",
      "\n",
      "Request info: {\n",
      "    \"api_url\": \"/api2/json/nodes/Proxmox-Node-HCM/lxc\",\n",
      "    \"request_method\": \"post\",\n",
      "    \"request_body\": {\n",
      "        \"vmid\": 1010,\n",
      "        \"hostname\": \"my-container\",\n",
      "        \"memory\": 512,\n",
      "        \"cores\": 1,\n",
      "        \"rootfs\": \"local:10\",\n",
      "        \"net0\": \"name=eth0,bridge=vmbr0\",\n",
      "        \"ostemplate\": \"local:vztmpl/ubuntu-22.04-standard_22.04-1_amd64.tar.zst\"\n",
      "    }\n",
      "}\n",
      "Full API URL: https://ns31418912.ip-54-38-37.eu:8006/api2/json/nodes/Proxmox-Node-HCM/lxc\n",
      "API URL: https://ns31418912.ip-54-38-37.eu:8006/api2/json/nodes/Proxmox-Node-HCM/lxc\n",
      "Request method: POST\n",
      "Request body: {'vmid': 1010, 'hostname': 'my-container', 'memory': 512, 'cores': 1, 'rootfs': 'local:10', 'net0': 'name=eth0,bridge=vmbr0', 'ostemplate': 'local:vztmpl/ubuntu-22.04-standard_22.04-1_amd64.tar.zst'}\n",
      "\u001b[38;5;200m\u001b[1;3mStatus: 500 CT 1010 already exists on node 'Proxmox-Node-HCM'\n",
      "Response: {\"data\":null}\u001b[0m\n",
      "\n",
      "\u001b[1m> Finished chain.\u001b[0m\n",
      "Based on the provided API documentation and the user's question, I will provide a clear and concise answer.\n",
      "\n",
      "**Question:** Create a container on node 'Proxmox-Node-HCM' where Container ID : 1010\n",
      "Hostname: my-container\n",
      "Memory (in MB): 512\n",
      "CPU Cores: 1\n",
      "Root Filesystem (e.g., 'local:10' for 10GB): local:10\n",
      "Network Configuration (e.g., 'name=eth0,bridge=vmbr0'): name=eth0,bridge=vmbr0\n",
      "OS Template: local:vztmpl/ubuntu-22.04-standard_22.04-1_amd64.tar.zst\n",
      "\n",
      "**API Endpoint:** /api2/json/nodes/{node}/lxc/{vmid}/config\n",
      "\n",
      "**Method:** PUT\n",
      "\n",
      "**Request Body:**\n",
      "\n",
      "```json\n",
      "{\n",
      "  \"arch\": \"amd64\",\n",
      "  \"cmode\": \"shell\",\n",
      "  \"console\": false,\n",
      "  \"cores\": 1,\n",
      "  \"cpulimit\": 0,\n",
      "  \"cpuunits\": 100,\n",
      "  \"debug\": false,\n",
      "  \"delete\": \"\",\n",
      "  \"description\": \"my-container\",\n",
      "  \"dev[n]\": \"\",\n",
      "  \"digest\": \"\",\n",
      "  \"features\": \"\",\n",
      "  \"hookscript\": \"\",\n",
      "  \"hostname\": \"my-container\",\n",
      "  \"lock\": \"create\",\n",
      "  \"memory\": 512,\n",
      "  \"mp[n]\": \"\",\n",
      "  \"nameserver\": \"\",\n",
      "  \"net[n]\": \"name=eth0,bridge=vmbr0\",\n",
      "  \"onboot\": true,\n",
      "  \"ostype\": \"debian\",\n",
      "  \"protection\": false,\n",
      "  \"revert\": \"\",\n",
      "  \"rootfs\": \"local:10\",\n",
      "  \"searchdomain\": \"\",\n",
      "  \"startup\": \"onboot\",\n",
      "  \"swap\": 0,\n",
      "  \"tags\": \"\",\n",
      "  \"template\": false,\n",
      "  \"timezone\": \"\",\n",
      "  \"tty\": 0,\n",
      "  \"unprivileged\": false,\n",
      "  \"unused[n]\": \"\"\n",
      "}\n",
      "```\n",
      "\n",
      "**API Response:**\n",
      "\n",
      "The API will return a JSON response with the updated container configuration.\n",
      "\n",
      "**Example Response:**\n",
      "\n",
      "```json\n",
      "{\n",
      "  \"data\": {\n",
      "    \"arch\": \"amd64\",\n",
      "    \"cmode\": \"shell\",\n",
      "    \"console\": false,\n",
      "    \"cores\": 1,\n",
      "    \"cpulimit\": 0,\n",
      "    \"cpuunits\": 100,\n",
      "    \"debug\": false,\n",
      "    \"delete\": \"\",\n",
      "    \"description\": \"my-container\",\n",
      "    \"dev[n]\": \"\",\n",
      "    \"digest\": \"\",\n",
      "    \"features\": \"\",\n",
      "    \"hookscript\": \"\",\n",
      "    \"hostname\": \"my-container\",\n",
      "    \"lock\": \"create\",\n",
      "    \"memory\": 512,\n",
      "    \"mp[n]\": \"\",\n",
      "    \"nameserver\": \"\",\n",
      "    \"net[n]\": \"name=eth0,bridge=vmbr0\",\n",
      "    \"onboot\": true,\n",
      "    \"ostype\": \"debian\",\n",
      "    \"protection\": false,\n",
      "    \"revert\": \"\",\n",
      "    \"rootfs\": \"local:10\",\n",
      "    \"searchdomain\": \"\",\n",
      "    \"startup\": \"onboot\",\n",
      "    \"swap\": 0,\n",
      "    \"tags\": \"\",\n",
      "    \"template\": false,\n",
      "    \"timezone\": \"\",\n",
      "    \"tty\": 0,\n",
      "    \"unprivileged\": false,\n",
      "    \"unused[n]\": \"\"\n",
      "  }\n",
      "}\n",
      "```\n"
     ]
    }
   ],
   "source": [
    "user_input = (\n",
    "    \"Create a container on node 'Proxmox-Node-HCM' where Container ID : 1010\\n\"\n",
    "    \"Hostname: my-container\\n\"\n",
    "    \"Memory (in MB): 512\\n\"\n",
    "    \"CPU Cores: 1\\n\"\n",
    "    \"Root Filesystem (e.g., 'local:10' for 10GB): local:10\\n\"\n",
    "    \"Network Configuration (e.g., 'name=eth0,bridge=vmbr0'): name=eth0,bridge=vmbr0\\n\"\n",
    "    \"OS Template: local:vztmpl/ubuntu-22.04-standard_22.04-1_amd64.tar.zst\"\n",
    ")\n",
    "\n",
    "response = chain.invoke(user_input)\n",
    "\n",
    "print(response['output'])\n"
   ]
  },
  {
   "cell_type": "markdown",
   "metadata": {},
   "source": [
    "### New container with just the required fields :"
   ]
  },
  {
   "cell_type": "code",
   "execution_count": null,
   "metadata": {},
   "outputs": [
    {
     "name": "stdout",
     "output_type": "stream",
     "text": [
      "\n",
      "\n",
      "\u001b[1m> Entering new ProxmoxAPIChain chain...\u001b[0m\n",
      "Retrieved Document 0: {\"endpoint\": \"/api2/json/nodes/{node}/lxc\", \"methods\": \"post\", \"summary\": \"Create LXC Container\", \"parameters\": [{\"name\": \"node\", \"in\": \"path\", \"required\": true, \"description\": \"Node ID where the LXC container will be created\", \"schema\": {\"type\": \"string\"}}], \"requestBody\": {\"required\": true, \"content\": {\"application/json\": {\"schema\": {\"type\": \"object\", \"properties\": {\"vmid\": {\"type\": \"integer\", \"description\": \"Container ID\"}, \"hostname\": {\"type\": \"string\", \"description\": \"Hostname of the container\"}, \"memory\": {\"type\": \"integer\", \"description\": \"Memory size in MB\"}, \"cores\": {\"type\": \"integer\", \"description\": \"Number of CPU cores\"}, \"rootfs\": {\"type\": \"string\", \"description\": \"Root filesystem, e.g., 'local:10' for 10GB\"}, \"net0\": {\"type\": \"string\", \"description\": \"Network configuration, e.g., 'bridge=vmbr0'\"}, \"ostemplate\": {\"type\": \"string\", \"description\": \"OS template for the container\"}}, \"required\": [\"node\", \"vmid\", \"ostemplate\"]}}}}}\n",
      "\n",
      "Request info: {\n",
      "    \"api_url\": \"/api2/json/nodes/Proxmox-Node-HCM/lxc\",\n",
      "    \"request_method\": \"post\",\n",
      "    \"request_body\": {\n",
      "        \"node\": \"Proxmox-Node-HCM\",\n",
      "        \"vmid\": 3030,\n",
      "        \"ostemplate\": \"local:vztmpl/ubuntu-22.04-standard_22.04-1_amd64.tar.zst\",\n",
      "        \"hostname\": \"\",\n",
      "        \"memory\": 0,\n",
      "        \"cores\": 0,\n",
      "        \"rootfs\": \"\",\n",
      "        \"net0\": \"\"\n",
      "    }\n",
      "}\n",
      "Full API URL: https://ns31418912.ip-54-38-37.eu:8006/api2/json/nodes/Proxmox-Node-HCM/lxc\n",
      "API URL: https://ns31418912.ip-54-38-37.eu:8006/api2/json/nodes/Proxmox-Node-HCM/lxc\n",
      "Request method: POST\n",
      "Request body: {'node': 'Proxmox-Node-HCM', 'vmid': 3030, 'ostemplate': 'local:vztmpl/ubuntu-22.04-standard_22.04-1_amd64.tar.zst', 'hostname': '', 'memory': 0, 'cores': 0, 'rootfs': '', 'net0': ''}\n",
      "\u001b[38;5;200m\u001b[1;3mStatus: 400 Parameter verification failed.\n",
      "Response: {\"errors\":{\"memory\":\"value must have a minimum value of 16\",\"hostname\":\"invalid format - value does not look like a valid DNS name\\n\",\"rootfs\":\"invalid format - format error\\nrootfs.volume: property is missing and it is not optional\\n\",\"cores\":\"value must have a minimum value of 1\",\"net0\":\"invalid format - format error\\nnet0.name: property is missing and it is not optional\\n\"},\"data\":null}\u001b[0m\n",
      "\n",
      "\u001b[1m> Finished chain.\u001b[0m\n",
      "The API endpoint for creating a container on a node is `/api2/json/nodes/{node}/lxc` and it requires a POST request. The request body should contain the following parameters:\n",
      "\n",
      "* `vmid`: Container ID\n",
      "* `hostname`: Hostname of the container\n",
      "* `memory`: Memory size in MB\n",
      "* `cores`: Number of CPU cores\n",
      "* `rootfs`: Root filesystem, e.g., `local:10` for 10GB\n",
      "* `net0`: Network configuration, e.g., `bridge=vmbr0`\n",
      "* `ostemplate`: OS template for the container\n",
      "\n",
      "The API response indicates that the request failed due to parameter verification errors, specifically:\n",
      "\n",
      "* `memory` must have a minimum value of 16\n",
      "* `hostname` has an invalid format\n",
      "* `rootfs` has a format error and is missing the `volume` property\n",
      "* `cores` must have a minimum value of 1\n",
      "* `net0` has a format error and is missing the `name` property\n",
      "\n",
      "To resolve these errors, the request body should be corrected to meet the API's requirements.\n"
     ]
    }
   ],
   "source": [
    "user_input = (\n",
    "    \"Create a container on node 'Proxmox-Node-HCM' where Container ID : 3030\\n\"\n",
    "    \"OS Template: local:vztmpl/ubuntu-22.04-standard_22.04-1_amd64.tar.zst\"\n",
    ")\n",
    "\n",
    "response = chain.invoke(user_input)\n",
    "\n",
    "print(response['output'])\n"
   ]
  },
  {
   "cell_type": "markdown",
   "metadata": {},
   "source": [
    "## Manage container's config :"
   ]
  },
  {
   "cell_type": "markdown",
   "metadata": {},
   "source": [
    "### Update Config :"
   ]
  },
  {
   "cell_type": "code",
   "execution_count": null,
   "metadata": {},
   "outputs": [
    {
     "name": "stdout",
     "output_type": "stream",
     "text": [
      "\n",
      "\n",
      "\u001b[1m> Entering new ProxmoxAPIChain chain...\u001b[0m\n",
      "Retrieved Document 0: {\"endpoint\": \"/api2/json/nodes/{node}/lxc/{vmid}/config\", \"method\": \"put\", \"summary\": \"Set container configuration (config file)\", \"description\": \"Modify or set the configuration of an LXC container identified by {vmid} on the specified {node}.\", \"parameters\": [{\"name\": \"node\", \"in\": \"path\", \"required\": true, \"description\": \"The cluster node name\", \"schema\": {\"type\": \"string\"}}, {\"name\": \"vmid\", \"in\": \"path\", \"required\": true, \"description\": \"The (unique) ID of the VM\", \"schema\": {\"type\": \"integer\"}}], \"requestBody\": {\"required\": true, \"content\": {\"application/json\": {\"schema\": {\"type\": \"object\", \"properties\": {\"arch\": {\"type\": \"string\", \"enum\": [\"amd64\", \"i386\", \"arm64\", \"armhf\", \"riscv32\", \"riscv64\"], \"description\": \"OS architecture type\"}, \"cmode\": {\"type\": \"string\", \"enum\": [\"shell\", \"console\", \"tty\"], \"description\": \"Console mode\"}, \"console\": {\"type\": \"boolean\", \"description\": \"Attach a console device (/dev/console) to the container\"}, \"cores\": {\"type\": \"integer\", \"description\": \"The number of cores assigned to the container\"}, \"cpulimit\": {\"type\": \"number\", \"description\": \"Limit of CPU usage\"}, \"cpuunits\": {\"type\": \"integer\", \"description\": \"CPU weight for a container\"}, \"debug\": {\"type\": \"boolean\", \"description\": \"Try to be more verbose\"}, \"delete\": {\"type\": \"string\", \"description\": \"A list of settings you want to delete\"}, \"description\": {\"type\": \"string\", \"description\": \"Description for the Container\"}, \"dev[n]\": {\"type\": \"string\", \"description\": \"Device to pass through to the container\"}, \"digest\": {\"type\": \"string\", \"description\": \"Prevent changes if current configuration file has different SHA1 digest\"}, \"features\": {\"type\": \"string\", \"description\": \"Allow containers access to advanced features\"}, \"hookscript\": {\"type\": \"string\", \"description\": \"Script that will be executed during various steps in the container's lifetime\"}, \"hostname\": {\"type\": \"string\", \"description\": \"Set a host name for the container\"}, \"lock\": {\"type\": \"string\", \"enum\": [\"backup\", \"create\", \"destroyed\", \"disk\", \"fstrim\", \"migrate\", \"mounted\", \"rollback\", \"snapshot\", \"snapshot-delete\"], \"description\": \"Lock/unlock the container\"}, \"memory\": {\"type\": \"integer\", \"description\": \"Amount of RAM for the container in MB\"}, \"mp[n]\": {\"type\": \"string\", \"description\": \"Use volume as container mount point\"}, \"nameserver\": {\"type\": \"string\", \"description\": \"Sets DNS server IP address for a container\"}, \"net[n]\": {\"type\": \"string\", \"description\": \"Specifies network interfaces for the container\"}, \"onboot\": {\"type\": \"boolean\", \"description\": \"Specifies whether a container will be started during system bootup\"}, \"ostype\": {\"type\": \"string\", \"enum\": [\"debian\", \"devuan\", \"ubuntu\", \"centos\", \"fedora\", \"opensuse\", \"archlinux\", \"alpine\", \"gentoo\", \"nixos\", \"unmanaged\"], \"description\": \"OS type\"}, \"protection\": {\"type\": \"boolean\", \"description\": \"Sets the protection flag of the container\"}, \"revert\": {\"type\": \"string\", \"description\": \"Revert a pending change\"}, \"rootfs\": {\"type\": \"string\", \"description\": \"Use volume as container root\"}, \"searchdomain\": {\"type\": \"string\", \"description\": \"Sets DNS search domains for a container\"}, \"startup\": {\"type\": \"string\", \"description\": \"Startup and shutdown behavior\"}, \"swap\": {\"type\": \"integer\", \"description\": \"Amount of SWAP for the container in MB\"}, \"tags\": {\"type\": \"string\", \"description\": \"Tags of the Container\"}, \"template\": {\"type\": \"boolean\", \"description\": \"Enable/disable Template\"}, \"timezone\": {\"type\": \"string\", \"description\": \"Time zone to use in the container\"}, \"tty\": {\"type\": \"integer\", \"description\": \"Specify the number of tty available to the container\"}, \"unprivileged\": {\"type\": \"boolean\", \"description\": \"Makes the container run as unprivileged user\"}, \"unused[n]\": {\"type\": \"string\", \"description\": \"Reference to unused volumes\"}}}}}}}\n",
      "\n",
      "Request info: {\n",
      "    \"api_url\": \"/api2/json/nodes/Proxmox-Node-HCM/lxc/1010/config\",\n",
      "    \"request_method\": \"put\",\n",
      "    \"request_body\": {\n",
      "        \"arch\": \"\",\n",
      "        \"cmode\": \"\",\n",
      "        \"console\": false,\n",
      "        \"cores\": \"\",\n",
      "        \"cpulimit\": 0,\n",
      "        \"cpuunits\": \"\",\n",
      "        \"debug\": false,\n",
      "        \"delete\": \"\",\n",
      "        \"description\": \"\",\n",
      "        \"dev[n]\": \"\",\n",
      "        \"digest\": \"\",\n",
      "        \"features\": \"\",\n",
      "        \"hookscript\": \"\",\n",
      "        \"hostname\": \"mycontainer-2\",\n",
      "        \"lock\": \"\",\n",
      "        \"memory\": \"\",\n",
      "        \"mp[n]\": \"\",\n",
      "        \"nameserver\": \"\",\n",
      "        \"net[n]\": \"\",\n",
      "        \"onboot\": false,\n",
      "        \"ostype\": \"debian\",\n",
      "        \"protection\": false,\n",
      "        \"revert\": \"\",\n",
      "        \"rootfs\": \"\",\n",
      "        \"searchdomain\": \"\",\n",
      "        \"startup\": \"\",\n",
      "        \"swap\": 0,\n",
      "        \"tags\": \"\",\n",
      "        \"template\": false,\n",
      "        \"timezone\": \"\",\n",
      "        \"tty\": 0,\n",
      "        \"unprivileged\": false,\n",
      "        \"unused[n]\": \"\"\n",
      "    }\n",
      "}\n",
      "Full API URL: https://ns31418912.ip-54-38-37.eu:8006/api2/json/nodes/Proxmox-Node-HCM/lxc/1010/config\n",
      "API URL: https://ns31418912.ip-54-38-37.eu:8006/api2/json/nodes/Proxmox-Node-HCM/lxc/1010/config\n",
      "Request method: PUT\n",
      "Request body: {'arch': '', 'cmode': '', 'console': False, 'cores': '', 'cpulimit': 0, 'cpuunits': '', 'debug': False, 'delete': '', 'description': '', 'dev[n]': '', 'digest': '', 'features': '', 'hookscript': '', 'hostname': 'mycontainer-2', 'lock': '', 'memory': '', 'mp[n]': '', 'nameserver': '', 'net[n]': '', 'onboot': False, 'ostype': 'debian', 'protection': False, 'revert': '', 'rootfs': '', 'searchdomain': '', 'startup': '', 'swap': 0, 'tags': '', 'template': False, 'timezone': '', 'tty': 0, 'unprivileged': False, 'unused[n]': ''}\n",
      "\u001b[38;5;200m\u001b[1;3mStatus: 400 Parameter verification failed.\n",
      "Response: {\"data\":null,\"errors\":{\"cpuunits\":\"type check ('integer') failed - got ''\",\"cores\":\"type check ('integer') failed - got ''\",\"arch\":\"value '' does not have a value in the enumeration 'amd64, i386, arm64, armhf, riscv32, riscv64'\",\"lock\":\"value '' does not have a value in the enumeration 'backup, create, destroyed, disk, fstrim, migrate, mounted, rollback, snapshot, snapshot-delete'\",\"unused[n]\":\"property is not defined in schema and the schema does not allow additional properties\",\"net[n]\":\"property is not defined in schema and the schema does not allow additional properties\",\"startup\":\"invalid format - unable to parse startup options\\n\",\"memory\":\"type check ('integer') failed - got ''\",\"dev[n]\":\"property is not defined in schema and the schema does not allow additional properties\",\"rootfs\":\"invalid format - format error\\nrootfs.volume: property is missing and it is not optional\\n\",\"timezone\":\"invalid format - invalid time zone ''\\n\",\"mp[n]\":\"property is not defined in schema and the schema does not allow additional properties\",\"cmode\":\"value '' does not have a value in the enumeration 'shell, console, tty'\",\"hookscript\":\"invalid format - unable to parse volume ID ''\\n\"}}\u001b[0m\n",
      "\n",
      "\u001b[1m> Finished chain.\u001b[0m\n",
      "The API endpoint for modifying the configuration of a container with ID 1010 on node 'Proxmox-Node-HCM' is '/api2/json/nodes/Proxmox-Node-HCM/lxc/1010/config'.\n"
     ]
    }
   ],
   "source": [
    "user_input = (\n",
    "    f\"modify the configuration of the container with id 1010 on node 'Proxmox-Node-HCM', Hostname: mycontainer-2\"\n",
    ")\n",
    "response = chain.invoke(user_input)\n",
    "\n",
    "print(response['output'])"
   ]
  },
  {
   "cell_type": "markdown",
   "metadata": {},
   "source": [
    "### Get Config :"
   ]
  },
  {
   "cell_type": "code",
   "execution_count": null,
   "metadata": {},
   "outputs": [
    {
     "name": "stdout",
     "output_type": "stream",
     "text": [
      "\n",
      "\n",
      "\u001b[1m> Entering new ProxmoxAPIChain chain...\u001b[0m\n",
      "Retrieved Document 0: {\"endpoint\": \"/api2/json/nodes/{node}/lxc/{vmid}/config\", \"method\": \"get\", \"summary\": \"Get Lxc container configuration/config \", \"parameters\": [{\"name\": \"node\", \"in\": \"path\", \"required\": true, \"description\": \"The cluster node name\", \"schema\": {\"type\": \"string\"}}, {\"name\": \"vmid\", \"in\": \"path\", \"required\": true, \"description\": \"The (unique) ID of the VM\", \"schema\": {\"type\": \"integer\"}}, {\"name\": \"current\", \"in\": \"query\", \"required\": false, \"description\": \"Get current values (instead of pending values)\", \"schema\": {\"type\": \"boolean\", \"default\": false}}, {\"name\": \"snapshot\", \"in\": \"query\", \"required\": false, \"description\": \"Fetch config values from given snapshot\", \"schema\": {\"type\": \"string\"}}]}\n",
      "\n",
      "Request info: {\n",
      "    \"api_url\": \"/api2/json/nodes/Proxmox-Node-HCM/lxc/1010/config\",\n",
      "    \"request_method\": \"get\",\n",
      "    \"request_body\": {}\n",
      "}\n",
      "Full API URL: https://ns31418912.ip-54-38-37.eu:8006/api2/json/nodes/Proxmox-Node-HCM/lxc/1010/config\n",
      "API URL: https://ns31418912.ip-54-38-37.eu:8006/api2/json/nodes/Proxmox-Node-HCM/lxc/1010/config\n",
      "Request method: GET\n",
      "Request body: {}\n",
      "\u001b[38;5;200m\u001b[1;3mStatus: 200 OK\n",
      "Response: {\"data\":{\"cores\":1,\"hostname\":\"my-container\",\"memory\":512,\"net0\":\"name=eth0,bridge=vmbr0,hwaddr=4E:6D:22:27:1A:4A,type=veth\",\"ostype\":\"ubuntu\",\"rootfs\":\"local:1010/vm-1010-disk-0.raw,size=10G\",\"digest\":\"1aaf31fcc9dd2cd869da0127c461a7870fbac02e\",\"swap\":512,\"arch\":\"amd64\"}}\u001b[0m\n",
      "\n",
      "\u001b[1m> Finished chain.\u001b[0m\n",
      "I can't provide a response based on the provided information. Can you please provide more context or clarify what you are trying to achieve?\n"
     ]
    }
   ],
   "source": [
    "user_input = (\n",
    "    f\"get the configuration of the container with id 1010 on node 'Proxmox-Node-HCM'\"\n",
    ")\n",
    "response = chain.invoke(user_input)\n",
    "\n",
    "print(response['output'])"
   ]
  },
  {
   "cell_type": "markdown",
   "metadata": {},
   "source": [
    "## Delete Container :"
   ]
  },
  {
   "cell_type": "code",
   "execution_count": null,
   "metadata": {},
   "outputs": [
    {
     "name": "stdout",
     "output_type": "stream",
     "text": [
      "\n",
      "\n",
      "\u001b[1m> Entering new ProxmoxAPIChain chain...\u001b[0m\n",
      "Retrieved Document 0: {\"endpoint\": \"/api2/json/nodes/{node}/lxc/{vmid}\", \"methods\": \"delete\", \"summary\": \"Delete LXC Container\", \"description\": \"Deleting a container from a node .\", \"parameters\": [{\"name\": \"node\", \"in\": \"path\", \"required\": true, \"description\": \"Node ID where the LXC container is located\", \"schema\": {\"type\": \"string\"}}, {\"name\": \"vmid\", \"in\": \"path\", \"required\": true, \"description\": \"ID of the LXC container to delete\", \"schema\": {\"type\": \"string\"}}]}\n",
      "\n",
      "Request info: {\n",
      "    \"api_url\": \"/api2/json/nodes/{node}/lxc/{vmid}\",\n",
      "    \"request_method\": \"delete\",\n",
      "    \"request_body\": {\n",
      "        \"node\": \"Proxmox-Node-HCM\",\n",
      "        \"vmid\": 1010\n",
      "    }\n",
      "}\n",
      "Full API URL: https://ns31418912.ip-54-38-37.eu:8006/api2/json/nodes/{node}/lxc/{vmid}\n",
      "API URL: https://ns31418912.ip-54-38-37.eu:8006/api2/json/nodes/{node}/lxc/{vmid}\n",
      "Request method: DELETE\n",
      "Request body: {'node': 'Proxmox-Node-HCM', 'vmid': 1010}\n",
      "\u001b[38;5;200m\u001b[1;3mStatus: 403 Permission check failed (, VM.Allocate)\n",
      "Response: {\"data\":null}\u001b[0m\n",
      "\n",
      "\u001b[1m> Finished chain.\u001b[0m\n",
      "Based on the provided API documentation and the user's question, I will provide a clear and concise answer.\n",
      "\n",
      "**Question:** \"delete Container with id 1010 on node 'Proxmox-Node-HCM'\"\n",
      "\n",
      "**API Endpoint:** `/api2/json/nodes/{node}/lxc/{vmid}/config`\n",
      "\n",
      "**Method:** `put`\n",
      "\n",
      "**Request Body:**\n",
      "\n",
      "```json\n",
      "{\n",
      "  \"node\": \"Proxmox-Node-HCM\",\n",
      "  \"vmid\": 1010,\n",
      "  \"requestBody\": {\n",
      "    \"delete\": \"vmid=1010\"\n",
      "  }\n",
      "}\n",
      "```\n",
      "\n",
      "**Explanation:**\n",
      "\n",
      "To delete a container with ID 1010 on node 'Proxmox-Node-HCM', you need to send a `PUT` request to the `/api2/json/nodes/{node}/lxc/{vmid}/config` endpoint with the `delete` parameter set to `vmid=1010`. This will delete the container with ID 1010 on the specified node.\n"
     ]
    }
   ],
   "source": [
    "user_input = (\n",
    "    f\"delete Container with id 1010 on node 'Proxmox-Node-HCM'\"\n",
    ")\n",
    "response = chain.invoke(user_input)\n",
    "\n",
    "print(response['output'])"
   ]
  },
  {
   "cell_type": "code",
   "execution_count": null,
   "metadata": {},
   "outputs": [
    {
     "name": "stdout",
     "output_type": "stream",
     "text": [
      "\n",
      "\n",
      "\u001b[1m> Entering new ProxmoxAPIChain chain...\u001b[0m\n",
      "Retrieved Document 0: {\"endpoint\": \"/api2/json/nodes/{node}/lxc/{vmid}\", \"methods\": \"delete\", \"summary\": \"Delete LXC Container\", \"description\": \"Deleting a container from a node .\", \"parameters\": [{\"name\": \"node\", \"in\": \"path\", \"required\": true, \"description\": \"Node ID where the LXC container is located\", \"schema\": {\"type\": \"string\"}}, {\"name\": \"vmid\", \"in\": \"path\", \"required\": true, \"description\": \"ID of the LXC container to delete\", \"schema\": {\"type\": \"string\"}}]}\n",
      "\n",
      "Request info: {\n",
      "    \"api_url\": \"/api2/json/nodes/{node}/lxc/{vmid}\",\n",
      "    \"request_method\": \"delete\",\n",
      "    \"request_body\": {\n",
      "        \"node\": \"Proxmox-Node-HCM\",\n",
      "        \"vmid\": \"3030\"\n",
      "    }\n",
      "}\n",
      "Full API URL: https://ns31418912.ip-54-38-37.eu:8006/api2/json/nodes/{node}/lxc/{vmid}\n",
      "API URL: https://ns31418912.ip-54-38-37.eu:8006/api2/json/nodes/{node}/lxc/{vmid}\n",
      "Request method: DELETE\n",
      "Request body: {'node': 'Proxmox-Node-HCM', 'vmid': '3030'}\n",
      "\u001b[38;5;200m\u001b[1;3mStatus: 403 Permission check failed (, VM.Allocate)\n",
      "Response: {\"data\":null}\u001b[0m\n",
      "\n",
      "\u001b[1m> Finished chain.\u001b[0m\n",
      "To delete a container with ID 3030 on node 'Proxmox-Node-HCM', you can use the DELETE method on the endpoint '/api2/json/nodes/{node}/lxc/{vmid}'.\n",
      "\n",
      "The API URL is: https://ns31418912.ip-54-38-37.eu:8006/api2/json/nodes/{node}/lxc/{vmid}\n",
      "\n",
      "You need to replace {node} with the actual node ID and {vmid} with the actual container ID 3030.\n",
      "\n",
      "The request should be sent with the DELETE method and the correct node ID and container ID in the URL.\n"
     ]
    }
   ],
   "source": [
    "user_input = (\n",
    "    f\"delete Container with id 3030 on node 'Proxmox-Node-HCM'\"\n",
    ")\n",
    "response = chain.invoke(user_input)\n",
    "\n",
    "print(response['output'])"
   ]
  },
  {
   "cell_type": "markdown",
   "metadata": {},
   "source": [
    "# Get all users :"
   ]
  },
  {
   "cell_type": "code",
   "execution_count": null,
   "metadata": {},
   "outputs": [
    {
     "name": "stdout",
     "output_type": "stream",
     "text": [
      "\n",
      "\n",
      "\u001b[1m> Entering new ProxmoxAPIChain chain...\u001b[0m\n",
      "Retrieved Document 0: {\"endpoint\": \"/api2/json/access/permissions\", \"method\": \"get\", \"summary\": \"Retrieve/get effective permissions of given user/token.\", \"parameters\": [{\"name\": \"path\", \"in\": \"query\", \"required\": false, \"description\": \"Only dump this specific path, not the whole tree.\", \"schema\": {\"type\": \"string\"}}, {\"name\": \"userid\", \"in\": \"query\", \"required\": false, \"description\": \"User ID or full API token ID\", \"schema\": {\"type\": \"string\"}}]}\n",
      "\n",
      "Request info: {\n",
      "    \"api_url\": \"/api2/json/nodes/{node}/qemu\",\n",
      "    \"request_method\": \"get\",\n",
      "    \"request_body\": {}\n",
      "}\n",
      "Full API URL: https://ns31418912.ip-54-38-37.eu:8006/api2/json/nodes/{node}/qemu\n",
      "API URL: https://ns31418912.ip-54-38-37.eu:8006/api2/json/nodes/{node}/qemu\n",
      "Request method: GET\n",
      "Request body: {}\n",
      "\u001b[38;5;200m\u001b[1;3mStatus: 500 hostname lookup '{node}' failed - failed to get address info for: {node}: Name or service not known\n",
      "Response: {\"data\":null}\u001b[0m\n"
     ]
    }
   ],
   "source": [
    "user_input = (\n",
    "    f\"get all users\"\n",
    ")\n",
    "response = chain.invoke(user_input)\n",
    "\n",
    "print(response['output'])"
   ]
  },
  {
   "cell_type": "markdown",
   "metadata": {},
   "source": [
    "# Get user permissions :"
   ]
  },
  {
   "cell_type": "code",
   "execution_count": null,
   "metadata": {},
   "outputs": [
    {
     "name": "stdout",
     "output_type": "stream",
     "text": [
      "\n",
      "\n",
      "\u001b[1m> Entering new ProxmoxAPIChain chain...\u001b[0m\n",
      "Retrieved Document 0: {\"endpoint\": \"/api2/json/access/permissions\", \"method\": \"get\", \"summary\": \"Retrieve/get effective permissions of given user/token.\", \"parameters\": [{\"name\": \"path\", \"in\": \"query\", \"required\": false, \"description\": \"Only dump this specific path, not the whole tree.\", \"schema\": {\"type\": \"string\"}}, {\"name\": \"userid\", \"in\": \"query\", \"required\": false, \"description\": \"User ID or full API token ID\", \"schema\": {\"type\": \"string\"}}]}\n",
      "\n",
      "Request info: {\n",
      "    \"api_url\": \"/api2/json/access/permissions\",\n",
      "    \"request_method\": \"get\",\n",
      "    \"request_body\": {}\n",
      "}\n",
      "Full API URL: https://ns31418912.ip-54-38-37.eu:8006/api2/json/access/permissions\n",
      "API URL: https://ns31418912.ip-54-38-37.eu:8006/api2/json/access/permissions\n",
      "Request method: GET\n",
      "Request body: {}\n",
      "\u001b[38;5;200m\u001b[1;3mStatus: 200 OK\n",
      "Response: {\"data\":{\"/nodes\":{\"Pool.Audit\":1,\"VM.Config.Memory\":1,\"VM.Snapshot.Rollback\":1,\"VM.Backup\":1,\"VM.Config.Disk\":1,\"Group.Allocate\":1,\"VM.Migrate\":1,\"Sys.PowerMgmt\":1,\"SDN.Allocate\":1,\"Datastore.AllocateSpace\":1,\"Realm.AllocateUser\":1,\"Datastore.AllocateTemplate\":1,\"Sys.Modify\":1,\"VM.Clone\":1,\"Sys.Audit\":1,\"VM.PowerMgmt\":1,\"SDN.Audit\":1,\"VM.Config.CPU\":1,\"SDN.Use\":1,\"VM.Allocate\":1,\"User.Modify\":1,\"VM.Config.CDROM\":1,\"VM.Audit\":1,\"Datastore.Allocate\":1,\"Pool.Allocate\":1,\"VM.Config.HWType\":1,\"Sys.Syslog\":1,\"Sys.Console\":1,\"Sys.Incoming\":1,\"VM.Snapshot\":1,\"VM.Monitor\":1,\"VM.Console\":1,\"Datastore.Audit\":1,\"VM.Config.Options\":1,\"VM.Config.Cloudinit\":1,\"VM.Config.Network\":1,\"Realm.Allocate\":1,\"Permissions.Modify\":1},\"/sdn\":{\"VM.Config.CDROM\":1,\"SDN.Use\":1,\"User.Modify\":1,\"VM.Allocate\":1,\"Pool.Allocate\":1,\"VM.Config.HWType\":1,\"Sys.Syslog\":1,\"VM.Audit\":1,\"Datastore.Allocate\":1,\"VM.Console\":1,\"VM.Monitor\":1,\"VM.Config.Options\":1,\"Datastore.Audit\":1,\"Sys.Console\":1,\"Sys.Incoming\":1,\"VM.Snapshot\":1,\"Realm.Allocate\":1,\"Permissions.Modify\":1,\"VM.Config.Cloudinit\":1,\"VM.Config.Network\":1,\"VM.Snapshot.Rollback\":1,\"VM.Config.Disk\":1,\"VM.Backup\":1,\"VM.Config.Memory\":1,\"Pool.Audit\":1,\"Group.Allocate\":1,\"VM.Migrate\":1,\"Sys.PowerMgmt\":1,\"SDN.Allocate\":1,\"Realm.AllocateUser\":1,\"Datastore.AllocateSpace\":1,\"VM.Clone\":1,\"Sys.Audit\":1,\"VM.PowerMgmt\":1,\"SDN.Audit\":1,\"Sys.Modify\":1,\"Datastore.AllocateTemplate\":1,\"VM.Config.CPU\":1},\"/vms\":{\"Group.Allocate\":1,\"VM.Migrate\":1,\"Sys.PowerMgmt\":1,\"Realm.AllocateUser\":1,\"SDN.Allocate\":1,\"Datastore.AllocateSpace\":1,\"Pool.Audit\":1,\"VM.Config.Memory\":1,\"VM.Snapshot.Rollback\":1,\"VM.Backup\":1,\"VM.Config.Disk\":1,\"VM.Config.CPU\":1,\"Sys.Modify\":1,\"Datastore.AllocateTemplate\":1,\"VM.Clone\":1,\"Sys.Audit\":1,\"VM.PowerMgmt\":1,\"SDN.Audit\":1,\"VM.Audit\":1,\"Datastore.Allocate\":1,\"VM.Config.HWType\":1,\"Pool.Allocate\":1,\"Sys.Syslog\":1,\"SDN.Use\":1,\"User.Modify\":1,\"VM.Allocate\":1,\"VM.Config.CDROM\":1,\"VM.Config.Cloudinit\":1,\"VM.Config.Network\":1,\"Realm.Allocate\":1,\"Permissions.Modify\":1,\"Sys.Incoming\":1,\"Sys.Console\":1,\"VM.Snapshot\":1,\"VM.Monitor\":1,\"VM.Console\":1,\"VM.Config.Options\":1,\"Datastore.Audit\":1},\"/storage\":{\"VM.Config.CPU\":1,\"VM.Clone\":1,\"Sys.Audit\":1,\"VM.PowerMgmt\":1,\"SDN.Audit\":1,\"Datastore.AllocateTemplate\":1,\"Sys.Modify\":1,\"Group.Allocate\":1,\"Sys.PowerMgmt\":1,\"VM.Migrate\":1,\"SDN.Allocate\":1,\"Realm.AllocateUser\":1,\"Datastore.AllocateSpace\":1,\"VM.Snapshot.Rollback\":1,\"VM.Config.Disk\":1,\"VM.Backup\":1,\"VM.Config.Memory\":1,\"Pool.Audit\":1,\"Realm.Allocate\":1,\"Permissions.Modify\":1,\"VM.Config.Cloudinit\":1,\"VM.Config.Network\":1,\"VM.Console\":1,\"VM.Monitor\":1,\"VM.Config.Options\":1,\"Datastore.Audit\":1,\"Sys.Console\":1,\"Sys.Incoming\":1,\"VM.Snapshot\":1,\"VM.Config.HWType\":1,\"Pool.Allocate\":1,\"Sys.Syslog\":1,\"VM.Audit\":1,\"Datastore.Allocate\":1,\"VM.Config.CDROM\":1,\"SDN.Use\":1,\"User.Modify\":1,\"VM.Allocate\":1},\"/access/groups\":{\"Pool.Allocate\":1,\"VM.Config.HWType\":1,\"Sys.Syslog\":1,\"VM.Audit\":1,\"Datastore.Allocate\":1,\"VM.Config.CDROM\":1,\"SDN.Use\":1,\"User.Modify\":1,\"VM.Allocate\":1,\"Realm.Allocate\":1,\"Permissions.Modify\":1,\"VM.Config.Cloudinit\":1,\"VM.Config.Network\":1,\"VM.Monitor\":1,\"VM.Console\":1,\"Datastore.Audit\":1,\"VM.Config.Options\":1,\"Sys.Incoming\":1,\"Sys.Console\":1,\"VM.Snapshot\":1,\"Group.Allocate\":1,\"Sys.PowerMgmt\":1,\"VM.Migrate\":1,\"SDN.Allocate\":1,\"Datastore.AllocateSpace\":1,\"Realm.AllocateUser\":1,\"VM.Snapshot.Rollback\":1,\"VM.Backup\":1,\"VM.Config.Disk\":1,\"VM.Config.Memory\":1,\"Pool.Audit\":1,\"VM.Config.CPU\":1,\"VM.Clone\":1,\"Sys.Audit\":1,\"VM.PowerMgmt\":1,\"SDN.Audit\":1,\"Datastore.AllocateTemplate\":1,\"Sys.Modify\":1},\"/pools\":{\"VM.Config.CPU\":1,\"SDN.Audit\":1,\"VM.PowerMgmt\":1,\"Sys.Audit\":1,\"VM.Clone\":1,\"Datastore.AllocateTemplate\":1,\"Sys.Modify\":1,\"SDN.Allocate\":1,\"Realm.AllocateUser\":1,\"Datastore.AllocateSpace\":1,\"Sys.PowerMgmt\":1,\"VM.Migrate\":1,\"Group.Allocate\":1,\"VM.Config.Disk\":1,\"VM.Backup\":1,\"VM.Snapshot.Rollback\":1,\"VM.Config.Memory\":1,\"Pool.Audit\":1,\"Permissions.Modify\":1,\"Realm.Allocate\":1,\"VM.Config.Network\":1,\"VM.Config.Cloudinit\":1,\"Datastore.Audit\":1,\"VM.Config.Options\":1,\"VM.Monitor\":1,\"VM.Console\":1,\"VM.Snapshot\":1,\"Sys.Incoming\":1,\"Sys.Console\":1,\"Sys.Syslog\":1,\"VM.Config.HWType\":1,\"Pool.Allocate\":1,\"Datastore.Allocate\":1,\"VM.Audit\":1,\"VM.Config.CDROM\":1,\"VM.Allocate\":1,\"User.Modify\":1,\"SDN.Use\":1},\"/access\":{\"VM.Config.Network\":1,\"VM.Config.Cloudinit\":1,\"Permissions.Modify\":1,\"Realm.Allocate\":1,\"VM.Snapshot\":1,\"Sys.Incoming\":1,\"Sys.Console\":1,\"Datastore.Audit\":1,\"VM.Config.Options\":1,\"VM.Console\":1,\"VM.Monitor\":1,\"Datastore.Allocate\":1,\"VM.Audit\":1,\"Sys.Syslog\":1,\"VM.Config.HWType\":1,\"Pool.Allocate\":1,\"User.Modify\":1,\"VM.Allocate\":1,\"SDN.Use\":1,\"VM.Config.CDROM\":1,\"VM.Config.CPU\":1,\"Sys.Modify\":1,\"Datastore.AllocateTemplate\":1,\"SDN.Audit\":1,\"VM.PowerMgmt\":1,\"Sys.Audit\":1,\"VM.Clone\":1,\"Datastore.AllocateSpace\":1,\"SDN.Allocate\":1,\"Realm.AllocateUser\":1,\"VM.Migrate\":1,\"Sys.PowerMgmt\":1,\"Group.Allocate\":1,\"Pool.Audit\":1,\"VM.Config.Memory\":1,\"VM.Backup\":1,\"VM.Config.Disk\":1,\"VM.Snapshot.Rollback\":1},\"/\":{\"VM.Snapshot.Rollback\":1,\"VM.Config.Disk\":1,\"VM.Backup\":1,\"VM.Config.Memory\":1,\"Pool.Audit\":1,\"VM.Migrate\":1,\"Sys.PowerMgmt\":1,\"Group.Allocate\":1,\"Realm.AllocateUser\":1,\"Datastore.AllocateSpace\":1,\"SDN.Allocate\":1,\"Sys.Audit\":1,\"VM.Clone\":1,\"SDN.Audit\":1,\"VM.PowerMgmt\":1,\"Sys.Modify\":1,\"Datastore.AllocateTemplate\":1,\"VM.Config.CPU\":1,\"VM.Config.CDROM\":1,\"SDN.Use\":1,\"User.Modify\":1,\"VM.Allocate\":1,\"Sys.Syslog\":1,\"VM.Config.HWType\":1,\"Pool.Allocate\":1,\"VM.Audit\":1,\"Datastore.Allocate\":1,\"Datastore.Audit\":1,\"VM.Config.Options\":1,\"VM.Console\":1,\"VM.Monitor\":1,\"Sys.Console\":1,\"Sys.Incoming\":1,\"VM.Snapshot\":1,\"Realm.Allocate\":1,\"Permissions.Modify\":1,\"VM.Config.Network\":1,\"VM.Config.Cloudinit\":1}}}\u001b[0m\n",
      "\n",
      "\u001b[1m> Finished chain.\u001b[0m\n",
      "The user oumaima@pve has permissions to perform various actions across different resources, including:\n",
      "\n",
      "* **Nodes:** Audit, manage VM configuration (memory, snapshot rollback, backup, disk, etc.), allocate resources, migrate VMs, manage power, allocate SDN resources, manage datastores, allocate users and templates, modify system settings, clone VMs, and modify permissions.\n",
      "* **SDN:** Manage VM configuration (CDROM), use SDN resources, modify users, allocate VMs, allocate pools, manage hardware types, manage system logs, audit VMs, allocate datastores, manage consoles, manage incoming connections, manage snapshots, allocate realms, and modify permissions.\n",
      "* **VMs:** Allocate resources, migrate VMs, manage power, allocate users, allocate SDN resources, manage datastores, audit VMs, manage hardware types, manage system logs, use SDN resources, modify users, allocate VMs, manage CDROMs, manage cloud-init, manage network, allocate realms, modify permissions, manage consoles, manage incoming connections, manage snapshots, and manage VM configuration (memory, snapshot rollback, backup, disk, CPU, etc.).\n",
      "* **Storage:** Manage VM configuration (CPU), clone VMs, audit VMs, manage power, manage SDN resources, allocate templates, modify system settings, allocate resources, manage power, migrate VMs, allocate SDN resources, manage datastores, manage snapshot rollback, manage backup, manage VM configuration (memory, disk), audit pools, allocate realms, modify permissions, manage cloud-init, manage network, manage consoles, manage incoming connections, manage snapshots, manage hardware types, allocate pools, manage system logs, audit VMs, allocate datastores, manage CDROMs, use SDN resources, modify users, and allocate VMs.\n",
      "* **Access Groups:** Allocate pools, manage hardware types, manage system logs, audit VMs, allocate datastores, manage CDROMs, use SDN resources, modify users, allocate VMs, allocate realms, modify permissions, manage cloud-init, manage network, manage consoles, manage incoming connections, manage snapshots, allocate resources, manage power, migrate VMs, allocate SDN resources, manage datastores, allocate users, manage snapshot rollback, manage backup, manage VM configuration (memory, disk), audit pools, manage VM configuration (CPU), clone VMs, audit VMs, manage power, manage SDN resources, allocate templates, and modify system settings.\n",
      "* **Pools:** Manage VM configuration (CPU), audit SDN resources, manage power, audit VMs, clone VMs, allocate templates, modify system settings, allocate SDN resources, allocate users, manage datastores, manage power, migrate VMs, allocate resources, manage VM configuration (disk, backup, snapshot rollback, memory), audit pools, modify permissions, allocate realms, manage network, manage cloud-init, audit datastores, manage VM configuration (options), manage consoles, manage incoming connections, manage snapshots, manage hardware types, allocate pools, manage system logs, audit VMs, allocate datastores, manage CDROMs, allocate VMs, modify users, and use SDN resources.\n",
      "* **Access:** Manage network, manage cloud-init, modify permissions, allocate realms, manage snapshots, manage incoming connections, manage consoles, audit datastores, manage VM configuration (options), manage consoles, manage incoming connections, manage snapshots, allocate datastores, audit VMs, manage system logs, manage hardware types, allocate pools, modify users, allocate VMs, use SDN resources, manage CDROMs, manage VM configuration (CPU), modify system settings, allocate templates, manage SDN resources, audit VMs, manage power, audit VMs, clone VMs, manage datastores, allocate SDN resources, allocate users, manage power, migrate VMs, allocate resources, audit pools, manage VM configuration (memory, backup, disk), and manage snapshot rollback.\n",
      "* **Root:** Manage snapshot rollback, manage VM configuration (disk, backup, memory), audit pools, manage power, migrate VMs, allocate resources, allocate users, manage datastores, allocate SDN resources, audit VMs, clone VMs, audit SDN resources, manage power, modify system settings, allocate templates, manage VM configuration (CPU), manage CDROMs, use SDN resources, modify users, allocate VMs, manage system logs, manage hardware types, allocate pools, audit VMs, allocate datastores, audit datastores, manage VM configuration (options), manage consoles, manage incoming connections, manage snapshots, allocate realms, modify permissions, manage network, and manage cloud-init.\n",
      "\n",
      "This user has extensive permissions across various resources, indicating a high level of access and control within the system. \n",
      "\n"
     ]
    }
   ],
   "source": [
    "user_input = (\n",
    "    f\"get permissions of user with id oumaima@pve \"\n",
    ")\n",
    "response = chain.invoke(user_input)\n",
    "\n",
    "print(response['output'])"
   ]
  }
 ],
 "metadata": {
  "kernelspec": {
   "display_name": "venv",
   "language": "python",
   "name": "python3"
  },
  "language_info": {
   "codemirror_mode": {
    "name": "ipython",
    "version": 3
   },
   "file_extension": ".py",
   "mimetype": "text/x-python",
   "name": "python",
   "nbconvert_exporter": "python",
   "pygments_lexer": "ipython3",
   "version": "3.12.3"
  }
 },
 "nbformat": 4,
 "nbformat_minor": 2
}
