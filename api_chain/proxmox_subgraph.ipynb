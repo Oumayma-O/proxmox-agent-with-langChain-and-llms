{
 "cells": [
  {
   "cell_type": "markdown",
   "metadata": {},
   "source": [
    "# Setup"
   ]
  },
  {
   "cell_type": "code",
   "execution_count": 1,
   "metadata": {},
   "outputs": [
    {
     "name": "stderr",
     "output_type": "stream",
     "text": [
      "C:\\Users\\oumay\\AppData\\Local\\Temp\\ipykernel_14132\\2933137633.py:13: TqdmExperimentalWarning: Using `tqdm.autonotebook.tqdm` in notebook mode. Use `tqdm.tqdm` instead to force console mode (e.g. in jupyter console)\n",
      "  from tqdm.autonotebook import tqdm, trange\n"
     ]
    }
   ],
   "source": [
    "from proxmox.docs import _proxmox_api_docs\n",
    "from proxmox.base import ProxmoxAPIChain\n",
    "from langchain.text_splitter import RecursiveJsonSplitter\n",
    "from langchain_community.embeddings.sentence_transformer import SentenceTransformerEmbeddings\n",
    "from langchain.retrievers import ContextualCompressionRetriever\n",
    "from langchain_community.cross_encoders import HuggingFaceCrossEncoder\n",
    "from langchain.retrievers.document_compressors import CrossEncoderReranker\n",
    "from langchain_community.vectorstores.surrealdb import SurrealDBStore\n",
    "from langchain_huggingface import HuggingFaceEmbeddings\n",
    "import nest_asyncio\n",
    "import os\n",
    "from dotenv import load_dotenv\n",
    "from tqdm.autonotebook import tqdm, trange\n",
    "from langchain_core.output_parsers import JsonOutputParser\n",
    "from langchain.prompts import PromptTemplate\n",
    "from langchain_ollama import ChatOllama\n",
    "from langgraph.graph import END, StateGraph, START\n",
    "from IPython.display import Image, display\n",
    "from langfuse.callback import CallbackHandler\n",
    "from langchain_core.messages import BaseMessage\n",
    "from typing import List, TypedDict"
   ]
  },
  {
   "cell_type": "code",
   "execution_count": 2,
   "metadata": {},
   "outputs": [
    {
     "data": {
      "text/plain": [
       "True"
      ]
     },
     "execution_count": 2,
     "metadata": {},
     "output_type": "execute_result"
    }
   ],
   "source": [
    "load_dotenv()"
   ]
  },
  {
   "cell_type": "code",
   "execution_count": 3,
   "metadata": {},
   "outputs": [
    {
     "name": "stdout",
     "output_type": "stream",
     "text": [
      "Name: Proxmox-Node-HCM\n",
      "Base URL: https://ns31418912.ip-54-38-37.eu:8006/\n",
      "Token: PVEAPIToken=oumaima@pve!oumaima-token=0cb7eac1-8c3b-4c9c-beec-bf9e35580ccd\n",
      "\n",
      "Token: UFZFQVBJVG9rZW49b3VtYWltYUBwdmUhb3VtYWltYS10b2tlbj0wY2I3ZWFjMS04YzNiLTRjOWMtYmVlYy1iZjllMzU1ODBjY2Q=\n",
      "\n",
      "Name: ns31212248\n",
      "Base URL: https://ns31212248.ip-51-178-74.eu:8006/\n",
      "Token: PVEAPIToken=oumaima@pve!imx-node5=c3105871-267f-43e5-95dd-663f734745f2\n",
      "\n",
      "Token: UFZFQVBJVG9rZW49b3VtYWltYUBwdmUhaW14LW5vZGU1PWMzMTA1ODcxLTI2N2YtNDNlNS05NWRkLTY2M2Y3MzQ3NDVmMg==\n",
      "\n"
     ]
    }
   ],
   "source": [
    "import yaml\n",
    "import os \n",
    "import base64\n",
    "\n",
    "# Load the YAML file\n",
    "with open(r'proxmox\\tokens.yaml', 'r') as file:\n",
    "    proxmox_nodes = yaml.safe_load(file)\n",
    "\n",
    "# Access the dictionary\n",
    "for node in proxmox_nodes :\n",
    "    print(f\"Name: {node['name']}\")\n",
    "    print(f\"Base URL: {node['base_url']}\")\n",
    "    decoded_token = base64.b64decode(os.getenv(node['token'])).decode('utf-8')\n",
    "    print(f\"Token: {decoded_token}\\n\")\n",
    "    print(f\"Token: {os.getenv(node['token'])}\\n\")\n"
   ]
  },
  {
   "cell_type": "code",
   "execution_count": 4,
   "metadata": {},
   "outputs": [
    {
     "name": "stdout",
     "output_type": "stream",
     "text": [
      "c:\\Users\\oumay\\.vscode\\agent-scripts-\\api_chain\n"
     ]
    }
   ],
   "source": [
    "import os\n",
    "print(os.getcwd())\n"
   ]
  },
  {
   "cell_type": "code",
   "execution_count": 5,
   "metadata": {},
   "outputs": [],
   "source": [
    "surrealdb_url = os.getenv('SURREALDB_URL')\n",
    "surrealdb_user = os.getenv('SURREALDB_USER')\n",
    "surrealdb_password = os.getenv('SURREALDB_PWD')"
   ]
  },
  {
   "cell_type": "code",
   "execution_count": 6,
   "metadata": {},
   "outputs": [],
   "source": [
    "splitter = RecursiveJsonSplitter(max_chunk_size=4000)\n",
    "docs = splitter.create_documents(_proxmox_api_docs)"
   ]
  },
  {
   "cell_type": "code",
   "execution_count": 7,
   "metadata": {},
   "outputs": [
    {
     "name": "stderr",
     "output_type": "stream",
     "text": [
      "c:\\Users\\oumay\\.vscode\\agent-scripts-\\venv\\Lib\\site-packages\\xformers\\ops\\fmha\\flash.py:211: FutureWarning: `torch.library.impl_abstract` was renamed to `torch.library.register_fake`. Please use that instead; we will remove `torch.library.impl_abstract` in a future version of PyTorch.\n",
      "  @torch.library.impl_abstract(\"xformers_flash::flash_fwd\")\n",
      "c:\\Users\\oumay\\.vscode\\agent-scripts-\\venv\\Lib\\site-packages\\xformers\\ops\\fmha\\flash.py:344: FutureWarning: `torch.library.impl_abstract` was renamed to `torch.library.register_fake`. Please use that instead; we will remove `torch.library.impl_abstract` in a future version of PyTorch.\n",
      "  @torch.library.impl_abstract(\"xformers_flash::flash_bwd\")\n",
      "Some weights of the model checkpoint at infgrad/stella_en_400M_v5 were not used when initializing NewModel: ['new.pooler.dense.bias', 'new.pooler.dense.weight']\n",
      "- This IS expected if you are initializing NewModel from the checkpoint of a model trained on another task or with another architecture (e.g. initializing a BertForSequenceClassification model from a BertForPreTraining model).\n",
      "- This IS NOT expected if you are initializing NewModel from the checkpoint of a model that you expect to be exactly identical (initializing a BertForSequenceClassification model from a BertForSequenceClassification model).\n"
     ]
    }
   ],
   "source": [
    "# Initialize the SentenceTransformerEmbeddings with trust_remote_code=True\n",
    "ef = HuggingFaceEmbeddings(\n",
    "    model_name=\"infgrad/stella_en_400M_v5\",\n",
    "    model_kwargs={\n",
    "        \"trust_remote_code\": True,\n",
    "    }\n",
    ")"
   ]
  },
  {
   "cell_type": "code",
   "execution_count": 8,
   "metadata": {},
   "outputs": [],
   "source": [
    "nest_asyncio.apply()\n",
    "\n",
    "# SurrealDB connection parameters\n",
    "dburl = \"ws://localhost:8000/rpc\"\n",
    "ns = \"langchain\"\n",
    "db_name = \"proxmox_api_docs\"\n",
    "collection = \"proxmox_collection\"\n",
    "db_user = surrealdb_user\n",
    "db_pass = surrealdb_password\n",
    "\n",
    "# Initialize the SurrealDBStore with documents\n",
    "db = SurrealDBStore(\n",
    "    embedding_function=ef,\n",
    "    dburl=dburl,\n",
    "    ns=ns,\n",
    "    db=db_name,\n",
    "    collection=collection,\n",
    "    db_user=db_user,\n",
    "    db_pass=db_pass\n",
    ")\n",
    "\n",
    "\n",
    "# this is needed to initialize the underlying async library for SurrealDB\n",
    "await db.initialize()\n",
    "\n",
    "# delete collection from the vectorstore collection if it exists \n",
    "await db.adelete(collection = collection)\n",
    "\n",
    "# add documents to the vectorstore\n",
    "ids = await db.aadd_documents(docs)\n",
    "\n",
    "retriever = db.as_retriever(search_type=\"similarity\", search_kwargs={\"k\": 3})\n",
    "\n",
    "# Initialize the cross-encoder model\n",
    "#cross_encoder_model = HuggingFaceCrossEncoder(model_name=\"BAAI/bge-reranker-base\")\n",
    "cross_encoder_model = HuggingFaceCrossEncoder(model_name=\"cross-encoder/ms-marco-MiniLM-L-6-v2\")\n",
    "compressor = CrossEncoderReranker(model=cross_encoder_model, top_n=3)\n",
    "compression_retriever = ContextualCompressionRetriever(\n",
    "    base_compressor=compressor, base_retriever=retriever\n",
    ")"
   ]
  },
  {
   "cell_type": "markdown",
   "metadata": {},
   "source": [
    "# Team approach"
   ]
  },
  {
   "cell_type": "code",
   "execution_count": 9,
   "metadata": {},
   "outputs": [],
   "source": [
    "workers = [node[\"name\"] for node in proxmox_nodes]\n",
    "\n",
    "prompt = PromptTemplate(\n",
    "    template=(\"\"\"\n",
    "    You are a supervisor tasked with routing a query to one of the following workers: {workers}. \n",
    "    Given the following user request, respond with the worker to act next. Each worker will perform a task \n",
    "    and respond with their results and status. The worker output will be returned to the user. \n",
    "    The options for workers are {workers}. Return 'end' if the request isn't related to any of the given workers.\n",
    "\n",
    "    User request: {question}\n",
    "\n",
    "    Respond in JSON format with a single key \"next\" which holds the worker name.\n",
    "\n",
    "    next :\n",
    "    \"\"\"),\n",
    "    input_variables=[\"question\"],\n",
    "    partial_variables={\"workers\": workers}\n",
    ")\n",
    "\n",
    "# Initialize the LLM\n",
    "llm_sup = ChatOllama(model=\"phi3\", temperature=0, format=\"json\")\n",
    "#llm_sup = ChatOllama(model=\"llama3.1\", temperature=0, format=\"json\")\n",
    "\n",
    "\n",
    "# Combine prompt and LLM with JsonOutputParser\n",
    "sup_chain = prompt | llm_sup | JsonOutputParser()\n"
   ]
  },
  {
   "cell_type": "code",
   "execution_count": 10,
   "metadata": {},
   "outputs": [
    {
     "data": {
      "text/plain": [
       "{'next': 'Proxmox-Node-HCM'}"
      ]
     },
     "execution_count": 10,
     "metadata": {},
     "output_type": "execute_result"
    }
   ],
   "source": [
    "sup_chain.invoke({\n",
    "    \"question\": \"How many Vms on node Proxmox-Node-HCM\",\n",
    "})"
   ]
  },
  {
   "cell_type": "code",
   "execution_count": 11,
   "metadata": {},
   "outputs": [],
   "source": [
    "class ProxmoxTeamState(TypedDict):\n",
    "    messages: List[BaseMessage]\n",
    "    team_members: List[str]\n",
    "    next: str"
   ]
  },
  {
   "cell_type": "code",
   "execution_count": 12,
   "metadata": {},
   "outputs": [],
   "source": [
    "def supervisor(state: ProxmoxTeamState) -> ProxmoxTeamState:\n",
    "    print(f\"processing_request: Current state: {state}\")\n",
    "    question = state[\"messages\"][0]\n",
    "    result = sup_chain.invoke({\"question\": question})\n",
    "    state[\"next\"] = result[\"next\"]\n",
    "    state[\"team_members\"] = [node[\"name\"] for node in proxmox_nodes]\n",
    "    return state"
   ]
  },
  {
   "cell_type": "code",
   "execution_count": 13,
   "metadata": {},
   "outputs": [
    {
     "name": "stdout",
     "output_type": "stream",
     "text": [
      "processing_request: Current state: {'messages': [\"list Vms on node 'Proxmox-Node-HCM'\"], 'next': None, 'team_members': []}\n"
     ]
    },
    {
     "data": {
      "text/plain": [
       "{'messages': [\"list Vms on node 'Proxmox-Node-HCM'\"],\n",
       " 'next': 'Proxmox-Node-HCM',\n",
       " 'team_members': ['Proxmox-Node-HCM', 'ns31212248']}"
      ]
     },
     "execution_count": 13,
     "metadata": {},
     "output_type": "execute_result"
    }
   ],
   "source": [
    "initial_state = {\n",
    "            \"messages\": [\"list Vms on node 'Proxmox-Node-HCM'\"],\n",
    "            \"next\": None,\n",
    "            \"team_members\": []\n",
    "        }\n",
    "supervisor(initial_state)"
   ]
  },
  {
   "cell_type": "code",
   "execution_count": 14,
   "metadata": {},
   "outputs": [],
   "source": [
    "llm = ChatOllama(model=\"llama3.1\", temperature=0, format=\"json\")"
   ]
  },
  {
   "cell_type": "code",
   "execution_count": 20,
   "metadata": {},
   "outputs": [],
   "source": [
    "from langchain_google_genai import ChatGoogleGenerativeAI\n",
    "\n",
    "# Initialize the llm with the new model\n",
    "llm = ChatGoogleGenerativeAI(model=\"gemini-1.5-flash-latest\", temperature=0)"
   ]
  },
  {
   "cell_type": "code",
   "execution_count": 16,
   "metadata": {},
   "outputs": [
    {
     "data": {
      "text/plain": [
       "'from langchain_community.llms import Ollama\\nfrom typing import Dict, Any\\n\\n# Initialize the LLM\\n#\\nllm_kwargs: Dict[str, Any] = {\\n    \"model\": \"llama3:instruct\",\\n    \"temperature\": 0,\\n    \"num_ctx\": 4096, \\n    \"format\":\"json\"\\n}\\n\\nllm = Ollama(**llm_kwargs)'"
      ]
     },
     "execution_count": 16,
     "metadata": {},
     "output_type": "execute_result"
    }
   ],
   "source": [
    "\"\"\"from langchain_community.llms import Ollama\n",
    "from typing import Dict, Any\n",
    "\n",
    "# Initialize the LLM\n",
    "#\n",
    "llm_kwargs: Dict[str, Any] = {\n",
    "    \"model\": \"llama3:instruct\",\n",
    "    \"temperature\": 0,\n",
    "    \"num_ctx\": 4096, \n",
    "    \"format\":\"json\"\n",
    "}\n",
    "\n",
    "llm = Ollama(**llm_kwargs)\"\"\""
   ]
  },
  {
   "cell_type": "code",
   "execution_count": 23,
   "metadata": {},
   "outputs": [],
   "source": [
    "from langchain_groq import ChatGroq\n",
    "\n",
    "llm = ChatGroq(\n",
    "    model=\"llama-3.1-70b-versatile\",\n",
    "    temperature=0,\n",
    "    max_tokens=None,\n",
    "    timeout=None,\n",
    "    max_retries=2,\n",
    "    # other params...\n",
    ")"
   ]
  },
  {
   "cell_type": "code",
   "execution_count": 24,
   "metadata": {},
   "outputs": [
    {
     "name": "stdout",
     "output_type": "stream",
     "text": [
      "https://ns31418912.ip-54-38-37.eu:8006/\n",
      "https://ns31212248.ip-51-178-74.eu:8006/\n"
     ]
    }
   ],
   "source": [
    "agents = {}\n",
    "\n",
    "for node in proxmox_nodes:\n",
    "    print(node['base_url'])\n",
    "    decoded_token=base64.b64decode(os.getenv(node['token'])).decode('utf-8')\n",
    "    chain = ProxmoxAPIChain.from_llm_and_api_docs(\n",
    "        llm,\n",
    "        retriever=compression_retriever,\n",
    "        headers={\"Authorization\": decoded_token},\n",
    "        pve_token=decoded_token,\n",
    "        verbose=True,\n",
    "        limit_to_domains=[node[\"base_url\"]],\n",
    "        base_url=node[\"base_url\"],\n",
    "    )\n",
    "    agents[node[\"name\"]] = chain"
   ]
  },
  {
   "cell_type": "code",
   "execution_count": 25,
   "metadata": {},
   "outputs": [
    {
     "name": "stdout",
     "output_type": "stream",
     "text": [
      "\n",
      "\n",
      "\u001b[1m> Entering new ProxmoxAPIChain chain...\u001b[0m\n",
      "Retrieved Document 0: {\"endpoint\": \"/api2/json/nodes/{node}/qemu\", \"method\": \"get\", \"summary\": \"List Virtual machines (VMs) on a Node\", \"parameters\": [{\"name\": \"node\", \"in\": \"path\", \"required\": true, \"description\": \"Node ID where VMs are located\", \"schema\": {\"type\": \"string\"}}]}\n",
      "Retrieved Document 1: {\"endpoint\": \"/api2/json/nodes/{node}/qemu/{vmid}/config\", \"method\": \"get\", \"summary\": \"Get Virtual machine/Vm Configuration (config file)\", \"parameters\": [{\"name\": \"node\", \"in\": \"path\", \"required\": true, \"description\": \"Node ID where the VM is located\", \"schema\": {\"type\": \"string\"}}, {\"name\": \"vmid\", \"in\": \"path\", \"required\": true, \"description\": \"ID of the VM\", \"schema\": {\"type\": \"integer\"}}, {\"name\": \"current\", \"in\": \"query\", \"required\": false, \"description\": \"Get current values instead of pending values\", \"schema\": {\"type\": \"boolean\"}}]}\n",
      "Retrieved Document 2: {\"endpoint\": \"/api2/json/nodes/{node}/lxc\", \"methods\": \"get\", \"summary\": \"List LXC Containers on a Node\", \"description\": \"List all containers available on a node\", \"parameters\": [{\"name\": \"node\", \"in\": \"path\", \"required\": true, \"description\": \"Node ID where LXC containers are located\", \"schema\": {\"type\": \"string\"}}]}\n",
      "\n",
      "Request info: {\n",
      "    \"api_url\": \"/api2/json/nodes/Proxmox-Node-HCM/qemu\",\n",
      "    \"request_method\": \"get\",\n",
      "    \"request_body\": {}\n",
      "}\n",
      "Full API URL: https://ns31418912.ip-54-38-37.eu:8006/api2/json/nodes/Proxmox-Node-HCM/qemu\n",
      "API URL: https://ns31418912.ip-54-38-37.eu:8006/api2/json/nodes/Proxmox-Node-HCM/qemu\n",
      "Request method: GET\n",
      "Request body: {}\n",
      "\u001b[38;5;200m\u001b[1;3mStatus: 200 OK\n",
      "Response: {\"data\":[{\"status\":\"running\",\"mem\":2900129198,\"maxdisk\":107374182400,\"netin\":1041842804,\"disk\":0,\"vmid\":108,\"maxmem\":8589934592,\"netout\":13756959,\"name\":\"PgSQL-IMX-Replicaset\",\"diskwrite\":0,\"cpu\":0.00537743754841993,\"cpus\":4,\"uptime\":3205174,\"pid\":1998484,\"diskread\":0},{\"maxdisk\":107374182400,\"netin\":203308468,\"status\":\"running\",\"mem\":7183599378,\"diskwrite\":0,\"cpu\":0.00076589584022967,\"cpus\":4,\"maxmem\":8589934592,\"netout\":29615199,\"name\":\"PgSQL-IMX\",\"diskread\":0,\"uptime\":4845575,\"pid\":3748081,\"disk\":0,\"vmid\":104},{\"mem\":2247025384,\"status\":\"running\",\"netin\":1096446775,\"maxdisk\":34359738368,\"vmid\":110,\"disk\":0,\"uptime\":2768734,\"pid\":3793132,\"diskread\":0,\"maxmem\":8589934592,\"name\":\"primary-test\",\"netout\":12901491,\"diskwrite\":0,\"cpu\":0.00107104167631062,\"cpus\":4},{\"netin\":0,\"maxdisk\":34359738368,\"mem\":0,\"status\":\"stopped\",\"uptime\":0,\"diskread\":0,\"name\":\"my-vm\",\"netout\":0,\"maxmem\":2147483648,\"cpu\":0,\"cpus\":2,\"diskwrite\":0,\"vmid\":9999,\"disk\":0},{\"disk\":0,\"vmid\":102,\"cpu\":0.0186583543346716,\"cpus\":4,\"diskwrite\":0,\"name\":\"SurrealDB-IMX\",\"netout\":295280232,\"maxmem\":4294967296,\"diskread\":0,\"pid\":3099455,\"uptime\":5005107,\"status\":\"running\",\"mem\":1284485830,\"maxdisk\":107374182400,\"netin\":728876253},{\"netin\":182325702,\"maxdisk\":34359738368,\"mem\":3325967428,\"status\":\"running\",\"pid\":3751193,\"uptime\":4844888,\"diskread\":0,\"netout\":186340193,\"name\":\"Ansible-controller\",\"maxmem\":4294967296,\"cpus\":2,\"cpu\":0.000711333339738374,\"diskwrite\":0,\"vmid\":106,\"disk\":0},{\"vmid\":1001,\"disk\":0,\"diskread\":0,\"uptime\":3015802,\"pid\":2790383,\"diskwrite\":0,\"cpus\":1,\"cpu\":0.61751817222697,\"maxmem\":536870912,\"name\":\"test-vm\",\"netout\":210285829,\"mem\":20233994,\"status\":\"running\",\"netin\":660764896,\"maxdisk\":34359738368},{\"status\":\"running\",\"mem\":5582625230,\"maxdisk\":137438953472,\"netin\":3952244511,\"disk\":0,\"vmid\":100,\"cpus\":2,\"cpu\":0.00780445840360682,\"diskwrite\":0,\"name\":\"Mongo-IMX\",\"netout\":580924145,\"maxmem\":8489271296,\"diskread\":0,\"tags\":\"critical;poc\",\"pid\":3634760,\"uptime\":7437168},{\"status\":\"stopped\",\"mem\":0,\"maxdisk\":0,\"netin\":0,\"disk\":0,\"vmid\":10004,\"maxmem\":536870912,\"netout\":0,\"name\":\"VM 10004\",\"diskwrite\":0,\"cpus\":1,\"cpu\":0,\"uptime\":0,\"diskread\":0},{\"status\":\"stopped\",\"mem\":0,\"maxdisk\":0,\"netin\":0,\"disk\":0,\"vmid\":10002,\"cpus\":1,\"cpu\":0,\"diskwrite\":0,\"name\":\"VM 10002\",\"netout\":0,\"maxmem\":536870912,\"diskread\":0,\"uptime\":0},{\"netin\":0,\"maxdisk\":0,\"mem\":0,\"status\":\"stopped\",\"uptime\":0,\"diskread\":0,\"netout\":0,\"name\":\"VM 10001\",\"maxmem\":536870912,\"cpu\":0,\"cpus\":1,\"diskwrite\":0,\"vmid\":10001,\"disk\":0},{\"maxmem\":8589934592,\"netout\":699658615,\"name\":\"test-vault01\",\"diskwrite\":0,\"cpu\":0.0130747917843957,\"cpus\":2,\"uptime\":6894340,\"pid\":1787620,\"diskread\":0,\"disk\":0,\"vmid\":101,\"maxdisk\":107374182400,\"netin\":1908036153,\"status\":\"running\",\"mem\":3554389241},{\"status\":\"running\",\"mem\":871096800,\"maxdisk\":107374182400,\"netin\":349271590,\"disk\":0,\"vmid\":109,\"name\":\"PgSQL-Primary\",\"netout\":6467231,\"maxmem\":8589934592,\"cpu\":0.000679000006113903,\"cpus\":4,\"diskwrite\":0,\"pid\":2483630,\"uptime\":3091067,\"diskread\":0},{\"vmid\":2000,\"disk\":0,\"pid\":1003406,\"uptime\":5516111,\"diskread\":0,\"netout\":2689846275,\"name\":\"NewRelic-GitLab\",\"maxmem\":2147483648,\"cpus\":2,\"cpu\":0.00249775002249043,\"diskwrite\":0,\"mem\":1331685965,\"status\":\"running\",\"netin\":9173044763,\"maxdisk\":34359738368},{\"vmid\":107,\"disk\":0,\"diskread\":0,\"pid\":1822073,\"uptime\":3249470,\"cpus\":1,\"cpu\":0.00219866668646407,\"diskwrite\":0,\"name\":\"test-mfa\",\"netout\":33307756,\"maxmem\":2147483648,\"mem\":779884758,\"status\":\"running\",\"netin\":1735993478,\"maxdisk\":34359738368},{\"netout\":0,\"name\":\"test-vm\",\"maxmem\":2147483648,\"cpu\":0,\"cpus\":2,\"diskwrite\":0,\"uptime\":0,\"diskread\":0,\"disk\":0,\"vmid\":10000,\"maxdisk\":34359738368,\"netin\":0,\"status\":\"stopped\",\"mem\":0}]}\u001b[0m\n",
      "\n",
      "\u001b[1m> Finished chain.\u001b[0m\n"
     ]
    },
    {
     "data": {
      "text/plain": [
       "{'question': \"list Vms on node 'Proxmox-Node-HCM'\",\n",
       " 'output': \"The API has returned a list of Virtual Machines (VMs) on the node 'Proxmox-Node-HCM'.\"}"
      ]
     },
     "execution_count": 25,
     "metadata": {},
     "output_type": "execute_result"
    }
   ],
   "source": [
    "agents[\"Proxmox-Node-HCM\"].invoke((\"list Vms on node 'Proxmox-Node-HCM'\"))"
   ]
  },
  {
   "cell_type": "code",
   "execution_count": 26,
   "metadata": {},
   "outputs": [],
   "source": [
    "def Worker_node(state: ProxmoxTeamState, node_name: str) -> ProxmoxTeamState:\n",
    "    print(f\"{state['next']} / {node_name}\")\n",
    "    question = state[\"messages\"][0]\n",
    "    result = agents[node_name].invoke(input=question)\n",
    "    state[\"messages\"].append(result)\n",
    "    return state"
   ]
  },
  {
   "cell_type": "code",
   "execution_count": 27,
   "metadata": {},
   "outputs": [
    {
     "name": "stdout",
     "output_type": "stream",
     "text": [
      "Proxmox-Node-HCM / Proxmox-Node-HCM\n",
      "\n",
      "\n",
      "\u001b[1m> Entering new ProxmoxAPIChain chain...\u001b[0m\n",
      "Retrieved Document 0: {\"endpoint\": \"/api2/json/nodes/{node}/qemu\", \"method\": \"get\", \"summary\": \"List Virtual machines (VMs) on a Node\", \"parameters\": [{\"name\": \"node\", \"in\": \"path\", \"required\": true, \"description\": \"Node ID where VMs are located\", \"schema\": {\"type\": \"string\"}}]}\n",
      "Retrieved Document 1: {\"endpoint\": \"/api2/json/nodes/{node}/qemu\", \"method\": \"post\", \"summary\": \"Create a Virtual machine (VM) \", \"description\": \"Use this endpoint to create a new virtual machine on the specified node. This endpoint is used for initial creation and can be used for the allocation of resources such as memory, cores, and storage.\", \"parameters\": [{\"name\": \"node\", \"in\": \"path\", \"required\": true, \"description\": \"Node ID where the VM will be created\", \"schema\": {\"type\": \"string\"}}], \"requestBody\": {\"required\": true, \"content\": {\"application/json\": {\"schema\": {\"type\": \"object\", \"properties\": {\"vmid\": {\"type\": \"integer\", \"description\": \"VM ID\"}, \"name\": {\"type\": \"string\", \"description\": \"Name of the VM\"}, \"memory\": {\"type\": \"integer\", \"description\": \"Memory size in MB\"}, \"cores\": {\"type\": \"integer\", \"description\": \"Number of CPU cores\"}, \"ide0\": {\"type\": \"string\", \"description\": \"Disk size and format, e.g., \\\"local:32,format=qcow2\\\"\"}, \"net0\": {\"type\": \"string\", \"description\": \"Network configuration, e.g., \\\"virtio,bridge=vmbr0\\\"\"}, \"ostype\": {\"type\": \"string\", \"description\": \"OS type, e.g., \\\"l26\\\" for Linux\"}}, \"required\": [\"node\", \"vmid\"]}}}}}\n",
      "Retrieved Document 2: {\"endpoint\": \"/api2/json/nodes/{node}/qemu/{vmid}/config\", \"method\": \"post\", \"summary\": \"Set initial configuration options of a Virtual machine\", \"description\": \"Use this endpoint to set the initial configuration of a new virtual machine. This is useful when you need to define settings such as memory, cores, CPU type, and other parameters for a VM that is being created.\", \"parameters\": [{\"name\": \"node\", \"in\": \"path\", \"required\": true, \"description\": \"The cluster node name\", \"schema\": {\"type\": \"string\"}}, {\"name\": \"vmid\", \"in\": \"path\", \"required\": true, \"description\": \"The (unique) ID of the VM\", \"schema\": {\"type\": \"integer\", \"minimum\": 100, \"maximum\": 999999999}}], \"requestBody\": {\"required\": true, \"content\": {\"application/json\": {\"schema\": {\"type\": \"object\", \"properties\": {\"memory\": {\"type\": \"integer\", \"description\": \"Amount of RAM for the VM in MiB\", \"minimum\": 16}, \"cores\": {\"type\": \"integer\", \"description\": \"Number of cores per socket\", \"minimum\": 1}, \"cpu\": {\"type\": \"string\", \"description\": \"Emulated CPU type\"}, \"name\": {\"type\": \"string\", \"description\": \"Set a name for the VM\"}, \"net\": {\"type\": \"string\", \"description\": \"Specify network devices\"}, \"ostype\": {\"type\": \"string\", \"description\": \"Specify guest operating system\", \"enum\": [\"other\", \"wxp\", \"w2k\", \"w2k3\", \"w2k8\", \"wvista\", \"win7\", \"win8\", \"win10\", \"win11\", \"l24\", \"l26\", \"solaris\", \"opensolaris\", \"netbsd\", \"freebsd\", \"openbsd\"]}, \"disk\": {\"type\": \"string\", \"description\": \"Specify disk size and type, e.g., 'size=10G,ssd=1'\"}, \"boot\": {\"type\": \"string\", \"description\": \"Specify guest boot order, e.g., 'order=cdrom;ide0'\"}}}}}}}\n",
      "\n",
      "Request info: {\n",
      "    \"api_url\": \"/api2/json/nodes/Proxmox-Node-HCM/qemu\",\n",
      "    \"request_method\": \"get\",\n",
      "    \"request_body\": {}\n",
      "}\n",
      "Full API URL: https://ns31418912.ip-54-38-37.eu:8006/api2/json/nodes/Proxmox-Node-HCM/qemu\n",
      "API URL: https://ns31418912.ip-54-38-37.eu:8006/api2/json/nodes/Proxmox-Node-HCM/qemu\n",
      "Request method: GET\n",
      "Request body: {}\n",
      "\u001b[38;5;200m\u001b[1;3mStatus: 200 OK\n",
      "Response: {\"data\":[{\"status\":\"running\",\"mem\":1254828888,\"maxdisk\":107374182400,\"netin\":728927962,\"disk\":0,\"vmid\":102,\"cpu\":0.0188336544867155,\"cpus\":4,\"diskwrite\":0,\"name\":\"SurrealDB-IMX\",\"netout\":295374486,\"maxmem\":4294967296,\"diskread\":0,\"pid\":3099455,\"uptime\":5005124},{\"mem\":3325967428,\"status\":\"running\",\"netin\":182325702,\"maxdisk\":34359738368,\"vmid\":106,\"disk\":0,\"diskread\":0,\"uptime\":4844905,\"pid\":3751193,\"diskwrite\":0,\"cpus\":2,\"cpu\":0.000724371326412135,\"maxmem\":4294967296,\"netout\":186340193,\"name\":\"Ansible-controller\"},{\"maxdisk\":34359738368,\"netin\":660768062,\"status\":\"running\",\"mem\":20261568,\"maxmem\":536870912,\"name\":\"test-vm\",\"netout\":210286268,\"diskwrite\":0,\"cpu\":0.608694797671244,\"cpus\":1,\"uptime\":3015819,\"pid\":2790383,\"diskread\":0,\"disk\":0,\"vmid\":1001},{\"maxdisk\":137438953472,\"netin\":3952244511,\"status\":\"running\",\"mem\":5582625230,\"diskwrite\":0,\"cpu\":0.00802380546179596,\"cpus\":2,\"maxmem\":8489271296,\"netout\":580924145,\"name\":\"Mongo-IMX\",\"tags\":\"critical;poc\",\"diskread\":0,\"uptime\":7437185,\"pid\":3634760,\"disk\":0,\"vmid\":100},{\"mem\":2900129198,\"status\":\"running\",\"netin\":1041842804,\"maxdisk\":107374182400,\"vmid\":108,\"disk\":0,\"pid\":1998484,\"uptime\":3205191,\"diskread\":0,\"name\":\"PgSQL-IMX-Replicaset\",\"netout\":13756959,\"maxmem\":8589934592,\"cpu\":0.00534920364119731,\"cpus\":4,\"diskwrite\":0},{\"diskread\":0,\"uptime\":4845592,\"pid\":3748081,\"diskwrite\":0,\"cpu\":0.000696510890780899,\"cpus\":4,\"maxmem\":8589934592,\"netout\":29615199,\"name\":\"PgSQL-IMX\",\"vmid\":104,\"disk\":0,\"netin\":203308468,\"maxdisk\":107374182400,\"mem\":7183599378,\"status\":\"running\"},{\"uptime\":0,\"diskread\":0,\"name\":\"my-vm\",\"netout\":0,\"maxmem\":2147483648,\"cpu\":0,\"cpus\":2,\"diskwrite\":0,\"vmid\":9999,\"disk\":0,\"netin\":0,\"maxdisk\":34359738368,\"mem\":0,\"status\":\"stopped\"},{\"disk\":0,\"vmid\":110,\"diskwrite\":0,\"cpus\":4,\"cpu\":0.0010865569896182,\"maxmem\":8589934592,\"name\":\"primary-test\",\"netout\":12901665,\"diskread\":0,\"uptime\":2768751,\"pid\":3793132,\"status\":\"running\",\"mem\":2247025384,\"maxdisk\":34359738368,\"netin\":1096446949},{\"vmid\":10000,\"disk\":0,\"diskread\":0,\"uptime\":0,\"cpus\":2,\"cpu\":0,\"diskwrite\":0,\"name\":\"test-vm\",\"netout\":0,\"maxmem\":2147483648,\"mem\":0,\"status\":\"stopped\",\"netin\":0,\"maxdisk\":34359738368},{\"vmid\":107,\"disk\":0,\"uptime\":3249487,\"pid\":1822073,\"diskread\":0,\"maxmem\":2147483648,\"name\":\"test-mfa\",\"netout\":33307756,\"diskwrite\":0,\"cpus\":1,\"cpu\":0.00200595136544899,\"mem\":779884758,\"status\":\"running\",\"netin\":1735993478,\"maxdisk\":34359738368},{\"netin\":0,\"maxdisk\":0,\"mem\":0,\"status\":\"stopped\",\"uptime\":0,\"diskread\":0,\"maxmem\":536870912,\"netout\":0,\"name\":\"VM 10004\",\"diskwrite\":0,\"cpu\":0,\"cpus\":1,\"vmid\":10004,\"disk\":0},{\"cpus\":1,\"cpu\":0,\"diskwrite\":0,\"name\":\"VM 10002\",\"netout\":0,\"maxmem\":536870912,\"diskread\":0,\"uptime\":0,\"disk\":0,\"vmid\":10002,\"maxdisk\":0,\"netin\":0,\"status\":\"stopped\",\"mem\":0},{\"mem\":3554389241,\"status\":\"running\",\"netin\":1908036153,\"maxdisk\":107374182400,\"vmid\":101,\"disk\":0,\"uptime\":6894357,\"pid\":1787620,\"diskread\":0,\"maxmem\":8589934592,\"name\":\"test-vault01\",\"netout\":699658615,\"diskwrite\":0,\"cpus\":2,\"cpu\":0.0129272421328935},{\"netin\":0,\"maxdisk\":0,\"mem\":0,\"status\":\"stopped\",\"uptime\":0,\"diskread\":0,\"maxmem\":536870912,\"name\":\"VM 10001\",\"netout\":0,\"diskwrite\":0,\"cpu\":0,\"cpus\":1,\"vmid\":10001,\"disk\":0},{\"mem\":871096800,\"status\":\"running\",\"netin\":349271590,\"maxdisk\":107374182400,\"vmid\":109,\"disk\":0,\"uptime\":3091084,\"pid\":2483630,\"diskread\":0,\"maxmem\":8589934592,\"netout\":6467231,\"name\":\"PgSQL-Primary\",\"diskwrite\":0,\"cpu\":0.000668650455149663,\"cpus\":4},{\"status\":\"running\",\"mem\":1331685965,\"maxdisk\":34359738368,\"netin\":9173046348,\"disk\":0,\"vmid\":2000,\"maxmem\":2147483648,\"netout\":2689852830,\"name\":\"NewRelic-GitLab\",\"diskwrite\":0,\"cpus\":2,\"cpu\":0.00189450962292405,\"uptime\":5516128,\"pid\":1003406,\"diskread\":0}]}\u001b[0m\n",
      "\n",
      "\u001b[1m> Finished chain.\u001b[0m\n",
      "{'next': 'Proxmox-Node-HCM', 'messages': ['How many Vms on node Proxmox-Node-HCM?', {'question': 'How many Vms on node Proxmox-Node-HCM?', 'output': 'There are 14 virtual machines on node Proxmox-Node-HCM.'}]}\n"
     ]
    }
   ],
   "source": [
    "state = {\n",
    "    \"next\": \"Proxmox-Node-HCM\",\n",
    "    \"messages\": [\"How many Vms on node Proxmox-Node-HCM?\"]\n",
    "}\n",
    "\n",
    "new_state = Worker_node(state, \"Proxmox-Node-HCM\")\n",
    "print(new_state)  "
   ]
  },
  {
   "cell_type": "code",
   "execution_count": 28,
   "metadata": {},
   "outputs": [],
   "source": [
    "def proxmox_router(state: ProxmoxTeamState) :\n",
    "    next_worker = state[\"next\"]\n",
    "    print(f\"proxmox_router: Current state: {state}\")\n",
    "    if next_worker in [node[\"name\"] for node in proxmox_nodes]:\n",
    "        return next_worker\n",
    "    return \"end\""
   ]
  },
  {
   "cell_type": "code",
   "execution_count": 29,
   "metadata": {},
   "outputs": [
    {
     "name": "stdout",
     "output_type": "stream",
     "text": [
      "proxmox_router: Current state: {'next': 'Proxmox-Node-HCM'}\n",
      "Proxmox-Node-HCM\n"
     ]
    }
   ],
   "source": [
    "state = {\"next\": \"Proxmox-Node-HCM\"}\n",
    "result = proxmox_router(state)\n",
    "print(result) "
   ]
  },
  {
   "cell_type": "code",
   "execution_count": 30,
   "metadata": {},
   "outputs": [],
   "source": [
    "proxmox_graph = StateGraph(ProxmoxTeamState)\n",
    "\n",
    "for node in proxmox_nodes:\n",
    "    proxmox_graph.add_node(node[\"name\"], lambda state, node_name=node[\"name\"]: Worker_node(state, node_name))\n",
    "    proxmox_graph.add_edge(node[\"name\"], END)\n",
    "\n",
    "proxmox_graph.add_node(\"supervisor\", supervisor)\n",
    "\n",
    "node_edges = {node[\"name\"]: node[\"name\"] for node in proxmox_nodes}\n",
    "\n",
    "# Add the \"end\" key-value pair to the dictionary\n",
    "node_edges[\"end\"] = END\n",
    "\n",
    "proxmox_graph.add_conditional_edges(\n",
    "    \"supervisor\",\n",
    "    proxmox_router,\n",
    "    node_edges,\n",
    ")\n",
    "\n",
    "proxmox_graph.add_edge(START, \"supervisor\")\n",
    "chain = proxmox_graph.compile()"
   ]
  },
  {
   "cell_type": "code",
   "execution_count": 31,
   "metadata": {},
   "outputs": [
    {
     "data": {
      "image/jpeg": "[encoded data removed]",
      "text/plain": [
       "<IPython.core.display.Image object>"
      ]
     },
     "metadata": {},
     "output_type": "display_data"
    }
   ],
   "source": [
    "display(Image(chain.get_graph(xray=True).draw_mermaid_png()))"
   ]
  },
  {
   "cell_type": "code",
   "execution_count": 33,
   "metadata": {},
   "outputs": [],
   "source": [
    "langfuse_handler = CallbackHandler(\n",
    "    public_key=os.getenv('LANGFUSE_PUBLIC_KEY'),\n",
    "    secret_key=os.getenv('LANGFUSE_SECRET_KEY'),\n",
    "    host=os.getenv('LANGFUSE_HOST'),\n",
    ")"
   ]
  },
  {
   "cell_type": "code",
   "execution_count": 35,
   "metadata": {},
   "outputs": [
    {
     "name": "stdout",
     "output_type": "stream",
     "text": [
      "processing_request: Current state: {'messages': [\"list Vms on node 'Proxmox-Node-HCM'\"], 'team_members': [], 'next': None}\n",
      "proxmox_router: Current state: {'messages': [\"list Vms on node 'Proxmox-Node-HCM'\"], 'team_members': ['Proxmox-Node-HCM', 'ns31212248'], 'next': 'Proxmox-Node-HCM'}\n",
      "Proxmox-Node-HCM / Proxmox-Node-HCM\n",
      "\n",
      "\n",
      "\u001b[1m> Entering new ProxmoxAPIChain chain...\u001b[0m\n",
      "Retrieved Document 0: {\"endpoint\": \"/api2/json/nodes/{node}/qemu\", \"method\": \"get\", \"summary\": \"List Virtual machines (VMs) on a Node\", \"parameters\": [{\"name\": \"node\", \"in\": \"path\", \"required\": true, \"description\": \"Node ID where VMs are located\", \"schema\": {\"type\": \"string\"}}]}\n",
      "Retrieved Document 1: {\"endpoint\": \"/api2/json/nodes/{node}/qemu/{vmid}/config\", \"method\": \"get\", \"summary\": \"Get Virtual machine/Vm Configuration (config file)\", \"parameters\": [{\"name\": \"node\", \"in\": \"path\", \"required\": true, \"description\": \"Node ID where the VM is located\", \"schema\": {\"type\": \"string\"}}, {\"name\": \"vmid\", \"in\": \"path\", \"required\": true, \"description\": \"ID of the VM\", \"schema\": {\"type\": \"integer\"}}, {\"name\": \"current\", \"in\": \"query\", \"required\": false, \"description\": \"Get current values instead of pending values\", \"schema\": {\"type\": \"boolean\"}}]}\n",
      "Retrieved Document 2: {\"endpoint\": \"/api2/json/nodes/{node}/lxc\", \"methods\": \"get\", \"summary\": \"List LXC Containers on a Node\", \"description\": \"List all containers available on a node\", \"parameters\": [{\"name\": \"node\", \"in\": \"path\", \"required\": true, \"description\": \"Node ID where LXC containers are located\", \"schema\": {\"type\": \"string\"}}]}\n",
      "\n",
      "Request info: {\n",
      "    \"api_url\": \"/api2/json/nodes/Proxmox-Node-HCM/qemu\",\n",
      "    \"request_method\": \"get\",\n",
      "    \"request_body\": {}\n",
      "}\n",
      "Full API URL: https://ns31418912.ip-54-38-37.eu:8006/api2/json/nodes/Proxmox-Node-HCM/qemu\n",
      "API URL: https://ns31418912.ip-54-38-37.eu:8006/api2/json/nodes/Proxmox-Node-HCM/qemu\n",
      "Request method: GET\n",
      "Request body: {}\n",
      "\u001b[38;5;200m\u001b[1;3mStatus: 200 OK\n",
      "Response: {\"data\":[{\"vmid\":10002,\"disk\":0,\"diskread\":0,\"uptime\":0,\"cpus\":1,\"cpu\":0,\"diskwrite\":0,\"netout\":0,\"name\":\"VM 10002\",\"maxmem\":536870912,\"mem\":0,\"status\":\"stopped\",\"netin\":0,\"maxdisk\":0},{\"status\":\"stopped\",\"mem\":0,\"maxdisk\":0,\"netin\":0,\"disk\":0,\"vmid\":10004,\"maxmem\":536870912,\"netout\":0,\"name\":\"VM 10004\",\"diskwrite\":0,\"cpus\":1,\"cpu\":0,\"uptime\":0,\"diskread\":0},{\"vmid\":10001,\"disk\":0,\"diskread\":0,\"uptime\":0,\"cpus\":1,\"cpu\":0,\"diskwrite\":0,\"name\":\"VM 10001\",\"netout\":0,\"maxmem\":536870912,\"mem\":0,\"status\":\"stopped\",\"netin\":0,\"maxdisk\":0},{\"netin\":1908036477,\"maxdisk\":107374182400,\"mem\":3554389241,\"status\":\"running\",\"diskread\":0,\"uptime\":6894478,\"pid\":1787620,\"diskwrite\":0,\"cpus\":2,\"cpu\":0.0130753836039066,\"maxmem\":8589934592,\"name\":\"test-vault01\",\"netout\":699658939,\"vmid\":101,\"disk\":0},{\"disk\":0,\"vmid\":2000,\"diskwrite\":0,\"cpu\":0.00202751201452982,\"cpus\":2,\"maxmem\":2147483648,\"netout\":2689907978,\"name\":\"NewRelic-GitLab\",\"diskread\":0,\"uptime\":5516249,\"pid\":1003406,\"status\":\"running\",\"mem\":1331685965,\"maxdisk\":34359738368,\"netin\":9173064121},{\"disk\":0,\"vmid\":109,\"maxmem\":8589934592,\"netout\":6467405,\"name\":\"PgSQL-Primary\",\"diskwrite\":0,\"cpu\":0.000682733637545755,\"cpus\":4,\"uptime\":3091204,\"pid\":2483630,\"diskread\":0,\"status\":\"running\",\"mem\":871096800,\"maxdisk\":107374182400,\"netin\":349271764},{\"mem\":0,\"status\":\"stopped\",\"netin\":0,\"maxdisk\":34359738368,\"vmid\":10000,\"disk\":0,\"uptime\":0,\"diskread\":0,\"maxmem\":2147483648,\"netout\":0,\"name\":\"test-vm\",\"diskwrite\":0,\"cpus\":2,\"cpu\":0},{\"netin\":1735993742,\"maxdisk\":34359738368,\"mem\":779884758,\"status\":\"running\",\"diskread\":0,\"pid\":1822073,\"uptime\":3249608,\"cpu\":0.00223440099560429,\"cpus\":1,\"diskwrite\":0,\"name\":\"test-mfa\",\"netout\":33308020,\"maxmem\":2147483648,\"vmid\":107,\"disk\":0},{\"netin\":203308618,\"maxdisk\":107374182400,\"mem\":7183599378,\"status\":\"running\",\"diskread\":0,\"uptime\":4845713,\"pid\":3748081,\"diskwrite\":0,\"cpu\":0.000827555924297885,\"cpus\":4,\"maxmem\":8589934592,\"name\":\"PgSQL-IMX\",\"netout\":29615349,\"vmid\":104,\"disk\":0},{\"maxdisk\":107374182400,\"netin\":1041842804,\"status\":\"running\",\"mem\":2900129198,\"cpu\":0.00537911350793625,\"cpus\":4,\"diskwrite\":0,\"name\":\"PgSQL-IMX-Replicaset\",\"netout\":13756959,\"maxmem\":8589934592,\"diskread\":0,\"pid\":1998484,\"uptime\":3205312,\"disk\":0,\"vmid\":108},{\"mem\":2247025384,\"status\":\"running\",\"netin\":1096447213,\"maxdisk\":34359738368,\"vmid\":110,\"disk\":0,\"diskread\":0,\"uptime\":2768872,\"pid\":3793132,\"diskwrite\":0,\"cpu\":0.00111720049780214,\"cpus\":4,\"maxmem\":8589934592,\"name\":\"primary-test\",\"netout\":12901929},{\"mem\":0,\"status\":\"stopped\",\"netin\":0,\"maxdisk\":34359738368,\"vmid\":9999,\"disk\":0,\"uptime\":0,\"diskread\":0,\"name\":\"my-vm\",\"netout\":0,\"maxmem\":2147483648,\"cpu\":0,\"cpus\":2,\"diskwrite\":0},{\"cpus\":2,\"cpu\":0.000703422535653202,\"diskwrite\":0,\"netout\":186340193,\"name\":\"Ansible-controller\",\"maxmem\":4294967296,\"diskread\":0,\"pid\":3751193,\"uptime\":4845026,\"disk\":0,\"vmid\":106,\"maxdisk\":34359738368,\"netin\":182325702,\"status\":\"running\",\"mem\":3325767062},{\"status\":\"running\",\"mem\":1250146213,\"maxdisk\":107374182400,\"netin\":729176298,\"disk\":0,\"vmid\":102,\"netout\":295700355,\"name\":\"SurrealDB-IMX\",\"maxmem\":4294967296,\"cpus\":4,\"cpu\":0.0184751860099503,\"diskwrite\":0,\"pid\":3099455,\"uptime\":5005245,\"diskread\":0},{\"pid\":3634760,\"uptime\":7437306,\"diskread\":0,\"tags\":\"critical;poc\",\"netout\":580924145,\"name\":\"Mongo-IMX\",\"maxmem\":8489271296,\"cpus\":2,\"cpu\":0.00802729246568949,\"diskwrite\":0,\"vmid\":100,\"disk\":0,\"netin\":3952244511,\"maxdisk\":137438953472,\"mem\":5582681769,\"status\":\"running\"},{\"uptime\":3015940,\"pid\":2790383,\"diskread\":0,\"maxmem\":536870912,\"netout\":210295048,\"name\":\"test-vm\",\"diskwrite\":0,\"cpu\":0.640859307776282,\"cpus\":1,\"vmid\":1001,\"disk\":0,\"netin\":660795824,\"maxdisk\":34359738368,\"mem\":20427014,\"status\":\"running\"}]}\u001b[0m\n",
      "\n",
      "\u001b[1m> Finished chain.\u001b[0m\n"
     ]
    },
    {
     "data": {
      "text/plain": [
       "{'messages': [\"list Vms on node 'Proxmox-Node-HCM'\",\n",
       "  {'question': \"list Vms on node 'Proxmox-Node-HCM'\",\n",
       "   'output': \"Here is the list of VMs on node 'Proxmox-Node-HCM':\\n\\n1. VM 10002 (stopped)\\n2. VM 10004 (stopped)\\n3. VM 10001 (stopped)\\n4. test-vault01 (running)\\n5. NewRelic-GitLab (running)\\n6. PgSQL-Primary (running)\\n7. test-vm (stopped)\\n8. test-mfa (running)\\n9. PgSQL-IMX (running)\\n10. PgSQL-IMX-Replicaset (running)\\n11. primary-test (running)\\n12. my-vm (stopped)\\n13. Ansible-controller (running)\\n14. SurrealDB-IMX (running)\\n15. Mongo-IMX (running)\\n16. test-vm (running)\"}],\n",
       " 'team_members': ['Proxmox-Node-HCM', 'ns31212248'],\n",
       " 'next': 'Proxmox-Node-HCM'}"
      ]
     },
     "execution_count": 35,
     "metadata": {},
     "output_type": "execute_result"
    }
   ],
   "source": [
    "chain.invoke({\n",
    "            \"messages\": [\"list Vms on node 'Proxmox-Node-HCM'\"],\n",
    "            \"next\": None,\n",
    "            \"team_members\": []\n",
    "        }, config={\"callbacks\": [langfuse_handler]})"
   ]
  },
  {
   "cell_type": "code",
   "execution_count": null,
   "metadata": {},
   "outputs": [],
   "source": []
  }
 ],
 "metadata": {
  "kernelspec": {
   "display_name": "Python 3",
   "language": "python",
   "name": "python3"
  },
  "language_info": {
   "codemirror_mode": {
    "name": "ipython",
    "version": 3
   },
   "file_extension": ".py",
   "mimetype": "text/x-python",
   "name": "python",
   "nbconvert_exporter": "python",
   "pygments_lexer": "ipython3",
   "version": "3.12.3"
  }
 },
 "nbformat": 4,
 "nbformat_minor": 2
}
