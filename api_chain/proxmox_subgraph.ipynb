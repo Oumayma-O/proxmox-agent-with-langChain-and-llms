{
 "cells": [
  {
   "cell_type": "markdown",
   "metadata": {},
   "source": [
    "# Setup"
   ]
  },
  {
   "cell_type": "code",
   "execution_count": 1,
   "metadata": {},
   "outputs": [
    {
     "name": "stderr",
     "output_type": "stream",
     "text": [
      "C:\\Users\\oumay\\AppData\\Local\\Temp\\ipykernel_17444\\2933137633.py:13: TqdmExperimentalWarning: Using `tqdm.autonotebook.tqdm` in notebook mode. Use `tqdm.tqdm` instead to force console mode (e.g. in jupyter console)\n",
      "  from tqdm.autonotebook import tqdm, trange\n"
     ]
    }
   ],
   "source": [
    "from proxmox.docs import _proxmox_api_docs\n",
    "from proxmox.base import ProxmoxAPIChain\n",
    "from langchain.text_splitter import RecursiveJsonSplitter\n",
    "from langchain_community.embeddings.sentence_transformer import SentenceTransformerEmbeddings\n",
    "from langchain.retrievers import ContextualCompressionRetriever\n",
    "from langchain_community.cross_encoders import HuggingFaceCrossEncoder\n",
    "from langchain.retrievers.document_compressors import CrossEncoderReranker\n",
    "from langchain_community.vectorstores.surrealdb import SurrealDBStore\n",
    "from langchain_huggingface import HuggingFaceEmbeddings\n",
    "import nest_asyncio\n",
    "import os\n",
    "from dotenv import load_dotenv\n",
    "from tqdm.autonotebook import tqdm, trange\n",
    "from langchain_core.output_parsers import JsonOutputParser\n",
    "from langchain.prompts import PromptTemplate\n",
    "from langchain_ollama import ChatOllama\n",
    "from langgraph.graph import END, StateGraph, START\n",
    "from IPython.display import Image, display\n",
    "from langfuse.callback import CallbackHandler\n",
    "from langchain_core.messages import BaseMessage\n",
    "from typing import List, TypedDict"
   ]
  },
  {
   "cell_type": "code",
   "execution_count": 2,
   "metadata": {},
   "outputs": [
    {
     "data": {
      "text/plain": [
       "True"
      ]
     },
     "execution_count": 2,
     "metadata": {},
     "output_type": "execute_result"
    }
   ],
   "source": [
    "load_dotenv()"
   ]
  },
  {
   "cell_type": "code",
   "execution_count": 3,
   "metadata": {},
   "outputs": [
    {
     "name": "stdout",
     "output_type": "stream",
     "text": [
      "Name: Proxmox-Node-HCM\n",
      "Base URL: https://ns31418912.ip-54-38-37.eu:8006/\n",
      "Token: PVEAPIToken=oumaima@pve!oumaima-token=0cb7eac1-8c3b-4c9c-beec-bf9e35580ccd\n",
      "\n",
      "Token: UFZFQVBJVG9rZW49b3VtYWltYUBwdmUhb3VtYWltYS10b2tlbj0wY2I3ZWFjMS04YzNiLTRjOWMtYmVlYy1iZjllMzU1ODBjY2Q=\n",
      "\n",
      "Name: ns31212248\n",
      "Base URL: https://ns31212248.ip-51-178-74.eu:8006/\n",
      "Token: PVEAPIToken=oumaima@pve!imx-node5=c3105871-267f-43e5-95dd-663f734745f2\n",
      "\n",
      "Token: UFZFQVBJVG9rZW49b3VtYWltYUBwdmUhaW14LW5vZGU1PWMzMTA1ODcxLTI2N2YtNDNlNS05NWRkLTY2M2Y3MzQ3NDVmMg==\n",
      "\n"
     ]
    }
   ],
   "source": [
    "import yaml\n",
    "import os \n",
    "import base64\n",
    "\n",
    "# Load the YAML file\n",
    "with open(r'proxmox\\tokens.yaml', 'r') as file:\n",
    "    proxmox_nodes = yaml.safe_load(file)\n",
    "\n",
    "# Access the dictionary\n",
    "for node in proxmox_nodes :\n",
    "    print(f\"Name: {node['name']}\")\n",
    "    print(f\"Base URL: {node['base_url']}\")\n",
    "    decoded_token = base64.b64decode(os.getenv(node['token'])).decode('utf-8')\n",
    "    print(f\"Token: {decoded_token}\\n\")\n",
    "    print(f\"Token: {os.getenv(node['token'])}\\n\")\n"
   ]
  },
  {
   "cell_type": "code",
   "execution_count": 4,
   "metadata": {},
   "outputs": [
    {
     "name": "stdout",
     "output_type": "stream",
     "text": [
      "c:\\Users\\oumay\\.vscode\\agent-scripts\\api_chain\n"
     ]
    }
   ],
   "source": [
    "import os\n",
    "print(os.getcwd())\n"
   ]
  },
  {
   "cell_type": "code",
   "execution_count": 5,
   "metadata": {},
   "outputs": [],
   "source": [
    "surrealdb_url = os.getenv('SURREALDB_URL')\n",
    "surrealdb_user = os.getenv('SURREALDB_USER')\n",
    "surrealdb_password = os.getenv('SURREALDB_PWD')"
   ]
  },
  {
   "cell_type": "code",
   "execution_count": 6,
   "metadata": {},
   "outputs": [],
   "source": [
    "splitter = RecursiveJsonSplitter(max_chunk_size=4000)\n",
    "docs = splitter.create_documents(_proxmox_api_docs)"
   ]
  },
  {
   "cell_type": "code",
   "execution_count": 7,
   "metadata": {},
   "outputs": [
    {
     "name": "stderr",
     "output_type": "stream",
     "text": [
      "c:\\Users\\oumay\\.vscode\\agent-scripts\\venv\\Lib\\site-packages\\xformers\\ops\\fmha\\flash.py:211: FutureWarning: `torch.library.impl_abstract` was renamed to `torch.library.register_fake`. Please use that instead; we will remove `torch.library.impl_abstract` in a future version of PyTorch.\n",
      "  @torch.library.impl_abstract(\"xformers_flash::flash_fwd\")\n",
      "c:\\Users\\oumay\\.vscode\\agent-scripts\\venv\\Lib\\site-packages\\xformers\\ops\\fmha\\flash.py:344: FutureWarning: `torch.library.impl_abstract` was renamed to `torch.library.register_fake`. Please use that instead; we will remove `torch.library.impl_abstract` in a future version of PyTorch.\n",
      "  @torch.library.impl_abstract(\"xformers_flash::flash_bwd\")\n",
      "Some weights of the model checkpoint at infgrad/stella_en_400M_v5 were not used when initializing NewModel: ['new.pooler.dense.bias', 'new.pooler.dense.weight']\n",
      "- This IS expected if you are initializing NewModel from the checkpoint of a model trained on another task or with another architecture (e.g. initializing a BertForSequenceClassification model from a BertForPreTraining model).\n",
      "- This IS NOT expected if you are initializing NewModel from the checkpoint of a model that you expect to be exactly identical (initializing a BertForSequenceClassification model from a BertForSequenceClassification model).\n"
     ]
    }
   ],
   "source": [
    "# Initialize the SentenceTransformerEmbeddings with trust_remote_code=True\n",
    "ef = HuggingFaceEmbeddings(\n",
    "    model_name=\"infgrad/stella_en_400M_v5\",\n",
    "    model_kwargs={\n",
    "        \"trust_remote_code\": True,\n",
    "    }\n",
    ")"
   ]
  },
  {
   "cell_type": "code",
   "execution_count": 8,
   "metadata": {},
   "outputs": [],
   "source": [
    "nest_asyncio.apply()\n",
    "\n",
    "# SurrealDB connection parameters\n",
    "dburl = \"ws://localhost:8000/rpc\"\n",
    "ns = \"langchain\"\n",
    "db_name = \"proxmox_api_docs\"\n",
    "collection = \"proxmox_collection\"\n",
    "db_user = surrealdb_user\n",
    "db_pass = surrealdb_password\n",
    "\n",
    "# Initialize the SurrealDBStore with documents\n",
    "db = SurrealDBStore(\n",
    "    embedding_function=ef,\n",
    "    dburl=dburl,\n",
    "    ns=ns,\n",
    "    db=db_name,\n",
    "    collection=collection,\n",
    "    db_user=db_user,\n",
    "    db_pass=db_pass\n",
    ")\n",
    "\n",
    "\n",
    "# this is needed to initialize the underlying async library for SurrealDB\n",
    "await db.initialize()\n",
    "\n",
    "# delete collection from the vectorstore collection if it exists \n",
    "await db.adelete(collection = collection)\n",
    "\n",
    "# add documents to the vectorstore\n",
    "ids = await db.aadd_documents(docs)\n",
    "\n",
    "retriever = db.as_retriever(search_type=\"similarity\", search_kwargs={\"k\": 3})\n",
    "\n",
    "# Initialize the cross-encoder model\n",
    "#cross_encoder_model = HuggingFaceCrossEncoder(model_name=\"BAAI/bge-reranker-base\")\n",
    "cross_encoder_model = HuggingFaceCrossEncoder(model_name=\"cross-encoder/ms-marco-MiniLM-L-6-v2\")\n",
    "compressor = CrossEncoderReranker(model=cross_encoder_model, top_n=3)\n",
    "compression_retriever = ContextualCompressionRetriever(\n",
    "    base_compressor=compressor, base_retriever=retriever\n",
    ")"
   ]
  },
  {
   "cell_type": "markdown",
   "metadata": {},
   "source": [
    "# Team approach"
   ]
  },
  {
   "cell_type": "code",
   "execution_count": null,
   "metadata": {},
   "outputs": [],
   "source": [
    "workers = [node[\"name\"] for node in proxmox_nodes]\n",
    "\n",
    "prompt = PromptTemplate(\n",
    "    template=(\"\"\"\n",
    "    You are a supervisor tasked with routing a query to one of the following workers: {workers}. \n",
    "    Given the following user request, respond with the worker to act next. Each worker will perform a task \n",
    "    and respond with their results and status. The worker output will be returned to the user. \n",
    "    The options for workers are {workers}. Return 'end' if the request isn't related to any of the given workers.\n",
    "\n",
    "    User request: {question}\n",
    "\n",
    "    Respond in JSON format with a single key \"next\" which holds the worker name.\n",
    "\n",
    "    next :\n",
    "    \"\"\"),\n",
    "    input_variables=[\"question\"],\n",
    "    partial_variables={\"workers\": workers}\n",
    ")\n",
    "\n",
    "# Initialize the LLM\n",
    "llm_sup = ChatOllama(model=\"phi3\", temperature=0, format=\"json\")\n",
    "#llm_sup = ChatOllama(model=\"llama3.1\", temperature=0, format=\"json\")\n",
    "\n",
    "\n",
    "# Combine prompt and LLM with JsonOutputParser\n",
    "sup_chain = prompt | llm_sup | JsonOutputParser()\n"
   ]
  },
  {
   "cell_type": "code",
   "execution_count": null,
   "metadata": {},
   "outputs": [],
   "source": [
    "sup_chain.invoke({\n",
    "    \"question\": \"How many Vms on node Proxmox-Node-HCM\",\n",
    "})"
   ]
  },
  {
   "cell_type": "code",
   "execution_count": null,
   "metadata": {},
   "outputs": [],
   "source": [
    "class ProxmoxTeamState(TypedDict):\n",
    "    messages: List[BaseMessage]\n",
    "    team_members: List[str]\n",
    "    next: str"
   ]
  },
  {
   "cell_type": "code",
   "execution_count": null,
   "metadata": {},
   "outputs": [],
   "source": [
    "def supervisor(state: ProxmoxTeamState) -> ProxmoxTeamState:\n",
    "    print(f\"processing_request: Current state: {state}\")\n",
    "    question = state[\"messages\"][0]\n",
    "    result = sup_chain.invoke({\"question\": question})\n",
    "    state[\"next\"] = result[\"next\"]\n",
    "    state[\"team_members\"] = [node[\"name\"] for node in proxmox_nodes]\n",
    "    return state"
   ]
  },
  {
   "cell_type": "code",
   "execution_count": null,
   "metadata": {},
   "outputs": [],
   "source": [
    "initial_state = {\n",
    "            \"messages\": [\"list Vms on node 'Proxmox-Node-HCM'\"],\n",
    "            \"next\": None,\n",
    "            \"team_members\": []\n",
    "        }\n",
    "supervisor(initial_state)"
   ]
  },
  {
   "cell_type": "code",
   "execution_count": 12,
   "metadata": {},
   "outputs": [],
   "source": [
    "from langchain_google_genai import ChatGoogleGenerativeAI\n",
    "\n",
    "# Initialize the llm with the new model\n",
    "llm = ChatGoogleGenerativeAI(model=\"gemini-1.5-flash-latest\", temperature=0)"
   ]
  },
  {
   "cell_type": "code",
   "execution_count": 9,
   "metadata": {},
   "outputs": [],
   "source": [
    "from langchain_community.llms import Ollama\n",
    "from typing import Dict, Any\n",
    "\n",
    "# Initialize the LLM\n",
    "#llm = ChatOllama(model=\"llama3.1\", temperature=0, format=\"json\")\n",
    "llm_kwargs: Dict[str, Any] = {\n",
    "    \"model\": \"llama3:instruct\",\n",
    "    \"temperature\": 0,\n",
    "    \"num_ctx\": 4096, \n",
    "    \"format\":\"json\"\n",
    "}\n",
    "\n",
    "llm = Ollama(**llm_kwargs)"
   ]
  },
  {
   "cell_type": "code",
   "execution_count": 13,
   "metadata": {},
   "outputs": [
    {
     "name": "stdout",
     "output_type": "stream",
     "text": [
      "https://ns31418912.ip-54-38-37.eu:8006/\n",
      "https://ns31212248.ip-51-178-74.eu:8006/\n"
     ]
    }
   ],
   "source": [
    "agents = {}\n",
    "\n",
    "for node in proxmox_nodes:\n",
    "    print(node['base_url'])\n",
    "    decoded_token=base64.b64decode(os.getenv(node['token'])).decode('utf-8')\n",
    "    chain = ProxmoxAPIChain.from_llm_and_api_docs(\n",
    "        llm,\n",
    "        retriever=compression_retriever,\n",
    "        headers={\"Authorization\": decoded_token},\n",
    "        pve_token=decoded_token,\n",
    "        verbose=True,\n",
    "        limit_to_domains=[node[\"base_url\"]],\n",
    "        base_url=node[\"base_url\"],\n",
    "    )\n",
    "    agents[node[\"name\"]] = chain"
   ]
  },
  {
   "cell_type": "code",
   "execution_count": 14,
   "metadata": {},
   "outputs": [
    {
     "name": "stdout",
     "output_type": "stream",
     "text": [
      "\n",
      "\n",
      "\u001b[1m> Entering new ProxmoxAPIChain chain...\u001b[0m\n",
      "Retrieved Document 0: {\"endpoint\": \"/api2/json/nodes/{node}/qemu\", \"method\": \"get\", \"summary\": \"List Virtual machines (VMs) on a Node\", \"parameters\": [{\"name\": \"node\", \"in\": \"path\", \"required\": true, \"description\": \"Node ID where VMs are located\", \"schema\": {\"type\": \"string\"}}]}\n",
      "Retrieved Document 1: {\"endpoint\": \"/api2/json/nodes/{node}/qemu/{vmid}/config\", \"method\": \"get\", \"summary\": \"Get Virtual machine/Vm Configuration (config file)\", \"parameters\": [{\"name\": \"node\", \"in\": \"path\", \"required\": true, \"description\": \"Node ID where the VM is located\", \"schema\": {\"type\": \"string\"}}, {\"name\": \"vmid\", \"in\": \"path\", \"required\": true, \"description\": \"ID of the VM\", \"schema\": {\"type\": \"integer\"}}, {\"name\": \"current\", \"in\": \"query\", \"required\": false, \"description\": \"Get current values instead of pending values\", \"schema\": {\"type\": \"boolean\"}}]}\n",
      "Retrieved Document 2: {\"endpoint\": \"/api2/json/nodes/{node}/lxc\", \"methods\": \"get\", \"summary\": \"List LXC Containers on a Node\", \"description\": \"List all containers available on a node\", \"parameters\": [{\"name\": \"node\", \"in\": \"path\", \"required\": true, \"description\": \"Node ID where LXC containers are located\", \"schema\": {\"type\": \"string\"}}]}\n",
      "Request info: {\n",
      "    \"api_url\": \"https://ns31418912.ip-54-38-37.eu:8006/api2/json/nodes/Proxmox-Node-HCM/qemu\",\n",
      "    \"request_method\": \"get\",\n",
      "    \"request_body\": {}\n",
      "}\n",
      "\n",
      "Request info: {\n",
      "    \"api_url\": \"https://ns31418912.ip-54-38-37.eu:8006/api2/json/nodes/Proxmox-Node-HCM/qemu\",\n",
      "    \"request_method\": \"get\",\n",
      "    \"request_body\": {}\n",
      "}\n",
      "API URL: https://ns31418912.ip-54-38-37.eu:8006/api2/json/nodes/Proxmox-Node-HCM/qemu\n",
      "Request method: GET\n",
      "Request body: {}\n",
      "\u001b[38;5;200m\u001b[1;3mStatus: 200 OK\n",
      "Response: {\"data\":[{\"maxdisk\":34359738368,\"netin\":181515980,\"status\":\"running\",\"mem\":3326067611,\"maxmem\":4294967296,\"netout\":177430670,\"name\":\"Ansible-controller\",\"diskwrite\":0,\"cpus\":2,\"cpu\":0.00110605745185131,\"uptime\":4681742,\"pid\":3751193,\"diskread\":0,\"disk\":0,\"vmid\":106},{\"netin\":623846910,\"maxdisk\":107374182400,\"mem\":1256438558,\"status\":\"running\",\"diskread\":0,\"uptime\":4841961,\"pid\":3099455,\"diskwrite\":0,\"cpus\":4,\"cpu\":0.0170646438080662,\"maxmem\":4294967296,\"name\":\"SurrealDB-IMX\",\"netout\":222463471,\"vmid\":102,\"disk\":0},{\"mem\":4371147840,\"status\":\"running\",\"netin\":3523262223,\"maxdisk\":137438953472,\"vmid\":100,\"disk\":0,\"uptime\":7274022,\"pid\":3634760,\"tags\":\"critical;poc\",\"diskread\":0,\"maxmem\":8489271296,\"name\":\"Mongo-IMX\",\"netout\":566676938,\"diskwrite\":0,\"cpu\":0.00756919152822708,\"cpus\":2},{\"uptime\":2852656,\"pid\":2790383,\"diskread\":0,\"maxmem\":536870912,\"name\":\"test-vm\",\"netout\":198910022,\"diskwrite\":0,\"cpu\":0.616226833594178,\"cpus\":1,\"vmid\":1001,\"disk\":0,\"netin\":624010725,\"maxdisk\":34359738368,\"mem\":20296496,\"status\":\"running\"},{\"diskread\":0,\"pid\":3793132,\"uptime\":2605588,\"cpu\":0.00341919646332427,\"cpus\":4,\"diskwrite\":0,\"name\":\"primary-test\",\"netout\":11484061,\"maxmem\":8589934592,\"vmid\":110,\"disk\":0,\"netin\":1039067866,\"maxdisk\":34359738368,\"mem\":2306035890,\"status\":\"running\"},{\"vmid\":9999,\"disk\":0,\"diskread\":0,\"uptime\":0,\"diskwrite\":0,\"cpu\":0,\"cpus\":2,\"maxmem\":2147483648,\"netout\":0,\"name\":\"my-vm\",\"mem\":0,\"status\":\"stopped\",\"netin\":0,\"maxdisk\":34359738368},{\"mem\":7183599378,\"status\":\"running\",\"netin\":202909702,\"maxdisk\":107374182400,\"vmid\":104,\"disk\":0,\"diskread\":0,\"pid\":3748081,\"uptime\":4682429,\"cpus\":4,\"cpu\":0.000763598517168586,\"diskwrite\":0,\"name\":\"PgSQL-IMX\",\"netout\":29297533,\"maxmem\":8589934592},{\"maxdisk\":107374182400,\"netin\":980279359,\"status\":\"running\",\"mem\":2898341571,\"name\":\"PgSQL-IMX-Replicaset\",\"netout\":12274133,\"maxmem\":8589934592,\"cpus\":4,\"cpu\":0.00543236098537207,\"diskwrite\":0,\"pid\":1998484,\"uptime\":3042028,\"diskread\":0,\"disk\":0,\"vmid\":108},{\"status\":\"running\",\"mem\":775787460,\"maxdisk\":34359738368,\"netin\":1565778037,\"disk\":0,\"vmid\":107,\"netout\":30033687,\"name\":\"test-mfa\",\"maxmem\":2147483648,\"cpus\":1,\"cpu\":0.0023049467471538,\"diskwrite\":0,\"pid\":1822073,\"uptime\":3086324,\"diskread\":0},{\"uptime\":0,\"diskread\":0,\"name\":\"VM 10001\",\"netout\":0,\"maxmem\":536870912,\"cpu\":0,\"cpus\":1,\"diskwrite\":0,\"vmid\":10001,\"disk\":0,\"netin\":0,\"maxdisk\":0,\"mem\":0,\"status\":\"stopped\"},{\"disk\":0,\"vmid\":101,\"cpu\":0.0131560835700758,\"cpus\":2,\"diskwrite\":0,\"name\":\"test-vault01\",\"netout\":686040601,\"maxmem\":8589934592,\"diskread\":0,\"pid\":1787620,\"uptime\":6731194,\"status\":\"running\",\"mem\":3554098704,\"maxdisk\":107374182400,\"netin\":1842177756},{\"vmid\":2000,\"disk\":0,\"diskread\":0,\"uptime\":5352965,\"pid\":1003406,\"diskwrite\":0,\"cpus\":2,\"cpu\":0.00199362044289678,\"maxmem\":2147483648,\"name\":\"NewRelic-GitLab\",\"netout\":2616039231,\"mem\":1332491778,\"status\":\"running\",\"netin\":9088026827,\"maxdisk\":34359738368},{\"netin\":300660635,\"maxdisk\":107374182400,\"mem\":872819011,\"status\":\"running\",\"pid\":2483630,\"uptime\":2927920,\"diskread\":0,\"name\":\"PgSQL-Primary\",\"netout\":5642180,\"maxmem\":8589934592,\"cpus\":4,\"cpu\":0.000684068797626565,\"diskwrite\":0,\"vmid\":109,\"disk\":0},{\"maxdisk\":0,\"netin\":0,\"status\":\"stopped\",\"mem\":0,\"diskwrite\":0,\"cpus\":1,\"cpu\":0,\"maxmem\":536870912,\"name\":\"VM 10002\",\"netout\":0,\"diskread\":0,\"uptime\":0,\"disk\":0,\"vmid\":10002},{\"mem\":0,\"status\":\"stopped\",\"netin\":0,\"maxdisk\":0,\"vmid\":10004,\"disk\":0,\"diskread\":0,\"uptime\":0,\"diskwrite\":0,\"cpu\":0,\"cpus\":1,\"maxmem\":536870912,\"netout\":0,\"name\":\"VM 10004\"}]}\u001b[0m\n",
      "\n",
      "\u001b[1m> Finished chain.\u001b[0m\n",
      "{'question': \"list Vms on node 'Proxmox-Node-HCM'\", 'output': 'The virtual machines running on the Proxmox-Node-HCM node are: Ansible-controller, SurrealDB-IMX, Mongo-IMX, test-vm, primary-test, my-vm, PgSQL-IMX, PgSQL-IMX-Replicaset, test-mfa, VM 10001, test-vault01, NewRelic-GitLab, PgSQL-Primary, VM 10002, and VM 10004. \\n'}\n"
     ]
    }
   ],
   "source": [
    "result = agents[\"Proxmox-Node-HCM\"].invoke((\"list Vms on node 'Proxmox-Node-HCM'\"))\n",
    "print(result)"
   ]
  },
  {
   "cell_type": "code",
   "execution_count": null,
   "metadata": {},
   "outputs": [],
   "source": [
    "def Worker_node(state: ProxmoxTeamState, node_name: str) -> ProxmoxTeamState:\n",
    "    print(f\"{state['next']} / {node_name}\")\n",
    "    question = state[\"messages\"][0]\n",
    "    result = agents[node_name].invoke(input=question)\n",
    "    state[\"messages\"].append(result)\n",
    "    return state"
   ]
  },
  {
   "cell_type": "code",
   "execution_count": null,
   "metadata": {},
   "outputs": [],
   "source": [
    "state = {\n",
    "    \"next\": \"Proxmox-Node-HCM\",\n",
    "    \"messages\": [\"How many Vms on node Proxmox-Node-HCM?\"]\n",
    "}\n",
    "\n",
    "new_state = Worker_node(state, \"Proxmox-Node-HCM\")\n",
    "print(new_state)  "
   ]
  },
  {
   "cell_type": "code",
   "execution_count": null,
   "metadata": {},
   "outputs": [],
   "source": [
    "def proxmox_router(state: ProxmoxTeamState) :\n",
    "    next_worker = state[\"next\"]\n",
    "    print(f\"proxmox_router: Current state: {state}\")\n",
    "    if next_worker in [node[\"name\"] for node in proxmox_nodes]:\n",
    "        return next_worker\n",
    "    return \"end\""
   ]
  },
  {
   "cell_type": "code",
   "execution_count": null,
   "metadata": {},
   "outputs": [],
   "source": [
    "state = {\"next\": \"Proxmox-Node-HCM\"}\n",
    "result = proxmox_router(state)\n",
    "print(result) "
   ]
  },
  {
   "cell_type": "code",
   "execution_count": null,
   "metadata": {},
   "outputs": [],
   "source": [
    "proxmox_graph = StateGraph(ProxmoxTeamState)\n",
    "\n",
    "for node in proxmox_nodes:\n",
    "    proxmox_graph.add_node(node[\"name\"], lambda state, node_name=node[\"name\"]: Worker_node(state, node_name))\n",
    "    proxmox_graph.add_edge(node[\"name\"], END)\n",
    "\n",
    "proxmox_graph.add_node(\"supervisor\", supervisor)\n",
    "\n",
    "node_edges = {node[\"name\"]: node[\"name\"] for node in proxmox_nodes}\n",
    "\n",
    "# Add the \"end\" key-value pair to the dictionary\n",
    "node_edges[\"end\"] = END\n",
    "\n",
    "proxmox_graph.add_conditional_edges(\n",
    "    \"supervisor\",\n",
    "    proxmox_router,\n",
    "    node_edges,\n",
    ")\n",
    "\n",
    "proxmox_graph.add_edge(START, \"supervisor\")\n",
    "chain = proxmox_graph.compile()"
   ]
  },
  {
   "cell_type": "code",
   "execution_count": null,
   "metadata": {},
   "outputs": [],
   "source": [
    "display(Image(chain.get_graph(xray=True).draw_mermaid_png()))"
   ]
  },
  {
   "cell_type": "code",
   "execution_count": null,
   "metadata": {},
   "outputs": [],
   "source": [
    "langfuse_handler = CallbackHandler(\n",
    "    public_key=os.getenv('LANGFUSE_PUBLIC_KEY'),\n",
    "    secret_key=os.getenv('LANGFUSE_SECRET_KEY'),\n",
    "    host=os.getenv('LANGFUSE_HOST'),\n",
    ")"
   ]
  },
  {
   "cell_type": "code",
   "execution_count": null,
   "metadata": {},
   "outputs": [],
   "source": [
    "chain.invoke({\n",
    "            \"messages\": [\"list Vms on node 'Proxmox-Node-HCM'\"],\n",
    "            \"next\": None,\n",
    "            \"team_members\": []\n",
    "        }, config={\"callbacks\": [langfuse_handler]})"
   ]
  },
  {
   "cell_type": "code",
   "execution_count": null,
   "metadata": {},
   "outputs": [],
   "source": []
  }
 ],
 "metadata": {
  "kernelspec": {
   "display_name": "Python 3",
   "language": "python",
   "name": "python3"
  },
  "language_info": {
   "codemirror_mode": {
    "name": "ipython",
    "version": 3
   },
   "file_extension": ".py",
   "mimetype": "text/x-python",
   "name": "python",
   "nbconvert_exporter": "python",
   "pygments_lexer": "ipython3",
   "version": "3.12.3"
  }
 },
 "nbformat": 4,
 "nbformat_minor": 2
}
