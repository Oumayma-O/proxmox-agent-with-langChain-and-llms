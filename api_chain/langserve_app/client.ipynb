{
 "cells": [
  {
   "cell_type": "code",
   "execution_count": 3,
   "metadata": {},
   "outputs": [
    {
     "name": "stdout",
     "output_type": "stream",
     "text": [
      "Success: {'output': 'The virtual machines running on the Proxmox-Node-HCM node are: Mongo-IMX, test-vm, SurrealDB-IMX, Ansible-controller, PgSQL-IMX-Replicaset, PgSQL-IMX, primary-test, my-vm, MLFlow, test-mfa, test-slave, VM 10004, VM 10002, MLFlow-Artifact-SFTP, PgSQL-Primary, NewRelic-GitLab, test-vault01, test-vm-2020, and VM 10001. \\n', 'metadata': {'run_id': 'b34df3b1-0e6a-4e7a-b06c-113ac2410fab', 'feedback_tokens': []}}\n"
     ]
    }
   ],
   "source": [
    "import requests\n",
    "import json\n",
    "\n",
    "inputs = {\"input\": \"list Vms on node 'Proxmox-Node-HCM'\"}\n",
    "response = requests.post(\"http://localhost:6001/invoke\", json=inputs)\n",
    "\n",
    "if response.status_code == 200:\n",
    "    print(\"Success:\", response.json())\n",
    "else:\n",
    "    print(f\"Error {response.status_code}: {response.text}\")"
   ]
  },
  {
   "cell_type": "code",
   "execution_count": 2,
   "metadata": {},
   "outputs": [
    {
     "name": "stdout",
     "output_type": "stream",
     "text": [
      "An error occurred: [WinError 10061] Aucune connexion n’a pu être établie car l’ordinateur cible l’a expressément refusée\n"
     ]
    }
   ],
   "source": [
    "from langserve import RemoteRunnable\n",
    "\n",
    "input_data = {\"input\": \"list Vms on node 'Proxmox-Node-HCM'\"}\n",
    "\n",
    "chain = RemoteRunnable(\"http://localhost:6001/pve\")\n",
    "\n",
    "try:\n",
    "    for chunk in chain.stream(input_data):\n",
    "        print(chunk)\n",
    "except Exception as e:\n",
    "    print(f\"An error occurred: {e}\")"
   ]
  },
  {
   "cell_type": "code",
   "execution_count": null,
   "metadata": {},
   "outputs": [],
   "source": []
  }
 ],
 "metadata": {
  "kernelspec": {
   "display_name": "venv",
   "language": "python",
   "name": "python3"
  },
  "language_info": {
   "codemirror_mode": {
    "name": "ipython",
    "version": 3
   },
   "file_extension": ".py",
   "mimetype": "text/x-python",
   "name": "python",
   "nbconvert_exporter": "python",
   "pygments_lexer": "ipython3",
   "version": "3.12.3"
  }
 },
 "nbformat": 4,
 "nbformat_minor": 2
}
