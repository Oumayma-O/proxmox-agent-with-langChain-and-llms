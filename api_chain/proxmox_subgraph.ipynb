{
 "cells": [
  {
   "cell_type": "markdown",
   "metadata": {},
   "source": [
    "# Setup"
   ]
  },
  {
   "cell_type": "code",
   "execution_count": 1,
   "metadata": {},
   "outputs": [
    {
     "name": "stderr",
     "output_type": "stream",
     "text": [
      "C:\\Users\\oumay\\AppData\\Local\\Temp\\ipykernel_23436\\2427049697.py:13: TqdmExperimentalWarning: Using `tqdm.autonotebook.tqdm` in notebook mode. Use `tqdm.tqdm` instead to force console mode (e.g. in jupyter console)\n",
      "  from tqdm.autonotebook import tqdm, trange\n"
     ]
    }
   ],
   "source": [
    "from langserve_app.proxmox.docs import _proxmox_api_docs\n",
    "from langserve_app.proxmox.base import ProxmoxAPIChain\n",
    "from langchain.text_splitter import RecursiveJsonSplitter\n",
    "from langchain_community.embeddings.sentence_transformer import SentenceTransformerEmbeddings\n",
    "from langchain.retrievers import ContextualCompressionRetriever\n",
    "from langchain_community.cross_encoders import HuggingFaceCrossEncoder\n",
    "from langchain.retrievers.document_compressors import CrossEncoderReranker\n",
    "from langchain_community.vectorstores.surrealdb import SurrealDBStore\n",
    "from langchain_huggingface import HuggingFaceEmbeddings\n",
    "import nest_asyncio\n",
    "import os\n",
    "from dotenv import load_dotenv\n",
    "from tqdm.autonotebook import tqdm, trange\n",
    "from langchain_core.output_parsers import JsonOutputParser\n",
    "from langchain.prompts import PromptTemplate\n",
    "from langchain_ollama import ChatOllama\n",
    "from langgraph.graph import END, StateGraph, START\n",
    "from IPython.display import Image, display\n",
    "from langfuse.callback import CallbackHandler\n",
    "from langchain_core.messages import BaseMessage\n",
    "from typing import List, TypedDict\n",
    "import yaml\n",
    "import base64"
   ]
  },
  {
   "cell_type": "code",
   "execution_count": 9,
   "metadata": {},
   "outputs": [
    {
     "data": {
      "text/plain": [
       "True"
      ]
     },
     "execution_count": 9,
     "metadata": {},
     "output_type": "execute_result"
    }
   ],
   "source": [
    "load_dotenv()"
   ]
  },
  {
   "cell_type": "code",
   "execution_count": 10,
   "metadata": {},
   "outputs": [
    {
     "data": {
      "text/plain": [
       "'for node in proxmox_nodes :\\n    print(f\"Name: {node[\\'name\\']}\")\\n    print(f\"Base URL: {node[\\'base_url\\']}\")\\n    decoded_token = base64.b64decode(os.getenv(node[\\'token\\'])).decode(\\'utf-8\\')\\n    print(f\"Token: {decoded_token}\\n\")\\n    print(f\"Token: {os.getenv(node[\\'token\\'])}\\n\")'"
      ]
     },
     "execution_count": 10,
     "metadata": {},
     "output_type": "execute_result"
    }
   ],
   "source": [
    "# Load the YAML file\n",
    "with open(r'proxmox\\tokens.yaml', 'r') as file:\n",
    "    proxmox_nodes = yaml.safe_load(file)\n",
    "\n",
    "# Access the dictionary\n",
    "\"\"\"for node in proxmox_nodes :\n",
    "    print(f\"Name: {node['name']}\")\n",
    "    print(f\"Base URL: {node['base_url']}\")\n",
    "    decoded_token = base64.b64decode(os.getenv(node['token'])).decode('utf-8')\n",
    "    print(f\"Token: {decoded_token}\\n\")\n",
    "    print(f\"Token: {os.getenv(node['token'])}\\n\")\"\"\"\n"
   ]
  },
  {
   "cell_type": "code",
   "execution_count": 11,
   "metadata": {},
   "outputs": [],
   "source": [
    "surrealdb_url = os.getenv('SURREALDB_URL')\n",
    "surrealdb_user = os.getenv('SURREALDB_USER')\n",
    "surrealdb_password = os.getenv('SURREALDB_PWD')"
   ]
  },
  {
   "cell_type": "code",
   "execution_count": 12,
   "metadata": {},
   "outputs": [],
   "source": [
    "splitter = RecursiveJsonSplitter(max_chunk_size=4000)\n",
    "docs = splitter.create_documents(_proxmox_api_docs)"
   ]
  },
  {
   "cell_type": "code",
   "execution_count": 13,
   "metadata": {},
   "outputs": [
    {
     "name": "stderr",
     "output_type": "stream",
     "text": [
      "Some weights of the model checkpoint at infgrad/stella_en_400M_v5 were not used when initializing NewModel: ['new.pooler.dense.bias', 'new.pooler.dense.weight']\n",
      "- This IS expected if you are initializing NewModel from the checkpoint of a model trained on another task or with another architecture (e.g. initializing a BertForSequenceClassification model from a BertForPreTraining model).\n",
      "- This IS NOT expected if you are initializing NewModel from the checkpoint of a model that you expect to be exactly identical (initializing a BertForSequenceClassification model from a BertForSequenceClassification model).\n"
     ]
    }
   ],
   "source": [
    "# Initialize the SentenceTransformerEmbeddings with trust_remote_code=True\n",
    "ef = HuggingFaceEmbeddings(\n",
    "    model_name=\"infgrad/stella_en_400M_v5\",\n",
    "    model_kwargs={\n",
    "        \"trust_remote_code\": True,\n",
    "    }\n",
    ")"
   ]
  },
  {
   "cell_type": "code",
   "execution_count": 14,
   "metadata": {},
   "outputs": [],
   "source": [
    "nest_asyncio.apply()\n",
    "\n",
    "# SurrealDB connection parameters\n",
    "dburl = \"ws://localhost:8000/rpc\"\n",
    "ns = \"langchain\"\n",
    "db_name = \"proxmox_api_docs\"\n",
    "collection = \"proxmox_collection\"\n",
    "db_user = surrealdb_user\n",
    "db_pass = surrealdb_password\n",
    "\n",
    "# Initialize the SurrealDBStore with documents\n",
    "db = SurrealDBStore(\n",
    "    embedding_function=ef,\n",
    "    dburl=dburl,\n",
    "    ns=ns,\n",
    "    db=db_name,\n",
    "    collection=collection,\n",
    "    db_user=db_user,\n",
    "    db_pass=db_pass\n",
    ")\n",
    "\n",
    "\n",
    "# this is needed to initialize the underlying async library for SurrealDB\n",
    "await db.initialize()\n",
    "\n",
    "# delete collection from the vectorstore collection if it exists \n",
    "await db.adelete(collection = collection)\n",
    "\n",
    "# add documents to the vectorstore\n",
    "ids = await db.aadd_documents(docs)\n",
    "\n",
    "retriever = db.as_retriever(search_type=\"similarity\", search_kwargs={\"k\": 3})\n",
    "\n",
    "# Initialize the cross-encoder model\n",
    "#cross_encoder_model = HuggingFaceCrossEncoder(model_name=\"BAAI/bge-reranker-base\")\n",
    "cross_encoder_model = HuggingFaceCrossEncoder(model_name=\"cross-encoder/ms-marco-MiniLM-L-6-v2\")\n",
    "compressor = CrossEncoderReranker(model=cross_encoder_model, top_n=3)\n",
    "compression_retriever = ContextualCompressionRetriever(\n",
    "    base_compressor=compressor, base_retriever=retriever\n",
    ")"
   ]
  },
  {
   "cell_type": "markdown",
   "metadata": {},
   "source": [
    "# Team approach"
   ]
  },
  {
   "cell_type": "code",
   "execution_count": 15,
   "metadata": {},
   "outputs": [],
   "source": [
    "workers = [node[\"name\"] for node in proxmox_nodes]\n",
    "\n",
    "prompt = PromptTemplate(\n",
    "    template=(\"\"\"\n",
    "    You are a supervisor tasked with routing a query to one of the following workers: {workers}. \n",
    "    Given the following user request, respond with the worker to act next. Each worker will perform a task \n",
    "    and respond with their results and status. The worker output will be returned to the user. \n",
    "    The options for workers are {workers}. Return 'end' if the request isn't related to any of the given workers.\n",
    "\n",
    "    User request: {question}\n",
    "\n",
    "    Respond in JSON format with a single key \"next\" which holds the worker name.\n",
    "\n",
    "    next :\n",
    "    \"\"\"),\n",
    "    input_variables=[\"question\"],\n",
    "    partial_variables={\"workers\": workers}\n",
    ")\n",
    "\n",
    "# Initialize the LLM\n",
    "llm_sup = ChatOllama(model=\"phi3\", temperature=0, format=\"json\")\n",
    "#llm_sup = ChatOllama(model=\"llama3.1\", temperature=0, format=\"json\")\n",
    "\n",
    "\n",
    "# Combine prompt and LLM with JsonOutputParser\n",
    "sup_chain = prompt | llm_sup | JsonOutputParser()\n"
   ]
  },
  {
   "cell_type": "code",
   "execution_count": 16,
   "metadata": {},
   "outputs": [
    {
     "data": {
      "text/plain": [
       "{'next': 'Proxmox-Node-HCM'}"
      ]
     },
     "execution_count": 16,
     "metadata": {},
     "output_type": "execute_result"
    }
   ],
   "source": [
    "sup_chain.invoke({\n",
    "    \"question\": \"How many Vms on node Proxmox-Node-HCM\",\n",
    "})"
   ]
  },
  {
   "cell_type": "code",
   "execution_count": 17,
   "metadata": {},
   "outputs": [],
   "source": [
    "class ProxmoxTeamState(TypedDict):\n",
    "    messages: List[BaseMessage]\n",
    "    team_members: List[str]\n",
    "    next: str"
   ]
  },
  {
   "cell_type": "code",
   "execution_count": 18,
   "metadata": {},
   "outputs": [],
   "source": [
    "def supervisor(state: ProxmoxTeamState) -> ProxmoxTeamState:\n",
    "    print(f\"processing_request: Current state: {state}\")\n",
    "    question = state[\"messages\"][0]\n",
    "    result = sup_chain.invoke({\"question\": question})\n",
    "    state[\"next\"] = result[\"next\"]\n",
    "    state[\"team_members\"] = [node[\"name\"] for node in proxmox_nodes]\n",
    "    return state"
   ]
  },
  {
   "cell_type": "code",
   "execution_count": 19,
   "metadata": {},
   "outputs": [
    {
     "name": "stdout",
     "output_type": "stream",
     "text": [
      "processing_request: Current state: {'messages': [\"list Vms on node 'Proxmox-Node-HCM'\"], 'next': None, 'team_members': []}\n"
     ]
    },
    {
     "data": {
      "text/plain": [
       "{'messages': [\"list Vms on node 'Proxmox-Node-HCM'\"],\n",
       " 'next': 'Proxmox-Node-HCM',\n",
       " 'team_members': ['Proxmox-Node-HCM', 'ns31212248']}"
      ]
     },
     "execution_count": 19,
     "metadata": {},
     "output_type": "execute_result"
    }
   ],
   "source": [
    "initial_state = {\n",
    "            \"messages\": [\"list Vms on node 'Proxmox-Node-HCM'\"],\n",
    "            \"next\": None,\n",
    "            \"team_members\": []\n",
    "        }\n",
    "supervisor(initial_state)"
   ]
  },
  {
   "cell_type": "code",
   "execution_count": 20,
   "metadata": {},
   "outputs": [],
   "source": [
    "llm = ChatOllama(model=\"llama3.1\", temperature=0, format=\"json\")"
   ]
  },
  {
   "cell_type": "code",
   "execution_count": 21,
   "metadata": {},
   "outputs": [],
   "source": [
    "from langchain_google_genai import ChatGoogleGenerativeAI\n",
    "\n",
    "# Initialize the llm with the new model\n",
    "llm = ChatGoogleGenerativeAI(model=\"gemini-1.5-flash-latest\", temperature=0)"
   ]
  },
  {
   "cell_type": "code",
   "execution_count": 22,
   "metadata": {},
   "outputs": [
    {
     "data": {
      "text/plain": [
       "'from langchain_community.llms import Ollama\\nfrom typing import Dict, Any\\n\\n# Initialize the LLM\\n#\\nllm_kwargs: Dict[str, Any] = {\\n    \"model\": \"llama3:instruct\",\\n    \"temperature\": 0,\\n    \"num_ctx\": 4096, \\n    \"format\":\"json\"\\n}\\n\\nllm = Ollama(**llm_kwargs)'"
      ]
     },
     "execution_count": 22,
     "metadata": {},
     "output_type": "execute_result"
    }
   ],
   "source": [
    "\"\"\"from langchain_community.llms import Ollama\n",
    "from typing import Dict, Any\n",
    "\n",
    "# Initialize the LLM\n",
    "#\n",
    "llm_kwargs: Dict[str, Any] = {\n",
    "    \"model\": \"llama3:instruct\",\n",
    "    \"temperature\": 0,\n",
    "    \"num_ctx\": 4096, \n",
    "    \"format\":\"json\"\n",
    "}\n",
    "\n",
    "llm = Ollama(**llm_kwargs)\"\"\""
   ]
  },
  {
   "cell_type": "code",
   "execution_count": 23,
   "metadata": {},
   "outputs": [],
   "source": [
    "from langchain_groq import ChatGroq\n",
    "\n",
    "llm = ChatGroq(\n",
    "    model=\"llama-3.1-70b-versatile\",\n",
    "    temperature=0,\n",
    "    max_tokens=None,\n",
    "    timeout=None,\n",
    "    max_retries=2,\n",
    "    # other params...\n",
    ")"
   ]
  },
  {
   "cell_type": "code",
   "execution_count": 24,
   "metadata": {},
   "outputs": [
    {
     "name": "stdout",
     "output_type": "stream",
     "text": [
      "https://ns31418912.ip-54-38-37.eu:8006/\n",
      "https://ns31212248.ip-51-178-74.eu:8006/\n"
     ]
    }
   ],
   "source": [
    "agents = {}\n",
    "\n",
    "for node in proxmox_nodes:\n",
    "    print(node['base_url'])\n",
    "    decoded_token=base64.b64decode(os.getenv(node['token'])).decode('utf-8')\n",
    "    chain = ProxmoxAPIChain.from_llm_and_api_docs(\n",
    "        llm,\n",
    "        retriever=compression_retriever,\n",
    "        headers={\"Authorization\": decoded_token},\n",
    "        pve_token=decoded_token,\n",
    "        verbose=True,\n",
    "        limit_to_domains=[node[\"base_url\"]],\n",
    "        base_url=node[\"base_url\"],\n",
    "    )\n",
    "    agents[node[\"name\"]] = chain"
   ]
  },
  {
   "cell_type": "code",
   "execution_count": 25,
   "metadata": {},
   "outputs": [
    {
     "name": "stdout",
     "output_type": "stream",
     "text": [
      "\n",
      "\n",
      "\u001b[1m> Entering new ProxmoxAPIChain chain...\u001b[0m\n"
     ]
    },
    {
     "name": "stderr",
     "output_type": "stream",
     "text": [
      "c:\\Users\\oumay\\.vscode\\agent-scripts-\\venv\\Lib\\site-packages\\transformers\\models\\bert\\modeling_bert.py:439: UserWarning: 1Torch was not compiled with flash attention. (Triggered internally at C:\\actions-runner\\_work\\pytorch\\pytorch\\builder\\windows\\pytorch\\aten\\src\\ATen\\native\\transformers\\cuda\\sdp_utils.cpp:555.)\n",
      "  attn_output = torch.nn.functional.scaled_dot_product_attention(\n"
     ]
    },
    {
     "name": "stdout",
     "output_type": "stream",
     "text": [
      "Retrieved Document 0: {\"endpoint\": \"/api2/json/nodes/{node}/qemu\", \"method\": \"get\", \"summary\": \"List Virtual machines (VMs) on a Node\", \"parameters\": [{\"name\": \"node\", \"in\": \"path\", \"required\": true, \"description\": \"Node ID where VMs are located\", \"schema\": {\"type\": \"string\"}}]}\n",
      "Retrieved Document 1: {\"endpoint\": \"/api2/json/nodes/{node}/qemu/{vmid}/config\", \"method\": \"get\", \"summary\": \"Get Virtual machine/Vm Configuration (config file)\", \"parameters\": [{\"name\": \"node\", \"in\": \"path\", \"required\": true, \"description\": \"Node ID where the VM is located\", \"schema\": {\"type\": \"string\"}}, {\"name\": \"vmid\", \"in\": \"path\", \"required\": true, \"description\": \"ID of the VM\", \"schema\": {\"type\": \"integer\"}}, {\"name\": \"current\", \"in\": \"query\", \"required\": false, \"description\": \"Get current values instead of pending values\", \"schema\": {\"type\": \"boolean\"}}]}\n",
      "Retrieved Document 2: {\"endpoint\": \"/api2/json/nodes/{node}/lxc\", \"methods\": \"get\", \"summary\": \"List LXC Containers on a Node\", \"description\": \"List all containers available on a node\", \"parameters\": [{\"name\": \"node\", \"in\": \"path\", \"required\": true, \"description\": \"Node ID where LXC containers are located\", \"schema\": {\"type\": \"string\"}}]}\n",
      "\n",
      "Request info: {\n",
      "    \"api_url\": \"/api2/json/nodes/Proxmox-Node-HCM/qemu\",\n",
      "    \"request_method\": \"get\",\n",
      "    \"request_body\": {}\n",
      "}\n",
      "Full API URL: https://ns31418912.ip-54-38-37.eu:8006/api2/json/nodes/Proxmox-Node-HCM/qemu\n",
      "API URL: https://ns31418912.ip-54-38-37.eu:8006/api2/json/nodes/Proxmox-Node-HCM/qemu\n",
      "Request method: GET\n",
      "Request body: {}\n",
      "\u001b[38;5;200m\u001b[1;3mStatus: 200 OK\n",
      "Response: {\"data\":[{\"status\":\"stopped\",\"mem\":0,\"maxdisk\":34359738368,\"netin\":0,\"disk\":0,\"vmid\":9999,\"netout\":0,\"name\":\"my-vm\",\"maxmem\":2147483648,\"cpu\":0,\"cpus\":2,\"diskwrite\":0,\"uptime\":0,\"diskread\":0},{\"status\":\"running\",\"mem\":2246987230,\"maxdisk\":34359738368,\"netin\":1131046774,\"disk\":0,\"vmid\":110,\"maxmem\":8589934592,\"name\":\"primary-test\",\"netout\":13910251,\"diskwrite\":0,\"cpus\":4,\"cpu\":0,\"uptime\":3023433,\"pid\":3793132,\"diskread\":0},{\"mem\":2900129198,\"status\":\"running\",\"netin\":1049262189,\"maxdisk\":107374182400,\"vmid\":108,\"disk\":0,\"uptime\":3459873,\"pid\":1998484,\"diskread\":0,\"maxmem\":8589934592,\"netout\":14613850,\"name\":\"PgSQL-IMX-Replicaset\",\"diskwrite\":0,\"cpus\":4,\"cpu\":0},{\"disk\":0,\"vmid\":104,\"cpus\":4,\"cpu\":0,\"diskwrite\":0,\"name\":\"PgSQL-IMX\",\"netout\":30129142,\"maxmem\":8589934592,\"diskread\":0,\"pid\":3748081,\"uptime\":5100274,\"status\":\"running\",\"mem\":7183653907,\"maxdisk\":107374182400,\"netin\":203948226},{\"diskwrite\":0,\"cpu\":0.00921297856589171,\"cpus\":4,\"maxmem\":4294967296,\"name\":\"SurrealDB-IMX\",\"netout\":298808843,\"diskread\":0,\"uptime\":5259806,\"pid\":3099455,\"disk\":0,\"vmid\":102,\"maxdisk\":107374182400,\"netin\":732519244,\"status\":\"running\",\"mem\":1291046453},{\"cpu\":0,\"cpus\":2,\"diskwrite\":0,\"netout\":196858659,\"name\":\"Ansible-controller\",\"maxmem\":4294967296,\"diskread\":0,\"pid\":3751193,\"uptime\":5099587,\"disk\":0,\"vmid\":106,\"maxdisk\":34359738368,\"netin\":183158941,\"status\":\"running\",\"mem\":3325670010},{\"disk\":0,\"vmid\":100,\"maxmem\":8489271296,\"netout\":598416425,\"name\":\"Mongo-IMX\",\"diskwrite\":0,\"cpu\":0,\"cpus\":2,\"uptime\":7691867,\"pid\":3634760,\"tags\":\"critical;poc\",\"diskread\":0,\"status\":\"running\",\"mem\":5590183734,\"maxdisk\":137438953472,\"netin\":3981244386},{\"status\":\"running\",\"mem\":20268922,\"maxdisk\":34359738368,\"netin\":717441904,\"disk\":0,\"vmid\":1001,\"diskwrite\":0,\"cpu\":0,\"cpus\":1,\"maxmem\":536870912,\"netout\":228044696,\"name\":\"test-vm\",\"diskread\":0,\"uptime\":3270501,\"pid\":2790383},{\"maxdisk\":107374182400,\"netin\":1912941410,\"status\":\"running\",\"mem\":3554271555,\"maxmem\":8589934592,\"name\":\"test-vault01\",\"netout\":727441471,\"diskwrite\":0,\"cpu\":0,\"cpus\":2,\"uptime\":7149039,\"pid\":1787620,\"diskread\":0,\"disk\":0,\"vmid\":101},{\"netin\":0,\"maxdisk\":0,\"mem\":0,\"status\":\"stopped\",\"diskread\":0,\"uptime\":0,\"diskwrite\":0,\"cpus\":1,\"cpu\":0,\"maxmem\":536870912,\"netout\":0,\"name\":\"VM 10001\",\"vmid\":10001,\"disk\":0},{\"netin\":375187712,\"maxdisk\":107374182400,\"mem\":871425173,\"status\":\"running\",\"diskread\":0,\"uptime\":3345766,\"pid\":2483630,\"diskwrite\":0,\"cpus\":4,\"cpu\":0,\"maxmem\":8589934592,\"name\":\"PgSQL-Primary\",\"netout\":6860194,\"vmid\":109,\"disk\":0},{\"maxdisk\":34359738368,\"netin\":9302767408,\"status\":\"running\",\"mem\":1333884293,\"cpu\":0,\"cpus\":2,\"diskwrite\":0,\"name\":\"NewRelic-GitLab\",\"netout\":2804846551,\"maxmem\":2147483648,\"diskread\":0,\"pid\":1003406,\"uptime\":5770810,\"disk\":0,\"vmid\":2000},{\"maxdisk\":0,\"netin\":0,\"status\":\"stopped\",\"mem\":0,\"name\":\"VM 10004\",\"netout\":0,\"maxmem\":536870912,\"cpu\":0,\"cpus\":1,\"diskwrite\":0,\"uptime\":0,\"diskread\":0,\"disk\":0,\"vmid\":10004},{\"netin\":0,\"maxdisk\":0,\"mem\":0,\"status\":\"stopped\",\"diskread\":0,\"uptime\":0,\"diskwrite\":0,\"cpu\":0,\"cpus\":1,\"maxmem\":536870912,\"name\":\"VM 10002\",\"netout\":0,\"vmid\":10002,\"disk\":0},{\"maxdisk\":34359738368,\"netin\":0,\"status\":\"stopped\",\"mem\":0,\"netout\":0,\"name\":\"test-vm\",\"maxmem\":2147483648,\"cpu\":0,\"cpus\":2,\"diskwrite\":0,\"uptime\":0,\"diskread\":0,\"disk\":0,\"vmid\":10000},{\"name\":\"test-mfa\",\"netout\":35507454,\"maxmem\":2147483648,\"cpus\":1,\"cpu\":0,\"diskwrite\":0,\"pid\":1822073,\"uptime\":3504169,\"diskread\":0,\"disk\":0,\"vmid\":107,\"maxdisk\":34359738368,\"netin\":1835859664,\"status\":\"running\",\"mem\":779926568},{\"status\":\"running\",\"mem\":890078963,\"maxdisk\":34359738368,\"netin\":43139447,\"disk\":0,\"vmid\":111,\"name\":\"test-slave\",\"netout\":525584,\"maxmem\":2147483648,\"cpus\":2,\"cpu\":0,\"diskwrite\":0,\"pid\":3967817,\"uptime\":239979,\"diskread\":0}]}\u001b[0m\n",
      "\n",
      "\u001b[1m> Finished chain.\u001b[0m\n"
     ]
    },
    {
     "data": {
      "text/plain": [
       "{'question': \"list Vms on node 'Proxmox-Node-HCM'\",\n",
       " 'output': \"Here is the list of VMs on node 'Proxmox-Node-HCM':\\n\\n1. my-vm (stopped)\\n2. primary-test (running)\\n3. PgSQL-IMX-Replicaset (running)\\n4. PgSQL-IMX (running)\\n5. SurrealDB-IMX (running)\\n6. Ansible-controller (running)\\n7. Mongo-IMX (running)\\n8. test-vm (running)\\n9. test-vault01 (running)\\n10. VM 10001 (stopped)\\n11. PgSQL-Primary (running)\\n12. NewRelic-GitLab (running)\\n13. VM 10004 (stopped)\\n14. VM 10002 (stopped)\\n15. test-vm (stopped)\\n16. test-mfa (running)\\n17. test-slave (running)\"}"
      ]
     },
     "execution_count": 25,
     "metadata": {},
     "output_type": "execute_result"
    }
   ],
   "source": [
    "agents[\"Proxmox-Node-HCM\"].invoke((\"list Vms on node 'Proxmox-Node-HCM'\"))"
   ]
  },
  {
   "cell_type": "code",
   "execution_count": 26,
   "metadata": {},
   "outputs": [],
   "source": [
    "def Worker_node(state: ProxmoxTeamState, node_name: str) -> ProxmoxTeamState:\n",
    "    print(f\"{state['next']} / {node_name}\")\n",
    "    question = state[\"messages\"][0]\n",
    "    result = agents[node_name].invoke(input=question)\n",
    "    state[\"messages\"].append(result)\n",
    "    return state"
   ]
  },
  {
   "cell_type": "code",
   "execution_count": 27,
   "metadata": {},
   "outputs": [
    {
     "name": "stdout",
     "output_type": "stream",
     "text": [
      "Proxmox-Node-HCM / Proxmox-Node-HCM\n",
      "\n",
      "\n",
      "\u001b[1m> Entering new ProxmoxAPIChain chain...\u001b[0m\n",
      "Retrieved Document 0: {\"endpoint\": \"/api2/json/nodes/{node}/qemu\", \"method\": \"get\", \"summary\": \"List Virtual machines (VMs) on a Node\", \"parameters\": [{\"name\": \"node\", \"in\": \"path\", \"required\": true, \"description\": \"Node ID where VMs are located\", \"schema\": {\"type\": \"string\"}}]}\n",
      "Retrieved Document 1: {\"endpoint\": \"/api2/json/nodes/{node}/qemu\", \"method\": \"post\", \"summary\": \"Create a Virtual machine (VM) \", \"description\": \"Use this endpoint to create a new virtual machine on the specified node. This endpoint is used for initial creation and can be used for the allocation of resources such as memory, cores, and storage.\", \"parameters\": [{\"name\": \"node\", \"in\": \"path\", \"required\": true, \"description\": \"Node ID where the VM will be created\", \"schema\": {\"type\": \"string\"}}], \"requestBody\": {\"required\": true, \"content\": {\"application/json\": {\"schema\": {\"type\": \"object\", \"properties\": {\"vmid\": {\"type\": \"integer\", \"description\": \"VM ID\"}, \"name\": {\"type\": \"string\", \"description\": \"Name of the VM\"}, \"memory\": {\"type\": \"integer\", \"description\": \"Memory size in MB\"}, \"cores\": {\"type\": \"integer\", \"description\": \"Number of CPU cores\"}, \"ide0\": {\"type\": \"string\", \"description\": \"Disk size and format, e.g., \\\"local:32,format=qcow2\\\"\"}, \"net0\": {\"type\": \"string\", \"description\": \"Network configuration, e.g., \\\"virtio,bridge=vmbr0\\\"\"}, \"ostype\": {\"type\": \"string\", \"description\": \"OS type, e.g., \\\"l26\\\" for Linux\"}}, \"required\": [\"node\", \"vmid\"]}}}}}\n",
      "Retrieved Document 2: {\"endpoint\": \"/api2/json/nodes/{node}/qemu/{vmid}/config\", \"method\": \"post\", \"summary\": \"Set initial configuration options of a Virtual machine\", \"description\": \"Use this endpoint to set the initial configuration of a new virtual machine. This is useful when you need to define settings such as memory, cores, CPU type, and other parameters for a VM that is being created.\", \"parameters\": [{\"name\": \"node\", \"in\": \"path\", \"required\": true, \"description\": \"The cluster node name\", \"schema\": {\"type\": \"string\"}}, {\"name\": \"vmid\", \"in\": \"path\", \"required\": true, \"description\": \"The (unique) ID of the VM\", \"schema\": {\"type\": \"integer\", \"minimum\": 100, \"maximum\": 999999999}}], \"requestBody\": {\"required\": true, \"content\": {\"application/json\": {\"schema\": {\"type\": \"object\", \"properties\": {\"memory\": {\"type\": \"integer\", \"description\": \"Amount of RAM for the VM in MiB\", \"minimum\": 16}, \"cores\": {\"type\": \"integer\", \"description\": \"Number of cores per socket\", \"minimum\": 1}, \"cpu\": {\"type\": \"string\", \"description\": \"Emulated CPU type\"}, \"name\": {\"type\": \"string\", \"description\": \"Set a name for the VM\"}, \"net\": {\"type\": \"string\", \"description\": \"Specify network devices\"}, \"ostype\": {\"type\": \"string\", \"description\": \"Specify guest operating system\", \"enum\": [\"other\", \"wxp\", \"w2k\", \"w2k3\", \"w2k8\", \"wvista\", \"win7\", \"win8\", \"win10\", \"win11\", \"l24\", \"l26\", \"solaris\", \"opensolaris\", \"netbsd\", \"freebsd\", \"openbsd\"]}, \"disk\": {\"type\": \"string\", \"description\": \"Specify disk size and type, e.g., 'size=10G,ssd=1'\"}, \"boot\": {\"type\": \"string\", \"description\": \"Specify guest boot order, e.g., 'order=cdrom;ide0'\"}}}}}}}\n",
      "\n",
      "Request info: {\n",
      "    \"api_url\": \"/api2/json/nodes/Proxmox-Node-HCM/qemu\",\n",
      "    \"request_method\": \"get\",\n",
      "    \"request_body\": {}\n",
      "}\n",
      "Full API URL: https://ns31418912.ip-54-38-37.eu:8006/api2/json/nodes/Proxmox-Node-HCM/qemu\n",
      "API URL: https://ns31418912.ip-54-38-37.eu:8006/api2/json/nodes/Proxmox-Node-HCM/qemu\n",
      "Request method: GET\n",
      "Request body: {}\n",
      "\u001b[38;5;200m\u001b[1;3mStatus: 200 OK\n",
      "Response: {\"data\":[{\"cpus\":2,\"cpu\":0,\"diskwrite\":0,\"name\":\"test-vm\",\"netout\":0,\"maxmem\":2147483648,\"diskread\":0,\"uptime\":0,\"disk\":0,\"vmid\":10000,\"maxdisk\":34359738368,\"netin\":0,\"status\":\"stopped\",\"mem\":0},{\"diskwrite\":0,\"cpus\":1,\"cpu\":0,\"maxmem\":2147483648,\"name\":\"test-mfa\",\"netout\":35507454,\"diskread\":0,\"uptime\":3504183,\"pid\":1822073,\"disk\":0,\"vmid\":107,\"maxdisk\":34359738368,\"netin\":1835859664,\"status\":\"running\",\"mem\":779926568},{\"cpus\":2,\"cpu\":0.0107632790756804,\"diskwrite\":0,\"netout\":525584,\"name\":\"test-slave\",\"maxmem\":2147483648,\"diskread\":0,\"pid\":3967817,\"uptime\":239993,\"disk\":0,\"vmid\":111,\"maxdisk\":34359738368,\"netin\":43139447,\"status\":\"running\",\"mem\":890078963},{\"diskwrite\":0,\"cpu\":0,\"cpus\":2,\"maxmem\":8589934592,\"netout\":727441471,\"name\":\"test-vault01\",\"diskread\":0,\"uptime\":7149053,\"pid\":1787620,\"disk\":0,\"vmid\":101,\"maxdisk\":107374182400,\"netin\":1912941410,\"status\":\"running\",\"mem\":3554271555},{\"disk\":0,\"vmid\":10001,\"diskwrite\":0,\"cpus\":1,\"cpu\":0,\"maxmem\":536870912,\"netout\":0,\"name\":\"VM 10001\",\"diskread\":0,\"uptime\":0,\"status\":\"stopped\",\"mem\":0,\"maxdisk\":0,\"netin\":0},{\"vmid\":109,\"disk\":0,\"diskread\":0,\"pid\":2483630,\"uptime\":3345780,\"cpu\":0,\"cpus\":4,\"diskwrite\":0,\"name\":\"PgSQL-Primary\",\"netout\":6860194,\"maxmem\":8589934592,\"mem\":871425173,\"status\":\"running\",\"netin\":375187712,\"maxdisk\":107374182400},{\"vmid\":2000,\"disk\":0,\"uptime\":5770824,\"pid\":1003406,\"diskread\":0,\"maxmem\":2147483648,\"netout\":2804853148,\"name\":\"NewRelic-GitLab\",\"diskwrite\":0,\"cpu\":0,\"cpus\":2,\"mem\":1333884293,\"status\":\"running\",\"netin\":9302769035,\"maxdisk\":34359738368},{\"vmid\":10004,\"disk\":0,\"diskread\":0,\"uptime\":0,\"diskwrite\":0,\"cpus\":1,\"cpu\":0,\"maxmem\":536870912,\"name\":\"VM 10004\",\"netout\":0,\"mem\":0,\"status\":\"stopped\",\"netin\":0,\"maxdisk\":0},{\"mem\":0,\"status\":\"stopped\",\"netin\":0,\"maxdisk\":0,\"vmid\":10002,\"disk\":0,\"diskread\":0,\"uptime\":0,\"cpus\":1,\"cpu\":0,\"diskwrite\":0,\"name\":\"VM 10002\",\"netout\":0,\"maxmem\":536870912},{\"maxdisk\":107374182400,\"netin\":732543553,\"status\":\"running\",\"mem\":1301972695,\"maxmem\":4294967296,\"name\":\"SurrealDB-IMX\",\"netout\":298876349,\"diskwrite\":0,\"cpu\":0.0210710460486526,\"cpus\":4,\"uptime\":5259821,\"pid\":3099455,\"diskread\":0,\"disk\":0,\"vmid\":102},{\"netin\":183158941,\"maxdisk\":34359738368,\"mem\":3325670010,\"status\":\"running\",\"pid\":3751193,\"uptime\":5099601,\"diskread\":0,\"netout\":196858659,\"name\":\"Ansible-controller\",\"maxmem\":4294967296,\"cpus\":2,\"cpu\":0,\"diskwrite\":0,\"vmid\":106,\"disk\":0},{\"disk\":0,\"vmid\":1001,\"maxmem\":536870912,\"name\":\"test-vm\",\"netout\":228045574,\"diskwrite\":0,\"cpus\":1,\"cpu\":0,\"uptime\":3270515,\"pid\":2790383,\"diskread\":0,\"status\":\"running\",\"mem\":20235832,\"maxdisk\":34359738368,\"netin\":717444772},{\"status\":\"running\",\"mem\":5590183734,\"maxdisk\":137438953472,\"netin\":3981244560,\"disk\":0,\"vmid\":100,\"diskwrite\":0,\"cpus\":2,\"cpu\":0,\"maxmem\":8489271296,\"name\":\"Mongo-IMX\",\"netout\":598416599,\"tags\":\"critical;poc\",\"diskread\":0,\"uptime\":7691881,\"pid\":3634760},{\"cpu\":0,\"cpus\":4,\"diskwrite\":0,\"netout\":13910251,\"name\":\"primary-test\",\"maxmem\":8589934592,\"diskread\":0,\"pid\":3793132,\"uptime\":3023447,\"disk\":0,\"vmid\":110,\"maxdisk\":34359738368,\"netin\":1131046774,\"status\":\"running\",\"mem\":2246987230},{\"disk\":0,\"vmid\":9999,\"diskwrite\":0,\"cpus\":2,\"cpu\":0,\"maxmem\":2147483648,\"netout\":0,\"name\":\"my-vm\",\"diskread\":0,\"uptime\":0,\"status\":\"stopped\",\"mem\":0,\"maxdisk\":34359738368,\"netin\":0},{\"vmid\":108,\"disk\":0,\"pid\":1998484,\"uptime\":3459887,\"diskread\":0,\"netout\":14613850,\"name\":\"PgSQL-IMX-Replicaset\",\"maxmem\":8589934592,\"cpu\":0,\"cpus\":4,\"diskwrite\":0,\"mem\":2900129198,\"status\":\"running\",\"netin\":1049262189,\"maxdisk\":107374182400},{\"vmid\":104,\"disk\":0,\"diskread\":0,\"pid\":3748081,\"uptime\":5100289,\"cpus\":4,\"cpu\":0,\"diskwrite\":0,\"name\":\"PgSQL-IMX\",\"netout\":30129142,\"maxmem\":8589934592,\"mem\":7183653907,\"status\":\"running\",\"netin\":203948226,\"maxdisk\":107374182400}]}\u001b[0m\n",
      "\n",
      "\u001b[1m> Finished chain.\u001b[0m\n",
      "{'next': 'Proxmox-Node-HCM', 'messages': ['How many Vms on node Proxmox-Node-HCM?', {'question': 'How many Vms on node Proxmox-Node-HCM?', 'output': 'There are 20 VMs on node Proxmox-Node-HCM.'}]}\n"
     ]
    }
   ],
   "source": [
    "state = {\n",
    "    \"next\": \"Proxmox-Node-HCM\",\n",
    "    \"messages\": [\"How many Vms on node Proxmox-Node-HCM?\"]\n",
    "}\n",
    "\n",
    "new_state = Worker_node(state, \"Proxmox-Node-HCM\")\n",
    "print(new_state)  "
   ]
  },
  {
   "cell_type": "code",
   "execution_count": 28,
   "metadata": {},
   "outputs": [],
   "source": [
    "def proxmox_router(state: ProxmoxTeamState) :\n",
    "    next_worker = state[\"next\"]\n",
    "    print(f\"proxmox_router: Current state: {state}\")\n",
    "    if next_worker in [node[\"name\"] for node in proxmox_nodes]:\n",
    "        return next_worker\n",
    "    return \"end\""
   ]
  },
  {
   "cell_type": "code",
   "execution_count": 29,
   "metadata": {},
   "outputs": [
    {
     "name": "stdout",
     "output_type": "stream",
     "text": [
      "proxmox_router: Current state: {'next': 'Proxmox-Node-HCM'}\n",
      "Proxmox-Node-HCM\n"
     ]
    }
   ],
   "source": [
    "state = {\"next\": \"Proxmox-Node-HCM\"}\n",
    "result = proxmox_router(state)\n",
    "print(result) "
   ]
  },
  {
   "cell_type": "code",
   "execution_count": 30,
   "metadata": {},
   "outputs": [],
   "source": [
    "proxmox_graph = StateGraph(ProxmoxTeamState)\n",
    "\n",
    "for node in proxmox_nodes:\n",
    "    proxmox_graph.add_node(node[\"name\"], lambda state, node_name=node[\"name\"]: Worker_node(state, node_name))\n",
    "    proxmox_graph.add_edge(node[\"name\"], END)\n",
    "\n",
    "proxmox_graph.add_node(\"supervisor\", supervisor)\n",
    "\n",
    "node_edges = {node[\"name\"]: node[\"name\"] for node in proxmox_nodes}\n",
    "\n",
    "# Add the \"end\" key-value pair to the dictionary\n",
    "node_edges[\"end\"] = END\n",
    "\n",
    "proxmox_graph.add_conditional_edges(\n",
    "    \"supervisor\",\n",
    "    proxmox_router,\n",
    "    node_edges,\n",
    ")\n",
    "\n",
    "proxmox_graph.add_edge(START, \"supervisor\")\n",
    "chain = proxmox_graph.compile()"
   ]
  },
  {
   "cell_type": "code",
   "execution_count": 31,
   "metadata": {},
   "outputs": [
    {
     "data": {
      "image/jpeg": "[encoded data removed]",
      "text/plain": [
       "<IPython.core.display.Image object>"
      ]
     },
     "metadata": {},
     "output_type": "display_data"
    }
   ],
   "source": [
    "display(Image(chain.get_graph(xray=True).draw_mermaid_png()))"
   ]
  },
  {
   "cell_type": "code",
   "execution_count": 32,
   "metadata": {},
   "outputs": [],
   "source": [
    "langfuse_handler = CallbackHandler(\n",
    "    public_key=os.getenv('LANGFUSE_PUBLIC_KEY'),\n",
    "    secret_key=os.getenv('LANGFUSE_SECRET_KEY'),\n",
    "    host=os.getenv('LANGFUSE_HOST'),\n",
    ")"
   ]
  },
  {
   "cell_type": "code",
   "execution_count": null,
   "metadata": {},
   "outputs": [
    {
     "name": "stdout",
     "output_type": "stream",
     "text": [
      "processing_request: Current state: {'messages': [\"list Vms on node 'Proxmox-Node-HCM'\"], 'team_members': [], 'next': None}\n",
      "proxmox_router: Current state: {'messages': [\"list Vms on node 'Proxmox-Node-HCM'\"], 'team_members': ['Proxmox-Node-HCM', 'ns31212248'], 'next': 'Proxmox-Node-HCM'}\n",
      "Proxmox-Node-HCM / Proxmox-Node-HCM\n",
      "\n",
      "\n",
      "\u001b[1m> Entering new ProxmoxAPIChain chain...\u001b[0m\n",
      "Retrieved Document 0: {\"endpoint\": \"/api2/json/nodes/{node}/qemu\", \"method\": \"get\", \"summary\": \"List Virtual machines (VMs) on a Node\", \"parameters\": [{\"name\": \"node\", \"in\": \"path\", \"required\": true, \"description\": \"Node ID where VMs are located\", \"schema\": {\"type\": \"string\"}}]}\n",
      "Retrieved Document 1: {\"endpoint\": \"/api2/json/nodes/{node}/qemu/{vmid}/config\", \"method\": \"get\", \"summary\": \"Get Virtual machine/Vm Configuration (config file)\", \"parameters\": [{\"name\": \"node\", \"in\": \"path\", \"required\": true, \"description\": \"Node ID where the VM is located\", \"schema\": {\"type\": \"string\"}}, {\"name\": \"vmid\", \"in\": \"path\", \"required\": true, \"description\": \"ID of the VM\", \"schema\": {\"type\": \"integer\"}}, {\"name\": \"current\", \"in\": \"query\", \"required\": false, \"description\": \"Get current values instead of pending values\", \"schema\": {\"type\": \"boolean\"}}]}\n",
      "Retrieved Document 2: {\"endpoint\": \"/api2/json/nodes/{node}/lxc\", \"methods\": \"get\", \"summary\": \"List LXC Containers on a Node\", \"description\": \"List all containers available on a node\", \"parameters\": [{\"name\": \"node\", \"in\": \"path\", \"required\": true, \"description\": \"Node ID where LXC containers are located\", \"schema\": {\"type\": \"string\"}}]}\n",
      "\n",
      "Request info: {\n",
      "    \"api_url\": \"/api2/json/nodes/Proxmox-Node-HCM/qemu\",\n",
      "    \"request_method\": \"get\",\n",
      "    \"request_body\": {}\n",
      "}\n",
      "Full API URL: https://ns31418912.ip-54-38-37.eu:8006/api2/json/nodes/Proxmox-Node-HCM/qemu\n",
      "API URL: https://ns31418912.ip-54-38-37.eu:8006/api2/json/nodes/Proxmox-Node-HCM/qemu\n",
      "Request method: GET\n",
      "Request body: {}\n",
      "\u001b[38;5;200m\u001b[1;3mStatus: 200 OK\n",
      "Response: {\"data\":[{\"diskwrite\":0,\"cpu\":0.000563328011339452,\"cpus\":2,\"maxmem\":4294967296,\"netout\":196858659,\"name\":\"Ansible-controller\",\"diskread\":0,\"uptime\":5099619,\"pid\":3751193,\"disk\":0,\"vmid\":106,\"maxdisk\":34359738368,\"netin\":183158941,\"status\":\"running\",\"mem\":3325670010},{\"vmid\":102,\"disk\":0,\"diskread\":0,\"pid\":3099455,\"uptime\":5259838,\"cpus\":4,\"cpu\":0.0110335933572165,\"diskwrite\":0,\"netout\":298941726,\"name\":\"SurrealDB-IMX\",\"maxmem\":4294967296,\"mem\":1303533587,\"status\":\"running\",\"netin\":732568050,\"maxdisk\":107374182400},{\"disk\":0,\"vmid\":100,\"diskwrite\":0,\"cpus\":2,\"cpu\":0.00901324818143123,\"maxmem\":8489271296,\"name\":\"Mongo-IMX\",\"netout\":598416599,\"tags\":\"critical;poc\",\"diskread\":0,\"uptime\":7691899,\"pid\":3634760,\"status\":\"running\",\"mem\":5590183734,\"maxdisk\":137438953472,\"netin\":3981244560},{\"mem\":20118182,\"status\":\"running\",\"netin\":717448486,\"maxdisk\":34359738368,\"vmid\":1001,\"disk\":0,\"pid\":2790383,\"uptime\":3270533,\"diskread\":0,\"name\":\"test-vm\",\"netout\":228046452,\"maxmem\":536870912,\"cpu\":0.745846287013434,\"cpus\":1,\"diskwrite\":0},{\"uptime\":3023465,\"pid\":3793132,\"diskread\":0,\"maxmem\":8589934592,\"netout\":13910251,\"name\":\"primary-test\",\"diskwrite\":0,\"cpu\":0.000704160014174315,\"cpus\":4,\"vmid\":110,\"disk\":0,\"netin\":1131046774,\"maxdisk\":34359738368,\"mem\":2246987230,\"status\":\"running\"},{\"uptime\":0,\"diskread\":0,\"maxmem\":2147483648,\"netout\":0,\"name\":\"my-vm\",\"diskwrite\":0,\"cpu\":0,\"cpus\":2,\"vmid\":9999,\"disk\":0,\"netin\":0,\"maxdisk\":34359738368,\"mem\":0,\"status\":\"stopped\"},{\"disk\":0,\"vmid\":104,\"diskwrite\":0,\"cpus\":4,\"cpu\":0.000844992017009178,\"maxmem\":8589934592,\"netout\":30129142,\"name\":\"PgSQL-IMX\",\"diskread\":0,\"uptime\":5100306,\"pid\":3748081,\"status\":\"running\",\"mem\":7183653907,\"maxdisk\":107374182400,\"netin\":203948226},{\"mem\":2900129198,\"status\":\"running\",\"netin\":1049262189,\"maxdisk\":107374182400,\"vmid\":108,\"disk\":0,\"diskread\":0,\"uptime\":3459905,\"pid\":1998484,\"diskwrite\":0,\"cpu\":0.00506995210205507,\"cpus\":4,\"maxmem\":8589934592,\"netout\":14613850,\"name\":\"PgSQL-IMX-Replicaset\"},{\"status\":\"running\",\"mem\":890078963,\"maxdisk\":34359738368,\"netin\":43139447,\"disk\":0,\"vmid\":111,\"name\":\"test-slave\",\"netout\":525584,\"maxmem\":2147483648,\"cpus\":2,\"cpu\":0.0107032322154496,\"diskwrite\":0,\"pid\":3967817,\"uptime\":240011,\"diskread\":0},{\"netin\":1835859664,\"maxdisk\":34359738368,\"mem\":779926568,\"status\":\"running\",\"diskread\":0,\"pid\":1822073,\"uptime\":3504201,\"cpus\":1,\"cpu\":0.00225331204535781,\"diskwrite\":0,\"netout\":35507454,\"name\":\"test-mfa\",\"maxmem\":2147483648,\"vmid\":107,\"disk\":0},{\"vmid\":10000,\"disk\":0,\"uptime\":0,\"diskread\":0,\"netout\":0,\"name\":\"test-vm\",\"maxmem\":2147483648,\"cpu\":0,\"cpus\":2,\"diskwrite\":0,\"mem\":0,\"status\":\"stopped\",\"netin\":0,\"maxdisk\":34359738368},{\"status\":\"stopped\",\"mem\":0,\"maxdisk\":0,\"netin\":0,\"disk\":0,\"vmid\":10001,\"diskwrite\":0,\"cpus\":1,\"cpu\":0,\"maxmem\":536870912,\"netout\":0,\"name\":\"VM 10001\",\"diskread\":0,\"uptime\":0},{\"diskread\":0,\"uptime\":7149071,\"pid\":1787620,\"diskwrite\":0,\"cpu\":0.0123932162494679,\"cpus\":2,\"maxmem\":8589934592,\"name\":\"test-vault01\",\"netout\":727441471,\"vmid\":101,\"disk\":0,\"netin\":1912941410,\"maxdisk\":107374182400,\"mem\":3554271555,\"status\":\"running\"},{\"netin\":9302770937,\"maxdisk\":34359738368,\"mem\":1333884293,\"status\":\"running\",\"diskread\":0,\"uptime\":5770842,\"pid\":1003406,\"diskwrite\":0,\"cpus\":2,\"cpu\":0.00253497605102753,\"maxmem\":2147483648,\"name\":\"NewRelic-GitLab\",\"netout\":2804861014,\"vmid\":2000,\"disk\":0},{\"mem\":871425173,\"status\":\"running\",\"netin\":375187712,\"maxdisk\":107374182400,\"vmid\":109,\"disk\":0,\"pid\":2483630,\"uptime\":3345798,\"diskread\":0,\"name\":\"PgSQL-Primary\",\"netout\":6860194,\"maxmem\":8589934592,\"cpu\":0.000844992017009178,\"cpus\":4,\"diskwrite\":0},{\"vmid\":10002,\"disk\":0,\"uptime\":0,\"diskread\":0,\"maxmem\":536870912,\"name\":\"VM 10002\",\"netout\":0,\"diskwrite\":0,\"cpu\":0,\"cpus\":1,\"mem\":0,\"status\":\"stopped\",\"netin\":0,\"maxdisk\":0},{\"disk\":0,\"vmid\":10004,\"diskwrite\":0,\"cpu\":0,\"cpus\":1,\"maxmem\":536870912,\"netout\":0,\"name\":\"VM 10004\",\"diskread\":0,\"uptime\":0,\"status\":\"stopped\",\"mem\":0,\"maxdisk\":0,\"netin\":0}]}\u001b[0m\n"
     ]
    },
    {
     "name": "stderr",
     "output_type": "stream",
     "text": [
      "Giving up execute_task_with_backoff(...) after 3 tries (httpx.ConnectError: [WinError 10061] Aucune connexion n’a pu être établie car l’ordinateur cible l’a expressément refusée)\n",
      "error uploading: [WinError 10061] Aucune connexion n’a pu être établie car l’ordinateur cible l’a expressément refusée\n",
      "Traceback (most recent call last):\n",
      "  File \"c:\\Users\\oumay\\.vscode\\agent-scripts-\\venv\\Lib\\site-packages\\httpx\\_transports\\default.py\", line 69, in map_httpcore_exceptions\n",
      "    yield\n",
      "  File \"c:\\Users\\oumay\\.vscode\\agent-scripts-\\venv\\Lib\\site-packages\\httpx\\_transports\\default.py\", line 233, in handle_request\n",
      "    resp = self._pool.handle_request(req)\n",
      "           ^^^^^^^^^^^^^^^^^^^^^^^^^^^^^^\n",
      "  File \"c:\\Users\\oumay\\.vscode\\agent-scripts-\\venv\\Lib\\site-packages\\httpcore\\_sync\\connection_pool.py\", line 216, in handle_request\n",
      "    raise exc from None\n",
      "  File \"c:\\Users\\oumay\\.vscode\\agent-scripts-\\venv\\Lib\\site-packages\\httpcore\\_sync\\connection_pool.py\", line 196, in handle_request\n",
      "    response = connection.handle_request(\n",
      "               ^^^^^^^^^^^^^^^^^^^^^^^^^^\n",
      "  File \"c:\\Users\\oumay\\.vscode\\agent-scripts-\\venv\\Lib\\site-packages\\httpcore\\_sync\\connection.py\", line 99, in handle_request\n",
      "    raise exc\n",
      "  File \"c:\\Users\\oumay\\.vscode\\agent-scripts-\\venv\\Lib\\site-packages\\httpcore\\_sync\\connection.py\", line 76, in handle_request\n",
      "    stream = self._connect(request)\n",
      "             ^^^^^^^^^^^^^^^^^^^^^^\n",
      "  File \"c:\\Users\\oumay\\.vscode\\agent-scripts-\\venv\\Lib\\site-packages\\httpcore\\_sync\\connection.py\", line 122, in _connect\n",
      "    stream = self._network_backend.connect_tcp(**kwargs)\n",
      "             ^^^^^^^^^^^^^^^^^^^^^^^^^^^^^^^^^^^^^^^^^^^\n",
      "  File \"c:\\Users\\oumay\\.vscode\\agent-scripts-\\venv\\Lib\\site-packages\\httpcore\\_backends\\sync.py\", line 205, in connect_tcp\n",
      "    with map_exceptions(exc_map):\n",
      "  File \"C:\\Python312\\Lib\\contextlib.py\", line 158, in __exit__\n",
      "    self.gen.throw(value)\n",
      "  File \"c:\\Users\\oumay\\.vscode\\agent-scripts-\\venv\\Lib\\site-packages\\httpcore\\_exceptions.py\", line 14, in map_exceptions\n",
      "    raise to_exc(exc) from exc\n",
      "httpcore.ConnectError: [WinError 10061] Aucune connexion n’a pu être établie car l’ordinateur cible l’a expressément refusée\n",
      "\n",
      "The above exception was the direct cause of the following exception:\n",
      "\n",
      "Traceback (most recent call last):\n",
      "  File \"c:\\Users\\oumay\\.vscode\\agent-scripts-\\venv\\Lib\\site-packages\\langfuse\\task_manager.py\", line 204, in upload\n",
      "    self._upload_batch(batch)\n",
      "  File \"c:\\Users\\oumay\\.vscode\\agent-scripts-\\venv\\Lib\\site-packages\\langfuse\\task_manager.py\", line 244, in _upload_batch\n",
      "    execute_task_with_backoff(batch)\n",
      "  File \"c:\\Users\\oumay\\.vscode\\agent-scripts-\\venv\\Lib\\site-packages\\backoff\\_sync.py\", line 105, in retry\n",
      "    ret = target(*args, **kwargs)\n",
      "          ^^^^^^^^^^^^^^^^^^^^^^^\n",
      "  File \"c:\\Users\\oumay\\.vscode\\agent-scripts-\\venv\\Lib\\site-packages\\langfuse\\task_manager.py\", line 242, in execute_task_with_backoff\n",
      "    raise e\n",
      "  File \"c:\\Users\\oumay\\.vscode\\agent-scripts-\\venv\\Lib\\site-packages\\langfuse\\task_manager.py\", line 230, in execute_task_with_backoff\n",
      "    self._client.batch_post(batch=batch, metadata=metadata)\n",
      "  File \"c:\\Users\\oumay\\.vscode\\agent-scripts-\\venv\\Lib\\site-packages\\langfuse\\request.py\", line 55, in batch_post\n",
      "    res = self.post(**kwargs)\n",
      "          ^^^^^^^^^^^^^^^^^^^\n",
      "  File \"c:\\Users\\oumay\\.vscode\\agent-scripts-\\venv\\Lib\\site-packages\\langfuse\\request.py\", line 67, in post\n",
      "    res = self._session.post(\n",
      "          ^^^^^^^^^^^^^^^^^^^\n",
      "  File \"c:\\Users\\oumay\\.vscode\\agent-scripts-\\venv\\Lib\\site-packages\\httpx\\_client.py\", line 1145, in post\n",
      "    return self.request(\n",
      "           ^^^^^^^^^^^^^\n",
      "  File \"c:\\Users\\oumay\\.vscode\\agent-scripts-\\venv\\Lib\\site-packages\\httpx\\_client.py\", line 827, in request\n",
      "    return self.send(request, auth=auth, follow_redirects=follow_redirects)\n",
      "           ^^^^^^^^^^^^^^^^^^^^^^^^^^^^^^^^^^^^^^^^^^^^^^^^^^^^^^^^^^^^^^^^\n",
      "  File \"c:\\Users\\oumay\\.vscode\\agent-scripts-\\venv\\Lib\\site-packages\\httpx\\_client.py\", line 914, in send\n",
      "    response = self._send_handling_auth(\n",
      "               ^^^^^^^^^^^^^^^^^^^^^^^^^\n",
      "  File \"c:\\Users\\oumay\\.vscode\\agent-scripts-\\venv\\Lib\\site-packages\\httpx\\_client.py\", line 942, in _send_handling_auth\n",
      "    response = self._send_handling_redirects(\n",
      "               ^^^^^^^^^^^^^^^^^^^^^^^^^^^^^^\n",
      "  File \"c:\\Users\\oumay\\.vscode\\agent-scripts-\\venv\\Lib\\site-packages\\httpx\\_client.py\", line 979, in _send_handling_redirects\n",
      "    response = self._send_single_request(request)\n",
      "               ^^^^^^^^^^^^^^^^^^^^^^^^^^^^^^^^^^\n",
      "  File \"c:\\Users\\oumay\\.vscode\\agent-scripts-\\venv\\Lib\\site-packages\\httpx\\_client.py\", line 1015, in _send_single_request\n",
      "    response = transport.handle_request(request)\n",
      "               ^^^^^^^^^^^^^^^^^^^^^^^^^^^^^^^^^\n",
      "  File \"c:\\Users\\oumay\\.vscode\\agent-scripts-\\venv\\Lib\\site-packages\\httpx\\_transports\\default.py\", line 232, in handle_request\n",
      "    with map_httpcore_exceptions():\n",
      "  File \"C:\\Python312\\Lib\\contextlib.py\", line 158, in __exit__\n",
      "    self.gen.throw(value)\n",
      "  File \"c:\\Users\\oumay\\.vscode\\agent-scripts-\\venv\\Lib\\site-packages\\httpx\\_transports\\default.py\", line 86, in map_httpcore_exceptions\n",
      "    raise mapped_exc(message) from exc\n",
      "httpx.ConnectError: [WinError 10061] Aucune connexion n’a pu être établie car l’ordinateur cible l’a expressément refusée\n"
     ]
    },
    {
     "name": "stdout",
     "output_type": "stream",
     "text": [
      "\n",
      "\u001b[1m> Finished chain.\u001b[0m\n"
     ]
    },
    {
     "data": {
      "text/plain": [
       "{'messages': [\"list Vms on node 'Proxmox-Node-HCM'\",\n",
       "  {'question': \"list Vms on node 'Proxmox-Node-HCM'\",\n",
       "   'output': \"The API response contains a list of virtual machines (VMs) on the node 'Proxmox-Node-HCM'. The list includes the following VMs:\\n\\n1. Ansible-controller\\n2. SurrealDB-IMX\\n3. Mongo-IMX\\n4. test-vm\\n5. primary-test\\n6. my-vm\\n7. PgSQL-IMX\\n8. PgSQL-IMX-Replicaset\\n9. test-slave\\n10. test-mfa\\n11. test-vm\\n12. VM 10001\\n13. test-vault01\\n14. NewRelic-GitLab\\n15. PgSQL-Primary\\n16. VM 10002\\n17. VM 10004\\n\\nThese VMs have various statuses such as running, stopped, and have different configurations like CPU, memory, and disk usage.\"}],\n",
       " 'team_members': ['Proxmox-Node-HCM', 'ns31212248'],\n",
       " 'next': 'Proxmox-Node-HCM'}"
      ]
     },
     "execution_count": 33,
     "metadata": {},
     "output_type": "execute_result"
    },
    {
     "name": "stderr",
     "output_type": "stream",
     "text": [
      "Giving up execute_task_with_backoff(...) after 3 tries (httpx.ConnectError: [WinError 10061] Aucune connexion n’a pu être établie car l’ordinateur cible l’a expressément refusée)\n",
      "error uploading: [WinError 10061] Aucune connexion n’a pu être établie car l’ordinateur cible l’a expressément refusée\n",
      "Traceback (most recent call last):\n",
      "  File \"c:\\Users\\oumay\\.vscode\\agent-scripts-\\venv\\Lib\\site-packages\\httpx\\_transports\\default.py\", line 69, in map_httpcore_exceptions\n",
      "    yield\n",
      "  File \"c:\\Users\\oumay\\.vscode\\agent-scripts-\\venv\\Lib\\site-packages\\httpx\\_transports\\default.py\", line 233, in handle_request\n",
      "    resp = self._pool.handle_request(req)\n",
      "           ^^^^^^^^^^^^^^^^^^^^^^^^^^^^^^\n",
      "  File \"c:\\Users\\oumay\\.vscode\\agent-scripts-\\venv\\Lib\\site-packages\\httpcore\\_sync\\connection_pool.py\", line 216, in handle_request\n",
      "    raise exc from None\n",
      "  File \"c:\\Users\\oumay\\.vscode\\agent-scripts-\\venv\\Lib\\site-packages\\httpcore\\_sync\\connection_pool.py\", line 196, in handle_request\n",
      "    response = connection.handle_request(\n",
      "               ^^^^^^^^^^^^^^^^^^^^^^^^^^\n",
      "  File \"c:\\Users\\oumay\\.vscode\\agent-scripts-\\venv\\Lib\\site-packages\\httpcore\\_sync\\connection.py\", line 99, in handle_request\n",
      "    raise exc\n",
      "  File \"c:\\Users\\oumay\\.vscode\\agent-scripts-\\venv\\Lib\\site-packages\\httpcore\\_sync\\connection.py\", line 76, in handle_request\n",
      "    stream = self._connect(request)\n",
      "             ^^^^^^^^^^^^^^^^^^^^^^\n",
      "  File \"c:\\Users\\oumay\\.vscode\\agent-scripts-\\venv\\Lib\\site-packages\\httpcore\\_sync\\connection.py\", line 122, in _connect\n",
      "    stream = self._network_backend.connect_tcp(**kwargs)\n",
      "             ^^^^^^^^^^^^^^^^^^^^^^^^^^^^^^^^^^^^^^^^^^^\n",
      "  File \"c:\\Users\\oumay\\.vscode\\agent-scripts-\\venv\\Lib\\site-packages\\httpcore\\_backends\\sync.py\", line 205, in connect_tcp\n",
      "    with map_exceptions(exc_map):\n",
      "  File \"C:\\Python312\\Lib\\contextlib.py\", line 158, in __exit__\n",
      "    self.gen.throw(value)\n",
      "  File \"c:\\Users\\oumay\\.vscode\\agent-scripts-\\venv\\Lib\\site-packages\\httpcore\\_exceptions.py\", line 14, in map_exceptions\n",
      "    raise to_exc(exc) from exc\n",
      "httpcore.ConnectError: [WinError 10061] Aucune connexion n’a pu être établie car l’ordinateur cible l’a expressément refusée\n",
      "\n",
      "The above exception was the direct cause of the following exception:\n",
      "\n",
      "Traceback (most recent call last):\n",
      "  File \"c:\\Users\\oumay\\.vscode\\agent-scripts-\\venv\\Lib\\site-packages\\langfuse\\task_manager.py\", line 204, in upload\n",
      "    self._upload_batch(batch)\n",
      "  File \"c:\\Users\\oumay\\.vscode\\agent-scripts-\\venv\\Lib\\site-packages\\langfuse\\task_manager.py\", line 244, in _upload_batch\n",
      "    execute_task_with_backoff(batch)\n",
      "  File \"c:\\Users\\oumay\\.vscode\\agent-scripts-\\venv\\Lib\\site-packages\\backoff\\_sync.py\", line 105, in retry\n",
      "    ret = target(*args, **kwargs)\n",
      "          ^^^^^^^^^^^^^^^^^^^^^^^\n",
      "  File \"c:\\Users\\oumay\\.vscode\\agent-scripts-\\venv\\Lib\\site-packages\\langfuse\\task_manager.py\", line 242, in execute_task_with_backoff\n",
      "    raise e\n",
      "  File \"c:\\Users\\oumay\\.vscode\\agent-scripts-\\venv\\Lib\\site-packages\\langfuse\\task_manager.py\", line 230, in execute_task_with_backoff\n",
      "    self._client.batch_post(batch=batch, metadata=metadata)\n",
      "  File \"c:\\Users\\oumay\\.vscode\\agent-scripts-\\venv\\Lib\\site-packages\\langfuse\\request.py\", line 55, in batch_post\n",
      "    res = self.post(**kwargs)\n",
      "          ^^^^^^^^^^^^^^^^^^^\n",
      "  File \"c:\\Users\\oumay\\.vscode\\agent-scripts-\\venv\\Lib\\site-packages\\langfuse\\request.py\", line 67, in post\n",
      "    res = self._session.post(\n",
      "          ^^^^^^^^^^^^^^^^^^^\n",
      "  File \"c:\\Users\\oumay\\.vscode\\agent-scripts-\\venv\\Lib\\site-packages\\httpx\\_client.py\", line 1145, in post\n",
      "    return self.request(\n",
      "           ^^^^^^^^^^^^^\n",
      "  File \"c:\\Users\\oumay\\.vscode\\agent-scripts-\\venv\\Lib\\site-packages\\httpx\\_client.py\", line 827, in request\n",
      "    return self.send(request, auth=auth, follow_redirects=follow_redirects)\n",
      "           ^^^^^^^^^^^^^^^^^^^^^^^^^^^^^^^^^^^^^^^^^^^^^^^^^^^^^^^^^^^^^^^^\n",
      "  File \"c:\\Users\\oumay\\.vscode\\agent-scripts-\\venv\\Lib\\site-packages\\httpx\\_client.py\", line 914, in send\n",
      "    response = self._send_handling_auth(\n",
      "               ^^^^^^^^^^^^^^^^^^^^^^^^^\n",
      "  File \"c:\\Users\\oumay\\.vscode\\agent-scripts-\\venv\\Lib\\site-packages\\httpx\\_client.py\", line 942, in _send_handling_auth\n",
      "    response = self._send_handling_redirects(\n",
      "               ^^^^^^^^^^^^^^^^^^^^^^^^^^^^^^\n",
      "  File \"c:\\Users\\oumay\\.vscode\\agent-scripts-\\venv\\Lib\\site-packages\\httpx\\_client.py\", line 979, in _send_handling_redirects\n",
      "    response = self._send_single_request(request)\n",
      "               ^^^^^^^^^^^^^^^^^^^^^^^^^^^^^^^^^^\n",
      "  File \"c:\\Users\\oumay\\.vscode\\agent-scripts-\\venv\\Lib\\site-packages\\httpx\\_client.py\", line 1015, in _send_single_request\n",
      "    response = transport.handle_request(request)\n",
      "               ^^^^^^^^^^^^^^^^^^^^^^^^^^^^^^^^^\n",
      "  File \"c:\\Users\\oumay\\.vscode\\agent-scripts-\\venv\\Lib\\site-packages\\httpx\\_transports\\default.py\", line 232, in handle_request\n",
      "    with map_httpcore_exceptions():\n",
      "  File \"C:\\Python312\\Lib\\contextlib.py\", line 158, in __exit__\n",
      "    self.gen.throw(value)\n",
      "  File \"c:\\Users\\oumay\\.vscode\\agent-scripts-\\venv\\Lib\\site-packages\\httpx\\_transports\\default.py\", line 86, in map_httpcore_exceptions\n",
      "    raise mapped_exc(message) from exc\n",
      "httpx.ConnectError: [WinError 10061] Aucune connexion n’a pu être établie car l’ordinateur cible l’a expressément refusée\n",
      "Giving up execute_task_with_backoff(...) after 3 tries (httpx.ConnectError: [WinError 10061] Aucune connexion n’a pu être établie car l’ordinateur cible l’a expressément refusée)\n",
      "error uploading: [WinError 10061] Aucune connexion n’a pu être établie car l’ordinateur cible l’a expressément refusée\n",
      "Traceback (most recent call last):\n",
      "  File \"c:\\Users\\oumay\\.vscode\\agent-scripts-\\venv\\Lib\\site-packages\\httpx\\_transports\\default.py\", line 69, in map_httpcore_exceptions\n",
      "    yield\n",
      "  File \"c:\\Users\\oumay\\.vscode\\agent-scripts-\\venv\\Lib\\site-packages\\httpx\\_transports\\default.py\", line 233, in handle_request\n",
      "    resp = self._pool.handle_request(req)\n",
      "           ^^^^^^^^^^^^^^^^^^^^^^^^^^^^^^\n",
      "  File \"c:\\Users\\oumay\\.vscode\\agent-scripts-\\venv\\Lib\\site-packages\\httpcore\\_sync\\connection_pool.py\", line 216, in handle_request\n",
      "    raise exc from None\n",
      "  File \"c:\\Users\\oumay\\.vscode\\agent-scripts-\\venv\\Lib\\site-packages\\httpcore\\_sync\\connection_pool.py\", line 196, in handle_request\n",
      "    response = connection.handle_request(\n",
      "               ^^^^^^^^^^^^^^^^^^^^^^^^^^\n",
      "  File \"c:\\Users\\oumay\\.vscode\\agent-scripts-\\venv\\Lib\\site-packages\\httpcore\\_sync\\connection.py\", line 99, in handle_request\n",
      "    raise exc\n",
      "  File \"c:\\Users\\oumay\\.vscode\\agent-scripts-\\venv\\Lib\\site-packages\\httpcore\\_sync\\connection.py\", line 76, in handle_request\n",
      "    stream = self._connect(request)\n",
      "             ^^^^^^^^^^^^^^^^^^^^^^\n",
      "  File \"c:\\Users\\oumay\\.vscode\\agent-scripts-\\venv\\Lib\\site-packages\\httpcore\\_sync\\connection.py\", line 122, in _connect\n",
      "    stream = self._network_backend.connect_tcp(**kwargs)\n",
      "             ^^^^^^^^^^^^^^^^^^^^^^^^^^^^^^^^^^^^^^^^^^^\n",
      "  File \"c:\\Users\\oumay\\.vscode\\agent-scripts-\\venv\\Lib\\site-packages\\httpcore\\_backends\\sync.py\", line 205, in connect_tcp\n",
      "    with map_exceptions(exc_map):\n",
      "  File \"C:\\Python312\\Lib\\contextlib.py\", line 158, in __exit__\n",
      "    self.gen.throw(value)\n",
      "  File \"c:\\Users\\oumay\\.vscode\\agent-scripts-\\venv\\Lib\\site-packages\\httpcore\\_exceptions.py\", line 14, in map_exceptions\n",
      "    raise to_exc(exc) from exc\n",
      "httpcore.ConnectError: [WinError 10061] Aucune connexion n’a pu être établie car l’ordinateur cible l’a expressément refusée\n",
      "\n",
      "The above exception was the direct cause of the following exception:\n",
      "\n",
      "Traceback (most recent call last):\n",
      "  File \"c:\\Users\\oumay\\.vscode\\agent-scripts-\\venv\\Lib\\site-packages\\langfuse\\task_manager.py\", line 204, in upload\n",
      "    self._upload_batch(batch)\n",
      "  File \"c:\\Users\\oumay\\.vscode\\agent-scripts-\\venv\\Lib\\site-packages\\langfuse\\task_manager.py\", line 244, in _upload_batch\n",
      "    execute_task_with_backoff(batch)\n",
      "  File \"c:\\Users\\oumay\\.vscode\\agent-scripts-\\venv\\Lib\\site-packages\\backoff\\_sync.py\", line 105, in retry\n",
      "    ret = target(*args, **kwargs)\n",
      "          ^^^^^^^^^^^^^^^^^^^^^^^\n",
      "  File \"c:\\Users\\oumay\\.vscode\\agent-scripts-\\venv\\Lib\\site-packages\\langfuse\\task_manager.py\", line 242, in execute_task_with_backoff\n",
      "    raise e\n",
      "  File \"c:\\Users\\oumay\\.vscode\\agent-scripts-\\venv\\Lib\\site-packages\\langfuse\\task_manager.py\", line 230, in execute_task_with_backoff\n",
      "    self._client.batch_post(batch=batch, metadata=metadata)\n",
      "  File \"c:\\Users\\oumay\\.vscode\\agent-scripts-\\venv\\Lib\\site-packages\\langfuse\\request.py\", line 55, in batch_post\n",
      "    res = self.post(**kwargs)\n",
      "          ^^^^^^^^^^^^^^^^^^^\n",
      "  File \"c:\\Users\\oumay\\.vscode\\agent-scripts-\\venv\\Lib\\site-packages\\langfuse\\request.py\", line 67, in post\n",
      "    res = self._session.post(\n",
      "          ^^^^^^^^^^^^^^^^^^^\n",
      "  File \"c:\\Users\\oumay\\.vscode\\agent-scripts-\\venv\\Lib\\site-packages\\httpx\\_client.py\", line 1145, in post\n",
      "    return self.request(\n",
      "           ^^^^^^^^^^^^^\n",
      "  File \"c:\\Users\\oumay\\.vscode\\agent-scripts-\\venv\\Lib\\site-packages\\httpx\\_client.py\", line 827, in request\n",
      "    return self.send(request, auth=auth, follow_redirects=follow_redirects)\n",
      "           ^^^^^^^^^^^^^^^^^^^^^^^^^^^^^^^^^^^^^^^^^^^^^^^^^^^^^^^^^^^^^^^^\n",
      "  File \"c:\\Users\\oumay\\.vscode\\agent-scripts-\\venv\\Lib\\site-packages\\httpx\\_client.py\", line 914, in send\n",
      "    response = self._send_handling_auth(\n",
      "               ^^^^^^^^^^^^^^^^^^^^^^^^^\n",
      "  File \"c:\\Users\\oumay\\.vscode\\agent-scripts-\\venv\\Lib\\site-packages\\httpx\\_client.py\", line 942, in _send_handling_auth\n",
      "    response = self._send_handling_redirects(\n",
      "               ^^^^^^^^^^^^^^^^^^^^^^^^^^^^^^\n",
      "  File \"c:\\Users\\oumay\\.vscode\\agent-scripts-\\venv\\Lib\\site-packages\\httpx\\_client.py\", line 979, in _send_handling_redirects\n",
      "    response = self._send_single_request(request)\n",
      "               ^^^^^^^^^^^^^^^^^^^^^^^^^^^^^^^^^^\n",
      "  File \"c:\\Users\\oumay\\.vscode\\agent-scripts-\\venv\\Lib\\site-packages\\httpx\\_client.py\", line 1015, in _send_single_request\n",
      "    response = transport.handle_request(request)\n",
      "               ^^^^^^^^^^^^^^^^^^^^^^^^^^^^^^^^^\n",
      "  File \"c:\\Users\\oumay\\.vscode\\agent-scripts-\\venv\\Lib\\site-packages\\httpx\\_transports\\default.py\", line 232, in handle_request\n",
      "    with map_httpcore_exceptions():\n",
      "  File \"C:\\Python312\\Lib\\contextlib.py\", line 158, in __exit__\n",
      "    self.gen.throw(value)\n",
      "  File \"c:\\Users\\oumay\\.vscode\\agent-scripts-\\venv\\Lib\\site-packages\\httpx\\_transports\\default.py\", line 86, in map_httpcore_exceptions\n",
      "    raise mapped_exc(message) from exc\n",
      "httpx.ConnectError: [WinError 10061] Aucune connexion n’a pu être établie car l’ordinateur cible l’a expressément refusée\n",
      "Giving up execute_task_with_backoff(...) after 3 tries (httpx.ConnectError: [WinError 10061] Aucune connexion n’a pu être établie car l’ordinateur cible l’a expressément refusée)\n",
      "error uploading: [WinError 10061] Aucune connexion n’a pu être établie car l’ordinateur cible l’a expressément refusée\n",
      "Traceback (most recent call last):\n",
      "  File \"c:\\Users\\oumay\\.vscode\\agent-scripts-\\venv\\Lib\\site-packages\\httpx\\_transports\\default.py\", line 69, in map_httpcore_exceptions\n",
      "    yield\n",
      "  File \"c:\\Users\\oumay\\.vscode\\agent-scripts-\\venv\\Lib\\site-packages\\httpx\\_transports\\default.py\", line 233, in handle_request\n",
      "    resp = self._pool.handle_request(req)\n",
      "           ^^^^^^^^^^^^^^^^^^^^^^^^^^^^^^\n",
      "  File \"c:\\Users\\oumay\\.vscode\\agent-scripts-\\venv\\Lib\\site-packages\\httpcore\\_sync\\connection_pool.py\", line 216, in handle_request\n",
      "    raise exc from None\n",
      "  File \"c:\\Users\\oumay\\.vscode\\agent-scripts-\\venv\\Lib\\site-packages\\httpcore\\_sync\\connection_pool.py\", line 196, in handle_request\n",
      "    response = connection.handle_request(\n",
      "               ^^^^^^^^^^^^^^^^^^^^^^^^^^\n",
      "  File \"c:\\Users\\oumay\\.vscode\\agent-scripts-\\venv\\Lib\\site-packages\\httpcore\\_sync\\connection.py\", line 99, in handle_request\n",
      "    raise exc\n",
      "  File \"c:\\Users\\oumay\\.vscode\\agent-scripts-\\venv\\Lib\\site-packages\\httpcore\\_sync\\connection.py\", line 76, in handle_request\n",
      "    stream = self._connect(request)\n",
      "             ^^^^^^^^^^^^^^^^^^^^^^\n",
      "  File \"c:\\Users\\oumay\\.vscode\\agent-scripts-\\venv\\Lib\\site-packages\\httpcore\\_sync\\connection.py\", line 122, in _connect\n",
      "    stream = self._network_backend.connect_tcp(**kwargs)\n",
      "             ^^^^^^^^^^^^^^^^^^^^^^^^^^^^^^^^^^^^^^^^^^^\n",
      "  File \"c:\\Users\\oumay\\.vscode\\agent-scripts-\\venv\\Lib\\site-packages\\httpcore\\_backends\\sync.py\", line 205, in connect_tcp\n",
      "    with map_exceptions(exc_map):\n",
      "  File \"C:\\Python312\\Lib\\contextlib.py\", line 158, in __exit__\n",
      "    self.gen.throw(value)\n",
      "  File \"c:\\Users\\oumay\\.vscode\\agent-scripts-\\venv\\Lib\\site-packages\\httpcore\\_exceptions.py\", line 14, in map_exceptions\n",
      "    raise to_exc(exc) from exc\n",
      "httpcore.ConnectError: [WinError 10061] Aucune connexion n’a pu être établie car l’ordinateur cible l’a expressément refusée\n",
      "\n",
      "The above exception was the direct cause of the following exception:\n",
      "\n",
      "Traceback (most recent call last):\n",
      "  File \"c:\\Users\\oumay\\.vscode\\agent-scripts-\\venv\\Lib\\site-packages\\langfuse\\task_manager.py\", line 204, in upload\n",
      "    self._upload_batch(batch)\n",
      "  File \"c:\\Users\\oumay\\.vscode\\agent-scripts-\\venv\\Lib\\site-packages\\langfuse\\task_manager.py\", line 244, in _upload_batch\n",
      "    execute_task_with_backoff(batch)\n",
      "  File \"c:\\Users\\oumay\\.vscode\\agent-scripts-\\venv\\Lib\\site-packages\\backoff\\_sync.py\", line 105, in retry\n",
      "    ret = target(*args, **kwargs)\n",
      "          ^^^^^^^^^^^^^^^^^^^^^^^\n",
      "  File \"c:\\Users\\oumay\\.vscode\\agent-scripts-\\venv\\Lib\\site-packages\\langfuse\\task_manager.py\", line 242, in execute_task_with_backoff\n",
      "    raise e\n",
      "  File \"c:\\Users\\oumay\\.vscode\\agent-scripts-\\venv\\Lib\\site-packages\\langfuse\\task_manager.py\", line 230, in execute_task_with_backoff\n",
      "    self._client.batch_post(batch=batch, metadata=metadata)\n",
      "  File \"c:\\Users\\oumay\\.vscode\\agent-scripts-\\venv\\Lib\\site-packages\\langfuse\\request.py\", line 55, in batch_post\n",
      "    res = self.post(**kwargs)\n",
      "          ^^^^^^^^^^^^^^^^^^^\n",
      "  File \"c:\\Users\\oumay\\.vscode\\agent-scripts-\\venv\\Lib\\site-packages\\langfuse\\request.py\", line 67, in post\n",
      "    res = self._session.post(\n",
      "          ^^^^^^^^^^^^^^^^^^^\n",
      "  File \"c:\\Users\\oumay\\.vscode\\agent-scripts-\\venv\\Lib\\site-packages\\httpx\\_client.py\", line 1145, in post\n",
      "    return self.request(\n",
      "           ^^^^^^^^^^^^^\n",
      "  File \"c:\\Users\\oumay\\.vscode\\agent-scripts-\\venv\\Lib\\site-packages\\httpx\\_client.py\", line 827, in request\n",
      "    return self.send(request, auth=auth, follow_redirects=follow_redirects)\n",
      "           ^^^^^^^^^^^^^^^^^^^^^^^^^^^^^^^^^^^^^^^^^^^^^^^^^^^^^^^^^^^^^^^^\n",
      "  File \"c:\\Users\\oumay\\.vscode\\agent-scripts-\\venv\\Lib\\site-packages\\httpx\\_client.py\", line 914, in send\n",
      "    response = self._send_handling_auth(\n",
      "               ^^^^^^^^^^^^^^^^^^^^^^^^^\n",
      "  File \"c:\\Users\\oumay\\.vscode\\agent-scripts-\\venv\\Lib\\site-packages\\httpx\\_client.py\", line 942, in _send_handling_auth\n",
      "    response = self._send_handling_redirects(\n",
      "               ^^^^^^^^^^^^^^^^^^^^^^^^^^^^^^\n",
      "  File \"c:\\Users\\oumay\\.vscode\\agent-scripts-\\venv\\Lib\\site-packages\\httpx\\_client.py\", line 979, in _send_handling_redirects\n",
      "    response = self._send_single_request(request)\n",
      "               ^^^^^^^^^^^^^^^^^^^^^^^^^^^^^^^^^^\n",
      "  File \"c:\\Users\\oumay\\.vscode\\agent-scripts-\\venv\\Lib\\site-packages\\httpx\\_client.py\", line 1015, in _send_single_request\n",
      "    response = transport.handle_request(request)\n",
      "               ^^^^^^^^^^^^^^^^^^^^^^^^^^^^^^^^^\n",
      "  File \"c:\\Users\\oumay\\.vscode\\agent-scripts-\\venv\\Lib\\site-packages\\httpx\\_transports\\default.py\", line 232, in handle_request\n",
      "    with map_httpcore_exceptions():\n",
      "  File \"C:\\Python312\\Lib\\contextlib.py\", line 158, in __exit__\n",
      "    self.gen.throw(value)\n",
      "  File \"c:\\Users\\oumay\\.vscode\\agent-scripts-\\venv\\Lib\\site-packages\\httpx\\_transports\\default.py\", line 86, in map_httpcore_exceptions\n",
      "    raise mapped_exc(message) from exc\n",
      "httpx.ConnectError: [WinError 10061] Aucune connexion n’a pu être établie car l’ordinateur cible l’a expressément refusée\n",
      "Giving up execute_task_with_backoff(...) after 3 tries (httpx.ConnectError: [WinError 10061] Aucune connexion n’a pu être établie car l’ordinateur cible l’a expressément refusée)\n",
      "error uploading: [WinError 10061] Aucune connexion n’a pu être établie car l’ordinateur cible l’a expressément refusée\n",
      "Traceback (most recent call last):\n",
      "  File \"c:\\Users\\oumay\\.vscode\\agent-scripts-\\venv\\Lib\\site-packages\\httpx\\_transports\\default.py\", line 69, in map_httpcore_exceptions\n",
      "    yield\n",
      "  File \"c:\\Users\\oumay\\.vscode\\agent-scripts-\\venv\\Lib\\site-packages\\httpx\\_transports\\default.py\", line 233, in handle_request\n",
      "    resp = self._pool.handle_request(req)\n",
      "           ^^^^^^^^^^^^^^^^^^^^^^^^^^^^^^\n",
      "  File \"c:\\Users\\oumay\\.vscode\\agent-scripts-\\venv\\Lib\\site-packages\\httpcore\\_sync\\connection_pool.py\", line 216, in handle_request\n",
      "    raise exc from None\n",
      "  File \"c:\\Users\\oumay\\.vscode\\agent-scripts-\\venv\\Lib\\site-packages\\httpcore\\_sync\\connection_pool.py\", line 196, in handle_request\n",
      "    response = connection.handle_request(\n",
      "               ^^^^^^^^^^^^^^^^^^^^^^^^^^\n",
      "  File \"c:\\Users\\oumay\\.vscode\\agent-scripts-\\venv\\Lib\\site-packages\\httpcore\\_sync\\connection.py\", line 99, in handle_request\n",
      "    raise exc\n",
      "  File \"c:\\Users\\oumay\\.vscode\\agent-scripts-\\venv\\Lib\\site-packages\\httpcore\\_sync\\connection.py\", line 76, in handle_request\n",
      "    stream = self._connect(request)\n",
      "             ^^^^^^^^^^^^^^^^^^^^^^\n",
      "  File \"c:\\Users\\oumay\\.vscode\\agent-scripts-\\venv\\Lib\\site-packages\\httpcore\\_sync\\connection.py\", line 122, in _connect\n",
      "    stream = self._network_backend.connect_tcp(**kwargs)\n",
      "             ^^^^^^^^^^^^^^^^^^^^^^^^^^^^^^^^^^^^^^^^^^^\n",
      "  File \"c:\\Users\\oumay\\.vscode\\agent-scripts-\\venv\\Lib\\site-packages\\httpcore\\_backends\\sync.py\", line 205, in connect_tcp\n",
      "    with map_exceptions(exc_map):\n",
      "  File \"C:\\Python312\\Lib\\contextlib.py\", line 158, in __exit__\n",
      "    self.gen.throw(value)\n",
      "  File \"c:\\Users\\oumay\\.vscode\\agent-scripts-\\venv\\Lib\\site-packages\\httpcore\\_exceptions.py\", line 14, in map_exceptions\n",
      "    raise to_exc(exc) from exc\n",
      "httpcore.ConnectError: [WinError 10061] Aucune connexion n’a pu être établie car l’ordinateur cible l’a expressément refusée\n",
      "\n",
      "The above exception was the direct cause of the following exception:\n",
      "\n",
      "Traceback (most recent call last):\n",
      "  File \"c:\\Users\\oumay\\.vscode\\agent-scripts-\\venv\\Lib\\site-packages\\langfuse\\task_manager.py\", line 204, in upload\n",
      "    self._upload_batch(batch)\n",
      "  File \"c:\\Users\\oumay\\.vscode\\agent-scripts-\\venv\\Lib\\site-packages\\langfuse\\task_manager.py\", line 244, in _upload_batch\n",
      "    execute_task_with_backoff(batch)\n",
      "  File \"c:\\Users\\oumay\\.vscode\\agent-scripts-\\venv\\Lib\\site-packages\\backoff\\_sync.py\", line 105, in retry\n",
      "    ret = target(*args, **kwargs)\n",
      "          ^^^^^^^^^^^^^^^^^^^^^^^\n",
      "  File \"c:\\Users\\oumay\\.vscode\\agent-scripts-\\venv\\Lib\\site-packages\\langfuse\\task_manager.py\", line 242, in execute_task_with_backoff\n",
      "    raise e\n",
      "  File \"c:\\Users\\oumay\\.vscode\\agent-scripts-\\venv\\Lib\\site-packages\\langfuse\\task_manager.py\", line 230, in execute_task_with_backoff\n",
      "    self._client.batch_post(batch=batch, metadata=metadata)\n",
      "  File \"c:\\Users\\oumay\\.vscode\\agent-scripts-\\venv\\Lib\\site-packages\\langfuse\\request.py\", line 55, in batch_post\n",
      "    res = self.post(**kwargs)\n",
      "          ^^^^^^^^^^^^^^^^^^^\n",
      "  File \"c:\\Users\\oumay\\.vscode\\agent-scripts-\\venv\\Lib\\site-packages\\langfuse\\request.py\", line 67, in post\n",
      "    res = self._session.post(\n",
      "          ^^^^^^^^^^^^^^^^^^^\n",
      "  File \"c:\\Users\\oumay\\.vscode\\agent-scripts-\\venv\\Lib\\site-packages\\httpx\\_client.py\", line 1145, in post\n",
      "    return self.request(\n",
      "           ^^^^^^^^^^^^^\n",
      "  File \"c:\\Users\\oumay\\.vscode\\agent-scripts-\\venv\\Lib\\site-packages\\httpx\\_client.py\", line 827, in request\n",
      "    return self.send(request, auth=auth, follow_redirects=follow_redirects)\n",
      "           ^^^^^^^^^^^^^^^^^^^^^^^^^^^^^^^^^^^^^^^^^^^^^^^^^^^^^^^^^^^^^^^^\n",
      "  File \"c:\\Users\\oumay\\.vscode\\agent-scripts-\\venv\\Lib\\site-packages\\httpx\\_client.py\", line 914, in send\n",
      "    response = self._send_handling_auth(\n",
      "               ^^^^^^^^^^^^^^^^^^^^^^^^^\n",
      "  File \"c:\\Users\\oumay\\.vscode\\agent-scripts-\\venv\\Lib\\site-packages\\httpx\\_client.py\", line 942, in _send_handling_auth\n",
      "    response = self._send_handling_redirects(\n",
      "               ^^^^^^^^^^^^^^^^^^^^^^^^^^^^^^\n",
      "  File \"c:\\Users\\oumay\\.vscode\\agent-scripts-\\venv\\Lib\\site-packages\\httpx\\_client.py\", line 979, in _send_handling_redirects\n",
      "    response = self._send_single_request(request)\n",
      "               ^^^^^^^^^^^^^^^^^^^^^^^^^^^^^^^^^^\n",
      "  File \"c:\\Users\\oumay\\.vscode\\agent-scripts-\\venv\\Lib\\site-packages\\httpx\\_client.py\", line 1015, in _send_single_request\n",
      "    response = transport.handle_request(request)\n",
      "               ^^^^^^^^^^^^^^^^^^^^^^^^^^^^^^^^^\n",
      "  File \"c:\\Users\\oumay\\.vscode\\agent-scripts-\\venv\\Lib\\site-packages\\httpx\\_transports\\default.py\", line 232, in handle_request\n",
      "    with map_httpcore_exceptions():\n",
      "  File \"C:\\Python312\\Lib\\contextlib.py\", line 158, in __exit__\n",
      "    self.gen.throw(value)\n",
      "  File \"c:\\Users\\oumay\\.vscode\\agent-scripts-\\venv\\Lib\\site-packages\\httpx\\_transports\\default.py\", line 86, in map_httpcore_exceptions\n",
      "    raise mapped_exc(message) from exc\n",
      "httpx.ConnectError: [WinError 10061] Aucune connexion n’a pu être établie car l’ordinateur cible l’a expressément refusée\n"
     ]
    }
   ],
   "source": [
    "chain.invoke({\n",
    "            \"messages\": [\"list Vms on node 'Proxmox-Node-HCM'\"],\n",
    "            \"next\": None,\n",
    "            \"team_members\": []\n",
    "        }, config={\"callbacks\": [langfuse_handler]})"
   ]
  },
  {
   "cell_type": "code",
   "execution_count": null,
   "metadata": {},
   "outputs": [],
   "source": []
  }
 ],
 "metadata": {
  "kernelspec": {
   "display_name": "Python 3",
   "language": "python",
   "name": "python3"
  },
  "language_info": {
   "codemirror_mode": {
    "name": "ipython",
    "version": 3
   },
   "file_extension": ".py",
   "mimetype": "text/x-python",
   "name": "python",
   "nbconvert_exporter": "python",
   "pygments_lexer": "ipython3",
   "version": "3.12.3"
  }
 },
 "nbformat": 4,
 "nbformat_minor": 2
}
