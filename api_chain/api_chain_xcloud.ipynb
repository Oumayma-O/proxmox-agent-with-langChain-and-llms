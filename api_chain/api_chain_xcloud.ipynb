
{
   "cells": [
    {
     "cell_type": "code",
     "execution_count": 1,
     "metadata": {},
     "outputs": [
      {
       "name": "stderr",
       "output_type": "stream",
       "text": [
        "c:\\Users\\MSI\\Desktop\\cor\\imx\\env\\lib\\site-packages\\tqdm\\auto.py:21: TqdmWarning: IProgress not found. Please update jupyter and ipywidgets. See https://ipywidgets.readthedocs.io/en/stable/user_install.html\n",
        "  from .autonotebook import tqdm as notebook_tqdm\n"
       ]
      }
     ],
     "source": [
      "import json\n",
      "import os\n",
      "import getpass\n",
      "from typing import Dict, Any\n",
      "from langchain_community.llms import Ollama\n",
      "from langchain_core.prompts import PromptTemplate\n",
      "from langchain_google_genai import ChatGoogleGenerativeAI\n",
      "\n",
      "from core.powerfulchain import PowerfulAPIChain\n",
      "\n",
      "llm_kwargs: Dict[str, Any] = {\n",
      "    \"model\": \"llama3:instruct\", # Model name\n",
      "    \"temperature\": 0,\n",
      "    \"num_ctx\": 2048, # Context size,\n",
      "    \"base_url\": \"http://localhost:11434\"\n",
      "}\n",
      "\n",
      "llm = Ollama(**llm_kwargs)"
     ]
    },
    {
     "cell_type": "code",
     "execution_count": 2,
     "metadata": {},
     "outputs": [
      {
       "name": "stdout",
       "output_type": "stream",
       "text": [
        "GOOGLE_API_KEY: ✅\n",
        "VAULT_URL: ❌\n",
        "VAULT_TOKEN: ❌\n"
       ]
      }
     ],
     "source": [
      "ENV_VARS = (\n",
      "    {\"name\": \"GOOGLE_API_KEY\", \"required\": True, \"force_reset\": False, \"hide\": True},\n",
      "    {\"name\": \"VAULT_URL\", \"required\": False, \"force_reset\": False, \"hide\": False},\n",
      "    {\"name\": \"VAULT_TOKEN\", \"required\": False, \"force_reset\": False, \"hide\": True},\n",
      ")\n",
      "for var in ENV_VARS:\n",
      "    if var[\"required\"] and (var[\"name\"] not in os.environ or var[\"force_reset\"]):\n",
      "        os.environ[var[\"name\"]] = getpass.getpass(f\"{var['name'].replace('_', ' ').title()}: \")\n",
      "    present = \" ✅\" if var[\"name\"] in os.environ and len(os.environ[var[\"name\"]]) > 0 else \" ❌\"\n",
      "    value = f\" {os.environ[var['name']]}\" if var[\"name\"] in os.environ and not var[\"hide\"] else \"\"\n",
      "    print(f\"{var['name']}:{value}{present}\")"
     ]
    },
    {
     "cell_type": "code",
     "execution_count": 3,
     "metadata": {},
     "outputs": [],
     "source": [
      "llm = ChatGoogleGenerativeAI(model=\"gemini-1.5-flash-latest\", temperature=0)"
     ]
    },
    {
     "cell_type": "code",
     "execution_count": 4,
     "metadata": {},
     "outputs": [],
     "source": [
      "# Example of processed API docs from https://api.xcloud.coralio.fr/openapi.json\n",
      "\n",
      "_api_docs = {'base_url': 'https://api.xcloud.coralio.fr/',\n",
      " 'endpoints': [\n",
      "        {'/api/chat': {'post': {'tags': ['Chat'\n",
      "                    ],\n",
      "     'summary': 'Create Chat',\n",
      "     'description': 'Creates a chat',\n",
      "     'operationId': 'create_chat_api_chat_post',\n",
      "     'requestBody': {'required': True,\n",
      "      'content': {'application/json': {'schema': {'$ref': {'properties': {'user_id': {'anyOf': [\n",
      "                                                    {'type': 'string'\n",
      "                                                    },\n",
      "                                                    {'type': 'string', 'format': 'uuid'\n",
      "                                                    }\n",
      "                                                ],\n",
      "            'title': 'User Id'\n",
      "                                            },\n",
      "           'type': {'type': 'string', 'enum': ['dm', 'gc'\n",
      "                                                ], 'title': 'Type'\n",
      "                                            },\n",
      "           'name': {'anyOf': [\n",
      "                                                    {'type': 'string'\n",
      "                                                    },\n",
      "                                                    {'type': 'null'\n",
      "                                                    }\n",
      "                                                ],\n",
      "            'title': 'Name',\n",
      "            'default': ''\n",
      "                                            },\n",
      "           'participants': {'items': {'anyOf': [\n",
      "                                                        {'type': 'string'\n",
      "                                                        },\n",
      "                                                        {'type': 'string', 'format': 'uuid'\n",
      "                                                        }\n",
      "                                                    ]\n",
      "                                                },\n",
      "            'type': 'array',\n",
      "            'title': 'Participants'\n",
      "                                            }\n",
      "                                        },\n",
      "          'type': 'object',\n",
      "          'required': ['user_id', 'type', 'participants'\n",
      "                                        ],\n",
      "          'title': 'ChatCreate'\n",
      "                                    }\n",
      "                                }\n",
      "                            }\n",
      "                        }\n",
      "                    },\n",
      "     'responses': {'201': {'description': 'Successful Response',\n",
      "       'content': {'application/json': {'schema': {}\n",
      "                                }\n",
      "                            }\n",
      "                        },\n",
      "      '422': {'description': 'Validation Error',\n",
      "       'content': {'application/json': {'schema': {'$ref': '#/components/schemas/HTTPValidationError'\n",
      "                                    }\n",
      "                                }\n",
      "                            }\n",
      "                        }\n",
      "                    },\n",
      "     'apiUrl': 'https://api.xcloud.coralio.fr/api/chat'},\n",
      "    'get': {'tags': ['Chat'\n",
      "                        ],\n",
      "     'summary': 'List Chats',\n",
      "     'operationId': 'list_chats_api_chat_get',\n",
      "     'parameters': [\n",
      "                            {'name': 'user_id',\n",
      "       'in': 'query',\n",
      "       'required': True,\n",
      "       'schema': {'type': 'string', 'title': 'User Id'\n",
      "                                }\n",
      "                            },\n",
      "                            {'name': 'q',\n",
      "       'in': 'query',\n",
      "       'required': False,\n",
      "       'schema': {'type': 'string', 'default': '', 'title': 'Q'\n",
      "                                }\n",
      "                            },\n",
      "                            {'name': 'type',\n",
      "       'in': 'query',\n",
      "       'required': False,\n",
      "       'schema': {'enum': ['dm', 'gc'\n",
      "                                    ], 'type': 'string', 'title': 'Type'\n",
      "                                }\n",
      "                            },\n",
      "                            {'name': 'limit',\n",
      "       'in': 'query',\n",
      "       'required': False,\n",
      "       'schema': {'type': 'integer',\n",
      "        'maximum': 25,\n",
      "        'minimum': 1,\n",
      "        'default': 10,\n",
      "        'title': 'Limit'\n",
      "                                }\n",
      "                            },\n",
      "                            {'name': 'offset',\n",
      "       'in': 'query',\n",
      "       'required': False,\n",
      "       'schema': {'type': 'integer',\n",
      "        'minimum': 0,\n",
      "        'default': 0,\n",
      "        'title': 'Offset'\n",
      "                                }\n",
      "                            }\n",
      "                        ],\n",
      "     'responses': {'200': {'description': 'Successful Response',\n",
      "       'content': {'application/json': {'schema': {}\n",
      "                                    }\n",
      "                                }\n",
      "                            },\n",
      "      '422': {'description': 'Validation Error',\n",
      "       'content': {'application/json': {'schema': {'$ref': '#/components/schemas/HTTPValidationError'\n",
      "                                        }\n",
      "                                    }\n",
      "                                }\n",
      "                            }\n",
      "                        },\n",
      "     'apiUrl': 'https://api.xcloud.coralio.fr/api/chat'}}}]}\n",
      "api_docs = json.dumps(_api_docs, indent=2)"
     ]
    },
    {
     "cell_type": "code",
     "execution_count": 5,
     "metadata": {},
     "outputs": [],
     "source": [
      "api_url_template = \"\"\"\n",
      "Given the following API Documentation: {api_docs}\n",
      "Your task is to construct the most efficient API URL to answer \n",
      "the user's question, ensuring the \n",
      "call is optimized to include only necessary information.\n",
      "If a parameter is not required and does not have a\n",
      "default value, do NOT include it in the API URL, unless you think\n",
      "it's relevant to the user's question.\n",
      "You MUST extract the API URL, request METHOD and generate the BODY data in JSON format\n",
      "according to the user question if necessary.\n",
      "The parameters' names and BODY data keys MUST be obtained from the provided context.\n",
      "Do NOT make up parameters' names.\n",
      "The BODY data can be an empty JSON.\n",
      "Output the API URL, METHOD and BODY. Join them with `|`. DO NOT GIVE ANY EXPLANATION.\n",
      "\n",
      "Question: {question}\n",
      "\n",
      "Output:\n",
      "\"\"\"\n",
      "api_url_prompt = PromptTemplate(input_variables=['api_docs', 'question'],\n",
      "                                template=api_url_template)\n",
      "\n",
      "api_response_template = \"\"\"\n",
      "With the following official API Documentation: {api_docs} \n",
      "and the specific user question: {question} in mind,\n",
      "and given this API URL: {api_url} for querying, here is the \n",
      "response from the API: {api_response}. \n",
      "Do NOT include technical details like response format.\n",
      "Do NOT include any thoughts or internal processes.\n",
      "You MUST provide a clear, relevant and concise answer.\n",
      "\n",
      "Response:\n",
      "\"\"\"\n",
      "api_response_prompt = PromptTemplate(input_variables=['api_docs', \n",
      "                                                      'question', \n",
      "                                                      'api_url',\n",
      "                                                      'api_response'],\n",
      "                                     template=api_response_template)"
     ]
    },
    {
     "cell_type": "code",
     "execution_count": 6,
     "metadata": {},
     "outputs": [
      {
       "name": "stderr",
       "output_type": "stream",
       "text": [
        "c:\\Users\\MSI\\Desktop\\cor\\imx\\env\\lib\\site-packages\\langchain_core\\_api\\deprecation.py:139: LangChainDeprecationWarning: The class `LLMChain` was deprecated in LangChain 0.1.17 and will be removed in 1.0. Use RunnableSequence, e.g., `prompt | llm` instead.\n",
        "  warn_deprecated(\n"
       ]
      }
     ],
     "source": [
      "# Instantiate the new PowerfulAPIChain class\n",
      "\n",
      "chain = PowerfulAPIChain.from_llm_and_api_docs(\n",
      "    llm,\n",
      "    api_docs=api_docs,\n",
      "    headers=None,\n",
      "    api_url_prompt=api_url_prompt,\n",
      "    api_response_prompt=api_response_prompt,\n",
      "    verbose=True,\n",
      "    limit_to_domains=[\"https://api.xcloud.coralio.fr/\"],\n",
      ")"
     ]
    },
    {
     "cell_type": "code",
     "execution_count": 11,
     "metadata": {},
     "outputs": [
      {
       "name": "stdout",
       "output_type": "stream",
       "text": [
        "\n",
        "\n",
        "\u001b[1m> Entering new PowerfulAPIChain chain...\u001b[0m\n",
        "Request info: https://api.xcloud.coralio.fr/api/chat?user_id=ff0d95a2-69ca-41ca-9c91-064259adb7c4 | GET | {} \n",
        "\n",
        "API URL: https://api.xcloud.coralio.fr/api/chat?user_id=ff0d95a2-69ca-41ca-9c91-064259adb7c4\n",
        "Request method: GET\n",
        "Request body: {}\n",
        "\u001b[33;1m\u001b[1;3mStatus: 200 OK\n",
        "Response: {\"count\":17,\"data\":[{\"id\":\"d1e7e7a4-339d-49fe-ba0e-d768731c2768\",\"type\":\"gc\",\"user_id\":\"ff0d95a2-69ca-41ca-9c91-064259adb7c4\",\"name\":\"devops team\",\"date_created\":\"08-07-2024 14:28:53\",\"date_updated\":\"08-07-2024 14:28:53\",\"members\":[{\"id\":\"0c6d43a9-3bf6-48a0-bf2e-5ab719f009f1\",\"first_name\":\"Raed\",\"last_name\":\"Chebbi\",\"username\":\"r.chebbi@coral-io.fr\",\"email\":\"r.chebbi@coral-io.fr\",\"date_created\":\"10-05-2024 13:26:17\",\"is_online\":null,\"last_online\":null},{\"id\":\"ff0d95a2-69ca-41ca-9c91-064259adb7c4\",\"first_name\":\"test\",\"last_name\":\"test\",\"username\":\"test\",\"email\":\"oumaima96.aounallah@gmail.com\",\"date_created\":\"10-05-2024 13:26:17\",\"is_online\":false,\"last_online\":\"22-05-2024 14:46\"}],\"created_by\":{\"id\":\"ff0d95a2-69ca-41ca-9c91-064259adb7c4\",\"first_name\":\"test\",\"last_name\":\"test\",\"username\":\"test\",\"email\":\"oumaima96.aounallah@gmail.com\",\"date_created\":\"10-05-2024 13:26:17\",\"is_online\":false,\"last_online\":\"22-05-2024 14:46\"},\"views\":[]},{\"id\":\"da613954-9569-4d9d-9566-312cc35c4350\",\"type\":\"gc\",\"user_id\":\"ff0d95a2-69ca-41ca-9c91-064259adb7c4\",\"name\":\"devops team\",\"date_created\":\"08-07-2024 14:25:13\",\"date_updated\":\"08-07-2024 14:25:13\",\"members\":[{\"id\":\"0c6d43a9-3bf6-48a0-bf2e-5ab719f009f1\",\"first_name\":\"Raed\",\"last_name\":\"Chebbi\",\"username\":\"r.chebbi@coral-io.fr\",\"email\":\"r.chebbi@coral-io.fr\",\"date_created\":\"10-05-2024 13:26:17\",\"is_online\":null,\"last_online\":null},{\"id\":\"ff0d95a2-69ca-41ca-9c91-064259adb7c4\",\"first_name\":\"test\",\"last_name\":\"test\",\"username\":\"test\",\"email\":\"oumaima96.aounallah@gmail.com\",\"date_created\":\"10-05-2024 13:26:17\",\"is_online\":false,\"last_online\":\"22-05-2024 14:46\"}],\"created_by\":{\"id\":\"ff0d95a2-69ca-41ca-9c91-064259adb7c4\",\"first_name\":\"test\",\"last_name\":\"test\",\"username\":\"test\",\"email\":\"oumaima96.aounallah@gmail.com\",\"date_created\":\"10-05-2024 13:26:17\",\"is_online\":false,\"last_online\":\"22-05-2024 14:46\"},\"views\":[]},{\"id\":\"b75405ca-1682-448f-a257-0f03d3217f87\",\"type\":\"gc\",\"user_id\":\"ff0d95a2-69ca-41ca-9c91-064259adb7c4\",\"name\":\"my group chat 5\",\"date_created\":\"05-07-2024 13:40:07\",\"date_updated\":\"05-07-2024 13:40:07\",\"members\":[{\"id\":\"0c6d43a9-3bf6-48a0-bf2e-5ab719f009f1\",\"first_name\":\"Raed\",\"last_name\":\"Chebbi\",\"username\":\"r.chebbi@coral-io.fr\",\"email\":\"r.chebbi@coral-io.fr\",\"date_created\":\"10-05-2024 13:26:17\",\"is_online\":null,\"last_online\":null},{\"id\":\"ff0d95a2-69ca-41ca-9c91-064259adb7c4\",\"first_name\":\"test\",\"last_name\":\"test\",\"username\":\"test\",\"email\":\"oumaima96.aounallah@gmail.com\",\"date_created\":\"10-05-2024 13:26:17\",\"is_online\":false,\"last_online\":\"22-05-2024 14:46\"}],\"created_by\":{\"id\":\"ff0d95a2-69ca-41ca-9c91-064259adb7c4\",\"first_name\":\"test\",\"last_name\":\"test\",\"username\":\"test\",\"email\":\"oumaima96.aounallah@gmail.com\",\"date_created\":\"10-05-2024 13:26:17\",\"is_online\":false,\"last_online\":\"22-05-2024 14:46\"},\"views\":[]},{\"id\":\"347e87d7-c0b2-4009-b5bd-520c4d9be88f\",\"type\":\"gc\",\"user_id\":\"ff0d95a2-69ca-41ca-9c91-064259adb7c4\",\"name\":\"my group chat 5\",\"date_created\":\"05-07-2024 13:35:18\",\"date_updated\":\"05-07-2024 13:35:18\",\"members\":[{\"id\":\"0c6d43a9-3bf6-48a0-bf2e-5ab719f009f1\",\"first_name\":\"Raed\",\"last_name\":\"Chebbi\",\"username\":\"r.chebbi@coral-io.fr\",\"email\":\"r.chebbi@coral-io.fr\",\"date_created\":\"10-05-2024 13:26:17\",\"is_online\":null,\"last_online\":null},{\"id\":\"ff0d95a2-69ca-41ca-9c91-064259adb7c4\",\"first_name\":\"test\",\"last_name\":\"test\",\"username\":\"test\",\"email\":\"oumaima96.aounallah@gmail.com\",\"date_created\":\"10-05-2024 13:26:17\",\"is_online\":false,\"last_online\":\"22-05-2024 14:46\"}],\"created_by\":{\"id\":\"ff0d95a2-69ca-41ca-9c91-064259adb7c4\",\"first_name\":\"test\",\"last_name\":\"test\",\"username\":\"test\",\"email\":\"oumaima96.aounallah@gmail.com\",\"date_created\":\"10-05-2024 13:26:17\",\"is_online\":false,\"last_online\":\"22-05-2024 14:46\"},\"views\":[]},{\"id\":\"9ece746e-d566-4799-8b40-fc2a6c64794a\",\"type\":\"gc\",\"user_id\":\"ff0d95a2-69ca-41ca-9c91-064259adb7c4\",\"name\":\"my group chat 5\",\"date_created\":\"04-07-2024 16:05:12\",\"date_updated\":\"04-07-2024 16:05:12\",\"members\":[{\"id\":\"0c6d43a9-3bf6-48a0-bf2e-5ab719f009f1\",\"first_name\":\"Raed\",\"last_name\":\"Chebbi\",\"username\":\"r.chebbi@coral-io.fr\",\"email\":\"r.chebbi@coral-io.fr\",\"date_created\":\"10-05-2024 13:26:17\",\"is_online\":null,\"last_online\":null},{\"id\":\"ff0d95a2-69ca-41ca-9c91-064259adb7c4\",\"first_name\":\"test\",\"last_name\":\"test\",\"username\":\"test\",\"email\":\"oumaima96.aounallah@gmail.com\",\"date_created\":\"10-05-2024 13:26:17\",\"is_online\":false,\"last_online\":\"22-05-2024 14:46\"}],\"created_by\":{\"id\":\"ff0d95a2-69ca-41ca-9c91-064259adb7c4\",\"first_name\":\"test\",\"last_name\":\"test\",\"username\":\"test\",\"email\":\"oumaima96.aounallah@gmail.com\",\"date_created\":\"10-05-2024 13:26:17\",\"is_online\":false,\"last_online\":\"22-05-2024 14:46\"},\"views\":[]},{\"id\":\"890beae8-08b8-4497-8fc6-176ffda2252a\",\"type\":\"gc\",\"user_id\":\"ff0d95a2-69ca-41ca-9c91-064259adb7c4\",\"name\":\"my group chat 5\",\"date_created\":\"04-07-2024 15:23:41\",\"date_updated\":\"04-07-2024 15:23:41\",\"members\":[{\"id\":\"0c6d43a9-3bf6-48a0-bf2e-5ab719f009f1\",\"first_name\":\"Raed\",\"last_name\":\"Chebbi\",\"username\":\"r.chebbi@coral-io.fr\",\"email\":\"r.chebbi@coral-io.fr\",\"date_created\":\"10-05-2024 13:26:17\",\"is_online\":null,\"last_online\":null},{\"id\":\"ff0d95a2-69ca-41ca-9c91-064259adb7c4\",\"first_name\":\"test\",\"last_name\":\"test\",\"username\":\"test\",\"email\":\"oumaima96.aounallah@gmail.com\",\"date_created\":\"10-05-2024 13:26:17\",\"is_online\":false,\"last_online\":\"22-05-2024 14:46\"}],\"created_by\":{\"id\":\"ff0d95a2-69ca-41ca-9c91-064259adb7c4\",\"first_name\":\"test\",\"last_name\":\"test\",\"username\":\"test\",\"email\":\"oumaima96.aounallah@gmail.com\",\"date_created\":\"10-05-2024 13:26:17\",\"is_online\":false,\"last_online\":\"22-05-2024 14:46\"},\"views\":[]},{\"id\":\"882965b8-6c41-4c74-ba8f-af7f7f151b91\",\"type\":\"gc\",\"user_id\":\"ff0d95a2-69ca-41ca-9c91-064259adb7c4\",\"name\":\"my group chat 5\",\"date_created\":\"03-07-2024 11:14:35\",\"date_updated\":\"03-07-2024 11:14:35\",\"members\":[{\"id\":\"0c6d43a9-3bf6-48a0-bf2e-5ab719f009f1\",\"first_name\":\"Raed\",\"last_name\":\"Chebbi\",\"username\":\"r.chebbi@coral-io.fr\",\"email\":\"r.chebbi@coral-io.fr\",\"date_created\":\"10-05-2024 13:26:17\",\"is_online\":null,\"last_online\":null},{\"id\":\"ff0d95a2-69ca-41ca-9c91-064259adb7c4\",\"first_name\":\"test\",\"last_name\":\"test\",\"username\":\"test\",\"email\":\"oumaima96.aounallah@gmail.com\",\"date_created\":\"10-05-2024 13:26:17\",\"is_online\":false,\"last_online\":\"22-05-2024 14:46\"}],\"created_by\":{\"id\":\"ff0d95a2-69ca-41ca-9c91-064259adb7c4\",\"first_name\":\"test\",\"last_name\":\"test\",\"username\":\"test\",\"email\":\"oumaima96.aounallah@gmail.com\",\"date_created\":\"10-05-2024 13:26:17\",\"is_online\":false,\"last_online\":\"22-05-2024 14:46\"},\"views\":[]},{\"id\":\"9b5ac617-df56-4a87-88ec-f24c60229af1\",\"type\":\"gc\",\"user_id\":\"ff0d95a2-69ca-41ca-9c91-064259adb7c4\",\"name\":\"my group chat 5\",\"date_created\":\"03-07-2024 11:00:53\",\"date_updated\":\"03-07-2024 11:00:53\",\"members\":[{\"id\":\"0c6d43a9-3bf6-48a0-bf2e-5ab719f009f1\",\"first_name\":\"Raed\",\"last_name\":\"Chebbi\",\"username\":\"r.chebbi@coral-io.fr\",\"email\":\"r.chebbi@coral-io.fr\",\"date_created\":\"10-05-2024 13:26:17\",\"is_online\":null,\"last_online\":null},{\"id\":\"ff0d95a2-69ca-41ca-9c91-064259adb7c4\",\"first_name\":\"test\",\"last_name\":\"test\",\"username\":\"test\",\"email\":\"oumaima96.aounallah@gmail.com\",\"date_created\":\"10-05-2024 13:26:17\",\"is_online\":false,\"last_online\":\"22-05-2024 14:46\"}],\"created_by\":{\"id\":\"ff0d95a2-69ca-41ca-9c91-064259adb7c4\",\"first_name\":\"test\",\"last_name\":\"test\",\"username\":\"test\",\"email\":\"oumaima96.aounallah@gmail.com\",\"date_created\":\"10-05-2024 13:26:17\",\"is_online\":false,\"last_online\":\"22-05-2024 14:46\"},\"views\":[]},{\"id\":\"a0428ef3-b57b-4ad7-a9cc-fb4d22a58e42\",\"type\":\"gc\",\"user_id\":\"ff0d95a2-69ca-41ca-9c91-064259adb7c4\",\"name\":\"my group chat 5\",\"date_created\":\"03-07-2024 10:38:32\",\"date_updated\":\"03-07-2024 10:38:32\",\"members\":[{\"id\":\"0c6d43a9-3bf6-48a0-bf2e-5ab719f009f1\",\"first_name\":\"Raed\",\"last_name\":\"Chebbi\",\"username\":\"r.chebbi@coral-io.fr\",\"email\":\"r.chebbi@coral-io.fr\",\"date_created\":\"10-05-2024 13:26:17\",\"is_online\":null,\"last_online\":null},{\"id\":\"ff0d95a2-69ca-41ca-9c91-064259adb7c4\",\"first_name\":\"test\",\"last_name\":\"test\",\"username\":\"test\",\"email\":\"oumaima96.aounallah@gmail.com\",\"date_created\":\"10-05-2024 13:26:17\",\"is_online\":false,\"last_online\":\"22-05-2024 14:46\"}],\"created_by\":{\"id\":\"ff0d95a2-69ca-41ca-9c91-064259adb7c4\",\"first_name\":\"test\",\"last_name\":\"test\",\"username\":\"test\",\"email\":\"oumaima96.aounallah@gmail.com\",\"date_created\":\"10-05-2024 13:26:17\",\"is_online\":false,\"last_online\":\"22-05-2024 14:46\"},\"views\":[]},{\"id\":\"a7077d6c-593d-41b0-9d8a-de97f94aeaf2\",\"type\":\"gc\",\"user_id\":\"ff0d95a2-69ca-41ca-9c91-064259adb7c4\",\"name\":\"my group chat 5\",\"date_created\":\"03-07-2024 10:30:04\",\"date_updated\":\"03-07-2024 10:30:04\",\"members\":[{\"id\":\"0c6d43a9-3bf6-48a0-bf2e-5ab719f009f1\",\"first_name\":\"Raed\",\"last_name\":\"Chebbi\",\"username\":\"r.chebbi@coral-io.fr\",\"email\":\"r.chebbi@coral-io.fr\",\"date_created\":\"10-05-2024 13:26:17\",\"is_online\":null,\"last_online\":null},{\"id\":\"ff0d95a2-69ca-41ca-9c91-064259adb7c4\",\"first_name\":\"test\",\"last_name\":\"test\",\"username\":\"test\",\"email\":\"oumaima96.aounallah@gmail.com\",\"date_created\":\"10-05-2024 13:26:17\",\"is_online\":false,\"last_online\":\"22-05-2024 14:46\"}],\"created_by\":{\"id\":\"ff0d95a2-69ca-41ca-9c91-064259adb7c4\",\"first_name\":\"test\",\"last_name\":\"test\",\"username\":\"test\",\"email\":\"oumaima96.aounallah@gmail.com\",\"date_created\":\"10-05-2024 13:26:17\",\"is_online\":false,\"last_online\":\"22-05-2024 14:46\"},\"views\":[]}]}\u001b[0m\n",
        "\n",
        "\u001b[1m> Finished chain.\u001b[0m\n"
       ]
      }
     ],
     "source": [
      "# Example user request that will prompt the LLM to make an API POST request\n",
      "\n",
      "participants = ['0c6d43a9-3bf6-48a0-bf2e-5ab719f009f1',\n",
      "                'ff0d95a2-69ca-41ca-9c91-064259adb7c4']\n",
      "user_input = (\n",
      "    f\"\"\"List relevant details about chats of the user 'ff0d95a2-69ca-41ca-9c91-064259adb7c4'\"\"\"\n",
      ")\n",
      "response = chain.invoke(user_input)"
     ]
    },
    {
     "cell_type": "code",
     "execution_count": 12,
     "metadata": {},
     "outputs": [
      {
       "name": "stdout",
       "output_type": "stream",
       "text": [
        "Human: List relevant details about chats of the user 'ff0d95a2-69ca-41ca-9c91-064259adb7c4'\n",
        "Assistant: The user 'ff0d95a2-69ca-41ca-9c91-064259adb7c4' has 17 chats, all of which are group chats. The chats are named \"devops team\" and \"my group chat 5\". The chats include the user 'ff0d95a2-69ca-41ca-9c91-064259adb7c4' and another user with the ID '0c6d43a9-3bf6-48a0-bf2e-5ab719f009f1'. \n",
        "\n"
       ]
      }
     ],
     "source": [
      "print(\n",
      "    f\"Human: {response['question']}\\n\"\n",
      "    f\"Assistant: {response['output']}\"\n",
      ")"
     ]
    }
   ],
   "metadata": {
    "kernelspec": {
     "display_name": "env",
     "language": "python",
     "name": "python3"
    },
    "language_info": {
     "codemirror_mode": {
      "name": "ipython",
      "version": 3
     },
     "file_extension": ".py",
     "mimetype": "text/x-python",
     "name": "python",
     "nbconvert_exporter": "python",
     "pygments_lexer": "ipython3",
     "version": "3.9.7"
    }
   },
   "nbformat": 4,
   "nbformat_minor": 2
  }
  