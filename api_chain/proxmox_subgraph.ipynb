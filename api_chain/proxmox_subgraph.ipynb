{
 "cells": [
  {
   "cell_type": "markdown",
   "metadata": {},
   "source": [
    "# Setup"
   ]
  },
  {
   "cell_type": "code",
   "execution_count": 1,
   "metadata": {},
   "outputs": [
    {
     "name": "stderr",
     "output_type": "stream",
     "text": [
      "C:\\Users\\oumay\\AppData\\Local\\Temp\\ipykernel_3636\\2427049697.py:13: TqdmExperimentalWarning: Using `tqdm.autonotebook.tqdm` in notebook mode. Use `tqdm.tqdm` instead to force console mode (e.g. in jupyter console)\n",
      "  from tqdm.autonotebook import tqdm, trange\n"
     ]
    }
   ],
   "source": [
    "from langserve_app.proxmox.docs import _proxmox_api_docs\n",
    "from langserve_app.proxmox.base import ProxmoxAPIChain\n",
    "from langchain.text_splitter import RecursiveJsonSplitter\n",
    "from langchain_community.embeddings.sentence_transformer import SentenceTransformerEmbeddings\n",
    "from langchain.retrievers import ContextualCompressionRetriever\n",
    "from langchain_community.cross_encoders import HuggingFaceCrossEncoder\n",
    "from langchain.retrievers.document_compressors import CrossEncoderReranker\n",
    "from langchain_community.vectorstores.surrealdb import SurrealDBStore\n",
    "from langchain_huggingface import HuggingFaceEmbeddings\n",
    "import nest_asyncio\n",
    "import os\n",
    "from dotenv import load_dotenv\n",
    "from tqdm.autonotebook import tqdm, trange\n",
    "from langchain_core.output_parsers import JsonOutputParser\n",
    "from langchain.prompts import PromptTemplate\n",
    "from langchain_ollama import ChatOllama\n",
    "from langgraph.graph import END, StateGraph, START\n",
    "from IPython.display import Image, display\n",
    "from langfuse.callback import CallbackHandler\n",
    "from langchain_core.messages import BaseMessage\n",
    "from typing import List, TypedDict\n",
    "import yaml\n",
    "import base64"
   ]
  },
  {
   "cell_type": "code",
   "execution_count": 2,
   "metadata": {},
   "outputs": [
    {
     "data": {
      "text/plain": [
       "True"
      ]
     },
     "execution_count": 2,
     "metadata": {},
     "output_type": "execute_result"
    }
   ],
   "source": [
    "load_dotenv()"
   ]
  },
  {
   "cell_type": "code",
   "execution_count": 3,
   "metadata": {},
   "outputs": [
    {
     "data": {
      "text/plain": [
       "'for node in proxmox_nodes :\\n    print(f\"Name: {node[\\'name\\']}\")\\n    print(f\"Base URL: {node[\\'base_url\\']}\")\\n    decoded_token = base64.b64decode(os.getenv(node[\\'token\\'])).decode(\\'utf-8\\')\\n    print(f\"Token: {decoded_token}\\n\")\\n    print(f\"Token: {os.getenv(node[\\'token\\'])}\\n\")'"
      ]
     },
     "execution_count": 3,
     "metadata": {},
     "output_type": "execute_result"
    }
   ],
   "source": [
    "# Load the YAML file\n",
    "with open(r'langserve_app\\proxmox\\dict.yaml', 'r') as file:\n",
    "    proxmox_nodes = yaml.safe_load(file)\n",
    "\n",
    "# Access the dictionary\n",
    "\"\"\"for node in proxmox_nodes :\n",
    "    print(f\"Name: {node['name']}\")\n",
    "    print(f\"Base URL: {node['base_url']}\")\n",
    "    decoded_token = base64.b64decode(os.getenv(node['token'])).decode('utf-8')\n",
    "    print(f\"Token: {decoded_token}\\n\")\n",
    "    print(f\"Token: {os.getenv(node['token'])}\\n\")\"\"\"\n"
   ]
  },
  {
   "cell_type": "code",
   "execution_count": 4,
   "metadata": {},
   "outputs": [],
   "source": [
    "surrealdb_url = os.getenv('SURREALDB_URL')\n",
    "surrealdb_user = os.getenv('SURREALDB_USER')\n",
    "surrealdb_password = os.getenv('SURREALDB_PWD')"
   ]
  },
  {
   "cell_type": "code",
   "execution_count": 5,
   "metadata": {},
   "outputs": [],
   "source": [
    "splitter = RecursiveJsonSplitter(max_chunk_size=4000)\n",
    "docs = splitter.create_documents(_proxmox_api_docs)"
   ]
  },
  {
   "cell_type": "code",
   "execution_count": 6,
   "metadata": {},
   "outputs": [
    {
     "name": "stderr",
     "output_type": "stream",
     "text": [
      "c:\\Users\\oumay\\.vscode\\agent-scripts-\\venv\\Lib\\site-packages\\xformers\\ops\\fmha\\flash.py:211: FutureWarning: `torch.library.impl_abstract` was renamed to `torch.library.register_fake`. Please use that instead; we will remove `torch.library.impl_abstract` in a future version of PyTorch.\n",
      "  @torch.library.impl_abstract(\"xformers_flash::flash_fwd\")\n",
      "c:\\Users\\oumay\\.vscode\\agent-scripts-\\venv\\Lib\\site-packages\\xformers\\ops\\fmha\\flash.py:344: FutureWarning: `torch.library.impl_abstract` was renamed to `torch.library.register_fake`. Please use that instead; we will remove `torch.library.impl_abstract` in a future version of PyTorch.\n",
      "  @torch.library.impl_abstract(\"xformers_flash::flash_bwd\")\n",
      "Some weights of the model checkpoint at infgrad/stella_en_400M_v5 were not used when initializing NewModel: ['new.pooler.dense.bias', 'new.pooler.dense.weight']\n",
      "- This IS expected if you are initializing NewModel from the checkpoint of a model trained on another task or with another architecture (e.g. initializing a BertForSequenceClassification model from a BertForPreTraining model).\n",
      "- This IS NOT expected if you are initializing NewModel from the checkpoint of a model that you expect to be exactly identical (initializing a BertForSequenceClassification model from a BertForSequenceClassification model).\n"
     ]
    }
   ],
   "source": [
    "# Initialize the SentenceTransformerEmbeddings with trust_remote_code=True\n",
    "ef = HuggingFaceEmbeddings(\n",
    "    model_name=\"infgrad/stella_en_400M_v5\",\n",
    "    model_kwargs={\n",
    "        \"trust_remote_code\": True,\n",
    "    }\n",
    ")"
   ]
  },
  {
   "cell_type": "code",
   "execution_count": 7,
   "metadata": {},
   "outputs": [],
   "source": [
    "nest_asyncio.apply()\n",
    "\n",
    "# SurrealDB connection parameters\n",
    "dburl = \"ws://localhost:8000/rpc\"\n",
    "ns = \"langchain\"\n",
    "db_name = \"proxmox_api_docs\"\n",
    "collection = \"proxmox_collection\"\n",
    "db_user = surrealdb_user\n",
    "db_pass = surrealdb_password\n",
    "\n",
    "# Initialize the SurrealDBStore with documents\n",
    "db = SurrealDBStore(\n",
    "    embedding_function=ef,\n",
    "    dburl=dburl,\n",
    "    ns=ns,\n",
    "    db=db_name,\n",
    "    collection=collection,\n",
    "    db_user=db_user,\n",
    "    db_pass=db_pass\n",
    ")\n",
    "\n",
    "\n",
    "# this is needed to initialize the underlying async library for SurrealDB\n",
    "await db.initialize()\n",
    "\n",
    "# delete collection from the vectorstore collection if it exists \n",
    "await db.adelete(collection = collection)\n",
    "\n",
    "# add documents to the vectorstore\n",
    "ids = await db.aadd_documents(docs)\n",
    "\n",
    "retriever = db.as_retriever(search_type=\"similarity\", search_kwargs={\"k\": 3})\n",
    "\n",
    "# Initialize the cross-encoder model\n",
    "#cross_encoder_model = HuggingFaceCrossEncoder(model_name=\"BAAI/bge-reranker-base\")\n",
    "cross_encoder_model = HuggingFaceCrossEncoder(model_name=\"cross-encoder/ms-marco-MiniLM-L-6-v2\")\n",
    "compressor = CrossEncoderReranker(model=cross_encoder_model, top_n=3)\n",
    "compression_retriever = ContextualCompressionRetriever(\n",
    "    base_compressor=compressor, base_retriever=retriever\n",
    ")"
   ]
  },
  {
   "cell_type": "markdown",
   "metadata": {},
   "source": [
    "# Team approach"
   ]
  },
  {
   "cell_type": "code",
   "execution_count": 8,
   "metadata": {},
   "outputs": [],
   "source": [
    "workers = [node[\"name\"] for node in proxmox_nodes]\n",
    "\n",
    "prompt = PromptTemplate(\n",
    "    template=(\"\"\"\n",
    "    You are a supervisor tasked with routing a query to one of the following workers: {workers}. \n",
    "    Given the following user request, respond with the worker to act next. Each worker will perform a task \n",
    "    and respond with their results and status. The worker output will be returned to the user. \n",
    "    The options for workers are {workers}. Return 'end' if the request isn't related to any of the given workers.\n",
    "\n",
    "    User request: {question}\n",
    "\n",
    "    Respond in JSON format with a single key \"next\" which holds the worker name.\n",
    "\n",
    "    next :\n",
    "    \"\"\"),\n",
    "    input_variables=[\"question\"],\n",
    "    partial_variables={\"workers\": workers}\n",
    ")\n",
    "\n",
    "# Initialize the LLM\n",
    "llm_sup = ChatOllama(model=\"phi3\", temperature=0, format=\"json\")\n",
    "#llm_sup = ChatOllama(model=\"llama3.1\", temperature=0, format=\"json\")\n",
    "\n",
    "\n",
    "# Combine prompt and LLM with JsonOutputParser\n",
    "sup_chain = prompt | llm_sup | JsonOutputParser()\n"
   ]
  },
  {
   "cell_type": "code",
   "execution_count": 9,
   "metadata": {},
   "outputs": [
    {
     "data": {
      "text/plain": [
       "{'next': 'ns31212248'}"
      ]
     },
     "execution_count": 9,
     "metadata": {},
     "output_type": "execute_result"
    }
   ],
   "source": [
    "sup_chain.invoke({\n",
    "    \"question\": \"How many Vms on node ns31212248\",\n",
    "})"
   ]
  },
  {
   "cell_type": "code",
   "execution_count": 10,
   "metadata": {},
   "outputs": [],
   "source": [
    "class ProxmoxTeamState(TypedDict):\n",
    "    messages: List[BaseMessage]\n",
    "    team_members: List[str]\n",
    "    next: str"
   ]
  },
  {
   "cell_type": "code",
   "execution_count": 11,
   "metadata": {},
   "outputs": [],
   "source": [
    "def supervisor(state: ProxmoxTeamState) -> ProxmoxTeamState:\n",
    "    print(f\"processing_request: Current state: {state}\")\n",
    "    question = state[\"messages\"][0]\n",
    "    print(question)\n",
    "    result = sup_chain.invoke({\"question\": question})\n",
    "    print(result)\n",
    "    state[\"next\"] = result[\"next\"]\n",
    "    state[\"team_members\"] = [node[\"name\"] for node in proxmox_nodes]\n",
    "    return state"
   ]
  },
  {
   "cell_type": "code",
   "execution_count": 12,
   "metadata": {},
   "outputs": [
    {
     "name": "stdout",
     "output_type": "stream",
     "text": [
      "processing_request: Current state: {'messages': ['list Vms on node ns31212248'], 'next': None, 'team_members': []}\n",
      "list Vms on node ns31212248\n",
      "{'next': 'ns31212248'}\n"
     ]
    },
    {
     "data": {
      "text/plain": [
       "{'messages': ['list Vms on node ns31212248'],\n",
       " 'next': 'ns31212248',\n",
       " 'team_members': ['Proxmox-Node-HCM', 'ns31212248', 'coral-io-proxmox-lab']}"
      ]
     },
     "execution_count": 12,
     "metadata": {},
     "output_type": "execute_result"
    }
   ],
   "source": [
    "initial_state = {\n",
    "            \"messages\": [\"list Vms on node ns31212248\"],\n",
    "            \"next\": None,\n",
    "            \"team_members\": []\n",
    "        }\n",
    "supervisor(initial_state)"
   ]
  },
  {
   "cell_type": "code",
   "execution_count": 13,
   "metadata": {},
   "outputs": [],
   "source": [
    "llm = ChatOllama(model=\"llama3.1\", temperature=0, format=\"json\")"
   ]
  },
  {
   "cell_type": "code",
   "execution_count": 14,
   "metadata": {},
   "outputs": [
    {
     "data": {
      "text/plain": [
       "'from langchain_community.llms import Ollama\\nfrom typing import Dict, Any\\n\\n# Initialize the LLM\\n#\\nllm_kwargs: Dict[str, Any] = {\\n    \"model\": \"llama3:instruct\",\\n    \"temperature\": 0,\\n    \"num_ctx\": 4096, \\n    \"format\":\"json\"\\n}\\n\\nllm = Ollama(**llm_kwargs)'"
      ]
     },
     "execution_count": 14,
     "metadata": {},
     "output_type": "execute_result"
    }
   ],
   "source": [
    "\"\"\"from langchain_community.llms import Ollama\n",
    "from typing import Dict, Any\n",
    "\n",
    "# Initialize the LLM\n",
    "#\n",
    "llm_kwargs: Dict[str, Any] = {\n",
    "    \"model\": \"llama3:instruct\",\n",
    "    \"temperature\": 0,\n",
    "    \"num_ctx\": 4096, \n",
    "    \"format\":\"json\"\n",
    "}\n",
    "\n",
    "llm = Ollama(**llm_kwargs)\"\"\""
   ]
  },
  {
   "cell_type": "code",
   "execution_count": 15,
   "metadata": {},
   "outputs": [],
   "source": [
    "from langchain_groq import ChatGroq\n",
    "\n",
    "llm = ChatGroq(\n",
    "    model=\"llama-3.1-70b-versatile\",\n",
    "    temperature=0,\n",
    "    max_tokens=None,\n",
    "    timeout=None,\n",
    "    max_retries=2,\n",
    "    # other params...\n",
    ")"
   ]
  },
  {
   "cell_type": "code",
   "execution_count": 16,
   "metadata": {},
   "outputs": [],
   "source": [
    "from langchain_google_genai import ChatGoogleGenerativeAI\n",
    "\n",
    "# Initialize the llm with the new model\n",
    "llm = ChatGoogleGenerativeAI(model=\"gemini-1.5-flash-latest\", temperature=0)"
   ]
  },
  {
   "cell_type": "code",
   "execution_count": 17,
   "metadata": {},
   "outputs": [
    {
     "name": "stdout",
     "output_type": "stream",
     "text": [
      "https://ns31418912.ip-54-38-37.eu:8006/\n",
      "https://ns31212248.ip-51-178-74.eu:8006/\n",
      "https://ns3132391.ip-51-75-130.eu:8006/\n"
     ]
    }
   ],
   "source": [
    "agents = {}\n",
    "\n",
    "for node in proxmox_nodes:\n",
    "    #print(node['base_url'])\n",
    "    decoded_token=base64.b64decode(os.getenv(node['token'])).decode('utf-8')\n",
    "    chain = ProxmoxAPIChain.from_llm_and_api_docs(\n",
    "        llm,\n",
    "        retriever=compression_retriever,\n",
    "        headers={\"Authorization\": decoded_token},\n",
    "        pve_token=decoded_token,\n",
    "        verbose=True,\n",
    "        limit_to_domains=[node[\"base_url\"]],\n",
    "        base_url=node[\"base_url\"],\n",
    "    )\n",
    "    print(chain.base_url)\n",
    "    agents[node[\"name\"]] = chain"
   ]
  },
  {
   "cell_type": "code",
   "execution_count": 18,
   "metadata": {},
   "outputs": [
    {
     "name": "stdout",
     "output_type": "stream",
     "text": [
      "\n",
      "\n",
      "\u001b[1m> Entering new ProxmoxAPIChain chain...\u001b[0m\n"
     ]
    },
    {
     "name": "stderr",
     "output_type": "stream",
     "text": [
      "c:\\Users\\oumay\\.vscode\\agent-scripts-\\venv\\Lib\\site-packages\\transformers\\models\\bert\\modeling_bert.py:439: UserWarning: 1Torch was not compiled with flash attention. (Triggered internally at C:\\actions-runner\\_work\\pytorch\\pytorch\\builder\\windows\\pytorch\\aten\\src\\ATen\\native\\transformers\\cuda\\sdp_utils.cpp:555.)\n",
      "  attn_output = torch.nn.functional.scaled_dot_product_attention(\n"
     ]
    },
    {
     "name": "stdout",
     "output_type": "stream",
     "text": [
      "Retrieved Document 0: {\"endpoint\": \"/api2/json/nodes/{node}/qemu\", \"method\": \"get\", \"summary\": \"List Virtual machines (VMs) on a Node\", \"parameters\": [{\"name\": \"node\", \"in\": \"path\", \"required\": true, \"description\": \"Node ID where VMs are located\", \"schema\": {\"type\": \"string\"}}]}\n",
      "Retrieved Document 1: {\"endpoint\": \"/api2/json/nodes/{node}/qemu/{vmid}/config\", \"method\": \"get\", \"summary\": \"Get Virtual machine/Vm Configuration (config file)\", \"parameters\": [{\"name\": \"node\", \"in\": \"path\", \"required\": true, \"description\": \"Node ID where the VM is located\", \"schema\": {\"type\": \"string\"}}, {\"name\": \"vmid\", \"in\": \"path\", \"required\": true, \"description\": \"ID of the VM\", \"schema\": {\"type\": \"integer\"}}, {\"name\": \"current\", \"in\": \"query\", \"required\": false, \"description\": \"Get current values instead of pending values\", \"schema\": {\"type\": \"boolean\"}}]}\n",
      "Retrieved Document 2: {\"endpoint\": \"/api2/json/nodes/{node}/lxc\", \"methods\": \"get\", \"summary\": \"List LXC Containers on a Node\", \"description\": \"List all containers available on a node\", \"parameters\": [{\"name\": \"node\", \"in\": \"path\", \"required\": true, \"description\": \"Node ID where LXC containers are located\", \"schema\": {\"type\": \"string\"}}]}\n",
      "\n",
      "Request info: {\n",
      "    \"api_url\": \"/api2/json/nodes/ns31212248/qemu\",\n",
      "    \"request_method\": \"get\",\n",
      "    \"request_body\": {}\n",
      "}\n",
      "https://ns31212248.ip-51-178-74.eu:8006/\n",
      "Full API URL: https://ns31212248.ip-51-178-74.eu:8006/api2/json/nodes/ns31212248/qemu\n",
      "API URL: https://ns31212248.ip-51-178-74.eu:8006/api2/json/nodes/ns31212248/qemu\n",
      "Request method: GET\n",
      "Request body: {}\n",
      "\u001b[38;5;200m\u001b[1;3mStatus: 200 OK\n",
      "Response: {\"data\":[{\"disk\":0,\"netin\":1996687897,\"maxdisk\":137438953472,\"pid\":1690124,\"cpus\":6,\"tags\":\"critical\",\"diskwrite\":0,\"diskread\":0,\"cpu\":0,\"netout\":1201904231,\"uptime\":6735104,\"name\":\"KC2-WORKER-1\",\"mem\":33050583657,\"maxmem\":34359738368,\"vmid\":201,\"status\":\"running\"},{\"vmid\":8010,\"maxmem\":8589934592,\"name\":\"KC1-WORKER-1\",\"mem\":6200828207,\"status\":\"running\",\"pid\":2582301,\"maxdisk\":34359738368,\"netin\":1040734654911,\"disk\":0,\"uptime\":8701883,\"cpus\":2,\"diskwrite\":0,\"diskread\":0,\"cpu\":0,\"netout\":145738504853},{\"diskwrite\":0,\"diskread\":0,\"cpus\":2,\"netout\":16915417,\"cpu\":0.0209163431533109,\"uptime\":9314376,\"maxdisk\":53687091200,\"disk\":0,\"netin\":516174947,\"pid\":2557959,\"status\":\"running\",\"name\":\"cms-dev-env\",\"mem\":1288869418,\"maxmem\":2147483648,\"vmid\":119},{\"pid\":1690022,\"maxdisk\":34359738368,\"netin\":2753813051,\"disk\":0,\"uptime\":6735109,\"diskread\":0,\"tags\":\"critical\",\"diskwrite\":0,\"cpus\":6,\"cpu\":0,\"netout\":3298746912,\"vmid\":200,\"maxmem\":8589934592,\"mem\":7407045296,\"name\":\"KC2-MASTER-1\",\"status\":\"running\"},{\"uptime\":8124719,\"diskwrite\":0,\"diskread\":0,\"cpus\":2,\"netout\":25944486,\"cpu\":0,\"pid\":2520381,\"netin\":1101272486,\"disk\":0,\"maxdisk\":34359738368,\"status\":\"running\",\"maxmem\":8489271296,\"vmid\":8020,\"mem\":2871816758,\"name\":\"KC-Minio\"},{\"maxdisk\":137438953472,\"netin\":1995784917,\"disk\":0,\"pid\":1690289,\"tags\":\"critical\",\"diskwrite\":0,\"diskread\":0,\"cpus\":6,\"netout\":1201138400,\"cpu\":0,\"uptime\":6735098,\"name\":\"KC2-WORKER-2\",\"mem\":27451315496,\"maxmem\":34359738368,\"vmid\":202,\"status\":\"running\"},{\"diskwrite\":0,\"diskread\":0,\"cpus\":4,\"cpu\":0,\"netout\":182546119,\"uptime\":8029810,\"maxdisk\":107374182400,\"netin\":348572752,\"disk\":0,\"pid\":3916729,\"status\":\"running\",\"mem\":7508612457,\"name\":\"CLICKHOUSE-REPLICA-1\",\"vmid\":6001,\"maxmem\":8589934592},{\"vmid\":8023,\"maxmem\":8489271296,\"name\":\"KC1-WORKER-3\",\"mem\":7220753018,\"status\":\"running\",\"pid\":2787211,\"maxdisk\":34359738368,\"netin\":273806347842,\"disk\":0,\"uptime\":8686271,\"diskwrite\":0,\"diskread\":0,\"cpus\":2,\"netout\":478634900111,\"cpu\":0},{\"pid\":3902359,\"maxdisk\":34359738368,\"disk\":0,\"netin\":806380885,\"uptime\":958716,\"netout\":22439705,\"cpu\":0.00332481938721799,\"diskwrite\":0,\"diskread\":0,\"cpus\":4,\"maxmem\":2550136832,\"vmid\":103,\"name\":\"ubuntu-tmp1\",\"mem\":1311055285,\"status\":\"running\"},{\"status\":\"stopped\",\"template\":1,\"name\":\"new-image-tmp-2\",\"mem\":0,\"maxmem\":2147483648,\"vmid\":120,\"diskread\":0,\"tags\":\"ubuntu-server;template\",\"diskwrite\":0,\"cpus\":2,\"cpu\":0,\"netout\":0,\"uptime\":0,\"disk\":0,\"netin\":0,\"maxdisk\":0},{\"status\":\"running\",\"mem\":7902211627,\"name\":\"CMS-Gitlab-Runner\",\"vmid\":121,\"maxmem\":17179869184,\"cpu\":0,\"netout\":8393793381,\"diskwrite\":0,\"diskread\":0,\"cpus\":4,\"uptime\":9314374,\"disk\":0,\"netin\":5769907567,\"maxdisk\":268435456000,\"pid\":2558014},{\"uptime\":8033584,\"tags\":\"critical\",\"cpus\":4,\"diskwrite\":0,\"diskread\":0,\"cpu\":0,\"netout\":277990160,\"pid\":3862829,\"netin\":709696597,\"disk\":0,\"maxdisk\":34359738368,\"status\":\"running\",\"vmid\":115,\"maxmem\":4294967296,\"name\":\"KC-Ansible-controller\",\"mem\":2279036337},{\"disk\":0,\"netin\":1266421671,\"maxdisk\":53687091200,\"pid\":140301,\"diskwrite\":0,\"diskread\":0,\"cpus\":2,\"cpu\":0,\"netout\":31139430,\"uptime\":9945070,\"name\":\"IMX-Mongo-Test\",\"mem\":1750467442,\"maxmem\":4294967296,\"vmid\":130,\"status\":\"running\"},{\"cpu\":0,\"netout\":472732833249,\"cpus\":2,\"diskwrite\":0,\"diskread\":0,\"uptime\":8686403,\"maxdisk\":34359738368,\"netin\":226395553817,\"disk\":0,\"pid\":2784922,\"status\":\"running\",\"mem\":1877602934,\"name\":\"KC-MASTER-2\",\"maxmem\":4294967296,\"vmid\":8002},{\"status\":\"running\",\"maxmem\":4294967296,\"vmid\":131,\"mem\":2900918447,\"name\":\"network-lab\",\"uptime\":1910064,\"diskwrite\":0,\"cpus\":4,\"diskread\":0,\"netout\":36424419,\"cpu\":0,\"pid\":3199682,\"maxdisk\":107374182400,\"disk\":0,\"netin\":981580507},{\"mem\":7378040527,\"name\":\"XCLOUD-DEVTOOLS\",\"vmid\":142,\"maxmem\":8589934592,\"status\":\"running\",\"maxdisk\":34359738368,\"disk\":0,\"netin\":51945526964,\"pid\":149116,\"netout\":3412788511,\"cpu\":0,\"diskwrite\":0,\"tags\":\"critical\",\"diskread\":0,\"cpus\":4,\"uptime\":9943861},{\"status\":\"running\",\"vmid\":7000,\"maxmem\":8489271296,\"name\":\"CMS-Master-Workstation\",\"mem\":6302289083,\"uptime\":9379992,\"netout\":76570551,\"cpu\":0,\"diskread\":0,\"diskwrite\":0,\"cpus\":4,\"pid\":1775485,\"netin\":3191409611,\"disk\":0,\"maxdisk\":68719476736},{\"vmid\":1337,\"maxmem\":8589934592,\"mem\":3297749164,\"name\":\"XCLOUD-ANSIBLE\",\"status\":\"running\",\"pid\":149366,\"netin\":3211255598,\"disk\":0,\"maxdisk\":34359738368,\"uptime\":9943854,\"netout\":8406632172,\"cpu\":0,\"diskread\":0,\"tags\":\"critical\",\"diskwrite\":0,\"cpus\":4},{\"pid\":2785405,\"maxdisk\":34359738368,\"netin\":234828468052,\"disk\":0,\"uptime\":8686381,\"netout\":405785489092,\"cpu\":0,\"diskwrite\":0,\"diskread\":0,\"cpus\":2,\"vmid\":8001,\"maxmem\":4294967296,\"mem\":3343064865,\"name\":\"KC1-MASTER-2\",\"status\":\"running\"},{\"maxmem\":8489271296,\"vmid\":8021,\"mem\":7335457835,\"name\":\"KC-MASTER-3\",\"status\":\"running\",\"pid\":2786814,\"maxdisk\":34359738368,\"netin\":213773374184,\"disk\":0,\"uptime\":8686287,\"netout\":431471176805,\"cpu\":0,\"diskread\":0,\"diskwrite\":0,\"cpus\":2},{\"vmid\":112,\"maxmem\":2147483648,\"template\":1,\"mem\":0,\"name\":\"ubuntu-temp\",\"status\":\"stopped\",\"maxdisk\":0,\"netin\":0,\"disk\":0,\"uptime\":0,\"diskread\":0,\"tags\":\"ubuntu-server;template\",\"diskwrite\":0,\"cpus\":2,\"netout\":0,\"cpu\":0},{\"pid\":2531,\"disk\":0,\"netin\":2673797525,\"maxdisk\":64424509440,\"uptime\":9987765,\"tags\":\"kubespray;production;terraform\",\"diskwrite\":0,\"diskread\":0,\"cpus\":4,\"netout\":41794601,\"cpu\":0,\"vmid\":111,\"maxmem\":4294967296,\"name\":\"vm-k8s-production-01-kubespray-01\",\"mem\":1779166896,\"status\":\"running\"},{\"status\":\"running\",\"mem\":6940249879,\"name\":\"KC1-WORKER-2\",\"maxmem\":8589934592,\"vmid\":8011,\"diskread\":0,\"diskwrite\":0,\"cpus\":2,\"cpu\":0,\"netout\":127734350127,\"uptime\":8701919,\"maxdisk\":34359738368,\"disk\":0,\"netin\":140333831617,\"pid\":2581293},{\"mem\":12583234788,\"name\":\"cms-vm-k8s-production-01-master-01\",\"maxmem\":25769803776,\"vmid\":118,\"status\":\"running\",\"disk\":0,\"netin\":64631204048,\"maxdisk\":64424509440,\"pid\":2693,\"netout\":388869899243,\"cpu\":0,\"tags\":\"k8s-control-plane;production;terraform\",\"cpus\":6,\"diskwrite\":0,\"diskread\":0,\"uptime\":9987752},{\"name\":\"CLICKHOUSE-REPLICA-3\",\"mem\":3162117716,\"maxmem\":4294967296,\"vmid\":6003,\"status\":\"running\",\"disk\":0,\"netin\":397791738,\"maxdisk\":107374182400,\"pid\":3921761,\"diskread\":0,\"diskwrite\":0,\"cpus\":4,\"cpu\":0,\"netout\":57483103,\"uptime\":8029477},{\"status\":\"running\",\"maxmem\":4429185024,\"vmid\":101,\"name\":\"ubuntu-tmp2\",\"mem\":2329263488,\"uptime\":925799,\"netout\":19890110,\"cpu\":0.0031627512268529,\"diskread\":0,\"diskwrite\":0,\"cpus\":4,\"pid\":156705,\"netin\":794695688,\"disk\":0,\"maxdisk\":34359738368},{\"status\":\"running\",\"name\":\"CLICKHOUSE-KEEPER-1\",\"mem\":3302616637,\"vmid\":6100,\"maxmem\":4294967296,\"cpus\":4,\"diskwrite\":0,\"diskread\":0,\"cpu\":0,\"netout\":129123973,\"uptime\":8029412,\"maxdisk\":34359738368,\"netin\":537139032,\"disk\":0,\"pid\":3922771},{\"maxdisk\":34359738368,\"netin\":0,\"disk\":0,\"uptime\":0,\"diskwrite\":0,\"cpus\":2,\"diskread\":0,\"netout\":0,\"cpu\":0,\"maxmem\":8589934592,\"vmid\":129,\"mem\":0,\"name\":\"DefectDojo\",\"status\":\"stopped\"},{\"status\":\"running\",\"maxmem\":40802189312,\"vmid\":108,\"mem\":24304836905,\"name\":\"cms-vm-k8s-production-01-worker-01\",\"uptime\":9987770,\"tags\":\"k8s-worker;production;terraform\",\"diskwrite\":0,\"diskread\":0,\"cpus\":10,\"netout\":65505747514,\"cpu\":0.0445682841015601,\"pid\":2449,\"maxdisk\":64424509440,\"netin\":397015360638,\"disk\":0},{\"vmid\":6002,\"maxmem\":4294967296,\"name\":\"CLICKHOUSE-REPLICA-2\",\"mem\":3283402387,\"status\":\"running\",\"pid\":3920280,\"maxdisk\":107374182400,\"disk\":0,\"netin\":347849568,\"uptime\":8029572,\"netout\":181733845,\"cpu\":0,\"cpus\":4,\"diskwrite\":0,\"diskread\":0},{\"uptime\":0,\"diskread\":0,\"diskwrite\":0,\"cpus\":2,\"netout\":0,\"cpu\":0,\"maxdisk\":68719476736,\"disk\":0,\"netin\":0,\"status\":\"stopped\",\"maxmem\":25769803776,\"vmid\":9000,\"mem\":0,\"name\":\"ML-OPS\"}]}\u001b[0m\n",
      "\n",
      "\u001b[1m> Finished chain.\u001b[0m\n"
     ]
    },
    {
     "data": {
      "text/plain": [
       "{'question': \"list Vms on node 'ns31212248'\",\n",
       " 'output': \"Here are the virtual machines running on node 'ns31212248':\\n\\n* KC2-WORKER-1\\n* KC1-WORKER-1\\n* cms-dev-env\\n* KC2-MASTER-1\\n* KC-Minio\\n* KC2-WORKER-2\\n* CLICKHOUSE-REPLICA-1\\n* KC1-WORKER-3\\n* ubuntu-tmp1\\n* new-image-tmp-2\\n* CMS-Gitlab-Runner\\n* KC-Ansible-controller\\n* IMX-Mongo-Test\\n* KC-MASTER-2\\n* network-lab\\n* XCLOUD-DEVTOOLS\\n* CMS-Master-Workstation\\n* XCLOUD-ANSIBLE\\n* CLICKHOUSE-REPLICA-3\\n* ubuntu-tmp2\\n* CLICKHOUSE-KEEPER-1\\n* DefectDojo\\n* cms-vm-k8s-production-01-worker-01\\n* CLICKHOUSE-REPLICA-2\\n* ML-OPS\\n* vm-k8s-production-01-kubespray-01\\n* KC1-WORKER-2\\n* cms-vm-k8s-production-01-master-01 \\n\"}"
      ]
     },
     "execution_count": 18,
     "metadata": {},
     "output_type": "execute_result"
    }
   ],
   "source": [
    "agents[\"ns31212248\"].invoke((\"list Vms on node 'ns31212248'\"))"
   ]
  },
  {
   "cell_type": "code",
   "execution_count": 19,
   "metadata": {},
   "outputs": [],
   "source": [
    "def Worker_node(state: ProxmoxTeamState, node_name: str) -> ProxmoxTeamState:\n",
    "    print(f\"{state['next']} / {node_name}\")\n",
    "    question = state[\"messages\"][0]\n",
    "    result = agents[node_name].invoke(input=question)\n",
    "    state[\"messages\"].append(result)\n",
    "    return state"
   ]
  },
  {
   "cell_type": "code",
   "execution_count": 20,
   "metadata": {},
   "outputs": [
    {
     "name": "stdout",
     "output_type": "stream",
     "text": [
      "Proxmox-Node-HCM / Proxmox-Node-HCM\n",
      "\n",
      "\n",
      "\u001b[1m> Entering new ProxmoxAPIChain chain...\u001b[0m\n",
      "Retrieved Document 0: {\"endpoint\": \"/api2/json/nodes/{node}/qemu\", \"method\": \"get\", \"summary\": \"List Virtual machines (VMs) on a Node\", \"parameters\": [{\"name\": \"node\", \"in\": \"path\", \"required\": true, \"description\": \"Node ID where VMs are located\", \"schema\": {\"type\": \"string\"}}]}\n",
      "Retrieved Document 1: {\"endpoint\": \"/api2/json/nodes/{node}/qemu\", \"method\": \"post\", \"summary\": \"Create a Virtual machine (VM) \", \"description\": \"Use this endpoint to create a new virtual machine on the specified node. This endpoint is used for initial creation and can be used for the allocation of resources such as memory, cores, and storage.\", \"parameters\": [{\"name\": \"node\", \"in\": \"path\", \"required\": true, \"description\": \"Node ID where the VM will be created\", \"schema\": {\"type\": \"string\"}}], \"requestBody\": {\"required\": true, \"content\": {\"application/json\": {\"schema\": {\"type\": \"object\", \"properties\": {\"vmid\": {\"type\": \"integer\", \"description\": \"VM ID\"}, \"name\": {\"type\": \"string\", \"description\": \"Name of the VM\"}, \"memory\": {\"type\": \"integer\", \"description\": \"Memory size in MB\"}, \"cores\": {\"type\": \"integer\", \"description\": \"Number of CPU cores\"}, \"ide0\": {\"type\": \"string\", \"description\": \"Disk size and format, e.g., \\\"local:32,format=qcow2\\\"\"}, \"net0\": {\"type\": \"string\", \"description\": \"Network configuration, e.g., \\\"virtio,bridge=vmbr0\\\"\"}, \"ostype\": {\"type\": \"string\", \"description\": \"OS type, e.g., \\\"l26\\\" for Linux\"}}, \"required\": [\"node\", \"vmid\"]}}}}}\n",
      "Retrieved Document 2: {\"endpoint\": \"/api2/json/nodes/{node}/qemu/{vmid}/config\", \"method\": \"post\", \"summary\": \"Set initial configuration options of a Virtual machine\", \"description\": \"Use this endpoint to set the initial configuration of a new virtual machine. This is useful when you need to define settings such as memory, cores, CPU type, and other parameters for a VM that is being created.\", \"parameters\": [{\"name\": \"node\", \"in\": \"path\", \"required\": true, \"description\": \"The cluster node name\", \"schema\": {\"type\": \"string\"}}, {\"name\": \"vmid\", \"in\": \"path\", \"required\": true, \"description\": \"The (unique) ID of the VM\", \"schema\": {\"type\": \"integer\", \"minimum\": 100, \"maximum\": 999999999}}], \"requestBody\": {\"required\": true, \"content\": {\"application/json\": {\"schema\": {\"type\": \"object\", \"properties\": {\"memory\": {\"type\": \"integer\", \"description\": \"Amount of RAM for the VM in MiB\", \"minimum\": 16}, \"cores\": {\"type\": \"integer\", \"description\": \"Number of cores per socket\", \"minimum\": 1}, \"cpu\": {\"type\": \"string\", \"description\": \"Emulated CPU type\"}, \"name\": {\"type\": \"string\", \"description\": \"Set a name for the VM\"}, \"net\": {\"type\": \"string\", \"description\": \"Specify network devices\"}, \"ostype\": {\"type\": \"string\", \"description\": \"Specify guest operating system\", \"enum\": [\"other\", \"wxp\", \"w2k\", \"w2k3\", \"w2k8\", \"wvista\", \"win7\", \"win8\", \"win10\", \"win11\", \"l24\", \"l26\", \"solaris\", \"opensolaris\", \"netbsd\", \"freebsd\", \"openbsd\"]}, \"disk\": {\"type\": \"string\", \"description\": \"Specify disk size and type, e.g., 'size=10G,ssd=1'\"}, \"boot\": {\"type\": \"string\", \"description\": \"Specify guest boot order, e.g., 'order=cdrom;ide0'\"}}}}}}}\n",
      "\n",
      "Request info: {\n",
      "    \"api_url\": \"/api2/json/nodes/Proxmox-Node-HCM/qemu\",\n",
      "    \"request_method\": \"get\",\n",
      "    \"request_body\": {}\n",
      "}\n",
      "https://ns31418912.ip-54-38-37.eu:8006/\n",
      "Full API URL: https://ns31418912.ip-54-38-37.eu:8006/api2/json/nodes/Proxmox-Node-HCM/qemu\n",
      "API URL: https://ns31418912.ip-54-38-37.eu:8006/api2/json/nodes/Proxmox-Node-HCM/qemu\n",
      "Request method: GET\n",
      "Request body: {}\n",
      "\u001b[38;5;200m\u001b[1;3mStatus: 200 OK\n",
      "Response: {\"data\":[{\"mem\":3558096342,\"status\":\"running\",\"netin\":2361925326,\"maxdisk\":107374182400,\"vmid\":101,\"disk\":0,\"pid\":1787620,\"uptime\":10439308,\"diskread\":0,\"name\":\"test-vault01\",\"netout\":851934259,\"maxmem\":8589934592,\"cpus\":2,\"cpu\":0.0132955693759947,\"diskwrite\":0},{\"maxmem\":2147483648,\"name\":\"NewRelic-GitLab\",\"netout\":4328106675,\"diskwrite\":0,\"cpu\":0.00217423065512458,\"cpus\":2,\"uptime\":9061079,\"pid\":1003406,\"diskread\":0,\"disk\":0,\"vmid\":2000,\"maxdisk\":34359738368,\"netin\":13114871212,\"status\":\"running\",\"mem\":1332533428},{\"maxmem\":8589934592,\"name\":\"PgSQL-Primary\",\"netout\":12378350,\"diskwrite\":0,\"cpus\":4,\"cpu\":0.000690988372587537,\"uptime\":6636035,\"pid\":2483630,\"diskread\":0,\"disk\":0,\"vmid\":109,\"maxdisk\":107374182400,\"netin\":896125301,\"status\":\"running\",\"mem\":901719331},{\"vmid\":113,\"disk\":0,\"uptime\":3100489,\"pid\":3145680,\"diskread\":0,\"maxmem\":4266655744,\"netout\":25245894,\"name\":\"MLFlow-Artifact-SFTP\",\"diskwrite\":0,\"cpus\":2,\"cpu\":0.00144750150464458,\"mem\":2653948998,\"status\":\"running\",\"netin\":1021590843,\"maxdisk\":214748364800},{\"netin\":467044046,\"maxdisk\":34359738368,\"mem\":895934541,\"status\":\"running\",\"diskread\":0,\"pid\":3967817,\"uptime\":3530248,\"cpus\":2,\"cpu\":0.010668622200899,\"diskwrite\":0,\"name\":\"test-slave\",\"netout\":8411444,\"maxmem\":2147483648,\"vmid\":111,\"disk\":0},{\"mem\":1912229128,\"status\":\"running\",\"netin\":1544810472,\"maxdisk\":107374182400,\"vmid\":112,\"disk\":0,\"diskread\":0,\"pid\":3442637,\"uptime\":3205647,\"cpus\":1,\"cpu\":0.00351450982609179,\"diskwrite\":0,\"netout\":128251339,\"name\":\"MLFlow\",\"maxmem\":4294967296},{\"disk\":0,\"vmid\":110,\"maxmem\":8589934592,\"netout\":22824240,\"name\":\"primary-test\",\"diskwrite\":0,\"cpu\":0.00101861216993508,\"cpus\":4,\"uptime\":6313702,\"pid\":3793132,\"diskread\":0,\"status\":\"running\",\"mem\":2241500056,\"maxdisk\":34359738368,\"netin\":1698474799},{\"mem\":7183582338,\"status\":\"running\",\"netin\":214199254,\"maxdisk\":107374182400,\"vmid\":104,\"disk\":0,\"diskread\":0,\"pid\":3748081,\"uptime\":8390543,\"cpus\":4,\"cpu\":0.000810124298895734,\"diskwrite\":0,\"netout\":41697176,\"name\":\"PgSQL-IMX\",\"maxmem\":8589934592},{\"maxdisk\":107374182400,\"netin\":1506530177,\"status\":\"running\",\"mem\":2912848176,\"maxmem\":8589934592,\"netout\":28369207,\"name\":\"PgSQL-IMX-Replicaset\",\"diskwrite\":0,\"cpus\":4,\"cpu\":0.00539090066544587,\"uptime\":6750142,\"pid\":1998484,\"diskread\":0,\"disk\":0,\"vmid\":108},{\"mem\":3325666879,\"status\":\"running\",\"netin\":193264853,\"maxdisk\":34359738368,\"vmid\":106,\"disk\":0,\"pid\":3751193,\"uptime\":8389856,\"diskread\":0,\"name\":\"Ansible-controller\",\"netout\":288278655,\"maxmem\":4294967296,\"cpus\":2,\"cpu\":0.000738642743110816,\"diskwrite\":0},{\"diskread\":0,\"pid\":3099455,\"uptime\":8550075,\"cpus\":4,\"cpu\":0.0287236718329061,\"diskwrite\":0,\"netout\":332909560,\"name\":\"SurrealDB-IMX\",\"maxmem\":4294967296,\"vmid\":102,\"disk\":0,\"netin\":1141973166,\"maxdisk\":107374182400,\"mem\":1476618795,\"status\":\"running\"},{\"netin\":4582521313,\"maxdisk\":137438953472,\"mem\":5641064944,\"status\":\"running\",\"tags\":\"critical;poc\",\"diskread\":0,\"uptime\":10982136,\"pid\":3634760,\"diskwrite\":0,\"cpus\":2,\"cpu\":0.0078987119142334,\"maxmem\":8489271296,\"netout\":735696420,\"name\":\"Mongo-IMX\",\"vmid\":100,\"disk\":0},{\"disk\":0,\"vmid\":1001,\"netout\":457460828,\"name\":\"test-vm\",\"maxmem\":536870912,\"cpus\":1,\"cpu\":0.618815828430032,\"diskwrite\":0,\"pid\":2790383,\"uptime\":6560770,\"diskread\":0,\"status\":\"running\",\"mem\":21611255,\"maxdisk\":34359738368,\"netin\":1480585440}]}\u001b[0m\n",
      "\n",
      "\u001b[1m> Finished chain.\u001b[0m\n",
      "{'next': 'Proxmox-Node-HCM', 'messages': ['How many Vms on node Proxmox-Node-HCM?', {'question': 'How many Vms on node Proxmox-Node-HCM?', 'output': 'There are 17 VMs on the node Proxmox-Node-HCM. \\n'}]}\n"
     ]
    }
   ],
   "source": [
    "state = {\n",
    "    \"next\": \"Proxmox-Node-HCM\",\n",
    "    \"messages\": [\"How many Vms on node Proxmox-Node-HCM?\"]\n",
    "}\n",
    "\n",
    "new_state = Worker_node(state, \"Proxmox-Node-HCM\")\n",
    "print(new_state)  "
   ]
  },
  {
   "cell_type": "code",
   "execution_count": 21,
   "metadata": {},
   "outputs": [],
   "source": [
    "def proxmox_router(state: ProxmoxTeamState) :\n",
    "    next_worker = state[\"next\"]\n",
    "    print(f\"proxmox_router: Current state: {state}\")\n",
    "    if next_worker in [node[\"name\"] for node in proxmox_nodes]:\n",
    "        return next_worker\n",
    "    return \"end\""
   ]
  },
  {
   "cell_type": "code",
   "execution_count": 22,
   "metadata": {},
   "outputs": [
    {
     "name": "stdout",
     "output_type": "stream",
     "text": [
      "proxmox_router: Current state: {'next': 'Proxmox-Node-HCM'}\n",
      "Proxmox-Node-HCM\n"
     ]
    }
   ],
   "source": [
    "state = {\"next\": \"Proxmox-Node-HCM\"}\n",
    "result = proxmox_router(state)\n",
    "print(result) "
   ]
  },
  {
   "cell_type": "code",
   "execution_count": 23,
   "metadata": {},
   "outputs": [],
   "source": [
    "proxmox_graph = StateGraph(ProxmoxTeamState)\n",
    "\n",
    "for node in proxmox_nodes:\n",
    "    proxmox_graph.add_node(node[\"name\"], lambda state, node_name=node[\"name\"]: Worker_node(state, node_name))\n",
    "    proxmox_graph.add_edge(node[\"name\"], END)\n",
    "\n",
    "proxmox_graph.add_node(\"supervisor\", supervisor)\n",
    "\n",
    "node_edges = {node[\"name\"]: node[\"name\"] for node in proxmox_nodes}\n",
    "\n",
    "# Add the \"end\" key-value pair to the dictionary\n",
    "node_edges[\"end\"] = END\n",
    "\n",
    "proxmox_graph.add_conditional_edges(\n",
    "    \"supervisor\",\n",
    "    proxmox_router,\n",
    "    node_edges,\n",
    ")\n",
    "\n",
    "proxmox_graph.add_edge(START, \"supervisor\")\n",
    "proxmox_agent = proxmox_graph.compile()"
   ]
  },
  {
   "cell_type": "code",
   "execution_count": 24,
   "metadata": {},
   "outputs": [
    {
     "data": {
      "image/jpeg": "[encoded data removed]",
      "text/plain": [
       "<IPython.core.display.Image object>"
      ]
     },
     "metadata": {},
     "output_type": "display_data"
    }
   ],
   "source": [
    "display(Image(proxmox_agent.get_graph().draw_mermaid_png()))"
   ]
  },
  {
   "cell_type": "code",
   "execution_count": 25,
   "metadata": {},
   "outputs": [],
   "source": [
    "langfuse_handler = CallbackHandler(\n",
    "    public_key=os.getenv('LANGFUSE_PUBLIC_KEY'),\n",
    "    secret_key=os.getenv('LANGFUSE_SECRET_KEY'),\n",
    "    host=os.getenv('LANGFUSE_HOST'),\n",
    ")"
   ]
  },
  {
   "cell_type": "code",
   "execution_count": 26,
   "metadata": {},
   "outputs": [
    {
     "name": "stdout",
     "output_type": "stream",
     "text": [
      "processing_request: Current state: {'messages': [\"list Vms on node 'Proxmox-Node-HCM'\"], 'team_members': [], 'next': None}\n",
      "list Vms on node 'Proxmox-Node-HCM'\n",
      "{'next': 'Proxmox-Node-HCM'}\n",
      "proxmox_router: Current state: {'messages': [\"list Vms on node 'Proxmox-Node-HCM'\"], 'team_members': ['Proxmox-Node-HCM', 'ns31212248', 'coral-io-proxmox-lab'], 'next': 'Proxmox-Node-HCM'}\n",
      "Proxmox-Node-HCM / Proxmox-Node-HCM\n",
      "\n",
      "\n",
      "\u001b[1m> Entering new ProxmoxAPIChain chain...\u001b[0m\n",
      "Retrieved Document 0: {\"endpoint\": \"/api2/json/nodes/{node}/qemu\", \"method\": \"get\", \"summary\": \"List Virtual machines (VMs) on a Node\", \"parameters\": [{\"name\": \"node\", \"in\": \"path\", \"required\": true, \"description\": \"Node ID where VMs are located\", \"schema\": {\"type\": \"string\"}}]}\n",
      "Retrieved Document 1: {\"endpoint\": \"/api2/json/nodes/{node}/qemu/{vmid}/config\", \"method\": \"get\", \"summary\": \"Get Virtual machine/Vm Configuration (config file)\", \"parameters\": [{\"name\": \"node\", \"in\": \"path\", \"required\": true, \"description\": \"Node ID where the VM is located\", \"schema\": {\"type\": \"string\"}}, {\"name\": \"vmid\", \"in\": \"path\", \"required\": true, \"description\": \"ID of the VM\", \"schema\": {\"type\": \"integer\"}}, {\"name\": \"current\", \"in\": \"query\", \"required\": false, \"description\": \"Get current values instead of pending values\", \"schema\": {\"type\": \"boolean\"}}]}\n",
      "Retrieved Document 2: {\"endpoint\": \"/api2/json/nodes/{node}/lxc\", \"methods\": \"get\", \"summary\": \"List LXC Containers on a Node\", \"description\": \"List all containers available on a node\", \"parameters\": [{\"name\": \"node\", \"in\": \"path\", \"required\": true, \"description\": \"Node ID where LXC containers are located\", \"schema\": {\"type\": \"string\"}}]}\n",
      "\n",
      "Request info: {\n",
      "    \"api_url\": \"/api2/json/nodes/Proxmox-Node-HCM/qemu\",\n",
      "    \"request_method\": \"get\",\n",
      "    \"request_body\": {}\n",
      "}\n",
      "https://ns31418912.ip-54-38-37.eu:8006/\n",
      "Full API URL: https://ns31418912.ip-54-38-37.eu:8006/api2/json/nodes/Proxmox-Node-HCM/qemu\n",
      "API URL: https://ns31418912.ip-54-38-37.eu:8006/api2/json/nodes/Proxmox-Node-HCM/qemu\n",
      "Request method: GET\n",
      "Request body: {}\n",
      "\u001b[38;5;200m\u001b[1;3mStatus: 200 OK\n",
      "Response: {\"data\":[{\"diskwrite\":0,\"cpu\":0.00150877222160236,\"cpus\":2,\"maxmem\":4266655744,\"netout\":25245984,\"name\":\"MLFlow-Artifact-SFTP\",\"diskread\":0,\"uptime\":3100502,\"pid\":3145680,\"disk\":0,\"vmid\":113,\"maxdisk\":214748364800,\"netin\":1021590933,\"status\":\"running\",\"mem\":2653948998},{\"pid\":1787620,\"uptime\":10439321,\"diskread\":0,\"netout\":851934433,\"name\":\"test-vault01\",\"maxmem\":8589934592,\"cpu\":0.0132125682072473,\"cpus\":2,\"diskwrite\":0,\"vmid\":101,\"disk\":0,\"netin\":2361925500,\"maxdisk\":107374182400,\"mem\":3558096342,\"status\":\"running\"},{\"maxdisk\":34359738368,\"netin\":13114872480,\"status\":\"running\",\"mem\":1332533428,\"netout\":4328111919,\"name\":\"NewRelic-GitLab\",\"maxmem\":2147483648,\"cpu\":0.00222172033026676,\"cpus\":2,\"diskwrite\":0,\"pid\":1003406,\"uptime\":9061092,\"diskread\":0,\"disk\":0,\"vmid\":2000},{\"netout\":12378350,\"name\":\"PgSQL-Primary\",\"maxmem\":8589934592,\"cpu\":0.000716602825971234,\"cpus\":4,\"diskwrite\":0,\"pid\":2483630,\"uptime\":6636048,\"diskread\":0,\"disk\":0,\"vmid\":109,\"maxdisk\":107374182400,\"netin\":896125301,\"status\":\"running\",\"mem\":901719331},{\"mem\":895934541,\"status\":\"running\",\"netin\":467044046,\"maxdisk\":34359738368,\"vmid\":111,\"disk\":0,\"diskread\":0,\"pid\":3967817,\"uptime\":3530261,\"cpus\":2,\"cpu\":0.0105506471764005,\"diskwrite\":0,\"netout\":8411444,\"name\":\"test-slave\",\"maxmem\":2147483648},{\"maxmem\":8589934592,\"netout\":41697176,\"name\":\"PgSQL-IMX\",\"diskwrite\":0,\"cpu\":0.000842019623765603,\"cpus\":4,\"uptime\":8390557,\"pid\":3748081,\"diskread\":0,\"disk\":0,\"vmid\":104,\"maxdisk\":107374182400,\"netin\":214199254,\"status\":\"running\",\"mem\":7183582338},{\"netin\":1506530177,\"maxdisk\":107374182400,\"mem\":2912848176,\"status\":\"running\",\"uptime\":6750155,\"pid\":1998484,\"diskread\":0,\"maxmem\":8589934592,\"netout\":28369207,\"name\":\"PgSQL-IMX-Replicaset\",\"diskwrite\":0,\"cpus\":4,\"cpu\":0.00543589494077121,\"vmid\":108,\"disk\":0},{\"diskread\":0,\"uptime\":3205660,\"pid\":3442637,\"diskwrite\":0,\"cpus\":1,\"cpu\":0.00351545547765765,\"maxmem\":4294967296,\"netout\":128251339,\"name\":\"MLFlow\",\"vmid\":112,\"disk\":0,\"netin\":1544810472,\"maxdisk\":107374182400,\"mem\":1912229128,\"status\":\"running\"},{\"mem\":2241500056,\"status\":\"running\",\"netin\":1698474799,\"maxdisk\":34359738368,\"vmid\":110,\"disk\":0,\"uptime\":6313715,\"pid\":3793132,\"diskread\":0,\"maxmem\":8589934592,\"netout\":22824240,\"name\":\"primary-test\",\"diskwrite\":0,\"cpu\":0.00104408259645127,\"cpus\":4},{\"netin\":193264853,\"maxdisk\":34359738368,\"mem\":3325666879,\"status\":\"running\",\"pid\":3751193,\"uptime\":8389869,\"diskread\":0,\"netout\":288278655,\"name\":\"Ansible-controller\",\"maxmem\":4294967296,\"cpus\":2,\"cpu\":0.000746962194558945,\"diskwrite\":0,\"vmid\":106,\"disk\":0},{\"diskwrite\":0,\"cpu\":0.0256457875121282,\"cpus\":4,\"maxmem\":4294967296,\"name\":\"SurrealDB-IMX\",\"netout\":332975139,\"diskread\":0,\"uptime\":8550089,\"pid\":3099455,\"disk\":0,\"vmid\":102,\"maxdisk\":107374182400,\"netin\":1141997789,\"status\":\"running\",\"mem\":1532810896},{\"vmid\":100,\"disk\":0,\"diskread\":0,\"tags\":\"critical;poc\",\"pid\":3634760,\"uptime\":10982149,\"cpu\":0.00784972703684575,\"cpus\":2,\"diskwrite\":0,\"netout\":735696420,\"name\":\"Mongo-IMX\",\"maxmem\":8489271296,\"mem\":5641064944,\"status\":\"running\",\"netin\":4582521313,\"maxdisk\":137438953472},{\"disk\":0,\"vmid\":1001,\"diskwrite\":0,\"cpus\":1,\"cpu\":0.616522597911972,\"maxmem\":536870912,\"netout\":457462145,\"name\":\"test-vm\",\"diskread\":0,\"uptime\":6560783,\"pid\":2790383,\"status\":\"running\",\"mem\":21636980,\"maxdisk\":34359738368,\"netin\":1480588332}]}\u001b[0m\n",
      "\n",
      "\u001b[1m> Finished chain.\u001b[0m\n"
     ]
    },
    {
     "data": {
      "text/plain": [
       "{'messages': [\"list Vms on node 'Proxmox-Node-HCM'\",\n",
       "  {'question': \"list Vms on node 'Proxmox-Node-HCM'\",\n",
       "   'output': 'The virtual machines running on the Proxmox-Node-HCM node are: MLFlow-Artifact-SFTP, test-vault01, NewRelic-GitLab, PgSQL-Primary, test-slave, PgSQL-IMX, PgSQL-IMX-Replicaset, MLFlow, primary-test, Ansible-controller, SurrealDB-IMX, Mongo-IMX, and test-vm. \\n'}],\n",
       " 'team_members': ['Proxmox-Node-HCM', 'ns31212248', 'coral-io-proxmox-lab'],\n",
       " 'next': 'Proxmox-Node-HCM'}"
      ]
     },
     "execution_count": 26,
     "metadata": {},
     "output_type": "execute_result"
    }
   ],
   "source": [
    "proxmox_agent.invoke({\n",
    "            \"messages\": [\"list Vms on node 'Proxmox-Node-HCM'\"],\n",
    "            \"next\": None,\n",
    "            \"team_members\": []\n",
    "        }, config={\"callbacks\": [langfuse_handler]})"
   ]
  },
  {
   "cell_type": "code",
   "execution_count": 27,
   "metadata": {},
   "outputs": [
    {
     "name": "stdout",
     "output_type": "stream",
     "text": [
      "processing_request: Current state: {'messages': ['list Vms on node ns31212248 '], 'team_members': [], 'next': None}\n",
      "list Vms on node ns31212248 \n",
      "{'next': 'ns31212248'}\n",
      "proxmox_router: Current state: {'messages': ['list Vms on node ns31212248 '], 'team_members': ['Proxmox-Node-HCM', 'ns31212248', 'coral-io-proxmox-lab'], 'next': 'ns31212248'}\n",
      "ns31212248 / ns31212248\n",
      "\n",
      "\n",
      "\u001b[1m> Entering new ProxmoxAPIChain chain...\u001b[0m\n",
      "Retrieved Document 0: {\"endpoint\": \"/api2/json/nodes/{node}/qemu\", \"method\": \"get\", \"summary\": \"List Virtual machines (VMs) on a Node\", \"parameters\": [{\"name\": \"node\", \"in\": \"path\", \"required\": true, \"description\": \"Node ID where VMs are located\", \"schema\": {\"type\": \"string\"}}]}\n",
      "Retrieved Document 1: {\"endpoint\": \"/api2/json/nodes/{node}/qemu/{vmid}/config\", \"method\": \"get\", \"summary\": \"Get Virtual machine/Vm Configuration (config file)\", \"parameters\": [{\"name\": \"node\", \"in\": \"path\", \"required\": true, \"description\": \"Node ID where the VM is located\", \"schema\": {\"type\": \"string\"}}, {\"name\": \"vmid\", \"in\": \"path\", \"required\": true, \"description\": \"ID of the VM\", \"schema\": {\"type\": \"integer\"}}, {\"name\": \"current\", \"in\": \"query\", \"required\": false, \"description\": \"Get current values instead of pending values\", \"schema\": {\"type\": \"boolean\"}}]}\n",
      "Retrieved Document 2: {\"endpoint\": \"/api2/json/nodes/{node}/lxc\", \"methods\": \"get\", \"summary\": \"List LXC Containers on a Node\", \"description\": \"List all containers available on a node\", \"parameters\": [{\"name\": \"node\", \"in\": \"path\", \"required\": true, \"description\": \"Node ID where LXC containers are located\", \"schema\": {\"type\": \"string\"}}]}\n",
      "\n",
      "Request info: {\n",
      "    \"api_url\": \"/api2/json/nodes/ns31212248/qemu\",\n",
      "    \"request_method\": \"get\",\n",
      "    \"request_body\": {}\n",
      "}\n",
      "https://ns31212248.ip-51-178-74.eu:8006/\n",
      "Full API URL: https://ns31212248.ip-51-178-74.eu:8006/api2/json/nodes/ns31212248/qemu\n",
      "API URL: https://ns31212248.ip-51-178-74.eu:8006/api2/json/nodes/ns31212248/qemu\n",
      "Request method: GET\n",
      "Request body: {}\n",
      "\u001b[38;5;200m\u001b[1;3mStatus: 200 OK\n",
      "Response: {\"data\":[{\"pid\":2449,\"maxdisk\":64424509440,\"netin\":397016986126,\"disk\":0,\"uptime\":9987804,\"netout\":65505916403,\"cpu\":0.0448852863408256,\"diskwrite\":0,\"tags\":\"k8s-worker;production;terraform\",\"diskread\":0,\"cpus\":10,\"vmid\":108,\"maxmem\":40802189312,\"name\":\"cms-vm-k8s-production-01-worker-01\",\"mem\":24304250572,\"status\":\"running\"},{\"vmid\":9000,\"maxmem\":25769803776,\"mem\":0,\"name\":\"ML-OPS\",\"status\":\"stopped\",\"maxdisk\":68719476736,\"netin\":0,\"disk\":0,\"uptime\":0,\"cpus\":2,\"diskwrite\":0,\"diskread\":0,\"netout\":0,\"cpu\":0},{\"uptime\":8029606,\"netout\":181735705,\"cpu\":0.0780804752599871,\"diskwrite\":0,\"diskread\":0,\"cpus\":4,\"pid\":3920280,\"disk\":0,\"netin\":347851872,\"maxdisk\":107374182400,\"status\":\"running\",\"vmid\":6002,\"maxmem\":4294967296,\"name\":\"CLICKHOUSE-REPLICA-2\",\"mem\":3283402387},{\"maxdisk\":34359738368,\"disk\":0,\"netin\":794696995,\"pid\":156705,\"cpu\":0.00278335652896764,\"netout\":19890382,\"diskread\":0,\"diskwrite\":0,\"cpus\":4,\"uptime\":925833,\"name\":\"ubuntu-tmp2\",\"mem\":2329263488,\"maxmem\":4429185024,\"vmid\":101,\"status\":\"running\"},{\"pid\":3922771,\"maxdisk\":34359738368,\"disk\":0,\"netin\":537144162,\"uptime\":8029447,\"netout\":129127099,\"cpu\":0.00761760734243776,\"diskwrite\":0,\"diskread\":0,\"cpus\":4,\"vmid\":6100,\"maxmem\":4294967296,\"name\":\"CLICKHOUSE-KEEPER-1\",\"mem\":3302616637,\"status\":\"running\"},{\"status\":\"stopped\",\"name\":\"DefectDojo\",\"mem\":0,\"maxmem\":8589934592,\"vmid\":129,\"cpu\":0,\"netout\":0,\"diskwrite\":0,\"diskread\":0,\"cpus\":2,\"uptime\":0,\"maxdisk\":34359738368,\"netin\":0,\"disk\":0},{\"mem\":12583234788,\"name\":\"cms-vm-k8s-production-01-master-01\",\"maxmem\":25769803776,\"vmid\":118,\"status\":\"running\",\"maxdisk\":64424509440,\"disk\":0,\"netin\":64631355017,\"pid\":2693,\"netout\":388871502350,\"cpu\":0.388253820382838,\"tags\":\"k8s-control-plane;production;terraform\",\"diskwrite\":0,\"cpus\":6,\"diskread\":0,\"uptime\":9987786},{\"status\":\"running\",\"mem\":3162117716,\"name\":\"CLICKHOUSE-REPLICA-3\",\"maxmem\":4294967296,\"vmid\":6003,\"cpu\":0.121222501458986,\"netout\":57483589,\"diskwrite\":0,\"diskread\":0,\"cpus\":4,\"uptime\":8029511,\"maxdisk\":107374182400,\"netin\":397793028,\"disk\":0,\"pid\":3921761},{\"cpu\":0.134040590737126,\"netout\":431472083834,\"cpus\":2,\"diskwrite\":0,\"diskread\":0,\"uptime\":8686321,\"netin\":213774030623,\"disk\":0,\"maxdisk\":34359738368,\"pid\":2786814,\"status\":\"running\",\"name\":\"KC-MASTER-3\",\"mem\":7335457835,\"vmid\":8021,\"maxmem\":8489271296},{\"vmid\":112,\"maxmem\":2147483648,\"template\":1,\"name\":\"ubuntu-temp\",\"mem\":0,\"status\":\"stopped\",\"netin\":0,\"disk\":0,\"maxdisk\":0,\"uptime\":0,\"tags\":\"ubuntu-server;template\",\"diskwrite\":0,\"cpus\":2,\"diskread\":0,\"cpu\":0,\"netout\":0},{\"uptime\":8686415,\"diskread\":0,\"diskwrite\":0,\"cpus\":2,\"cpu\":0.136384469919415,\"netout\":405786780776,\"pid\":2785405,\"netin\":234829381465,\"disk\":0,\"maxdisk\":34359738368,\"status\":\"running\",\"vmid\":8001,\"maxmem\":4294967296,\"name\":\"KC1-MASTER-2\",\"mem\":3343064865},{\"status\":\"running\",\"vmid\":111,\"maxmem\":4294967296,\"name\":\"vm-k8s-production-01-kubespray-01\",\"mem\":1779166896,\"uptime\":9987799,\"netout\":41794601,\"cpu\":0.00139167826448382,\"diskread\":0,\"tags\":\"kubespray;production;terraform\",\"diskwrite\":0,\"cpus\":4,\"pid\":2531,\"maxdisk\":64424509440,\"netin\":2673798449,\"disk\":0},{\"cpu\":0.0896533787225368,\"netout\":127734653653,\"cpus\":2,\"diskwrite\":0,\"diskread\":0,\"uptime\":8701953,\"maxdisk\":34359738368,\"disk\":0,\"netin\":140334161446,\"pid\":2581293,\"status\":\"running\",\"mem\":6940249879,\"name\":\"KC1-WORKER-2\",\"maxmem\":8589934592,\"vmid\":8011},{\"vmid\":8002,\"maxmem\":4294967296,\"mem\":1877602934,\"name\":\"KC-MASTER-2\",\"status\":\"running\",\"pid\":2784922,\"disk\":0,\"netin\":226396293169,\"maxdisk\":34359738368,\"uptime\":8686438,\"diskwrite\":0,\"cpus\":2,\"diskread\":0,\"cpu\":0.129938802168121,\"netout\":472734477786},{\"mem\":1748790859,\"name\":\"IMX-Mongo-Test\",\"vmid\":130,\"maxmem\":4294967296,\"status\":\"running\",\"netin\":1266422595,\"disk\":0,\"maxdisk\":53687091200,\"pid\":140301,\"cpu\":0.06035488894393,\"netout\":31139430,\"diskwrite\":0,\"cpus\":2,\"diskread\":0,\"uptime\":9945104},{\"maxdisk\":34359738368,\"netin\":51945686801,\"disk\":0,\"pid\":149116,\"netout\":3412799374,\"cpu\":0.0136237977470522,\"diskread\":0,\"tags\":\"critical\",\"diskwrite\":0,\"cpus\":4,\"uptime\":9943895,\"name\":\"XCLOUD-DEVTOOLS\",\"mem\":7378040527,\"vmid\":142,\"maxmem\":8589934592,\"status\":\"running\"},{\"disk\":0,\"netin\":3191410535,\"maxdisk\":68719476736,\"pid\":1775485,\"cpu\":0.00190440183560944,\"netout\":76570551,\"diskwrite\":0,\"cpus\":4,\"diskread\":0,\"uptime\":9380027,\"mem\":6302289083,\"name\":\"CMS-Master-Workstation\",\"maxmem\":8489271296,\"vmid\":7000,\"status\":\"running\"},{\"maxdisk\":34359738368,\"disk\":0,\"netin\":3211263538,\"pid\":149366,\"diskwrite\":0,\"tags\":\"critical\",\"cpus\":4,\"diskread\":0,\"cpu\":0.000878954693358204,\"netout\":8406659692,\"uptime\":9943888,\"mem\":3297749164,\"name\":\"XCLOUD-ANSIBLE\",\"maxmem\":8589934592,\"vmid\":1337,\"status\":\"running\"},{\"disk\":0,\"netin\":981581431,\"maxdisk\":107374182400,\"pid\":3199682,\"cpu\":0.0240247616184576,\"netout\":36424419,\"cpus\":4,\"diskwrite\":0,\"diskread\":0,\"uptime\":1910098,\"mem\":2900918447,\"name\":\"network-lab\",\"maxmem\":4294967296,\"vmid\":131,\"status\":\"running\"},{\"status\":\"stopped\",\"maxmem\":2147483648,\"vmid\":120,\"template\":1,\"name\":\"new-image-tmp-2\",\"mem\":0,\"uptime\":0,\"cpus\":2,\"tags\":\"ubuntu-server;template\",\"diskwrite\":0,\"diskread\":0,\"cpu\":0,\"netout\":0,\"maxdisk\":0,\"netin\":0,\"disk\":0},{\"uptime\":8033618,\"diskwrite\":0,\"tags\":\"critical\",\"diskread\":0,\"cpus\":4,\"netout\":277990160,\"cpu\":0.000878954693358204,\"pid\":3862829,\"disk\":0,\"netin\":709697521,\"maxdisk\":34359738368,\"status\":\"running\",\"vmid\":115,\"maxmem\":4294967296,\"name\":\"KC-Ansible-controller\",\"mem\":2279036337},{\"netin\":5769915824,\"disk\":0,\"maxdisk\":268435456000,\"pid\":2558014,\"diskread\":0,\"diskwrite\":0,\"cpus\":4,\"netout\":8393823762,\"cpu\":0.00959525540249372,\"uptime\":9314408,\"mem\":7902029725,\"name\":\"CMS-Gitlab-Runner\",\"vmid\":121,\"maxmem\":17179869184,\"status\":\"running\"},{\"vmid\":8023,\"maxmem\":8489271296,\"name\":\"KC1-WORKER-3\",\"mem\":7220753018,\"status\":\"running\",\"pid\":2787211,\"disk\":0,\"netin\":273806515964,\"maxdisk\":34359738368,\"uptime\":8686305,\"netout\":478635204345,\"cpu\":0.0811568166867408,\"diskwrite\":0,\"diskread\":0,\"cpus\":2},{\"status\":\"running\",\"vmid\":103,\"maxmem\":2550136832,\"name\":\"ubuntu-tmp1\",\"mem\":1311055285,\"uptime\":958750,\"diskwrite\":0,\"cpus\":4,\"diskread\":0,\"netout\":22440088,\"cpu\":0.00351581877343281,\"pid\":3902359,\"maxdisk\":34359738368,\"netin\":806382081,\"disk\":0},{\"uptime\":8701917,\"cpus\":2,\"diskwrite\":0,\"diskread\":0,\"cpu\":0.148543343177536,\"netout\":145738726482,\"pid\":2582301,\"netin\":1040736483625,\"disk\":0,\"maxdisk\":34359738368,\"status\":\"running\",\"maxmem\":8589934592,\"vmid\":8010,\"mem\":6200828207,\"name\":\"KC1-WORKER-1\"},{\"status\":\"running\",\"name\":\"KC2-WORKER-1\",\"mem\":33050583657,\"maxmem\":34359738368,\"vmid\":201,\"diskwrite\":0,\"tags\":\"critical\",\"diskread\":0,\"cpus\":6,\"netout\":1201943249,\"cpu\":0.00761760734243776,\"uptime\":6735138,\"maxdisk\":137438953472,\"disk\":0,\"netin\":1996742259,\"pid\":1690124},{\"vmid\":202,\"maxmem\":34359738368,\"name\":\"KC2-WORKER-2\",\"mem\":27451315496,\"status\":\"running\",\"pid\":1690289,\"netin\":1995839279,\"disk\":0,\"maxdisk\":137438953472,\"uptime\":6735133,\"diskread\":0,\"tags\":\"critical\",\"diskwrite\":0,\"cpus\":6,\"netout\":1201177418,\"cpu\":0.00629917530240046},{\"mem\":7508554405,\"name\":\"CLICKHOUSE-REPLICA-1\",\"vmid\":6001,\"maxmem\":8589934592,\"status\":\"running\",\"maxdisk\":107374182400,\"disk\":0,\"netin\":348575056,\"pid\":3916729,\"netout\":182547979,\"cpu\":0.00856980826024249,\"diskread\":0,\"diskwrite\":0,\"cpus\":4,\"uptime\":8029844},{\"status\":\"running\",\"mem\":1288869418,\"name\":\"cms-dev-env\",\"maxmem\":2147483648,\"vmid\":119,\"diskwrite\":0,\"cpus\":2,\"diskread\":0,\"cpu\":0.021534389987276,\"netout\":16915417,\"uptime\":9314410,\"maxdisk\":53687091200,\"netin\":516175871,\"disk\":0,\"pid\":2557959},{\"maxmem\":8489271296,\"vmid\":8020,\"mem\":2871816758,\"name\":\"KC-Minio\",\"status\":\"running\",\"pid\":2520381,\"maxdisk\":34359738368,\"disk\":0,\"netin\":1101273410,\"uptime\":8124753,\"diskwrite\":0,\"cpus\":2,\"diskread\":0,\"netout\":25944486,\"cpu\":0.00249037163118158},{\"diskwrite\":0,\"tags\":\"critical\",\"cpus\":6,\"diskread\":0,\"cpu\":0.0158211844804477,\"netout\":3298853788,\"uptime\":6735144,\"maxdisk\":34359738368,\"netin\":2753892011,\"disk\":0,\"pid\":1690022,\"status\":\"running\",\"name\":\"KC2-MASTER-1\",\"mem\":7407045296,\"maxmem\":8589934592,\"vmid\":200}]}\u001b[0m\n",
      "\n",
      "\u001b[1m> Finished chain.\u001b[0m\n"
     ]
    },
    {
     "data": {
      "text/plain": [
       "{'messages': ['list Vms on node ns31212248 ',\n",
       "  {'question': 'list Vms on node ns31212248 ',\n",
       "   'output': 'Here are the virtual machines running on node ns31212248:\\n\\n* cms-vm-k8s-production-01-worker-01\\n* ML-OPS\\n* CLICKHOUSE-REPLICA-2\\n* ubuntu-tmp2\\n* CLICKHOUSE-KEEPER-1\\n* DefectDojo\\n* cms-vm-k8s-production-01-master-01\\n* CLICKHOUSE-REPLICA-3\\n* KC-MASTER-3\\n* ubuntu-temp\\n* KC1-MASTER-2\\n* vm-k8s-production-01-kubespray-01\\n* KC1-WORKER-2\\n* KC-MASTER-2\\n* IMX-Mongo-Test\\n* XCLOUD-DEVTOOLS\\n* CMS-Master-Workstation\\n* XCLOUD-ANSIBLE\\n* network-lab\\n* new-image-tmp-2\\n* KC-Ansible-controller\\n* CMS-Gitlab-Runner\\n* KC1-WORKER-3\\n* ubuntu-tmp1\\n* KC1-WORKER-1\\n* KC2-WORKER-1\\n* KC2-WORKER-2\\n* CLICKHOUSE-REPLICA-1\\n* cms-dev-env\\n* KC-Minio\\n* KC2-MASTER-1 \\n'}],\n",
       " 'team_members': ['Proxmox-Node-HCM', 'ns31212248', 'coral-io-proxmox-lab'],\n",
       " 'next': 'ns31212248'}"
      ]
     },
     "execution_count": 27,
     "metadata": {},
     "output_type": "execute_result"
    }
   ],
   "source": [
    "proxmox_agent.invoke({\n",
    "            \"messages\": [\"list Vms on node ns31212248 \"],\n",
    "            \"next\": None,\n",
    "            \"team_members\": []\n",
    "        }, config={\"callbacks\": [langfuse_handler]})"
   ]
  },
  {
   "cell_type": "code",
   "execution_count": null,
   "metadata": {},
   "outputs": [],
   "source": []
  }
 ],
 "metadata": {
  "kernelspec": {
   "display_name": "venv",
   "language": "python",
   "name": "python3"
  },
  "language_info": {
   "codemirror_mode": {
    "name": "ipython",
    "version": 3
   },
   "file_extension": ".py",
   "mimetype": "text/x-python",
   "name": "python",
   "nbconvert_exporter": "python",
   "pygments_lexer": "ipython3",
   "version": "3.12.3"
  }
 },
 "nbformat": 4,
 "nbformat_minor": 2
}
