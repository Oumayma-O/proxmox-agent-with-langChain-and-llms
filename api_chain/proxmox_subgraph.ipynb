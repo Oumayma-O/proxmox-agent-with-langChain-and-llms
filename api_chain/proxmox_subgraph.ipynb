{
 "cells": [
  {
   "cell_type": "markdown",
   "metadata": {},
   "source": [
    "# Setup"
   ]
  },
  {
   "cell_type": "code",
   "execution_count": 1,
   "metadata": {},
   "outputs": [
    {
     "name": "stderr",
     "output_type": "stream",
     "text": [
      "C:\\Users\\oumay\\AppData\\Local\\Temp\\ipykernel_11960\\3794227179.py:15: TqdmExperimentalWarning: Using `tqdm.autonotebook.tqdm` in notebook mode. Use `tqdm.tqdm` instead to force console mode (e.g. in jupyter console)\n",
      "  from tqdm.autonotebook import tqdm, trange\n"
     ]
    }
   ],
   "source": [
    "from proxmox.dict import proxmox_nodes\n",
    "from proxmox.docs import _proxmox_api_docs\n",
    "from proxmox.base import ProxmoxAPIChain\n",
    "from langchain.text_splitter import RecursiveJsonSplitter\n",
    "from langchain_community.embeddings.sentence_transformer import SentenceTransformerEmbeddings\n",
    "from langchain.retrievers import ContextualCompressionRetriever\n",
    "from langchain_community.cross_encoders import HuggingFaceCrossEncoder\n",
    "from langchain.retrievers.document_compressors import CrossEncoderReranker\n",
    "from langchain_community.vectorstores.surrealdb import SurrealDBStore\n",
    "from langchain_huggingface import HuggingFaceEmbeddings\n",
    "import nest_asyncio\n",
    "import os\n",
    "import hvac\n",
    "from dotenv import load_dotenv\n",
    "from tqdm.autonotebook import tqdm, trange\n",
    "import torch\n",
    "import getpass"
   ]
  },
  {
   "cell_type": "code",
   "execution_count": 2,
   "metadata": {},
   "outputs": [
    {
     "data": {
      "text/plain": [
       "True"
      ]
     },
     "execution_count": 2,
     "metadata": {},
     "output_type": "execute_result"
    }
   ],
   "source": [
    "# Load environment variables from .env file\n",
    "load_dotenv()"
   ]
  },
  {
   "cell_type": "code",
   "execution_count": 3,
   "metadata": {},
   "outputs": [
    {
     "name": "stdout",
     "output_type": "stream",
     "text": [
      "Request to Vault failed: 2 errors occurred:\n",
      "\t* permission denied\n",
      "\t* invalid token\n",
      "\n",
      ", on get http://46.105.247.55:8200/v1/kv/data/users/accounts/surrealdb\n",
      "Failed to retrieve SurrealDB URL.\n",
      "Request to Vault failed: 2 errors occurred:\n",
      "\t* permission denied\n",
      "\t* invalid token\n",
      "\n",
      ", on get http://46.105.247.55:8200/v1/kv/data/users/accounts/surrealdb/oumaima\n",
      "Failed to retrieve SurrealDB credentials.\n"
     ]
    }
   ],
   "source": [
    "def get_vault_token():\n",
    "    token = os.getenv('VAULT_TOKEN')\n",
    "    if not token:\n",
    "        os.environ['VAULT_TOKEN'] = getpass.getpass(f\"Please provide your Vault token:\").strip()\n",
    "    return os.environ['VAULT_TOKEN']\n",
    "\n",
    "# Function to access the secret from Vault\n",
    "def access_vault_secret(vault_token, url, secret_path):\n",
    "    try:\n",
    "        client = hvac.Client(url=url, token=vault_token)\n",
    "        response = client.secrets.kv.v2.read_secret_version(path=secret_path, mount_point=\"kv\" , raise_on_deleted_version=True)\n",
    "        if response:\n",
    "            secret_data = response['data']['data']\n",
    "            print(f\"Accessed Vault secret at {secret_path}.\")\n",
    "            return secret_data\n",
    "        else:\n",
    "            print(f\"Failed to access Vault secret at {secret_path}.\")\n",
    "            return None\n",
    "    except hvac.exceptions.VaultError as e:\n",
    "        print(f\"Request to Vault failed: {e}\")\n",
    "        return None\n",
    "\n",
    "vault_token = get_vault_token()\n",
    "\n",
    "# Retrieve Vault URL from environment variables\n",
    "vault_url = os.getenv('VAULT_URL')\n",
    "\n",
    "# Paths to secrets in Vault\n",
    "#proxmox_secret_path = \"users/accounts/api-tokens/proxmox/oumaima\"\n",
    "surrealdb_url_path = \"users/accounts/surrealdb\"\n",
    "surrealdb_credentials_path = \"users/accounts/surrealdb/oumaima\"\n",
    "\n",
    "# Access SurrealDB URL from Vault\n",
    "surrealdb_url_secret = access_vault_secret(vault_token, vault_url, surrealdb_url_path)\n",
    "if surrealdb_url_secret:\n",
    "    os.environ['SURREALDB_URL'] = surrealdb_url_secret.get('url')\n",
    "else:\n",
    "    print(\"Failed to retrieve SurrealDB URL.\")\n",
    "\n",
    "# Access SurrealDB credentials from Vault\n",
    "surrealdb_credentials_secret = access_vault_secret(vault_token, vault_url, surrealdb_credentials_path)\n",
    "if surrealdb_credentials_secret:\n",
    "    os.environ['SURREALDB_USER'] = surrealdb_credentials_secret.get('user')\n",
    "    os.environ['SURREALDB_PWD'] = surrealdb_credentials_secret.get('password')\n",
    "else:\n",
    "    print(\"Failed to retrieve SurrealDB credentials.\")"
   ]
  },
  {
   "cell_type": "code",
   "execution_count": 4,
   "metadata": {},
   "outputs": [],
   "source": [
    "proxmox_HCM_api_token = os.getenv('PROXMOX_HCM_API_TOKEN') \n",
    "node5_api_token = os.getenv('NODE_5_API_TOKEN')\n",
    "surrealdb_url = os.getenv('SURREALDB_URL')\n",
    "surrealdb_user = os.getenv('SURREALDB_USER')\n",
    "surrealdb_password = os.getenv('SURREALDB_PWD')"
   ]
  },
  {
   "cell_type": "code",
   "execution_count": 5,
   "metadata": {},
   "outputs": [],
   "source": [
    "splitter = RecursiveJsonSplitter(max_chunk_size=4000)\n",
    "docs = splitter.create_documents(_proxmox_api_docs)"
   ]
  },
  {
   "cell_type": "code",
   "execution_count": 6,
   "metadata": {},
   "outputs": [
    {
     "name": "stderr",
     "output_type": "stream",
     "text": [
      "c:\\Users\\oumay\\.vscode\\agent-scripts\\venv\\Lib\\site-packages\\xformers\\ops\\fmha\\flash.py:211: FutureWarning: `torch.library.impl_abstract` was renamed to `torch.library.register_fake`. Please use that instead; we will remove `torch.library.impl_abstract` in a future version of PyTorch.\n",
      "  @torch.library.impl_abstract(\"xformers_flash::flash_fwd\")\n",
      "c:\\Users\\oumay\\.vscode\\agent-scripts\\venv\\Lib\\site-packages\\xformers\\ops\\fmha\\flash.py:344: FutureWarning: `torch.library.impl_abstract` was renamed to `torch.library.register_fake`. Please use that instead; we will remove `torch.library.impl_abstract` in a future version of PyTorch.\n",
      "  @torch.library.impl_abstract(\"xformers_flash::flash_bwd\")\n",
      "Some weights of the model checkpoint at infgrad/stella_en_400M_v5 were not used when initializing NewModel: ['new.pooler.dense.bias', 'new.pooler.dense.weight']\n",
      "- This IS expected if you are initializing NewModel from the checkpoint of a model trained on another task or with another architecture (e.g. initializing a BertForSequenceClassification model from a BertForPreTraining model).\n",
      "- This IS NOT expected if you are initializing NewModel from the checkpoint of a model that you expect to be exactly identical (initializing a BertForSequenceClassification model from a BertForSequenceClassification model).\n"
     ]
    }
   ],
   "source": [
    "# Initialize the SentenceTransformerEmbeddings with trust_remote_code=True\n",
    "ef = HuggingFaceEmbeddings(\n",
    "    model_name=\"infgrad/stella_en_400M_v5\",\n",
    "    model_kwargs={\n",
    "        \"trust_remote_code\": True,\n",
    "    }\n",
    ")"
   ]
  },
  {
   "cell_type": "code",
   "execution_count": 7,
   "metadata": {},
   "outputs": [],
   "source": [
    "nest_asyncio.apply()\n",
    "\n",
    "# SurrealDB connection parameters\n",
    "dburl = \"ws://localhost:8000/rpc\"\n",
    "ns = \"langchain\"\n",
    "db_name = \"proxmox_api_docs\"\n",
    "collection = \"proxmox_collection\"\n",
    "db_user = surrealdb_user\n",
    "db_pass = surrealdb_password\n",
    "\n",
    "# Initialize the SurrealDBStore with documents\n",
    "db = SurrealDBStore(\n",
    "    embedding_function=ef,\n",
    "    dburl=dburl,\n",
    "    ns=ns,\n",
    "    db=db_name,\n",
    "    collection=collection,\n",
    "    db_user=db_user,\n",
    "    db_pass=db_pass\n",
    ")\n",
    "\n",
    "\n",
    "# this is needed to initialize the underlying async library for SurrealDB\n",
    "await db.initialize()\n",
    "\n",
    "# delete collection from the vectorstore collection if it exists \n",
    "await db.adelete(collection = collection)\n",
    "\n",
    "# add documents to the vectorstore\n",
    "ids = await db.aadd_documents(docs)\n",
    "\n",
    "retriever = db.as_retriever(search_type=\"similarity\", search_kwargs={\"k\": 3})\n",
    "\n",
    "# Initialize the cross-encoder model\n",
    "#cross_encoder_model = HuggingFaceCrossEncoder(model_name=\"BAAI/bge-reranker-base\")\n",
    "cross_encoder_model = HuggingFaceCrossEncoder(model_name=\"cross-encoder/ms-marco-MiniLM-L-6-v2\")\n",
    "compressor = CrossEncoderReranker(model=cross_encoder_model, top_n=3)\n",
    "compression_retriever = ContextualCompressionRetriever(\n",
    "    base_compressor=compressor, base_retriever=retriever\n",
    ")"
   ]
  },
  {
   "cell_type": "markdown",
   "metadata": {},
   "source": [
    "# Team approach"
   ]
  },
  {
   "cell_type": "code",
   "execution_count": 8,
   "metadata": {},
   "outputs": [],
   "source": [
    "from langchain_core.prompts import ChatPromptTemplate\n",
    "from langchain_core.pydantic_v1 import BaseModel, Field\n",
    "from langchain_core.output_parsers import JsonOutputParser\n",
    "from langchain.prompts import PromptTemplate\n",
    "from langchain_ollama import ChatOllama\n",
    "\n",
    "# Define the prompt template\n",
    "prompt = PromptTemplate(\n",
    "    template=(\"\"\"\n",
    "    You are a supervisor tasked with routing a query to one of the following workers: {workers}. \n",
    "    Given the following user request, respond with the worker to act next. Each worker will perform a task \n",
    "    and respond with their results and status. The worker output will be returned to the user. \n",
    "    The options for workers are {workers}. Return 'end' if the request isn't related to any of the given workers.\n",
    "\n",
    "    User request: {question}\n",
    "\n",
    "    Respond in JSON format with a single key \"next\" which holds the worker name.\n",
    "\n",
    "    next :\n",
    "    \"\"\"),\n",
    "    input_variables=[\"question\"],\n",
    "    partial_variables={\"workers\": list(proxmox_nodes.keys())}\n",
    ")\n",
    "\n",
    "# Initialize the LLM\n",
    "llm_sup = ChatOllama(model=\"phi3\", temperature=0, format=\"json\")\n",
    "#llm_sup = ChatOllama(model=\"llama3.1\", temperature=0, format=\"json\")\n",
    "\n",
    "\n",
    "# Combine prompt and LLM with JsonOutputParser\n",
    "sup_chain = prompt | llm_sup | JsonOutputParser()\n"
   ]
  },
  {
   "cell_type": "code",
   "execution_count": 9,
   "metadata": {},
   "outputs": [
    {
     "data": {
      "text/plain": [
       "{'next': 'Proxmox-Node-HCM'}"
      ]
     },
     "execution_count": 9,
     "metadata": {},
     "output_type": "execute_result"
    }
   ],
   "source": [
    "sup_chain.invoke({\n",
    "    \"question\": \"How many Vms on node Proxmox-Node-HCM\",\n",
    "})"
   ]
  },
  {
   "cell_type": "code",
   "execution_count": 10,
   "metadata": {},
   "outputs": [],
   "source": [
    "from langchain_core.messages import BaseMessage\n",
    "import operator\n",
    "from typing import Annotated, List, TypedDict, Literal\n",
    "\n",
    "\n",
    "class ProxmoxTeamState(TypedDict):\n",
    "    messages: List[BaseMessage]\n",
    "    team_members: List[str]\n",
    "    next: str"
   ]
  },
  {
   "cell_type": "code",
   "execution_count": 11,
   "metadata": {},
   "outputs": [],
   "source": [
    "def supervisor(state: ProxmoxTeamState) -> ProxmoxTeamState:\n",
    "    print(f\"processing_request: Current state: {state}\")\n",
    "    question = state[\"messages\"][0]\n",
    "    result = sup_chain.invoke({\"question\": question})\n",
    "    state[\"next\"] = result[\"next\"]\n",
    "    state[\"team_members\"] = list(proxmox_nodes.keys())\n",
    "    return state"
   ]
  },
  {
   "cell_type": "code",
   "execution_count": 12,
   "metadata": {},
   "outputs": [
    {
     "name": "stdout",
     "output_type": "stream",
     "text": [
      "processing_request: Current state: {'messages': [\"list Vms on node 'Proxmox-Node-HCM'\"], 'next': None, 'team_members': []}\n"
     ]
    },
    {
     "data": {
      "text/plain": [
       "{'messages': [\"list Vms on node 'Proxmox-Node-HCM'\"],\n",
       " 'next': 'Proxmox-Node-HCM',\n",
       " 'team_members': ['Proxmox-Node-HCM', 'ns31212248']}"
      ]
     },
     "execution_count": 12,
     "metadata": {},
     "output_type": "execute_result"
    }
   ],
   "source": [
    "initial_state = {\n",
    "            \"messages\": [\"list Vms on node 'Proxmox-Node-HCM'\"],\n",
    "            \"next\": None,\n",
    "            \"team_members\": []\n",
    "        }\n",
    "supervisor(initial_state)"
   ]
  },
  {
   "cell_type": "code",
   "execution_count": 13,
   "metadata": {},
   "outputs": [],
   "source": [
    "from langchain_google_genai import ChatGoogleGenerativeAI\n",
    "\n",
    "# Initialize the llm with the new model\n",
    "llm = ChatGoogleGenerativeAI(model=\"gemini-1.5-flash-latest\", temperature=0)"
   ]
  },
  {
   "cell_type": "code",
   "execution_count": 14,
   "metadata": {},
   "outputs": [],
   "source": [
    "# Initialize the LLM\n",
    "#llm = ChatOllama(model=\"llama3.1\", temperature=0, format=\"json\")"
   ]
  },
  {
   "cell_type": "code",
   "execution_count": null,
   "metadata": {},
   "outputs": [],
   "source": [
    "proxmox_nodes.keys()"
   ]
  },
  {
   "cell_type": "code",
   "execution_count": 15,
   "metadata": {},
   "outputs": [],
   "source": [
    "agents = {}\n",
    "\n",
    "for node_name, node_info in proxmox_nodes.items():\n",
    "    chain = ProxmoxAPIChain.from_llm_and_api_docs(\n",
    "        llm,\n",
    "        retriever=compression_retriever,\n",
    "        headers={\"Authorization\": node_info['api_token']},\n",
    "        pve_token=node_info['api_token'],\n",
    "        verbose=True,\n",
    "        limit_to_domains=[node_info[\"base_url\"]],\n",
    "        base_url=node_info[\"base_url\"],\n",
    "    )\n",
    "    agents[node_name] = chain"
   ]
  },
  {
   "cell_type": "code",
   "execution_count": 16,
   "metadata": {},
   "outputs": [
    {
     "name": "stdout",
     "output_type": "stream",
     "text": [
      "\n",
      "\n",
      "\u001b[1m> Entering new ProxmoxAPIChain chain...\u001b[0m\n"
     ]
    },
    {
     "name": "stderr",
     "output_type": "stream",
     "text": [
      "c:\\Users\\oumay\\.vscode\\agent-scripts\\venv\\Lib\\site-packages\\transformers\\models\\bert\\modeling_bert.py:439: UserWarning: 1Torch was not compiled with flash attention. (Triggered internally at C:\\actions-runner\\_work\\pytorch\\pytorch\\builder\\windows\\pytorch\\aten\\src\\ATen\\native\\transformers\\cuda\\sdp_utils.cpp:555.)\n",
      "  attn_output = torch.nn.functional.scaled_dot_product_attention(\n"
     ]
    },
    {
     "name": "stdout",
     "output_type": "stream",
     "text": [
      "Retrieved Document 0: {\"endpoint\": \"/api2/json/nodes/{node}/qemu\", \"method\": \"get\", \"summary\": \"List Virtual machines (VMs) on a Node\", \"parameters\": [{\"name\": \"node\", \"in\": \"path\", \"required\": true, \"description\": \"Node ID where VMs are located\", \"schema\": {\"type\": \"string\"}}]}\n",
      "Retrieved Document 1: {\"endpoint\": \"/api2/json/nodes/{node}/qemu/{vmid}/config\", \"method\": \"get\", \"summary\": \"Get Virtual machine/Vm Configuration (config file)\", \"parameters\": [{\"name\": \"node\", \"in\": \"path\", \"required\": true, \"description\": \"Node ID where the VM is located\", \"schema\": {\"type\": \"string\"}}, {\"name\": \"vmid\", \"in\": \"path\", \"required\": true, \"description\": \"ID of the VM\", \"schema\": {\"type\": \"integer\"}}, {\"name\": \"current\", \"in\": \"query\", \"required\": false, \"description\": \"Get current values instead of pending values\", \"schema\": {\"type\": \"boolean\"}}]}\n",
      "Retrieved Document 2: {\"endpoint\": \"/api2/json/nodes/{node}/lxc\", \"methods\": \"get\", \"summary\": \"List LXC Containers on a Node\", \"description\": \"List all containers available on a node\", \"parameters\": [{\"name\": \"node\", \"in\": \"path\", \"required\": true, \"description\": \"Node ID where LXC containers are located\", \"schema\": {\"type\": \"string\"}}]}\n",
      "\n",
      "Request info: {\n",
      "    \"api_url\": \"https://ns31418912.ip-54-38-37.eu:8006/api2/json/nodes/Proxmox-Node-HCM/qemu\",\n",
      "    \"request_method\": \"get\",\n",
      "    \"request_body\": {}\n",
      "}\n",
      "API URL: https://ns31418912.ip-54-38-37.eu:8006/api2/json/nodes/Proxmox-Node-HCM/qemu\n",
      "Request method: GET\n",
      "Request body: {}\n",
      "\u001b[38;5;200m\u001b[1;3mStatus: 200 OK\n",
      "Response: {\"data\":[{\"vmid\":9999,\"disk\":0,\"diskread\":0,\"uptime\":0,\"diskwrite\":0,\"cpu\":0,\"cpus\":2,\"maxmem\":2147483648,\"netout\":0,\"name\":\"my-vm\",\"mem\":0,\"status\":\"stopped\",\"netin\":0,\"maxdisk\":34359738368},{\"maxdisk\":34359738368,\"netin\":960532145,\"status\":\"running\",\"mem\":2307047969,\"name\":\"primary-test\",\"netout\":9764443,\"maxmem\":8589934592,\"cpus\":4,\"cpu\":0.000733389891374532,\"diskwrite\":0,\"pid\":3793132,\"uptime\":2076737,\"diskread\":0,\"disk\":0,\"vmid\":110},{\"disk\":0,\"vmid\":104,\"cpu\":0.000780849379568931,\"cpus\":4,\"diskwrite\":0,\"netout\":27604489,\"name\":\"PgSQL-IMX\",\"maxmem\":8589934592,\"diskread\":0,\"pid\":3748081,\"uptime\":4153578,\"status\":\"running\",\"mem\":7183514178,\"maxdisk\":107374182400,\"netin\":201534313},{\"maxdisk\":107374182400,\"netin\":908599708,\"status\":\"running\",\"mem\":2884737492,\"cpus\":4,\"cpu\":0.0054501487216935,\"diskwrite\":0,\"netout\":10379054,\"name\":\"PgSQL-IMX-Replicaset\",\"maxmem\":8589934592,\"diskread\":0,\"pid\":1998484,\"uptime\":2513177,\"disk\":0,\"vmid\":108},{\"vmid\":106,\"disk\":0,\"diskread\":0,\"pid\":3751193,\"uptime\":4152891,\"cpu\":0.000741357041346385,\"cpus\":2,\"diskwrite\":0,\"netout\":171036360,\"name\":\"Ansible-controller\",\"maxmem\":4294967296,\"mem\":3325967428,\"status\":\"running\",\"netin\":180057171,\"maxdisk\":34359738368},{\"netin\":554606908,\"maxdisk\":107374182400,\"mem\":1201901855,\"status\":\"running\",\"diskread\":0,\"uptime\":4313110,\"pid\":3099455,\"diskwrite\":0,\"cpu\":0.0152998812860334,\"cpus\":4,\"maxmem\":4294967296,\"netout\":205791594,\"name\":\"SurrealDB-IMX\",\"vmid\":102,\"disk\":0},{\"netin\":3443245266,\"maxdisk\":137438953472,\"mem\":4356787035,\"status\":\"running\",\"diskread\":0,\"tags\":\"critical;poc\",\"pid\":3634760,\"uptime\":6745171,\"cpus\":2,\"cpu\":0.00759942479125552,\"diskwrite\":0,\"name\":\"Mongo-IMX\",\"netout\":542970047,\"maxmem\":8489271296,\"vmid\":100,\"disk\":0},{\"disk\":0,\"vmid\":1001,\"diskwrite\":0,\"cpu\":0.616529933421868,\"cpus\":1,\"maxmem\":536870912,\"name\":\"test-vm\",\"netout\":162034900,\"diskread\":0,\"uptime\":2323805,\"pid\":2790383,\"status\":\"running\",\"mem\":20221126,\"maxdisk\":34359738368,\"netin\":505710804},{\"uptime\":0,\"diskread\":0,\"netout\":0,\"name\":\"VM 10001\",\"maxmem\":536870912,\"cpu\":0,\"cpus\":1,\"diskwrite\":0,\"vmid\":10001,\"disk\":0,\"netin\":0,\"maxdisk\":0,\"mem\":0,\"status\":\"stopped\"},{\"diskread\":0,\"uptime\":6202343,\"pid\":1787620,\"diskwrite\":0,\"cpu\":0.0132648239268437,\"cpus\":2,\"maxmem\":8589934592,\"netout\":664733564,\"name\":\"test-vault01\",\"vmid\":101,\"disk\":0,\"netin\":1773535147,\"maxdisk\":107374182400,\"mem\":3552565112,\"status\":\"running\"},{\"mem\":1330645144,\"status\":\"running\",\"netin\":8722609855,\"maxdisk\":34359738368,\"vmid\":2000,\"disk\":0,\"diskread\":0,\"pid\":1003406,\"uptime\":4824114,\"cpu\":0.0021856777030541,\"cpus\":2,\"diskwrite\":0,\"netout\":2374660530,\"name\":\"NewRelic-GitLab\",\"maxmem\":2147483648},{\"uptime\":2399070,\"pid\":2483630,\"diskread\":0,\"maxmem\":8589934592,\"netout\":4795457,\"name\":\"PgSQL-Primary\",\"diskwrite\":0,\"cpus\":4,\"cpu\":0.000705024090181641,\"vmid\":109,\"disk\":0,\"netin\":228527227,\"maxdisk\":107374182400,\"mem\":869308335,\"status\":\"running\"},{\"mem\":0,\"status\":\"stopped\",\"netin\":0,\"maxdisk\":0,\"vmid\":10002,\"disk\":0,\"uptime\":0,\"diskread\":0,\"netout\":0,\"name\":\"VM 10002\",\"maxmem\":536870912,\"cpu\":0,\"cpus\":1,\"diskwrite\":0},{\"vmid\":10004,\"disk\":0,\"diskread\":0,\"uptime\":0,\"diskwrite\":0,\"cpu\":0,\"cpus\":1,\"maxmem\":536870912,\"netout\":0,\"name\":\"VM 10004\",\"mem\":0,\"status\":\"stopped\",\"netin\":0,\"maxdisk\":0},{\"uptime\":2557473,\"pid\":1822073,\"diskread\":0,\"maxmem\":2147483648,\"netout\":24683741,\"name\":\"test-mfa\",\"diskwrite\":0,\"cpus\":1,\"cpu\":0.00254550441600701,\"vmid\":107,\"disk\":0,\"netin\":1297986266,\"maxdisk\":34359738368,\"mem\":771899207,\"status\":\"running\"}]}\u001b[0m\n",
      "\n",
      "\u001b[1m> Finished chain.\u001b[0m\n",
      "{'question': \"list Vms on node 'Proxmox-Node-HCM'\", 'output': 'The virtual machines running on the Proxmox-Node-HCM node are: my-vm, primary-test, PgSQL-IMX, PgSQL-IMX-Replicaset, Ansible-controller, SurrealDB-IMX, Mongo-IMX, test-vm, VM 10001, test-vault01, NewRelic-GitLab, PgSQL-Primary, VM 10002, VM 10004, and test-mfa. \\n'}\n"
     ]
    }
   ],
   "source": [
    "result = agents[\"Proxmox-Node-HCM\"].invoke((\"list Vms on node 'Proxmox-Node-HCM'\"))\n",
    "print(result)"
   ]
  },
  {
   "cell_type": "code",
   "execution_count": 17,
   "metadata": {},
   "outputs": [],
   "source": [
    "def Worker_node(state: ProxmoxTeamState, node_name: str) -> ProxmoxTeamState:\n",
    "    print(f\"{state['next']} / {node_name}\")\n",
    "    question = state[\"messages\"][0]\n",
    "    result = agents[node_name].invoke(input=question)\n",
    "    state[\"messages\"].append(result)\n",
    "    return state"
   ]
  },
  {
   "cell_type": "code",
   "execution_count": 18,
   "metadata": {},
   "outputs": [
    {
     "name": "stdout",
     "output_type": "stream",
     "text": [
      "Proxmox-Node-HCM / Proxmox-Node-HCM\n",
      "\n",
      "\n",
      "\u001b[1m> Entering new ProxmoxAPIChain chain...\u001b[0m\n",
      "Retrieved Document 0: {\"endpoint\": \"/api2/json/nodes/{node}/qemu\", \"method\": \"get\", \"summary\": \"List Virtual machines (VMs) on a Node\", \"parameters\": [{\"name\": \"node\", \"in\": \"path\", \"required\": true, \"description\": \"Node ID where VMs are located\", \"schema\": {\"type\": \"string\"}}]}\n",
      "Retrieved Document 1: {\"endpoint\": \"/api2/json/nodes/{node}/qemu\", \"method\": \"post\", \"summary\": \"Create a Virtual machine (VM) \", \"description\": \"Use this endpoint to create a new virtual machine on the specified node. This endpoint is used for initial creation and can be used for the allocation of resources such as memory, cores, and storage.\", \"parameters\": [{\"name\": \"node\", \"in\": \"path\", \"required\": true, \"description\": \"Node ID where the VM will be created\", \"schema\": {\"type\": \"string\"}}], \"requestBody\": {\"required\": true, \"content\": {\"application/json\": {\"schema\": {\"type\": \"object\", \"properties\": {\"vmid\": {\"type\": \"integer\", \"description\": \"VM ID\"}, \"name\": {\"type\": \"string\", \"description\": \"Name of the VM\"}, \"memory\": {\"type\": \"integer\", \"description\": \"Memory size in MB\"}, \"cores\": {\"type\": \"integer\", \"description\": \"Number of CPU cores\"}, \"ide0\": {\"type\": \"string\", \"description\": \"Disk size and format, e.g., \\\"local:32,format=qcow2\\\"\"}, \"net0\": {\"type\": \"string\", \"description\": \"Network configuration, e.g., \\\"virtio,bridge=vmbr0\\\"\"}, \"ostype\": {\"type\": \"string\", \"description\": \"OS type, e.g., \\\"l26\\\" for Linux\"}}, \"required\": [\"node\", \"vmid\"]}}}}}\n",
      "Retrieved Document 2: {\"endpoint\": \"/api2/json/nodes/{node}/qemu/{vmid}/config\", \"method\": \"post\", \"summary\": \"Set initial configuration options of a Virtual machine\", \"description\": \"Use this endpoint to set the initial configuration of a new virtual machine. This is useful when you need to define settings such as memory, cores, CPU type, and other parameters for a VM that is being created.\", \"parameters\": [{\"name\": \"node\", \"in\": \"path\", \"required\": true, \"description\": \"The cluster node name\", \"schema\": {\"type\": \"string\"}}, {\"name\": \"vmid\", \"in\": \"path\", \"required\": true, \"description\": \"The (unique) ID of the VM\", \"schema\": {\"type\": \"integer\", \"minimum\": 100, \"maximum\": 999999999}}], \"requestBody\": {\"required\": true, \"content\": {\"application/json\": {\"schema\": {\"type\": \"object\", \"properties\": {\"memory\": {\"type\": \"integer\", \"description\": \"Amount of RAM for the VM in MiB\", \"minimum\": 16}, \"cores\": {\"type\": \"integer\", \"description\": \"Number of cores per socket\", \"minimum\": 1}, \"cpu\": {\"type\": \"string\", \"description\": \"Emulated CPU type\"}, \"name\": {\"type\": \"string\", \"description\": \"Set a name for the VM\"}, \"net\": {\"type\": \"string\", \"description\": \"Specify network devices\"}, \"ostype\": {\"type\": \"string\", \"description\": \"Specify guest operating system\", \"enum\": [\"other\", \"wxp\", \"w2k\", \"w2k3\", \"w2k8\", \"wvista\", \"win7\", \"win8\", \"win10\", \"win11\", \"l24\", \"l26\", \"solaris\", \"opensolaris\", \"netbsd\", \"freebsd\", \"openbsd\"]}, \"disk\": {\"type\": \"string\", \"description\": \"Specify disk size and type, e.g., 'size=10G,ssd=1'\"}, \"boot\": {\"type\": \"string\", \"description\": \"Specify guest boot order, e.g., 'order=cdrom;ide0'\"}}}}}}}\n",
      "\n",
      "Request info: {\n",
      "    \"api_url\": \"https://ns31418912.ip-54-38-37.eu:8006/api2/json/nodes/Proxmox-Node-HCM/qemu\",\n",
      "    \"request_method\": \"get\",\n",
      "    \"request_body\": {}\n",
      "}\n",
      "API URL: https://ns31418912.ip-54-38-37.eu:8006/api2/json/nodes/Proxmox-Node-HCM/qemu\n",
      "Request method: GET\n",
      "Request body: {}\n",
      "\u001b[38;5;200m\u001b[1;3mStatus: 200 OK\n",
      "Response: {\"data\":[{\"cpu\":0.000705626470306096,\"cpus\":2,\"diskwrite\":0,\"name\":\"Ansible-controller\",\"netout\":171036360,\"maxmem\":4294967296,\"diskread\":0,\"pid\":3751193,\"uptime\":4152898,\"disk\":0,\"vmid\":106,\"maxdisk\":34359738368,\"netin\":180057171,\"status\":\"running\",\"mem\":3325967428},{\"diskread\":0,\"uptime\":4313117,\"pid\":3099455,\"diskwrite\":0,\"cpus\":4,\"cpu\":0.0225800470497951,\"maxmem\":4294967296,\"netout\":205858964,\"name\":\"SurrealDB-IMX\",\"vmid\":102,\"disk\":0,\"netin\":554631145,\"maxdisk\":107374182400,\"mem\":1215949880,\"status\":\"running\"},{\"disk\":0,\"vmid\":100,\"diskwrite\":0,\"cpus\":2,\"cpu\":0.00776189117336706,\"maxmem\":8489271296,\"netout\":542970047,\"name\":\"Mongo-IMX\",\"tags\":\"critical;poc\",\"diskread\":0,\"uptime\":6745178,\"pid\":3634760,\"status\":\"running\",\"mem\":4356787035,\"maxdisk\":137438953472,\"netin\":3443245266},{\"mem\":20342453,\"status\":\"running\",\"netin\":505713020,\"maxdisk\":34359738368,\"vmid\":1001,\"disk\":0,\"uptime\":2323812,\"pid\":2790383,\"diskread\":0,\"maxmem\":536870912,\"name\":\"test-vm\",\"netout\":162036217,\"diskwrite\":0,\"cpus\":1,\"cpu\":0.571557440947938},{\"maxdisk\":34359738368,\"netin\":960532145,\"status\":\"running\",\"mem\":2307047969,\"diskwrite\":0,\"cpus\":4,\"cpu\":0.000705626470306096,\"maxmem\":8589934592,\"netout\":9764443,\"name\":\"primary-test\",\"diskread\":0,\"uptime\":2076744,\"pid\":3793132,\"disk\":0,\"vmid\":110},{\"netin\":0,\"maxdisk\":34359738368,\"mem\":0,\"status\":\"stopped\",\"uptime\":0,\"diskread\":0,\"name\":\"my-vm\",\"netout\":0,\"maxmem\":2147483648,\"cpus\":2,\"cpu\":0,\"diskwrite\":0,\"vmid\":9999,\"disk\":0},{\"cpu\":0.000352813235153048,\"cpus\":4,\"diskwrite\":0,\"netout\":27604489,\"name\":\"PgSQL-IMX\",\"maxmem\":8589934592,\"diskread\":0,\"pid\":3748081,\"uptime\":4153586,\"disk\":0,\"vmid\":104,\"maxdisk\":107374182400,\"netin\":201534313,\"status\":\"running\",\"mem\":7183514178},{\"netout\":10379054,\"name\":\"PgSQL-IMX-Replicaset\",\"maxmem\":8589934592,\"cpus\":4,\"cpu\":0.00564501176244877,\"diskwrite\":0,\"pid\":1998484,\"uptime\":2513184,\"diskread\":0,\"disk\":0,\"vmid\":108,\"maxdisk\":107374182400,\"netin\":908599708,\"status\":\"running\",\"mem\":2884737492},{\"cpus\":1,\"cpu\":0.00141125294061219,\"diskwrite\":0,\"netout\":24683741,\"name\":\"test-mfa\",\"maxmem\":2147483648,\"diskread\":0,\"pid\":1822073,\"uptime\":2557480,\"disk\":0,\"vmid\":107,\"maxdisk\":34359738368,\"netin\":1297986266,\"status\":\"running\",\"mem\":771899207},{\"uptime\":0,\"diskread\":0,\"maxmem\":536870912,\"netout\":0,\"name\":\"VM 10001\",\"diskwrite\":0,\"cpus\":1,\"cpu\":0,\"vmid\":10001,\"disk\":0,\"netin\":0,\"maxdisk\":0,\"mem\":0,\"status\":\"stopped\"},{\"diskwrite\":0,\"cpu\":0.0127012764655097,\"cpus\":2,\"maxmem\":8589934592,\"name\":\"test-vault01\",\"netout\":664735330,\"diskread\":0,\"uptime\":6202350,\"pid\":1787620,\"disk\":0,\"vmid\":101,\"maxdisk\":107374182400,\"netin\":1773536735,\"status\":\"running\",\"mem\":3552565112},{\"netin\":8722610806,\"maxdisk\":34359738368,\"mem\":1330645144,\"status\":\"running\",\"uptime\":4824121,\"pid\":1003406,\"diskread\":0,\"maxmem\":2147483648,\"netout\":2374664463,\"name\":\"NewRelic-GitLab\",\"diskwrite\":0,\"cpus\":2,\"cpu\":0.00211687941091829,\"vmid\":2000,\"disk\":0},{\"netin\":228527227,\"maxdisk\":107374182400,\"mem\":869308335,\"status\":\"running\",\"diskread\":0,\"pid\":2483630,\"uptime\":2399077,\"cpu\":0.000705626470306096,\"cpus\":4,\"diskwrite\":0,\"name\":\"PgSQL-Primary\",\"netout\":4795457,\"maxmem\":8589934592,\"vmid\":109,\"disk\":0},{\"diskread\":0,\"uptime\":0,\"cpus\":1,\"cpu\":0,\"diskwrite\":0,\"name\":\"VM 10002\",\"netout\":0,\"maxmem\":536870912,\"vmid\":10002,\"disk\":0,\"netin\":0,\"maxdisk\":0,\"mem\":0,\"status\":\"stopped\"},{\"vmid\":10004,\"disk\":0,\"uptime\":0,\"diskread\":0,\"name\":\"VM 10004\",\"netout\":0,\"maxmem\":536870912,\"cpu\":0,\"cpus\":1,\"diskwrite\":0,\"mem\":0,\"status\":\"stopped\",\"netin\":0,\"maxdisk\":0}]}\u001b[0m\n",
      "\n",
      "\u001b[1m> Finished chain.\u001b[0m\n",
      "{'next': 'Proxmox-Node-HCM', 'messages': ['How many Vms on node Proxmox-Node-HCM?', {'question': 'How many Vms on node Proxmox-Node-HCM?', 'output': 'There are 21 VMs on the node Proxmox-Node-HCM. \\n'}]}\n"
     ]
    }
   ],
   "source": [
    "state = {\n",
    "    \"next\": \"Proxmox-Node-HCM\",\n",
    "    \"messages\": [\"How many Vms on node Proxmox-Node-HCM?\"]\n",
    "}\n",
    "\n",
    "# Test with node5\n",
    "new_state = Worker_node(state, \"Proxmox-Node-HCM\")\n",
    "print(new_state)  # Output should show the updated state with the \"Node5 response\" appended\n"
   ]
  },
  {
   "cell_type": "code",
   "execution_count": 19,
   "metadata": {},
   "outputs": [],
   "source": [
    "from typing import Literal\n",
    "\n",
    "def proxmox_router(state: ProxmoxTeamState) :\n",
    "    next_worker = state[\"next\"]\n",
    "    print(f\"proxmox_router: Current state: {state}\")\n",
    "    if next_worker in proxmox_nodes.keys():\n",
    "        return next_worker\n",
    "    return \"end\""
   ]
  },
  {
   "cell_type": "code",
   "execution_count": 20,
   "metadata": {},
   "outputs": [
    {
     "name": "stdout",
     "output_type": "stream",
     "text": [
      "proxmox_router: Current state: {'next': 'Proxmox-Node-HCM'}\n",
      "Proxmox-Node-HCM\n"
     ]
    }
   ],
   "source": [
    "state = {\"next\": \"Proxmox-Node-HCM\"}\n",
    "result = proxmox_router(state)\n",
    "print(result) "
   ]
  },
  {
   "cell_type": "code",
   "execution_count": 21,
   "metadata": {},
   "outputs": [],
   "source": [
    "from langgraph.graph import END, StateGraph, START\n",
    "from IPython.display import Image, display\n",
    "\n",
    "proxmox_graph = StateGraph(ProxmoxTeamState)\n",
    "\n",
    "for node_name, node_info in proxmox_nodes.items():\n",
    "    proxmox_graph.add_node(node_name, lambda state, node_name=node_name: Worker_node(state, node_name))\n",
    "    proxmox_graph.add_edge(node_name, END)\n",
    "\n",
    "proxmox_graph.add_node(\"supervisor\", supervisor)\n",
    "\n",
    "proxmox_graph.add_conditional_edges(\n",
    "    \"supervisor\",\n",
    "    proxmox_router,\n",
    "    {node_name: node_name for node_name in proxmox_nodes.keys()}\n",
    ")\n",
    "\n",
    "proxmox_graph.add_edge(START, \"supervisor\")\n",
    "chain = proxmox_graph.compile()"
   ]
  },
  {
   "cell_type": "code",
   "execution_count": 22,
   "metadata": {},
   "outputs": [
    {
     "data": {
      "image/jpeg": "[encoded data removed]",
      "text/plain": [
       "<IPython.core.display.Image object>"
      ]
     },
     "metadata": {},
     "output_type": "display_data"
    }
   ],
   "source": [
    "display(Image(chain.get_graph(xray=True).draw_mermaid_png()))"
   ]
  },
  {
   "cell_type": "code",
   "execution_count": 23,
   "metadata": {},
   "outputs": [],
   "source": [
    "from langfuse.callback import CallbackHandler\n",
    "langfuse_handler = CallbackHandler(\n",
    "    public_key=os.getenv('LANGFUSE_PUBLIC_KEY'),\n",
    "    secret_key=os.getenv('LANGFUSE_SECRET_KEY'),\n",
    "    host=os.getenv('LANGFUSE_HOST'),\n",
    ")"
   ]
  },
  {
   "cell_type": "code",
   "execution_count": 24,
   "metadata": {},
   "outputs": [
    {
     "name": "stdout",
     "output_type": "stream",
     "text": [
      "processing_request: Current state: {'messages': [\"list Vms on node 'Proxmox-Node-HCM'\"], 'team_members': [], 'next': None}\n",
      "proxmox_router: Current state: {'messages': [\"list Vms on node 'Proxmox-Node-HCM'\"], 'team_members': ['Proxmox-Node-HCM', 'ns31212248'], 'next': 'Proxmox-Node-HCM'}\n",
      "Proxmox-Node-HCM / Proxmox-Node-HCM\n",
      "\n",
      "\n",
      "\u001b[1m> Entering new ProxmoxAPIChain chain...\u001b[0m\n",
      "Retrieved Document 0: {\"endpoint\": \"/api2/json/nodes/{node}/qemu\", \"method\": \"get\", \"summary\": \"List Virtual machines (VMs) on a Node\", \"parameters\": [{\"name\": \"node\", \"in\": \"path\", \"required\": true, \"description\": \"Node ID where VMs are located\", \"schema\": {\"type\": \"string\"}}]}\n",
      "Retrieved Document 1: {\"endpoint\": \"/api2/json/nodes/{node}/qemu/{vmid}/config\", \"method\": \"get\", \"summary\": \"Get Virtual machine/Vm Configuration (config file)\", \"parameters\": [{\"name\": \"node\", \"in\": \"path\", \"required\": true, \"description\": \"Node ID where the VM is located\", \"schema\": {\"type\": \"string\"}}, {\"name\": \"vmid\", \"in\": \"path\", \"required\": true, \"description\": \"ID of the VM\", \"schema\": {\"type\": \"integer\"}}, {\"name\": \"current\", \"in\": \"query\", \"required\": false, \"description\": \"Get current values instead of pending values\", \"schema\": {\"type\": \"boolean\"}}]}\n",
      "Retrieved Document 2: {\"endpoint\": \"/api2/json/nodes/{node}/lxc\", \"methods\": \"get\", \"summary\": \"List LXC Containers on a Node\", \"description\": \"List all containers available on a node\", \"parameters\": [{\"name\": \"node\", \"in\": \"path\", \"required\": true, \"description\": \"Node ID where LXC containers are located\", \"schema\": {\"type\": \"string\"}}]}\n",
      "\n",
      "Request info: {\n",
      "    \"api_url\": \"https://ns31418912.ip-54-38-37.eu:8006/api2/json/nodes/Proxmox-Node-HCM/qemu\",\n",
      "    \"request_method\": \"get\",\n",
      "    \"request_body\": {}\n",
      "}\n",
      "API URL: https://ns31418912.ip-54-38-37.eu:8006/api2/json/nodes/Proxmox-Node-HCM/qemu\n",
      "Request method: GET\n",
      "Request body: {}\n",
      "\u001b[38;5;200m\u001b[1;3mStatus: 200 OK\n",
      "Response: {\"data\":[{\"maxdisk\":34359738368,\"netin\":0,\"status\":\"stopped\",\"mem\":0,\"diskwrite\":0,\"cpus\":2,\"cpu\":0,\"maxmem\":2147483648,\"netout\":0,\"name\":\"my-vm\",\"diskread\":0,\"uptime\":0,\"disk\":0,\"vmid\":9999},{\"maxdisk\":34359738368,\"netin\":960532145,\"status\":\"running\",\"mem\":2307047969,\"netout\":9764443,\"name\":\"primary-test\",\"maxmem\":8589934592,\"cpu\":0.000733359710493403,\"cpus\":4,\"diskwrite\":0,\"pid\":3793132,\"uptime\":2076754,\"diskread\":0,\"disk\":0,\"vmid\":110},{\"maxdisk\":107374182400,\"netin\":201534313,\"status\":\"running\",\"mem\":7183514178,\"cpu\":0.000780815023500936,\"cpus\":4,\"diskwrite\":0,\"netout\":27604489,\"name\":\"PgSQL-IMX\",\"maxmem\":8589934592,\"diskread\":0,\"pid\":3748081,\"uptime\":4153595,\"disk\":0,\"vmid\":104},{\"diskread\":0,\"uptime\":2513194,\"pid\":1998484,\"diskwrite\":0,\"cpus\":4,\"cpu\":0.00545021866221538,\"maxmem\":8589934592,\"name\":\"PgSQL-IMX-Replicaset\",\"netout\":10379054,\"vmid\":108,\"disk\":0,\"netin\":908599708,\"maxdisk\":107374182400,\"mem\":2884737492,\"status\":\"running\"},{\"netin\":180057171,\"maxdisk\":34359738368,\"mem\":3325967428,\"status\":\"running\",\"uptime\":4152907,\"pid\":3751193,\"diskread\":0,\"maxmem\":4294967296,\"netout\":171036360,\"name\":\"Ansible-controller\",\"diskwrite\":0,\"cpu\":0.000741429173993237,\"cpus\":2,\"vmid\":106,\"disk\":0},{\"netin\":554655648,\"maxdisk\":107374182400,\"mem\":1201901855,\"status\":\"running\",\"pid\":3099455,\"uptime\":4313127,\"diskread\":0,\"name\":\"SurrealDB-IMX\",\"netout\":205924537,\"maxmem\":4294967296,\"cpus\":4,\"cpu\":0.0153008016162465,\"diskwrite\":0,\"vmid\":102,\"disk\":0},{\"disk\":0,\"vmid\":100,\"diskwrite\":0,\"cpus\":2,\"cpu\":0.00759951168086047,\"maxmem\":8489271296,\"name\":\"Mongo-IMX\",\"netout\":542970047,\"tags\":\"critical;poc\",\"diskread\":0,\"uptime\":6745188,\"pid\":3634760,\"status\":\"running\",\"mem\":4356787035,\"maxdisk\":137438953472,\"netin\":3443245266},{\"mem\":20342453,\"status\":\"running\",\"netin\":505714570,\"maxdisk\":34359738368,\"vmid\":1001,\"disk\":0,\"pid\":2790383,\"uptime\":2323821,\"diskread\":0,\"name\":\"test-vm\",\"netout\":162036656,\"maxmem\":536870912,\"cpus\":1,\"cpu\":0.616527888977972,\"diskwrite\":0},{\"maxdisk\":0,\"netin\":0,\"status\":\"stopped\",\"mem\":0,\"diskwrite\":0,\"cpus\":1,\"cpu\":0,\"maxmem\":536870912,\"name\":\"VM 10001\",\"netout\":0,\"diskread\":0,\"uptime\":0,\"disk\":0,\"vmid\":10001},{\"maxmem\":8589934592,\"name\":\"test-vault01\",\"netout\":664737030,\"diskwrite\":0,\"cpus\":2,\"cpu\":0.0132650304968799,\"uptime\":6202360,\"pid\":1787620,\"diskread\":0,\"disk\":0,\"vmid\":101,\"maxdisk\":107374182400,\"netin\":1773538389,\"status\":\"running\",\"mem\":3552565112},{\"vmid\":2000,\"disk\":0,\"diskread\":0,\"pid\":1003406,\"uptime\":4824130,\"cpus\":2,\"cpu\":0.00218562277346561,\"diskwrite\":0,\"netout\":2374668438,\"name\":\"NewRelic-GitLab\",\"maxmem\":2147483648,\"mem\":1330645144,\"status\":\"running\",\"netin\":8722611799,\"maxdisk\":34359738368},{\"mem\":869308335,\"status\":\"running\",\"netin\":228527227,\"maxdisk\":107374182400,\"vmid\":109,\"disk\":0,\"uptime\":2399086,\"pid\":2483630,\"diskread\":0,\"maxmem\":8589934592,\"name\":\"PgSQL-Primary\",\"netout\":4795457,\"diskwrite\":0,\"cpu\":0.000705030742887604,\"cpus\":4},{\"status\":\"stopped\",\"mem\":0,\"maxdisk\":0,\"netin\":0,\"disk\":0,\"vmid\":10002,\"diskwrite\":0,\"cpus\":1,\"cpu\":0,\"maxmem\":536870912,\"netout\":0,\"name\":\"VM 10002\",\"diskread\":0,\"uptime\":0},{\"netin\":0,\"maxdisk\":0,\"mem\":0,\"status\":\"stopped\",\"diskread\":0,\"uptime\":0,\"diskwrite\":0,\"cpus\":1,\"cpu\":0,\"maxmem\":536870912,\"name\":\"VM 10004\",\"netout\":0,\"vmid\":10004,\"disk\":0},{\"netin\":1297986266,\"maxdisk\":34359738368,\"mem\":771899207,\"status\":\"running\",\"diskread\":0,\"pid\":1822073,\"uptime\":2557490,\"cpu\":0.00254528047856033,\"cpus\":1,\"diskwrite\":0,\"name\":\"test-mfa\",\"netout\":24683741,\"maxmem\":2147483648,\"vmid\":107,\"disk\":0}]}\u001b[0m\n",
      "\n",
      "\u001b[1m> Finished chain.\u001b[0m\n"
     ]
    },
    {
     "data": {
      "text/plain": [
       "{'messages': [\"list Vms on node 'Proxmox-Node-HCM'\",\n",
       "  {'question': \"list Vms on node 'Proxmox-Node-HCM'\",\n",
       "   'output': \"The VMs on the node 'Proxmox-Node-HCM' are: my-vm, primary-test, PgSQL-IMX, PgSQL-IMX-Replicaset, Ansible-controller, SurrealDB-IMX, Mongo-IMX, test-vm, VM 10001, test-vault01, NewRelic-GitLab, PgSQL-Primary, VM 10002, VM 10004, and test-mfa. \\n\"}],\n",
       " 'team_members': ['Proxmox-Node-HCM', 'ns31212248'],\n",
       " 'next': 'Proxmox-Node-HCM'}"
      ]
     },
     "execution_count": 24,
     "metadata": {},
     "output_type": "execute_result"
    }
   ],
   "source": [
    "chain.invoke({\n",
    "            \"messages\": [\"list Vms on node 'Proxmox-Node-HCM'\"],\n",
    "            \"next\": None,\n",
    "            \"team_members\": []\n",
    "        }, config={\"callbacks\": [langfuse_handler]})"
   ]
  }
 ],
 "metadata": {
  "kernelspec": {
   "display_name": "Python 3",
   "language": "python",
   "name": "python3"
  },
  "language_info": {
   "codemirror_mode": {
    "name": "ipython",
    "version": 3
   },
   "file_extension": ".py",
   "mimetype": "text/x-python",
   "name": "python",
   "nbconvert_exporter": "python",
   "pygments_lexer": "ipython3",
   "version": "3.12.3"
  }
 },
 "nbformat": 4,
 "nbformat_minor": 2
}
