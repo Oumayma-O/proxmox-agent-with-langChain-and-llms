{
 "cells": [
  {
   "cell_type": "code",
   "execution_count": 1,
   "metadata": {},
   "outputs": [],
   "source": [
    "from proxmox.docs import _proxmox_api_docs\n",
    "from langchain.text_splitter import RecursiveJsonSplitter\n",
    "from langchain_community.embeddings.sentence_transformer import SentenceTransformerEmbeddings\n",
    "from typing import Dict, Any\n",
    "from langchain_community.llms import Ollama\n",
    "from proxmox.base import ProxmoxAPIChain\n",
    "from langchain.retrievers import ContextualCompressionRetriever\n",
    "from langchain_community.cross_encoders import HuggingFaceCrossEncoder\n",
    "from langchain.retrievers.document_compressors import CrossEncoderReranker\n",
    "from langchain_community.vectorstores.surrealdb import SurrealDBStore\n",
    "from tqdm import tqdm, trange  \n",
    "import os\n",
    "import hvac\n",
    "import nest_asyncio"
   ]
  },
  {
   "cell_type": "code",
   "execution_count": 2,
   "metadata": {},
   "outputs": [],
   "source": [
    "splitter = RecursiveJsonSplitter(max_chunk_size=4000)\n",
    "docs = splitter.create_documents(_proxmox_api_docs)"
   ]
  },
  {
   "cell_type": "code",
   "execution_count": 3,
   "metadata": {},
   "outputs": [],
   "source": [
    "llm_kwargs: Dict[str, Any] = {\n",
    "    \"model\": \"llama3.1:instruct\",\n",
    "    \"temperature\": 0,\n",
    "    \"num_ctx\": 4096, \n",
    "}\n",
    "\n",
    "llm = Ollama(**llm_kwargs)"
   ]
  },
  {
   "cell_type": "code",
   "execution_count": 4,
   "metadata": {},
   "outputs": [],
   "source": [
    "from langchain_google_genai import ChatGoogleGenerativeAI\n",
    "\n",
    "# Initialize the llm with the new model\n",
    "llm = ChatGoogleGenerativeAI(model=\"gemini-1.5-flash-latest\", temperature=0)"
   ]
  },
  {
   "cell_type": "code",
   "execution_count": 5,
   "metadata": {},
   "outputs": [
    {
     "name": "stderr",
     "output_type": "stream",
     "text": [
      "C:\\Users\\oumay\\AppData\\Local\\Temp\\ipykernel_15900\\2293483164.py:12: DeprecationWarning: The raise_on_deleted_version parameter will change its default value to False in hvac v3.0.0. The current default of True will presere previous behavior. To use the old behavior with no warning, explicitly set this value to True. See https://github.com/hvac/hvac/pull/907\n",
      "  response = client.secrets.kv.v2.read_secret_version(path=secret_path, mount_point=\"kv\")\n"
     ]
    },
    {
     "name": "stdout",
     "output_type": "stream",
     "text": [
      "Accessed Vault secret at users/accounts/api-tokens/proxmox/oumaima.\n",
      "Accessed Vault secret at users/accounts/surrealdb.\n",
      "Accessed Vault secret at users/accounts/surrealdb/oumaima.\n"
     ]
    }
   ],
   "source": [
    "def get_vault_token():\n",
    "    token = os.getenv('VAULT_TOKEN')\n",
    "    if not token:\n",
    "        token = input(\"Vault token: \").strip()\n",
    "        os.environ['VAULT_TOKEN'] = token\n",
    "    return token\n",
    "\n",
    "# Function to access the secret from Vault\n",
    "def access_vault_secret(vault_token, url, secret_path):\n",
    "    try:\n",
    "        client = hvac.Client(url=url, token=vault_token)\n",
    "        response = client.secrets.kv.v2.read_secret_version(path=secret_path, mount_point=\"kv\")\n",
    "        if response:\n",
    "            secret_data = response['data']['data']\n",
    "            print(f\"Accessed Vault secret at {secret_path}.\")\n",
    "            return secret_data\n",
    "        else:\n",
    "            print(f\"Failed to access Vault secret at {secret_path}.\")\n",
    "            return None\n",
    "    except hvac.exceptions.VaultError as e:\n",
    "        print(f\"Request to Vault failed: {e}\")\n",
    "        return None\n",
    "\n",
    "# Get Vault token from environment or prompt\n",
    "vault_token = os.getenv('VAULT_TOKEN') or get_vault_token()\n",
    "\n",
    "# Save Vault token in environment variables if not already set\n",
    "os.environ['VAULT_TOKEN'] = vault_token\n",
    "\n",
    "# Retrieve Vault URL from environment variables\n",
    "vault_url = os.getenv('VAULT_URL')\n",
    "\n",
    "# Paths to secrets in Vault\n",
    "proxmox_secret_path = \"users/accounts/api-tokens/proxmox/oumaima\"\n",
    "surrealdb_url_path = \"users/accounts/surrealdb\"\n",
    "surrealdb_credentials_path = \"users/accounts/surrealdb/oumaima\"\n",
    "\n",
    "# Access Proxmox API token from Vault\n",
    "proxmox_api_token = access_vault_secret(vault_token, vault_url, proxmox_secret_path)\n",
    "if proxmox_api_token:\n",
    "    os.environ['PROXMOX_API_TOKEN'] = proxmox_api_token.get('proxmox-api-token')\n",
    "else:\n",
    "    print(\"Failed to retrieve Proxmox API token.\")\n",
    "\n",
    "# Access SurrealDB URL from Vault\n",
    "surrealdb_url_secret = access_vault_secret(vault_token, vault_url, surrealdb_url_path)\n",
    "if surrealdb_url_secret:\n",
    "    os.environ['SURREALDB_URL'] = surrealdb_url_secret.get('url')\n",
    "else:\n",
    "    print(\"Failed to retrieve SurrealDB URL.\")\n",
    "\n",
    "# Access SurrealDB credentials from Vault\n",
    "surrealdb_credentials_secret = access_vault_secret(vault_token, vault_url, surrealdb_credentials_path)\n",
    "if surrealdb_credentials_secret:\n",
    "    os.environ['SURREALDB_USER'] = surrealdb_credentials_secret.get('user')\n",
    "    os.environ['SURREALDB_PWD'] = surrealdb_credentials_secret.get('password')\n",
    "else:\n",
    "    print(\"Failed to retrieve SurrealDB credentials.\")\n"
   ]
  },
  {
   "cell_type": "code",
   "execution_count": 6,
   "metadata": {},
   "outputs": [],
   "source": [
    "proxmox_api_token = os.getenv('PROXMOX_API_TOKEN')\n",
    "surrealdb_url = os.getenv('SURREALDB_URL')\n",
    "surrealdb_user = os.getenv('SURREALDB_USER')\n",
    "surrealdb_password = os.getenv('SURREALDB_PWD')"
   ]
  },
  {
   "cell_type": "code",
   "execution_count": 7,
   "metadata": {},
   "outputs": [
    {
     "name": "stderr",
     "output_type": "stream",
     "text": [
      "c:\\Python312\\Lib\\site-packages\\langchain_core\\_api\\deprecation.py:139: LangChainDeprecationWarning: The class `HuggingFaceEmbeddings` was deprecated in LangChain 0.2.2 and will be removed in 0.3.0. An updated version of the class exists in the langchain-huggingface package and should be used instead. To use it run `pip install -U langchain-huggingface` and import as `from langchain_huggingface import HuggingFaceEmbeddings`.\n",
      "  warn_deprecated(\n",
      "Some weights of the model checkpoint at infgrad/stella_en_400M_v5 were not used when initializing NewModel: ['new.pooler.dense.bias', 'new.pooler.dense.weight']\n",
      "- This IS expected if you are initializing NewModel from the checkpoint of a model trained on another task or with another architecture (e.g. initializing a BertForSequenceClassification model from a BertForPreTraining model).\n",
      "- This IS NOT expected if you are initializing NewModel from the checkpoint of a model that you expect to be exactly identical (initializing a BertForSequenceClassification model from a BertForSequenceClassification model).\n"
     ]
    }
   ],
   "source": [
    "# Initialize the SentenceTransformerEmbeddings with trust_remote_code=True\n",
    "ef = SentenceTransformerEmbeddings(\n",
    "    model_name=\"infgrad/stella_en_400M_v5\",\n",
    "    model_kwargs={\n",
    "        \"trust_remote_code\": True,\n",
    "    }\n",
    ")"
   ]
  },
  {
   "cell_type": "code",
   "execution_count": 8,
   "metadata": {},
   "outputs": [],
   "source": [
    "nest_asyncio.apply()\n",
    "\n",
    "# SurrealDB connection parameters\n",
    "dburl = \"ws://localhost:8000/rpc\"\n",
    "ns = \"langchain\"\n",
    "db_name = \"proxmox_api_docs\"\n",
    "collection = \"proxmox_collection\"\n",
    "db_user = surrealdb_user\n",
    "db_pass = surrealdb_password"
   ]
  },
  {
   "cell_type": "code",
   "execution_count": 9,
   "metadata": {},
   "outputs": [],
   "source": [
    "# Initialize the SurrealDBStore with documents\n",
    "db = SurrealDBStore(\n",
    "    embedding_function=ef,\n",
    "    dburl=dburl,\n",
    "    ns=ns,\n",
    "    db=db_name,\n",
    "    collection=collection,\n",
    "    db_user=db_user,\n",
    "    db_pass=db_pass\n",
    ")"
   ]
  },
  {
   "cell_type": "code",
   "execution_count": 10,
   "metadata": {},
   "outputs": [],
   "source": [
    "# this is needed to initialize the underlying async library for SurrealDB\n",
    "await db.initialize()\n",
    "\n",
    "# delete collection from the vectorstore collection if it exists \n",
    "await db.adelete(collection = collection)\n",
    "\n",
    "# add documents to the vectorstore\n",
    "ids = await db.aadd_documents(docs)"
   ]
  },
  {
   "cell_type": "code",
   "execution_count": 11,
   "metadata": {},
   "outputs": [],
   "source": [
    "retriever = db.as_retriever(search_type=\"similarity\", search_kwargs={\"k\": 3})"
   ]
  },
  {
   "cell_type": "code",
   "execution_count": 12,
   "metadata": {},
   "outputs": [],
   "source": [
    "# Initialize the cross-encoder model\n",
    "#cross_encoder_model = HuggingFaceCrossEncoder(model_name=\"BAAI/bge-reranker-base\")\n",
    "cross_encoder_model = HuggingFaceCrossEncoder(model_name=\"cross-encoder/ms-marco-MiniLM-L-6-v2\")\n",
    "compressor = CrossEncoderReranker(model=cross_encoder_model, top_n=3)\n",
    "compression_retriever = ContextualCompressionRetriever(\n",
    "    base_compressor=compressor, base_retriever=retriever\n",
    ")"
   ]
  },
  {
   "cell_type": "code",
   "execution_count": 13,
   "metadata": {},
   "outputs": [
    {
     "ename": "ValidationError",
     "evalue": "1 validation error for ProxmoxAPIChain\n__root__\n  Input variables should be {'api_url', 'question', 'api_docs', 'api_response'}, got ['api_docs', 'api_response', 'api_url', 'base_url', 'question'] (type=value_error)",
     "output_type": "error",
     "traceback": [
      "\u001b[1;31m---------------------------------------------------------------------------\u001b[0m",
      "\u001b[1;31mValidationError\u001b[0m                           Traceback (most recent call last)",
      "Cell \u001b[1;32mIn[13], line 1\u001b[0m\n\u001b[1;32m----> 1\u001b[0m chain \u001b[38;5;241m=\u001b[39m \u001b[43mProxmoxAPIChain\u001b[49m\u001b[38;5;241;43m.\u001b[39;49m\u001b[43mfrom_llm_and_api_docs\u001b[49m\u001b[43m(\u001b[49m\n\u001b[0;32m      2\u001b[0m \u001b[43m    \u001b[49m\u001b[43mllm\u001b[49m\u001b[43m,\u001b[49m\n\u001b[0;32m      3\u001b[0m \u001b[43m    \u001b[49m\u001b[43mretriever\u001b[49m\u001b[38;5;241;43m=\u001b[39;49m\u001b[43mcompression_retriever\u001b[49m\u001b[43m,\u001b[49m\n\u001b[0;32m      4\u001b[0m \u001b[43m    \u001b[49m\u001b[43mheaders\u001b[49m\u001b[38;5;241;43m=\u001b[39;49m\u001b[43m{\u001b[49m\u001b[38;5;124;43m\"\u001b[39;49m\u001b[38;5;124;43mAuthorization\u001b[39;49m\u001b[38;5;124;43m\"\u001b[39;49m\u001b[43m:\u001b[49m\u001b[43m \u001b[49m\u001b[43mproxmox_api_token\u001b[49m\u001b[43m}\u001b[49m\u001b[43m,\u001b[49m\n\u001b[0;32m      5\u001b[0m \u001b[43m    \u001b[49m\u001b[43mverbose\u001b[49m\u001b[38;5;241;43m=\u001b[39;49m\u001b[38;5;28;43;01mTrue\u001b[39;49;00m\u001b[43m,\u001b[49m\n\u001b[0;32m      6\u001b[0m \u001b[43m    \u001b[49m\u001b[43mlimit_to_domains\u001b[49m\u001b[38;5;241;43m=\u001b[39;49m\u001b[43m[\u001b[49m\u001b[38;5;124;43m'\u001b[39;49m\u001b[38;5;124;43mhttps://ns31418912.ip-54-38-37.eu:8006\u001b[39;49m\u001b[38;5;124;43m'\u001b[39;49m\u001b[43m]\u001b[49m\u001b[43m,\u001b[49m\n\u001b[0;32m      7\u001b[0m \u001b[43m    \u001b[49m\u001b[43mbase_url\u001b[49m\u001b[38;5;241;43m=\u001b[39;49m\u001b[43m \u001b[49m\u001b[38;5;124;43m\"\u001b[39;49m\u001b[38;5;124;43mhttps://ns31418912.ip-54-38-37.eu:8006\u001b[39;49m\u001b[38;5;124;43m\"\u001b[39;49m\u001b[43m,\u001b[49m\n\u001b[0;32m      8\u001b[0m \u001b[43m)\u001b[49m\n",
      "File \u001b[1;32mc:\\Users\\oumay\\.vscode\\agent-scripts\\api_chain\\proxmox\\base.py:381\u001b[0m, in \u001b[0;36mProxmoxAPIChain.from_llm_and_api_docs\u001b[1;34m(cls, llm, retriever, api_docs, pve_token, base_url, headers, api_url_prompt, api_response_prompt, **kwargs)\u001b[0m\n\u001b[0;32m    368\u001b[0m requests_wrapper \u001b[38;5;241m=\u001b[39m PowerfulRequestsWrapper(headers\u001b[38;5;241m=\u001b[39mheaders)\n\u001b[0;32m    369\u001b[0m api_response_chain \u001b[38;5;241m=\u001b[39m (\n\u001b[0;32m    370\u001b[0m     {\n\u001b[0;32m    371\u001b[0m         \u001b[38;5;241m*\u001b[39m\u001b[38;5;241m*\u001b[39m_context_runnable(api_docs\u001b[38;5;241m=\u001b[39mapi_docs, retriever\u001b[38;5;241m=\u001b[39mretriever),\n\u001b[1;32m   (...)\u001b[0m\n\u001b[0;32m    379\u001b[0m     \u001b[38;5;241m|\u001b[39m StrOutputParser()\n\u001b[0;32m    380\u001b[0m )\n\u001b[1;32m--> 381\u001b[0m \u001b[38;5;28;01mreturn\u001b[39;00m \u001b[38;5;28;43mcls\u001b[39;49m\u001b[43m(\u001b[49m\n\u001b[0;32m    382\u001b[0m \u001b[43m    \u001b[49m\u001b[43mapi_request_chain\u001b[49m\u001b[38;5;241;43m=\u001b[39;49m\u001b[43mapi_request_chain\u001b[49m\u001b[43m,\u001b[49m\n\u001b[0;32m    383\u001b[0m \u001b[43m    \u001b[49m\u001b[43mapi_response_chain\u001b[49m\u001b[38;5;241;43m=\u001b[39;49m\u001b[43mapi_response_chain\u001b[49m\u001b[43m,\u001b[49m\n\u001b[0;32m    384\u001b[0m \u001b[43m    \u001b[49m\u001b[43mrequests_wrapper\u001b[49m\u001b[38;5;241;43m=\u001b[39;49m\u001b[43mrequests_wrapper\u001b[49m\u001b[43m,\u001b[49m\n\u001b[0;32m    385\u001b[0m \u001b[43m    \u001b[49m\u001b[43mretriever\u001b[49m\u001b[38;5;241;43m=\u001b[39;49m\u001b[43mretriever\u001b[49m\u001b[43m,\u001b[49m\n\u001b[0;32m    386\u001b[0m \u001b[43m    \u001b[49m\u001b[43mapi_docs\u001b[49m\u001b[38;5;241;43m=\u001b[39;49m\u001b[43mapi_docs\u001b[49m\u001b[43m,\u001b[49m\n\u001b[0;32m    387\u001b[0m \u001b[43m    \u001b[49m\u001b[43mbase_url\u001b[49m\u001b[38;5;241;43m=\u001b[39;49m\u001b[43mbase_url\u001b[49m\u001b[43m,\u001b[49m\n\u001b[0;32m    388\u001b[0m \u001b[43m    \u001b[49m\u001b[43mpve_token\u001b[49m\u001b[38;5;241;43m=\u001b[39;49m\u001b[43mpve_token\u001b[49m\u001b[43m,\u001b[49m\n\u001b[0;32m    389\u001b[0m \u001b[43m    \u001b[49m\u001b[38;5;241;43m*\u001b[39;49m\u001b[38;5;241;43m*\u001b[39;49m\u001b[43mkwargs\u001b[49m\u001b[43m,\u001b[49m\n\u001b[0;32m    390\u001b[0m \u001b[43m\u001b[49m\u001b[43m)\u001b[49m\n",
      "File \u001b[1;32m~\\AppData\\Roaming\\Python\\Python312\\site-packages\\pydantic\\v1\\main.py:341\u001b[0m, in \u001b[0;36mBaseModel.__init__\u001b[1;34m(__pydantic_self__, **data)\u001b[0m\n\u001b[0;32m    339\u001b[0m values, fields_set, validation_error \u001b[38;5;241m=\u001b[39m validate_model(__pydantic_self__\u001b[38;5;241m.\u001b[39m\u001b[38;5;18m__class__\u001b[39m, data)\n\u001b[0;32m    340\u001b[0m \u001b[38;5;28;01mif\u001b[39;00m validation_error:\n\u001b[1;32m--> 341\u001b[0m     \u001b[38;5;28;01mraise\u001b[39;00m validation_error\n\u001b[0;32m    342\u001b[0m \u001b[38;5;28;01mtry\u001b[39;00m:\n\u001b[0;32m    343\u001b[0m     object_setattr(__pydantic_self__, \u001b[38;5;124m'\u001b[39m\u001b[38;5;124m__dict__\u001b[39m\u001b[38;5;124m'\u001b[39m, values)\n",
      "\u001b[1;31mValidationError\u001b[0m: 1 validation error for ProxmoxAPIChain\n__root__\n  Input variables should be {'api_url', 'question', 'api_docs', 'api_response'}, got ['api_docs', 'api_response', 'api_url', 'base_url', 'question'] (type=value_error)"
     ]
    }
   ],
   "source": [
    "chain = ProxmoxAPIChain.from_llm_and_api_docs(\n",
    "    llm,\n",
    "    retriever=compression_retriever,\n",
    "    headers={\"Authorization\": proxmox_api_token},\n",
    "    verbose=True,\n",
    "    limit_to_domains=['https://ns31418912.ip-54-38-37.eu:8006'],\n",
    "    base_url= \"https://ns31418912.ip-54-38-37.eu:8006\",\n",
    ")"
   ]
  },
  {
   "cell_type": "markdown",
   "metadata": {},
   "source": [
    "# Vms management: "
   ]
  },
  {
   "cell_type": "markdown",
   "metadata": {},
   "source": [
    "## LiST available Vms on a proxmoxs node :"
   ]
  },
  {
   "cell_type": "code",
   "execution_count": null,
   "metadata": {},
   "outputs": [
    {
     "name": "stdout",
     "output_type": "stream",
     "text": [
      "\n",
      "\n",
      "\u001b[1m> Entering new ProxmoxAPIChain chain...\u001b[0m\n"
     ]
    },
    {
     "name": "stderr",
     "output_type": "stream",
     "text": [
      "c:\\Python312\\Lib\\site-packages\\langchain_core\\_api\\deprecation.py:139: LangChainDeprecationWarning: The method `BaseRetriever.get_relevant_documents` was deprecated in langchain-core 0.1.46 and will be removed in 0.3.0. Use invoke instead.\n",
      "  warn_deprecated(\n",
      "C:\\Users\\oumay\\AppData\\Roaming\\Python\\Python312\\site-packages\\transformers\\models\\bert\\modeling_bert.py:439: UserWarning: 1Torch was not compiled with flash attention. (Triggered internally at ..\\aten\\src\\ATen\\native\\transformers\\cuda\\sdp_utils.cpp:455.)\n",
      "  attn_output = torch.nn.functional.scaled_dot_product_attention(\n"
     ]
    },
    {
     "name": "stdout",
     "output_type": "stream",
     "text": [
      "Retrieved Document 0: {\"endpoint\": \"/api2/json/nodes/{node}/qemu\", \"method\": \"get\", \"summary\": \"List Virtual machines (VMs) on a Node\", \"parameters\": [{\"name\": \"node\", \"in\": \"path\", \"required\": true, \"description\": \"Node ID where VMs are located\", \"schema\": {\"type\": \"string\"}}]}\n",
      "Retrieved Document 1: {\"endpoint\": \"/api2/json/nodes/{node}/qemu/{vmid}/config\", \"method\": \"get\", \"summary\": \"Get Virtual machine/Vm Configuration (config file)\", \"parameters\": [{\"name\": \"node\", \"in\": \"path\", \"required\": true, \"description\": \"Node ID where the VM is located\", \"schema\": {\"type\": \"string\"}}, {\"name\": \"vmid\", \"in\": \"path\", \"required\": true, \"description\": \"ID of the VM\", \"schema\": {\"type\": \"integer\"}}, {\"name\": \"current\", \"in\": \"query\", \"required\": false, \"description\": \"Get current values instead of pending values\", \"schema\": {\"type\": \"boolean\"}}]}\n",
      "Retrieved Document 2: {\"endpoint\": \"/api2/json/nodes/{node}/lxc\", \"methods\": \"get\", \"summary\": \"List LXC Containers on a Node\", \"description\": \"List all containers available on a node\", \"parameters\": [{\"name\": \"node\", \"in\": \"path\", \"required\": true, \"description\": \"Node ID where LXC containers are located\", \"schema\": {\"type\": \"string\"}}]}\n",
      "\n",
      "Request info: {\n",
      "    \"api_url\": \"/api2/json/nodes/Proxmox-Node-HCM/qemu\",\n",
      "    \"request_method\": \"get\",\n",
      "    \"request_body\": {}\n",
      "}\n",
      "API URL: https://ns31418912.ip-54-38-37.eu:8006/api2/json/nodes/Proxmox-Node-HCM/qemu\n",
      "Request method: GET\n",
      "Request body: {}\n",
      "\u001b[38;5;200m\u001b[1;3mStatus: 200 OK\n",
      "Response: {\"data\":[{\"vmid\":1001,\"disk\":0,\"diskread\":0,\"pid\":2790383,\"uptime\":1046325,\"cpus\":1,\"cpu\":0.616607815564973,\"diskwrite\":0,\"name\":\"test-vm\",\"netout\":72961800,\"maxmem\":536870912,\"mem\":20364512,\"status\":\"running\",\"netin\":220089641,\"maxdisk\":34359738368},{\"vmid\":100,\"disk\":0,\"pid\":3634760,\"uptime\":5467692,\"diskread\":0,\"tags\":\"critical;poc\",\"name\":\"Mongo-IMX\",\"netout\":467558686,\"maxmem\":8489271296,\"cpu\":0.00755263803740368,\"cpus\":2,\"diskwrite\":0,\"mem\":4347571242,\"status\":\"running\",\"netin\":3254423386,\"maxdisk\":137438953472},{\"vmid\":106,\"disk\":0,\"diskread\":0,\"pid\":3751193,\"uptime\":2875411,\"cpu\":0.000737071584297661,\"cpus\":2,\"diskwrite\":0,\"name\":\"Ansible-controller\",\"netout\":158642143,\"maxmem\":4294967296,\"mem\":3325566696,\"status\":\"running\",\"netin\":177359318,\"maxdisk\":34359738368},{\"cpus\":4,\"cpu\":0.0118172539490269,\"diskwrite\":0,\"netout\":162896479,\"name\":\"SurrealDB-IMX\",\"maxmem\":4294967296,\"diskread\":0,\"pid\":3099455,\"uptime\":3035631,\"disk\":0,\"vmid\":102,\"maxdisk\":107374182400,\"netin\":469473282,\"status\":\"running\",\"mem\":1113202355},{\"mem\":7183493729,\"status\":\"running\",\"netin\":197740576,\"maxdisk\":107374182400,\"vmid\":104,\"disk\":0,\"diskread\":0,\"uptime\":2876099,\"pid\":3748081,\"diskwrite\":0,\"cpus\":4,\"cpu\":0.000709705065078688,\"maxmem\":8589934592,\"name\":\"PgSQL-IMX\",\"netout\":23279843},{\"mem\":2884340241,\"status\":\"running\",\"netin\":830338536,\"maxdisk\":107374182400,\"vmid\":108,\"disk\":0,\"diskread\":0,\"pid\":1998484,\"uptime\":1235698,\"cpus\":4,\"cpu\":0.005427302028155,\"diskwrite\":0,\"netout\":6095755,\"name\":\"PgSQL-IMX-Replicaset\",\"maxmem\":8589934592},{\"vmid\":9999,\"disk\":0,\"diskread\":0,\"uptime\":0,\"cpu\":0,\"cpus\":2,\"diskwrite\":0,\"name\":\"my-vm\",\"netout\":0,\"maxmem\":2147483648,\"mem\":0,\"status\":\"stopped\",\"netin\":0,\"maxdisk\":34359738368},{\"vmid\":110,\"disk\":0,\"pid\":3793132,\"uptime\":799258,\"diskread\":0,\"netout\":5587133,\"name\":\"primary-test\",\"maxmem\":8589934592,\"cpu\":0.00101438564571658,\"cpus\":4,\"diskwrite\":0,\"mem\":2303541080,\"status\":\"running\",\"netin\":786840576,\"maxdisk\":34359738368},{\"disk\":0,\"vmid\":107,\"cpu\":0.00236342472645374,\"cpus\":1,\"diskwrite\":0,\"netout\":12704110,\"name\":\"test-mfa\",\"maxmem\":2147483648,\"diskread\":0,\"pid\":1822073,\"uptime\":1279994,\"status\":\"running\",\"mem\":765126121,\"maxdisk\":34359738368,\"netin\":652278984},{\"disk\":0,\"vmid\":10002,\"diskwrite\":0,\"cpu\":0,\"cpus\":1,\"maxmem\":536870912,\"netout\":0,\"name\":\"VM 10002\",\"diskread\":0,\"uptime\":0,\"status\":\"stopped\",\"mem\":0,\"maxdisk\":0,\"netin\":0},{\"maxdisk\":0,\"netin\":0,\"status\":\"stopped\",\"mem\":0,\"netout\":0,\"name\":\"VM 10004\",\"maxmem\":536870912,\"cpu\":0,\"cpus\":1,\"diskwrite\":0,\"uptime\":0,\"diskread\":0,\"disk\":0,\"vmid\":10004},{\"cpus\":2,\"cpu\":0.00223701747101373,\"diskwrite\":0,\"name\":\"NewRelic-GitLab\",\"netout\":1785428855,\"maxmem\":2147483648,\"diskread\":0,\"pid\":1003406,\"uptime\":3546634,\"disk\":0,\"vmid\":2000,\"maxdisk\":34359738368,\"netin\":7234557232,\"status\":\"running\",\"mem\":1326474006},{\"maxdisk\":107374182400,\"netin\":67257364,\"status\":\"running\",\"mem\":862486502,\"name\":\"PgSQL-Primary\",\"netout\":2323562,\"maxmem\":8589934592,\"cpus\":4,\"cpu\":0.000699019090907471,\"diskwrite\":0,\"pid\":2483630,\"uptime\":1121590,\"diskread\":0,\"disk\":0,\"vmid\":109},{\"mem\":0,\"status\":\"stopped\",\"netin\":0,\"maxdisk\":0,\"vmid\":10001,\"disk\":0,\"uptime\":0,\"diskread\":0,\"maxmem\":536870912,\"name\":\"VM 10001\",\"netout\":0,\"diskwrite\":0,\"cpu\":0,\"cpus\":1},{\"maxmem\":8589934592,\"name\":\"test-vault01\",\"netout\":548603429,\"diskwrite\":0,\"cpu\":0.0132831871618565,\"cpus\":2,\"uptime\":4924864,\"pid\":1787620,\"diskread\":0,\"disk\":0,\"vmid\":101,\"maxdisk\":107374182400,\"netin\":1644819958,\"status\":\"running\",\"mem\":3546975038}]}\u001b[0m\n",
      "\n",
      "\u001b[1m> Finished chain.\u001b[0m\n",
      "The virtual machines running on the Proxmox-Node-HCM node are: test-vm, Mongo-IMX, Ansible-controller, SurrealDB-IMX, PgSQL-IMX, PgSQL-IMX-Replicaset, my-vm, primary-test, test-mfa, VM 10002, VM 10004, NewRelic-GitLab, PgSQL-Primary, VM 10001, and test-vault01. \n",
      "\n"
     ]
    }
   ],
   "source": [
    "user_input = (\n",
    "    f\"list Vms on node 'Proxmox-Node-HCM'\"\n",
    ")\n",
    "response = chain.invoke(user_input)\n",
    "\n",
    "print(response['output'])"
   ]
  },
  {
   "cell_type": "markdown",
   "metadata": {},
   "source": [
    "## Creating a new Vm : "
   ]
  },
  {
   "cell_type": "markdown",
   "metadata": {},
   "source": [
    "### Vm with initial config :"
   ]
  },
  {
   "cell_type": "code",
   "execution_count": null,
   "metadata": {},
   "outputs": [
    {
     "name": "stdout",
     "output_type": "stream",
     "text": [
      "\n",
      "\n",
      "\u001b[1m> Entering new ProxmoxAPIChain chain...\u001b[0m\n",
      "Retrieved Document 0: {\"endpoint\": \"/api2/json/nodes/{node}/qemu\", \"method\": \"post\", \"summary\": \"Create a Virtual machine (VM) \", \"description\": \"Use this endpoint to create a new virtual machine on the specified node. This endpoint is used for initial creation and can be used for the allocation of resources such as memory, cores, and storage.\", \"parameters\": [{\"name\": \"node\", \"in\": \"path\", \"required\": true, \"description\": \"Node ID where the VM will be created\", \"schema\": {\"type\": \"string\"}}], \"requestBody\": {\"required\": true, \"content\": {\"application/json\": {\"schema\": {\"type\": \"object\", \"properties\": {\"vmid\": {\"type\": \"integer\", \"description\": \"VM ID\"}, \"name\": {\"type\": \"string\", \"description\": \"Name of the VM\"}, \"memory\": {\"type\": \"integer\", \"description\": \"Memory size in MB\"}, \"cores\": {\"type\": \"integer\", \"description\": \"Number of CPU cores\"}, \"ide0\": {\"type\": \"string\", \"description\": \"Disk size and format, e.g., \\\"local:32,format=qcow2\\\"\"}, \"net0\": {\"type\": \"string\", \"description\": \"Network configuration, e.g., \\\"virtio,bridge=vmbr0\\\"\"}, \"ostype\": {\"type\": \"string\", \"description\": \"OS type, e.g., \\\"l26\\\" for Linux\"}}, \"required\": [\"node\", \"vmid\"]}}}}}\n",
      "Retrieved Document 1: {\"endpoint\": \"/api2/json/nodes/{node}/qemu/{vmid}/config\", \"method\": \"post\", \"summary\": \"Set initial configuration options of a Virtual machine\", \"description\": \"Use this endpoint to set the initial configuration of a new virtual machine. This is useful when you need to define settings such as memory, cores, CPU type, and other parameters for a VM that is being created.\", \"parameters\": [{\"name\": \"node\", \"in\": \"path\", \"required\": true, \"description\": \"The cluster node name\", \"schema\": {\"type\": \"string\"}}, {\"name\": \"vmid\", \"in\": \"path\", \"required\": true, \"description\": \"The (unique) ID of the VM\", \"schema\": {\"type\": \"integer\", \"minimum\": 100, \"maximum\": 999999999}}], \"requestBody\": {\"required\": true, \"content\": {\"application/json\": {\"schema\": {\"type\": \"object\", \"properties\": {\"memory\": {\"type\": \"integer\", \"description\": \"Amount of RAM for the VM in MiB\", \"minimum\": 16}, \"cores\": {\"type\": \"integer\", \"description\": \"Number of cores per socket\", \"minimum\": 1}, \"cpu\": {\"type\": \"string\", \"description\": \"Emulated CPU type\"}, \"name\": {\"type\": \"string\", \"description\": \"Set a name for the VM\"}, \"net\": {\"type\": \"string\", \"description\": \"Specify network devices\"}, \"ostype\": {\"type\": \"string\", \"description\": \"Specify guest operating system\", \"enum\": [\"other\", \"wxp\", \"w2k\", \"w2k3\", \"w2k8\", \"wvista\", \"win7\", \"win8\", \"win10\", \"win11\", \"l24\", \"l26\", \"solaris\", \"opensolaris\", \"netbsd\", \"freebsd\", \"openbsd\"]}, \"disk\": {\"type\": \"string\", \"description\": \"Specify disk size and type, e.g., 'size=10G,ssd=1'\"}, \"boot\": {\"type\": \"string\", \"description\": \"Specify guest boot order, e.g., 'order=cdrom;ide0'\"}}}}}}}\n",
      "Retrieved Document 2: {\"endpoint\": \"/api2/json/nodes/{node}/qemu/{vmid}/config\", \"method\": \"put\", \"summary\": \"Update virtual machine configuration options\", \"description\": \"Use this endpoint to modify the configuration of an existing virtual machine. This is useful when you need to change settings such as memory, cores, network devices, and other VM parameters for an already running or stopped VM.\", \"parameters\": [{\"name\": \"node\", \"in\": \"path\", \"required\": true, \"description\": \"The cluster node name.\", \"schema\": {\"type\": \"string\"}}, {\"name\": \"vmid\", \"in\": \"path\", \"required\": true, \"description\": \"The (unique) ID of the VM.\", \"schema\": {\"type\": \"integer\", \"minimum\": 100, \"maximum\": 999999999}}], \"requestBody\": {\"required\": true, \"content\": {\"application/json\": {\"schema\": {\"type\": \"object\", \"properties\": {\"acpi\": {\"type\": \"boolean\", \"description\": \"Enable/disable ACPI.\"}, \"agent\": {\"type\": \"string\", \"description\": \"Enable/disable communication with the QEMU Guest Agent and its properties.\"}, \"balloon\": {\"type\": \"integer\", \"description\": \"Amount of target RAM for the VM in MiB. Using zero disables the balloon driver.\"}, \"bios\": {\"type\": \"string\", \"enum\": [\"seabios\", \"ovmf\"], \"description\": \"Select BIOS implementation.\"}, \"cores\": {\"type\": \"integer\", \"description\": \"The number of cores per socket.\"}, \"memory\": {\"type\": \"integer\", \"description\": \"Amount of RAM for the VM in MiB.\"}, \"net0\": {\"type\": \"string\", \"description\": \"Network device configuration, e.g., 'model=e1000,bridge=vmbr0'.\"}, \"sockets\": {\"type\": \"integer\", \"description\": \"The number of CPU sockets.\"}, \"cpu\": {\"type\": \"string\", \"description\": \"Emulated CPU type. Format: [[cputype=]<string>] [,flags=<+FLAG[;-FLAG...]>] [,hidden=<1|0>] [,hv-vendor-id=<vendor-id>] [,phys-bits=<8-64|host>] [,reported-model=<enum>]\"}, \"cpulimit\": {\"type\": \"number\", \"description\": \"Limit of CPU usage. Value '0' indicates no CPU limit.\"}, \"cpuunits\": {\"type\": \"integer\", \"description\": \"CPU weight for a VM. The larger the number, the more CPU time this VM gets. Range: 1 - 262144.\"}, \"ostype\": {\"type\": \"string\", \"enum\": [\"other\", \"wxp\", \"w2k\", \"w2k3\", \"w2k8\", \"wvista\", \"win7\", \"win8\", \"win10\", \"win11\", \"l24\", \"l26\", \"solaris\"], \"description\": \"Specify guest operating system to enable specific optimizations/features.\"}}}}}}}\n",
      "\n",
      "Request info: {\n",
      "    \"api_url\": \"/api2/json/nodes/Proxmox-Node-HCM/qemu\",\n",
      "    \"request_method\": \"post\",\n",
      "    \"request_body\": {\n",
      "        \"vmid\": 10000,\n",
      "        \"name\": \"test-vm-3\",\n",
      "        \"memory\": 512,\n",
      "        \"cores\": 1,\n",
      "        \"ide0\": \"local:32,format=qcow2\",\n",
      "        \"net0\": \"virtio,bridge=vmbr0\",\n",
      "        \"ostype\": \"l26\"\n",
      "    }\n",
      "}\n",
      "API URL: https://ns31418912.ip-54-38-37.eu:8006/api2/json/nodes/Proxmox-Node-HCM/qemu\n",
      "Request method: POST\n",
      "Request body: {'vmid': 10000, 'name': 'test-vm-3', 'memory': 512, 'cores': 1, 'ide0': 'local:32,format=qcow2', 'net0': 'virtio,bridge=vmbr0', 'ostype': 'l26'}\n",
      "\u001b[38;5;200m\u001b[1;3mStatus: 200 OK\n",
      "Response: {\"data\":\"UPID:Proxmox-Node-HCM:001808B4:B0CA3D7C:66A122F1:qmcreate:10000:oumaima@pve!oumaima-token:\"}\u001b[0m\n",
      "\n",
      "\u001b[1m> Finished chain.\u001b[0m\n",
      "The VM was successfully created on the node 'Proxmox-Node-HCM'. \n",
      "\n"
     ]
    }
   ],
   "source": [
    "user_input = (\n",
    "    f\"Create a VM on node 'Proxmox-Node-HCM' with the following configuration :\\n\"\n",
    "    f\"VM ID: 10000\\n\"\n",
    "    f\"Name: test-vm-3\\n\"\n",
    "    f\"Memory: 512 MB\\n\"\n",
    "    f\"Cores: 1\\n\"\n",
    "    f\"Sockets: 1\\n\"\n",
    "    f\"Storage: local\\n\"\n",
    "    f\"ide0: local:32,format=qcow2\\n\"\n",
    "    f\"net0: virtio,bridge=vmbr0\\n\"\n",
    "    f\"OS Type: l26\\n\"\n",
    "    f\"Description: My test VM\\n\"\n",
    "    f\"NUMA: 1\\n\"\n",
    "    f\"KVM: 1\\n\"\n",
    "    f\"Agent: 1\"\n",
    ")\n",
    "\n",
    "response = chain.invoke(user_input)\n",
    "\n",
    "print(response['output'])"
   ]
  },
  {
   "cell_type": "markdown",
   "metadata": {},
   "source": [
    "### Vm with just the required fields : "
   ]
  },
  {
   "cell_type": "code",
   "execution_count": null,
   "metadata": {},
   "outputs": [
    {
     "name": "stdout",
     "output_type": "stream",
     "text": [
      "\n",
      "\n",
      "\u001b[1m> Entering new ProxmoxAPIChain chain...\u001b[0m\n",
      "Retrieved Document 0: {\"endpoint\": \"/api2/json/nodes/{node}/qemu\", \"method\": \"post\", \"summary\": \"Create a Virtual machine (VM) \", \"description\": \"Use this endpoint to create a new virtual machine on the specified node. This endpoint is used for initial creation and can be used for the allocation of resources such as memory, cores, and storage.\", \"parameters\": [{\"name\": \"node\", \"in\": \"path\", \"required\": true, \"description\": \"Node ID where the VM will be created\", \"schema\": {\"type\": \"string\"}}], \"requestBody\": {\"required\": true, \"content\": {\"application/json\": {\"schema\": {\"type\": \"object\", \"properties\": {\"vmid\": {\"type\": \"integer\", \"description\": \"VM ID\"}, \"name\": {\"type\": \"string\", \"description\": \"Name of the VM\"}, \"memory\": {\"type\": \"integer\", \"description\": \"Memory size in MB\"}, \"cores\": {\"type\": \"integer\", \"description\": \"Number of CPU cores\"}, \"ide0\": {\"type\": \"string\", \"description\": \"Disk size and format, e.g., \\\"local:32,format=qcow2\\\"\"}, \"net0\": {\"type\": \"string\", \"description\": \"Network configuration, e.g., \\\"virtio,bridge=vmbr0\\\"\"}, \"ostype\": {\"type\": \"string\", \"description\": \"OS type, e.g., \\\"l26\\\" for Linux\"}}, \"required\": [\"node\", \"vmid\"]}}}}}\n",
      "Retrieved Document 1: {\"endpoint\": \"/api2/json/nodes/{node}/lxc\", \"methods\": \"post\", \"summary\": \"Create LXC Container\", \"parameters\": [{\"name\": \"node\", \"in\": \"path\", \"required\": true, \"description\": \"Node ID where the LXC container will be created\", \"schema\": {\"type\": \"string\"}}], \"requestBody\": {\"required\": true, \"content\": {\"application/json\": {\"schema\": {\"type\": \"object\", \"properties\": {\"vmid\": {\"type\": \"integer\", \"description\": \"Container ID\"}, \"hostname\": {\"type\": \"string\", \"description\": \"Hostname of the container\"}, \"memory\": {\"type\": \"integer\", \"description\": \"Memory size in MB\"}, \"cores\": {\"type\": \"integer\", \"description\": \"Number of CPU cores\"}, \"rootfs\": {\"type\": \"string\", \"description\": \"Root filesystem, e.g., 'local:10' for 10GB\"}, \"net0\": {\"type\": \"string\", \"description\": \"Network configuration, e.g., 'bridge=vmbr0'\"}, \"ostemplate\": {\"type\": \"string\", \"description\": \"OS template for the container\"}}, \"required\": [\"node\", \"vmid\", \"ostemplate\"]}}}}}\n",
      "Retrieved Document 2: {\"endpoint\": \"/api2/json/nodes/{node}/qemu/{vmid}/config\", \"method\": \"post\", \"summary\": \"Set initial configuration options of a Virtual machine\", \"description\": \"Use this endpoint to set the initial configuration of a new virtual machine. This is useful when you need to define settings such as memory, cores, CPU type, and other parameters for a VM that is being created.\", \"parameters\": [{\"name\": \"node\", \"in\": \"path\", \"required\": true, \"description\": \"The cluster node name\", \"schema\": {\"type\": \"string\"}}, {\"name\": \"vmid\", \"in\": \"path\", \"required\": true, \"description\": \"The (unique) ID of the VM\", \"schema\": {\"type\": \"integer\", \"minimum\": 100, \"maximum\": 999999999}}], \"requestBody\": {\"required\": true, \"content\": {\"application/json\": {\"schema\": {\"type\": \"object\", \"properties\": {\"memory\": {\"type\": \"integer\", \"description\": \"Amount of RAM for the VM in MiB\", \"minimum\": 16}, \"cores\": {\"type\": \"integer\", \"description\": \"Number of cores per socket\", \"minimum\": 1}, \"cpu\": {\"type\": \"string\", \"description\": \"Emulated CPU type\"}, \"name\": {\"type\": \"string\", \"description\": \"Set a name for the VM\"}, \"net\": {\"type\": \"string\", \"description\": \"Specify network devices\"}, \"ostype\": {\"type\": \"string\", \"description\": \"Specify guest operating system\", \"enum\": [\"other\", \"wxp\", \"w2k\", \"w2k3\", \"w2k8\", \"wvista\", \"win7\", \"win8\", \"win10\", \"win11\", \"l24\", \"l26\", \"solaris\", \"opensolaris\", \"netbsd\", \"freebsd\", \"openbsd\"]}, \"disk\": {\"type\": \"string\", \"description\": \"Specify disk size and type, e.g., 'size=10G,ssd=1'\"}, \"boot\": {\"type\": \"string\", \"description\": \"Specify guest boot order, e.g., 'order=cdrom;ide0'\"}}}}}}}\n",
      "\n",
      "Request info: {\n",
      "    \"api_url\": \"/api2/json/nodes/Proxmox-Node-HCM/qemu\",\n",
      "    \"request_method\": \"post\",\n",
      "    \"request_body\": {\n",
      "        \"vmid\": 2020\n",
      "    }\n",
      "}\n",
      "API URL: https://ns31418912.ip-54-38-37.eu:8006/api2/json/nodes/Proxmox-Node-HCM/qemu\n",
      "Request method: POST\n",
      "Request body: {'vmid': 2020}\n",
      "\u001b[38;5;200m\u001b[1;3mStatus: 200 OK\n",
      "Response: {\"data\":\"UPID:Proxmox-Node-HCM:001809BD:B0CA3F5C:66A122F6:qmcreate:2020:oumaima@pve!oumaima-token:\"}\u001b[0m\n",
      "\n",
      "\u001b[1m> Finished chain.\u001b[0m\n",
      "The API successfully created a virtual machine with ID 2020 on the node 'Proxmox-Node-HCM'. \n",
      "\n"
     ]
    }
   ],
   "source": [
    "user_input = (\n",
    "    f\"Create a Vm on node 'Proxmox-Node-HCM' where Vm ID : 2020\"\n",
    ")\n",
    "\n",
    "response = chain.invoke(user_input)\n",
    "\n",
    "print(response['output'])"
   ]
  },
  {
   "cell_type": "markdown",
   "metadata": {},
   "source": [
    "## Manage Vm Config : "
   ]
  },
  {
   "cell_type": "markdown",
   "metadata": {},
   "source": [
    "### Update Vm config :"
   ]
  },
  {
   "cell_type": "code",
   "execution_count": null,
   "metadata": {},
   "outputs": [
    {
     "name": "stdout",
     "output_type": "stream",
     "text": [
      "\n",
      "\n",
      "\u001b[1m> Entering new ProxmoxAPIChain chain...\u001b[0m\n",
      "Retrieved Document 0: {\"endpoint\": \"/api2/json/nodes/{node}/qemu/{vmid}/config\", \"method\": \"put\", \"summary\": \"Update virtual machine configuration options\", \"description\": \"Use this endpoint to modify the configuration of an existing virtual machine. This is useful when you need to change settings such as memory, cores, network devices, and other VM parameters for an already running or stopped VM.\", \"parameters\": [{\"name\": \"node\", \"in\": \"path\", \"required\": true, \"description\": \"The cluster node name.\", \"schema\": {\"type\": \"string\"}}, {\"name\": \"vmid\", \"in\": \"path\", \"required\": true, \"description\": \"The (unique) ID of the VM.\", \"schema\": {\"type\": \"integer\", \"minimum\": 100, \"maximum\": 999999999}}], \"requestBody\": {\"required\": true, \"content\": {\"application/json\": {\"schema\": {\"type\": \"object\", \"properties\": {\"acpi\": {\"type\": \"boolean\", \"description\": \"Enable/disable ACPI.\"}, \"agent\": {\"type\": \"string\", \"description\": \"Enable/disable communication with the QEMU Guest Agent and its properties.\"}, \"balloon\": {\"type\": \"integer\", \"description\": \"Amount of target RAM for the VM in MiB. Using zero disables the balloon driver.\"}, \"bios\": {\"type\": \"string\", \"enum\": [\"seabios\", \"ovmf\"], \"description\": \"Select BIOS implementation.\"}, \"cores\": {\"type\": \"integer\", \"description\": \"The number of cores per socket.\"}, \"memory\": {\"type\": \"integer\", \"description\": \"Amount of RAM for the VM in MiB.\"}, \"net0\": {\"type\": \"string\", \"description\": \"Network device configuration, e.g., 'model=e1000,bridge=vmbr0'.\"}, \"sockets\": {\"type\": \"integer\", \"description\": \"The number of CPU sockets.\"}, \"cpu\": {\"type\": \"string\", \"description\": \"Emulated CPU type. Format: [[cputype=]<string>] [,flags=<+FLAG[;-FLAG...]>] [,hidden=<1|0>] [,hv-vendor-id=<vendor-id>] [,phys-bits=<8-64|host>] [,reported-model=<enum>]\"}, \"cpulimit\": {\"type\": \"number\", \"description\": \"Limit of CPU usage. Value '0' indicates no CPU limit.\"}, \"cpuunits\": {\"type\": \"integer\", \"description\": \"CPU weight for a VM. The larger the number, the more CPU time this VM gets. Range: 1 - 262144.\"}, \"ostype\": {\"type\": \"string\", \"enum\": [\"other\", \"wxp\", \"w2k\", \"w2k3\", \"w2k8\", \"wvista\", \"win7\", \"win8\", \"win10\", \"win11\", \"l24\", \"l26\", \"solaris\"], \"description\": \"Specify guest operating system to enable specific optimizations/features.\"}}}}}}}\n",
      "Retrieved Document 1: {\"endpoint\": \"/api2/json/nodes/{node}/qemu\", \"method\": \"post\", \"summary\": \"Create a Virtual machine (VM) \", \"description\": \"Use this endpoint to create a new virtual machine on the specified node. This endpoint is used for initial creation and can be used for the allocation of resources such as memory, cores, and storage.\", \"parameters\": [{\"name\": \"node\", \"in\": \"path\", \"required\": true, \"description\": \"Node ID where the VM will be created\", \"schema\": {\"type\": \"string\"}}], \"requestBody\": {\"required\": true, \"content\": {\"application/json\": {\"schema\": {\"type\": \"object\", \"properties\": {\"vmid\": {\"type\": \"integer\", \"description\": \"VM ID\"}, \"name\": {\"type\": \"string\", \"description\": \"Name of the VM\"}, \"memory\": {\"type\": \"integer\", \"description\": \"Memory size in MB\"}, \"cores\": {\"type\": \"integer\", \"description\": \"Number of CPU cores\"}, \"ide0\": {\"type\": \"string\", \"description\": \"Disk size and format, e.g., \\\"local:32,format=qcow2\\\"\"}, \"net0\": {\"type\": \"string\", \"description\": \"Network configuration, e.g., \\\"virtio,bridge=vmbr0\\\"\"}, \"ostype\": {\"type\": \"string\", \"description\": \"OS type, e.g., \\\"l26\\\" for Linux\"}}, \"required\": [\"node\", \"vmid\"]}}}}}\n",
      "Retrieved Document 2: {\"endpoint\": \"/api2/json/nodes/{node}/qemu/{vmid}/config\", \"method\": \"post\", \"summary\": \"Set initial configuration options of a Virtual machine\", \"description\": \"Use this endpoint to set the initial configuration of a new virtual machine. This is useful when you need to define settings such as memory, cores, CPU type, and other parameters for a VM that is being created.\", \"parameters\": [{\"name\": \"node\", \"in\": \"path\", \"required\": true, \"description\": \"The cluster node name\", \"schema\": {\"type\": \"string\"}}, {\"name\": \"vmid\", \"in\": \"path\", \"required\": true, \"description\": \"The (unique) ID of the VM\", \"schema\": {\"type\": \"integer\", \"minimum\": 100, \"maximum\": 999999999}}], \"requestBody\": {\"required\": true, \"content\": {\"application/json\": {\"schema\": {\"type\": \"object\", \"properties\": {\"memory\": {\"type\": \"integer\", \"description\": \"Amount of RAM for the VM in MiB\", \"minimum\": 16}, \"cores\": {\"type\": \"integer\", \"description\": \"Number of cores per socket\", \"minimum\": 1}, \"cpu\": {\"type\": \"string\", \"description\": \"Emulated CPU type\"}, \"name\": {\"type\": \"string\", \"description\": \"Set a name for the VM\"}, \"net\": {\"type\": \"string\", \"description\": \"Specify network devices\"}, \"ostype\": {\"type\": \"string\", \"description\": \"Specify guest operating system\", \"enum\": [\"other\", \"wxp\", \"w2k\", \"w2k3\", \"w2k8\", \"wvista\", \"win7\", \"win8\", \"win10\", \"win11\", \"l24\", \"l26\", \"solaris\", \"opensolaris\", \"netbsd\", \"freebsd\", \"openbsd\"]}, \"disk\": {\"type\": \"string\", \"description\": \"Specify disk size and type, e.g., 'size=10G,ssd=1'\"}, \"boot\": {\"type\": \"string\", \"description\": \"Specify guest boot order, e.g., 'order=cdrom;ide0'\"}}}}}}}\n",
      "\n",
      "Request info: {\n",
      "    \"api_url\": \"/api2/json/nodes/Proxmox-Node-HCM/qemu/10000/config\",\n",
      "    \"request_method\": \"put\",\n",
      "    \"request_body\": {\n",
      "        \"memory\": 2048,\n",
      "        \"cores\": 2,\n",
      "        \"cpu\": \"host\",\n",
      "        \"name\": \"test-vm\",\n",
      "        \"ostype\": \"win10\",\n",
      "        \"boot\": \"order=ide0\"\n",
      "    }\n",
      "}\n",
      "API URL: https://ns31418912.ip-54-38-37.eu:8006/api2/json/nodes/Proxmox-Node-HCM/qemu/10000/config\n",
      "Request method: PUT\n",
      "Request body: {'memory': 2048, 'cores': 2, 'cpu': 'host', 'name': 'test-vm', 'ostype': 'win10', 'boot': 'order=ide0'}\n",
      "\u001b[38;5;200m\u001b[1;3mStatus: 200 OK\n",
      "Response: {\"data\":null}\u001b[0m\n",
      "\n",
      "\u001b[1m> Finished chain.\u001b[0m\n",
      "The API call successfully adjusted the configuration of the VM with ID 10000 on the node 'Proxmox-Node-HCM'. \n",
      "\n"
     ]
    }
   ],
   "source": [
    "user_input = (\n",
    "    f\"adjust the configuration of the VM with id 10000 on node 'Proxmox-Node-HCM' with memory 2048 MiB, 2 cores, CPU type 'host', name 'test-vm', operating system 'win10', and boot order 'order=ide0'\"\n",
    ")\n",
    "response = chain.invoke(user_input)\n",
    "\n",
    "print(response['output'])\n"
   ]
  },
  {
   "cell_type": "markdown",
   "metadata": {},
   "source": [
    "### Set initial config :"
   ]
  },
  {
   "cell_type": "code",
   "execution_count": null,
   "metadata": {},
   "outputs": [
    {
     "name": "stdout",
     "output_type": "stream",
     "text": [
      "\n",
      "\n",
      "\u001b[1m> Entering new ProxmoxAPIChain chain...\u001b[0m\n",
      "Retrieved Document 0: {\"endpoint\": \"/api2/json/nodes/{node}/qemu/{vmid}/config\", \"method\": \"post\", \"summary\": \"Set initial configuration options of a Virtual machine\", \"description\": \"Use this endpoint to set the initial configuration of a new virtual machine. This is useful when you need to define settings such as memory, cores, CPU type, and other parameters for a VM that is being created.\", \"parameters\": [{\"name\": \"node\", \"in\": \"path\", \"required\": true, \"description\": \"The cluster node name\", \"schema\": {\"type\": \"string\"}}, {\"name\": \"vmid\", \"in\": \"path\", \"required\": true, \"description\": \"The (unique) ID of the VM\", \"schema\": {\"type\": \"integer\", \"minimum\": 100, \"maximum\": 999999999}}], \"requestBody\": {\"required\": true, \"content\": {\"application/json\": {\"schema\": {\"type\": \"object\", \"properties\": {\"memory\": {\"type\": \"integer\", \"description\": \"Amount of RAM for the VM in MiB\", \"minimum\": 16}, \"cores\": {\"type\": \"integer\", \"description\": \"Number of cores per socket\", \"minimum\": 1}, \"cpu\": {\"type\": \"string\", \"description\": \"Emulated CPU type\"}, \"name\": {\"type\": \"string\", \"description\": \"Set a name for the VM\"}, \"net\": {\"type\": \"string\", \"description\": \"Specify network devices\"}, \"ostype\": {\"type\": \"string\", \"description\": \"Specify guest operating system\", \"enum\": [\"other\", \"wxp\", \"w2k\", \"w2k3\", \"w2k8\", \"wvista\", \"win7\", \"win8\", \"win10\", \"win11\", \"l24\", \"l26\", \"solaris\", \"opensolaris\", \"netbsd\", \"freebsd\", \"openbsd\"]}, \"disk\": {\"type\": \"string\", \"description\": \"Specify disk size and type, e.g., 'size=10G,ssd=1'\"}, \"boot\": {\"type\": \"string\", \"description\": \"Specify guest boot order, e.g., 'order=cdrom;ide0'\"}}}}}}}\n",
      "Retrieved Document 1: {\"endpoint\": \"/api2/json/nodes/{node}/qemu\", \"method\": \"post\", \"summary\": \"Create a Virtual machine (VM) \", \"description\": \"Use this endpoint to create a new virtual machine on the specified node. This endpoint is used for initial creation and can be used for the allocation of resources such as memory, cores, and storage.\", \"parameters\": [{\"name\": \"node\", \"in\": \"path\", \"required\": true, \"description\": \"Node ID where the VM will be created\", \"schema\": {\"type\": \"string\"}}], \"requestBody\": {\"required\": true, \"content\": {\"application/json\": {\"schema\": {\"type\": \"object\", \"properties\": {\"vmid\": {\"type\": \"integer\", \"description\": \"VM ID\"}, \"name\": {\"type\": \"string\", \"description\": \"Name of the VM\"}, \"memory\": {\"type\": \"integer\", \"description\": \"Memory size in MB\"}, \"cores\": {\"type\": \"integer\", \"description\": \"Number of CPU cores\"}, \"ide0\": {\"type\": \"string\", \"description\": \"Disk size and format, e.g., \\\"local:32,format=qcow2\\\"\"}, \"net0\": {\"type\": \"string\", \"description\": \"Network configuration, e.g., \\\"virtio,bridge=vmbr0\\\"\"}, \"ostype\": {\"type\": \"string\", \"description\": \"OS type, e.g., \\\"l26\\\" for Linux\"}}, \"required\": [\"node\", \"vmid\"]}}}}}\n",
      "Retrieved Document 2: {\"endpoint\": \"/api2/json/nodes/{node}/qemu/{vmid}/config\", \"method\": \"put\", \"summary\": \"Update virtual machine configuration options\", \"description\": \"Use this endpoint to modify the configuration of an existing virtual machine. This is useful when you need to change settings such as memory, cores, network devices, and other VM parameters for an already running or stopped VM.\", \"parameters\": [{\"name\": \"node\", \"in\": \"path\", \"required\": true, \"description\": \"The cluster node name.\", \"schema\": {\"type\": \"string\"}}, {\"name\": \"vmid\", \"in\": \"path\", \"required\": true, \"description\": \"The (unique) ID of the VM.\", \"schema\": {\"type\": \"integer\", \"minimum\": 100, \"maximum\": 999999999}}], \"requestBody\": {\"required\": true, \"content\": {\"application/json\": {\"schema\": {\"type\": \"object\", \"properties\": {\"acpi\": {\"type\": \"boolean\", \"description\": \"Enable/disable ACPI.\"}, \"agent\": {\"type\": \"string\", \"description\": \"Enable/disable communication with the QEMU Guest Agent and its properties.\"}, \"balloon\": {\"type\": \"integer\", \"description\": \"Amount of target RAM for the VM in MiB. Using zero disables the balloon driver.\"}, \"bios\": {\"type\": \"string\", \"enum\": [\"seabios\", \"ovmf\"], \"description\": \"Select BIOS implementation.\"}, \"cores\": {\"type\": \"integer\", \"description\": \"The number of cores per socket.\"}, \"memory\": {\"type\": \"integer\", \"description\": \"Amount of RAM for the VM in MiB.\"}, \"net0\": {\"type\": \"string\", \"description\": \"Network device configuration, e.g., 'model=e1000,bridge=vmbr0'.\"}, \"sockets\": {\"type\": \"integer\", \"description\": \"The number of CPU sockets.\"}, \"cpu\": {\"type\": \"string\", \"description\": \"Emulated CPU type. Format: [[cputype=]<string>] [,flags=<+FLAG[;-FLAG...]>] [,hidden=<1|0>] [,hv-vendor-id=<vendor-id>] [,phys-bits=<8-64|host>] [,reported-model=<enum>]\"}, \"cpulimit\": {\"type\": \"number\", \"description\": \"Limit of CPU usage. Value '0' indicates no CPU limit.\"}, \"cpuunits\": {\"type\": \"integer\", \"description\": \"CPU weight for a VM. The larger the number, the more CPU time this VM gets. Range: 1 - 262144.\"}, \"ostype\": {\"type\": \"string\", \"enum\": [\"other\", \"wxp\", \"w2k\", \"w2k3\", \"w2k8\", \"wvista\", \"win7\", \"win8\", \"win10\", \"win11\", \"l24\", \"l26\", \"solaris\"], \"description\": \"Specify guest operating system to enable specific optimizations/features.\"}}}}}}}\n",
      "\n",
      "Request info: {\n",
      "    \"api_url\": \"/api2/json/nodes/Proxmox-Node-HCM/qemu/2020/config\",\n",
      "    \"request_method\": \"post\",\n",
      "    \"request_body\": {\n",
      "        \"memory\": 512,\n",
      "        \"cpu\": \"kvm64\",\n",
      "        \"name\": \"test-vm-2020\"\n",
      "    }\n",
      "}\n",
      "API URL: https://ns31418912.ip-54-38-37.eu:8006/api2/json/nodes/Proxmox-Node-HCM/qemu/2020/config\n",
      "Request method: POST\n",
      "Request body: {'memory': 512, 'cpu': 'kvm64', 'name': 'test-vm-2020'}\n",
      "\u001b[38;5;200m\u001b[1;3mStatus: 200 OK\n",
      "Response: {\"data\":\"UPID:Proxmox-Node-HCM:00180B27:B0CA4339:66A12300:qmconfig:2020:oumaima@pve!oumaima-token:\"}\u001b[0m\n",
      "\n",
      "\u001b[1m> Finished chain.\u001b[0m\n",
      "The API call successfully set the initial configuration of the VM with ID 2020 on node 'Proxmox-Node-HCM'. \n",
      "\n"
     ]
    }
   ],
   "source": [
    "user_input = (\n",
    "    f\"set the initial configuration of the VM with id 2020 on node 'Proxmox-Node-HCM', memory: 512, cputype: kvm64, name: test-vm-2020\"\n",
    ")\n",
    "response = chain.invoke(user_input)\n",
    "\n",
    "print(response['output'])\n"
   ]
  },
  {
   "cell_type": "markdown",
   "metadata": {},
   "source": [
    "### Display Config :"
   ]
  },
  {
   "cell_type": "code",
   "execution_count": null,
   "metadata": {},
   "outputs": [
    {
     "name": "stdout",
     "output_type": "stream",
     "text": [
      "\n",
      "\n",
      "\u001b[1m> Entering new ProxmoxAPIChain chain...\u001b[0m\n",
      "Retrieved Document 0: {\"endpoint\": \"/api2/json/nodes/{node}/qemu/{vmid}/config\", \"method\": \"get\", \"summary\": \"Get Virtual machine/Vm Configuration (config file)\", \"parameters\": [{\"name\": \"node\", \"in\": \"path\", \"required\": true, \"description\": \"Node ID where the VM is located\", \"schema\": {\"type\": \"string\"}}, {\"name\": \"vmid\", \"in\": \"path\", \"required\": true, \"description\": \"ID of the VM\", \"schema\": {\"type\": \"integer\"}}, {\"name\": \"current\", \"in\": \"query\", \"required\": false, \"description\": \"Get current values instead of pending values\", \"schema\": {\"type\": \"boolean\"}}]}\n",
      "Retrieved Document 1: {\"endpoint\": \"/api2/json/nodes/{node}/lxc/{vmid}/config\", \"method\": \"get\", \"summary\": \"Get Lxc container configuration/config \", \"parameters\": [{\"name\": \"node\", \"in\": \"path\", \"required\": true, \"description\": \"The cluster node name\", \"schema\": {\"type\": \"string\"}}, {\"name\": \"vmid\", \"in\": \"path\", \"required\": true, \"description\": \"The (unique) ID of the VM\", \"schema\": {\"type\": \"integer\"}}, {\"name\": \"current\", \"in\": \"query\", \"required\": false, \"description\": \"Get current values (instead of pending values)\", \"schema\": {\"type\": \"boolean\", \"default\": false}}, {\"name\": \"snapshot\", \"in\": \"query\", \"required\": false, \"description\": \"Fetch config values from given snapshot\", \"schema\": {\"type\": \"string\"}}]}\n",
      "Retrieved Document 2: {\"endpoint\": \"/api2/json/nodes/{node}/qemu\", \"method\": \"get\", \"summary\": \"List Virtual machines (VMs) on a Node\", \"parameters\": [{\"name\": \"node\", \"in\": \"path\", \"required\": true, \"description\": \"Node ID where VMs are located\", \"schema\": {\"type\": \"string\"}}]}\n",
      "\n",
      "Request info: {\n",
      "    \"api_url\": \"/api2/json/nodes/Proxmox-Node-HCM/qemu/10000/config\",\n",
      "    \"request_method\": \"get\",\n",
      "    \"request_body\": {}\n",
      "}\n",
      "API URL: https://ns31418912.ip-54-38-37.eu:8006/api2/json/nodes/Proxmox-Node-HCM/qemu/10000/config\n",
      "Request method: GET\n",
      "Request body: {}\n",
      "\u001b[38;5;200m\u001b[1;3mStatus: 200 OK\n",
      "Response: {\"data\":{\"name\":\"test-vm\",\"smbios1\":\"uuid=1b9d4d45-21ef-4ee4-bc25-19a305f02d6b\",\"ide0\":\"local:10000/vm-10000-disk-0.qcow2,size=32G\",\"cpu\":\"host\",\"memory\":2048,\"vmgenid\":\"63d21f6b-e294-458c-8df4-886ad6b788ef\",\"boot\":\"order=ide0\",\"digest\":\"e4e305dcd85ca5d483a76015179eb28f57e4dc9e\",\"cores\":2,\"ostype\":\"win10\",\"meta\":\"creation-qemu=7.2.0,ctime=1721836274\",\"net0\":\"virtio=CA:AD:4E:8A:57:F9,bridge=vmbr0\"}}\u001b[0m\n",
      "\n",
      "\u001b[1m> Finished chain.\u001b[0m\n",
      "The configuration of the VM with ID 10000 on node 'Proxmox-Node-HCM' has been retrieved. \n",
      "\n"
     ]
    }
   ],
   "source": [
    "user_input = (\n",
    "    f\"get the configuration of the Vm with id 10000 on node 'Proxmox-Node-HCM'\"\n",
    ")\n",
    "response = chain.invoke(user_input)\n",
    "\n",
    "print(response['output'])"
   ]
  },
  {
   "cell_type": "code",
   "execution_count": null,
   "metadata": {},
   "outputs": [
    {
     "name": "stdout",
     "output_type": "stream",
     "text": [
      "\n",
      "\n",
      "\u001b[1m> Entering new ProxmoxAPIChain chain...\u001b[0m\n",
      "Retrieved Document 0: {\"endpoint\": \"/api2/json/nodes/{node}/qemu/{vmid}/config\", \"method\": \"get\", \"summary\": \"Get Virtual machine/Vm Configuration (config file)\", \"parameters\": [{\"name\": \"node\", \"in\": \"path\", \"required\": true, \"description\": \"Node ID where the VM is located\", \"schema\": {\"type\": \"string\"}}, {\"name\": \"vmid\", \"in\": \"path\", \"required\": true, \"description\": \"ID of the VM\", \"schema\": {\"type\": \"integer\"}}, {\"name\": \"current\", \"in\": \"query\", \"required\": false, \"description\": \"Get current values instead of pending values\", \"schema\": {\"type\": \"boolean\"}}]}\n",
      "Retrieved Document 1: {\"endpoint\": \"/api2/json/nodes/{node}/lxc/{vmid}/config\", \"method\": \"get\", \"summary\": \"Get Lxc container configuration/config \", \"parameters\": [{\"name\": \"node\", \"in\": \"path\", \"required\": true, \"description\": \"The cluster node name\", \"schema\": {\"type\": \"string\"}}, {\"name\": \"vmid\", \"in\": \"path\", \"required\": true, \"description\": \"The (unique) ID of the VM\", \"schema\": {\"type\": \"integer\"}}, {\"name\": \"current\", \"in\": \"query\", \"required\": false, \"description\": \"Get current values (instead of pending values)\", \"schema\": {\"type\": \"boolean\", \"default\": false}}, {\"name\": \"snapshot\", \"in\": \"query\", \"required\": false, \"description\": \"Fetch config values from given snapshot\", \"schema\": {\"type\": \"string\"}}]}\n",
      "Retrieved Document 2: {\"endpoint\": \"/api2/json/nodes/{node}/qemu\", \"method\": \"get\", \"summary\": \"List Virtual machines (VMs) on a Node\", \"parameters\": [{\"name\": \"node\", \"in\": \"path\", \"required\": true, \"description\": \"Node ID where VMs are located\", \"schema\": {\"type\": \"string\"}}]}\n",
      "\n",
      "Request info: {\n",
      "    \"api_url\": \"/api2/json/nodes/Proxmox-Node-HCM/qemu/2020/config\",\n",
      "    \"request_method\": \"get\",\n",
      "    \"request_body\": {}\n",
      "}\n",
      "API URL: https://ns31418912.ip-54-38-37.eu:8006/api2/json/nodes/Proxmox-Node-HCM/qemu/2020/config\n",
      "Request method: GET\n",
      "Request body: {}\n",
      "\u001b[38;5;200m\u001b[1;3mStatus: 200 OK\n",
      "Response: {\"data\":{\"vmgenid\":\"95279eb9-d61f-4d7e-9377-3399195de10e\",\"memory\":512,\"cpu\":\"kvm64\",\"smbios1\":\"uuid=cbb59a03-56e0-4bf7-a0be-768b40c68b45\",\"name\":\"test-vm-2020\",\"meta\":\"creation-qemu=7.2.0,ctime=1721836278\",\"digest\":\"75027a616e704d4d2986410d8673dfdcf26513b0\",\"boot\":\" \"}}\u001b[0m\n",
      "\n",
      "\u001b[1m> Finished chain.\u001b[0m\n",
      "The configuration of the VM with ID 2020 on node 'Proxmox-Node-HCM' includes details like memory size, CPU type, name, and other settings. \n",
      "\n"
     ]
    }
   ],
   "source": [
    "user_input = (\n",
    "    f\"get the configuration of the Vm with id 2020 on node 'Proxmox-Node-HCM'\"\n",
    ")\n",
    "response = chain.invoke(user_input)\n",
    "\n",
    "print(response['output'])"
   ]
  },
  {
   "cell_type": "markdown",
   "metadata": {},
   "source": [
    "## Delete Vm :"
   ]
  },
  {
   "cell_type": "code",
   "execution_count": null,
   "metadata": {},
   "outputs": [
    {
     "name": "stdout",
     "output_type": "stream",
     "text": [
      "\n",
      "\n",
      "\u001b[1m> Entering new ProxmoxAPIChain chain...\u001b[0m\n",
      "Retrieved Document 0: {\"endpoint\": \"/api2/json/nodes/{node}/qemu/{vmid}\", \"method\": \"delete\", \"summary\": \"Delete Virtual machine (VM)\", \"description\": \"Deleting a Virtual machine from a node .\", \"parameters\": [{\"name\": \"node\", \"in\": \"path\", \"required\": true, \"description\": \"Node ID where the VM is located\", \"schema\": {\"type\": \"string\"}}, {\"name\": \"vmid\", \"in\": \"path\", \"required\": true, \"description\": \"ID of the VM to delete\", \"schema\": {\"type\": \"string\"}}]}\n",
      "Retrieved Document 1: {\"endpoint\": \"/api2/json/nodes/{node}/lxc/{vmid}\", \"methods\": \"delete\", \"summary\": \"Delete LXC Container\", \"description\": \"Deleting a container from a node .\", \"parameters\": [{\"name\": \"node\", \"in\": \"path\", \"required\": true, \"description\": \"Node ID where the LXC container is located\", \"schema\": {\"type\": \"string\"}}, {\"name\": \"vmid\", \"in\": \"path\", \"required\": true, \"description\": \"ID of the LXC container to delete\", \"schema\": {\"type\": \"string\"}}]}\n",
      "Retrieved Document 2: {\"endpoint\": \"/api2/json/nodes/{node}/qemu\", \"method\": \"get\", \"summary\": \"List Virtual machines (VMs) on a Node\", \"parameters\": [{\"name\": \"node\", \"in\": \"path\", \"required\": true, \"description\": \"Node ID where VMs are located\", \"schema\": {\"type\": \"string\"}}]}\n",
      "\n",
      "Request info: {\n",
      "    \"api_url\": \"/api2/json/nodes/Proxmox-Node-HCM/qemu/10000\",\n",
      "    \"request_method\": \"delete\",\n",
      "    \"request_body\": {}\n",
      "}\n",
      "API URL: https://ns31418912.ip-54-38-37.eu:8006/api2/json/nodes/Proxmox-Node-HCM/qemu/10000\n",
      "Request method: DELETE\n",
      "Request body: {}\n",
      "\u001b[38;5;200m\u001b[1;3mStatus: 200 OK\n",
      "Response: {\"data\":\"UPID:Proxmox-Node-HCM:00180CF6:B0CA48E4:66A1230F:qmdestroy:10000:oumaima@pve!oumaima-token:\"}\u001b[0m\n",
      "\n",
      "\u001b[1m> Finished chain.\u001b[0m\n",
      "The API successfully deleted the VM with ID 10000 on the node 'Proxmox-Node-HCM'. \n",
      "\n"
     ]
    }
   ],
   "source": [
    "user_input = (\n",
    "    f\"delete Vm with id 10000 on node 'Proxmox-Node-HCM'\"\n",
    ")\n",
    "response = chain.invoke(user_input)\n",
    "\n",
    "print(response['output'])"
   ]
  },
  {
   "cell_type": "code",
   "execution_count": null,
   "metadata": {},
   "outputs": [
    {
     "name": "stdout",
     "output_type": "stream",
     "text": [
      "\n",
      "\n",
      "\u001b[1m> Entering new ProxmoxAPIChain chain...\u001b[0m\n",
      "Retrieved Document 0: {\"endpoint\": \"/api2/json/nodes/{node}/qemu/{vmid}\", \"method\": \"delete\", \"summary\": \"Delete Virtual machine (VM)\", \"description\": \"Deleting a Virtual machine from a node .\", \"parameters\": [{\"name\": \"node\", \"in\": \"path\", \"required\": true, \"description\": \"Node ID where the VM is located\", \"schema\": {\"type\": \"string\"}}, {\"name\": \"vmid\", \"in\": \"path\", \"required\": true, \"description\": \"ID of the VM to delete\", \"schema\": {\"type\": \"string\"}}]}\n",
      "Retrieved Document 1: {\"endpoint\": \"/api2/json/nodes/{node}/lxc/{vmid}\", \"methods\": \"delete\", \"summary\": \"Delete LXC Container\", \"description\": \"Deleting a container from a node .\", \"parameters\": [{\"name\": \"node\", \"in\": \"path\", \"required\": true, \"description\": \"Node ID where the LXC container is located\", \"schema\": {\"type\": \"string\"}}, {\"name\": \"vmid\", \"in\": \"path\", \"required\": true, \"description\": \"ID of the LXC container to delete\", \"schema\": {\"type\": \"string\"}}]}\n",
      "Retrieved Document 2: {\"endpoint\": \"/api2/json/nodes/{node}/qemu\", \"method\": \"get\", \"summary\": \"List Virtual machines (VMs) on a Node\", \"parameters\": [{\"name\": \"node\", \"in\": \"path\", \"required\": true, \"description\": \"Node ID where VMs are located\", \"schema\": {\"type\": \"string\"}}]}\n"
     ]
    },
    {
     "name": "stderr",
     "output_type": "stream",
     "text": [
      "Retrying langchain_google_genai.chat_models._chat_with_retry.<locals>._chat_with_retry in 2.0 seconds as it raised ResourceExhausted: 429 Resource has been exhausted (e.g. check quota)..\n",
      "Retrying langchain_google_genai.chat_models._chat_with_retry.<locals>._chat_with_retry in 4.0 seconds as it raised ResourceExhausted: 429 Resource has been exhausted (e.g. check quota)..\n",
      "Retrying langchain_google_genai.chat_models._chat_with_retry.<locals>._chat_with_retry in 8.0 seconds as it raised ResourceExhausted: 429 Resource has been exhausted (e.g. check quota)..\n",
      "Retrying langchain_google_genai.chat_models._chat_with_retry.<locals>._chat_with_retry in 16.0 seconds as it raised ResourceExhausted: 429 Resource has been exhausted (e.g. check quota)..\n"
     ]
    },
    {
     "name": "stdout",
     "output_type": "stream",
     "text": [
      "\n",
      "Request info: {\n",
      "    \"api_url\": \"/api2/json/nodes/Proxmox-Node-HCM/qemu/2020\",\n",
      "    \"request_method\": \"delete\",\n",
      "    \"request_body\": {}\n",
      "}\n",
      "API URL: https://ns31418912.ip-54-38-37.eu:8006/api2/json/nodes/Proxmox-Node-HCM/qemu/2020\n",
      "Request method: DELETE\n",
      "Request body: {}\n",
      "\u001b[38;5;200m\u001b[1;3mStatus: 200 OK\n",
      "Response: {\"data\":\"UPID:Proxmox-Node-HCM:00181258:B0CA56A3:66A12332:qmdestroy:2020:oumaima@pve!oumaima-token:\"}\u001b[0m\n",
      "\n",
      "\u001b[1m> Finished chain.\u001b[0m\n",
      "The API successfully deleted the virtual machine with ID 2020 on the node 'Proxmox-Node-HCM'. \n",
      "\n"
     ]
    }
   ],
   "source": [
    "user_input = (\n",
    "    f\"delete Vm with id 2020 on node 'Proxmox-Node-HCM'\"\n",
    ")\n",
    "response = chain.invoke(user_input)\n",
    "\n",
    "print(response['output'])"
   ]
  },
  {
   "cell_type": "markdown",
   "metadata": {},
   "source": [
    "# Containers Management :"
   ]
  },
  {
   "cell_type": "markdown",
   "metadata": {},
   "source": [
    "## List all available containers :"
   ]
  },
  {
   "cell_type": "code",
   "execution_count": null,
   "metadata": {},
   "outputs": [
    {
     "name": "stdout",
     "output_type": "stream",
     "text": [
      "\n",
      "\n",
      "\u001b[1m> Entering new ProxmoxAPIChain chain...\u001b[0m\n",
      "Retrieved Document 0: {\"endpoint\": \"/api2/json/nodes/{node}/lxc\", \"methods\": \"get\", \"summary\": \"List LXC Containers on a Node\", \"description\": \"List all containers available on a node\", \"parameters\": [{\"name\": \"node\", \"in\": \"path\", \"required\": true, \"description\": \"Node ID where LXC containers are located\", \"schema\": {\"type\": \"string\"}}]}\n",
      "Retrieved Document 1: {\"endpoint\": \"/api2/json/nodes/{node}/lxc/{vmid}/config\", \"method\": \"put\", \"summary\": \"Set container configuration (config file)\", \"description\": \"Modify or set the configuration of an LXC container identified by {vmid} on the specified {node}.\", \"parameters\": [{\"name\": \"node\", \"in\": \"path\", \"required\": true, \"description\": \"The cluster node name\", \"schema\": {\"type\": \"string\"}}, {\"name\": \"vmid\", \"in\": \"path\", \"required\": true, \"description\": \"The (unique) ID of the VM\", \"schema\": {\"type\": \"integer\"}}], \"requestBody\": {\"required\": true, \"content\": {\"application/json\": {\"schema\": {\"type\": \"object\", \"properties\": {\"arch\": {\"type\": \"string\", \"enum\": [\"amd64\", \"i386\", \"arm64\", \"armhf\", \"riscv32\", \"riscv64\"], \"description\": \"OS architecture type\"}, \"cmode\": {\"type\": \"string\", \"enum\": [\"shell\", \"console\", \"tty\"], \"description\": \"Console mode\"}, \"console\": {\"type\": \"boolean\", \"description\": \"Attach a console device (/dev/console) to the container\"}, \"cores\": {\"type\": \"integer\", \"description\": \"The number of cores assigned to the container\"}, \"cpulimit\": {\"type\": \"number\", \"description\": \"Limit of CPU usage\"}, \"cpuunits\": {\"type\": \"integer\", \"description\": \"CPU weight for a container\"}, \"debug\": {\"type\": \"boolean\", \"description\": \"Try to be more verbose\"}, \"delete\": {\"type\": \"string\", \"description\": \"A list of settings you want to delete\"}, \"description\": {\"type\": \"string\", \"description\": \"Description for the Container\"}, \"dev[n]\": {\"type\": \"string\", \"description\": \"Device to pass through to the container\"}, \"digest\": {\"type\": \"string\", \"description\": \"Prevent changes if current configuration file has different SHA1 digest\"}, \"features\": {\"type\": \"string\", \"description\": \"Allow containers access to advanced features\"}, \"hookscript\": {\"type\": \"string\", \"description\": \"Script that will be executed during various steps in the container's lifetime\"}, \"hostname\": {\"type\": \"string\", \"description\": \"Set a host name for the container\"}, \"lock\": {\"type\": \"string\", \"enum\": [\"backup\", \"create\", \"destroyed\", \"disk\", \"fstrim\", \"migrate\", \"mounted\", \"rollback\", \"snapshot\", \"snapshot-delete\"], \"description\": \"Lock/unlock the container\"}, \"memory\": {\"type\": \"integer\", \"description\": \"Amount of RAM for the container in MB\"}, \"mp[n]\": {\"type\": \"string\", \"description\": \"Use volume as container mount point\"}, \"nameserver\": {\"type\": \"string\", \"description\": \"Sets DNS server IP address for a container\"}, \"net[n]\": {\"type\": \"string\", \"description\": \"Specifies network interfaces for the container\"}, \"onboot\": {\"type\": \"boolean\", \"description\": \"Specifies whether a container will be started during system bootup\"}, \"ostype\": {\"type\": \"string\", \"enum\": [\"debian\", \"devuan\", \"ubuntu\", \"centos\", \"fedora\", \"opensuse\", \"archlinux\", \"alpine\", \"gentoo\", \"nixos\", \"unmanaged\"], \"description\": \"OS type\"}, \"protection\": {\"type\": \"boolean\", \"description\": \"Sets the protection flag of the container\"}, \"revert\": {\"type\": \"string\", \"description\": \"Revert a pending change\"}, \"rootfs\": {\"type\": \"string\", \"description\": \"Use volume as container root\"}, \"searchdomain\": {\"type\": \"string\", \"description\": \"Sets DNS search domains for a container\"}, \"startup\": {\"type\": \"string\", \"description\": \"Startup and shutdown behavior\"}, \"swap\": {\"type\": \"integer\", \"description\": \"Amount of SWAP for the container in MB\"}, \"tags\": {\"type\": \"string\", \"description\": \"Tags of the Container\"}, \"template\": {\"type\": \"boolean\", \"description\": \"Enable/disable Template\"}, \"timezone\": {\"type\": \"string\", \"description\": \"Time zone to use in the container\"}, \"tty\": {\"type\": \"integer\", \"description\": \"Specify the number of tty available to the container\"}, \"unprivileged\": {\"type\": \"boolean\", \"description\": \"Makes the container run as unprivileged user\"}, \"unused[n]\": {\"type\": \"string\", \"description\": \"Reference to unused volumes\"}}}}}}}\n",
      "Retrieved Document 2: {\"endpoint\": \"/api2/json/nodes/{node}/qemu\", \"method\": \"get\", \"summary\": \"List Virtual machines (VMs) on a Node\", \"parameters\": [{\"name\": \"node\", \"in\": \"path\", \"required\": true, \"description\": \"Node ID where VMs are located\", \"schema\": {\"type\": \"string\"}}]}\n",
      "\n",
      "Request info: {\n",
      "    \"api_url\": \"/api2/json/nodes/Proxmox-Node-HCM/lxc\",\n",
      "    \"request_method\": \"get\",\n",
      "    \"request_body\": {}\n",
      "}\n",
      "API URL: https://ns31418912.ip-54-38-37.eu:8006/api2/json/nodes/Proxmox-Node-HCM/lxc\n",
      "Request method: GET\n",
      "Request body: {}\n",
      "\u001b[38;5;200m\u001b[1;3mStatus: 200 OK\n",
      "Response: {\"data\":[{\"mem\":2353426432,\"maxswap\":33554432000,\"status\":\"running\",\"netin\":15936948481,\"type\":\"lxc\",\"maxdisk\":67318312960,\"vmid\":\"105\",\"disk\":43958300672,\"swap\":4132864,\"diskread\":19584135168,\"uptime\":4935242,\"pid\":1717477,\"diskwrite\":215247945728,\"cpu\":0.117055128710635,\"cpus\":32,\"maxmem\":33554432000,\"name\":\"LocalAI\",\"netout\":378966304},{\"status\":\"running\",\"maxswap\":1073741824,\"mem\":369946624,\"maxdisk\":8350298112,\"netin\":2708775913,\"type\":\"lxc\",\"swap\":77824,\"disk\":2234441728,\"vmid\":\"3002\",\"cpu\":0.0112929455011608,\"cpus\":1,\"diskwrite\":11650710528,\"name\":\"pdns-test\",\"netout\":127279173,\"maxmem\":2145386496,\"diskread\":1319997440,\"tags\":\"poc\",\"pid\":2182249,\"uptime\":15744775},{\"name\":\"DHCP-SERVER\",\"netout\":2370726,\"maxmem\":536870912,\"cpu\":8.68811687125508e-05,\"cpus\":1,\"diskwrite\":599302144,\"pid\":1412430,\"uptime\":5009756,\"diskread\":354500608,\"tags\":\"critical\",\"swap\":0,\"disk\":793509888,\"vmid\":\"103\",\"maxdisk\":8350298112,\"type\":\"lxc\",\"netin\":234002661,\"status\":\"running\",\"maxswap\":536870912,\"mem\":105390080},{\"maxdisk\":137266794496,\"netin\":4689481885,\"type\":\"lxc\",\"status\":\"running\",\"mem\":194437120,\"maxswap\":2145386496,\"diskwrite\":23235112960,\"cpus\":2,\"cpu\":0.00105338396965622,\"maxmem\":4294967296,\"netout\":2788096070,\"name\":\"Gateway-Node\",\"tags\":\"critical\",\"diskread\":1421209600,\"uptime\":5468756,\"pid\":3629214,\"disk\":73446182912,\"swap\":217088,\"vmid\":\"1000\"}]}\u001b[0m\n",
      "\n",
      "\u001b[1m> Finished chain.\u001b[0m\n",
      "The containers on node 'Proxmox-Node-HCM' are: LocalAI, pdns-test, DHCP-SERVER, and Gateway-Node. \n",
      "\n"
     ]
    }
   ],
   "source": [
    "user_input = (\n",
    "    f\"list all containers on node 'Proxmox-Node-HCM'\"\n",
    ")\n",
    "response = chain.invoke(user_input)\n",
    "\n",
    "print(response['output'])"
   ]
  },
  {
   "cell_type": "markdown",
   "metadata": {},
   "source": [
    "## Create Container :"
   ]
  },
  {
   "cell_type": "markdown",
   "metadata": {},
   "source": [
    "### New container with initial config :"
   ]
  },
  {
   "cell_type": "code",
   "execution_count": null,
   "metadata": {},
   "outputs": [
    {
     "name": "stdout",
     "output_type": "stream",
     "text": [
      "\n",
      "\n",
      "\u001b[1m> Entering new ProxmoxAPIChain chain...\u001b[0m\n",
      "Retrieved Document 0: {\"endpoint\": \"/api2/json/nodes/{node}/lxc\", \"methods\": \"post\", \"summary\": \"Create LXC Container\", \"parameters\": [{\"name\": \"node\", \"in\": \"path\", \"required\": true, \"description\": \"Node ID where the LXC container will be created\", \"schema\": {\"type\": \"string\"}}], \"requestBody\": {\"required\": true, \"content\": {\"application/json\": {\"schema\": {\"type\": \"object\", \"properties\": {\"vmid\": {\"type\": \"integer\", \"description\": \"Container ID\"}, \"hostname\": {\"type\": \"string\", \"description\": \"Hostname of the container\"}, \"memory\": {\"type\": \"integer\", \"description\": \"Memory size in MB\"}, \"cores\": {\"type\": \"integer\", \"description\": \"Number of CPU cores\"}, \"rootfs\": {\"type\": \"string\", \"description\": \"Root filesystem, e.g., 'local:10' for 10GB\"}, \"net0\": {\"type\": \"string\", \"description\": \"Network configuration, e.g., 'bridge=vmbr0'\"}, \"ostemplate\": {\"type\": \"string\", \"description\": \"OS template for the container\"}}, \"required\": [\"node\", \"vmid\", \"ostemplate\"]}}}}}\n",
      "Retrieved Document 1: {\"endpoint\": \"/api2/json/nodes/{node}/qemu\", \"method\": \"post\", \"summary\": \"Create a Virtual machine (VM) \", \"description\": \"Use this endpoint to create a new virtual machine on the specified node. This endpoint is used for initial creation and can be used for the allocation of resources such as memory, cores, and storage.\", \"parameters\": [{\"name\": \"node\", \"in\": \"path\", \"required\": true, \"description\": \"Node ID where the VM will be created\", \"schema\": {\"type\": \"string\"}}], \"requestBody\": {\"required\": true, \"content\": {\"application/json\": {\"schema\": {\"type\": \"object\", \"properties\": {\"vmid\": {\"type\": \"integer\", \"description\": \"VM ID\"}, \"name\": {\"type\": \"string\", \"description\": \"Name of the VM\"}, \"memory\": {\"type\": \"integer\", \"description\": \"Memory size in MB\"}, \"cores\": {\"type\": \"integer\", \"description\": \"Number of CPU cores\"}, \"ide0\": {\"type\": \"string\", \"description\": \"Disk size and format, e.g., \\\"local:32,format=qcow2\\\"\"}, \"net0\": {\"type\": \"string\", \"description\": \"Network configuration, e.g., \\\"virtio,bridge=vmbr0\\\"\"}, \"ostype\": {\"type\": \"string\", \"description\": \"OS type, e.g., \\\"l26\\\" for Linux\"}}, \"required\": [\"node\", \"vmid\"]}}}}}\n",
      "Retrieved Document 2: {\"endpoint\": \"/api2/json/nodes/{node}/lxc/{vmid}/config\", \"method\": \"put\", \"summary\": \"Set container configuration (config file)\", \"description\": \"Modify or set the configuration of an LXC container identified by {vmid} on the specified {node}.\", \"parameters\": [{\"name\": \"node\", \"in\": \"path\", \"required\": true, \"description\": \"The cluster node name\", \"schema\": {\"type\": \"string\"}}, {\"name\": \"vmid\", \"in\": \"path\", \"required\": true, \"description\": \"The (unique) ID of the VM\", \"schema\": {\"type\": \"integer\"}}], \"requestBody\": {\"required\": true, \"content\": {\"application/json\": {\"schema\": {\"type\": \"object\", \"properties\": {\"arch\": {\"type\": \"string\", \"enum\": [\"amd64\", \"i386\", \"arm64\", \"armhf\", \"riscv32\", \"riscv64\"], \"description\": \"OS architecture type\"}, \"cmode\": {\"type\": \"string\", \"enum\": [\"shell\", \"console\", \"tty\"], \"description\": \"Console mode\"}, \"console\": {\"type\": \"boolean\", \"description\": \"Attach a console device (/dev/console) to the container\"}, \"cores\": {\"type\": \"integer\", \"description\": \"The number of cores assigned to the container\"}, \"cpulimit\": {\"type\": \"number\", \"description\": \"Limit of CPU usage\"}, \"cpuunits\": {\"type\": \"integer\", \"description\": \"CPU weight for a container\"}, \"debug\": {\"type\": \"boolean\", \"description\": \"Try to be more verbose\"}, \"delete\": {\"type\": \"string\", \"description\": \"A list of settings you want to delete\"}, \"description\": {\"type\": \"string\", \"description\": \"Description for the Container\"}, \"dev[n]\": {\"type\": \"string\", \"description\": \"Device to pass through to the container\"}, \"digest\": {\"type\": \"string\", \"description\": \"Prevent changes if current configuration file has different SHA1 digest\"}, \"features\": {\"type\": \"string\", \"description\": \"Allow containers access to advanced features\"}, \"hookscript\": {\"type\": \"string\", \"description\": \"Script that will be executed during various steps in the container's lifetime\"}, \"hostname\": {\"type\": \"string\", \"description\": \"Set a host name for the container\"}, \"lock\": {\"type\": \"string\", \"enum\": [\"backup\", \"create\", \"destroyed\", \"disk\", \"fstrim\", \"migrate\", \"mounted\", \"rollback\", \"snapshot\", \"snapshot-delete\"], \"description\": \"Lock/unlock the container\"}, \"memory\": {\"type\": \"integer\", \"description\": \"Amount of RAM for the container in MB\"}, \"mp[n]\": {\"type\": \"string\", \"description\": \"Use volume as container mount point\"}, \"nameserver\": {\"type\": \"string\", \"description\": \"Sets DNS server IP address for a container\"}, \"net[n]\": {\"type\": \"string\", \"description\": \"Specifies network interfaces for the container\"}, \"onboot\": {\"type\": \"boolean\", \"description\": \"Specifies whether a container will be started during system bootup\"}, \"ostype\": {\"type\": \"string\", \"enum\": [\"debian\", \"devuan\", \"ubuntu\", \"centos\", \"fedora\", \"opensuse\", \"archlinux\", \"alpine\", \"gentoo\", \"nixos\", \"unmanaged\"], \"description\": \"OS type\"}, \"protection\": {\"type\": \"boolean\", \"description\": \"Sets the protection flag of the container\"}, \"revert\": {\"type\": \"string\", \"description\": \"Revert a pending change\"}, \"rootfs\": {\"type\": \"string\", \"description\": \"Use volume as container root\"}, \"searchdomain\": {\"type\": \"string\", \"description\": \"Sets DNS search domains for a container\"}, \"startup\": {\"type\": \"string\", \"description\": \"Startup and shutdown behavior\"}, \"swap\": {\"type\": \"integer\", \"description\": \"Amount of SWAP for the container in MB\"}, \"tags\": {\"type\": \"string\", \"description\": \"Tags of the Container\"}, \"template\": {\"type\": \"boolean\", \"description\": \"Enable/disable Template\"}, \"timezone\": {\"type\": \"string\", \"description\": \"Time zone to use in the container\"}, \"tty\": {\"type\": \"integer\", \"description\": \"Specify the number of tty available to the container\"}, \"unprivileged\": {\"type\": \"boolean\", \"description\": \"Makes the container run as unprivileged user\"}, \"unused[n]\": {\"type\": \"string\", \"description\": \"Reference to unused volumes\"}}}}}}}\n",
      "\n",
      "Request info: {\n",
      "    \"api_url\": \"/api2/json/nodes/Proxmox-Node-HCM/lxc\",\n",
      "    \"request_method\": \"post\",\n",
      "    \"request_body\": {\n",
      "        \"vmid\": 1010,\n",
      "        \"hostname\": \"my-container\",\n",
      "        \"memory\": 512,\n",
      "        \"cores\": 1,\n",
      "        \"rootfs\": \"local:10\",\n",
      "        \"net0\": \"name=eth0,bridge=vmbr0\",\n",
      "        \"ostemplate\": \"local:vztmpl/ubuntu-22.04-standard_22.04-1_amd64.tar.zst\"\n",
      "    }\n",
      "}\n",
      "API URL: https://ns31418912.ip-54-38-37.eu:8006/api2/json/nodes/Proxmox-Node-HCM/lxc\n",
      "Request method: POST\n",
      "Request body: {'vmid': 1010, 'hostname': 'my-container', 'memory': 512, 'cores': 1, 'rootfs': 'local:10', 'net0': 'name=eth0,bridge=vmbr0', 'ostemplate': 'local:vztmpl/ubuntu-22.04-standard_22.04-1_amd64.tar.zst'}\n",
      "\u001b[38;5;200m\u001b[1;3mStatus: 200 OK\n",
      "Response: {\"data\":\"UPID:Proxmox-Node-HCM:001813F9:B0CA5AE7:66A1233D:vzcreate:1010:oumaima@pve!oumaima-token:\"}\u001b[0m\n",
      "\n",
      "\u001b[1m> Finished chain.\u001b[0m\n",
      "The container was successfully created on the node 'Proxmox-Node-HCM'. \n",
      "\n"
     ]
    }
   ],
   "source": [
    "user_input = (\n",
    "    \"Create a container on node 'Proxmox-Node-HCM' where Container ID : 1010\\n\"\n",
    "    \"Hostname: my-container\\n\"\n",
    "    \"Memory (in MB): 512\\n\"\n",
    "    \"CPU Cores: 1\\n\"\n",
    "    \"Root Filesystem (e.g., 'local:10' for 10GB): local:10\\n\"\n",
    "    \"Network Configuration (e.g., 'name=eth0,bridge=vmbr0'): name=eth0,bridge=vmbr0\\n\"\n",
    "    \"OS Template: local:vztmpl/ubuntu-22.04-standard_22.04-1_amd64.tar.zst\"\n",
    ")\n",
    "\n",
    "response = chain.invoke(user_input)\n",
    "\n",
    "print(response['output'])\n"
   ]
  },
  {
   "cell_type": "markdown",
   "metadata": {},
   "source": [
    "### New container with just the required fields :"
   ]
  },
  {
   "cell_type": "code",
   "execution_count": null,
   "metadata": {},
   "outputs": [
    {
     "name": "stdout",
     "output_type": "stream",
     "text": [
      "\n",
      "\n",
      "\u001b[1m> Entering new ProxmoxAPIChain chain...\u001b[0m\n",
      "Retrieved Document 0: {\"endpoint\": \"/api2/json/nodes/{node}/lxc\", \"methods\": \"post\", \"summary\": \"Create LXC Container\", \"parameters\": [{\"name\": \"node\", \"in\": \"path\", \"required\": true, \"description\": \"Node ID where the LXC container will be created\", \"schema\": {\"type\": \"string\"}}], \"requestBody\": {\"required\": true, \"content\": {\"application/json\": {\"schema\": {\"type\": \"object\", \"properties\": {\"vmid\": {\"type\": \"integer\", \"description\": \"Container ID\"}, \"hostname\": {\"type\": \"string\", \"description\": \"Hostname of the container\"}, \"memory\": {\"type\": \"integer\", \"description\": \"Memory size in MB\"}, \"cores\": {\"type\": \"integer\", \"description\": \"Number of CPU cores\"}, \"rootfs\": {\"type\": \"string\", \"description\": \"Root filesystem, e.g., 'local:10' for 10GB\"}, \"net0\": {\"type\": \"string\", \"description\": \"Network configuration, e.g., 'bridge=vmbr0'\"}, \"ostemplate\": {\"type\": \"string\", \"description\": \"OS template for the container\"}}, \"required\": [\"node\", \"vmid\", \"ostemplate\"]}}}}}\n",
      "Retrieved Document 1: {\"endpoint\": \"/api2/json/nodes/{node}/qemu\", \"method\": \"post\", \"summary\": \"Create a Virtual machine (VM) \", \"description\": \"Use this endpoint to create a new virtual machine on the specified node. This endpoint is used for initial creation and can be used for the allocation of resources such as memory, cores, and storage.\", \"parameters\": [{\"name\": \"node\", \"in\": \"path\", \"required\": true, \"description\": \"Node ID where the VM will be created\", \"schema\": {\"type\": \"string\"}}], \"requestBody\": {\"required\": true, \"content\": {\"application/json\": {\"schema\": {\"type\": \"object\", \"properties\": {\"vmid\": {\"type\": \"integer\", \"description\": \"VM ID\"}, \"name\": {\"type\": \"string\", \"description\": \"Name of the VM\"}, \"memory\": {\"type\": \"integer\", \"description\": \"Memory size in MB\"}, \"cores\": {\"type\": \"integer\", \"description\": \"Number of CPU cores\"}, \"ide0\": {\"type\": \"string\", \"description\": \"Disk size and format, e.g., \\\"local:32,format=qcow2\\\"\"}, \"net0\": {\"type\": \"string\", \"description\": \"Network configuration, e.g., \\\"virtio,bridge=vmbr0\\\"\"}, \"ostype\": {\"type\": \"string\", \"description\": \"OS type, e.g., \\\"l26\\\" for Linux\"}}, \"required\": [\"node\", \"vmid\"]}}}}}\n",
      "Retrieved Document 2: {\"endpoint\": \"/api2/json/nodes/{node}/lxc/{vmid}/config\", \"method\": \"put\", \"summary\": \"Set container configuration (config file)\", \"description\": \"Modify or set the configuration of an LXC container identified by {vmid} on the specified {node}.\", \"parameters\": [{\"name\": \"node\", \"in\": \"path\", \"required\": true, \"description\": \"The cluster node name\", \"schema\": {\"type\": \"string\"}}, {\"name\": \"vmid\", \"in\": \"path\", \"required\": true, \"description\": \"The (unique) ID of the VM\", \"schema\": {\"type\": \"integer\"}}], \"requestBody\": {\"required\": true, \"content\": {\"application/json\": {\"schema\": {\"type\": \"object\", \"properties\": {\"arch\": {\"type\": \"string\", \"enum\": [\"amd64\", \"i386\", \"arm64\", \"armhf\", \"riscv32\", \"riscv64\"], \"description\": \"OS architecture type\"}, \"cmode\": {\"type\": \"string\", \"enum\": [\"shell\", \"console\", \"tty\"], \"description\": \"Console mode\"}, \"console\": {\"type\": \"boolean\", \"description\": \"Attach a console device (/dev/console) to the container\"}, \"cores\": {\"type\": \"integer\", \"description\": \"The number of cores assigned to the container\"}, \"cpulimit\": {\"type\": \"number\", \"description\": \"Limit of CPU usage\"}, \"cpuunits\": {\"type\": \"integer\", \"description\": \"CPU weight for a container\"}, \"debug\": {\"type\": \"boolean\", \"description\": \"Try to be more verbose\"}, \"delete\": {\"type\": \"string\", \"description\": \"A list of settings you want to delete\"}, \"description\": {\"type\": \"string\", \"description\": \"Description for the Container\"}, \"dev[n]\": {\"type\": \"string\", \"description\": \"Device to pass through to the container\"}, \"digest\": {\"type\": \"string\", \"description\": \"Prevent changes if current configuration file has different SHA1 digest\"}, \"features\": {\"type\": \"string\", \"description\": \"Allow containers access to advanced features\"}, \"hookscript\": {\"type\": \"string\", \"description\": \"Script that will be executed during various steps in the container's lifetime\"}, \"hostname\": {\"type\": \"string\", \"description\": \"Set a host name for the container\"}, \"lock\": {\"type\": \"string\", \"enum\": [\"backup\", \"create\", \"destroyed\", \"disk\", \"fstrim\", \"migrate\", \"mounted\", \"rollback\", \"snapshot\", \"snapshot-delete\"], \"description\": \"Lock/unlock the container\"}, \"memory\": {\"type\": \"integer\", \"description\": \"Amount of RAM for the container in MB\"}, \"mp[n]\": {\"type\": \"string\", \"description\": \"Use volume as container mount point\"}, \"nameserver\": {\"type\": \"string\", \"description\": \"Sets DNS server IP address for a container\"}, \"net[n]\": {\"type\": \"string\", \"description\": \"Specifies network interfaces for the container\"}, \"onboot\": {\"type\": \"boolean\", \"description\": \"Specifies whether a container will be started during system bootup\"}, \"ostype\": {\"type\": \"string\", \"enum\": [\"debian\", \"devuan\", \"ubuntu\", \"centos\", \"fedora\", \"opensuse\", \"archlinux\", \"alpine\", \"gentoo\", \"nixos\", \"unmanaged\"], \"description\": \"OS type\"}, \"protection\": {\"type\": \"boolean\", \"description\": \"Sets the protection flag of the container\"}, \"revert\": {\"type\": \"string\", \"description\": \"Revert a pending change\"}, \"rootfs\": {\"type\": \"string\", \"description\": \"Use volume as container root\"}, \"searchdomain\": {\"type\": \"string\", \"description\": \"Sets DNS search domains for a container\"}, \"startup\": {\"type\": \"string\", \"description\": \"Startup and shutdown behavior\"}, \"swap\": {\"type\": \"integer\", \"description\": \"Amount of SWAP for the container in MB\"}, \"tags\": {\"type\": \"string\", \"description\": \"Tags of the Container\"}, \"template\": {\"type\": \"boolean\", \"description\": \"Enable/disable Template\"}, \"timezone\": {\"type\": \"string\", \"description\": \"Time zone to use in the container\"}, \"tty\": {\"type\": \"integer\", \"description\": \"Specify the number of tty available to the container\"}, \"unprivileged\": {\"type\": \"boolean\", \"description\": \"Makes the container run as unprivileged user\"}, \"unused[n]\": {\"type\": \"string\", \"description\": \"Reference to unused volumes\"}}}}}}}\n",
      "\n",
      "Request info: {\n",
      "    \"api_url\": \"/api2/json/nodes/Proxmox-Node-HCM/lxc\",\n",
      "    \"request_method\": \"post\",\n",
      "    \"request_body\": {\n",
      "        \"vmid\": 3030,\n",
      "        \"ostemplate\": \"local:vztmpl/ubuntu-22.04-standard_22.04-1_amd64.tar.zst\"\n",
      "    }\n",
      "}\n",
      "API URL: https://ns31418912.ip-54-38-37.eu:8006/api2/json/nodes/Proxmox-Node-HCM/lxc\n",
      "Request method: POST\n",
      "Request body: {'vmid': 3030, 'ostemplate': 'local:vztmpl/ubuntu-22.04-standard_22.04-1_amd64.tar.zst'}\n",
      "\u001b[38;5;200m\u001b[1;3mStatus: 200 OK\n",
      "Response: {\"data\":\"UPID:Proxmox-Node-HCM:0018152E:B0CA5C8E:66A12341:vzcreate:3030:oumaima@pve!oumaima-token:\"}\u001b[0m\n",
      "\n",
      "\u001b[1m> Finished chain.\u001b[0m\n",
      "The API successfully created a container with ID 3030 on the node 'Proxmox-Node-HCM'. \n",
      "\n"
     ]
    }
   ],
   "source": [
    "user_input = (\n",
    "    \"Create a container on node 'Proxmox-Node-HCM' where Container ID : 3030\\n\"\n",
    "    \"OS Template: local:vztmpl/ubuntu-22.04-standard_22.04-1_amd64.tar.zst\"\n",
    ")\n",
    "\n",
    "response = chain.invoke(user_input)\n",
    "\n",
    "print(response['output'])\n"
   ]
  },
  {
   "cell_type": "markdown",
   "metadata": {},
   "source": [
    "## Manage container's config :"
   ]
  },
  {
   "cell_type": "markdown",
   "metadata": {},
   "source": [
    "### Update Config :"
   ]
  },
  {
   "cell_type": "code",
   "execution_count": null,
   "metadata": {},
   "outputs": [
    {
     "name": "stdout",
     "output_type": "stream",
     "text": [
      "\n",
      "\n",
      "\u001b[1m> Entering new ProxmoxAPIChain chain...\u001b[0m\n",
      "Retrieved Document 0: {\"endpoint\": \"/api2/json/nodes/{node}/lxc/{vmid}/config\", \"method\": \"put\", \"summary\": \"Set container configuration (config file)\", \"description\": \"Modify or set the configuration of an LXC container identified by {vmid} on the specified {node}.\", \"parameters\": [{\"name\": \"node\", \"in\": \"path\", \"required\": true, \"description\": \"The cluster node name\", \"schema\": {\"type\": \"string\"}}, {\"name\": \"vmid\", \"in\": \"path\", \"required\": true, \"description\": \"The (unique) ID of the VM\", \"schema\": {\"type\": \"integer\"}}], \"requestBody\": {\"required\": true, \"content\": {\"application/json\": {\"schema\": {\"type\": \"object\", \"properties\": {\"arch\": {\"type\": \"string\", \"enum\": [\"amd64\", \"i386\", \"arm64\", \"armhf\", \"riscv32\", \"riscv64\"], \"description\": \"OS architecture type\"}, \"cmode\": {\"type\": \"string\", \"enum\": [\"shell\", \"console\", \"tty\"], \"description\": \"Console mode\"}, \"console\": {\"type\": \"boolean\", \"description\": \"Attach a console device (/dev/console) to the container\"}, \"cores\": {\"type\": \"integer\", \"description\": \"The number of cores assigned to the container\"}, \"cpulimit\": {\"type\": \"number\", \"description\": \"Limit of CPU usage\"}, \"cpuunits\": {\"type\": \"integer\", \"description\": \"CPU weight for a container\"}, \"debug\": {\"type\": \"boolean\", \"description\": \"Try to be more verbose\"}, \"delete\": {\"type\": \"string\", \"description\": \"A list of settings you want to delete\"}, \"description\": {\"type\": \"string\", \"description\": \"Description for the Container\"}, \"dev[n]\": {\"type\": \"string\", \"description\": \"Device to pass through to the container\"}, \"digest\": {\"type\": \"string\", \"description\": \"Prevent changes if current configuration file has different SHA1 digest\"}, \"features\": {\"type\": \"string\", \"description\": \"Allow containers access to advanced features\"}, \"hookscript\": {\"type\": \"string\", \"description\": \"Script that will be executed during various steps in the container's lifetime\"}, \"hostname\": {\"type\": \"string\", \"description\": \"Set a host name for the container\"}, \"lock\": {\"type\": \"string\", \"enum\": [\"backup\", \"create\", \"destroyed\", \"disk\", \"fstrim\", \"migrate\", \"mounted\", \"rollback\", \"snapshot\", \"snapshot-delete\"], \"description\": \"Lock/unlock the container\"}, \"memory\": {\"type\": \"integer\", \"description\": \"Amount of RAM for the container in MB\"}, \"mp[n]\": {\"type\": \"string\", \"description\": \"Use volume as container mount point\"}, \"nameserver\": {\"type\": \"string\", \"description\": \"Sets DNS server IP address for a container\"}, \"net[n]\": {\"type\": \"string\", \"description\": \"Specifies network interfaces for the container\"}, \"onboot\": {\"type\": \"boolean\", \"description\": \"Specifies whether a container will be started during system bootup\"}, \"ostype\": {\"type\": \"string\", \"enum\": [\"debian\", \"devuan\", \"ubuntu\", \"centos\", \"fedora\", \"opensuse\", \"archlinux\", \"alpine\", \"gentoo\", \"nixos\", \"unmanaged\"], \"description\": \"OS type\"}, \"protection\": {\"type\": \"boolean\", \"description\": \"Sets the protection flag of the container\"}, \"revert\": {\"type\": \"string\", \"description\": \"Revert a pending change\"}, \"rootfs\": {\"type\": \"string\", \"description\": \"Use volume as container root\"}, \"searchdomain\": {\"type\": \"string\", \"description\": \"Sets DNS search domains for a container\"}, \"startup\": {\"type\": \"string\", \"description\": \"Startup and shutdown behavior\"}, \"swap\": {\"type\": \"integer\", \"description\": \"Amount of SWAP for the container in MB\"}, \"tags\": {\"type\": \"string\", \"description\": \"Tags of the Container\"}, \"template\": {\"type\": \"boolean\", \"description\": \"Enable/disable Template\"}, \"timezone\": {\"type\": \"string\", \"description\": \"Time zone to use in the container\"}, \"tty\": {\"type\": \"integer\", \"description\": \"Specify the number of tty available to the container\"}, \"unprivileged\": {\"type\": \"boolean\", \"description\": \"Makes the container run as unprivileged user\"}, \"unused[n]\": {\"type\": \"string\", \"description\": \"Reference to unused volumes\"}}}}}}}\n",
      "Retrieved Document 1: {\"endpoint\": \"/api2/json/nodes/{node}/qemu/{vmid}/config\", \"method\": \"put\", \"summary\": \"Update virtual machine configuration options\", \"description\": \"Use this endpoint to modify the configuration of an existing virtual machine. This is useful when you need to change settings such as memory, cores, network devices, and other VM parameters for an already running or stopped VM.\", \"parameters\": [{\"name\": \"node\", \"in\": \"path\", \"required\": true, \"description\": \"The cluster node name.\", \"schema\": {\"type\": \"string\"}}, {\"name\": \"vmid\", \"in\": \"path\", \"required\": true, \"description\": \"The (unique) ID of the VM.\", \"schema\": {\"type\": \"integer\", \"minimum\": 100, \"maximum\": 999999999}}], \"requestBody\": {\"required\": true, \"content\": {\"application/json\": {\"schema\": {\"type\": \"object\", \"properties\": {\"acpi\": {\"type\": \"boolean\", \"description\": \"Enable/disable ACPI.\"}, \"agent\": {\"type\": \"string\", \"description\": \"Enable/disable communication with the QEMU Guest Agent and its properties.\"}, \"balloon\": {\"type\": \"integer\", \"description\": \"Amount of target RAM for the VM in MiB. Using zero disables the balloon driver.\"}, \"bios\": {\"type\": \"string\", \"enum\": [\"seabios\", \"ovmf\"], \"description\": \"Select BIOS implementation.\"}, \"cores\": {\"type\": \"integer\", \"description\": \"The number of cores per socket.\"}, \"memory\": {\"type\": \"integer\", \"description\": \"Amount of RAM for the VM in MiB.\"}, \"net0\": {\"type\": \"string\", \"description\": \"Network device configuration, e.g., 'model=e1000,bridge=vmbr0'.\"}, \"sockets\": {\"type\": \"integer\", \"description\": \"The number of CPU sockets.\"}, \"cpu\": {\"type\": \"string\", \"description\": \"Emulated CPU type. Format: [[cputype=]<string>] [,flags=<+FLAG[;-FLAG...]>] [,hidden=<1|0>] [,hv-vendor-id=<vendor-id>] [,phys-bits=<8-64|host>] [,reported-model=<enum>]\"}, \"cpulimit\": {\"type\": \"number\", \"description\": \"Limit of CPU usage. Value '0' indicates no CPU limit.\"}, \"cpuunits\": {\"type\": \"integer\", \"description\": \"CPU weight for a VM. The larger the number, the more CPU time this VM gets. Range: 1 - 262144.\"}, \"ostype\": {\"type\": \"string\", \"enum\": [\"other\", \"wxp\", \"w2k\", \"w2k3\", \"w2k8\", \"wvista\", \"win7\", \"win8\", \"win10\", \"win11\", \"l24\", \"l26\", \"solaris\"], \"description\": \"Specify guest operating system to enable specific optimizations/features.\"}}}}}}}\n",
      "Retrieved Document 2: {\"endpoint\": \"/api2/json/nodes/{node}/lxc/{vmid}/config\", \"method\": \"get\", \"summary\": \"Get Lxc container configuration/config \", \"parameters\": [{\"name\": \"node\", \"in\": \"path\", \"required\": true, \"description\": \"The cluster node name\", \"schema\": {\"type\": \"string\"}}, {\"name\": \"vmid\", \"in\": \"path\", \"required\": true, \"description\": \"The (unique) ID of the VM\", \"schema\": {\"type\": \"integer\"}}, {\"name\": \"current\", \"in\": \"query\", \"required\": false, \"description\": \"Get current values (instead of pending values)\", \"schema\": {\"type\": \"boolean\", \"default\": false}}, {\"name\": \"snapshot\", \"in\": \"query\", \"required\": false, \"description\": \"Fetch config values from given snapshot\", \"schema\": {\"type\": \"string\"}}]}\n",
      "\n",
      "Request info: {\n",
      "    \"api_url\": \"/api2/json/nodes/Proxmox-Node-HCM/lxc/1010/config\",\n",
      "    \"request_method\": \"put\",\n",
      "    \"request_body\": {\n",
      "        \"hostname\": \"mycontainer-2\"\n",
      "    }\n",
      "}\n",
      "API URL: https://ns31418912.ip-54-38-37.eu:8006/api2/json/nodes/Proxmox-Node-HCM/lxc/1010/config\n",
      "Request method: PUT\n",
      "Request body: {'hostname': 'mycontainer-2'}\n",
      "\u001b[38;5;200m\u001b[1;3mStatus: 200 OK\n",
      "Response: {\"data\":null}\u001b[0m\n",
      "\n",
      "\u001b[1m> Finished chain.\u001b[0m\n",
      "The API call successfully modified the configuration of the container with ID 1010 on the node 'Proxmox-Node-HCM'. The hostname was set to 'mycontainer-2'. \n",
      "\n"
     ]
    }
   ],
   "source": [
    "user_input = (\n",
    "    f\"modify the configuration of the container with id 1010 on node 'Proxmox-Node-HCM', Hostname: mycontainer-2\"\n",
    ")\n",
    "response = chain.invoke(user_input)\n",
    "\n",
    "print(response['output'])"
   ]
  },
  {
   "cell_type": "markdown",
   "metadata": {},
   "source": [
    "### Get Config :"
   ]
  },
  {
   "cell_type": "code",
   "execution_count": null,
   "metadata": {},
   "outputs": [
    {
     "name": "stdout",
     "output_type": "stream",
     "text": [
      "\n",
      "\n",
      "\u001b[1m> Entering new ProxmoxAPIChain chain...\u001b[0m\n",
      "Retrieved Document 0: {\"endpoint\": \"/api2/json/nodes/{node}/lxc/{vmid}/config\", \"method\": \"get\", \"summary\": \"Get Lxc container configuration/config \", \"parameters\": [{\"name\": \"node\", \"in\": \"path\", \"required\": true, \"description\": \"The cluster node name\", \"schema\": {\"type\": \"string\"}}, {\"name\": \"vmid\", \"in\": \"path\", \"required\": true, \"description\": \"The (unique) ID of the VM\", \"schema\": {\"type\": \"integer\"}}, {\"name\": \"current\", \"in\": \"query\", \"required\": false, \"description\": \"Get current values (instead of pending values)\", \"schema\": {\"type\": \"boolean\", \"default\": false}}, {\"name\": \"snapshot\", \"in\": \"query\", \"required\": false, \"description\": \"Fetch config values from given snapshot\", \"schema\": {\"type\": \"string\"}}]}\n",
      "Retrieved Document 1: {\"endpoint\": \"/api2/json/nodes/{node}/lxc/{vmid}/config\", \"method\": \"put\", \"summary\": \"Set container configuration (config file)\", \"description\": \"Modify or set the configuration of an LXC container identified by {vmid} on the specified {node}.\", \"parameters\": [{\"name\": \"node\", \"in\": \"path\", \"required\": true, \"description\": \"The cluster node name\", \"schema\": {\"type\": \"string\"}}, {\"name\": \"vmid\", \"in\": \"path\", \"required\": true, \"description\": \"The (unique) ID of the VM\", \"schema\": {\"type\": \"integer\"}}], \"requestBody\": {\"required\": true, \"content\": {\"application/json\": {\"schema\": {\"type\": \"object\", \"properties\": {\"arch\": {\"type\": \"string\", \"enum\": [\"amd64\", \"i386\", \"arm64\", \"armhf\", \"riscv32\", \"riscv64\"], \"description\": \"OS architecture type\"}, \"cmode\": {\"type\": \"string\", \"enum\": [\"shell\", \"console\", \"tty\"], \"description\": \"Console mode\"}, \"console\": {\"type\": \"boolean\", \"description\": \"Attach a console device (/dev/console) to the container\"}, \"cores\": {\"type\": \"integer\", \"description\": \"The number of cores assigned to the container\"}, \"cpulimit\": {\"type\": \"number\", \"description\": \"Limit of CPU usage\"}, \"cpuunits\": {\"type\": \"integer\", \"description\": \"CPU weight for a container\"}, \"debug\": {\"type\": \"boolean\", \"description\": \"Try to be more verbose\"}, \"delete\": {\"type\": \"string\", \"description\": \"A list of settings you want to delete\"}, \"description\": {\"type\": \"string\", \"description\": \"Description for the Container\"}, \"dev[n]\": {\"type\": \"string\", \"description\": \"Device to pass through to the container\"}, \"digest\": {\"type\": \"string\", \"description\": \"Prevent changes if current configuration file has different SHA1 digest\"}, \"features\": {\"type\": \"string\", \"description\": \"Allow containers access to advanced features\"}, \"hookscript\": {\"type\": \"string\", \"description\": \"Script that will be executed during various steps in the container's lifetime\"}, \"hostname\": {\"type\": \"string\", \"description\": \"Set a host name for the container\"}, \"lock\": {\"type\": \"string\", \"enum\": [\"backup\", \"create\", \"destroyed\", \"disk\", \"fstrim\", \"migrate\", \"mounted\", \"rollback\", \"snapshot\", \"snapshot-delete\"], \"description\": \"Lock/unlock the container\"}, \"memory\": {\"type\": \"integer\", \"description\": \"Amount of RAM for the container in MB\"}, \"mp[n]\": {\"type\": \"string\", \"description\": \"Use volume as container mount point\"}, \"nameserver\": {\"type\": \"string\", \"description\": \"Sets DNS server IP address for a container\"}, \"net[n]\": {\"type\": \"string\", \"description\": \"Specifies network interfaces for the container\"}, \"onboot\": {\"type\": \"boolean\", \"description\": \"Specifies whether a container will be started during system bootup\"}, \"ostype\": {\"type\": \"string\", \"enum\": [\"debian\", \"devuan\", \"ubuntu\", \"centos\", \"fedora\", \"opensuse\", \"archlinux\", \"alpine\", \"gentoo\", \"nixos\", \"unmanaged\"], \"description\": \"OS type\"}, \"protection\": {\"type\": \"boolean\", \"description\": \"Sets the protection flag of the container\"}, \"revert\": {\"type\": \"string\", \"description\": \"Revert a pending change\"}, \"rootfs\": {\"type\": \"string\", \"description\": \"Use volume as container root\"}, \"searchdomain\": {\"type\": \"string\", \"description\": \"Sets DNS search domains for a container\"}, \"startup\": {\"type\": \"string\", \"description\": \"Startup and shutdown behavior\"}, \"swap\": {\"type\": \"integer\", \"description\": \"Amount of SWAP for the container in MB\"}, \"tags\": {\"type\": \"string\", \"description\": \"Tags of the Container\"}, \"template\": {\"type\": \"boolean\", \"description\": \"Enable/disable Template\"}, \"timezone\": {\"type\": \"string\", \"description\": \"Time zone to use in the container\"}, \"tty\": {\"type\": \"integer\", \"description\": \"Specify the number of tty available to the container\"}, \"unprivileged\": {\"type\": \"boolean\", \"description\": \"Makes the container run as unprivileged user\"}, \"unused[n]\": {\"type\": \"string\", \"description\": \"Reference to unused volumes\"}}}}}}}\n",
      "Retrieved Document 2: {\"endpoint\": \"/api2/json/nodes/{node}/lxc\", \"methods\": \"get\", \"summary\": \"List LXC Containers on a Node\", \"description\": \"List all containers available on a node\", \"parameters\": [{\"name\": \"node\", \"in\": \"path\", \"required\": true, \"description\": \"Node ID where LXC containers are located\", \"schema\": {\"type\": \"string\"}}]}\n",
      "\n",
      "Request info: {\n",
      "    \"api_url\": \"/api2/json/nodes/Proxmox-Node-HCM/lxc/1010/config\",\n",
      "    \"request_method\": \"get\",\n",
      "    \"request_body\": {}\n",
      "}\n",
      "API URL: https://ns31418912.ip-54-38-37.eu:8006/api2/json/nodes/Proxmox-Node-HCM/lxc/1010/config\n",
      "Request method: GET\n",
      "Request body: {}\n",
      "\u001b[38;5;200m\u001b[1;3mStatus: 200 OK\n",
      "Response: {\"data\":{\"arch\":\"amd64\",\"memory\":512,\"swap\":512,\"rootfs\":\"local:1010/vm-1010-disk-0.raw,size=10G\",\"digest\":\"fed7b7903fdac694ac9e7c17eb8c92dae29ebf14\",\"hostname\":\"mycontainer-2\",\"net0\":\"name=eth0,bridge=vmbr0,hwaddr=AE:50:77:67:AA:CB,type=veth\",\"ostype\":\"ubuntu\",\"cores\":1}}\u001b[0m\n",
      "\n",
      "\u001b[1m> Finished chain.\u001b[0m\n",
      "The configuration of the container with ID 1010 on node 'Proxmox-Node-HCM' includes details like architecture, memory, swap, root filesystem, hostname, network configuration, OS type, and number of cores. \n",
      "\n"
     ]
    }
   ],
   "source": [
    "user_input = (\n",
    "    f\"get the configuration of the container with id 1010 on node 'Proxmox-Node-HCM'\"\n",
    ")\n",
    "response = chain.invoke(user_input)\n",
    "\n",
    "print(response['output'])"
   ]
  },
  {
   "cell_type": "markdown",
   "metadata": {},
   "source": [
    "## Delete Container :"
   ]
  },
  {
   "cell_type": "code",
   "execution_count": null,
   "metadata": {},
   "outputs": [
    {
     "name": "stdout",
     "output_type": "stream",
     "text": [
      "\n",
      "\n",
      "\u001b[1m> Entering new ProxmoxAPIChain chain...\u001b[0m\n",
      "Retrieved Document 0: {\"endpoint\": \"/api2/json/nodes/{node}/lxc/{vmid}\", \"methods\": \"delete\", \"summary\": \"Delete LXC Container\", \"description\": \"Deleting a container from a node .\", \"parameters\": [{\"name\": \"node\", \"in\": \"path\", \"required\": true, \"description\": \"Node ID where the LXC container is located\", \"schema\": {\"type\": \"string\"}}, {\"name\": \"vmid\", \"in\": \"path\", \"required\": true, \"description\": \"ID of the LXC container to delete\", \"schema\": {\"type\": \"string\"}}]}\n",
      "Retrieved Document 1: {\"endpoint\": \"/api2/json/nodes/{node}/qemu/{vmid}\", \"method\": \"delete\", \"summary\": \"Delete Virtual machine (VM)\", \"description\": \"Deleting a Virtual machine from a node .\", \"parameters\": [{\"name\": \"node\", \"in\": \"path\", \"required\": true, \"description\": \"Node ID where the VM is located\", \"schema\": {\"type\": \"string\"}}, {\"name\": \"vmid\", \"in\": \"path\", \"required\": true, \"description\": \"ID of the VM to delete\", \"schema\": {\"type\": \"string\"}}]}\n",
      "Retrieved Document 2: {\"endpoint\": \"/api2/json/nodes/{node}/lxc/{vmid}/config\", \"method\": \"put\", \"summary\": \"Set container configuration (config file)\", \"description\": \"Modify or set the configuration of an LXC container identified by {vmid} on the specified {node}.\", \"parameters\": [{\"name\": \"node\", \"in\": \"path\", \"required\": true, \"description\": \"The cluster node name\", \"schema\": {\"type\": \"string\"}}, {\"name\": \"vmid\", \"in\": \"path\", \"required\": true, \"description\": \"The (unique) ID of the VM\", \"schema\": {\"type\": \"integer\"}}], \"requestBody\": {\"required\": true, \"content\": {\"application/json\": {\"schema\": {\"type\": \"object\", \"properties\": {\"arch\": {\"type\": \"string\", \"enum\": [\"amd64\", \"i386\", \"arm64\", \"armhf\", \"riscv32\", \"riscv64\"], \"description\": \"OS architecture type\"}, \"cmode\": {\"type\": \"string\", \"enum\": [\"shell\", \"console\", \"tty\"], \"description\": \"Console mode\"}, \"console\": {\"type\": \"boolean\", \"description\": \"Attach a console device (/dev/console) to the container\"}, \"cores\": {\"type\": \"integer\", \"description\": \"The number of cores assigned to the container\"}, \"cpulimit\": {\"type\": \"number\", \"description\": \"Limit of CPU usage\"}, \"cpuunits\": {\"type\": \"integer\", \"description\": \"CPU weight for a container\"}, \"debug\": {\"type\": \"boolean\", \"description\": \"Try to be more verbose\"}, \"delete\": {\"type\": \"string\", \"description\": \"A list of settings you want to delete\"}, \"description\": {\"type\": \"string\", \"description\": \"Description for the Container\"}, \"dev[n]\": {\"type\": \"string\", \"description\": \"Device to pass through to the container\"}, \"digest\": {\"type\": \"string\", \"description\": \"Prevent changes if current configuration file has different SHA1 digest\"}, \"features\": {\"type\": \"string\", \"description\": \"Allow containers access to advanced features\"}, \"hookscript\": {\"type\": \"string\", \"description\": \"Script that will be executed during various steps in the container's lifetime\"}, \"hostname\": {\"type\": \"string\", \"description\": \"Set a host name for the container\"}, \"lock\": {\"type\": \"string\", \"enum\": [\"backup\", \"create\", \"destroyed\", \"disk\", \"fstrim\", \"migrate\", \"mounted\", \"rollback\", \"snapshot\", \"snapshot-delete\"], \"description\": \"Lock/unlock the container\"}, \"memory\": {\"type\": \"integer\", \"description\": \"Amount of RAM for the container in MB\"}, \"mp[n]\": {\"type\": \"string\", \"description\": \"Use volume as container mount point\"}, \"nameserver\": {\"type\": \"string\", \"description\": \"Sets DNS server IP address for a container\"}, \"net[n]\": {\"type\": \"string\", \"description\": \"Specifies network interfaces for the container\"}, \"onboot\": {\"type\": \"boolean\", \"description\": \"Specifies whether a container will be started during system bootup\"}, \"ostype\": {\"type\": \"string\", \"enum\": [\"debian\", \"devuan\", \"ubuntu\", \"centos\", \"fedora\", \"opensuse\", \"archlinux\", \"alpine\", \"gentoo\", \"nixos\", \"unmanaged\"], \"description\": \"OS type\"}, \"protection\": {\"type\": \"boolean\", \"description\": \"Sets the protection flag of the container\"}, \"revert\": {\"type\": \"string\", \"description\": \"Revert a pending change\"}, \"rootfs\": {\"type\": \"string\", \"description\": \"Use volume as container root\"}, \"searchdomain\": {\"type\": \"string\", \"description\": \"Sets DNS search domains for a container\"}, \"startup\": {\"type\": \"string\", \"description\": \"Startup and shutdown behavior\"}, \"swap\": {\"type\": \"integer\", \"description\": \"Amount of SWAP for the container in MB\"}, \"tags\": {\"type\": \"string\", \"description\": \"Tags of the Container\"}, \"template\": {\"type\": \"boolean\", \"description\": \"Enable/disable Template\"}, \"timezone\": {\"type\": \"string\", \"description\": \"Time zone to use in the container\"}, \"tty\": {\"type\": \"integer\", \"description\": \"Specify the number of tty available to the container\"}, \"unprivileged\": {\"type\": \"boolean\", \"description\": \"Makes the container run as unprivileged user\"}, \"unused[n]\": {\"type\": \"string\", \"description\": \"Reference to unused volumes\"}}}}}}}\n",
      "\n",
      "Request info: {\n",
      "    \"api_url\": \"/api2/json/nodes/Proxmox-Node-HCM/lxc/1010\",\n",
      "    \"request_method\": \"delete\",\n",
      "    \"request_body\": {}\n",
      "}\n",
      "API URL: https://ns31418912.ip-54-38-37.eu:8006/api2/json/nodes/Proxmox-Node-HCM/lxc/1010\n",
      "Request method: DELETE\n",
      "Request body: {}\n",
      "\u001b[38;5;200m\u001b[1;3mStatus: 200 OK\n",
      "Response: {\"data\":\"UPID:Proxmox-Node-HCM:00181703:B0CA6267:66A12350:vzdestroy:1010:oumaima@pve!oumaima-token:\"}\u001b[0m\n",
      "\n",
      "\u001b[1m> Finished chain.\u001b[0m\n",
      "The API successfully deleted the container with ID 1010 on the node 'Proxmox-Node-HCM'. \n",
      "\n"
     ]
    }
   ],
   "source": [
    "user_input = (\n",
    "    f\"delete Container with id 1010 on node 'Proxmox-Node-HCM'\"\n",
    ")\n",
    "response = chain.invoke(user_input)\n",
    "\n",
    "print(response['output'])"
   ]
  },
  {
   "cell_type": "code",
   "execution_count": null,
   "metadata": {},
   "outputs": [
    {
     "name": "stdout",
     "output_type": "stream",
     "text": [
      "\n",
      "\n",
      "\u001b[1m> Entering new ProxmoxAPIChain chain...\u001b[0m\n",
      "Retrieved Document 0: {\"endpoint\": \"/api2/json/nodes/{node}/lxc/{vmid}\", \"methods\": \"delete\", \"summary\": \"Delete LXC Container\", \"description\": \"Deleting a container from a node .\", \"parameters\": [{\"name\": \"node\", \"in\": \"path\", \"required\": true, \"description\": \"Node ID where the LXC container is located\", \"schema\": {\"type\": \"string\"}}, {\"name\": \"vmid\", \"in\": \"path\", \"required\": true, \"description\": \"ID of the LXC container to delete\", \"schema\": {\"type\": \"string\"}}]}\n",
      "Retrieved Document 1: {\"endpoint\": \"/api2/json/nodes/{node}/qemu/{vmid}\", \"method\": \"delete\", \"summary\": \"Delete Virtual machine (VM)\", \"description\": \"Deleting a Virtual machine from a node .\", \"parameters\": [{\"name\": \"node\", \"in\": \"path\", \"required\": true, \"description\": \"Node ID where the VM is located\", \"schema\": {\"type\": \"string\"}}, {\"name\": \"vmid\", \"in\": \"path\", \"required\": true, \"description\": \"ID of the VM to delete\", \"schema\": {\"type\": \"string\"}}]}\n",
      "Retrieved Document 2: {\"endpoint\": \"/api2/json/nodes/{node}/lxc/{vmid}/config\", \"method\": \"put\", \"summary\": \"Set container configuration (config file)\", \"description\": \"Modify or set the configuration of an LXC container identified by {vmid} on the specified {node}.\", \"parameters\": [{\"name\": \"node\", \"in\": \"path\", \"required\": true, \"description\": \"The cluster node name\", \"schema\": {\"type\": \"string\"}}, {\"name\": \"vmid\", \"in\": \"path\", \"required\": true, \"description\": \"The (unique) ID of the VM\", \"schema\": {\"type\": \"integer\"}}], \"requestBody\": {\"required\": true, \"content\": {\"application/json\": {\"schema\": {\"type\": \"object\", \"properties\": {\"arch\": {\"type\": \"string\", \"enum\": [\"amd64\", \"i386\", \"arm64\", \"armhf\", \"riscv32\", \"riscv64\"], \"description\": \"OS architecture type\"}, \"cmode\": {\"type\": \"string\", \"enum\": [\"shell\", \"console\", \"tty\"], \"description\": \"Console mode\"}, \"console\": {\"type\": \"boolean\", \"description\": \"Attach a console device (/dev/console) to the container\"}, \"cores\": {\"type\": \"integer\", \"description\": \"The number of cores assigned to the container\"}, \"cpulimit\": {\"type\": \"number\", \"description\": \"Limit of CPU usage\"}, \"cpuunits\": {\"type\": \"integer\", \"description\": \"CPU weight for a container\"}, \"debug\": {\"type\": \"boolean\", \"description\": \"Try to be more verbose\"}, \"delete\": {\"type\": \"string\", \"description\": \"A list of settings you want to delete\"}, \"description\": {\"type\": \"string\", \"description\": \"Description for the Container\"}, \"dev[n]\": {\"type\": \"string\", \"description\": \"Device to pass through to the container\"}, \"digest\": {\"type\": \"string\", \"description\": \"Prevent changes if current configuration file has different SHA1 digest\"}, \"features\": {\"type\": \"string\", \"description\": \"Allow containers access to advanced features\"}, \"hookscript\": {\"type\": \"string\", \"description\": \"Script that will be executed during various steps in the container's lifetime\"}, \"hostname\": {\"type\": \"string\", \"description\": \"Set a host name for the container\"}, \"lock\": {\"type\": \"string\", \"enum\": [\"backup\", \"create\", \"destroyed\", \"disk\", \"fstrim\", \"migrate\", \"mounted\", \"rollback\", \"snapshot\", \"snapshot-delete\"], \"description\": \"Lock/unlock the container\"}, \"memory\": {\"type\": \"integer\", \"description\": \"Amount of RAM for the container in MB\"}, \"mp[n]\": {\"type\": \"string\", \"description\": \"Use volume as container mount point\"}, \"nameserver\": {\"type\": \"string\", \"description\": \"Sets DNS server IP address for a container\"}, \"net[n]\": {\"type\": \"string\", \"description\": \"Specifies network interfaces for the container\"}, \"onboot\": {\"type\": \"boolean\", \"description\": \"Specifies whether a container will be started during system bootup\"}, \"ostype\": {\"type\": \"string\", \"enum\": [\"debian\", \"devuan\", \"ubuntu\", \"centos\", \"fedora\", \"opensuse\", \"archlinux\", \"alpine\", \"gentoo\", \"nixos\", \"unmanaged\"], \"description\": \"OS type\"}, \"protection\": {\"type\": \"boolean\", \"description\": \"Sets the protection flag of the container\"}, \"revert\": {\"type\": \"string\", \"description\": \"Revert a pending change\"}, \"rootfs\": {\"type\": \"string\", \"description\": \"Use volume as container root\"}, \"searchdomain\": {\"type\": \"string\", \"description\": \"Sets DNS search domains for a container\"}, \"startup\": {\"type\": \"string\", \"description\": \"Startup and shutdown behavior\"}, \"swap\": {\"type\": \"integer\", \"description\": \"Amount of SWAP for the container in MB\"}, \"tags\": {\"type\": \"string\", \"description\": \"Tags of the Container\"}, \"template\": {\"type\": \"boolean\", \"description\": \"Enable/disable Template\"}, \"timezone\": {\"type\": \"string\", \"description\": \"Time zone to use in the container\"}, \"tty\": {\"type\": \"integer\", \"description\": \"Specify the number of tty available to the container\"}, \"unprivileged\": {\"type\": \"boolean\", \"description\": \"Makes the container run as unprivileged user\"}, \"unused[n]\": {\"type\": \"string\", \"description\": \"Reference to unused volumes\"}}}}}}}\n",
      "\n",
      "Request info: {\n",
      "    \"api_url\": \"/api2/json/nodes/Proxmox-Node-HCM/lxc/3030\",\n",
      "    \"request_method\": \"delete\",\n",
      "    \"request_body\": {}\n",
      "}\n",
      "API URL: https://ns31418912.ip-54-38-37.eu:8006/api2/json/nodes/Proxmox-Node-HCM/lxc/3030\n",
      "Request method: DELETE\n",
      "Request body: {}\n",
      "\u001b[38;5;200m\u001b[1;3mStatus: 200 OK\n",
      "Response: {\"data\":\"UPID:Proxmox-Node-HCM:00181829:B0CA6451:66A12355:vzdestroy:3030:oumaima@pve!oumaima-token:\"}\u001b[0m\n",
      "\n",
      "\u001b[1m> Finished chain.\u001b[0m\n",
      "The API successfully deleted the container with ID 3030 on the node 'Proxmox-Node-HCM'. \n",
      "\n"
     ]
    }
   ],
   "source": [
    "user_input = (\n",
    "    f\"delete Container with id 3030 on node 'Proxmox-Node-HCM'\"\n",
    ")\n",
    "response = chain.invoke(user_input)\n",
    "\n",
    "print(response['output'])"
   ]
  },
  {
   "cell_type": "markdown",
   "metadata": {},
   "source": [
    "# Get all users :"
   ]
  },
  {
   "cell_type": "code",
   "execution_count": null,
   "metadata": {},
   "outputs": [
    {
     "name": "stdout",
     "output_type": "stream",
     "text": [
      "\n",
      "\n",
      "\u001b[1m> Entering new ProxmoxAPIChain chain...\u001b[0m\n",
      "Retrieved Document 0: {\"endpoint\": \"/api2/json/access/permissions\", \"method\": \"get\", \"summary\": \"Retrieve/get effective permissions of given user/token.\", \"parameters\": [{\"name\": \"path\", \"in\": \"query\", \"required\": false, \"description\": \"Only dump this specific path, not the whole tree.\", \"schema\": {\"type\": \"string\"}}, {\"name\": \"userid\", \"in\": \"query\", \"required\": false, \"description\": \"User ID or full API token ID\", \"schema\": {\"type\": \"string\"}}]}\n",
      "Retrieved Document 1: {\"endpoint\": \"/api2/json/access/users\", \"method\": \"get\", \"summary\": \"User index.\", \"parameters\": [{\"name\": \"enabled\", \"in\": \"query\", \"required\": false, \"description\": \"Optional filter for enable property.\", \"schema\": {\"type\": \"boolean\"}}, {\"name\": \"full\", \"in\": \"query\", \"required\": false, \"description\": \"Include group and token information.\", \"schema\": {\"type\": \"boolean\", \"default\": false}}]}\n",
      "Retrieved Document 2: {\"endpoint\": \"/api2/json/nodes/{node}/qemu\", \"method\": \"get\", \"summary\": \"List Virtual machines (VMs) on a Node\", \"parameters\": [{\"name\": \"node\", \"in\": \"path\", \"required\": true, \"description\": \"Node ID where VMs are located\", \"schema\": {\"type\": \"string\"}}]}\n"
     ]
    },
    {
     "name": "stderr",
     "output_type": "stream",
     "text": [
      "Retrying langchain_google_genai.chat_models._chat_with_retry.<locals>._chat_with_retry in 2.0 seconds as it raised ResourceExhausted: 429 Resource has been exhausted (e.g. check quota)..\n",
      "Retrying langchain_google_genai.chat_models._chat_with_retry.<locals>._chat_with_retry in 4.0 seconds as it raised ResourceExhausted: 429 Resource has been exhausted (e.g. check quota)..\n",
      "Retrying langchain_google_genai.chat_models._chat_with_retry.<locals>._chat_with_retry in 8.0 seconds as it raised ResourceExhausted: 429 Resource has been exhausted (e.g. check quota)..\n"
     ]
    },
    {
     "name": "stdout",
     "output_type": "stream",
     "text": [
      "\n",
      "Request info: {\n",
      "    \"api_url\": \"/api2/json/access/users\",\n",
      "    \"request_method\": \"get\",\n",
      "    \"request_body\": {}\n",
      "}\n",
      "API URL: https://ns31418912.ip-54-38-37.eu:8006/api2/json/access/users\n",
      "Request method: GET\n",
      "Request body: {}\n",
      "\u001b[38;5;200m\u001b[1;3mStatus: 200 OK\n",
      "Response: {\"data\":[{\"firstname\":\"aala\",\"enable\":1,\"email\":\"a.boukhriss@coral-io.fr\",\"expire\":0,\"lastname\":\"aala\",\"userid\":\"aala@pve\",\"realm-type\":\"pve\"},{\"enable\":1,\"userid\":\"jawher@pve\",\"expire\":0,\"realm-type\":\"pve\",\"comment\":\"//jawher-hcm\",\"email\":\"\"},{\"enable\":1,\"expire\":0,\"realm-type\":\"pve\",\"userid\":\"mohamed@pve\"},{\"enable\":1,\"expire\":0,\"realm-type\":\"pve\",\"userid\":\"nahrawess@pve\"},{\"enable\":1,\"userid\":\"oumaima@pve\",\"expire\":0,\"realm-type\":\"pve\"},{\"realm-type\":\"pve\",\"expire\":0,\"userid\":\"raed@pve\",\"enable\":1},{\"enable\":1,\"expire\":0,\"realm-type\":\"pam\",\"userid\":\"root@pam\"},{\"realm-type\":\"pve\",\"expire\":0,\"userid\":\"wathek@pve\",\"enable\":1},{\"expire\":0,\"realm-type\":\"pve\",\"userid\":\"yahia@pve\",\"enable\":1}]}\u001b[0m\n",
      "\n",
      "\u001b[1m> Finished chain.\u001b[0m\n",
      "The API response lists all users. \n",
      "\n"
     ]
    }
   ],
   "source": [
    "user_input = (\n",
    "    f\"get all users\"\n",
    ")\n",
    "response = chain.invoke(user_input)\n",
    "\n",
    "print(response['output'])"
   ]
  },
  {
   "cell_type": "markdown",
   "metadata": {},
   "source": [
    "# Get user permissions :"
   ]
  },
  {
   "cell_type": "code",
   "execution_count": null,
   "metadata": {},
   "outputs": [
    {
     "name": "stdout",
     "output_type": "stream",
     "text": [
      "\n",
      "\n",
      "\u001b[1m> Entering new ProxmoxAPIChain chain...\u001b[0m\n",
      "Retrieved Document 0: {\"endpoint\": \"/api2/json/access/permissions\", \"method\": \"get\", \"summary\": \"Retrieve/get effective permissions of given user/token.\", \"parameters\": [{\"name\": \"path\", \"in\": \"query\", \"required\": false, \"description\": \"Only dump this specific path, not the whole tree.\", \"schema\": {\"type\": \"string\"}}, {\"name\": \"userid\", \"in\": \"query\", \"required\": false, \"description\": \"User ID or full API token ID\", \"schema\": {\"type\": \"string\"}}]}\n",
      "Retrieved Document 1: {\"endpoint\": \"/api2/json/access/users\", \"method\": \"get\", \"summary\": \"User index.\", \"parameters\": [{\"name\": \"enabled\", \"in\": \"query\", \"required\": false, \"description\": \"Optional filter for enable property.\", \"schema\": {\"type\": \"boolean\"}}, {\"name\": \"full\", \"in\": \"query\", \"required\": false, \"description\": \"Include group and token information.\", \"schema\": {\"type\": \"boolean\", \"default\": false}}]}\n",
      "Retrieved Document 2: {\"endpoint\": \"/api2/json/nodes/{node}/qemu/{vmid}/config\", \"method\": \"get\", \"summary\": \"Get Virtual machine/Vm Configuration (config file)\", \"parameters\": [{\"name\": \"node\", \"in\": \"path\", \"required\": true, \"description\": \"Node ID where the VM is located\", \"schema\": {\"type\": \"string\"}}, {\"name\": \"vmid\", \"in\": \"path\", \"required\": true, \"description\": \"ID of the VM\", \"schema\": {\"type\": \"integer\"}}, {\"name\": \"current\", \"in\": \"query\", \"required\": false, \"description\": \"Get current values instead of pending values\", \"schema\": {\"type\": \"boolean\"}}]}\n",
      "\n",
      "Request info: {\n",
      "    \"api_url\": \"/api2/json/access/permissions\",\n",
      "    \"request_method\": \"get\",\n",
      "    \"request_body\": {}\n",
      "}\n",
      "API URL: https://ns31418912.ip-54-38-37.eu:8006/api2/json/access/permissions\n",
      "Request method: GET\n",
      "Request body: {}\n",
      "\u001b[38;5;200m\u001b[1;3mStatus: 200 OK\n",
      "Response: {\"data\":{\"/vms\":{\"VM.Config.Cloudinit\":1,\"VM.Backup\":1,\"Datastore.AllocateTemplate\":1,\"VM.Config.Network\":1,\"Group.Allocate\":1,\"VM.Snapshot\":1,\"Pool.Audit\":1,\"VM.Allocate\":1,\"VM.PowerMgmt\":1,\"VM.Config.Memory\":1,\"Sys.PowerMgmt\":1,\"SDN.Audit\":1,\"VM.Config.CDROM\":1,\"VM.Console\":1,\"SDN.Use\":1,\"VM.Config.Options\":1,\"VM.Monitor\":1,\"Sys.Console\":1,\"VM.Config.HWType\":1,\"VM.Migrate\":1,\"User.Modify\":1,\"Datastore.Audit\":1,\"Sys.Audit\":1,\"Pool.Allocate\":1,\"VM.Config.Disk\":1,\"VM.Config.CPU\":1,\"Datastore.AllocateSpace\":1,\"Sys.Incoming\":1,\"Datastore.Allocate\":1,\"VM.Snapshot.Rollback\":1,\"Sys.Syslog\":1,\"VM.Audit\":1,\"Realm.AllocateUser\":1,\"Sys.Modify\":1,\"Realm.Allocate\":1,\"VM.Clone\":1,\"SDN.Allocate\":1,\"Permissions.Modify\":1},\"/access\":{\"SDN.Allocate\":1,\"Permissions.Modify\":1,\"VM.Clone\":1,\"Realm.Allocate\":1,\"Realm.AllocateUser\":1,\"Sys.Modify\":1,\"Sys.Incoming\":1,\"VM.Config.CPU\":1,\"Datastore.AllocateSpace\":1,\"VM.Config.Disk\":1,\"VM.Audit\":1,\"Sys.Syslog\":1,\"VM.Snapshot.Rollback\":1,\"Datastore.Allocate\":1,\"Sys.Audit\":1,\"Datastore.Audit\":1,\"Pool.Allocate\":1,\"VM.Config.HWType\":1,\"User.Modify\":1,\"VM.Migrate\":1,\"VM.Monitor\":1,\"Sys.Console\":1,\"VM.Config.Options\":1,\"SDN.Audit\":1,\"VM.Config.CDROM\":1,\"SDN.Use\":1,\"VM.Console\":1,\"VM.Config.Memory\":1,\"Sys.PowerMgmt\":1,\"VM.PowerMgmt\":1,\"VM.Allocate\":1,\"Pool.Audit\":1,\"VM.Snapshot\":1,\"Group.Allocate\":1,\"VM.Config.Network\":1,\"Datastore.AllocateTemplate\":1,\"VM.Backup\":1,\"VM.Config.Cloudinit\":1},\"/sdn\":{\"Realm.AllocateUser\":1,\"Sys.Modify\":1,\"Realm.Allocate\":1,\"VM.Clone\":1,\"SDN.Allocate\":1,\"Permissions.Modify\":1,\"VM.Config.HWType\":1,\"User.Modify\":1,\"VM.Migrate\":1,\"Sys.Audit\":1,\"Datastore.Audit\":1,\"Pool.Allocate\":1,\"VM.Config.CPU\":1,\"Datastore.AllocateSpace\":1,\"VM.Config.Disk\":1,\"Sys.Incoming\":1,\"Sys.Syslog\":1,\"VM.Audit\":1,\"Datastore.Allocate\":1,\"VM.Snapshot.Rollback\":1,\"VM.PowerMgmt\":1,\"VM.Config.Memory\":1,\"Sys.PowerMgmt\":1,\"SDN.Audit\":1,\"VM.Config.CDROM\":1,\"SDN.Use\":1,\"VM.Console\":1,\"VM.Monitor\":1,\"Sys.Console\":1,\"VM.Config.Options\":1,\"VM.Backup\":1,\"VM.Config.Cloudinit\":1,\"VM.Config.Network\":1,\"Group.Allocate\":1,\"Datastore.AllocateTemplate\":1,\"Pool.Audit\":1,\"VM.Snapshot\":1,\"VM.Allocate\":1},\"/access/groups\":{\"Group.Allocate\":1,\"VM.Config.Network\":1,\"Datastore.AllocateTemplate\":1,\"VM.Backup\":1,\"VM.Config.Cloudinit\":1,\"VM.Allocate\":1,\"VM.Snapshot\":1,\"Pool.Audit\":1,\"VM.Config.Memory\":1,\"Sys.PowerMgmt\":1,\"VM.PowerMgmt\":1,\"VM.Monitor\":1,\"Sys.Console\":1,\"VM.Config.Options\":1,\"SDN.Audit\":1,\"VM.Config.CDROM\":1,\"SDN.Use\":1,\"VM.Console\":1,\"Sys.Audit\":1,\"Datastore.Audit\":1,\"Pool.Allocate\":1,\"VM.Config.HWType\":1,\"User.Modify\":1,\"VM.Migrate\":1,\"VM.Config.Disk\":1,\"Datastore.AllocateSpace\":1,\"Sys.Incoming\":1,\"VM.Config.CPU\":1,\"Sys.Syslog\":1,\"VM.Audit\":1,\"VM.Snapshot.Rollback\":1,\"Datastore.Allocate\":1,\"Realm.Allocate\":1,\"Realm.AllocateUser\":1,\"Sys.Modify\":1,\"SDN.Allocate\":1,\"Permissions.Modify\":1,\"VM.Clone\":1},\"/pools\":{\"Datastore.Allocate\":1,\"VM.Snapshot.Rollback\":1,\"VM.Audit\":1,\"Sys.Syslog\":1,\"Sys.Incoming\":1,\"VM.Config.Disk\":1,\"VM.Config.CPU\":1,\"Datastore.AllocateSpace\":1,\"Pool.Allocate\":1,\"Datastore.Audit\":1,\"Sys.Audit\":1,\"VM.Migrate\":1,\"User.Modify\":1,\"VM.Config.HWType\":1,\"Permissions.Modify\":1,\"SDN.Allocate\":1,\"VM.Clone\":1,\"Realm.Allocate\":1,\"Sys.Modify\":1,\"Realm.AllocateUser\":1,\"VM.Allocate\":1,\"VM.Snapshot\":1,\"Pool.Audit\":1,\"Datastore.AllocateTemplate\":1,\"VM.Config.Network\":1,\"Group.Allocate\":1,\"VM.Config.Cloudinit\":1,\"VM.Backup\":1,\"VM.Config.Options\":1,\"VM.Monitor\":1,\"Sys.Console\":1,\"VM.Console\":1,\"SDN.Use\":1,\"SDN.Audit\":1,\"VM.Config.CDROM\":1,\"Sys.PowerMgmt\":1,\"VM.Config.Memory\":1,\"VM.PowerMgmt\":1},\"/\":{\"Sys.Audit\":1,\"Datastore.Audit\":1,\"Pool.Allocate\":1,\"VM.Config.HWType\":1,\"User.Modify\":1,\"VM.Migrate\":1,\"Datastore.AllocateSpace\":1,\"VM.Config.Disk\":1,\"VM.Config.CPU\":1,\"Sys.Incoming\":1,\"Sys.Syslog\":1,\"VM.Audit\":1,\"VM.Snapshot.Rollback\":1,\"Datastore.Allocate\":1,\"Realm.Allocate\":1,\"Realm.AllocateUser\":1,\"Sys.Modify\":1,\"SDN.Allocate\":1,\"Permissions.Modify\":1,\"VM.Clone\":1,\"Group.Allocate\":1,\"VM.Config.Network\":1,\"Datastore.AllocateTemplate\":1,\"VM.Backup\":1,\"VM.Config.Cloudinit\":1,\"VM.Allocate\":1,\"Pool.Audit\":1,\"VM.Snapshot\":1,\"VM.Config.Memory\":1,\"Sys.PowerMgmt\":1,\"VM.PowerMgmt\":1,\"Sys.Console\":1,\"VM.Monitor\":1,\"VM.Config.Options\":1,\"SDN.Audit\":1,\"VM.Config.CDROM\":1,\"SDN.Use\":1,\"VM.Console\":1},\"/nodes\":{\"Realm.Allocate\":1,\"Sys.Modify\":1,\"Realm.AllocateUser\":1,\"Permissions.Modify\":1,\"SDN.Allocate\":1,\"VM.Clone\":1,\"Pool.Allocate\":1,\"Datastore.Audit\":1,\"Sys.Audit\":1,\"VM.Migrate\":1,\"User.Modify\":1,\"VM.Config.HWType\":1,\"Datastore.Allocate\":1,\"VM.Snapshot.Rollback\":1,\"Sys.Syslog\":1,\"VM.Audit\":1,\"VM.Config.Disk\":1,\"Datastore.AllocateSpace\":1,\"VM.Config.CPU\":1,\"Sys.Incoming\":1,\"Sys.PowerMgmt\":1,\"VM.Config.Memory\":1,\"VM.PowerMgmt\":1,\"VM.Config.Options\":1,\"Sys.Console\":1,\"VM.Monitor\":1,\"VM.Console\":1,\"SDN.Use\":1,\"SDN.Audit\":1,\"VM.Config.CDROM\":1,\"Datastore.AllocateTemplate\":1,\"Group.Allocate\":1,\"VM.Config.Network\":1,\"VM.Config.Cloudinit\":1,\"VM.Backup\":1,\"VM.Allocate\":1,\"Pool.Audit\":1,\"VM.Snapshot\":1},\"/storage\":{\"Sys.PowerMgmt\":1,\"VM.Config.Memory\":1,\"VM.PowerMgmt\":1,\"Sys.Console\":1,\"VM.Monitor\":1,\"VM.Config.Options\":1,\"SDN.Use\":1,\"VM.Console\":1,\"VM.Config.CDROM\":1,\"SDN.Audit\":1,\"VM.Config.Network\":1,\"Group.Allocate\":1,\"Datastore.AllocateTemplate\":1,\"VM.Backup\":1,\"VM.Config.Cloudinit\":1,\"VM.Allocate\":1,\"Pool.Audit\":1,\"VM.Snapshot\":1,\"Realm.Allocate\":1,\"Sys.Modify\":1,\"Realm.AllocateUser\":1,\"Permissions.Modify\":1,\"SDN.Allocate\":1,\"VM.Clone\":1,\"Pool.Allocate\":1,\"Sys.Audit\":1,\"Datastore.Audit\":1,\"User.Modify\":1,\"VM.Migrate\":1,\"VM.Config.HWType\":1,\"Sys.Syslog\":1,\"VM.Audit\":1,\"VM.Snapshot.Rollback\":1,\"Datastore.Allocate\":1,\"Sys.Incoming\":1,\"VM.Config.CPU\":1,\"Datastore.AllocateSpace\":1,\"VM.Config.Disk\":1}}}\u001b[0m\n",
      "\n",
      "\u001b[1m> Finished chain.\u001b[0m\n",
      "The user oumaima@pve has permissions to manage various aspects of the system, including VMs, access, SDN, groups, pools, storage, and nodes. \n",
      "\n"
     ]
    }
   ],
   "source": [
    "user_input = (\n",
    "    f\"get permissions of user with id oumaima@pve \"\n",
    ")\n",
    "response = chain.invoke(user_input)\n",
    "\n",
    "print(response['output'])"
   ]
  }
 ],
 "metadata": {
  "kernelspec": {
   "display_name": "Python 3",
   "language": "python",
   "name": "python3"
  },
  "language_info": {
   "codemirror_mode": {
    "name": "ipython",
    "version": 3
   },
   "file_extension": ".py",
   "mimetype": "text/x-python",
   "name": "python",
   "nbconvert_exporter": "python",
   "pygments_lexer": "ipython3",
   "version": "3.12.3"
  }
 },
 "nbformat": 4,
 "nbformat_minor": 2
}
