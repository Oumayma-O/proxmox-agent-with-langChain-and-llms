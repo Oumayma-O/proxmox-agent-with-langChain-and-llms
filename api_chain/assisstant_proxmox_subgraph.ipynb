{
 "cells": [
  {
   "cell_type": "code",
   "execution_count": 66,
   "metadata": {},
   "outputs": [],
   "source": [
    "from langchain_groq import ChatGroq\n",
    "\n",
    "llm = ChatGroq(\n",
    "    model=\"llama-3.1-8b-instant\",\n",
    "    temperature=0,\n",
    "    max_tokens=None,\n",
    "    timeout=None,\n",
    "    max_retries=2,\n",
    "    # other params...\n",
    ")"
   ]
  },
  {
   "cell_type": "code",
   "execution_count": 67,
   "metadata": {},
   "outputs": [],
   "source": [
    "from langchain_core.pydantic_v1 import BaseModel, Field\n",
    "from langchain_core.prompts import ChatPromptTemplate\n",
    "from langchain_core.output_parsers import JsonOutputParser\n",
    "\n",
    "\n",
    "class ClassifyQuestion(BaseModel):\n",
    "    \"\"\"a Boolean value to check whether the question is on topic or not\"\"\"\n",
    "    score : str =Field(\n",
    "        description = \"Question is about proxmox ? If yes -> 'Yes' if not -> 'No\"\n",
    "    )\n",
    "\n",
    "system = \"\"\"You are a grader assessing whether a user's question is on-topic.\\n\n",
    "        Only respond if the question is about one of the following topics:\n",
    "        1. Listing Proxmox node resources (e.g., containers, VMs).\n",
    "        2. Proxmox node resource management (e.g., updating, deleting, creating).\n",
    "        3. Listing, setting, or updating Proxmox node resource configurations.\n",
    "\n",
    "        Examples:\n",
    "        - How will the weather be today? -> No\n",
    "        - List VMs on node 'ns31212248' -> Yes\n",
    "        - Create a VM on node 'Proxmox-Node-HCM' -> Yes\n",
    "\n",
    "        If the question is about these topics, respond with \"Yes\"; otherwise, respond with \"No\".\n",
    "        \"\"\"\n",
    "\n",
    "classify_prompt = ChatPromptTemplate.from_messages(\n",
    "        [\n",
    "            (\"system\", system),\n",
    "            (\"human\", \"User question: {question}\"),\n",
    "        ]\n",
    "    )\n",
    "\n",
    "structured_classifier_llm=llm.with_structured_output(ClassifyQuestion)\n",
    "\n",
    "classifier_chain = classify_prompt | structured_classifier_llm \n"
   ]
  },
  {
   "cell_type": "code",
   "execution_count": 68,
   "metadata": {},
   "outputs": [
    {
     "data": {
      "text/plain": [
       "ClassifyQuestion(score='No')"
      ]
     },
     "execution_count": 68,
     "metadata": {},
     "output_type": "execute_result"
    }
   ],
   "source": [
    "classifier_chain.invoke({\n",
    "    \"question\" : \"Bella Vista what is it \"\n",
    "})"
   ]
  },
  {
   "cell_type": "code",
   "execution_count": 69,
   "metadata": {},
   "outputs": [],
   "source": [
    "from langchain_core.messages import (\n",
    "    BaseMessage,\n",
    ")\n",
    "import operator\n",
    "from typing import Annotated, List,TypedDict\n",
    "\n",
    "\n",
    "class State(TypedDict):\n",
    "    \"\"\"\n",
    "    Represents the state of our graph.\n",
    "\n",
    "    Attributes:\n",
    "        question: question\n",
    "        generation: LLM generation\n",
    "        search: whether to add search\n",
    "        documents: list of documents\n",
    "    \"\"\"\n",
    "\n",
    "    question: str\n",
    "    generation: str \n",
    "    search: str \n",
    "    documents: List[str]\n",
    "    steps: List[str]"
   ]
  },
  {
   "cell_type": "code",
   "execution_count": 70,
   "metadata": {},
   "outputs": [],
   "source": [
    "def supervisor(state:State):\n",
    "    question = state[\"question\"]\n",
    "    result = classifier_chain.invoke({\"question\":question})\n",
    "    score=result.score\n",
    "    if score == \"Yes\":\n",
    "        state[\"search\"]=\"No\"\n",
    "    else:\n",
    "        state[\"search\"]=\"Yes\"\n",
    "    print(f\"QUESTION and GRADE: {question} - {result.score}\")\n",
    "    return state \n",
    "        "
   ]
  },
  {
   "cell_type": "code",
   "execution_count": 71,
   "metadata": {},
   "outputs": [
    {
     "name": "stdout",
     "output_type": "stream",
     "text": [
      "QUESTION and GRADE: What's Bella Vista - No\n"
     ]
    },
    {
     "data": {
      "text/plain": [
       "{'question': \"What's Bella Vista\",\n",
       " 'generation': '',\n",
       " 'search': 'Yes',\n",
       " 'documents': [],\n",
       " 'steps': []}"
      ]
     },
     "execution_count": 71,
     "metadata": {},
     "output_type": "execute_result"
    }
   ],
   "source": [
    "state ={\n",
    "    \"question\" : \"What's Bella Vista\" , \n",
    "    \"generation\" :\"\",\n",
    "    \"search\" : \"No\",\n",
    "    \"documents\" : [],\n",
    "    \"steps\":[]\n",
    "}\n",
    "\n",
    "supervisor(state)"
   ]
  },
  {
   "cell_type": "code",
   "execution_count": 72,
   "metadata": {},
   "outputs": [
    {
     "data": {
      "text/plain": [
       "True"
      ]
     },
     "execution_count": 72,
     "metadata": {},
     "output_type": "execute_result"
    }
   ],
   "source": [
    "from langfuse.callback import CallbackHandler\n",
    "import os\n",
    "from dotenv import load_dotenv\n",
    "\n",
    "load_dotenv()"
   ]
  },
  {
   "cell_type": "code",
   "execution_count": 73,
   "metadata": {},
   "outputs": [],
   "source": [
    "langfuse_handler = CallbackHandler(\n",
    "    public_key=os.getenv('LANGFUSE_PUBLIC_KEY'),\n",
    "    secret_key=os.getenv('LANGFUSE_SECRET_KEY'),\n",
    "    host=os.getenv('LANGFUSE_HOST'),\n",
    ")"
   ]
  },
  {
   "cell_type": "code",
   "execution_count": 74,
   "metadata": {},
   "outputs": [],
   "source": [
    "from langserve_app.app import compiled_graph"
   ]
  },
  {
   "cell_type": "code",
   "execution_count": 75,
   "metadata": {},
   "outputs": [
    {
     "name": "stdout",
     "output_type": "stream",
     "text": [
      "processing_request: Current state: {'messages': [\"list Vms on node 'ns31212248'\"], 'team_members': [], 'next': None}\n",
      "proxmox_router: Current state: {'messages': [\"list Vms on node 'ns31212248'\"], 'team_members': ['Proxmox-Node-HCM', 'ns31212248', 'coral-io-proxmox-lab'], 'next': 'Proxmox-Node-HCM'}\n",
      "Proxmox-Node-HCM / Proxmox-Node-HCM\n",
      "https://ns31418912.ip-54-38-37.eu:8006/\n"
     ]
    },
    {
     "data": {
      "text/plain": [
       "{'messages': [\"list Vms on node 'ns31212248'\",\n",
       "  {'question': \"list Vms on node 'ns31212248'\",\n",
       "   'output': \"The API request to list VMs on node 'ns31212248' failed with a 500 error due to a hostname lookup failure. The node 'ns31212248' could not be found.\"}],\n",
       " 'team_members': ['Proxmox-Node-HCM', 'ns31212248', 'coral-io-proxmox-lab'],\n",
       " 'next': 'Proxmox-Node-HCM'}"
      ]
     },
     "execution_count": 75,
     "metadata": {},
     "output_type": "execute_result"
    }
   ],
   "source": [
    "compiled_graph.invoke({\n",
    "            \"messages\": [\"list Vms on node 'ns31212248'\"],\n",
    "            \"next\": None,\n",
    "            \"team_members\": []\n",
    "        }, config={\"callbacks\": [langfuse_handler]})"
   ]
  },
  {
   "cell_type": "code",
   "execution_count": 76,
   "metadata": {},
   "outputs": [],
   "source": [
    "def proxmox_agent_call(state:State):\n",
    "    question=state[\"question\"]\n",
    "    result= compiled_graph.invoke({\n",
    "            \"messages\": [question],\n",
    "            \"next\": None,\n",
    "            \"team_members\": []\n",
    "        }, config={\"callbacks\": [langfuse_handler]})\n",
    "    state[\"generation\"] = result\n",
    "    steps = state [\"steps\"]\n",
    "    steps.append(\"calling proxmox agent\")\n",
    "    return state "
   ]
  },
  {
   "cell_type": "code",
   "execution_count": 77,
   "metadata": {},
   "outputs": [
    {
     "name": "stdout",
     "output_type": "stream",
     "text": [
      "processing_request: Current state: {'messages': [\"list Vms on node 'ns31212248'\"], 'team_members': [], 'next': None}\n",
      "proxmox_router: Current state: {'messages': [\"list Vms on node 'ns31212248'\"], 'team_members': ['Proxmox-Node-HCM', 'ns31212248', 'coral-io-proxmox-lab'], 'next': 'Proxmox-Node-HCM'}\n",
      "Proxmox-Node-HCM / Proxmox-Node-HCM\n",
      "https://ns31418912.ip-54-38-37.eu:8006/\n"
     ]
    },
    {
     "data": {
      "text/plain": [
       "{'question': \"list Vms on node 'ns31212248'\",\n",
       " 'generation': {'messages': [\"list Vms on node 'ns31212248'\",\n",
       "   {'question': \"list Vms on node 'ns31212248'\",\n",
       "    'output': \"The API request to list VMs on node 'ns31212248' failed with a 500 error due to a hostname lookup failure.\"}],\n",
       "  'team_members': ['Proxmox-Node-HCM', 'ns31212248', 'coral-io-proxmox-lab'],\n",
       "  'next': 'Proxmox-Node-HCM'},\n",
       " 'search': 'No',\n",
       " 'documents': [],\n",
       " 'steps': ['calling proxmox agent']}"
      ]
     },
     "execution_count": 77,
     "metadata": {},
     "output_type": "execute_result"
    }
   ],
   "source": [
    "state ={\n",
    "    \"question\" : \"list Vms on node 'ns31212248'\" , \n",
    "    \"generation\" :\"\",\n",
    "    \"search\" : \"No\",\n",
    "    \"documents\" : [],\n",
    "    \"steps\":[]\n",
    "}\n",
    "\n",
    "proxmox_agent_call(state)"
   ]
  },
  {
   "cell_type": "code",
   "execution_count": 78,
   "metadata": {},
   "outputs": [],
   "source": [
    "from langchain_community.utilities import SearxSearchWrapper\n",
    "\n",
    "searchX = SearxSearchWrapper(searx_host=\"http://localhost:8080\" , k=3)"
   ]
  },
  {
   "cell_type": "code",
   "execution_count": 79,
   "metadata": {},
   "outputs": [
    {
     "name": "stdout",
     "output_type": "stream",
     "text": [
      "('[15] [18] His last name, Obama, was derived from his Luo descent. [19] '\n",
      " \"Obama's parents met in 1960 in a Russian language class at the University of \"\n",
      " \"Hawaiʻi at Mānoa, ... During Obama's first presidential campaign in May \"\n",
      " \"2008, he resigned from Trinity after some of Wright's statements were \"\n",
      " 'criticized. [110] Since moving to Washington, ...\\n'\n",
      " '\\n'\n",
      " 'Barack Obama (born August 4, 1961, Honolulu, Hawaii, U.S.) is the 44th '\n",
      " 'president of the United States (2009–17) and the first African American to '\n",
      " 'hold the office. Before winning the presidency, Obama represented Illinois '\n",
      " 'in the U.S. Senate (2005–08). He was the third African American to be '\n",
      " 'elected to that body since the end of ...\\n'\n",
      " '\\n'\n",
      " \"July 26, 2015 - See the President's daily schedule, explore \"\n",
      " 'behind-the-scenes photos from inside the White House, and find out all the '\n",
      " 'ways you can engage with the most interactive administration in our '\n",
      " \"country's history.\")\n"
     ]
    }
   ],
   "source": [
    "import pprint\n",
    "\n",
    "result = searchX.run(\"Obama's first name?\",engines=[\"wiki\"])\n",
    "pprint.pp(result)"
   ]
  },
  {
   "cell_type": "code",
   "execution_count": 80,
   "metadata": {},
   "outputs": [
    {
     "name": "stdout",
     "output_type": "stream",
     "text": [
      "[{'snippet': '1 week ago - Barack Obama graduated from Punahou School, an '\n",
      "             'elite academy in Honolulu, and then attended Occidental College '\n",
      "             'before transferring to Columbia University and earning (1983) a '\n",
      "             'B.A. in political science. He graduated (1991) magna cum laude '\n",
      "             'from Harvard University’s law school and was the first ...',\n",
      "  'title': 'Barack Obama | Biography, Parents, Education ...',\n",
      "  'link': 'https://www.britannica.com/biography/Barack-Obama',\n",
      "  'engines': ['brave', 'duckduckgo', 'google'],\n",
      "  'category': 'general'},\n",
      " {'snippet': '2 days ago - The selection was slow because ... it was reported '\n",
      "             'that the Obamas had adopted a six-month-old Portuguese Water Dog '\n",
      "             'given to them as a gift by Senator Ted Kennedy; Malia and Sasha '\n",
      "             'named the dog Bo. The White House referred to Bo as the First '\n",
      "             'Dog....',\n",
      "  'title': 'Family of Barack Obama',\n",
      "  'link': 'https://en.wikipedia.org/wiki/Family_of_Barack_Obama',\n",
      "  'engines': ['brave', 'google'],\n",
      "  'category': 'general'},\n",
      " {'snippet': 'Michelle LaVaughn Robinson Obama [1] (née Robinson; born January '\n",
      "             '17, 1964) is an American attorney and author who served as the '\n",
      "             'first lady of the United States from 2009 to 2017, being married '\n",
      "             'to Barack Obama, the 44th president of the United States.. '\n",
      "             'Raised on the South Side of Chicago, Obama is a graduate of '\n",
      "             'Princeton University and Harvard Law School.',\n",
      "  'title': 'Michelle Obama',\n",
      "  'link': 'https://en.wikipedia.org/wiki/Michelle_Obama',\n",
      "  'engines': ['brave', 'duckduckgo', 'google'],\n",
      "  'category': 'general'},\n",
      " {'snippet': '13 hours ago - Obama was also a member of the ... a self-named '\n",
      "             'group of friends who spent time together and smoked marijuana. '\n",
      "             '... After graduating from high school in 1979, Obama moved to '\n",
      "             'Los Angeles to attend Occidental College on a full scholarship. '\n",
      "             'In February 1981, Obama made his first public speech, ...',\n",
      "  'title': 'Barack Obama - Wikipedia',\n",
      "  'link': 'https://en.wikipedia.org/wiki/Barack_Obama',\n",
      "  'engines': ['brave'],\n",
      "  'category': 'general'},\n",
      " {'snippet': 'Barack Hussein Obama was the name he was born with. He '\n",
      "             'unofficially adopted the name Barry Soetero when his mother '\n",
      "             'remarried. As an adult he reclaimed his birth ...',\n",
      "  'title': 'When did Barry Soetoro change his name to Barack Obama?',\n",
      "  'link': 'https://www.quora.com/When-did-Barry-Soetoro-change-his-name-to-Barack-Obama',\n",
      "  'engines': ['google'],\n",
      "  'category': 'general'}]\n"
     ]
    }
   ],
   "source": [
    "import pprint\n",
    "\n",
    "results = searchX .results(\n",
    "    \"Obama's first name?\",\n",
    "    num_results=5,\n",
    "    categories=\"general\",\n",
    "    time_range=\"year\",\n",
    ")\n",
    "pprint.pp(results)"
   ]
  },
  {
   "cell_type": "code",
   "execution_count": 81,
   "metadata": {},
   "outputs": [],
   "source": [
    "def web_search(state: State):\n",
    "    question = state['question']\n",
    "    result = searchX.run(question)\n",
    "    documents = state['documents']\n",
    "    documents.append(result)\n",
    "    steps = state['steps']\n",
    "    steps.append(\"web search\")\n",
    "    return state"
   ]
  },
  {
   "cell_type": "code",
   "execution_count": 82,
   "metadata": {},
   "outputs": [],
   "source": [
    "def off_topic_router(state:State):\n",
    "    search = state['search']\n",
    "    if search == \"Yes\" : \n",
    "        return \"web search\"\n",
    "    else :\n",
    "        return \"proxmox agent\""
   ]
  },
  {
   "cell_type": "code",
   "execution_count": 83,
   "metadata": {},
   "outputs": [],
   "source": [
    "from langgraph.graph import StateGraph, END\n",
    "\n",
    "workflow = StateGraph(State)\n",
    "workflow.add_node(\"supervisor\",supervisor)\n",
    "workflow.add_node(\"proxmox agent\", proxmox_agent_call)\n",
    "workflow.add_node(\"web search\", web_search)\n",
    "\n",
    "\n",
    "workflow.add_edge(\"proxmox agent\",END)\n",
    "workflow.add_edge(\"web search\",END)\n",
    "workflow.add_conditional_edges(\n",
    "                              \"supervisor\",\n",
    "                               off_topic_router,\n",
    "                               {\n",
    "                                   \"web search\":\"web search\",\n",
    "                                   \"proxmox agent\" : \"proxmox agent\"\n",
    "                                }\n",
    "                              )\n",
    "\n",
    "workflow.set_entry_point(\"supervisor\")\n",
    "\n",
    "app = workflow.compile()"
   ]
  },
  {
   "cell_type": "code",
   "execution_count": 84,
   "metadata": {},
   "outputs": [
    {
     "data": {
      "image/jpeg": "[encoded data removed]",
      "text/plain": [
       "<IPython.core.display.Image object>"
      ]
     },
     "metadata": {},
     "output_type": "display_data"
    }
   ],
   "source": [
    "from IPython.display import Image, display\n",
    "\n",
    "display(Image(app.get_graph(xray=True).draw_mermaid_png()))"
   ]
  },
  {
   "cell_type": "code",
   "execution_count": 85,
   "metadata": {},
   "outputs": [
    {
     "name": "stdout",
     "output_type": "stream",
     "text": [
      "QUESTION and GRADE: list Vms on node 'ns31212248' - Yes\n",
      "processing_request: Current state: {'messages': [\"list Vms on node 'ns31212248'\"], 'team_members': [], 'next': None}\n",
      "proxmox_router: Current state: {'messages': [\"list Vms on node 'ns31212248'\"], 'team_members': ['Proxmox-Node-HCM', 'ns31212248', 'coral-io-proxmox-lab'], 'next': 'Proxmox-Node-HCM'}\n",
      "Proxmox-Node-HCM / Proxmox-Node-HCM\n",
      "https://ns31418912.ip-54-38-37.eu:8006/\n"
     ]
    },
    {
     "data": {
      "text/plain": [
       "{'question': \"list Vms on node 'ns31212248'\",\n",
       " 'generation': {'messages': [\"list Vms on node 'ns31212248'\",\n",
       "   {'question': \"list Vms on node 'ns31212248'\",\n",
       "    'output': \"The API request to list VMs on node 'ns31212248' failed with a 500 error due to a hostname lookup failure. The node 'ns31212248' could not be found.\"}],\n",
       "  'team_members': ['Proxmox-Node-HCM', 'ns31212248', 'coral-io-proxmox-lab'],\n",
       "  'next': 'Proxmox-Node-HCM'},\n",
       " 'search': 'No',\n",
       " 'documents': [],\n",
       " 'steps': ['calling proxmox agent']}"
      ]
     },
     "execution_count": 85,
     "metadata": {},
     "output_type": "execute_result"
    }
   ],
   "source": [
    "\n",
    "app.invoke({\n",
    "    \"question\" : \"list Vms on node 'ns31212248'\" , \n",
    "    \"generation\" :\"\",\n",
    "    \"search\" : \"\",\n",
    "    \"documents\" : [],\n",
    "    \"steps\":[]\n",
    "}, config={\"callbacks\": [langfuse_handler]})"
   ]
  }
 ],
 "metadata": {
  "kernelspec": {
   "display_name": "venv",
   "language": "python",
   "name": "python3"
  },
  "language_info": {
   "codemirror_mode": {
    "name": "ipython",
    "version": 3
   },
   "file_extension": ".py",
   "mimetype": "text/x-python",
   "name": "python",
   "nbconvert_exporter": "python",
   "pygments_lexer": "ipython3",
   "version": "3.12.3"
  }
 },
 "nbformat": 4,
 "nbformat_minor": 2
}
