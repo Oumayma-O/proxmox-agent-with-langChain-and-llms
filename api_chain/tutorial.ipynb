{
 "cells": [
  {
   "cell_type": "code",
   "execution_count": 1,
   "metadata": {},
   "outputs": [
    {
     "name": "stderr",
     "output_type": "stream",
     "text": [
      "C:\\Users\\oumay\\AppData\\Roaming\\Python\\Python312\\site-packages\\sentence_transformers\\cross_encoder\\CrossEncoder.py:11: TqdmExperimentalWarning: Using `tqdm.autonotebook.tqdm` in notebook mode. Use `tqdm.tqdm` instead to force console mode (e.g. in jupyter console)\n",
      "  from tqdm.autonotebook import tqdm, trange\n"
     ]
    }
   ],
   "source": [
    "from proxmox.docs import _proxmox_api_docs\n",
    "from langchain.text_splitter import RecursiveJsonSplitter\n",
    "from langchain_community.embeddings.sentence_transformer import SentenceTransformerEmbeddings\n",
    "from typing import Dict, Any\n",
    "from langchain_community.llms import Ollama\n",
    "from proxmox.base import ProxmoxAPIChain\n",
    "from langchain.retrievers import ContextualCompressionRetriever\n",
    "from langchain_community.cross_encoders import HuggingFaceCrossEncoder\n",
    "from langchain.retrievers.document_compressors import CrossEncoderReranker\n",
    "from tqdm import tqdm, trange  \n",
    "import os\n",
    "import hvac\n"
   ]
  },
  {
   "cell_type": "code",
   "execution_count": 2,
   "metadata": {},
   "outputs": [],
   "source": [
    "splitter = RecursiveJsonSplitter(max_chunk_size=4000)\n",
    "docs = splitter.create_documents(_proxmox_api_docs)"
   ]
  },
  {
   "cell_type": "code",
   "execution_count": 3,
   "metadata": {},
   "outputs": [],
   "source": [
    "llm_kwargs: Dict[str, Any] = {\n",
    "    \"model\": \"llama3.1:instruct\",\n",
    "    \"temperature\": 0,\n",
    "    \"num_ctx\": 4096, \n",
    "}\n",
    "\n",
    "llm = Ollama(**llm_kwargs)"
   ]
  },
  {
   "cell_type": "code",
   "execution_count": 4,
   "metadata": {},
   "outputs": [],
   "source": [
    "from langchain_google_genai import ChatGoogleGenerativeAI\n",
    "\n",
    "# Initialize the llm with the new model\n",
    "llm = ChatGoogleGenerativeAI(model=\"gemini-1.5-flash-latest\", temperature=0)"
   ]
  },
  {
   "cell_type": "code",
   "execution_count": 5,
   "metadata": {},
   "outputs": [
    {
     "name": "stderr",
     "output_type": "stream",
     "text": [
      "C:\\Users\\oumay\\AppData\\Local\\Temp\\ipykernel_9784\\2293483164.py:12: DeprecationWarning: The raise_on_deleted_version parameter will change its default value to False in hvac v3.0.0. The current default of True will presere previous behavior. To use the old behavior with no warning, explicitly set this value to True. See https://github.com/hvac/hvac/pull/907\n",
      "  response = client.secrets.kv.v2.read_secret_version(path=secret_path, mount_point=\"kv\")\n"
     ]
    },
    {
     "name": "stdout",
     "output_type": "stream",
     "text": [
      "Accessed Vault secret at users/accounts/api-tokens/proxmox/oumaima.\n",
      "Accessed Vault secret at users/accounts/surrealdb.\n",
      "Accessed Vault secret at users/accounts/surrealdb/oumaima.\n"
     ]
    }
   ],
   "source": [
    "def get_vault_token():\n",
    "    token = os.getenv('VAULT_TOKEN')\n",
    "    if not token:\n",
    "        token = input(\"Vault token: \").strip()\n",
    "        os.environ['VAULT_TOKEN'] = token\n",
    "    return token\n",
    "\n",
    "# Function to access the secret from Vault\n",
    "def access_vault_secret(vault_token, url, secret_path):\n",
    "    try:\n",
    "        client = hvac.Client(url=url, token=vault_token)\n",
    "        response = client.secrets.kv.v2.read_secret_version(path=secret_path, mount_point=\"kv\")\n",
    "        if response:\n",
    "            secret_data = response['data']['data']\n",
    "            print(f\"Accessed Vault secret at {secret_path}.\")\n",
    "            return secret_data\n",
    "        else:\n",
    "            print(f\"Failed to access Vault secret at {secret_path}.\")\n",
    "            return None\n",
    "    except hvac.exceptions.VaultError as e:\n",
    "        print(f\"Request to Vault failed: {e}\")\n",
    "        return None\n",
    "\n",
    "# Get Vault token from environment or prompt\n",
    "vault_token = os.getenv('VAULT_TOKEN') or get_vault_token()\n",
    "\n",
    "# Save Vault token in environment variables if not already set\n",
    "os.environ['VAULT_TOKEN'] = vault_token\n",
    "\n",
    "# Retrieve Vault URL from environment variables\n",
    "vault_url = os.getenv('VAULT_URL')\n",
    "\n",
    "# Paths to secrets in Vault\n",
    "proxmox_secret_path = \"users/accounts/api-tokens/proxmox/oumaima\"\n",
    "surrealdb_url_path = \"users/accounts/surrealdb\"\n",
    "surrealdb_credentials_path = \"users/accounts/surrealdb/oumaima\"\n",
    "\n",
    "# Access Proxmox API token from Vault\n",
    "proxmox_api_token = access_vault_secret(vault_token, vault_url, proxmox_secret_path)\n",
    "if proxmox_api_token:\n",
    "    os.environ['PROXMOX_API_TOKEN'] = proxmox_api_token.get('proxmox-api-token')\n",
    "else:\n",
    "    print(\"Failed to retrieve Proxmox API token.\")\n",
    "\n",
    "# Access SurrealDB URL from Vault\n",
    "surrealdb_url_secret = access_vault_secret(vault_token, vault_url, surrealdb_url_path)\n",
    "if surrealdb_url_secret:\n",
    "    os.environ['SURREALDB_URL'] = surrealdb_url_secret.get('url')\n",
    "else:\n",
    "    print(\"Failed to retrieve SurrealDB URL.\")\n",
    "\n",
    "# Access SurrealDB credentials from Vault\n",
    "surrealdb_credentials_secret = access_vault_secret(vault_token, vault_url, surrealdb_credentials_path)\n",
    "if surrealdb_credentials_secret:\n",
    "    os.environ['SURREALDB_USER'] = surrealdb_credentials_secret.get('user')\n",
    "    os.environ['SURREALDB_PWD'] = surrealdb_credentials_secret.get('password')\n",
    "else:\n",
    "    print(\"Failed to retrieve SurrealDB credentials.\")\n"
   ]
  },
  {
   "cell_type": "code",
   "execution_count": 6,
   "metadata": {},
   "outputs": [],
   "source": [
    "proxmox_api_token = os.getenv('PROXMOX_API_TOKEN')\n",
    "surrealdb_url = os.getenv('SURREALDB_URL')\n",
    "surrealdb_user = os.getenv('SURREALDB_USER')\n",
    "surrealdb_password = os.getenv('SURREALDB_PWD')"
   ]
  },
  {
   "cell_type": "code",
   "execution_count": 7,
   "metadata": {},
   "outputs": [
    {
     "name": "stderr",
     "output_type": "stream",
     "text": [
      "c:\\Python312\\Lib\\site-packages\\langchain_core\\_api\\deprecation.py:139: LangChainDeprecationWarning: The class `HuggingFaceEmbeddings` was deprecated in LangChain 0.2.2 and will be removed in 0.3.0. An updated version of the class exists in the langchain-huggingface package and should be used instead. To use it run `pip install -U langchain-huggingface` and import as `from langchain_huggingface import HuggingFaceEmbeddings`.\n",
      "  warn_deprecated(\n",
      "Some weights of the model checkpoint at infgrad/stella_en_400M_v5 were not used when initializing NewModel: ['new.pooler.dense.bias', 'new.pooler.dense.weight']\n",
      "- This IS expected if you are initializing NewModel from the checkpoint of a model trained on another task or with another architecture (e.g. initializing a BertForSequenceClassification model from a BertForPreTraining model).\n",
      "- This IS NOT expected if you are initializing NewModel from the checkpoint of a model that you expect to be exactly identical (initializing a BertForSequenceClassification model from a BertForSequenceClassification model).\n"
     ]
    }
   ],
   "source": [
    "# Initialize the SentenceTransformerEmbeddings with trust_remote_code=True\n",
    "ef = SentenceTransformerEmbeddings(\n",
    "    model_name=\"infgrad/stella_en_400M_v5\",\n",
    "    model_kwargs={\n",
    "        \"trust_remote_code\": True,\n",
    "    }\n",
    ")"
   ]
  },
  {
   "cell_type": "code",
   "execution_count": 8,
   "metadata": {},
   "outputs": [],
   "source": [
    "import nest_asyncio\n",
    "from surrealdb import Surreal\n",
    "\n",
    "nest_asyncio.apply()\n",
    "\n",
    "# SurrealDB connection parameters\n",
    "dburl = \"ws://localhost:8000/rpc\"\n",
    "ns = \"langchain\"\n",
    "db_name = \"proxmox_api_docs\"\n",
    "collection = \"proxmox_collection\"\n",
    "db_user = surrealdb_user\n",
    "db_pass = surrealdb_password"
   ]
  },
  {
   "cell_type": "code",
   "execution_count": 9,
   "metadata": {},
   "outputs": [],
   "source": [
    "from langchain_community.vectorstores.surrealdb import SurrealDBStore\n",
    "\n",
    "# Initialize the SurrealDBStore with documents\n",
    "db = SurrealDBStore(\n",
    "    embedding_function=ef,\n",
    "    dburl=dburl,\n",
    "    ns=ns,\n",
    "    db=db_name,\n",
    "    collection=collection,\n",
    "    db_user=db_user,\n",
    "    db_pass=db_pass\n",
    ")"
   ]
  },
  {
   "cell_type": "code",
   "execution_count": 11,
   "metadata": {},
   "outputs": [],
   "source": [
    "# this is needed to initialize the underlying async library for SurrealDB\n",
    "await db.initialize()\n",
    "\n",
    "# delete collection from the vectorstore collection if it exists \n",
    "await db.adelete(collection = collection)\n",
    "\n",
    "# add documents to the vectorstore\n",
    "ids = await db.aadd_documents(docs)"
   ]
  },
  {
   "cell_type": "code",
   "execution_count": 12,
   "metadata": {},
   "outputs": [],
   "source": [
    "retriever = db.as_retriever(search_type=\"similarity\", search_kwargs={\"k\": 3})"
   ]
  },
  {
   "cell_type": "code",
   "execution_count": 13,
   "metadata": {},
   "outputs": [],
   "source": [
    "# Initialize the cross-encoder model\n",
    "#cross_encoder_model = HuggingFaceCrossEncoder(model_name=\"BAAI/bge-reranker-base\")\n",
    "cross_encoder_model = HuggingFaceCrossEncoder(model_name=\"cross-encoder/ms-marco-MiniLM-L-6-v2\")\n",
    "compressor = CrossEncoderReranker(model=cross_encoder_model, top_n=3)\n",
    "compression_retriever = ContextualCompressionRetriever(\n",
    "    base_compressor=compressor, base_retriever=retriever\n",
    ")"
   ]
  },
  {
   "cell_type": "code",
   "execution_count": 15,
   "metadata": {},
   "outputs": [
    {
     "name": "stderr",
     "output_type": "stream",
     "text": [
      "c:\\Python312\\Lib\\site-packages\\langchain_core\\_api\\deprecation.py:139: LangChainDeprecationWarning: The class `LLMChain` was deprecated in LangChain 0.1.17 and will be removed in 1.0. Use RunnableSequence, e.g., `prompt | llm` instead.\n",
      "  warn_deprecated(\n"
     ]
    }
   ],
   "source": [
    "chain = ProxmoxAPIChain.from_llm_and_api_docs(\n",
    "    llm,\n",
    "    retriever=compression_retriever,\n",
    "    headers={\"Authorization\": proxmox_api_token},\n",
    "    verbose=True,\n",
    "    limit_to_domains=['https://ns31418912.ip-54-38-37.eu:8006'],\n",
    "    base_url= 'https://ns31418912.ip-54-38-37.eu:8006/',\n",
    ")"
   ]
  },
  {
   "cell_type": "markdown",
   "metadata": {},
   "source": [
    "# Vms management: "
   ]
  },
  {
   "cell_type": "markdown",
   "metadata": {},
   "source": [
    "## LiST available Vms on a proxmoxs node :"
   ]
  },
  {
   "cell_type": "code",
   "execution_count": null,
   "metadata": {},
   "outputs": [
    {
     "name": "stdout",
     "output_type": "stream",
     "text": [
      "\n",
      "\n",
      "\u001b[1m> Entering new ProxmoxAPIChain chain...\u001b[0m\n"
     ]
    },
    {
     "name": "stderr",
     "output_type": "stream",
     "text": [
      "c:\\Python312\\Lib\\site-packages\\langchain_core\\_api\\deprecation.py:139: LangChainDeprecationWarning: The method `BaseRetriever.get_relevant_documents` was deprecated in langchain-core 0.1.46 and will be removed in 0.3.0. Use invoke instead.\n",
      "  warn_deprecated(\n",
      "C:\\Users\\oumay\\AppData\\Roaming\\Python\\Python312\\site-packages\\transformers\\models\\bert\\modeling_bert.py:439: UserWarning: 1Torch was not compiled with flash attention. (Triggered internally at ..\\aten\\src\\ATen\\native\\transformers\\cuda\\sdp_utils.cpp:455.)\n",
      "  attn_output = torch.nn.functional.scaled_dot_product_attention(\n"
     ]
    },
    {
     "name": "stdout",
     "output_type": "stream",
     "text": [
      "Retrieved Document 0: {\"base_url\": \"https://ns31418912.ip-54-38-37.eu:8006/\", \"endpoint\": \"/api2/json/nodes/{node}/qemu\", \"method\": \"get\", \"summary\": \"List Virtual machines (VMs) on a Node\", \"parameters\": [{\"name\": \"node\", \"in\": \"path\", \"required\": true, \"description\": \"Node ID where VMs are located\", \"schema\": {\"type\": \"string\"}}]}\n",
      "Retrieved Document 1: {\"base_url\": \"https://ns31418912.ip-54-38-37.eu:8006/\", \"endpoint\": \"/api2/json/nodes/{node}/qemu/{vmid}/config\", \"method\": \"get\", \"summary\": \"Get Virtual machine/Vm Configuration (config file)\", \"parameters\": [{\"name\": \"node\", \"in\": \"path\", \"required\": true, \"description\": \"Node ID where the VM is located\", \"schema\": {\"type\": \"string\"}}, {\"name\": \"vmid\", \"in\": \"path\", \"required\": true, \"description\": \"ID of the VM\", \"schema\": {\"type\": \"integer\"}}, {\"name\": \"current\", \"in\": \"query\", \"required\": false, \"description\": \"Get current values instead of pending values\", \"schema\": {\"type\": \"boolean\"}}]}\n",
      "Retrieved Document 2: {\"base_url\": \"https://ns31418912.ip-54-38-37.eu:8006/\", \"endpoint\": \"/api2/json/nodes/{node}/lxc\", \"methods\": \"get\", \"summary\": \"List LXC Containers on a Node\", \"description\": \"List all containers available on a node\", \"parameters\": [{\"name\": \"node\", \"in\": \"path\", \"required\": true, \"description\": \"Node ID where LXC containers are located\", \"schema\": {\"type\": \"string\"}}]}\n",
      "Request info: https://ns31418912.ip-54-38-37.eu:8006/api2/json/nodes/Proxmox-Node-HCM/qemu | get | {} \n",
      "\n",
      "Request info: {\n",
      "    \"api_url\": \"/api2/json/nodes/Proxmox-Node-HCM/qemu\",\n",
      "    \"request_method\": \"get\",\n",
      "    \"request_body\": {}\n",
      "}\n",
      "API URL: https://ns31418912.ip-54-38-37.eu:8006//api2/json/nodes/Proxmox-Node-HCM/qemu\n",
      "Request method: GET\n",
      "Request body: {}\n",
      "\u001b[33;1m\u001b[1;3mStatus: 200 OK\n",
      "Response: {\"data\":[{\"mem\":851858843,\"status\":\"running\",\"netin\":45078737,\"maxdisk\":107374182400,\"vmid\":109,\"disk\":0,\"diskread\":0,\"uptime\":926733,\"pid\":2483630,\"diskwrite\":0,\"cpus\":4,\"cpu\":0,\"maxmem\":8589934592,\"netout\":2006393,\"name\":\"PgSQL-Primary\"},{\"vmid\":2000,\"disk\":0,\"diskread\":0,\"pid\":1003406,\"uptime\":3351777,\"cpus\":2,\"cpu\":0,\"diskwrite\":0,\"netout\":1695675513,\"name\":\"NewRelic-GitLab\",\"maxmem\":2147483648,\"mem\":1331063000,\"status\":\"running\",\"netin\":7044254337,\"maxdisk\":34359738368},{\"netin\":0,\"maxdisk\":0,\"mem\":0,\"status\":\"stopped\",\"uptime\":0,\"diskread\":0,\"maxmem\":536870912,\"netout\":0,\"name\":\"VM 10001\",\"diskwrite\":0,\"cpu\":0,\"cpus\":1,\"vmid\":10001,\"disk\":0},{\"diskread\":0,\"uptime\":4730007,\"pid\":1787620,\"diskwrite\":0,\"cpu\":0,\"cpus\":2,\"maxmem\":8589934592,\"netout\":522321710,\"name\":\"test-vault01\",\"vmid\":101,\"disk\":0,\"netin\":1636657508,\"maxdisk\":107374182400,\"mem\":3539325465,\"status\":\"running\"},{\"maxmem\":536870912,\"name\":\"VM 10002\",\"netout\":0,\"diskwrite\":0,\"cpu\":0,\"cpus\":1,\"uptime\":0,\"diskread\":0,\"disk\":0,\"vmid\":10002,\"maxdisk\":0,\"netin\":0,\"status\":\"stopped\",\"mem\":0},{\"diskread\":0,\"pid\":1822073,\"uptime\":1085137,\"cpu\":0,\"cpus\":1,\"diskwrite\":0,\"name\":\"test-mfa\",\"netout\":11089581,\"maxmem\":2147483648,\"vmid\":107,\"disk\":0,\"netin\":557622583,\"maxdisk\":34359738368,\"mem\":765739983,\"status\":\"running\"},{\"vmid\":110,\"disk\":0,\"diskread\":0,\"pid\":3793132,\"uptime\":604400,\"cpus\":4,\"cpu\":0,\"diskwrite\":0,\"name\":\"primary-test\",\"netout\":5178519,\"maxmem\":8589934592,\"mem\":2300143892,\"status\":\"running\",\"netin\":764595458,\"maxdisk\":34359738368},{\"mem\":0,\"status\":\"stopped\",\"netin\":0,\"maxdisk\":34359738368,\"vmid\":9999,\"disk\":0,\"diskread\":0,\"uptime\":0,\"cpu\":0,\"cpus\":2,\"diskwrite\":0,\"name\":\"my-vm\",\"netout\":0,\"maxmem\":2147483648},{\"disk\":0,\"vmid\":108,\"cpu\":0,\"cpus\":4,\"diskwrite\":0,\"netout\":5382095,\"name\":\"PgSQL-IMX-Replicaset\",\"maxmem\":8589934592,\"diskread\":0,\"pid\":1998484,\"uptime\":1040840,\"status\":\"running\",\"mem\":2882667608,\"maxdisk\":107374182400,\"netin\":822521145},{\"status\":\"running\",\"mem\":7184090135,\"maxdisk\":107374182400,\"netin\":197183945,\"disk\":0,\"vmid\":104,\"name\":\"PgSQL-IMX\",\"netout\":22157377,\"maxmem\":8589934592,\"cpu\":0.00252578687252084,\"cpus\":4,\"diskwrite\":0,\"pid\":3748081,\"uptime\":2681242,\"diskread\":0},{\"pid\":3634760,\"uptime\":5272835,\"diskread\":0,\"tags\":\"critical;poc\",\"netout\":458844472,\"name\":\"Mongo-IMX\",\"maxmem\":8489271296,\"cpu\":0,\"cpus\":2,\"diskwrite\":0,\"vmid\":100,\"disk\":0,\"netin\":3228239776,\"maxdisk\":137438953472,\"mem\":4323938106,\"status\":\"running\"},{\"cpu\":0,\"cpus\":1,\"diskwrite\":0,\"name\":\"test-vm\",\"netout\":59373872,\"maxmem\":536870912,\"diskread\":0,\"pid\":2790383,\"uptime\":851468,\"disk\":0,\"vmid\":1001,\"maxdisk\":34359738368,\"netin\":181557409,\"status\":\"running\",\"mem\":20101638},{\"maxdisk\":107374182400,\"netin\":440102034,\"status\":\"running\",\"mem\":1086667196,\"name\":\"SurrealDB-IMX\",\"netout\":122144310,\"maxmem\":4294967296,\"cpu\":0,\"cpus\":4,\"diskwrite\":0,\"pid\":3099455,\"uptime\":2840774,\"diskread\":0,\"disk\":0,\"vmid\":102},{\"mem\":3325817153,\"status\":\"running\",\"netin\":176617488,\"maxdisk\":34359738368,\"vmid\":106,\"disk\":0,\"uptime\":2680554,\"pid\":3751193,\"diskread\":0,\"maxmem\":4294967296,\"name\":\"Ansible-controller\",\"netout\":158415455,\"diskwrite\":0,\"cpus\":2,\"cpu\":0}]}\u001b[0m\n",
      "\n",
      "\u001b[1m> Finished chain.\u001b[0m\n",
      "The VMs on node 'Proxmox-Node-HCM' are: PgSQL-Primary, NewRelic-GitLab, VM 10001, test-vault01, VM 10002, test-mfa, primary-test, my-vm, PgSQL-IMX-Replicaset, PgSQL-IMX, Mongo-IMX, test-vm, SurrealDB-IMX, Ansible-controller. \n",
      "\n"
     ]
    }
   ],
   "source": [
    "user_input = (\n",
    "    f\"list Vms on node 'Proxmox-Node-HCM'\"\n",
    ")\n",
    "response = chain.invoke(user_input)\n",
    "\n",
    "print(response['output'])"
   ]
  },
  {
   "cell_type": "markdown",
   "metadata": {},
   "source": [
    "## Creating a new Vm : "
   ]
  },
  {
   "cell_type": "markdown",
   "metadata": {},
   "source": [
    "### Vm with initial config :"
   ]
  },
  {
   "cell_type": "code",
   "execution_count": null,
   "metadata": {},
   "outputs": [
    {
     "name": "stdout",
     "output_type": "stream",
     "text": [
      "\n",
      "\n",
      "\u001b[1m> Entering new ProxmoxAPIChain chain...\u001b[0m\n",
      "Retrieved Document 0: {\"base_url\": \"https://ns31418912.ip-54-38-37.eu:8006/\", \"endpoint\": \"/api2/json/nodes/{node}/qemu\", \"method\": \"post\", \"summary\": \"Create a Virtual machine (VM) \", \"description\": \"Use this endpoint to create a new virtual machine on the specified node. This endpoint is used for initial creation and can be used for the allocation of resources such as memory, cores, and storage.\", \"parameters\": [{\"name\": \"node\", \"in\": \"path\", \"required\": true, \"description\": \"Node ID where the VM will be created\", \"schema\": {\"type\": \"string\"}}], \"requestBody\": {\"required\": true, \"content\": {\"application/json\": {\"schema\": {\"type\": \"object\", \"properties\": {\"vmid\": {\"type\": \"integer\", \"description\": \"VM ID\"}, \"name\": {\"type\": \"string\", \"description\": \"Name of the VM\"}, \"memory\": {\"type\": \"integer\", \"description\": \"Memory size in MB\"}, \"cores\": {\"type\": \"integer\", \"description\": \"Number of CPU cores\"}, \"ide0\": {\"type\": \"string\", \"description\": \"Disk size and format, e.g., \\\"local:32,format=qcow2\\\"\"}, \"net0\": {\"type\": \"string\", \"description\": \"Network configuration, e.g., \\\"virtio,bridge=vmbr0\\\"\"}, \"ostype\": {\"type\": \"string\", \"description\": \"OS type, e.g., \\\"l26\\\" for Linux\"}}, \"required\": [\"node\", \"vmid\"]}}}}}\n",
      "Retrieved Document 1: {\"base_url\": \"https://ns31418912.ip-54-38-37.eu:8006/\", \"endpoint\": \"/api2/json/nodes/{node}/qemu/{vmid}/config\", \"method\": \"post\", \"summary\": \"Set initial configuration options of a Virtual machine\", \"description\": \"Use this endpoint to set the initial configuration of a new virtual machine. This is useful when you need to define settings such as memory, cores, CPU type, and other parameters for a VM that is being created.\", \"parameters\": [{\"name\": \"node\", \"in\": \"path\", \"required\": true, \"description\": \"The cluster node name\", \"schema\": {\"type\": \"string\"}}, {\"name\": \"vmid\", \"in\": \"path\", \"required\": true, \"description\": \"The (unique) ID of the VM\", \"schema\": {\"type\": \"integer\", \"minimum\": 100, \"maximum\": 999999999}}], \"requestBody\": {\"required\": true, \"content\": {\"application/json\": {\"schema\": {\"type\": \"object\", \"properties\": {\"memory\": {\"type\": \"integer\", \"description\": \"Amount of RAM for the VM in MiB\", \"minimum\": 16}, \"cores\": {\"type\": \"integer\", \"description\": \"Number of cores per socket\", \"minimum\": 1}, \"cpu\": {\"type\": \"string\", \"description\": \"Emulated CPU type\"}, \"name\": {\"type\": \"string\", \"description\": \"Set a name for the VM\"}, \"net\": {\"type\": \"string\", \"description\": \"Specify network devices\"}, \"ostype\": {\"type\": \"string\", \"description\": \"Specify guest operating system\", \"enum\": [\"other\", \"wxp\", \"w2k\", \"w2k3\", \"w2k8\", \"wvista\", \"win7\", \"win8\", \"win10\", \"win11\", \"l24\", \"l26\", \"solaris\", \"opensolaris\", \"netbsd\", \"freebsd\", \"openbsd\"]}, \"disk\": {\"type\": \"string\", \"description\": \"Specify disk size and type, e.g., 'size=10G,ssd=1'\"}, \"boot\": {\"type\": \"string\", \"description\": \"Specify guest boot order, e.g., 'order=cdrom;ide0'\"}}}}}}}\n",
      "Retrieved Document 2: {\"base_url\": \"https://ns31418912.ip-54-38-37.eu:8006/\", \"endpoint\": \"/api2/json/nodes/{node}/qemu/{vmid}/config\", \"method\": \"put\", \"summary\": \"Update virtual machine configuration options\", \"description\": \"Use this endpoint to modify the configuration of an existing virtual machine. This is useful when you need to change settings such as memory, cores, network devices, and other VM parameters for an already running or stopped VM.\", \"parameters\": [{\"name\": \"node\", \"in\": \"path\", \"required\": true, \"description\": \"The cluster node name.\", \"schema\": {\"type\": \"string\"}}, {\"name\": \"vmid\", \"in\": \"path\", \"required\": true, \"description\": \"The (unique) ID of the VM.\", \"schema\": {\"type\": \"integer\", \"minimum\": 100, \"maximum\": 999999999}}], \"requestBody\": {\"required\": true, \"content\": {\"application/json\": {\"schema\": {\"type\": \"object\", \"properties\": {\"acpi\": {\"type\": \"boolean\", \"description\": \"Enable/disable ACPI.\"}, \"agent\": {\"type\": \"string\", \"description\": \"Enable/disable communication with the QEMU Guest Agent and its properties.\"}, \"balloon\": {\"type\": \"integer\", \"description\": \"Amount of target RAM for the VM in MiB. Using zero disables the balloon driver.\"}, \"bios\": {\"type\": \"string\", \"enum\": [\"seabios\", \"ovmf\"], \"description\": \"Select BIOS implementation.\"}, \"cores\": {\"type\": \"integer\", \"description\": \"The number of cores per socket.\"}, \"memory\": {\"type\": \"integer\", \"description\": \"Amount of RAM for the VM in MiB.\"}, \"net0\": {\"type\": \"string\", \"description\": \"Network device configuration, e.g., 'model=e1000,bridge=vmbr0'.\"}, \"sockets\": {\"type\": \"integer\", \"description\": \"The number of CPU sockets.\"}, \"cpu\": {\"type\": \"string\", \"description\": \"Emulated CPU type. Format: [[cputype=]<string>] [,flags=<+FLAG[;-FLAG...]>] [,hidden=<1|0>] [,hv-vendor-id=<vendor-id>] [,phys-bits=<8-64|host>] [,reported-model=<enum>]\"}, \"cpulimit\": {\"type\": \"number\", \"description\": \"Limit of CPU usage. Value '0' indicates no CPU limit.\"}, \"cpuunits\": {\"type\": \"integer\", \"description\": \"CPU weight for a VM. The larger the number, the more CPU time this VM gets. Range: 1 - 262144.\"}, \"ostype\": {\"type\": \"string\", \"enum\": [\"other\", \"wxp\", \"w2k\", \"w2k3\", \"w2k8\", \"wvista\", \"win7\", \"win8\", \"win10\", \"win11\", \"l24\", \"l26\", \"solaris\"], \"description\": \"Specify guest operating system to enable specific optimizations/features.\"}}}}}}}\n",
      "Request info: https://ns31418912.ip-54-38-37.eu:8006/api2/json/nodes/Proxmox-Node-HCM/qemu | post | {\"vmid\": 10000, \"name\": \"test-vm-3\", \"memory\": 512, \"cores\": 1, \"ide0\": \"local:32,format=qcow2\", \"net0\": \"virtio,bridge=vmbr0\", \"ostype\": \"l26\"} \n",
      "\n",
      "Request info: {\n",
      "    \"api_url\": \"/api2/json/nodes/Proxmox-Node-HCM/qemu\",\n",
      "    \"request_method\": \"post\",\n",
      "    \"request_body\": {\n",
      "        \"vmid\": 10000,\n",
      "        \"name\": \"test-vm-3\",\n",
      "        \"memory\": 512,\n",
      "        \"cores\": 1,\n",
      "        \"ide0\": \"local:32,format=qcow2\",\n",
      "        \"net0\": \"virtio,bridge=vmbr0\",\n",
      "        \"ostype\": \"l26\"\n",
      "    }\n",
      "}\n",
      "API URL: https://ns31418912.ip-54-38-37.eu:8006//api2/json/nodes/Proxmox-Node-HCM/qemu\n",
      "Request method: POST\n",
      "Request body: {'vmid': 10000, 'name': 'test-vm-3', 'memory': 512, 'cores': 1, 'ide0': 'local:32,format=qcow2', 'net0': 'virtio,bridge=vmbr0', 'ostype': 'l26'}\n",
      "\u001b[33;1m\u001b[1;3mStatus: 200 OK\n",
      "Response: {\"data\":\"UPID:Proxmox-Node-HCM:001F4548:AFA0E8E4:669E29C7:qmcreate:10000:oumaima@pve!oumaima-token:\"}\u001b[0m\n",
      "\n",
      "\u001b[1m> Finished chain.\u001b[0m\n",
      "The VM was successfully created on node 'Proxmox-Node-HCM' with the provided configuration. \n",
      "\n"
     ]
    }
   ],
   "source": [
    "user_input = (\n",
    "    f\"Create a VM on node 'Proxmox-Node-HCM' with the following configuration :\\n\"\n",
    "    f\"VM ID: 10000\\n\"\n",
    "    f\"Name: test-vm-3\\n\"\n",
    "    f\"Memory: 512 MB\\n\"\n",
    "    f\"Cores: 1\\n\"\n",
    "    f\"Sockets: 1\\n\"\n",
    "    f\"Storage: local\\n\"\n",
    "    f\"ide0: local:32,format=qcow2\\n\"\n",
    "    f\"net0: virtio,bridge=vmbr0\\n\"\n",
    "    f\"OS Type: l26\\n\"\n",
    "    f\"Description: My test VM\\n\"\n",
    "    f\"NUMA: 1\\n\"\n",
    "    f\"KVM: 1\\n\"\n",
    "    f\"Agent: 1\"\n",
    ")\n",
    "\n",
    "response = chain.invoke(user_input)\n",
    "\n",
    "print(response['output'])"
   ]
  },
  {
   "cell_type": "markdown",
   "metadata": {},
   "source": [
    "### Vm with just the required fields : "
   ]
  },
  {
   "cell_type": "code",
   "execution_count": null,
   "metadata": {},
   "outputs": [
    {
     "name": "stdout",
     "output_type": "stream",
     "text": [
      "\n",
      "\n",
      "\u001b[1m> Entering new ProxmoxAPIChain chain...\u001b[0m\n",
      "Retrieved Document 0: {\"base_url\": \"https://ns31418912.ip-54-38-37.eu:8006/\", \"endpoint\": \"/api2/json/nodes/{node}/qemu\", \"method\": \"post\", \"summary\": \"Create a Virtual machine (VM) \", \"description\": \"Use this endpoint to create a new virtual machine on the specified node. This endpoint is used for initial creation and can be used for the allocation of resources such as memory, cores, and storage.\", \"parameters\": [{\"name\": \"node\", \"in\": \"path\", \"required\": true, \"description\": \"Node ID where the VM will be created\", \"schema\": {\"type\": \"string\"}}], \"requestBody\": {\"required\": true, \"content\": {\"application/json\": {\"schema\": {\"type\": \"object\", \"properties\": {\"vmid\": {\"type\": \"integer\", \"description\": \"VM ID\"}, \"name\": {\"type\": \"string\", \"description\": \"Name of the VM\"}, \"memory\": {\"type\": \"integer\", \"description\": \"Memory size in MB\"}, \"cores\": {\"type\": \"integer\", \"description\": \"Number of CPU cores\"}, \"ide0\": {\"type\": \"string\", \"description\": \"Disk size and format, e.g., \\\"local:32,format=qcow2\\\"\"}, \"net0\": {\"type\": \"string\", \"description\": \"Network configuration, e.g., \\\"virtio,bridge=vmbr0\\\"\"}, \"ostype\": {\"type\": \"string\", \"description\": \"OS type, e.g., \\\"l26\\\" for Linux\"}}, \"required\": [\"node\", \"vmid\"]}}}}}\n",
      "Retrieved Document 1: {\"base_url\": \"https://ns31418912.ip-54-38-37.eu:8006/\", \"endpoint\": \"/api2/json/nodes/{node}/qemu/{vmid}/config\", \"method\": \"post\", \"summary\": \"Set initial configuration options of a Virtual machine\", \"description\": \"Use this endpoint to set the initial configuration of a new virtual machine. This is useful when you need to define settings such as memory, cores, CPU type, and other parameters for a VM that is being created.\", \"parameters\": [{\"name\": \"node\", \"in\": \"path\", \"required\": true, \"description\": \"The cluster node name\", \"schema\": {\"type\": \"string\"}}, {\"name\": \"vmid\", \"in\": \"path\", \"required\": true, \"description\": \"The (unique) ID of the VM\", \"schema\": {\"type\": \"integer\", \"minimum\": 100, \"maximum\": 999999999}}], \"requestBody\": {\"required\": true, \"content\": {\"application/json\": {\"schema\": {\"type\": \"object\", \"properties\": {\"memory\": {\"type\": \"integer\", \"description\": \"Amount of RAM for the VM in MiB\", \"minimum\": 16}, \"cores\": {\"type\": \"integer\", \"description\": \"Number of cores per socket\", \"minimum\": 1}, \"cpu\": {\"type\": \"string\", \"description\": \"Emulated CPU type\"}, \"name\": {\"type\": \"string\", \"description\": \"Set a name for the VM\"}, \"net\": {\"type\": \"string\", \"description\": \"Specify network devices\"}, \"ostype\": {\"type\": \"string\", \"description\": \"Specify guest operating system\", \"enum\": [\"other\", \"wxp\", \"w2k\", \"w2k3\", \"w2k8\", \"wvista\", \"win7\", \"win8\", \"win10\", \"win11\", \"l24\", \"l26\", \"solaris\", \"opensolaris\", \"netbsd\", \"freebsd\", \"openbsd\"]}, \"disk\": {\"type\": \"string\", \"description\": \"Specify disk size and type, e.g., 'size=10G,ssd=1'\"}, \"boot\": {\"type\": \"string\", \"description\": \"Specify guest boot order, e.g., 'order=cdrom;ide0'\"}}}}}}}\n",
      "Retrieved Document 2: {\"base_url\": \"https://ns31418912.ip-54-38-37.eu:8006/\", \"endpoint\": \"/api2/json/nodes/{node}/lxc\", \"methods\": \"post\", \"summary\": \"Create LXC Container\", \"parameters\": [{\"name\": \"node\", \"in\": \"path\", \"required\": true, \"description\": \"Node ID where the LXC container will be created\", \"schema\": {\"type\": \"string\"}}], \"requestBody\": {\"required\": true, \"content\": {\"application/json\": {\"schema\": {\"type\": \"object\", \"properties\": {\"vmid\": {\"type\": \"integer\", \"description\": \"Container ID\"}, \"hostname\": {\"type\": \"string\", \"description\": \"Hostname of the container\"}, \"memory\": {\"type\": \"integer\", \"description\": \"Memory size in MB\"}, \"cores\": {\"type\": \"integer\", \"description\": \"Number of CPU cores\"}, \"rootfs\": {\"type\": \"string\", \"description\": \"Root filesystem, e.g., 'local:10' for 10GB\"}, \"net0\": {\"type\": \"string\", \"description\": \"Network configuration, e.g., 'bridge=vmbr0'\"}, \"ostemplate\": {\"type\": \"string\", \"description\": \"OS template for the container\"}}, \"required\": [\"node\", \"vmid\", \"ostemplate\"]}}}}}\n",
      "Request info: https://ns31418912.ip-54-38-37.eu:8006/api2/json/nodes/Proxmox-Node-HCM/qemu | post | {\"vmid\": 2020} \n",
      "\n",
      "Request info: {\n",
      "    \"api_url\": \"/api2/json/nodes/Proxmox-Node-HCM/qemu\",\n",
      "    \"request_method\": \"post\",\n",
      "    \"request_body\": {\n",
      "        \"vmid\": 2020\n",
      "    }\n",
      "}\n",
      "API URL: https://ns31418912.ip-54-38-37.eu:8006//api2/json/nodes/Proxmox-Node-HCM/qemu\n",
      "Request method: POST\n",
      "Request body: {'vmid': 2020}\n",
      "\u001b[33;1m\u001b[1;3mStatus: 200 OK\n",
      "Response: {\"data\":\"UPID:Proxmox-Node-HCM:001F456F:AFA0EAA0:669E29CB:qmcreate:2020:oumaima@pve!oumaima-token:\"}\u001b[0m\n",
      "\n",
      "\u001b[1m> Finished chain.\u001b[0m\n",
      "The VM with ID 2020 has been successfully created on the node 'Proxmox-Node-HCM'. \n",
      "\n"
     ]
    }
   ],
   "source": [
    "user_input = (\n",
    "    f\"Create a Vm on node 'Proxmox-Node-HCM' where Vm ID : 2020\"\n",
    ")\n",
    "\n",
    "response = chain.invoke(user_input)\n",
    "\n",
    "print(response['output'])"
   ]
  },
  {
   "cell_type": "markdown",
   "metadata": {},
   "source": [
    "## Manage Vm Config : "
   ]
  },
  {
   "cell_type": "markdown",
   "metadata": {},
   "source": [
    "### Update Vm config :"
   ]
  },
  {
   "cell_type": "code",
   "execution_count": null,
   "metadata": {},
   "outputs": [
    {
     "name": "stdout",
     "output_type": "stream",
     "text": [
      "\n",
      "\n",
      "\u001b[1m> Entering new ProxmoxAPIChain chain...\u001b[0m\n",
      "Retrieved Document 0: {\"base_url\": \"https://ns31418912.ip-54-38-37.eu:8006/\", \"endpoint\": \"/api2/json/nodes/{node}/qemu/{vmid}/config\", \"method\": \"put\", \"summary\": \"Update virtual machine configuration options\", \"description\": \"Use this endpoint to modify the configuration of an existing virtual machine. This is useful when you need to change settings such as memory, cores, network devices, and other VM parameters for an already running or stopped VM.\", \"parameters\": [{\"name\": \"node\", \"in\": \"path\", \"required\": true, \"description\": \"The cluster node name.\", \"schema\": {\"type\": \"string\"}}, {\"name\": \"vmid\", \"in\": \"path\", \"required\": true, \"description\": \"The (unique) ID of the VM.\", \"schema\": {\"type\": \"integer\", \"minimum\": 100, \"maximum\": 999999999}}], \"requestBody\": {\"required\": true, \"content\": {\"application/json\": {\"schema\": {\"type\": \"object\", \"properties\": {\"acpi\": {\"type\": \"boolean\", \"description\": \"Enable/disable ACPI.\"}, \"agent\": {\"type\": \"string\", \"description\": \"Enable/disable communication with the QEMU Guest Agent and its properties.\"}, \"balloon\": {\"type\": \"integer\", \"description\": \"Amount of target RAM for the VM in MiB. Using zero disables the balloon driver.\"}, \"bios\": {\"type\": \"string\", \"enum\": [\"seabios\", \"ovmf\"], \"description\": \"Select BIOS implementation.\"}, \"cores\": {\"type\": \"integer\", \"description\": \"The number of cores per socket.\"}, \"memory\": {\"type\": \"integer\", \"description\": \"Amount of RAM for the VM in MiB.\"}, \"net0\": {\"type\": \"string\", \"description\": \"Network device configuration, e.g., 'model=e1000,bridge=vmbr0'.\"}, \"sockets\": {\"type\": \"integer\", \"description\": \"The number of CPU sockets.\"}, \"cpu\": {\"type\": \"string\", \"description\": \"Emulated CPU type. Format: [[cputype=]<string>] [,flags=<+FLAG[;-FLAG...]>] [,hidden=<1|0>] [,hv-vendor-id=<vendor-id>] [,phys-bits=<8-64|host>] [,reported-model=<enum>]\"}, \"cpulimit\": {\"type\": \"number\", \"description\": \"Limit of CPU usage. Value '0' indicates no CPU limit.\"}, \"cpuunits\": {\"type\": \"integer\", \"description\": \"CPU weight for a VM. The larger the number, the more CPU time this VM gets. Range: 1 - 262144.\"}, \"ostype\": {\"type\": \"string\", \"enum\": [\"other\", \"wxp\", \"w2k\", \"w2k3\", \"w2k8\", \"wvista\", \"win7\", \"win8\", \"win10\", \"win11\", \"l24\", \"l26\", \"solaris\"], \"description\": \"Specify guest operating system to enable specific optimizations/features.\"}}}}}}}\n",
      "Retrieved Document 1: {\"base_url\": \"https://ns31418912.ip-54-38-37.eu:8006/\", \"endpoint\": \"/api2/json/nodes/{node}/qemu\", \"method\": \"post\", \"summary\": \"Create a Virtual machine (VM) \", \"description\": \"Use this endpoint to create a new virtual machine on the specified node. This endpoint is used for initial creation and can be used for the allocation of resources such as memory, cores, and storage.\", \"parameters\": [{\"name\": \"node\", \"in\": \"path\", \"required\": true, \"description\": \"Node ID where the VM will be created\", \"schema\": {\"type\": \"string\"}}], \"requestBody\": {\"required\": true, \"content\": {\"application/json\": {\"schema\": {\"type\": \"object\", \"properties\": {\"vmid\": {\"type\": \"integer\", \"description\": \"VM ID\"}, \"name\": {\"type\": \"string\", \"description\": \"Name of the VM\"}, \"memory\": {\"type\": \"integer\", \"description\": \"Memory size in MB\"}, \"cores\": {\"type\": \"integer\", \"description\": \"Number of CPU cores\"}, \"ide0\": {\"type\": \"string\", \"description\": \"Disk size and format, e.g., \\\"local:32,format=qcow2\\\"\"}, \"net0\": {\"type\": \"string\", \"description\": \"Network configuration, e.g., \\\"virtio,bridge=vmbr0\\\"\"}, \"ostype\": {\"type\": \"string\", \"description\": \"OS type, e.g., \\\"l26\\\" for Linux\"}}, \"required\": [\"node\", \"vmid\"]}}}}}\n",
      "Retrieved Document 2: {\"base_url\": \"https://ns31418912.ip-54-38-37.eu:8006/\", \"endpoint\": \"/api2/json/nodes/{node}/qemu/{vmid}/config\", \"method\": \"post\", \"summary\": \"Set initial configuration options of a Virtual machine\", \"description\": \"Use this endpoint to set the initial configuration of a new virtual machine. This is useful when you need to define settings such as memory, cores, CPU type, and other parameters for a VM that is being created.\", \"parameters\": [{\"name\": \"node\", \"in\": \"path\", \"required\": true, \"description\": \"The cluster node name\", \"schema\": {\"type\": \"string\"}}, {\"name\": \"vmid\", \"in\": \"path\", \"required\": true, \"description\": \"The (unique) ID of the VM\", \"schema\": {\"type\": \"integer\", \"minimum\": 100, \"maximum\": 999999999}}], \"requestBody\": {\"required\": true, \"content\": {\"application/json\": {\"schema\": {\"type\": \"object\", \"properties\": {\"memory\": {\"type\": \"integer\", \"description\": \"Amount of RAM for the VM in MiB\", \"minimum\": 16}, \"cores\": {\"type\": \"integer\", \"description\": \"Number of cores per socket\", \"minimum\": 1}, \"cpu\": {\"type\": \"string\", \"description\": \"Emulated CPU type\"}, \"name\": {\"type\": \"string\", \"description\": \"Set a name for the VM\"}, \"net\": {\"type\": \"string\", \"description\": \"Specify network devices\"}, \"ostype\": {\"type\": \"string\", \"description\": \"Specify guest operating system\", \"enum\": [\"other\", \"wxp\", \"w2k\", \"w2k3\", \"w2k8\", \"wvista\", \"win7\", \"win8\", \"win10\", \"win11\", \"l24\", \"l26\", \"solaris\", \"opensolaris\", \"netbsd\", \"freebsd\", \"openbsd\"]}, \"disk\": {\"type\": \"string\", \"description\": \"Specify disk size and type, e.g., 'size=10G,ssd=1'\"}, \"boot\": {\"type\": \"string\", \"description\": \"Specify guest boot order, e.g., 'order=cdrom;ide0'\"}}}}}}}\n",
      "Request info: https://ns31418912.ip-54-38-37.eu:8006/api2/json/nodes/Proxmox-Node-HCM/qemu/10000/config | PUT | {\"memory\": 2048, \"cores\": 2, \"cpu\": \"host\", \"name\": \"test-vm\", \"ostype\": \"win10\", \"boot\": \"order=ide0\"} \n",
      "\n",
      "Request info: {\n",
      "    \"api_url\": \"/api2/json/nodes/Proxmox-Node-HCM/qemu/10000/config\",\n",
      "    \"request_method\": \"put\",\n",
      "    \"request_body\": {\n",
      "        \"memory\": 2048,\n",
      "        \"cores\": 2,\n",
      "        \"cpu\": \"host\",\n",
      "        \"name\": \"test-vm\",\n",
      "        \"ostype\": \"win10\",\n",
      "        \"boot\": \"order=ide0\"\n",
      "    }\n",
      "}\n",
      "API URL: https://ns31418912.ip-54-38-37.eu:8006//api2/json/nodes/Proxmox-Node-HCM/qemu/10000/config\n",
      "Request method: PUT\n",
      "Request body: {\"memory\": 2048, \"cores\": 2, \"cpu\": \"host\", \"name\": \"test-vm\", \"ostype\": \"win10\", \"boot\": \"order=ide0\"}\n",
      "\u001b[33;1m\u001b[1;3mStatus: 200 OK\n",
      "Response: {\"data\":null}\u001b[0m\n",
      "\n",
      "\u001b[1m> Finished chain.\u001b[0m\n",
      "The VM configuration has been successfully updated. \n",
      "\n"
     ]
    }
   ],
   "source": [
    "user_input = (\n",
    "    f\"adjust the configuration of the VM with id 10000 on node 'Proxmox-Node-HCM' with memory 2048 MiB, 2 cores, CPU type 'host', name 'test-vm', operating system 'win10', and boot order 'order=ide0'\"\n",
    ")\n",
    "response = chain.invoke(user_input)\n",
    "\n",
    "print(response['output'])\n"
   ]
  },
  {
   "cell_type": "markdown",
   "metadata": {},
   "source": [
    "### Set initial config :"
   ]
  },
  {
   "cell_type": "code",
   "execution_count": null,
   "metadata": {},
   "outputs": [
    {
     "name": "stdout",
     "output_type": "stream",
     "text": [
      "\n",
      "\n",
      "\u001b[1m> Entering new ProxmoxAPIChain chain...\u001b[0m\n",
      "Retrieved Document 0: {\"base_url\": \"https://ns31418912.ip-54-38-37.eu:8006/\", \"endpoint\": \"/api2/json/nodes/{node}/qemu/{vmid}/config\", \"method\": \"post\", \"summary\": \"Set initial configuration options of a Virtual machine\", \"description\": \"Use this endpoint to set the initial configuration of a new virtual machine. This is useful when you need to define settings such as memory, cores, CPU type, and other parameters for a VM that is being created.\", \"parameters\": [{\"name\": \"node\", \"in\": \"path\", \"required\": true, \"description\": \"The cluster node name\", \"schema\": {\"type\": \"string\"}}, {\"name\": \"vmid\", \"in\": \"path\", \"required\": true, \"description\": \"The (unique) ID of the VM\", \"schema\": {\"type\": \"integer\", \"minimum\": 100, \"maximum\": 999999999}}], \"requestBody\": {\"required\": true, \"content\": {\"application/json\": {\"schema\": {\"type\": \"object\", \"properties\": {\"memory\": {\"type\": \"integer\", \"description\": \"Amount of RAM for the VM in MiB\", \"minimum\": 16}, \"cores\": {\"type\": \"integer\", \"description\": \"Number of cores per socket\", \"minimum\": 1}, \"cpu\": {\"type\": \"string\", \"description\": \"Emulated CPU type\"}, \"name\": {\"type\": \"string\", \"description\": \"Set a name for the VM\"}, \"net\": {\"type\": \"string\", \"description\": \"Specify network devices\"}, \"ostype\": {\"type\": \"string\", \"description\": \"Specify guest operating system\", \"enum\": [\"other\", \"wxp\", \"w2k\", \"w2k3\", \"w2k8\", \"wvista\", \"win7\", \"win8\", \"win10\", \"win11\", \"l24\", \"l26\", \"solaris\", \"opensolaris\", \"netbsd\", \"freebsd\", \"openbsd\"]}, \"disk\": {\"type\": \"string\", \"description\": \"Specify disk size and type, e.g., 'size=10G,ssd=1'\"}, \"boot\": {\"type\": \"string\", \"description\": \"Specify guest boot order, e.g., 'order=cdrom;ide0'\"}}}}}}}\n",
      "Retrieved Document 1: {\"base_url\": \"https://ns31418912.ip-54-38-37.eu:8006/\", \"endpoint\": \"/api2/json/nodes/{node}/qemu\", \"method\": \"post\", \"summary\": \"Create a Virtual machine (VM) \", \"description\": \"Use this endpoint to create a new virtual machine on the specified node. This endpoint is used for initial creation and can be used for the allocation of resources such as memory, cores, and storage.\", \"parameters\": [{\"name\": \"node\", \"in\": \"path\", \"required\": true, \"description\": \"Node ID where the VM will be created\", \"schema\": {\"type\": \"string\"}}], \"requestBody\": {\"required\": true, \"content\": {\"application/json\": {\"schema\": {\"type\": \"object\", \"properties\": {\"vmid\": {\"type\": \"integer\", \"description\": \"VM ID\"}, \"name\": {\"type\": \"string\", \"description\": \"Name of the VM\"}, \"memory\": {\"type\": \"integer\", \"description\": \"Memory size in MB\"}, \"cores\": {\"type\": \"integer\", \"description\": \"Number of CPU cores\"}, \"ide0\": {\"type\": \"string\", \"description\": \"Disk size and format, e.g., \\\"local:32,format=qcow2\\\"\"}, \"net0\": {\"type\": \"string\", \"description\": \"Network configuration, e.g., \\\"virtio,bridge=vmbr0\\\"\"}, \"ostype\": {\"type\": \"string\", \"description\": \"OS type, e.g., \\\"l26\\\" for Linux\"}}, \"required\": [\"node\", \"vmid\"]}}}}}\n",
      "Retrieved Document 2: {\"base_url\": \"https://ns31418912.ip-54-38-37.eu:8006/\", \"endpoint\": \"/api2/json/nodes/{node}/qemu/{vmid}/config\", \"method\": \"put\", \"summary\": \"Update virtual machine configuration options\", \"description\": \"Use this endpoint to modify the configuration of an existing virtual machine. This is useful when you need to change settings such as memory, cores, network devices, and other VM parameters for an already running or stopped VM.\", \"parameters\": [{\"name\": \"node\", \"in\": \"path\", \"required\": true, \"description\": \"The cluster node name.\", \"schema\": {\"type\": \"string\"}}, {\"name\": \"vmid\", \"in\": \"path\", \"required\": true, \"description\": \"The (unique) ID of the VM.\", \"schema\": {\"type\": \"integer\", \"minimum\": 100, \"maximum\": 999999999}}], \"requestBody\": {\"required\": true, \"content\": {\"application/json\": {\"schema\": {\"type\": \"object\", \"properties\": {\"acpi\": {\"type\": \"boolean\", \"description\": \"Enable/disable ACPI.\"}, \"agent\": {\"type\": \"string\", \"description\": \"Enable/disable communication with the QEMU Guest Agent and its properties.\"}, \"balloon\": {\"type\": \"integer\", \"description\": \"Amount of target RAM for the VM in MiB. Using zero disables the balloon driver.\"}, \"bios\": {\"type\": \"string\", \"enum\": [\"seabios\", \"ovmf\"], \"description\": \"Select BIOS implementation.\"}, \"cores\": {\"type\": \"integer\", \"description\": \"The number of cores per socket.\"}, \"memory\": {\"type\": \"integer\", \"description\": \"Amount of RAM for the VM in MiB.\"}, \"net0\": {\"type\": \"string\", \"description\": \"Network device configuration, e.g., 'model=e1000,bridge=vmbr0'.\"}, \"sockets\": {\"type\": \"integer\", \"description\": \"The number of CPU sockets.\"}, \"cpu\": {\"type\": \"string\", \"description\": \"Emulated CPU type. Format: [[cputype=]<string>] [,flags=<+FLAG[;-FLAG...]>] [,hidden=<1|0>] [,hv-vendor-id=<vendor-id>] [,phys-bits=<8-64|host>] [,reported-model=<enum>]\"}, \"cpulimit\": {\"type\": \"number\", \"description\": \"Limit of CPU usage. Value '0' indicates no CPU limit.\"}, \"cpuunits\": {\"type\": \"integer\", \"description\": \"CPU weight for a VM. The larger the number, the more CPU time this VM gets. Range: 1 - 262144.\"}, \"ostype\": {\"type\": \"string\", \"enum\": [\"other\", \"wxp\", \"w2k\", \"w2k3\", \"w2k8\", \"wvista\", \"win7\", \"win8\", \"win10\", \"win11\", \"l24\", \"l26\", \"solaris\"], \"description\": \"Specify guest operating system to enable specific optimizations/features.\"}}}}}}}\n",
      "Request info: https://ns31418912.ip-54-38-37.eu:8006/api2/json/nodes/Proxmox-Node-HCM/qemu/2020/config | post | {\"memory\": 512, \"cpu\": \"kvm64\", \"name\": \"test-vm-2020\"} \n",
      "\n",
      "Request info: {\n",
      "    \"api_url\": \"/api2/json/nodes/Proxmox-Node-HCM/qemu/2020/config\",\n",
      "    \"request_method\": \"post\",\n",
      "    \"request_body\": {\n",
      "        \"memory\": 512,\n",
      "        \"cpu\": \"kvm64\",\n",
      "        \"name\": \"test-vm-2020\"\n",
      "    }\n",
      "}\n",
      "API URL: https://ns31418912.ip-54-38-37.eu:8006//api2/json/nodes/Proxmox-Node-HCM/qemu/2020/config\n",
      "Request method: POST\n",
      "Request body: {'memory': 512, 'cpu': 'kvm64', 'name': 'test-vm-2020'}\n",
      "\u001b[33;1m\u001b[1;3mStatus: 200 OK\n",
      "Response: {\"data\":\"UPID:Proxmox-Node-HCM:00265FE7:B04361DC:669FC9B5:qmconfig:2020:oumaima@pve!oumaima-token:\"}\u001b[0m\n",
      "\n",
      "\u001b[1m> Finished chain.\u001b[0m\n",
      "The VM with ID 2020 on node 'Proxmox-Node-HCM' has been successfully configured with the requested settings. \n",
      "\n"
     ]
    }
   ],
   "source": [
    "user_input = (\n",
    "    f\"set the initial configuration of the VM with id 2020 on node 'Proxmox-Node-HCM', memory: 512, cputype: kvm64, name: test-vm-2020\"\n",
    ")\n",
    "response = chain.invoke(user_input)\n",
    "\n",
    "print(response['output'])\n"
   ]
  },
  {
   "cell_type": "markdown",
   "metadata": {},
   "source": [
    "### Display Config :"
   ]
  },
  {
   "cell_type": "code",
   "execution_count": null,
   "metadata": {},
   "outputs": [
    {
     "name": "stdout",
     "output_type": "stream",
     "text": [
      "\n",
      "\n",
      "\u001b[1m> Entering new ProxmoxAPIChain chain...\u001b[0m\n",
      "Retrieved Document 0: {\"base_url\": \"https://ns31418912.ip-54-38-37.eu:8006/\", \"endpoint\": \"/api2/json/nodes/{node}/qemu/{vmid}/config\", \"method\": \"get\", \"summary\": \"Get Virtual machine/Vm Configuration (config file)\", \"parameters\": [{\"name\": \"node\", \"in\": \"path\", \"required\": true, \"description\": \"Node ID where the VM is located\", \"schema\": {\"type\": \"string\"}}, {\"name\": \"vmid\", \"in\": \"path\", \"required\": true, \"description\": \"ID of the VM\", \"schema\": {\"type\": \"integer\"}}, {\"name\": \"current\", \"in\": \"query\", \"required\": false, \"description\": \"Get current values instead of pending values\", \"schema\": {\"type\": \"boolean\"}}]}\n",
      "Retrieved Document 1: {\"base_url\": \"https://ns31418912.ip-54-38-37.eu:8006/\", \"endpoint\": \"/api2/json/nodes/{node}/qemu\", \"method\": \"get\", \"summary\": \"List Virtual machines (VMs) on a Node\", \"parameters\": [{\"name\": \"node\", \"in\": \"path\", \"required\": true, \"description\": \"Node ID where VMs are located\", \"schema\": {\"type\": \"string\"}}]}\n",
      "Retrieved Document 2: {\"base_url\": \"https://ns31418912.ip-54-38-37.eu:8006/\", \"endpoint\": \"/api2/json/nodes/{node}/lxc/{vmid}/config\", \"method\": \"get\", \"summary\": \"Get Lxc container configuration/config \", \"parameters\": [{\"name\": \"node\", \"in\": \"path\", \"required\": true, \"description\": \"The cluster node name\", \"schema\": {\"type\": \"string\"}}, {\"name\": \"vmid\", \"in\": \"path\", \"required\": true, \"description\": \"The (unique) ID of the VM\", \"schema\": {\"type\": \"integer\"}}, {\"name\": \"current\", \"in\": \"query\", \"required\": false, \"description\": \"Get current values (instead of pending values)\", \"schema\": {\"type\": \"boolean\", \"default\": false}}, {\"name\": \"snapshot\", \"in\": \"query\", \"required\": false, \"description\": \"Fetch config values from given snapshot\", \"schema\": {\"type\": \"string\"}}]}\n",
      "Request info: https://ns31418912.ip-54-38-37.eu:8006/api2/json/nodes/Proxmox-Node-HCM/qemu/10000/config | get | {} \n",
      "\n",
      "Request info: {\n",
      "    \"api_url\": \"/api2/json/nodes/Proxmox-Node-HCM/qemu/10000/config\",\n",
      "    \"request_method\": \"get\",\n",
      "    \"request_body\": {}\n",
      "}\n",
      "API URL: https://ns31418912.ip-54-38-37.eu:8006//api2/json/nodes/Proxmox-Node-HCM/qemu/10000/config\n",
      "Request method: GET\n",
      "Request body: {}\n",
      "\u001b[33;1m\u001b[1;3mStatus: 200 OK\n",
      "Response: {\"data\":{\"boot\":\"order=ide0\",\"cores\":2,\"name\":\"test-vm\",\"meta\":\"creation-qemu=7.2.0,ctime=1721641415\",\"cpu\":\"host\",\"smbios1\":\"uuid=7d5e7a29-61f0-43d3-b966-6367d4e5346c\",\"ostype\":\"win10\",\"vmgenid\":\"1a35fa5e-ecdd-4651-8e4b-3fe2c1c70088\",\"ide0\":\"local:10000/vm-10000-disk-0.qcow2,size=32G\",\"digest\":\"2a33551dbc42406078b65c0f7237c81f6c04e2bc\",\"memory\":2048,\"net0\":\"virtio=7A:01:97:E5:D5:2B,bridge=vmbr0\"}}\u001b[0m\n",
      "\n",
      "\u001b[1m> Finished chain.\u001b[0m\n",
      "The configuration of the VM with ID 10000 on node 'Proxmox-Node-HCM' includes details like boot order, number of cores, name, creation information, CPU type, SMBIOS UUID, operating system type, VM generation ID, disk configuration, a unique digest, memory size, and network configuration. \n",
      "\n"
     ]
    }
   ],
   "source": [
    "user_input = (\n",
    "    f\"get the configuration of the Vm with id 10000 on node 'Proxmox-Node-HCM'\"\n",
    ")\n",
    "response = chain.invoke(user_input)\n",
    "\n",
    "print(response['output'])"
   ]
  },
  {
   "cell_type": "code",
   "execution_count": null,
   "metadata": {},
   "outputs": [
    {
     "name": "stdout",
     "output_type": "stream",
     "text": [
      "\n",
      "\n",
      "\u001b[1m> Entering new ProxmoxAPIChain chain...\u001b[0m\n",
      "Retrieved Document 0: {\"base_url\": \"https://ns31418912.ip-54-38-37.eu:8006/\", \"endpoint\": \"/api2/json/nodes/{node}/qemu/{vmid}/config\", \"method\": \"get\", \"summary\": \"Get Virtual machine/Vm Configuration (config file)\", \"parameters\": [{\"name\": \"node\", \"in\": \"path\", \"required\": true, \"description\": \"Node ID where the VM is located\", \"schema\": {\"type\": \"string\"}}, {\"name\": \"vmid\", \"in\": \"path\", \"required\": true, \"description\": \"ID of the VM\", \"schema\": {\"type\": \"integer\"}}, {\"name\": \"current\", \"in\": \"query\", \"required\": false, \"description\": \"Get current values instead of pending values\", \"schema\": {\"type\": \"boolean\"}}]}\n",
      "Retrieved Document 1: {\"base_url\": \"https://ns31418912.ip-54-38-37.eu:8006/\", \"endpoint\": \"/api2/json/nodes/{node}/lxc/{vmid}/config\", \"method\": \"get\", \"summary\": \"Get Lxc container configuration/config \", \"parameters\": [{\"name\": \"node\", \"in\": \"path\", \"required\": true, \"description\": \"The cluster node name\", \"schema\": {\"type\": \"string\"}}, {\"name\": \"vmid\", \"in\": \"path\", \"required\": true, \"description\": \"The (unique) ID of the VM\", \"schema\": {\"type\": \"integer\"}}, {\"name\": \"current\", \"in\": \"query\", \"required\": false, \"description\": \"Get current values (instead of pending values)\", \"schema\": {\"type\": \"boolean\", \"default\": false}}, {\"name\": \"snapshot\", \"in\": \"query\", \"required\": false, \"description\": \"Fetch config values from given snapshot\", \"schema\": {\"type\": \"string\"}}]}\n",
      "Retrieved Document 2: {\"base_url\": \"https://ns31418912.ip-54-38-37.eu:8006/\", \"endpoint\": \"/api2/json/nodes/{node}/qemu\", \"method\": \"get\", \"summary\": \"List Virtual machines (VMs) on a Node\", \"parameters\": [{\"name\": \"node\", \"in\": \"path\", \"required\": true, \"description\": \"Node ID where VMs are located\", \"schema\": {\"type\": \"string\"}}]}\n",
      "Request info: https://ns31418912.ip-54-38-37.eu:8006/api2/json/nodes/Proxmox-Node-HCM/qemu/2020/config | get | {} \n",
      "\n",
      "Request info: {\n",
      "    \"api_url\": \"/api2/json/nodes/Proxmox-Node-HCM/qemu/2020/config\",\n",
      "    \"request_method\": \"get\",\n",
      "    \"request_body\": {}\n",
      "}\n",
      "API URL: https://ns31418912.ip-54-38-37.eu:8006//api2/json/nodes/Proxmox-Node-HCM/qemu/2020/config\n",
      "Request method: GET\n",
      "Request body: {}\n",
      "\u001b[33;1m\u001b[1;3mStatus: 200 OK\n",
      "Response: {\"data\":{\"memory\":512,\"digest\":\"e7c764e750b8a1787038f57e9d610160b8bd7e32\",\"vmgenid\":\"b354c51d-b541-4ec5-b5ac-5b3ba702aa1f\",\"cpu\":\"kvm64\",\"smbios1\":\"uuid=5a8a8c9b-35ac-4ba8-b59b-2269e6228651\",\"name\":\"test-vm-2020\",\"meta\":\"creation-qemu=7.2.0,ctime=1721641419\",\"boot\":\" \"}}\u001b[0m\n",
      "\n",
      "\u001b[1m> Finished chain.\u001b[0m\n",
      "The configuration of the VM with ID 2020 on node 'Proxmox-Node-HCM' has been retrieved successfully. \n",
      "\n"
     ]
    }
   ],
   "source": [
    "user_input = (\n",
    "    f\"get the configuration of the Vm with id 2020 on node 'Proxmox-Node-HCM'\"\n",
    ")\n",
    "response = chain.invoke(user_input)\n",
    "\n",
    "print(response['output'])"
   ]
  },
  {
   "cell_type": "markdown",
   "metadata": {},
   "source": [
    "## Delete Vm :"
   ]
  },
  {
   "cell_type": "code",
   "execution_count": null,
   "metadata": {},
   "outputs": [
    {
     "name": "stdout",
     "output_type": "stream",
     "text": [
      "\n",
      "\n",
      "\u001b[1m> Entering new ProxmoxAPIChain chain...\u001b[0m\n",
      "Retrieved Document 0: {\"base_url\": \"https://ns31418912.ip-54-38-37.eu:8006/\", \"endpoint\": \"/api2/json/nodes/{node}/qemu/{vmid}\", \"method\": \"delete\", \"summary\": \"Delete Virtual machine (VM)\", \"description\": \"Deleting a Virtual machine from a node .\", \"parameters\": [{\"name\": \"node\", \"in\": \"path\", \"required\": true, \"description\": \"Node ID where the VM is located\", \"schema\": {\"type\": \"string\"}}, {\"name\": \"vmid\", \"in\": \"path\", \"required\": true, \"description\": \"ID of the VM to delete\", \"schema\": {\"type\": \"string\"}}]}\n",
      "Retrieved Document 1: {\"base_url\": \"https://ns31418912.ip-54-38-37.eu:8006/\", \"endpoint\": \"/api2/json/nodes/{node}/lxc/{vmid}\", \"methods\": \"delete\", \"summary\": \"Delete LXC Container\", \"description\": \"Deleting a container from a node .\", \"parameters\": [{\"name\": \"node\", \"in\": \"path\", \"required\": true, \"description\": \"Node ID where the LXC container is located\", \"schema\": {\"type\": \"string\"}}, {\"name\": \"vmid\", \"in\": \"path\", \"required\": true, \"description\": \"ID of the LXC container to delete\", \"schema\": {\"type\": \"string\"}}]}\n",
      "Retrieved Document 2: {\"base_url\": \"https://ns31418912.ip-54-38-37.eu:8006/\", \"endpoint\": \"/api2/json/nodes/{node}/qemu\", \"method\": \"get\", \"summary\": \"List Virtual machines (VMs) on a Node\", \"parameters\": [{\"name\": \"node\", \"in\": \"path\", \"required\": true, \"description\": \"Node ID where VMs are located\", \"schema\": {\"type\": \"string\"}}]}\n",
      "Request info: https://ns31418912.ip-54-38-37.eu:8006/api2/json/nodes/Proxmox-Node-HCM/qemu/10000 | DELETE | {} \n",
      "\n",
      "Request info: {\n",
      "    \"api_url\": \"/api2/json/nodes/Proxmox-Node-HCM/qemu/10000\",\n",
      "    \"request_method\": \"delete\",\n",
      "    \"request_body\": {}\n",
      "}\n",
      "API URL: https://ns31418912.ip-54-38-37.eu:8006//api2/json/nodes/Proxmox-Node-HCM/qemu/10000\n",
      "Request method: DELETE\n",
      "Request body: {}\n",
      "\u001b[33;1m\u001b[1;3mStatus: 200 OK\n",
      "Response: {\"data\":\"UPID:Proxmox-Node-HCM:001F45D8:AFA0F414:669E29E4:qmdestroy:10000:oumaima@pve!oumaima-token:\"}\u001b[0m\n",
      "\n",
      "\u001b[1m> Finished chain.\u001b[0m\n",
      "The VM with ID 10000 on node 'Proxmox-Node-HCM' has been successfully deleted. \n",
      "\n"
     ]
    }
   ],
   "source": [
    "user_input = (\n",
    "    f\"delete Vm with id 10000 on node 'Proxmox-Node-HCM'\"\n",
    ")\n",
    "response = chain.invoke(user_input)\n",
    "\n",
    "print(response['output'])"
   ]
  },
  {
   "cell_type": "code",
   "execution_count": null,
   "metadata": {},
   "outputs": [
    {
     "name": "stdout",
     "output_type": "stream",
     "text": [
      "\n",
      "\n",
      "\u001b[1m> Entering new ProxmoxAPIChain chain...\u001b[0m\n",
      "Retrieved Document 0: {\"base_url\": \"https://ns31418912.ip-54-38-37.eu:8006/\", \"endpoint\": \"/api2/json/nodes/{node}/qemu/{vmid}\", \"method\": \"delete\", \"summary\": \"Delete Virtual machine (VM)\", \"description\": \"Deleting a Virtual machine from a node .\", \"parameters\": [{\"name\": \"node\", \"in\": \"path\", \"required\": true, \"description\": \"Node ID where the VM is located\", \"schema\": {\"type\": \"string\"}}, {\"name\": \"vmid\", \"in\": \"path\", \"required\": true, \"description\": \"ID of the VM to delete\", \"schema\": {\"type\": \"string\"}}]}\n",
      "Retrieved Document 1: {\"base_url\": \"https://ns31418912.ip-54-38-37.eu:8006/\", \"endpoint\": \"/api2/json/nodes/{node}/lxc/{vmid}\", \"methods\": \"delete\", \"summary\": \"Delete LXC Container\", \"description\": \"Deleting a container from a node .\", \"parameters\": [{\"name\": \"node\", \"in\": \"path\", \"required\": true, \"description\": \"Node ID where the LXC container is located\", \"schema\": {\"type\": \"string\"}}, {\"name\": \"vmid\", \"in\": \"path\", \"required\": true, \"description\": \"ID of the LXC container to delete\", \"schema\": {\"type\": \"string\"}}]}\n",
      "Retrieved Document 2: {\"base_url\": \"https://ns31418912.ip-54-38-37.eu:8006/\", \"endpoint\": \"/api2/json/nodes/{node}/qemu\", \"method\": \"get\", \"summary\": \"List Virtual machines (VMs) on a Node\", \"parameters\": [{\"name\": \"node\", \"in\": \"path\", \"required\": true, \"description\": \"Node ID where VMs are located\", \"schema\": {\"type\": \"string\"}}]}\n"
     ]
    },
    {
     "name": "stderr",
     "output_type": "stream",
     "text": [
      "Retrying langchain_google_genai.chat_models._chat_with_retry.<locals>._chat_with_retry in 2.0 seconds as it raised ResourceExhausted: 429 Resource has been exhausted (e.g. check quota)..\n",
      "Retrying langchain_google_genai.chat_models._chat_with_retry.<locals>._chat_with_retry in 4.0 seconds as it raised ResourceExhausted: 429 Resource has been exhausted (e.g. check quota)..\n",
      "Retrying langchain_google_genai.chat_models._chat_with_retry.<locals>._chat_with_retry in 8.0 seconds as it raised ResourceExhausted: 429 Resource has been exhausted (e.g. check quota)..\n",
      "Retrying langchain_google_genai.chat_models._chat_with_retry.<locals>._chat_with_retry in 16.0 seconds as it raised ResourceExhausted: 429 Resource has been exhausted (e.g. check quota)..\n"
     ]
    },
    {
     "name": "stdout",
     "output_type": "stream",
     "text": [
      "Request info: https://ns31418912.ip-54-38-37.eu:8006/api2/json/nodes/Proxmox-Node-HCM/qemu/2020 | DELETE | {} \n",
      "\n",
      "API URL: https://ns31418912.ip-54-38-37.eu:8006/api2/json/nodes/Proxmox-Node-HCM/qemu/2020\n",
      "Request method: DELETE\n",
      "Request body: {}\n",
      "\u001b[33;1m\u001b[1;3mStatus: 200 OK\n",
      "Response: {\"data\":\"UPID:Proxmox-Node-HCM:001F466C:AFA101B0:669E2A06:qmdestroy:2020:oumaima@pve!oumaima-token:\"}\u001b[0m\n",
      "\n",
      "\u001b[1m> Finished chain.\u001b[0m\n",
      "The API successfully deleted the VM with ID 2020 on the node 'Proxmox-Node-HCM'. \n",
      "\n"
     ]
    }
   ],
   "source": [
    "user_input = (\n",
    "    f\"delete Vm with id 2020 on node 'Proxmox-Node-HCM'\"\n",
    ")\n",
    "response = chain.invoke(user_input)\n",
    "\n",
    "print(response['output'])"
   ]
  },
  {
   "cell_type": "markdown",
   "metadata": {},
   "source": [
    "# Containers Management :"
   ]
  },
  {
   "cell_type": "markdown",
   "metadata": {},
   "source": [
    "## List all available containers :"
   ]
  },
  {
   "cell_type": "code",
   "execution_count": null,
   "metadata": {},
   "outputs": [
    {
     "name": "stdout",
     "output_type": "stream",
     "text": [
      "\n",
      "\n",
      "\u001b[1m> Entering new ProxmoxAPIChain chain...\u001b[0m\n",
      "Retrieved Document 0: {\"base_url\": \"https://ns31418912.ip-54-38-37.eu:8006/\", \"endpoint\": \"/api2/json/nodes/{node}/lxc\", \"methods\": \"get\", \"summary\": \"List LXC Containers on a Node\", \"description\": \"List all containers available on a node\", \"parameters\": [{\"name\": \"node\", \"in\": \"path\", \"required\": true, \"description\": \"Node ID where LXC containers are located\", \"schema\": {\"type\": \"string\"}}]}\n",
      "Retrieved Document 1: {\"base_url\": \"https://ns31418912.ip-54-38-37.eu:8006/\", \"endpoint\": \"/api2/json/nodes/{node}/lxc/{vmid}/config\", \"method\": \"put\", \"summary\": \"Set container configuration (config file)\", \"description\": \"Modify or set the configuration of an LXC container identified by {vmid} on the specified {node}.\", \"parameters\": [{\"name\": \"node\", \"in\": \"path\", \"required\": true, \"description\": \"The cluster node name\", \"schema\": {\"type\": \"string\"}}, {\"name\": \"vmid\", \"in\": \"path\", \"required\": true, \"description\": \"The (unique) ID of the VM\", \"schema\": {\"type\": \"integer\"}}], \"requestBody\": {\"required\": true, \"content\": {\"application/json\": {\"schema\": {\"type\": \"object\", \"properties\": {\"arch\": {\"type\": \"string\", \"enum\": [\"amd64\", \"i386\", \"arm64\", \"armhf\", \"riscv32\", \"riscv64\"], \"description\": \"OS architecture type\"}, \"cmode\": {\"type\": \"string\", \"enum\": [\"shell\", \"console\", \"tty\"], \"description\": \"Console mode\"}, \"console\": {\"type\": \"boolean\", \"description\": \"Attach a console device (/dev/console) to the container\"}, \"cores\": {\"type\": \"integer\", \"description\": \"The number of cores assigned to the container\"}, \"cpulimit\": {\"type\": \"number\", \"description\": \"Limit of CPU usage\"}, \"cpuunits\": {\"type\": \"integer\", \"description\": \"CPU weight for a container\"}, \"debug\": {\"type\": \"boolean\", \"description\": \"Try to be more verbose\"}, \"delete\": {\"type\": \"string\", \"description\": \"A list of settings you want to delete\"}, \"description\": {\"type\": \"string\", \"description\": \"Description for the Container\"}, \"dev[n]\": {\"type\": \"string\", \"description\": \"Device to pass through to the container\"}, \"digest\": {\"type\": \"string\", \"description\": \"Prevent changes if current configuration file has different SHA1 digest\"}, \"features\": {\"type\": \"string\", \"description\": \"Allow containers access to advanced features\"}, \"hookscript\": {\"type\": \"string\", \"description\": \"Script that will be executed during various steps in the container's lifetime\"}, \"hostname\": {\"type\": \"string\", \"description\": \"Set a host name for the container\"}, \"lock\": {\"type\": \"string\", \"enum\": [\"backup\", \"create\", \"destroyed\", \"disk\", \"fstrim\", \"migrate\", \"mounted\", \"rollback\", \"snapshot\", \"snapshot-delete\"], \"description\": \"Lock/unlock the container\"}, \"memory\": {\"type\": \"integer\", \"description\": \"Amount of RAM for the container in MB\"}, \"mp[n]\": {\"type\": \"string\", \"description\": \"Use volume as container mount point\"}, \"nameserver\": {\"type\": \"string\", \"description\": \"Sets DNS server IP address for a container\"}, \"net[n]\": {\"type\": \"string\", \"description\": \"Specifies network interfaces for the container\"}, \"onboot\": {\"type\": \"boolean\", \"description\": \"Specifies whether a container will be started during system bootup\"}, \"ostype\": {\"type\": \"string\", \"enum\": [\"debian\", \"devuan\", \"ubuntu\", \"centos\", \"fedora\", \"opensuse\", \"archlinux\", \"alpine\", \"gentoo\", \"nixos\", \"unmanaged\"], \"description\": \"OS type\"}, \"protection\": {\"type\": \"boolean\", \"description\": \"Sets the protection flag of the container\"}, \"revert\": {\"type\": \"string\", \"description\": \"Revert a pending change\"}, \"rootfs\": {\"type\": \"string\", \"description\": \"Use volume as container root\"}, \"searchdomain\": {\"type\": \"string\", \"description\": \"Sets DNS search domains for a container\"}, \"startup\": {\"type\": \"string\", \"description\": \"Startup and shutdown behavior\"}, \"swap\": {\"type\": \"integer\", \"description\": \"Amount of SWAP for the container in MB\"}, \"tags\": {\"type\": \"string\", \"description\": \"Tags of the Container\"}, \"template\": {\"type\": \"boolean\", \"description\": \"Enable/disable Template\"}, \"timezone\": {\"type\": \"string\", \"description\": \"Time zone to use in the container\"}, \"tty\": {\"type\": \"integer\", \"description\": \"Specify the number of tty available to the container\"}, \"unprivileged\": {\"type\": \"boolean\", \"description\": \"Makes the container run as unprivileged user\"}, \"unused[n]\": {\"type\": \"string\", \"description\": \"Reference to unused volumes\"}}}}}}}\n",
      "Retrieved Document 2: {\"base_url\": \"https://ns31418912.ip-54-38-37.eu:8006/\", \"endpoint\": \"/api2/json/nodes/{node}/qemu\", \"method\": \"get\", \"summary\": \"List Virtual machines (VMs) on a Node\", \"parameters\": [{\"name\": \"node\", \"in\": \"path\", \"required\": true, \"description\": \"Node ID where VMs are located\", \"schema\": {\"type\": \"string\"}}]}\n",
      "Request info: https://ns31418912.ip-54-38-37.eu:8006/api2/json/nodes/Proxmox-Node-HCM/lxc | get | {} \n",
      "\n",
      "Request info: {\n",
      "    \"api_url\": \"/api2/json/nodes/Proxmox-Node-HCM/lxc\",\n",
      "    \"request_method\": \"get\",\n",
      "    \"request_body\": {}\n",
      "}\n",
      "API URL: https://ns31418912.ip-54-38-37.eu:8006//api2/json/nodes/Proxmox-Node-HCM/lxc\n",
      "Request method: GET\n",
      "Request body: {}\n",
      "\u001b[33;1m\u001b[1;3mStatus: 200 OK\n",
      "Response: {\"data\":[{\"maxswap\":2145386496,\"mem\":208510976,\"status\":\"running\",\"type\":\"lxc\",\"netin\":4458428760,\"maxdisk\":137266794496,\"vmid\":\"1000\",\"swap\":159744,\"disk\":73435000832,\"pid\":3629214,\"uptime\":5273896,\"diskread\":1412993024,\"tags\":\"critical\",\"name\":\"Gateway-Node\",\"netout\":2636700441,\"maxmem\":4294967296,\"cpu\":0,\"cpus\":2,\"diskwrite\":22566961152},{\"vmid\":\"103\",\"disk\":793268224,\"swap\":0,\"uptime\":4814896,\"pid\":1412430,\"tags\":\"critical\",\"diskread\":354500608,\"maxmem\":536870912,\"netout\":2291914,\"name\":\"DHCP-SERVER\",\"diskwrite\":592830464,\"cpu\":0,\"cpus\":1,\"mem\":102518784,\"maxswap\":536870912,\"status\":\"running\",\"type\":\"lxc\",\"netin\":233872045,\"maxdisk\":8350298112},{\"vmid\":\"3002\",\"disk\":2234408960,\"swap\":77824,\"uptime\":15549915,\"pid\":2182249,\"tags\":\"poc\",\"diskread\":1319997440,\"maxmem\":2145386496,\"name\":\"pdns-test\",\"netout\":127279173,\"diskwrite\":11624950784,\"cpu\":0,\"cpus\":1,\"mem\":370040832,\"maxswap\":1073741824,\"status\":\"running\",\"type\":\"lxc\",\"netin\":2708772133,\"maxdisk\":8350298112},{\"mem\":2294165504,\"maxswap\":33554432000,\"status\":\"running\",\"type\":\"lxc\",\"netin\":15783760643,\"maxdisk\":67318312960,\"vmid\":\"105\",\"disk\":43663233024,\"swap\":2596864,\"uptime\":4740382,\"pid\":1717477,\"diskread\":19498590208,\"maxmem\":33554432000,\"netout\":361582657,\"name\":\"LocalAI\",\"diskwrite\":210368397312,\"cpu\":0,\"cpus\":32}]}\u001b[0m\n",
      "\n",
      "\u001b[1m> Finished chain.\u001b[0m\n",
      "The containers on node 'Proxmox-Node-HCM' are: LocalAI, pdns-test, Gateway-Node, and DHCP-SERVER. \n",
      "\n"
     ]
    }
   ],
   "source": [
    "user_input = (\n",
    "    f\"list all containers on node 'Proxmox-Node-HCM'\"\n",
    ")\n",
    "response = chain.invoke(user_input)\n",
    "\n",
    "print(response['output'])"
   ]
  },
  {
   "cell_type": "markdown",
   "metadata": {},
   "source": [
    "## Create Container :"
   ]
  },
  {
   "cell_type": "markdown",
   "metadata": {},
   "source": [
    "### New container with initial config :"
   ]
  },
  {
   "cell_type": "code",
   "execution_count": null,
   "metadata": {},
   "outputs": [
    {
     "name": "stdout",
     "output_type": "stream",
     "text": [
      "\n",
      "\n",
      "\u001b[1m> Entering new ProxmoxAPIChain chain...\u001b[0m\n",
      "Retrieved Document 0: {\"base_url\": \"https://ns31418912.ip-54-38-37.eu:8006/\", \"endpoint\": \"/api2/json/nodes/{node}/lxc\", \"methods\": \"post\", \"summary\": \"Create LXC Container\", \"parameters\": [{\"name\": \"node\", \"in\": \"path\", \"required\": true, \"description\": \"Node ID where the LXC container will be created\", \"schema\": {\"type\": \"string\"}}], \"requestBody\": {\"required\": true, \"content\": {\"application/json\": {\"schema\": {\"type\": \"object\", \"properties\": {\"vmid\": {\"type\": \"integer\", \"description\": \"Container ID\"}, \"hostname\": {\"type\": \"string\", \"description\": \"Hostname of the container\"}, \"memory\": {\"type\": \"integer\", \"description\": \"Memory size in MB\"}, \"cores\": {\"type\": \"integer\", \"description\": \"Number of CPU cores\"}, \"rootfs\": {\"type\": \"string\", \"description\": \"Root filesystem, e.g., 'local:10' for 10GB\"}, \"net0\": {\"type\": \"string\", \"description\": \"Network configuration, e.g., 'bridge=vmbr0'\"}, \"ostemplate\": {\"type\": \"string\", \"description\": \"OS template for the container\"}}, \"required\": [\"node\", \"vmid\", \"ostemplate\"]}}}}}\n",
      "Retrieved Document 1: {\"base_url\": \"https://ns31418912.ip-54-38-37.eu:8006/\", \"endpoint\": \"/api2/json/nodes/{node}/qemu\", \"method\": \"post\", \"summary\": \"Create a Virtual machine (VM) \", \"description\": \"Use this endpoint to create a new virtual machine on the specified node. This endpoint is used for initial creation and can be used for the allocation of resources such as memory, cores, and storage.\", \"parameters\": [{\"name\": \"node\", \"in\": \"path\", \"required\": true, \"description\": \"Node ID where the VM will be created\", \"schema\": {\"type\": \"string\"}}], \"requestBody\": {\"required\": true, \"content\": {\"application/json\": {\"schema\": {\"type\": \"object\", \"properties\": {\"vmid\": {\"type\": \"integer\", \"description\": \"VM ID\"}, \"name\": {\"type\": \"string\", \"description\": \"Name of the VM\"}, \"memory\": {\"type\": \"integer\", \"description\": \"Memory size in MB\"}, \"cores\": {\"type\": \"integer\", \"description\": \"Number of CPU cores\"}, \"ide0\": {\"type\": \"string\", \"description\": \"Disk size and format, e.g., \\\"local:32,format=qcow2\\\"\"}, \"net0\": {\"type\": \"string\", \"description\": \"Network configuration, e.g., \\\"virtio,bridge=vmbr0\\\"\"}, \"ostype\": {\"type\": \"string\", \"description\": \"OS type, e.g., \\\"l26\\\" for Linux\"}}, \"required\": [\"node\", \"vmid\"]}}}}}\n",
      "Retrieved Document 2: {\"base_url\": \"https://ns31418912.ip-54-38-37.eu:8006/\", \"endpoint\": \"/api2/json/nodes/{node}/lxc/{vmid}/config\", \"method\": \"put\", \"summary\": \"Set container configuration (config file)\", \"description\": \"Modify or set the configuration of an LXC container identified by {vmid} on the specified {node}.\", \"parameters\": [{\"name\": \"node\", \"in\": \"path\", \"required\": true, \"description\": \"The cluster node name\", \"schema\": {\"type\": \"string\"}}, {\"name\": \"vmid\", \"in\": \"path\", \"required\": true, \"description\": \"The (unique) ID of the VM\", \"schema\": {\"type\": \"integer\"}}], \"requestBody\": {\"required\": true, \"content\": {\"application/json\": {\"schema\": {\"type\": \"object\", \"properties\": {\"arch\": {\"type\": \"string\", \"enum\": [\"amd64\", \"i386\", \"arm64\", \"armhf\", \"riscv32\", \"riscv64\"], \"description\": \"OS architecture type\"}, \"cmode\": {\"type\": \"string\", \"enum\": [\"shell\", \"console\", \"tty\"], \"description\": \"Console mode\"}, \"console\": {\"type\": \"boolean\", \"description\": \"Attach a console device (/dev/console) to the container\"}, \"cores\": {\"type\": \"integer\", \"description\": \"The number of cores assigned to the container\"}, \"cpulimit\": {\"type\": \"number\", \"description\": \"Limit of CPU usage\"}, \"cpuunits\": {\"type\": \"integer\", \"description\": \"CPU weight for a container\"}, \"debug\": {\"type\": \"boolean\", \"description\": \"Try to be more verbose\"}, \"delete\": {\"type\": \"string\", \"description\": \"A list of settings you want to delete\"}, \"description\": {\"type\": \"string\", \"description\": \"Description for the Container\"}, \"dev[n]\": {\"type\": \"string\", \"description\": \"Device to pass through to the container\"}, \"digest\": {\"type\": \"string\", \"description\": \"Prevent changes if current configuration file has different SHA1 digest\"}, \"features\": {\"type\": \"string\", \"description\": \"Allow containers access to advanced features\"}, \"hookscript\": {\"type\": \"string\", \"description\": \"Script that will be executed during various steps in the container's lifetime\"}, \"hostname\": {\"type\": \"string\", \"description\": \"Set a host name for the container\"}, \"lock\": {\"type\": \"string\", \"enum\": [\"backup\", \"create\", \"destroyed\", \"disk\", \"fstrim\", \"migrate\", \"mounted\", \"rollback\", \"snapshot\", \"snapshot-delete\"], \"description\": \"Lock/unlock the container\"}, \"memory\": {\"type\": \"integer\", \"description\": \"Amount of RAM for the container in MB\"}, \"mp[n]\": {\"type\": \"string\", \"description\": \"Use volume as container mount point\"}, \"nameserver\": {\"type\": \"string\", \"description\": \"Sets DNS server IP address for a container\"}, \"net[n]\": {\"type\": \"string\", \"description\": \"Specifies network interfaces for the container\"}, \"onboot\": {\"type\": \"boolean\", \"description\": \"Specifies whether a container will be started during system bootup\"}, \"ostype\": {\"type\": \"string\", \"enum\": [\"debian\", \"devuan\", \"ubuntu\", \"centos\", \"fedora\", \"opensuse\", \"archlinux\", \"alpine\", \"gentoo\", \"nixos\", \"unmanaged\"], \"description\": \"OS type\"}, \"protection\": {\"type\": \"boolean\", \"description\": \"Sets the protection flag of the container\"}, \"revert\": {\"type\": \"string\", \"description\": \"Revert a pending change\"}, \"rootfs\": {\"type\": \"string\", \"description\": \"Use volume as container root\"}, \"searchdomain\": {\"type\": \"string\", \"description\": \"Sets DNS search domains for a container\"}, \"startup\": {\"type\": \"string\", \"description\": \"Startup and shutdown behavior\"}, \"swap\": {\"type\": \"integer\", \"description\": \"Amount of SWAP for the container in MB\"}, \"tags\": {\"type\": \"string\", \"description\": \"Tags of the Container\"}, \"template\": {\"type\": \"boolean\", \"description\": \"Enable/disable Template\"}, \"timezone\": {\"type\": \"string\", \"description\": \"Time zone to use in the container\"}, \"tty\": {\"type\": \"integer\", \"description\": \"Specify the number of tty available to the container\"}, \"unprivileged\": {\"type\": \"boolean\", \"description\": \"Makes the container run as unprivileged user\"}, \"unused[n]\": {\"type\": \"string\", \"description\": \"Reference to unused volumes\"}}}}}}}\n",
      "Request info: https://ns31418912.ip-54-38-37.eu:8006/api2/json/nodes/Proxmox-Node-HCM/lxc | post | {\"vmid\": 1010, \"hostname\": \"my-container\", \"memory\": 512, \"cores\": 1, \"rootfs\": \"local:10\", \"net0\": \"name=eth0,bridge=vmbr0\", \"ostemplate\": \"local:vztmpl/ubuntu-22.04-standard_22.04-1_amd64.tar.zst\"} \n",
      "\n",
      "Request info: {\n",
      "    \"api_url\": \"/api2/json/nodes/Proxmox-Node-HCM/lxc\",\n",
      "    \"request_method\": \"post\",\n",
      "    \"request_body\": {\n",
      "        \"vmid\": 1010,\n",
      "        \"hostname\": \"my-container\",\n",
      "        \"memory\": 512,\n",
      "        \"cores\": 1,\n",
      "        \"rootfs\": \"local:10\",\n",
      "        \"net0\": \"name=eth0,bridge=vmbr0\",\n",
      "        \"ostemplate\": \"local:vztmpl/ubuntu-22.04-standard_22.04-1_amd64.tar.zst\"\n",
      "    }\n",
      "}\n",
      "API URL: https://ns31418912.ip-54-38-37.eu:8006//api2/json/nodes/Proxmox-Node-HCM/lxc\n",
      "Request method: POST\n",
      "Request body: {'vmid': 1010, 'hostname': 'my-container', 'memory': 512, 'cores': 1, 'rootfs': 'local:10', 'net0': 'name=eth0,bridge=vmbr0', 'ostemplate': 'local:vztmpl/ubuntu-22.04-standard_22.04-1_amd64.tar.zst'}\n",
      "\u001b[33;1m\u001b[1;3mStatus: 200 OK\n",
      "Response: {\"data\":\"UPID:Proxmox-Node-HCM:001F46A5:AFA105A5:669E2A11:vzcreate:1010:oumaima@pve!oumaima-token:\"}\u001b[0m\n",
      "\n",
      "\u001b[1m> Finished chain.\u001b[0m\n",
      "The API call successfully created a container with the specified configuration on the 'Proxmox-Node-HCM' node. \n",
      "\n"
     ]
    }
   ],
   "source": [
    "user_input = (\n",
    "    \"Create a container on node 'Proxmox-Node-HCM' where Container ID : 1010\\n\"\n",
    "    \"Hostname: my-container\\n\"\n",
    "    \"Memory (in MB): 512\\n\"\n",
    "    \"CPU Cores: 1\\n\"\n",
    "    \"Root Filesystem (e.g., 'local:10' for 10GB): local:10\\n\"\n",
    "    \"Network Configuration (e.g., 'name=eth0,bridge=vmbr0'): name=eth0,bridge=vmbr0\\n\"\n",
    "    \"OS Template: local:vztmpl/ubuntu-22.04-standard_22.04-1_amd64.tar.zst\"\n",
    ")\n",
    "\n",
    "response = chain.invoke(user_input)\n",
    "\n",
    "print(response['output'])\n"
   ]
  },
  {
   "cell_type": "markdown",
   "metadata": {},
   "source": [
    "### New container with just the required fields :"
   ]
  },
  {
   "cell_type": "code",
   "execution_count": null,
   "metadata": {},
   "outputs": [
    {
     "name": "stdout",
     "output_type": "stream",
     "text": [
      "\n",
      "\n",
      "\u001b[1m> Entering new ProxmoxAPIChain chain...\u001b[0m\n",
      "Retrieved Document 0: {\"base_url\": \"https://ns31418912.ip-54-38-37.eu:8006/\", \"endpoint\": \"/api2/json/nodes/{node}/lxc\", \"methods\": \"post\", \"summary\": \"Create LXC Container\", \"parameters\": [{\"name\": \"node\", \"in\": \"path\", \"required\": true, \"description\": \"Node ID where the LXC container will be created\", \"schema\": {\"type\": \"string\"}}], \"requestBody\": {\"required\": true, \"content\": {\"application/json\": {\"schema\": {\"type\": \"object\", \"properties\": {\"vmid\": {\"type\": \"integer\", \"description\": \"Container ID\"}, \"hostname\": {\"type\": \"string\", \"description\": \"Hostname of the container\"}, \"memory\": {\"type\": \"integer\", \"description\": \"Memory size in MB\"}, \"cores\": {\"type\": \"integer\", \"description\": \"Number of CPU cores\"}, \"rootfs\": {\"type\": \"string\", \"description\": \"Root filesystem, e.g., 'local:10' for 10GB\"}, \"net0\": {\"type\": \"string\", \"description\": \"Network configuration, e.g., 'bridge=vmbr0'\"}, \"ostemplate\": {\"type\": \"string\", \"description\": \"OS template for the container\"}}, \"required\": [\"node\", \"vmid\", \"ostemplate\"]}}}}}\n",
      "Retrieved Document 1: {\"base_url\": \"https://ns31418912.ip-54-38-37.eu:8006/\", \"endpoint\": \"/api2/json/nodes/{node}/qemu\", \"method\": \"post\", \"summary\": \"Create a Virtual machine (VM) \", \"description\": \"Use this endpoint to create a new virtual machine on the specified node. This endpoint is used for initial creation and can be used for the allocation of resources such as memory, cores, and storage.\", \"parameters\": [{\"name\": \"node\", \"in\": \"path\", \"required\": true, \"description\": \"Node ID where the VM will be created\", \"schema\": {\"type\": \"string\"}}], \"requestBody\": {\"required\": true, \"content\": {\"application/json\": {\"schema\": {\"type\": \"object\", \"properties\": {\"vmid\": {\"type\": \"integer\", \"description\": \"VM ID\"}, \"name\": {\"type\": \"string\", \"description\": \"Name of the VM\"}, \"memory\": {\"type\": \"integer\", \"description\": \"Memory size in MB\"}, \"cores\": {\"type\": \"integer\", \"description\": \"Number of CPU cores\"}, \"ide0\": {\"type\": \"string\", \"description\": \"Disk size and format, e.g., \\\"local:32,format=qcow2\\\"\"}, \"net0\": {\"type\": \"string\", \"description\": \"Network configuration, e.g., \\\"virtio,bridge=vmbr0\\\"\"}, \"ostype\": {\"type\": \"string\", \"description\": \"OS type, e.g., \\\"l26\\\" for Linux\"}}, \"required\": [\"node\", \"vmid\"]}}}}}\n",
      "Retrieved Document 2: {\"base_url\": \"https://ns31418912.ip-54-38-37.eu:8006/\", \"endpoint\": \"/api2/json/nodes/{node}/lxc/{vmid}/config\", \"method\": \"put\", \"summary\": \"Set container configuration (config file)\", \"description\": \"Modify or set the configuration of an LXC container identified by {vmid} on the specified {node}.\", \"parameters\": [{\"name\": \"node\", \"in\": \"path\", \"required\": true, \"description\": \"The cluster node name\", \"schema\": {\"type\": \"string\"}}, {\"name\": \"vmid\", \"in\": \"path\", \"required\": true, \"description\": \"The (unique) ID of the VM\", \"schema\": {\"type\": \"integer\"}}], \"requestBody\": {\"required\": true, \"content\": {\"application/json\": {\"schema\": {\"type\": \"object\", \"properties\": {\"arch\": {\"type\": \"string\", \"enum\": [\"amd64\", \"i386\", \"arm64\", \"armhf\", \"riscv32\", \"riscv64\"], \"description\": \"OS architecture type\"}, \"cmode\": {\"type\": \"string\", \"enum\": [\"shell\", \"console\", \"tty\"], \"description\": \"Console mode\"}, \"console\": {\"type\": \"boolean\", \"description\": \"Attach a console device (/dev/console) to the container\"}, \"cores\": {\"type\": \"integer\", \"description\": \"The number of cores assigned to the container\"}, \"cpulimit\": {\"type\": \"number\", \"description\": \"Limit of CPU usage\"}, \"cpuunits\": {\"type\": \"integer\", \"description\": \"CPU weight for a container\"}, \"debug\": {\"type\": \"boolean\", \"description\": \"Try to be more verbose\"}, \"delete\": {\"type\": \"string\", \"description\": \"A list of settings you want to delete\"}, \"description\": {\"type\": \"string\", \"description\": \"Description for the Container\"}, \"dev[n]\": {\"type\": \"string\", \"description\": \"Device to pass through to the container\"}, \"digest\": {\"type\": \"string\", \"description\": \"Prevent changes if current configuration file has different SHA1 digest\"}, \"features\": {\"type\": \"string\", \"description\": \"Allow containers access to advanced features\"}, \"hookscript\": {\"type\": \"string\", \"description\": \"Script that will be executed during various steps in the container's lifetime\"}, \"hostname\": {\"type\": \"string\", \"description\": \"Set a host name for the container\"}, \"lock\": {\"type\": \"string\", \"enum\": [\"backup\", \"create\", \"destroyed\", \"disk\", \"fstrim\", \"migrate\", \"mounted\", \"rollback\", \"snapshot\", \"snapshot-delete\"], \"description\": \"Lock/unlock the container\"}, \"memory\": {\"type\": \"integer\", \"description\": \"Amount of RAM for the container in MB\"}, \"mp[n]\": {\"type\": \"string\", \"description\": \"Use volume as container mount point\"}, \"nameserver\": {\"type\": \"string\", \"description\": \"Sets DNS server IP address for a container\"}, \"net[n]\": {\"type\": \"string\", \"description\": \"Specifies network interfaces for the container\"}, \"onboot\": {\"type\": \"boolean\", \"description\": \"Specifies whether a container will be started during system bootup\"}, \"ostype\": {\"type\": \"string\", \"enum\": [\"debian\", \"devuan\", \"ubuntu\", \"centos\", \"fedora\", \"opensuse\", \"archlinux\", \"alpine\", \"gentoo\", \"nixos\", \"unmanaged\"], \"description\": \"OS type\"}, \"protection\": {\"type\": \"boolean\", \"description\": \"Sets the protection flag of the container\"}, \"revert\": {\"type\": \"string\", \"description\": \"Revert a pending change\"}, \"rootfs\": {\"type\": \"string\", \"description\": \"Use volume as container root\"}, \"searchdomain\": {\"type\": \"string\", \"description\": \"Sets DNS search domains for a container\"}, \"startup\": {\"type\": \"string\", \"description\": \"Startup and shutdown behavior\"}, \"swap\": {\"type\": \"integer\", \"description\": \"Amount of SWAP for the container in MB\"}, \"tags\": {\"type\": \"string\", \"description\": \"Tags of the Container\"}, \"template\": {\"type\": \"boolean\", \"description\": \"Enable/disable Template\"}, \"timezone\": {\"type\": \"string\", \"description\": \"Time zone to use in the container\"}, \"tty\": {\"type\": \"integer\", \"description\": \"Specify the number of tty available to the container\"}, \"unprivileged\": {\"type\": \"boolean\", \"description\": \"Makes the container run as unprivileged user\"}, \"unused[n]\": {\"type\": \"string\", \"description\": \"Reference to unused volumes\"}}}}}}}\n",
      "Request info: https://ns31418912.ip-54-38-37.eu:8006/api2/json/nodes/Proxmox-Node-HCM/lxc | post | {\"vmid\": 3030, \"ostemplate\": \"local:vztmpl/ubuntu-22.04-standard_22.04-1_amd64.tar.zst\"} \n",
      "\n",
      "Request info: {\n",
      "    \"api_url\": \"/api2/json/nodes/Proxmox-Node-HCM/lxc\",\n",
      "    \"request_method\": \"post\",\n",
      "    \"request_body\": {\n",
      "        \"vmid\": 3030,\n",
      "        \"ostemplate\": \"local:vztmpl/ubuntu-22.04-standard_22.04-1_amd64.tar.zst\"\n",
      "    }\n",
      "}\n",
      "API URL: https://ns31418912.ip-54-38-37.eu:8006//api2/json/nodes/Proxmox-Node-HCM/lxc\n",
      "Request method: POST\n",
      "Request body: {'vmid': 3030, 'ostemplate': 'local:vztmpl/ubuntu-22.04-standard_22.04-1_amd64.tar.zst'}\n",
      "\u001b[33;1m\u001b[1;3mStatus: 200 OK\n",
      "Response: {\"data\":\"UPID:Proxmox-Node-HCM:001F46E0:AFA107C7:669E2A16:vzcreate:3030:oumaima@pve!oumaima-token:\"}\u001b[0m\n",
      "\n",
      "\u001b[1m> Finished chain.\u001b[0m\n",
      "The container with ID 3030 was successfully created on node 'Proxmox-Node-HCM'. \n",
      "\n"
     ]
    }
   ],
   "source": [
    "user_input = (\n",
    "    \"Create a container on node 'Proxmox-Node-HCM' where Container ID : 3030\\n\"\n",
    "    \"OS Template: local:vztmpl/ubuntu-22.04-standard_22.04-1_amd64.tar.zst\"\n",
    ")\n",
    "\n",
    "response = chain.invoke(user_input)\n",
    "\n",
    "print(response['output'])\n"
   ]
  },
  {
   "cell_type": "markdown",
   "metadata": {},
   "source": [
    "## Manage container's config :"
   ]
  },
  {
   "cell_type": "markdown",
   "metadata": {},
   "source": [
    "### Update Config :"
   ]
  },
  {
   "cell_type": "code",
   "execution_count": null,
   "metadata": {},
   "outputs": [
    {
     "name": "stdout",
     "output_type": "stream",
     "text": [
      "\n",
      "\n",
      "\u001b[1m> Entering new ProxmoxAPIChain chain...\u001b[0m\n",
      "Retrieved Document 0: {\"base_url\": \"https://ns31418912.ip-54-38-37.eu:8006/\", \"endpoint\": \"/api2/json/nodes/{node}/lxc/{vmid}/config\", \"method\": \"put\", \"summary\": \"Set container configuration (config file)\", \"description\": \"Modify or set the configuration of an LXC container identified by {vmid} on the specified {node}.\", \"parameters\": [{\"name\": \"node\", \"in\": \"path\", \"required\": true, \"description\": \"The cluster node name\", \"schema\": {\"type\": \"string\"}}, {\"name\": \"vmid\", \"in\": \"path\", \"required\": true, \"description\": \"The (unique) ID of the VM\", \"schema\": {\"type\": \"integer\"}}], \"requestBody\": {\"required\": true, \"content\": {\"application/json\": {\"schema\": {\"type\": \"object\", \"properties\": {\"arch\": {\"type\": \"string\", \"enum\": [\"amd64\", \"i386\", \"arm64\", \"armhf\", \"riscv32\", \"riscv64\"], \"description\": \"OS architecture type\"}, \"cmode\": {\"type\": \"string\", \"enum\": [\"shell\", \"console\", \"tty\"], \"description\": \"Console mode\"}, \"console\": {\"type\": \"boolean\", \"description\": \"Attach a console device (/dev/console) to the container\"}, \"cores\": {\"type\": \"integer\", \"description\": \"The number of cores assigned to the container\"}, \"cpulimit\": {\"type\": \"number\", \"description\": \"Limit of CPU usage\"}, \"cpuunits\": {\"type\": \"integer\", \"description\": \"CPU weight for a container\"}, \"debug\": {\"type\": \"boolean\", \"description\": \"Try to be more verbose\"}, \"delete\": {\"type\": \"string\", \"description\": \"A list of settings you want to delete\"}, \"description\": {\"type\": \"string\", \"description\": \"Description for the Container\"}, \"dev[n]\": {\"type\": \"string\", \"description\": \"Device to pass through to the container\"}, \"digest\": {\"type\": \"string\", \"description\": \"Prevent changes if current configuration file has different SHA1 digest\"}, \"features\": {\"type\": \"string\", \"description\": \"Allow containers access to advanced features\"}, \"hookscript\": {\"type\": \"string\", \"description\": \"Script that will be executed during various steps in the container's lifetime\"}, \"hostname\": {\"type\": \"string\", \"description\": \"Set a host name for the container\"}, \"lock\": {\"type\": \"string\", \"enum\": [\"backup\", \"create\", \"destroyed\", \"disk\", \"fstrim\", \"migrate\", \"mounted\", \"rollback\", \"snapshot\", \"snapshot-delete\"], \"description\": \"Lock/unlock the container\"}, \"memory\": {\"type\": \"integer\", \"description\": \"Amount of RAM for the container in MB\"}, \"mp[n]\": {\"type\": \"string\", \"description\": \"Use volume as container mount point\"}, \"nameserver\": {\"type\": \"string\", \"description\": \"Sets DNS server IP address for a container\"}, \"net[n]\": {\"type\": \"string\", \"description\": \"Specifies network interfaces for the container\"}, \"onboot\": {\"type\": \"boolean\", \"description\": \"Specifies whether a container will be started during system bootup\"}, \"ostype\": {\"type\": \"string\", \"enum\": [\"debian\", \"devuan\", \"ubuntu\", \"centos\", \"fedora\", \"opensuse\", \"archlinux\", \"alpine\", \"gentoo\", \"nixos\", \"unmanaged\"], \"description\": \"OS type\"}, \"protection\": {\"type\": \"boolean\", \"description\": \"Sets the protection flag of the container\"}, \"revert\": {\"type\": \"string\", \"description\": \"Revert a pending change\"}, \"rootfs\": {\"type\": \"string\", \"description\": \"Use volume as container root\"}, \"searchdomain\": {\"type\": \"string\", \"description\": \"Sets DNS search domains for a container\"}, \"startup\": {\"type\": \"string\", \"description\": \"Startup and shutdown behavior\"}, \"swap\": {\"type\": \"integer\", \"description\": \"Amount of SWAP for the container in MB\"}, \"tags\": {\"type\": \"string\", \"description\": \"Tags of the Container\"}, \"template\": {\"type\": \"boolean\", \"description\": \"Enable/disable Template\"}, \"timezone\": {\"type\": \"string\", \"description\": \"Time zone to use in the container\"}, \"tty\": {\"type\": \"integer\", \"description\": \"Specify the number of tty available to the container\"}, \"unprivileged\": {\"type\": \"boolean\", \"description\": \"Makes the container run as unprivileged user\"}, \"unused[n]\": {\"type\": \"string\", \"description\": \"Reference to unused volumes\"}}}}}}}\n",
      "Retrieved Document 1: {\"base_url\": \"https://ns31418912.ip-54-38-37.eu:8006/\", \"endpoint\": \"/api2/json/nodes/{node}/qemu/{vmid}/config\", \"method\": \"put\", \"summary\": \"Update virtual machine configuration options\", \"description\": \"Use this endpoint to modify the configuration of an existing virtual machine. This is useful when you need to change settings such as memory, cores, network devices, and other VM parameters for an already running or stopped VM.\", \"parameters\": [{\"name\": \"node\", \"in\": \"path\", \"required\": true, \"description\": \"The cluster node name.\", \"schema\": {\"type\": \"string\"}}, {\"name\": \"vmid\", \"in\": \"path\", \"required\": true, \"description\": \"The (unique) ID of the VM.\", \"schema\": {\"type\": \"integer\", \"minimum\": 100, \"maximum\": 999999999}}], \"requestBody\": {\"required\": true, \"content\": {\"application/json\": {\"schema\": {\"type\": \"object\", \"properties\": {\"acpi\": {\"type\": \"boolean\", \"description\": \"Enable/disable ACPI.\"}, \"agent\": {\"type\": \"string\", \"description\": \"Enable/disable communication with the QEMU Guest Agent and its properties.\"}, \"balloon\": {\"type\": \"integer\", \"description\": \"Amount of target RAM for the VM in MiB. Using zero disables the balloon driver.\"}, \"bios\": {\"type\": \"string\", \"enum\": [\"seabios\", \"ovmf\"], \"description\": \"Select BIOS implementation.\"}, \"cores\": {\"type\": \"integer\", \"description\": \"The number of cores per socket.\"}, \"memory\": {\"type\": \"integer\", \"description\": \"Amount of RAM for the VM in MiB.\"}, \"net0\": {\"type\": \"string\", \"description\": \"Network device configuration, e.g., 'model=e1000,bridge=vmbr0'.\"}, \"sockets\": {\"type\": \"integer\", \"description\": \"The number of CPU sockets.\"}, \"cpu\": {\"type\": \"string\", \"description\": \"Emulated CPU type. Format: [[cputype=]<string>] [,flags=<+FLAG[;-FLAG...]>] [,hidden=<1|0>] [,hv-vendor-id=<vendor-id>] [,phys-bits=<8-64|host>] [,reported-model=<enum>]\"}, \"cpulimit\": {\"type\": \"number\", \"description\": \"Limit of CPU usage. Value '0' indicates no CPU limit.\"}, \"cpuunits\": {\"type\": \"integer\", \"description\": \"CPU weight for a VM. The larger the number, the more CPU time this VM gets. Range: 1 - 262144.\"}, \"ostype\": {\"type\": \"string\", \"enum\": [\"other\", \"wxp\", \"w2k\", \"w2k3\", \"w2k8\", \"wvista\", \"win7\", \"win8\", \"win10\", \"win11\", \"l24\", \"l26\", \"solaris\"], \"description\": \"Specify guest operating system to enable specific optimizations/features.\"}}}}}}}\n",
      "Retrieved Document 2: {\"base_url\": \"https://ns31418912.ip-54-38-37.eu:8006/\", \"endpoint\": \"/api2/json/nodes/{node}/lxc/{vmid}/config\", \"method\": \"get\", \"summary\": \"Get Lxc container configuration/config \", \"parameters\": [{\"name\": \"node\", \"in\": \"path\", \"required\": true, \"description\": \"The cluster node name\", \"schema\": {\"type\": \"string\"}}, {\"name\": \"vmid\", \"in\": \"path\", \"required\": true, \"description\": \"The (unique) ID of the VM\", \"schema\": {\"type\": \"integer\"}}, {\"name\": \"current\", \"in\": \"query\", \"required\": false, \"description\": \"Get current values (instead of pending values)\", \"schema\": {\"type\": \"boolean\", \"default\": false}}, {\"name\": \"snapshot\", \"in\": \"query\", \"required\": false, \"description\": \"Fetch config values from given snapshot\", \"schema\": {\"type\": \"string\"}}]}\n",
      "Request info: https://ns31418912.ip-54-38-37.eu:8006/api2/json/nodes/Proxmox-Node-HCM/lxc/1010/config | PUT | {\"hostname\": \"mycontainer-2\"} \n",
      "\n",
      "Request info: {\n",
      "    \"api_url\": \"/api2/json/nodes/Proxmox-Node-HCM/lxc/1010/config\",\n",
      "    \"request_method\": \"put\",\n",
      "    \"request_body\": {\n",
      "        \"hostname\": \"mycontainer-2\"\n",
      "    }\n",
      "}\n",
      "API URL: https://ns31418912.ip-54-38-37.eu:8006//api2/json/nodes/Proxmox-Node-HCM/lxc/1010/config\n",
      "Request method: PUT\n",
      "Request body: {'hostname': 'mycontainer-2'}\n",
      "\u001b[33;1m\u001b[1;3mStatus: 200 OK\n",
      "Response: {\"data\":null}\u001b[0m\n",
      "\n",
      "\u001b[1m> Finished chain.\u001b[0m\n",
      "The container configuration for container ID 1010 on node 'Proxmox-Node-HCM' is empty. \n",
      "\n"
     ]
    }
   ],
   "source": [
    "user_input = (\n",
    "    f\"modify the configuration of the container with id 1010 on node 'Proxmox-Node-HCM', Hostname: mycontainer-2\"\n",
    ")\n",
    "response = chain.invoke(user_input)\n",
    "\n",
    "print(response['output'])"
   ]
  },
  {
   "cell_type": "markdown",
   "metadata": {},
   "source": [
    "### Get Config :"
   ]
  },
  {
   "cell_type": "code",
   "execution_count": null,
   "metadata": {},
   "outputs": [
    {
     "name": "stdout",
     "output_type": "stream",
     "text": [
      "\n",
      "\n",
      "\u001b[1m> Entering new ProxmoxAPIChain chain...\u001b[0m\n",
      "Retrieved Document 0: {\"base_url\": \"https://ns31418912.ip-54-38-37.eu:8006/\", \"endpoint\": \"/api2/json/nodes/{node}/lxc/{vmid}/config\", \"method\": \"get\", \"summary\": \"Get Lxc container configuration/config \", \"parameters\": [{\"name\": \"node\", \"in\": \"path\", \"required\": true, \"description\": \"The cluster node name\", \"schema\": {\"type\": \"string\"}}, {\"name\": \"vmid\", \"in\": \"path\", \"required\": true, \"description\": \"The (unique) ID of the VM\", \"schema\": {\"type\": \"integer\"}}, {\"name\": \"current\", \"in\": \"query\", \"required\": false, \"description\": \"Get current values (instead of pending values)\", \"schema\": {\"type\": \"boolean\", \"default\": false}}, {\"name\": \"snapshot\", \"in\": \"query\", \"required\": false, \"description\": \"Fetch config values from given snapshot\", \"schema\": {\"type\": \"string\"}}]}\n",
      "Retrieved Document 1: {\"base_url\": \"https://ns31418912.ip-54-38-37.eu:8006/\", \"endpoint\": \"/api2/json/nodes/{node}/lxc/{vmid}/config\", \"method\": \"put\", \"summary\": \"Set container configuration (config file)\", \"description\": \"Modify or set the configuration of an LXC container identified by {vmid} on the specified {node}.\", \"parameters\": [{\"name\": \"node\", \"in\": \"path\", \"required\": true, \"description\": \"The cluster node name\", \"schema\": {\"type\": \"string\"}}, {\"name\": \"vmid\", \"in\": \"path\", \"required\": true, \"description\": \"The (unique) ID of the VM\", \"schema\": {\"type\": \"integer\"}}], \"requestBody\": {\"required\": true, \"content\": {\"application/json\": {\"schema\": {\"type\": \"object\", \"properties\": {\"arch\": {\"type\": \"string\", \"enum\": [\"amd64\", \"i386\", \"arm64\", \"armhf\", \"riscv32\", \"riscv64\"], \"description\": \"OS architecture type\"}, \"cmode\": {\"type\": \"string\", \"enum\": [\"shell\", \"console\", \"tty\"], \"description\": \"Console mode\"}, \"console\": {\"type\": \"boolean\", \"description\": \"Attach a console device (/dev/console) to the container\"}, \"cores\": {\"type\": \"integer\", \"description\": \"The number of cores assigned to the container\"}, \"cpulimit\": {\"type\": \"number\", \"description\": \"Limit of CPU usage\"}, \"cpuunits\": {\"type\": \"integer\", \"description\": \"CPU weight for a container\"}, \"debug\": {\"type\": \"boolean\", \"description\": \"Try to be more verbose\"}, \"delete\": {\"type\": \"string\", \"description\": \"A list of settings you want to delete\"}, \"description\": {\"type\": \"string\", \"description\": \"Description for the Container\"}, \"dev[n]\": {\"type\": \"string\", \"description\": \"Device to pass through to the container\"}, \"digest\": {\"type\": \"string\", \"description\": \"Prevent changes if current configuration file has different SHA1 digest\"}, \"features\": {\"type\": \"string\", \"description\": \"Allow containers access to advanced features\"}, \"hookscript\": {\"type\": \"string\", \"description\": \"Script that will be executed during various steps in the container's lifetime\"}, \"hostname\": {\"type\": \"string\", \"description\": \"Set a host name for the container\"}, \"lock\": {\"type\": \"string\", \"enum\": [\"backup\", \"create\", \"destroyed\", \"disk\", \"fstrim\", \"migrate\", \"mounted\", \"rollback\", \"snapshot\", \"snapshot-delete\"], \"description\": \"Lock/unlock the container\"}, \"memory\": {\"type\": \"integer\", \"description\": \"Amount of RAM for the container in MB\"}, \"mp[n]\": {\"type\": \"string\", \"description\": \"Use volume as container mount point\"}, \"nameserver\": {\"type\": \"string\", \"description\": \"Sets DNS server IP address for a container\"}, \"net[n]\": {\"type\": \"string\", \"description\": \"Specifies network interfaces for the container\"}, \"onboot\": {\"type\": \"boolean\", \"description\": \"Specifies whether a container will be started during system bootup\"}, \"ostype\": {\"type\": \"string\", \"enum\": [\"debian\", \"devuan\", \"ubuntu\", \"centos\", \"fedora\", \"opensuse\", \"archlinux\", \"alpine\", \"gentoo\", \"nixos\", \"unmanaged\"], \"description\": \"OS type\"}, \"protection\": {\"type\": \"boolean\", \"description\": \"Sets the protection flag of the container\"}, \"revert\": {\"type\": \"string\", \"description\": \"Revert a pending change\"}, \"rootfs\": {\"type\": \"string\", \"description\": \"Use volume as container root\"}, \"searchdomain\": {\"type\": \"string\", \"description\": \"Sets DNS search domains for a container\"}, \"startup\": {\"type\": \"string\", \"description\": \"Startup and shutdown behavior\"}, \"swap\": {\"type\": \"integer\", \"description\": \"Amount of SWAP for the container in MB\"}, \"tags\": {\"type\": \"string\", \"description\": \"Tags of the Container\"}, \"template\": {\"type\": \"boolean\", \"description\": \"Enable/disable Template\"}, \"timezone\": {\"type\": \"string\", \"description\": \"Time zone to use in the container\"}, \"tty\": {\"type\": \"integer\", \"description\": \"Specify the number of tty available to the container\"}, \"unprivileged\": {\"type\": \"boolean\", \"description\": \"Makes the container run as unprivileged user\"}, \"unused[n]\": {\"type\": \"string\", \"description\": \"Reference to unused volumes\"}}}}}}}\n",
      "Retrieved Document 2: {\"base_url\": \"https://ns31418912.ip-54-38-37.eu:8006/\", \"endpoint\": \"/api2/json/nodes/{node}/lxc\", \"methods\": \"get\", \"summary\": \"List LXC Containers on a Node\", \"description\": \"List all containers available on a node\", \"parameters\": [{\"name\": \"node\", \"in\": \"path\", \"required\": true, \"description\": \"Node ID where LXC containers are located\", \"schema\": {\"type\": \"string\"}}]}\n",
      "Request info: https://ns31418912.ip-54-38-37.eu:8006/api2/json/nodes/Proxmox-Node-HCM/lxc/1010/config | get | {} \n",
      "\n",
      "Request info: {\n",
      "    \"api_url\": \"/api2/json/nodes/Proxmox-Node-HCM/lxc/1010/config\",\n",
      "    \"request_method\": \"get\",\n",
      "    \"request_body\": {}\n",
      "}\n",
      "API URL: https://ns31418912.ip-54-38-37.eu:8006//api2/json/nodes/Proxmox-Node-HCM/lxc/1010/config\n",
      "Request method: GET\n",
      "Request body: {}\n",
      "\u001b[33;1m\u001b[1;3mStatus: 200 OK\n",
      "Response: {\"data\":{\"rootfs\":\"local:1010/vm-1010-disk-0.raw,size=10G\",\"cores\":1,\"swap\":512,\"ostype\":\"ubuntu\",\"arch\":\"amd64\",\"digest\":\"46e79bc6c3f92be34711ceb7afd996f21f3cb39c\",\"memory\":512,\"net0\":\"name=eth0,bridge=vmbr0,hwaddr=A6:66:F6:97:81:DB,type=veth\",\"hostname\":\"mycontainer-2\"}}\u001b[0m\n",
      "\n",
      "\u001b[1m> Finished chain.\u001b[0m\n",
      "The container with ID 1010 on node 'Proxmox-Node-HCM' has a 10GB root file system, uses 1 core, 512MB of swap, runs Ubuntu on an AMD64 architecture, has a unique configuration digest, uses 512MB of memory, has a network interface named 'eth0' connected to the 'vmbr0' bridge, and is named 'mycontainer-2'. \n",
      "\n"
     ]
    }
   ],
   "source": [
    "user_input = (\n",
    "    f\"get the configuration of the container with id 1010 on node 'Proxmox-Node-HCM'\"\n",
    ")\n",
    "response = chain.invoke(user_input)\n",
    "\n",
    "print(response['output'])"
   ]
  },
  {
   "cell_type": "markdown",
   "metadata": {},
   "source": [
    "## Delete Container :"
   ]
  },
  {
   "cell_type": "code",
   "execution_count": null,
   "metadata": {},
   "outputs": [
    {
     "name": "stdout",
     "output_type": "stream",
     "text": [
      "\n",
      "\n",
      "\u001b[1m> Entering new ProxmoxAPIChain chain...\u001b[0m\n",
      "Retrieved Document 0: {\"base_url\": \"https://ns31418912.ip-54-38-37.eu:8006/\", \"endpoint\": \"/api2/json/nodes/{node}/lxc/{vmid}\", \"methods\": \"delete\", \"summary\": \"Delete LXC Container\", \"description\": \"Deleting a container from a node .\", \"parameters\": [{\"name\": \"node\", \"in\": \"path\", \"required\": true, \"description\": \"Node ID where the LXC container is located\", \"schema\": {\"type\": \"string\"}}, {\"name\": \"vmid\", \"in\": \"path\", \"required\": true, \"description\": \"ID of the LXC container to delete\", \"schema\": {\"type\": \"string\"}}]}\n",
      "Retrieved Document 1: {\"base_url\": \"https://ns31418912.ip-54-38-37.eu:8006/\", \"endpoint\": \"/api2/json/nodes/{node}/qemu/{vmid}\", \"method\": \"delete\", \"summary\": \"Delete Virtual machine (VM)\", \"description\": \"Deleting a Virtual machine from a node .\", \"parameters\": [{\"name\": \"node\", \"in\": \"path\", \"required\": true, \"description\": \"Node ID where the VM is located\", \"schema\": {\"type\": \"string\"}}, {\"name\": \"vmid\", \"in\": \"path\", \"required\": true, \"description\": \"ID of the VM to delete\", \"schema\": {\"type\": \"string\"}}]}\n",
      "Retrieved Document 2: {\"base_url\": \"https://ns31418912.ip-54-38-37.eu:8006/\", \"endpoint\": \"/api2/json/nodes/{node}/lxc\", \"methods\": \"get\", \"summary\": \"List LXC Containers on a Node\", \"description\": \"List all containers available on a node\", \"parameters\": [{\"name\": \"node\", \"in\": \"path\", \"required\": true, \"description\": \"Node ID where LXC containers are located\", \"schema\": {\"type\": \"string\"}}]}\n",
      "Request info: https://ns31418912.ip-54-38-37.eu:8006/api2/json/nodes/Proxmox-Node-HCM/lxc/1010 | DELETE | {} \n",
      "\n",
      "Request info: {\n",
      "    \"api_url\": \"/api2/json/nodes/Proxmox-Node-HCM/lxc/1010\",\n",
      "    \"request_method\": \"delete\",\n",
      "    \"request_body\": {}\n",
      "}\n",
      "API URL: https://ns31418912.ip-54-38-37.eu:8006//api2/json/nodes/Proxmox-Node-HCM/lxc/1010\n",
      "Request method: DELETE\n",
      "Request body: {}\n",
      "\u001b[33;1m\u001b[1;3mStatus: 200 OK\n",
      "Response: {\"data\":\"UPID:Proxmox-Node-HCM:001F4747:AFA10CF4:669E2A23:vzdestroy:1010:oumaima@pve!oumaima-token:\"}\u001b[0m\n",
      "\n",
      "\u001b[1m> Finished chain.\u001b[0m\n",
      "The API successfully deleted the container with ID 1010 on the node 'Proxmox-Node-HCM'. \n",
      "\n"
     ]
    }
   ],
   "source": [
    "user_input = (\n",
    "    f\"delete Container with id 1010 on node 'Proxmox-Node-HCM'\"\n",
    ")\n",
    "response = chain.invoke(user_input)\n",
    "\n",
    "print(response['output'])"
   ]
  },
  {
   "cell_type": "code",
   "execution_count": null,
   "metadata": {},
   "outputs": [
    {
     "name": "stdout",
     "output_type": "stream",
     "text": [
      "\n",
      "\n",
      "\u001b[1m> Entering new ProxmoxAPIChain chain...\u001b[0m\n",
      "Retrieved Document 0: {\"base_url\": \"https://ns31418912.ip-54-38-37.eu:8006/\", \"endpoint\": \"/api2/json/nodes/{node}/lxc/{vmid}\", \"methods\": \"delete\", \"summary\": \"Delete LXC Container\", \"description\": \"Deleting a container from a node .\", \"parameters\": [{\"name\": \"node\", \"in\": \"path\", \"required\": true, \"description\": \"Node ID where the LXC container is located\", \"schema\": {\"type\": \"string\"}}, {\"name\": \"vmid\", \"in\": \"path\", \"required\": true, \"description\": \"ID of the LXC container to delete\", \"schema\": {\"type\": \"string\"}}]}\n",
      "Retrieved Document 1: {\"base_url\": \"https://ns31418912.ip-54-38-37.eu:8006/\", \"endpoint\": \"/api2/json/nodes/{node}/qemu/{vmid}\", \"method\": \"delete\", \"summary\": \"Delete Virtual machine (VM)\", \"description\": \"Deleting a Virtual machine from a node .\", \"parameters\": [{\"name\": \"node\", \"in\": \"path\", \"required\": true, \"description\": \"Node ID where the VM is located\", \"schema\": {\"type\": \"string\"}}, {\"name\": \"vmid\", \"in\": \"path\", \"required\": true, \"description\": \"ID of the VM to delete\", \"schema\": {\"type\": \"string\"}}]}\n",
      "Retrieved Document 2: {\"base_url\": \"https://ns31418912.ip-54-38-37.eu:8006/\", \"endpoint\": \"/api2/json/nodes/{node}/lxc\", \"methods\": \"get\", \"summary\": \"List LXC Containers on a Node\", \"description\": \"List all containers available on a node\", \"parameters\": [{\"name\": \"node\", \"in\": \"path\", \"required\": true, \"description\": \"Node ID where LXC containers are located\", \"schema\": {\"type\": \"string\"}}]}\n",
      "Request info: https://ns31418912.ip-54-38-37.eu:8006/api2/json/nodes/Proxmox-Node-HCM/lxc/3030 | DELETE | {} \n",
      "\n",
      "Request info: {\n",
      "    \"api_url\": \"/api2/json/nodes/Proxmox-Node-HCM/lxc/3030\",\n",
      "    \"request_method\": \"delete\",\n",
      "    \"request_body\": {}\n",
      "}\n",
      "API URL: https://ns31418912.ip-54-38-37.eu:8006//api2/json/nodes/Proxmox-Node-HCM/lxc/3030\n",
      "Request method: DELETE\n",
      "Request body: {}\n",
      "\u001b[33;1m\u001b[1;3mStatus: 200 OK\n",
      "Response: {\"data\":\"UPID:Proxmox-Node-HCM:001F475D:AFA10EDB:669E2A28:vzdestroy:3030:oumaima@pve!oumaima-token:\"}\u001b[0m\n",
      "\n",
      "\u001b[1m> Finished chain.\u001b[0m\n",
      "The container with ID 3030 on node 'Proxmox-Node-HCM' was successfully deleted. \n",
      "\n"
     ]
    }
   ],
   "source": [
    "user_input = (\n",
    "    f\"delete Container with id 3030 on node 'Proxmox-Node-HCM'\"\n",
    ")\n",
    "response = chain.invoke(user_input)\n",
    "\n",
    "print(response['output'])"
   ]
  },
  {
   "cell_type": "markdown",
   "metadata": {},
   "source": [
    "# Get all users :"
   ]
  },
  {
   "cell_type": "code",
   "execution_count": null,
   "metadata": {},
   "outputs": [
    {
     "name": "stdout",
     "output_type": "stream",
     "text": [
      "\n",
      "\n",
      "\u001b[1m> Entering new ProxmoxAPIChain chain...\u001b[0m\n",
      "Retrieved Document 0: {\"endpoint\": \"/api2/json/access/permissions\", \"method\": \"get\", \"summary\": \"Retrieve/get effective permissions of given user/token.\", \"parameters\": [{\"name\": \"path\", \"in\": \"query\", \"required\": false, \"description\": \"Only dump this specific path, not the whole tree.\", \"schema\": {\"type\": \"string\"}}, {\"name\": \"userid\", \"in\": \"query\", \"required\": false, \"description\": \"User ID or full API token ID\", \"schema\": {\"type\": \"string\"}}]}\n",
      "Retrieved Document 1: {\"endpoint\": \"/api2/json/access/users\", \"method\": \"get\", \"summary\": \"User index.\", \"parameters\": [{\"name\": \"enabled\", \"in\": \"query\", \"required\": false, \"description\": \"Optional filter for enable property.\", \"schema\": {\"type\": \"boolean\"}}, {\"name\": \"full\", \"in\": \"query\", \"required\": false, \"description\": \"Include group and token information.\", \"schema\": {\"type\": \"boolean\", \"default\": false}}]}\n",
      "Retrieved Document 2: {\"endpoint\": \"/api2/json/nodes/{node}/qemu\", \"method\": \"get\", \"summary\": \"List Virtual machines (VMs) on a Node\", \"parameters\": [{\"name\": \"node\", \"in\": \"path\", \"required\": true, \"description\": \"Node ID where VMs are located\", \"schema\": {\"type\": \"string\"}}]}\n",
      "\n",
      "Request info: {\n",
      "    \"api_url\": \"/api2/json/access/users\",\n",
      "    \"request_method\": \"get\",\n",
      "    \"request_body\": {}\n",
      "}\n",
      "API URL: https://ns31418912.ip-54-38-37.eu:8006//api2/json/access/users\n",
      "Request method: GET\n",
      "Request body: {}\n",
      "\u001b[33;1m\u001b[1;3mStatus: 200 OK\n",
      "Response: {\"data\":[{\"enable\":1,\"realm-type\":\"pve\",\"expire\":0,\"userid\":\"aala@pve\",\"email\":\"a.boukhriss@coral-io.fr\",\"firstname\":\"aala\",\"lastname\":\"aala\"},{\"realm-type\":\"pve\",\"enable\":1,\"expire\":0,\"comment\":\"//jawher-hcm\",\"userid\":\"jawher@pve\",\"email\":\"\"},{\"enable\":1,\"realm-type\":\"pve\",\"expire\":0,\"userid\":\"mohamed@pve\"},{\"userid\":\"nahrawess@pve\",\"realm-type\":\"pve\",\"expire\":0,\"enable\":1},{\"userid\":\"oumaima@pve\",\"expire\":0,\"realm-type\":\"pve\",\"enable\":1},{\"expire\":0,\"realm-type\":\"pve\",\"enable\":1,\"userid\":\"raed@pve\"},{\"realm-type\":\"pam\",\"expire\":0,\"enable\":1,\"userid\":\"root@pam\"},{\"expire\":0,\"realm-type\":\"pve\",\"enable\":1,\"userid\":\"wathek@pve\"},{\"userid\":\"yahia@pve\",\"expire\":0,\"realm-type\":\"pve\",\"enable\":1}]}\u001b[0m\n"
     ]
    },
    {
     "name": "stderr",
     "output_type": "stream",
     "text": [
      "Retrying langchain_google_genai.chat_models._chat_with_retry.<locals>._chat_with_retry in 2.0 seconds as it raised ResourceExhausted: 429 Resource has been exhausted (e.g. check quota)..\n",
      "Retrying langchain_google_genai.chat_models._chat_with_retry.<locals>._chat_with_retry in 4.0 seconds as it raised ResourceExhausted: 429 Resource has been exhausted (e.g. check quota)..\n",
      "Retrying langchain_google_genai.chat_models._chat_with_retry.<locals>._chat_with_retry in 8.0 seconds as it raised ResourceExhausted: 429 Resource has been exhausted (e.g. check quota)..\n"
     ]
    },
    {
     "name": "stdout",
     "output_type": "stream",
     "text": [
      "\n",
      "\u001b[1m> Finished chain.\u001b[0m\n",
      "The API response lists all users. \n",
      "\n"
     ]
    }
   ],
   "source": [
    "user_input = (\n",
    "    f\"get all users\"\n",
    ")\n",
    "response = chain.invoke(user_input)\n",
    "\n",
    "print(response['output'])"
   ]
  },
  {
   "cell_type": "markdown",
   "metadata": {},
   "source": [
    "# Get user permissions :"
   ]
  },
  {
   "cell_type": "code",
   "execution_count": null,
   "metadata": {},
   "outputs": [
    {
     "name": "stdout",
     "output_type": "stream",
     "text": [
      "\n",
      "\n",
      "\u001b[1m> Entering new ProxmoxAPIChain chain...\u001b[0m\n",
      "Retrieved Document 0: {\"endpoint\": \"/api2/json/access/permissions\", \"method\": \"get\", \"summary\": \"Retrieve/get effective permissions of given user/token.\", \"parameters\": [{\"name\": \"path\", \"in\": \"query\", \"required\": false, \"description\": \"Only dump this specific path, not the whole tree.\", \"schema\": {\"type\": \"string\"}}, {\"name\": \"userid\", \"in\": \"query\", \"required\": false, \"description\": \"User ID or full API token ID\", \"schema\": {\"type\": \"string\"}}]}\n",
      "Retrieved Document 1: {\"endpoint\": \"/api2/json/access/users\", \"method\": \"get\", \"summary\": \"User index.\", \"parameters\": [{\"name\": \"enabled\", \"in\": \"query\", \"required\": false, \"description\": \"Optional filter for enable property.\", \"schema\": {\"type\": \"boolean\"}}, {\"name\": \"full\", \"in\": \"query\", \"required\": false, \"description\": \"Include group and token information.\", \"schema\": {\"type\": \"boolean\", \"default\": false}}]}\n",
      "Retrieved Document 2: {\"endpoint\": \"/api2/json/nodes/{node}/qemu/{vmid}/config\", \"method\": \"get\", \"summary\": \"Get Virtual machine/Vm Configuration (config file)\", \"parameters\": [{\"name\": \"node\", \"in\": \"path\", \"required\": true, \"description\": \"Node ID where the VM is located\", \"schema\": {\"type\": \"string\"}}, {\"name\": \"vmid\", \"in\": \"path\", \"required\": true, \"description\": \"ID of the VM\", \"schema\": {\"type\": \"integer\"}}, {\"name\": \"current\", \"in\": \"query\", \"required\": false, \"description\": \"Get current values instead of pending values\", \"schema\": {\"type\": \"boolean\"}}]}\n",
      "\n",
      "Request info: {\n",
      "    \"api_url\": \"/api2/json/access/permissions\",\n",
      "    \"request_method\": \"get\",\n",
      "    \"request_body\": {}\n",
      "}\n",
      "API URL: https://ns31418912.ip-54-38-37.eu:8006//api2/json/access/permissions\n",
      "Request method: GET\n",
      "Request body: {}\n",
      "\u001b[33;1m\u001b[1;3mStatus: 200 OK\n",
      "Response: {\"data\":{\"/access/groups\":{\"Sys.Syslog\":1,\"VM.Console\":1,\"Datastore.AllocateTemplate\":1,\"Sys.Audit\":1,\"VM.Config.Options\":1,\"VM.Snapshot.Rollback\":1,\"Datastore.Allocate\":1,\"SDN.Allocate\":1,\"VM.Audit\":1,\"VM.Backup\":1,\"Group.Allocate\":1,\"Sys.Incoming\":1,\"SDN.Audit\":1,\"VM.Migrate\":1,\"Sys.Console\":1,\"Realm.Allocate\":1,\"Datastore.Audit\":1,\"Datastore.AllocateSpace\":1,\"VM.Config.Memory\":1,\"User.Modify\":1,\"VM.Config.Cloudinit\":1,\"VM.Config.CDROM\":1,\"VM.Allocate\":1,\"VM.PowerMgmt\":1,\"SDN.Use\":1,\"VM.Config.CPU\":1,\"VM.Clone\":1,\"VM.Config.Disk\":1,\"VM.Monitor\":1,\"VM.Config.HWType\":1,\"Realm.AllocateUser\":1,\"Pool.Allocate\":1,\"Sys.Modify\":1,\"VM.Snapshot\":1,\"Pool.Audit\":1,\"Permissions.Modify\":1,\"VM.Config.Network\":1,\"Sys.PowerMgmt\":1},\"/access\":{\"Datastore.Audit\":1,\"Realm.Allocate\":1,\"VM.Config.Cloudinit\":1,\"VM.Config.Memory\":1,\"User.Modify\":1,\"Datastore.AllocateSpace\":1,\"VM.Migrate\":1,\"Sys.Incoming\":1,\"SDN.Audit\":1,\"Group.Allocate\":1,\"VM.Backup\":1,\"Sys.Console\":1,\"Datastore.Allocate\":1,\"VM.Snapshot.Rollback\":1,\"VM.Config.Options\":1,\"VM.Audit\":1,\"SDN.Allocate\":1,\"VM.Console\":1,\"Sys.Syslog\":1,\"Sys.Audit\":1,\"Datastore.AllocateTemplate\":1,\"VM.Snapshot\":1,\"Sys.PowerMgmt\":1,\"VM.Config.Network\":1,\"Permissions.Modify\":1,\"Pool.Audit\":1,\"Realm.AllocateUser\":1,\"Sys.Modify\":1,\"Pool.Allocate\":1,\"SDN.Use\":1,\"VM.PowerMgmt\":1,\"VM.Config.HWType\":1,\"VM.Monitor\":1,\"VM.Clone\":1,\"VM.Config.Disk\":1,\"VM.Config.CPU\":1,\"VM.Allocate\":1,\"VM.Config.CDROM\":1},\"/nodes\":{\"VM.Config.Cloudinit\":1,\"User.Modify\":1,\"VM.Config.Memory\":1,\"Datastore.AllocateSpace\":1,\"Realm.Allocate\":1,\"Datastore.Audit\":1,\"Sys.Console\":1,\"VM.Migrate\":1,\"VM.Backup\":1,\"Sys.Incoming\":1,\"SDN.Audit\":1,\"Group.Allocate\":1,\"VM.Audit\":1,\"SDN.Allocate\":1,\"Datastore.Allocate\":1,\"VM.Config.Options\":1,\"VM.Snapshot.Rollback\":1,\"Sys.Audit\":1,\"Datastore.AllocateTemplate\":1,\"Sys.Syslog\":1,\"VM.Console\":1,\"Sys.PowerMgmt\":1,\"Permissions.Modify\":1,\"Pool.Audit\":1,\"VM.Config.Network\":1,\"VM.Snapshot\":1,\"Pool.Allocate\":1,\"Sys.Modify\":1,\"Realm.AllocateUser\":1,\"VM.Clone\":1,\"VM.Config.Disk\":1,\"VM.Monitor\":1,\"VM.Config.HWType\":1,\"VM.Config.CPU\":1,\"VM.PowerMgmt\":1,\"SDN.Use\":1,\"VM.Allocate\":1,\"VM.Config.CDROM\":1},\"/sdn\":{\"VM.Allocate\":1,\"VM.Config.CDROM\":1,\"VM.Clone\":1,\"VM.Config.Disk\":1,\"VM.Monitor\":1,\"VM.Config.HWType\":1,\"VM.Config.CPU\":1,\"VM.PowerMgmt\":1,\"SDN.Use\":1,\"Pool.Allocate\":1,\"Sys.Modify\":1,\"Realm.AllocateUser\":1,\"Sys.PowerMgmt\":1,\"Pool.Audit\":1,\"Permissions.Modify\":1,\"VM.Config.Network\":1,\"VM.Snapshot\":1,\"Sys.Audit\":1,\"Datastore.AllocateTemplate\":1,\"Sys.Syslog\":1,\"VM.Console\":1,\"VM.Audit\":1,\"SDN.Allocate\":1,\"Datastore.Allocate\":1,\"VM.Config.Options\":1,\"VM.Snapshot.Rollback\":1,\"Sys.Console\":1,\"VM.Migrate\":1,\"VM.Backup\":1,\"SDN.Audit\":1,\"Sys.Incoming\":1,\"Group.Allocate\":1,\"VM.Config.Cloudinit\":1,\"User.Modify\":1,\"VM.Config.Memory\":1,\"Datastore.AllocateSpace\":1,\"Realm.Allocate\":1,\"Datastore.Audit\":1},\"/vms\":{\"Sys.Syslog\":1,\"VM.Console\":1,\"Datastore.AllocateTemplate\":1,\"Sys.Audit\":1,\"VM.Config.Options\":1,\"VM.Snapshot.Rollback\":1,\"Datastore.Allocate\":1,\"SDN.Allocate\":1,\"VM.Audit\":1,\"VM.Backup\":1,\"Group.Allocate\":1,\"Sys.Incoming\":1,\"SDN.Audit\":1,\"VM.Migrate\":1,\"Sys.Console\":1,\"Realm.Allocate\":1,\"Datastore.Audit\":1,\"Datastore.AllocateSpace\":1,\"VM.Config.Memory\":1,\"User.Modify\":1,\"VM.Config.Cloudinit\":1,\"VM.Config.CDROM\":1,\"VM.Allocate\":1,\"VM.PowerMgmt\":1,\"SDN.Use\":1,\"VM.Config.CPU\":1,\"VM.Clone\":1,\"VM.Config.Disk\":1,\"VM.Config.HWType\":1,\"VM.Monitor\":1,\"Realm.AllocateUser\":1,\"Pool.Allocate\":1,\"Sys.Modify\":1,\"VM.Snapshot\":1,\"Pool.Audit\":1,\"Permissions.Modify\":1,\"VM.Config.Network\":1,\"Sys.PowerMgmt\":1},\"/storage\":{\"VM.Console\":1,\"Sys.Syslog\":1,\"Sys.Audit\":1,\"Datastore.AllocateTemplate\":1,\"Datastore.Allocate\":1,\"VM.Snapshot.Rollback\":1,\"VM.Config.Options\":1,\"VM.Audit\":1,\"SDN.Allocate\":1,\"VM.Migrate\":1,\"Group.Allocate\":1,\"Sys.Incoming\":1,\"SDN.Audit\":1,\"VM.Backup\":1,\"Sys.Console\":1,\"Datastore.Audit\":1,\"Realm.Allocate\":1,\"VM.Config.Cloudinit\":1,\"VM.Config.Memory\":1,\"User.Modify\":1,\"Datastore.AllocateSpace\":1,\"VM.Allocate\":1,\"VM.Config.CDROM\":1,\"VM.PowerMgmt\":1,\"SDN.Use\":1,\"VM.Config.HWType\":1,\"VM.Monitor\":1,\"VM.Clone\":1,\"VM.Config.Disk\":1,\"VM.Config.CPU\":1,\"Realm.AllocateUser\":1,\"Sys.Modify\":1,\"Pool.Allocate\":1,\"VM.Snapshot\":1,\"Sys.PowerMgmt\":1,\"VM.Config.Network\":1,\"Pool.Audit\":1,\"Permissions.Modify\":1},\"/pools\":{\"VM.Snapshot.Rollback\":1,\"VM.Config.Options\":1,\"Datastore.Allocate\":1,\"SDN.Allocate\":1,\"VM.Audit\":1,\"VM.Console\":1,\"Sys.Syslog\":1,\"Datastore.AllocateTemplate\":1,\"Sys.Audit\":1,\"Datastore.Audit\":1,\"Realm.Allocate\":1,\"Datastore.AllocateSpace\":1,\"VM.Config.Memory\":1,\"User.Modify\":1,\"VM.Config.Cloudinit\":1,\"Group.Allocate\":1,\"Sys.Incoming\":1,\"SDN.Audit\":1,\"VM.Backup\":1,\"VM.Migrate\":1,\"Sys.Console\":1,\"SDN.Use\":1,\"VM.PowerMgmt\":1,\"VM.Config.CPU\":1,\"VM.Monitor\":1,\"VM.Config.HWType\":1,\"VM.Clone\":1,\"VM.Config.Disk\":1,\"VM.Config.CDROM\":1,\"VM.Allocate\":1,\"VM.Snapshot\":1,\"VM.Config.Network\":1,\"Pool.Audit\":1,\"Permissions.Modify\":1,\"Sys.PowerMgmt\":1,\"Realm.AllocateUser\":1,\"Sys.Modify\":1,\"Pool.Allocate\":1},\"/\":{\"VM.Config.Disk\":1,\"VM.Clone\":1,\"VM.Config.HWType\":1,\"VM.Monitor\":1,\"VM.Config.CPU\":1,\"SDN.Use\":1,\"VM.PowerMgmt\":1,\"VM.Allocate\":1,\"VM.Config.CDROM\":1,\"Sys.PowerMgmt\":1,\"Pool.Audit\":1,\"Permissions.Modify\":1,\"VM.Config.Network\":1,\"VM.Snapshot\":1,\"Pool.Allocate\":1,\"Sys.Modify\":1,\"Realm.AllocateUser\":1,\"VM.Audit\":1,\"SDN.Allocate\":1,\"Datastore.Allocate\":1,\"VM.Config.Options\":1,\"VM.Snapshot.Rollback\":1,\"Sys.Audit\":1,\"Datastore.AllocateTemplate\":1,\"Sys.Syslog\":1,\"VM.Console\":1,\"VM.Config.Cloudinit\":1,\"VM.Config.Memory\":1,\"User.Modify\":1,\"Datastore.AllocateSpace\":1,\"Realm.Allocate\":1,\"Datastore.Audit\":1,\"Sys.Console\":1,\"VM.Migrate\":1,\"VM.Backup\":1,\"Group.Allocate\":1,\"SDN.Audit\":1,\"Sys.Incoming\":1}}}\u001b[0m\n",
      "\n",
      "\u001b[1m> Finished chain.\u001b[0m\n",
      "The user oumaima@pve has permissions to perform various actions, including managing virtual machines, storage, networks, and users. \n",
      "\n"
     ]
    }
   ],
   "source": [
    "user_input = (\n",
    "    f\"get permissions of user with id oumaima@pve \"\n",
    ")\n",
    "response = chain.invoke(user_input)\n",
    "\n",
    "print(response['output'])"
   ]
  }
 ],
 "metadata": {
  "kernelspec": {
   "display_name": "Python 3",
   "language": "python",
   "name": "python3"
  },
  "language_info": {
   "codemirror_mode": {
    "name": "ipython",
    "version": 3
   },
   "file_extension": ".py",
   "mimetype": "text/x-python",
   "name": "python",
   "nbconvert_exporter": "python",
   "pygments_lexer": "ipython3",
   "version": "3.12.3"
  }
 },
 "nbformat": 4,
 "nbformat_minor": 2
}
