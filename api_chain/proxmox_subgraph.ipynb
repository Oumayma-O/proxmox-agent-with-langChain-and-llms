{
 "cells": [
  {
   "cell_type": "markdown",
   "metadata": {},
   "source": [
    "# Setup"
   ]
  },
  {
   "cell_type": "code",
   "execution_count": 40,
   "metadata": {},
   "outputs": [],
   "source": [
    "from proxmox.dict import proxmox_nodes\n",
    "from proxmox.docs import _proxmox_api_docs\n",
    "from proxmox.base import ProxmoxAPIChain\n",
    "from langchain.text_splitter import RecursiveJsonSplitter\n",
    "from langchain_community.embeddings.sentence_transformer import SentenceTransformerEmbeddings\n",
    "from langchain.retrievers import ContextualCompressionRetriever\n",
    "from langchain_community.cross_encoders import HuggingFaceCrossEncoder\n",
    "from langchain.retrievers.document_compressors import CrossEncoderReranker\n",
    "from langchain_community.vectorstores.surrealdb import SurrealDBStore\n",
    "from langchain_huggingface import HuggingFaceEmbeddings\n",
    "import nest_asyncio\n",
    "import os\n",
    "import hvac\n",
    "from dotenv import load_dotenv\n",
    "from tqdm.autonotebook import tqdm, trange\n",
    "import torch\n",
    "import getpass"
   ]
  },
  {
   "cell_type": "code",
   "execution_count": 41,
   "metadata": {},
   "outputs": [
    {
     "data": {
      "text/plain": [
       "True"
      ]
     },
     "execution_count": 41,
     "metadata": {},
     "output_type": "execute_result"
    }
   ],
   "source": [
    "# Load environment variables from .env file\n",
    "load_dotenv()"
   ]
  },
  {
   "cell_type": "code",
   "execution_count": 29,
   "metadata": {},
   "outputs": [
    {
     "name": "stdout",
     "output_type": "stream",
     "text": [
      "Request to Vault failed: 2 errors occurred:\n",
      "\t* permission denied\n",
      "\t* invalid token\n",
      "\n",
      ", on get http://46.105.247.55:8200/v1/kv/data/users/accounts/surrealdb\n",
      "Failed to retrieve SurrealDB URL.\n",
      "Request to Vault failed: 2 errors occurred:\n",
      "\t* permission denied\n",
      "\t* invalid token\n",
      "\n",
      ", on get http://46.105.247.55:8200/v1/kv/data/users/accounts/surrealdb/oumaima\n",
      "Failed to retrieve SurrealDB credentials.\n"
     ]
    }
   ],
   "source": [
    "def get_vault_token():\n",
    "    token = os.getenv('VAULT_TOKEN')\n",
    "    if not token:\n",
    "        os.environ['VAULT_TOKEN'] = getpass.getpass(f\"Please provide your Vault token:\").strip()\n",
    "    return os.environ['VAULT_TOKEN']\n",
    "\n",
    "# Function to access the secret from Vault\n",
    "def access_vault_secret(vault_token, url, secret_path):\n",
    "    try:\n",
    "        client = hvac.Client(url=url, token=vault_token)\n",
    "        response = client.secrets.kv.v2.read_secret_version(path=secret_path, mount_point=\"kv\" , raise_on_deleted_version=True)\n",
    "        if response:\n",
    "            secret_data = response['data']['data']\n",
    "            print(f\"Accessed Vault secret at {secret_path}.\")\n",
    "            return secret_data\n",
    "        else:\n",
    "            print(f\"Failed to access Vault secret at {secret_path}.\")\n",
    "            return None\n",
    "    except hvac.exceptions.VaultError as e:\n",
    "        print(f\"Request to Vault failed: {e}\")\n",
    "        return None\n",
    "\n",
    "vault_token = get_vault_token()\n",
    "\n",
    "# Retrieve Vault URL from environment variables\n",
    "vault_url = os.getenv('VAULT_URL')\n",
    "\n",
    "# Paths to secrets in Vault\n",
    "#proxmox_secret_path = \"users/accounts/api-tokens/proxmox/oumaima\"\n",
    "surrealdb_url_path = \"users/accounts/surrealdb\"\n",
    "surrealdb_credentials_path = \"users/accounts/surrealdb/oumaima\"\n",
    "\n",
    "# Access SurrealDB URL from Vault\n",
    "surrealdb_url_secret = access_vault_secret(vault_token, vault_url, surrealdb_url_path)\n",
    "if surrealdb_url_secret:\n",
    "    os.environ['SURREALDB_URL'] = surrealdb_url_secret.get('url')\n",
    "else:\n",
    "    print(\"Failed to retrieve SurrealDB URL.\")\n",
    "\n",
    "# Access SurrealDB credentials from Vault\n",
    "surrealdb_credentials_secret = access_vault_secret(vault_token, vault_url, surrealdb_credentials_path)\n",
    "if surrealdb_credentials_secret:\n",
    "    os.environ['SURREALDB_USER'] = surrealdb_credentials_secret.get('user')\n",
    "    os.environ['SURREALDB_PWD'] = surrealdb_credentials_secret.get('password')\n",
    "else:\n",
    "    print(\"Failed to retrieve SurrealDB credentials.\")"
   ]
  },
  {
   "cell_type": "code",
   "execution_count": 42,
   "metadata": {},
   "outputs": [],
   "source": [
    "proxmox_HCM_api_token = os.getenv('PROXMOX_HCM_API_TOKEN')\n",
    "node5_api_token = os.getenv('NODE_5_API_TOKEN')\n",
    "surrealdb_url = os.getenv('SURREALDB_URL')\n",
    "surrealdb_user = os.getenv('SURREALDB_USER')\n",
    "surrealdb_password = os.getenv('SURREALDB_PWD')"
   ]
  },
  {
   "cell_type": "code",
   "execution_count": 43,
   "metadata": {},
   "outputs": [],
   "source": [
    "splitter = RecursiveJsonSplitter(max_chunk_size=4000)\n",
    "docs = splitter.create_documents(_proxmox_api_docs)"
   ]
  },
  {
   "cell_type": "code",
   "execution_count": 44,
   "metadata": {},
   "outputs": [
    {
     "name": "stderr",
     "output_type": "stream",
     "text": [
      "Some weights of the model checkpoint at infgrad/stella_en_400M_v5 were not used when initializing NewModel: ['new.pooler.dense.bias', 'new.pooler.dense.weight']\n",
      "- This IS expected if you are initializing NewModel from the checkpoint of a model trained on another task or with another architecture (e.g. initializing a BertForSequenceClassification model from a BertForPreTraining model).\n",
      "- This IS NOT expected if you are initializing NewModel from the checkpoint of a model that you expect to be exactly identical (initializing a BertForSequenceClassification model from a BertForSequenceClassification model).\n"
     ]
    }
   ],
   "source": [
    "# Initialize the SentenceTransformerEmbeddings with trust_remote_code=True\n",
    "ef = HuggingFaceEmbeddings(\n",
    "    model_name=\"infgrad/stella_en_400M_v5\",\n",
    "    model_kwargs={\n",
    "        \"trust_remote_code\": True,\n",
    "    }\n",
    ")"
   ]
  },
  {
   "cell_type": "code",
   "execution_count": 45,
   "metadata": {},
   "outputs": [],
   "source": [
    "nest_asyncio.apply()\n",
    "\n",
    "# SurrealDB connection parameters\n",
    "dburl = \"ws://localhost:8000/rpc\"\n",
    "ns = \"langchain\"\n",
    "db_name = \"proxmox_api_docs\"\n",
    "collection = \"proxmox_collection\"\n",
    "db_user = surrealdb_user\n",
    "db_pass = surrealdb_password\n",
    "\n",
    "# Initialize the SurrealDBStore with documents\n",
    "db = SurrealDBStore(\n",
    "    embedding_function=ef,\n",
    "    dburl=dburl,\n",
    "    ns=ns,\n",
    "    db=db_name,\n",
    "    collection=collection,\n",
    "    db_user=db_user,\n",
    "    db_pass=db_pass\n",
    ")\n",
    "\n",
    "\n",
    "# this is needed to initialize the underlying async library for SurrealDB\n",
    "await db.initialize()\n",
    "\n",
    "# delete collection from the vectorstore collection if it exists \n",
    "await db.adelete(collection = collection)\n",
    "\n",
    "# add documents to the vectorstore\n",
    "ids = await db.aadd_documents(docs)\n",
    "\n",
    "retriever = db.as_retriever(search_type=\"similarity\", search_kwargs={\"k\": 3})\n",
    "\n",
    "# Initialize the cross-encoder model\n",
    "#cross_encoder_model = HuggingFaceCrossEncoder(model_name=\"BAAI/bge-reranker-base\")\n",
    "cross_encoder_model = HuggingFaceCrossEncoder(model_name=\"cross-encoder/ms-marco-MiniLM-L-6-v2\")\n",
    "compressor = CrossEncoderReranker(model=cross_encoder_model, top_n=3)\n",
    "compression_retriever = ContextualCompressionRetriever(\n",
    "    base_compressor=compressor, base_retriever=retriever\n",
    ")"
   ]
  },
  {
   "cell_type": "code",
   "execution_count": 46,
   "metadata": {},
   "outputs": [],
   "source": [
    "from langchain_google_genai import ChatGoogleGenerativeAI\n",
    "\n",
    "# Initialize the llm with the new model\n",
    "llm = ChatGoogleGenerativeAI(model=\"gemini-1.5-flash-latest\", temperature=0)"
   ]
  },
  {
   "cell_type": "markdown",
   "metadata": {},
   "source": [
    "# Team approach"
   ]
  },
  {
   "cell_type": "code",
   "execution_count": 81,
   "metadata": {},
   "outputs": [],
   "source": [
    "from langchain_core.prompts import ChatPromptTemplate\n",
    "from langchain_core.pydantic_v1 import BaseModel, Field\n",
    "from langchain_core.output_parsers import JsonOutputParser\n",
    "from langchain.prompts import PromptTemplate\n",
    "from langchain_ollama import ChatOllama\n",
    "\n",
    "# Define the prompt template\n",
    "prompt = PromptTemplate(\n",
    "    template=(\"\"\"\n",
    "    You are a supervisor tasked with routing a query to one of the following workers: ProxmoxHCM, Node5. \n",
    "    Given the following user request, respond with the worker to act next. Each worker will perform a task \n",
    "    and respond with their results and status. The worker output will be returned to the user. \n",
    "    The options for workers are [\"ProxmoxHCM\", \"Node5\"]. Return 'end' if the request isn't related to any of the given workers.\n",
    "\n",
    "    User request: {question}\n",
    "\n",
    "    Respond in JSON format with a single key \"next_worker\" which holds the worker name.\n",
    "\n",
    "    Next worker :\n",
    "    \"\"\"),\n",
    "    input_variables=[\"question\"]\n",
    ")\n",
    "\n",
    "# Initialize the LLM\n",
    "llm_sup = ChatOllama(model=\"llama3.1\", temperature=0, format=\"json\")\n",
    "\n",
    "# Combine prompt and LLM with JsonOutputParser\n",
    "sup_chain = prompt | llm_sup | JsonOutputParser()\n"
   ]
  },
  {
   "cell_type": "code",
   "execution_count": 82,
   "metadata": {},
   "outputs": [
    {
     "data": {
      "text/plain": [
       "{'next_worker': 'ProxmoxHCM'}"
      ]
     },
     "execution_count": 82,
     "metadata": {},
     "output_type": "execute_result"
    }
   ],
   "source": [
    "sup_chain.invoke({\n",
    "    \"question\": \"How many Vms on node Proxmox-Node-HCM\",\n",
    "})"
   ]
  },
  {
   "cell_type": "code",
   "execution_count": 83,
   "metadata": {},
   "outputs": [],
   "source": [
    "from langchain_core.messages import BaseMessage\n",
    "import operator\n",
    "from typing import Annotated, List, TypedDict, Literal\n",
    "\n",
    "\n",
    "class ProxmoxTeamState(TypedDict):\n",
    "    messages: List[BaseMessage]\n",
    "    team_members: List[str]\n",
    "    next: str"
   ]
  },
  {
   "cell_type": "code",
   "execution_count": 84,
   "metadata": {},
   "outputs": [],
   "source": [
    "def supervisor(state: ProxmoxTeamState) -> ProxmoxTeamState:\n",
    "    print(f\"processing_request: Current state: {state}\")\n",
    "    question = state[\"messages\"][0]\n",
    "    result = sup_chain.invoke({\"question\": question})\n",
    "    state[\"next\"] = result[\"next_worker\"]\n",
    "    state[\"team_members\"] = list(proxmox_nodes.keys())\n",
    "    return state"
   ]
  },
  {
   "cell_type": "code",
   "execution_count": 85,
   "metadata": {},
   "outputs": [
    {
     "name": "stdout",
     "output_type": "stream",
     "text": [
      "processing_request: Current state: {'messages': [\"list Vms on node 'Proxmox-Node-HCM'\"], 'next': None, 'team_members': []}\n"
     ]
    },
    {
     "data": {
      "text/plain": [
       "{'messages': [\"list Vms on node 'Proxmox-Node-HCM'\"],\n",
       " 'next': 'ProxmoxHCM',\n",
       " 'team_members': ['ProxmoxHCM', 'Node5']}"
      ]
     },
     "execution_count": 85,
     "metadata": {},
     "output_type": "execute_result"
    }
   ],
   "source": [
    "initial_state = {\n",
    "            \"messages\": [\"list Vms on node 'Proxmox-Node-HCM'\"],\n",
    "            \"next\": None,\n",
    "            \"team_members\": []\n",
    "        }\n",
    "supervisor(initial_state)"
   ]
  },
  {
   "cell_type": "code",
   "execution_count": 86,
   "metadata": {},
   "outputs": [],
   "source": [
    "from langchain_google_genai import ChatGoogleGenerativeAI\n",
    "\n",
    "# Initialize the llm with the new model\n",
    "llm = ChatGoogleGenerativeAI(model=\"gemini-1.5-flash-latest\", temperature=0)"
   ]
  },
  {
   "cell_type": "code",
   "execution_count": 87,
   "metadata": {},
   "outputs": [],
   "source": [
    "agents = {}\n",
    "\n",
    "for node_name, node_info in proxmox_nodes.items():\n",
    "    chain = ProxmoxAPIChain.from_llm_and_api_docs(\n",
    "        llm,\n",
    "        retriever=compression_retriever,\n",
    "        headers={\"Authorization\": node_info['api_token']},\n",
    "        pve_token=node_info['api_token'],\n",
    "        verbose=True,\n",
    "        limit_to_domains=[node_info[\"base_url\"]],\n",
    "        base_url=node_info[\"base_url\"],\n",
    "    )\n",
    "    agents[node_name] = chain"
   ]
  },
  {
   "cell_type": "code",
   "execution_count": 88,
   "metadata": {},
   "outputs": [
    {
     "name": "stdout",
     "output_type": "stream",
     "text": [
      "\n",
      "\n",
      "\u001b[1m> Entering new ProxmoxAPIChain chain...\u001b[0m\n"
     ]
    },
    {
     "name": "stderr",
     "output_type": "stream",
     "text": [
      "Task was destroyed but it is pending!\n",
      "task: <Task pending name='Task-26' coro=<WebSocketCommonProtocol.transfer_data() running at c:\\Users\\oumay\\.vscode\\agent-scripts\\venv\\Lib\\site-packages\\websockets\\legacy\\protocol.py:968> wait_for=<Future pending cb=[Task.__wakeup()]> cb=[Task.__wakeup()]>\n",
      "Task was destroyed but it is pending!\n",
      "task: <Task pending name='Task-27' coro=<WebSocketCommonProtocol.keepalive_ping() running at c:\\Users\\oumay\\.vscode\\agent-scripts\\venv\\Lib\\site-packages\\websockets\\legacy\\protocol.py:1259> wait_for=<Future pending cb=[Task.__wakeup()]>>\n",
      "Task was destroyed but it is pending!\n",
      "task: <Task pending name='Task-28' coro=<WebSocketCommonProtocol.close_connection() running at c:\\Users\\oumay\\.vscode\\agent-scripts\\venv\\Lib\\site-packages\\websockets\\legacy\\protocol.py:1314> wait_for=<Task pending name='Task-26' coro=<WebSocketCommonProtocol.transfer_data() running at c:\\Users\\oumay\\.vscode\\agent-scripts\\venv\\Lib\\site-packages\\websockets\\legacy\\protocol.py:968> wait_for=<Future pending cb=[Task.__wakeup()]> cb=[Task.__wakeup()]>>\n",
      "Exception ignored in: <coroutine object WebSocketCommonProtocol.close_connection at 0x0000021EE5B09B10>\n",
      "Traceback (most recent call last):\n",
      "  File \"c:\\Users\\oumay\\.vscode\\agent-scripts\\venv\\Lib\\site-packages\\websockets\\legacy\\protocol.py\", line 1354, in close_connection\n",
      "    await self.close_transport()\n",
      "  File \"c:\\Users\\oumay\\.vscode\\agent-scripts\\venv\\Lib\\site-packages\\websockets\\legacy\\protocol.py\", line 1370, in close_transport\n",
      "    self.transport.close()\n",
      "  File \"C:\\Python312\\Lib\\asyncio\\selector_events.py\", line 1210, in close\n",
      "    super().close()\n",
      "  File \"C:\\Python312\\Lib\\asyncio\\selector_events.py\", line 875, in close\n",
      "    self._loop.call_soon(self._call_connection_lost, None)\n",
      "  File \"C:\\Python312\\Lib\\asyncio\\base_events.py\", line 795, in call_soon\n",
      "    self._check_closed()\n",
      "  File \"C:\\Python312\\Lib\\asyncio\\base_events.py\", line 541, in _check_closed\n",
      "    raise RuntimeError('Event loop is closed')\n",
      "RuntimeError: Event loop is closed\n"
     ]
    },
    {
     "name": "stdout",
     "output_type": "stream",
     "text": [
      "Retrieved Document 0: {\"endpoint\": \"/api2/json/nodes/{node}/qemu\", \"method\": \"get\", \"summary\": \"List Virtual machines (VMs) on a Node\", \"parameters\": [{\"name\": \"node\", \"in\": \"path\", \"required\": true, \"description\": \"Node ID where VMs are located\", \"schema\": {\"type\": \"string\"}}]}\n",
      "Retrieved Document 1: {\"endpoint\": \"/api2/json/nodes/{node}/qemu/{vmid}/config\", \"method\": \"get\", \"summary\": \"Get Virtual machine/Vm Configuration (config file)\", \"parameters\": [{\"name\": \"node\", \"in\": \"path\", \"required\": true, \"description\": \"Node ID where the VM is located\", \"schema\": {\"type\": \"string\"}}, {\"name\": \"vmid\", \"in\": \"path\", \"required\": true, \"description\": \"ID of the VM\", \"schema\": {\"type\": \"integer\"}}, {\"name\": \"current\", \"in\": \"query\", \"required\": false, \"description\": \"Get current values instead of pending values\", \"schema\": {\"type\": \"boolean\"}}]}\n",
      "Retrieved Document 2: {\"endpoint\": \"/api2/json/nodes/{node}/lxc\", \"methods\": \"get\", \"summary\": \"List LXC Containers on a Node\", \"description\": \"List all containers available on a node\", \"parameters\": [{\"name\": \"node\", \"in\": \"path\", \"required\": true, \"description\": \"Node ID where LXC containers are located\", \"schema\": {\"type\": \"string\"}}]}\n",
      "\n",
      "Request info: {\n",
      "    \"api_url\": \"https://ns31418912.ip-54-38-37.eu:8006/api2/json/nodes/Proxmox-Node-HCM/qemu\",\n",
      "    \"request_method\": \"get\",\n",
      "    \"request_body\": {}\n",
      "}\n",
      "API URL: https://ns31418912.ip-54-38-37.eu:8006/api2/json/nodes/Proxmox-Node-HCM/qemu\n",
      "Request method: GET\n",
      "Request body: {}\n",
      "\u001b[38;5;200m\u001b[1;3mStatus: 200 OK\n",
      "Response: {\"data\":[{\"mem\":0,\"status\":\"stopped\",\"netin\":0,\"maxdisk\":34359738368,\"vmid\":9999,\"disk\":0,\"uptime\":0,\"diskread\":0,\"maxmem\":2147483648,\"netout\":0,\"name\":\"my-vm\",\"diskwrite\":0,\"cpus\":2,\"cpu\":0},{\"netin\":936880971,\"maxdisk\":34359738368,\"mem\":2307670787,\"status\":\"running\",\"uptime\":2003933,\"pid\":3793132,\"diskread\":0,\"maxmem\":8589934592,\"name\":\"primary-test\",\"netout\":9576014,\"diskwrite\":0,\"cpus\":4,\"cpu\":0.00103003693538165,\"vmid\":110,\"disk\":0},{\"vmid\":108,\"disk\":0,\"uptime\":2440373,\"pid\":1998484,\"diskread\":0,\"maxmem\":8589934592,\"netout\":10103901,\"name\":\"PgSQL-IMX-Replicaset\",\"diskwrite\":0,\"cpu\":0.00541867771693664,\"cpus\":4,\"mem\":2886242861,\"status\":\"running\",\"netin\":889862623,\"maxdisk\":107374182400},{\"mem\":7184124216,\"status\":\"running\",\"netin\":201364193,\"maxdisk\":107374182400,\"vmid\":104,\"disk\":0,\"diskread\":0,\"pid\":3748081,\"uptime\":4080774,\"cpu\":0.000737135437168858,\"cpus\":4,\"diskwrite\":0,\"netout\":27469822,\"name\":\"PgSQL-IMX\",\"maxmem\":8589934592},{\"netin\":534616247,\"maxdisk\":107374182400,\"mem\":1186292938,\"status\":\"running\",\"diskread\":0,\"pid\":3099455,\"uptime\":4240306,\"cpus\":4,\"cpu\":0.0151430074576013,\"diskwrite\":0,\"name\":\"SurrealDB-IMX\",\"netout\":203210692,\"maxmem\":4294967296,\"vmid\":102,\"disk\":0},{\"diskread\":0,\"uptime\":4080086,\"pid\":3751193,\"diskwrite\":0,\"cpu\":0.000732253745531978,\"cpus\":2,\"maxmem\":4294967296,\"name\":\"Ansible-controller\",\"netout\":171035508,\"vmid\":106,\"disk\":0,\"netin\":180037739,\"maxdisk\":34359738368,\"mem\":3325666879,\"status\":\"running\"},{\"mem\":20259730,\"status\":\"running\",\"netin\":488841243,\"maxdisk\":34359738368,\"vmid\":1001,\"disk\":0,\"diskread\":0,\"pid\":2790383,\"uptime\":2251001,\"cpu\":0.606989538129641,\"cpus\":1,\"diskwrite\":0,\"name\":\"test-vm\",\"netout\":156958743,\"maxmem\":536870912},{\"diskread\":0,\"tags\":\"critical;poc\",\"pid\":3634760,\"uptime\":6672367,\"cpus\":2,\"cpu\":0.00751780512079497,\"diskwrite\":0,\"netout\":537382446,\"name\":\"Mongo-IMX\",\"maxmem\":8489271296,\"vmid\":100,\"disk\":0,\"netin\":3416159166,\"maxdisk\":137438953472,\"mem\":4354751645,\"status\":\"running\"},{\"diskread\":0,\"uptime\":0,\"cpus\":1,\"cpu\":0,\"diskwrite\":0,\"netout\":0,\"name\":\"VM 10001\",\"maxmem\":536870912,\"vmid\":10001,\"disk\":0,\"netin\":0,\"maxdisk\":0,\"mem\":0,\"status\":\"stopped\"},{\"disk\":0,\"vmid\":101,\"cpu\":0.0134344153846934,\"cpus\":2,\"diskwrite\":0,\"name\":\"test-vault01\",\"netout\":660923106,\"maxmem\":8589934592,\"diskread\":0,\"pid\":1787620,\"uptime\":6129539,\"status\":\"running\",\"mem\":3552741640,\"maxdisk\":107374182400,\"netin\":1749657672},{\"maxdisk\":107374182400,\"netin\":204913515,\"status\":\"running\",\"mem\":867913913,\"maxmem\":8589934592,\"netout\":4644798,\"name\":\"PgSQL-Primary\",\"diskwrite\":0,\"cpus\":4,\"cpu\":0.00066879175425254,\"uptime\":2326265,\"pid\":2483630,\"diskread\":0,\"disk\":0,\"vmid\":109},{\"netin\":8680493008,\"maxdisk\":34359738368,\"mem\":1330852836,\"status\":\"running\",\"uptime\":4751309,\"pid\":1003406,\"diskread\":0,\"maxmem\":2147483648,\"name\":\"NewRelic-GitLab\",\"netout\":2341618139,\"diskwrite\":0,\"cpu\":0.00182575267219306,\"cpus\":2,\"vmid\":2000,\"disk\":0},{\"status\":\"stopped\",\"mem\":0,\"maxdisk\":0,\"netin\":0,\"disk\":0,\"vmid\":10004,\"maxmem\":536870912,\"name\":\"VM 10004\",\"netout\":0,\"diskwrite\":0,\"cpu\":0,\"cpus\":1,\"uptime\":0,\"diskread\":0},{\"vmid\":10002,\"disk\":0,\"uptime\":0,\"diskread\":0,\"name\":\"VM 10002\",\"netout\":0,\"maxmem\":536870912,\"cpu\":0,\"cpus\":1,\"diskwrite\":0,\"mem\":0,\"status\":\"stopped\",\"netin\":0,\"maxdisk\":0},{\"disk\":0,\"vmid\":107,\"cpu\":0.00228463168605977,\"cpus\":1,\"diskwrite\":0,\"netout\":24041573,\"name\":\"test-mfa\",\"maxmem\":2147483648,\"diskread\":0,\"pid\":1822073,\"uptime\":2484669,\"status\":\"running\",\"mem\":771818201,\"maxdisk\":34359738368,\"netin\":1249936521}]}\u001b[0m\n",
      "\n",
      "\u001b[1m> Finished chain.\u001b[0m\n",
      "{'question': \"list Vms on node 'Proxmox-Node-HCM'\", 'output': 'The virtual machines running on the Proxmox-Node-HCM node are: my-vm, primary-test, PgSQL-IMX-Replicaset, PgSQL-IMX, SurrealDB-IMX, Ansible-controller, test-vm, Mongo-IMX, VM 10001, test-vault01, PgSQL-Primary, NewRelic-GitLab, VM 10004, VM 10002, and test-mfa. \\n'}\n"
     ]
    }
   ],
   "source": [
    "result = agents[\"ProxmoxHCM\"].invoke((\"list Vms on node 'Proxmox-Node-HCM'\"))\n",
    "print(result)"
   ]
  },
  {
   "cell_type": "code",
   "execution_count": 89,
   "metadata": {},
   "outputs": [],
   "source": [
    "def Worker_node(state: ProxmoxTeamState, node_name: str) -> ProxmoxTeamState:\n",
    "    print(f\"{state['next']} / {node_name}\")\n",
    "    question = state[\"messages\"][0]\n",
    "    result = agents[node_name].invoke(input=question)\n",
    "    state[\"messages\"].append(result)\n",
    "    return state"
   ]
  },
  {
   "cell_type": "code",
   "execution_count": 90,
   "metadata": {},
   "outputs": [
    {
     "name": "stdout",
     "output_type": "stream",
     "text": [
      "ProxmoxHCM / ProxmoxHCM\n",
      "\n",
      "\n",
      "\u001b[1m> Entering new ProxmoxAPIChain chain...\u001b[0m\n",
      "Retrieved Document 0: {\"endpoint\": \"/api2/json/nodes/{node}/qemu\", \"method\": \"get\", \"summary\": \"List Virtual machines (VMs) on a Node\", \"parameters\": [{\"name\": \"node\", \"in\": \"path\", \"required\": true, \"description\": \"Node ID where VMs are located\", \"schema\": {\"type\": \"string\"}}]}\n",
      "Retrieved Document 1: {\"endpoint\": \"/api2/json/nodes/{node}/qemu\", \"method\": \"post\", \"summary\": \"Create a Virtual machine (VM) \", \"description\": \"Use this endpoint to create a new virtual machine on the specified node. This endpoint is used for initial creation and can be used for the allocation of resources such as memory, cores, and storage.\", \"parameters\": [{\"name\": \"node\", \"in\": \"path\", \"required\": true, \"description\": \"Node ID where the VM will be created\", \"schema\": {\"type\": \"string\"}}], \"requestBody\": {\"required\": true, \"content\": {\"application/json\": {\"schema\": {\"type\": \"object\", \"properties\": {\"vmid\": {\"type\": \"integer\", \"description\": \"VM ID\"}, \"name\": {\"type\": \"string\", \"description\": \"Name of the VM\"}, \"memory\": {\"type\": \"integer\", \"description\": \"Memory size in MB\"}, \"cores\": {\"type\": \"integer\", \"description\": \"Number of CPU cores\"}, \"ide0\": {\"type\": \"string\", \"description\": \"Disk size and format, e.g., \\\"local:32,format=qcow2\\\"\"}, \"net0\": {\"type\": \"string\", \"description\": \"Network configuration, e.g., \\\"virtio,bridge=vmbr0\\\"\"}, \"ostype\": {\"type\": \"string\", \"description\": \"OS type, e.g., \\\"l26\\\" for Linux\"}}, \"required\": [\"node\", \"vmid\"]}}}}}\n",
      "Retrieved Document 2: {\"endpoint\": \"/api2/json/nodes/{node}/qemu/{vmid}/config\", \"method\": \"post\", \"summary\": \"Set initial configuration options of a Virtual machine\", \"description\": \"Use this endpoint to set the initial configuration of a new virtual machine. This is useful when you need to define settings such as memory, cores, CPU type, and other parameters for a VM that is being created.\", \"parameters\": [{\"name\": \"node\", \"in\": \"path\", \"required\": true, \"description\": \"The cluster node name\", \"schema\": {\"type\": \"string\"}}, {\"name\": \"vmid\", \"in\": \"path\", \"required\": true, \"description\": \"The (unique) ID of the VM\", \"schema\": {\"type\": \"integer\", \"minimum\": 100, \"maximum\": 999999999}}], \"requestBody\": {\"required\": true, \"content\": {\"application/json\": {\"schema\": {\"type\": \"object\", \"properties\": {\"memory\": {\"type\": \"integer\", \"description\": \"Amount of RAM for the VM in MiB\", \"minimum\": 16}, \"cores\": {\"type\": \"integer\", \"description\": \"Number of cores per socket\", \"minimum\": 1}, \"cpu\": {\"type\": \"string\", \"description\": \"Emulated CPU type\"}, \"name\": {\"type\": \"string\", \"description\": \"Set a name for the VM\"}, \"net\": {\"type\": \"string\", \"description\": \"Specify network devices\"}, \"ostype\": {\"type\": \"string\", \"description\": \"Specify guest operating system\", \"enum\": [\"other\", \"wxp\", \"w2k\", \"w2k3\", \"w2k8\", \"wvista\", \"win7\", \"win8\", \"win10\", \"win11\", \"l24\", \"l26\", \"solaris\", \"opensolaris\", \"netbsd\", \"freebsd\", \"openbsd\"]}, \"disk\": {\"type\": \"string\", \"description\": \"Specify disk size and type, e.g., 'size=10G,ssd=1'\"}, \"boot\": {\"type\": \"string\", \"description\": \"Specify guest boot order, e.g., 'order=cdrom;ide0'\"}}}}}}}\n",
      "\n",
      "Request info: {\n",
      "    \"api_url\": \"https://ns31418912.ip-54-38-37.eu:8006/api2/json/nodes/Proxmox-Node-HCM/qemu\",\n",
      "    \"request_method\": \"get\",\n",
      "    \"request_body\": {}\n",
      "}\n",
      "API URL: https://ns31418912.ip-54-38-37.eu:8006/api2/json/nodes/Proxmox-Node-HCM/qemu\n",
      "Request method: GET\n",
      "Request body: {}\n",
      "\u001b[38;5;200m\u001b[1;3mStatus: 200 OK\n",
      "Response: {\"data\":[{\"cpus\":4,\"cpu\":0.000929992391200329,\"diskwrite\":0,\"name\":\"PgSQL-IMX\",\"netout\":27469822,\"maxmem\":8589934592,\"diskread\":0,\"pid\":3748081,\"uptime\":4080780,\"disk\":0,\"vmid\":104,\"maxdisk\":107374182400,\"netin\":201364193,\"status\":\"running\",\"mem\":7184124216},{\"vmid\":108,\"disk\":0,\"diskread\":0,\"pid\":1998484,\"uptime\":2440378,\"cpu\":0.00464996195600164,\"cpus\":4,\"diskwrite\":0,\"netout\":10103901,\"name\":\"PgSQL-IMX-Replicaset\",\"maxmem\":8589934592,\"mem\":2886242861,\"status\":\"running\",\"netin\":889862623,\"maxdisk\":107374182400},{\"vmid\":9999,\"disk\":0,\"diskread\":0,\"uptime\":0,\"cpus\":2,\"cpu\":0,\"diskwrite\":0,\"netout\":0,\"name\":\"my-vm\",\"maxmem\":2147483648,\"mem\":0,\"status\":\"stopped\",\"netin\":0,\"maxdisk\":34359738368},{\"mem\":2307670787,\"status\":\"running\",\"netin\":936880971,\"maxdisk\":34359738368,\"vmid\":110,\"disk\":0,\"pid\":3793132,\"uptime\":2003938,\"diskread\":0,\"name\":\"primary-test\",\"netout\":9576014,\"maxmem\":8589934592,\"cpu\":0.000929992391200329,\"cpus\":4,\"diskwrite\":0},{\"mem\":3325666879,\"status\":\"running\",\"netin\":180037739,\"maxdisk\":34359738368,\"vmid\":106,\"disk\":0,\"uptime\":4080092,\"pid\":3751193,\"diskread\":0,\"maxmem\":4294967296,\"name\":\"Ansible-controller\",\"netout\":171035508,\"diskwrite\":0,\"cpu\":0.000929992391200329,\"cpus\":2},{\"mem\":1184732046,\"status\":\"running\",\"netin\":534640684,\"maxdisk\":107374182400,\"vmid\":102,\"disk\":0,\"uptime\":4240311,\"pid\":3099455,\"diskread\":0,\"maxmem\":4294967296,\"name\":\"SurrealDB-IMX\",\"netout\":203278260,\"diskwrite\":0,\"cpus\":4,\"cpu\":0.0251097945624089},{\"mem\":4354751645,\"status\":\"running\",\"netin\":3416159166,\"maxdisk\":137438953472,\"vmid\":100,\"disk\":0,\"pid\":3634760,\"uptime\":6672372,\"diskread\":0,\"tags\":\"critical;poc\",\"netout\":537382446,\"name\":\"Mongo-IMX\",\"maxmem\":8489271296,\"cpu\":0.00743993912960263,\"cpus\":2,\"diskwrite\":0},{\"netin\":488842735,\"maxdisk\":34359738368,\"mem\":20259730,\"status\":\"running\",\"diskread\":0,\"uptime\":2251006,\"pid\":2790383,\"diskwrite\":0,\"cpu\":1.00253179771395,\"cpus\":1,\"maxmem\":536870912,\"name\":\"test-vm\",\"netout\":156959621,\"vmid\":1001,\"disk\":0},{\"mem\":0,\"status\":\"stopped\",\"netin\":0,\"maxdisk\":0,\"vmid\":10002,\"disk\":0,\"diskread\":0,\"uptime\":0,\"cpu\":0,\"cpus\":1,\"diskwrite\":0,\"netout\":0,\"name\":\"VM 10002\",\"maxmem\":536870912},{\"netin\":0,\"maxdisk\":0,\"mem\":0,\"status\":\"stopped\",\"uptime\":0,\"diskread\":0,\"maxmem\":536870912,\"netout\":0,\"name\":\"VM 10004\",\"diskwrite\":0,\"cpus\":1,\"cpu\":0,\"vmid\":10004,\"disk\":0},{\"status\":\"running\",\"mem\":3552741640,\"maxdisk\":107374182400,\"netin\":1749659260,\"disk\":0,\"vmid\":101,\"maxmem\":8589934592,\"netout\":660924872,\"name\":\"test-vault01\",\"diskwrite\":0,\"cpu\":0.0120899010856043,\"cpus\":2,\"uptime\":6129544,\"pid\":1787620,\"diskread\":0},{\"mem\":0,\"status\":\"stopped\",\"netin\":0,\"maxdisk\":0,\"vmid\":10001,\"disk\":0,\"uptime\":0,\"diskread\":0,\"netout\":0,\"name\":\"VM 10001\",\"maxmem\":536870912,\"cpus\":1,\"cpu\":0,\"diskwrite\":0},{\"status\":\"running\",\"mem\":1330852836,\"maxdisk\":34359738368,\"netin\":8680493367,\"disk\":0,\"vmid\":2000,\"diskwrite\":0,\"cpus\":2,\"cpu\":0.00278997717360099,\"maxmem\":2147483648,\"netout\":2341620737,\"name\":\"NewRelic-GitLab\",\"diskread\":0,\"uptime\":4751315,\"pid\":1003406},{\"maxdisk\":107374182400,\"netin\":204913515,\"status\":\"running\",\"mem\":867913913,\"cpus\":4,\"cpu\":0.000464996195600164,\"diskwrite\":0,\"name\":\"PgSQL-Primary\",\"netout\":4644798,\"maxmem\":8589934592,\"diskread\":0,\"pid\":2483630,\"uptime\":2326271,\"disk\":0,\"vmid\":109},{\"mem\":771818201,\"status\":\"running\",\"netin\":1249936521,\"maxdisk\":34359738368,\"vmid\":107,\"disk\":0,\"diskread\":0,\"pid\":1822073,\"uptime\":2484674,\"cpu\":0.00185998478240066,\"cpus\":1,\"diskwrite\":0,\"name\":\"test-mfa\",\"netout\":24041573,\"maxmem\":2147483648}]}\u001b[0m\n",
      "\n",
      "\u001b[1m> Finished chain.\u001b[0m\n",
      "{'next': 'ProxmoxHCM', 'messages': ['How many Vms on node Proxmox-Node-HCM?', {'question': 'How many Vms on node Proxmox-Node-HCM?', 'output': 'There are 21 VMs on the node Proxmox-Node-HCM. \\n'}]}\n"
     ]
    }
   ],
   "source": [
    "state = {\n",
    "    \"next\": \"ProxmoxHCM\",\n",
    "    \"messages\": [\"How many Vms on node Proxmox-Node-HCM?\"]\n",
    "}\n",
    "\n",
    "# Test with node5\n",
    "new_state = Worker_node(state, \"ProxmoxHCM\")\n",
    "print(new_state)  # Output should show the updated state with the \"Node5 response\" appended\n"
   ]
  },
  {
   "cell_type": "code",
   "execution_count": 91,
   "metadata": {},
   "outputs": [],
   "source": [
    "from typing import Literal\n",
    "\n",
    "def proxmox_router(state: ProxmoxTeamState) -> Literal[\"ProxmoxHCM\", \"Node5\", \"end\"]:\n",
    "    next_worker = state[\"next\"]\n",
    "    print(f\"proxmox_router: Current state: {state}\")\n",
    "    if next_worker in proxmox_nodes.keys():\n",
    "        return next_worker\n",
    "    return \"end\""
   ]
  },
  {
   "cell_type": "code",
   "execution_count": 92,
   "metadata": {},
   "outputs": [
    {
     "name": "stdout",
     "output_type": "stream",
     "text": [
      "proxmox_router: Current state: {'next': 'ProxmoxHCM'}\n",
      "ProxmoxHCM\n"
     ]
    }
   ],
   "source": [
    "state = {\"next\": \"ProxmoxHCM\"}\n",
    "result = proxmox_router(state)\n",
    "print(result) "
   ]
  },
  {
   "cell_type": "code",
   "execution_count": 93,
   "metadata": {},
   "outputs": [],
   "source": [
    "from langgraph.graph import END, StateGraph, START\n",
    "from IPython.display import Image, display\n",
    "\n",
    "proxmox_graph = StateGraph(ProxmoxTeamState)\n",
    "\n",
    "for node_name, node_info in proxmox_nodes.items():\n",
    "    proxmox_graph.add_node(node_name, lambda state, node_name=node_name: Worker_node(state, node_name))\n",
    "    proxmox_graph.add_edge(node_name, END)\n",
    "\n",
    "proxmox_graph.add_node(\"supervisor\", supervisor)\n",
    "\n",
    "proxmox_graph.add_conditional_edges(\n",
    "    \"supervisor\",\n",
    "    proxmox_router,\n",
    "    {node_name: node_name for node_name in proxmox_nodes.keys()}\n",
    ")\n",
    "\n",
    "proxmox_graph.add_edge(START, \"supervisor\")\n",
    "chain = proxmox_graph.compile()"
   ]
  },
  {
   "cell_type": "code",
   "execution_count": 94,
   "metadata": {},
   "outputs": [
    {
     "data": {
      "image/jpeg": "[encoded data removed]",
      "text/plain": [
       "<IPython.core.display.Image object>"
      ]
     },
     "metadata": {},
     "output_type": "display_data"
    }
   ],
   "source": [
    "display(Image(chain.get_graph(xray=True).draw_mermaid_png()))"
   ]
  },
  {
   "cell_type": "code",
   "execution_count": 95,
   "metadata": {},
   "outputs": [],
   "source": [
    "from langfuse.callback import CallbackHandler\n",
    "langfuse_handler = CallbackHandler(\n",
    "    public_key=os.getenv('LANGFUSE_PUBLIC_KEY'),\n",
    "    secret_key=os.getenv('LANGFUSE_SECRET_KEY'),\n",
    "    host=os.getenv('LANGFUSE_HOST'),\n",
    ")"
   ]
  },
  {
   "cell_type": "code",
   "execution_count": 96,
   "metadata": {},
   "outputs": [
    {
     "name": "stdout",
     "output_type": "stream",
     "text": [
      "processing_request: Current state: {'messages': [\"list Vms on node 'Proxmox-Node-HCM'\"], 'team_members': [], 'next': None}\n",
      "proxmox_router: Current state: {'messages': [\"list Vms on node 'Proxmox-Node-HCM'\"], 'team_members': ['ProxmoxHCM', 'Node5'], 'next': 'ProxmoxHCM'}\n",
      "ProxmoxHCM / ProxmoxHCM\n",
      "\n",
      "\n",
      "\u001b[1m> Entering new ProxmoxAPIChain chain...\u001b[0m\n",
      "Retrieved Document 0: {\"endpoint\": \"/api2/json/nodes/{node}/qemu\", \"method\": \"get\", \"summary\": \"List Virtual machines (VMs) on a Node\", \"parameters\": [{\"name\": \"node\", \"in\": \"path\", \"required\": true, \"description\": \"Node ID where VMs are located\", \"schema\": {\"type\": \"string\"}}]}\n",
      "Retrieved Document 1: {\"endpoint\": \"/api2/json/nodes/{node}/qemu/{vmid}/config\", \"method\": \"get\", \"summary\": \"Get Virtual machine/Vm Configuration (config file)\", \"parameters\": [{\"name\": \"node\", \"in\": \"path\", \"required\": true, \"description\": \"Node ID where the VM is located\", \"schema\": {\"type\": \"string\"}}, {\"name\": \"vmid\", \"in\": \"path\", \"required\": true, \"description\": \"ID of the VM\", \"schema\": {\"type\": \"integer\"}}, {\"name\": \"current\", \"in\": \"query\", \"required\": false, \"description\": \"Get current values instead of pending values\", \"schema\": {\"type\": \"boolean\"}}]}\n",
      "Retrieved Document 2: {\"endpoint\": \"/api2/json/nodes/{node}/lxc\", \"methods\": \"get\", \"summary\": \"List LXC Containers on a Node\", \"description\": \"List all containers available on a node\", \"parameters\": [{\"name\": \"node\", \"in\": \"path\", \"required\": true, \"description\": \"Node ID where LXC containers are located\", \"schema\": {\"type\": \"string\"}}]}\n",
      "\n",
      "Request info: {\n",
      "    \"api_url\": \"https://ns31418912.ip-54-38-37.eu:8006/api2/json/nodes/Proxmox-Node-HCM/qemu\",\n",
      "    \"request_method\": \"get\",\n",
      "    \"request_body\": {}\n",
      "}\n",
      "API URL: https://ns31418912.ip-54-38-37.eu:8006/api2/json/nodes/Proxmox-Node-HCM/qemu\n",
      "Request method: GET\n",
      "Request body: {}\n",
      "\u001b[38;5;200m\u001b[1;3mStatus: 200 OK\n",
      "Response: {\"data\":[{\"status\":\"running\",\"mem\":3325666879,\"maxdisk\":34359738368,\"netin\":180037739,\"disk\":0,\"vmid\":106,\"cpus\":2,\"cpu\":0.00070931913909195,\"diskwrite\":0,\"netout\":171035508,\"name\":\"Ansible-controller\",\"maxmem\":4294967296,\"diskread\":0,\"pid\":3751193,\"uptime\":4080102},{\"disk\":0,\"vmid\":102,\"netout\":203344107,\"name\":\"SurrealDB-IMX\",\"maxmem\":4294967296,\"cpu\":0.0154381224390601,\"cpus\":4,\"diskwrite\":0,\"pid\":3099455,\"uptime\":4240322,\"diskread\":0,\"status\":\"running\",\"mem\":1184732046,\"maxdisk\":107374182400,\"netin\":534665583},{\"netin\":488844731,\"maxdisk\":34359738368,\"mem\":20487677,\"status\":\"running\",\"diskread\":0,\"pid\":2790383,\"uptime\":2251016,\"cpu\":0.646064561747044,\"cpus\":1,\"diskwrite\":0,\"name\":\"test-vm\",\"netout\":156960060,\"maxmem\":536870912,\"vmid\":1001,\"disk\":0},{\"name\":\"Mongo-IMX\",\"netout\":537382446,\"maxmem\":8489271296,\"cpu\":0.00726009001188231,\"cpus\":2,\"diskwrite\":0,\"pid\":3634760,\"uptime\":6672382,\"diskread\":0,\"tags\":\"critical;poc\",\"disk\":0,\"vmid\":100,\"maxdisk\":137438953472,\"netin\":3416159166,\"status\":\"running\",\"mem\":4354751645},{\"cpu\":0.000813630777193707,\"cpus\":4,\"diskwrite\":0,\"netout\":9576014,\"name\":\"primary-test\",\"maxmem\":8589934592,\"diskread\":0,\"pid\":3793132,\"uptime\":2003948,\"disk\":0,\"vmid\":110,\"maxdisk\":34359738368,\"netin\":936880971,\"status\":\"running\",\"mem\":2307670787},{\"maxdisk\":34359738368,\"netin\":0,\"status\":\"stopped\",\"mem\":0,\"cpu\":0,\"cpus\":2,\"diskwrite\":0,\"netout\":0,\"name\":\"my-vm\",\"maxmem\":2147483648,\"diskread\":0,\"uptime\":0,\"disk\":0,\"vmid\":9999},{\"mem\":7184124216,\"status\":\"running\",\"netin\":201364193,\"maxdisk\":107374182400,\"vmid\":104,\"disk\":0,\"diskread\":0,\"pid\":3748081,\"uptime\":4080790,\"cpus\":4,\"cpu\":0.000751043794332653,\"diskwrite\":0,\"name\":\"PgSQL-IMX\",\"netout\":27469822,\"maxmem\":8589934592},{\"status\":\"running\",\"mem\":2886242861,\"maxdisk\":107374182400,\"netin\":889862623,\"disk\":0,\"vmid\":108,\"diskwrite\":0,\"cpu\":0.00536161819843033,\"cpus\":4,\"maxmem\":8589934592,\"netout\":10103901,\"name\":\"PgSQL-IMX-Replicaset\",\"diskread\":0,\"uptime\":2440388,\"pid\":1998484},{\"status\":\"running\",\"mem\":771818201,\"maxdisk\":34359738368,\"netin\":1249936695,\"disk\":0,\"vmid\":107,\"cpus\":1,\"cpu\":0.00233658069347936,\"diskwrite\":0,\"name\":\"test-mfa\",\"netout\":24041747,\"maxmem\":2147483648,\"diskread\":0,\"pid\":1822073,\"uptime\":2484684},{\"diskwrite\":0,\"cpu\":0,\"cpus\":1,\"maxmem\":536870912,\"name\":\"VM 10001\",\"netout\":0,\"diskread\":0,\"uptime\":0,\"disk\":0,\"vmid\":10001,\"maxdisk\":0,\"netin\":0,\"status\":\"stopped\",\"mem\":0},{\"netin\":1749660848,\"maxdisk\":107374182400,\"mem\":3552741640,\"status\":\"running\",\"uptime\":6129555,\"pid\":1787620,\"diskread\":0,\"maxmem\":8589934592,\"netout\":660926638,\"name\":\"test-vault01\",\"diskwrite\":0,\"cpus\":2,\"cpu\":0.0132684403665435,\"vmid\":101,\"disk\":0},{\"mem\":1330852836,\"status\":\"running\",\"netin\":8680494635,\"maxdisk\":34359738368,\"vmid\":2000,\"disk\":0,\"pid\":1003406,\"uptime\":4751325,\"diskread\":0,\"name\":\"NewRelic-GitLab\",\"netout\":2341624736,\"maxmem\":2147483648,\"cpu\":0.00183588483059093,\"cpus\":2,\"diskwrite\":0},{\"maxdisk\":107374182400,\"netin\":204913515,\"status\":\"running\",\"mem\":867913913,\"name\":\"PgSQL-Primary\",\"netout\":4644798,\"maxmem\":8589934592,\"cpus\":4,\"cpu\":0.000667594483851247,\"diskwrite\":0,\"pid\":2483630,\"uptime\":2326281,\"diskread\":0,\"disk\":0,\"vmid\":109},{\"vmid\":10002,\"disk\":0,\"uptime\":0,\"diskread\":0,\"name\":\"VM 10002\",\"netout\":0,\"maxmem\":536870912,\"cpus\":1,\"cpu\":0,\"diskwrite\":0,\"mem\":0,\"status\":\"stopped\",\"netin\":0,\"maxdisk\":0},{\"mem\":0,\"status\":\"stopped\",\"netin\":0,\"maxdisk\":0,\"vmid\":10004,\"disk\":0,\"diskread\":0,\"uptime\":0,\"diskwrite\":0,\"cpu\":0,\"cpus\":1,\"maxmem\":536870912,\"netout\":0,\"name\":\"VM 10004\"}]}\u001b[0m\n",
      "\n",
      "\u001b[1m> Finished chain.\u001b[0m\n"
     ]
    },
    {
     "data": {
      "text/plain": [
       "{'messages': [\"list Vms on node 'Proxmox-Node-HCM'\",\n",
       "  {'question': \"list Vms on node 'Proxmox-Node-HCM'\",\n",
       "   'output': 'The virtual machines running on the Proxmox-Node-HCM node are: Ansible-controller, SurrealDB-IMX, test-vm, Mongo-IMX, primary-test, my-vm, PgSQL-IMX, PgSQL-IMX-Replicaset, test-mfa, VM 10001, test-vault01, NewRelic-GitLab, PgSQL-Primary, VM 10002, and VM 10004. \\n'}],\n",
       " 'team_members': ['ProxmoxHCM', 'Node5'],\n",
       " 'next': 'ProxmoxHCM'}"
      ]
     },
     "execution_count": 96,
     "metadata": {},
     "output_type": "execute_result"
    }
   ],
   "source": [
    "chain.invoke({\n",
    "            \"messages\": [\"list Vms on node 'Proxmox-Node-HCM'\"],\n",
    "            \"next\": None,\n",
    "            \"team_members\": []\n",
    "        }, config={\"callbacks\": [langfuse_handler]})"
   ]
  }
 ],
 "metadata": {
  "kernelspec": {
   "display_name": "Python 3",
   "language": "python",
   "name": "python3"
  },
  "language_info": {
   "codemirror_mode": {
    "name": "ipython",
    "version": 3
   },
   "file_extension": ".py",
   "mimetype": "text/x-python",
   "name": "python",
   "nbconvert_exporter": "python",
   "pygments_lexer": "ipython3",
   "version": "3.12.3"
  }
 },
 "nbformat": 4,
 "nbformat_minor": 2
}
